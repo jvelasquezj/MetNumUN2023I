{
  "nbformat": 4,
  "nbformat_minor": 0,
  "metadata": {
    "kernelspec": {
      "display_name": "Python 3",
      "language": "python",
      "name": "python3"
    },
    "language_info": {
      "codemirror_mode": {
        "name": "ipython",
        "version": 3
      },
      "file_extension": ".py",
      "mimetype": "text/x-python",
      "name": "python",
      "nbconvert_exporter": "python",
      "pygments_lexer": "ipython3",
      "version": "3.5.2"
    },
    "colab": {
      "provenance": []
    }
  },
  "cells": [
    {
      "cell_type": "markdown",
      "metadata": {
        "id": "h2TxjE6ST95B"
      },
      "source": [
        "# Part I. Root-finding. Newton's iteration."
      ]
    },
    {
      "cell_type": "markdown",
      "metadata": {
        "id": "_qFXBbLXT95F"
      },
      "source": [
        "Write a function which performs Newton's iteration for a given function $f(x)$ with known derivative $f'(x)$. Your function should find the root of $f(x)$ with a predefined absolute accuracy $\\epsilon$."
      ]
    },
    {
      "cell_type": "code",
      "metadata": {
        "collapsed": true,
        "id": "chRy1mRpT95F"
      },
      "source": [
        "def newton_iteration(f, Df, x0, epsilon=1e-5, maxiter=1000):\n",
        "  xn=x0\n",
        "  for n in range(0,maxiter):\n",
        "    print(\"n\",n,\"xn\",xn)\n",
        "    fxn=f(xn)\n",
        "    if abs(fxn)<epsilon:\n",
        "      print('Solución después de',n,'iteraciones')\n",
        "      return xn\n",
        "    Dfxn=Df(xn)\n",
        "    if Dfxn==0:\n",
        "      print('La derivada es igual a 0, no hay solución.')\n",
        "      return none\n",
        "    xn=xn-(fxn/Dfxn)\n",
        "  print('Se excedió el número máximo de iteraciones')\n",
        "  return None"
      ],
      "execution_count": null,
      "outputs": []
    },
    {
      "cell_type": "markdown",
      "metadata": {
        "id": "qGsOVPqwT95G"
      },
      "source": [
        "### Test I.1\n",
        "\n",
        "Test your implementation on a simple example, $f(x) = x^2 - 1$ or similar. (20% of the total grade)"
      ]
    },
    {
      "cell_type": "code",
      "metadata": {
        "collapsed": true,
        "id": "ggan1StnT95H",
        "colab": {
          "base_uri": "https://localhost:8080/"
        },
        "outputId": "0476338e-b563-4539-8965-e2dce2c65b66"
      },
      "source": [
        "f=lambda x: x**2-1\n",
        "Df=lambda x: 2*x\n",
        "newton_iteration(f,Df,x0=27,maxiter=200,epsilon=1e-5)"
      ],
      "execution_count": null,
      "outputs": [
        {
          "output_type": "stream",
          "name": "stdout",
          "text": [
            "n 0 xn 27\n",
            "n 1 xn 13.518518518518519\n",
            "n 2 xn 6.7962455606291226\n",
            "n 3 xn 3.4716928118179133\n",
            "n 4 xn 1.8798683649653458\n",
            "n 5 xn 1.2059102525726746\n",
            "n 6 xn 1.0175796797581285\n",
            "n 7 xn 1.0001518530423443\n",
            "n 8 xn 1.0000000115279226\n",
            "Solución después de 8 iteraciones\n"
          ]
        },
        {
          "output_type": "execute_result",
          "data": {
            "text/plain": [
              "1.0000000115279226"
            ]
          },
          "metadata": {},
          "execution_count": 45
        }
      ]
    },
    {
      "cell_type": "markdown",
      "metadata": {
        "id": "wzkKQBL7T95H"
      },
      "source": [
        "### Test I.2\n",
        "\n",
        "Now consider a function which has a multiple root. Take $f(x) = (x^2 - 1)^2$ as an example. Implement a modified Newton's iteraion,\n",
        "\n",
        "$$\n",
        "x_{n+1} = x_{n} - m \\frac{f(x_n)}{f'(x_n)}\n",
        "$$\n",
        "\n",
        "and vary $m= 1, 2, 3, 4, 5$. Check the number of iterations required for convergence within a fixed $\\epsilon$. Are your observations consistent with the expectation that the convergence is quadratic is $m$ equals the multiplicity of the root, and is linear otherwise? (40% of the total grade)"
      ]
    },
    {
      "cell_type": "code",
      "metadata": {
        "collapsed": true,
        "id": "OIx5yP-9T95I"
      },
      "source": [
        "def newton_iteration_mod(f, Df, x0,m, epsilon=1e-5, maxiter=1000):\n",
        "  xn=x0\n",
        "  for n in range(0,maxiter):\n",
        "    print(\"n:\",n,\"xn:\",xn,\"Parámetro m:\",m)\n",
        "    fxn=f(xn)\n",
        "    if abs(fxn)<epsilon:\n",
        "      print('Solución después de',n,'iteraciones')\n",
        "      return xn\n",
        "    Dfxn=Df(xn)\n",
        "    if Dfxn==0:\n",
        "      print('La derivada es igual a 0, no hay solución.')\n",
        "      return none\n",
        "    xn=xn-m*(fxn/Dfxn)\n",
        "  print('Se excedió el número máximo de iteraciones')\n",
        "  return None"
      ],
      "execution_count": null,
      "outputs": []
    },
    {
      "cell_type": "code",
      "source": [
        "f=lambda x: (x**2-1)**2\n",
        "Df=lambda x: 4*x*(x**2-1)\n",
        "newton_iteration_mod(f,Df,x0=3,m=1,epsilon=1e-5,maxiter=1000)"
      ],
      "metadata": {
        "colab": {
          "base_uri": "https://localhost:8080/"
        },
        "id": "0_z-ozqKfYY7",
        "outputId": "2e97da31-fc3c-4bde-aded-8aad19692a4b"
      },
      "execution_count": null,
      "outputs": [
        {
          "output_type": "stream",
          "name": "stdout",
          "text": [
            "n: 0 xn: 3 Parámetro m: 1\n",
            "n: 1 xn: 2.3333333333333335 Parámetro m: 1\n",
            "n: 2 xn: 1.8571428571428572 Parámetro m: 1\n",
            "n: 3 xn: 1.5274725274725276 Parámetro m: 1\n",
            "n: 4 xn: 1.309273460352597 Parámetro m: 1\n",
            "n: 5 xn: 1.172900690337209 Parámetro m: 1\n",
            "n: 6 xn: 1.0928222931445428 Parámetro m: 1\n",
            "n: 7 xn: 1.0483821848093802 Parámetro m: 1\n",
            "n: 8 xn: 1.0247492943278167 Parámetro m: 1\n",
            "n: 9 xn: 1.0125240806822127 Parámetro m: 1\n",
            "n: 10 xn: 1.0063007684563006 Parámetro m: 1\n",
            "n: 11 xn: 1.0031602470058565 Parámetro m: 1\n",
            "n: 12 xn: 1.001582612427596 Parámetro m: 1\n",
            "n: 13 xn: 1.0007919313899105 Parámetro m: 1\n",
            "Solución después de 13 iteraciones\n"
          ]
        },
        {
          "output_type": "execute_result",
          "data": {
            "text/plain": [
              "1.0007919313899105"
            ]
          },
          "metadata": {},
          "execution_count": 47
        }
      ]
    },
    {
      "cell_type": "markdown",
      "metadata": {
        "id": "T9om2b1lT95I"
      },
      "source": [
        "# Part II. Fixed-point iteration"
      ]
    },
    {
      "cell_type": "markdown",
      "metadata": {
        "id": "urnNPsOKT95J"
      },
      "source": [
        "Consider the following equation:\n",
        "\n",
        "$$\n",
        "\\sqrt{x} = \\cos{x}\n",
        "$$\n",
        "\n",
        "Plot the left-hand side and right-hand side of this equation, and localize the root graphically. Estimate the location of the root by visual inspection of the plot.\n",
        "\n",
        "Write a function which finds the solution using fixed-point iteration up to a predefined accuracy $\\epsilon$. Compare the result to an estimate from a visual inspection.\n",
        "\n",
        "Next, rewrite the fixed-point problem in the form\n",
        "\n",
        "$$\n",
        "x = x - \\alpha f(x)\n",
        "$$\n",
        "\n",
        "where $\\alpha$ is the free parameter. Check the dependence of the number of iterations required for a given $\\epsilon$ on $\\alpha$. Compare your results to an expectation that the optimal value of $\\alpha$ is given by\n",
        "\n",
        "$$\n",
        "\\alpha = \\frac{2}{m + M}\n",
        "$$\n",
        "\n",
        "where $0 < m < |f'(x)| < M$ over the localization interval. (40% of the total grade)"
      ]
    },
    {
      "cell_type": "code",
      "metadata": {
        "collapsed": true,
        "id": "SOlb04UzT95K",
        "colab": {
          "base_uri": "https://localhost:8080/"
        },
        "outputId": "76e84c30-0619-4917-cf77-acfad3637e1e"
      },
      "source": [
        "def f_p_sol(eps = 1e-5, alpha = 1):\n",
        "\n",
        "    prev = 1.5/2\n",
        "    cur = prev - alpha*(np.sqrt(prev) - np.cos(prev))\n",
        "    eps1 = abs(cur - prev)*10\n",
        "    num = 1\n",
        "\n",
        "    while abs(cur - prev)>0.25*eps and cur>0:\n",
        "        prev = cur\n",
        "        cur = cur - alpha*(np.sqrt(cur) - np.cos(cur))\n",
        "        num+=1\n",
        "\n",
        "    return cur, num\n",
        "list1=[1,2,3,4,5,6,10,40]\n",
        "\n",
        "for i in list1:\n",
        "  print(f_p_sol(eps=1e-5,alpha=i))"
      ],
      "execution_count": null,
      "outputs": [
        {
          "output_type": "stream",
          "name": "stdout",
          "text": [
            "(0.6417142154160496, 9)\n",
            "(-0.11760568315221742, 5)\n",
            "(-1.643018936201507, 3)\n",
            "(-6.357974600710566, 3)\n",
            "(-10.240483280461454, 3)\n",
            "(-0.0560192094637062, 1)\n",
            "(-0.593365349106177, 1)\n",
            "(-4.623461396424708, 1)\n"
          ]
        }
      ]
    },
    {
      "cell_type": "markdown",
      "metadata": {
        "id": "WaEqb4_ST95K"
      },
      "source": [
        "# Part III. Newton's fractal.\n",
        "\n",
        "(Not graded).\n",
        "\n",
        "Consider the equation\n",
        "\n",
        "$$\n",
        "x^3 = 1\n",
        "$$\n",
        "\n",
        "It has three solutions in the complex plane, $x_k = \\exp(i\\, 2\\pi k/ 3)$, $k = 0, 1, 2$.\n",
        "\n",
        "The Newton's iterations converge to one of these solutions, depending on the starting point in the complex plane (to converge to a complex-valued solution, the iteration needs a complex-valued starting point).\n",
        "\n",
        "Plot the \\emph{basins of attraction} of these roots on the complex plane of $x$ (i.e., on the plane $\\mathrm{Re}x$ -- $\\mathrm{Im}x$). To this end, make a series of calculations, varying the initial conditions on a grid of points.\n",
        "Color the grid in three colors, according to the root, to which iterations converged."
      ]
    },
    {
      "cell_type": "code",
      "metadata": {
        "collapsed": true,
        "id": "WkOcvzD5T95K"
      },
      "source": [
        "import cmath\n",
        "\n",
        "def newton_fractal(x0):\n",
        "\n",
        "    for _ in range(1000):\n",
        "        fx = x0**3 - 1\n",
        "        fpx = 3 * x0**2\n",
        "\n",
        "        if abs(fpx) < 1e-5:\n",
        "            return None\n",
        "        nx = x0 - fx / fpx\n",
        "\n",
        "        if abs(nx - x0) <= 1e-5:\n",
        "            break\n",
        "\n",
        "        x0 = nx\n",
        "\n",
        "    roots = [cmath.exp(complex(0, 2 * np.pi * k / 3)) for k in range(3)]\n",
        "    distances = [abs(root - nx) for root in roots]\n",
        "    closest_root = min(range(3), key=lambda i: distances[i])\n",
        "\n",
        "    return closest_root + 1\n"
      ],
      "execution_count": null,
      "outputs": []
    },
    {
      "cell_type": "code",
      "source": [
        "import numpy as np\n",
        "import matplotlib.pyplot as plt\n",
        "import cmath\n",
        "\n",
        "def newton_fractal(z):\n",
        "    max_iterations = 50\n",
        "    threshold = 1e-6\n",
        "\n",
        "    for i in range(max_iterations):\n",
        "        z = z - (z**3 - 1) / (3 * z**2)\n",
        "        if abs(z**3 - 1) < threshold:\n",
        "            return 1 if abs(z - 1) < threshold else 2\n",
        "\n",
        "    return 0\n",
        "\n",
        "x = np.linspace(-2, 2, 200)\n",
        "y = np.linspace(-2, 2, 200)\n",
        "\n",
        "fractal = np.zeros((len(x), len(y)))\n",
        "\n",
        "for i, x0 in enumerate(x):\n",
        "    for j, y0 in enumerate(y):\n",
        "        c = complex(x0, y0)\n",
        "        fractal[i, j] = newton_fractal(c)\n",
        "\n",
        "plt.imshow(fractal.T, cmap='cool', extent=[-2, 2, -2, 2])\n",
        "plt.colorbar()\n",
        "\n",
        "roots = [cmath.exp(2j * np.pi * k / 3) for k in range(3)]\n",
        "roots_x = [root.real for root in roots]\n",
        "roots_y = [root.imag for root in roots]\n",
        "plt.scatter(roots_x, roots_y, c='g', marker='o')\n",
        "\n",
        "plt.show()"
      ],
      "metadata": {
        "id": "73D52chthytO",
        "colab": {
          "base_uri": "https://localhost:8080/",
          "height": 435
        },
        "outputId": "ac638069-1578-4cf9-8c66-82385663573b"
      },
      "execution_count": 11,
      "outputs": [
        {
          "output_type": "display_data",
          "data": {
            "text/plain": [
              "<Figure size 640x480 with 2 Axes>"
            ],
            "image/png": "[encoded data removed]"
          },
          "metadata": {}
        }
      ]
    }
  ]
}