{
  "cells": [
    {
      "cell_type": "code",
      "execution_count": 1,
      "metadata": {
        "colab": {
          "base_uri": "https://localhost:8080/"
        },
        "id": "h8omj95ZTVi-",
        "outputId": "ccd4c3b8-81da-4917-93d7-fa27b9157205"
      },
      "outputs": [
        {
          "output_type": "stream",
          "name": "stdout",
          "text": [
            "Looking in indexes: https://pypi.org/simple, https://us-python.pkg.dev/colab-wheels/public/simple/\n",
            "Collecting fortran-magic\n",
            "  Downloading fortran_magic-0.7-py3-none-any.whl (9.6 kB)\n",
            "Requirement already satisfied: numpy in /usr/local/lib/python3.8/dist-packages (from fortran-magic) (1.22.4)\n",
            "Requirement already satisfied: ipython in /usr/local/lib/python3.8/dist-packages (from fortran-magic) (7.9.0)\n",
            "Requirement already satisfied: decorator in /usr/local/lib/python3.8/dist-packages (from ipython->fortran-magic) (4.4.2)\n",
            "Requirement already satisfied: backcall in /usr/local/lib/python3.8/dist-packages (from ipython->fortran-magic) (0.2.0)\n",
            "Collecting jedi>=0.10\n",
            "  Downloading jedi-0.18.2-py2.py3-none-any.whl (1.6 MB)\n",
            "\u001b[2K     \u001b[90m━━━━━━━━━━━━━━━━━━━━━━━━━━━━━━━━━━━━━━━━\u001b[0m \u001b[32m1.6/1.6 MB\u001b[0m \u001b[31m24.7 MB/s\u001b[0m eta \u001b[36m0:00:00\u001b[0m\n",
            "\u001b[?25hRequirement already satisfied: traitlets>=4.2 in /usr/local/lib/python3.8/dist-packages (from ipython->fortran-magic) (5.7.1)\n",
            "Requirement already satisfied: prompt-toolkit<2.1.0,>=2.0.0 in /usr/local/lib/python3.8/dist-packages (from ipython->fortran-magic) (2.0.10)\n",
            "Requirement already satisfied: pygments in /usr/local/lib/python3.8/dist-packages (from ipython->fortran-magic) (2.6.1)\n",
            "Requirement already satisfied: pexpect in /usr/local/lib/python3.8/dist-packages (from ipython->fortran-magic) (4.8.0)\n",
            "Requirement already satisfied: setuptools>=18.5 in /usr/local/lib/python3.8/dist-packages (from ipython->fortran-magic) (57.4.0)\n",
            "Requirement already satisfied: pickleshare in /usr/local/lib/python3.8/dist-packages (from ipython->fortran-magic) (0.7.5)\n",
            "Requirement already satisfied: parso<0.9.0,>=0.8.0 in /usr/local/lib/python3.8/dist-packages (from jedi>=0.10->ipython->fortran-magic) (0.8.3)\n",
            "Requirement already satisfied: wcwidth in /usr/local/lib/python3.8/dist-packages (from prompt-toolkit<2.1.0,>=2.0.0->ipython->fortran-magic) (0.2.6)\n",
            "Requirement already satisfied: six>=1.9.0 in /usr/local/lib/python3.8/dist-packages (from prompt-toolkit<2.1.0,>=2.0.0->ipython->fortran-magic) (1.15.0)\n",
            "Requirement already satisfied: ptyprocess>=0.5 in /usr/local/lib/python3.8/dist-packages (from pexpect->ipython->fortran-magic) (0.7.0)\n",
            "Installing collected packages: jedi, fortran-magic\n",
            "Successfully installed fortran-magic-0.7 jedi-0.18.2\n"
          ]
        }
      ],
      "source": [
        " pip install -U fortran-magic"
      ]
    },
    {
      "cell_type": "code",
      "execution_count": 2,
      "metadata": {
        "colab": {
          "base_uri": "https://localhost:8080/",
          "height": 183
        },
        "id": "FrAt48DtiXb-",
        "outputId": "77c96ce4-e1d9-4b08-8ac3-1c0a7fab61a0"
      },
      "outputs": [
        {
          "output_type": "stream",
          "name": "stderr",
          "text": [
            "/usr/local/lib/python3.8/dist-packages/fortranmagic.py:147: UserWarning: get_ipython_cache_dir has moved to the IPython.paths module since IPython 4.0.\n",
            "  self._lib_dir = os.path.join(get_ipython_cache_dir(), 'fortran')\n"
          ]
        },
        {
          "output_type": "display_data",
          "data": {
            "application/javascript": [
              "new Promise(function(resolve, reject) {\n",
              "\tvar script = document.createElement(\"script\");\n",
              "\tscript.onload = resolve;\n",
              "\tscript.onerror = reject;\n",
              "\tscript.src = \"https://raw.github.com/marijnh/CodeMirror/master/mode/fortran/fortran.js\";\n",
              "\tdocument.head.appendChild(script);\n",
              "}).then(() => {\n",
              "IPython.config.cell_magic_highlight['magic_fortran'] = {'reg':[/^%%fortran/]};\n",
              "});"
            ]
          },
          "metadata": {}
        },
        {
          "output_type": "stream",
          "name": "stdout",
          "text": [
            "['2017-01-03' '2017-01-04' '2017-01-05' '2017-01-06' '2017-01-09'\n",
            " '2017-01-10' '2017-01-11' '2017-01-12' '2017-01-13' '2017-01-17'\n",
            " '2017-01-18' '2017-01-19' '2017-01-20' '2017-01-23' '2017-01-24'\n",
            " '2017-01-25' '2017-01-26' '2017-01-27' '2017-01-30' '2017-01-31'\n",
            " '2017-02-01']\n",
            "['2017-01-06' '2017-01-07' '2017-01-08']\n",
            "[10 15 20]\n"
          ]
        }
      ],
      "source": [
        "%matplotlib inline\n",
        "%load_ext fortranmagic\n",
        "\n",
        "import sys; sys.path.append('..')\n",
        "import pandas as pd\n",
        "import numpy as np\n",
        "import matplotlib as mpl\n",
        "import matplotlib.pyplot as plt\n",
        "import seaborn as sns\n",
        "\n",
        "mpl.rc('figure', figsize=(12, 7))\n",
        "\n",
        "ran_the_first_cell = True\n",
        "\n",
        "#pd.to_datetime sirve para pasar strings de fechas desde objetos a datetime\n",
        "#Permite hacer operaciones en DF\n",
        "jan2017 = pd.to_datetime(['2017-01-03 00:00:00+00:00',\n",
        " '2017-01-04 00:00:00+00:00',\n",
        " '2017-01-05 00:00:00+00:00',\n",
        " '2017-01-06 00:00:00+00:00',\n",
        " '2017-01-09 00:00:00+00:00',\n",
        " '2017-01-10 00:00:00+00:00',\n",
        " '2017-01-11 00:00:00+00:00',\n",
        " '2017-01-12 00:00:00+00:00',\n",
        " '2017-01-13 00:00:00+00:00',\n",
        " '2017-01-17 00:00:00+00:00',\n",
        " '2017-01-18 00:00:00+00:00',\n",
        " '2017-01-19 00:00:00+00:00',\n",
        " '2017-01-20 00:00:00+00:00',\n",
        " '2017-01-23 00:00:00+00:00',\n",
        " '2017-01-24 00:00:00+00:00',\n",
        " '2017-01-25 00:00:00+00:00',\n",
        " '2017-01-26 00:00:00+00:00',\n",
        " '2017-01-27 00:00:00+00:00',\n",
        " '2017-01-30 00:00:00+00:00',\n",
        " '2017-01-31 00:00:00+00:00',\n",
        " '2017-02-01 00:00:00+00:00'])\n",
        "\n",
        "calendar = jan2017.values.astype('datetime64[D]')\n",
        "#Te entrega valores organizados de fechas por días \n",
        "print(calendar)\n",
        "\n",
        "event_dates = pd.to_datetime(['2017-01-06 00:00:00+00:00', \n",
        "                             '2017-01-07 00:00:00+00:00', \n",
        "                             '2017-01-08 00:00:00+00:00']).values.astype('datetime64[D]')\n",
        "\n",
        "print(event_dates)\n",
        "event_values = np.array([10, 15, 20])\n",
        "\n",
        "print(event_values)"
      ]
    },
    {
      "cell_type": "markdown",
      "metadata": {
        "id": "lHm410FBiXcC"
      },
      "source": [
        "<center>\n",
        "  <h1>The PyData Toolbox</h1>\n",
        "  <h3>Scott Sanderson (Twitter: @scottbsanderson, GitHub: ssanderson)</h3>\n",
        "  <h3><a href=\"https://github.com/ssanderson/pydata-toolbox\">https://github.com/ssanderson/pydata-toolbox</a></h3>\n",
        "</center>"
      ]
    },
    {
      "cell_type": "markdown",
      "metadata": {
        "collapsed": true,
        "id": "0CXHsFMBiXcD"
      },
      "source": [
        "# About Me:\n",
        "\n",
        "<img src=\"https://raw.githubusercontent.com/ssanderson/pydata-toolbox/master/notebooks/images/me.jpg\" alt=\"Drawing\" style=\"width: 300px;\"/>\n",
        "\n",
        "- Senior Engineer at [Quantopian](www.quantopian.com)\n",
        "- Background in Mathematics and Philosophy\n",
        "- **Twitter:** [@scottbsanderson](https://twitter.com/scottbsanderson)\n",
        "- **GitHub:** [ssanderson](github.com/ssanderson)"
      ]
    },
    {
      "cell_type": "markdown",
      "metadata": {
        "id": "tcOO-3C8iXcE"
      },
      "source": [
        "## Outline\n",
        "\n",
        "- Built-in Data Structures\n",
        "- Numpy `array`\n",
        "- Pandas `Series`/`DataFrame`\n",
        "- Plotting and \"Real-World\" Analyses"
      ]
    },
    {
      "cell_type": "markdown",
      "metadata": {
        "id": "qGj-c9CliXcE"
      },
      "source": [
        "# Data Structures"
      ]
    },
    {
      "cell_type": "markdown",
      "metadata": {
        "id": "Nsn-QHmCiXcF"
      },
      "source": [
        "> Rule 5. Data dominates. If you've chosen the right data structures and organized things well, the algorithms\n",
        "will almost always be self-evident. Data structures, not algorithms, are central to programming.\n",
        "\n",
        "- *Notes on Programming in C*, by Rob Pike."
      ]
    },
    {
      "cell_type": "markdown",
      "metadata": {
        "id": "_yhFg_rXiXcF"
      },
      "source": [
        "# Lists"
      ]
    },
    {
      "cell_type": "code",
      "execution_count": 3,
      "metadata": {
        "collapsed": true,
        "id": "97QvmzbqiXcG"
      },
      "outputs": [],
      "source": [
        "assert ran_the_first_cell, \"Oh noes!\""
      ]
    },
    {
      "cell_type": "code",
      "execution_count": 4,
      "metadata": {
        "colab": {
          "base_uri": "https://localhost:8080/"
        },
        "id": "nhIZgNXLiXcG",
        "outputId": "13bfc450-56bb-4e4d-a0f0-af85958e9dea"
      },
      "outputs": [
        {
          "output_type": "execute_result",
          "data": {
            "text/plain": [
              "[1, 'two', 3.0, 4, 5.0, 'six']"
            ]
          },
          "metadata": {},
          "execution_count": 4
        }
      ],
      "source": [
        "l = [1, 'two', 3.0, 4, 5.0, \"six\"]\n",
        "l"
      ]
    },
    {
      "cell_type": "code",
      "execution_count": 5,
      "metadata": {
        "colab": {
          "base_uri": "https://localhost:8080/"
        },
        "id": "Cjj8bfDAiXcH",
        "outputId": "2373e599-46ec-4267-a0f9-9206d1ce16e0"
      },
      "outputs": [
        {
          "output_type": "stream",
          "name": "stdout",
          "text": [
            "first: 1\n",
            "second: two\n"
          ]
        }
      ],
      "source": [
        "# Lists can be indexed like C-style arrays.\n",
        "first = l[0]\n",
        "second = l[1]\n",
        "print(\"first:\", first)\n",
        "print(\"second:\", second)"
      ]
    },
    {
      "cell_type": "code",
      "execution_count": 6,
      "metadata": {
        "colab": {
          "base_uri": "https://localhost:8080/"
        },
        "id": "cVozluPbiXcH",
        "outputId": "5269e34d-8729-447b-aa0d-12fff918d9b3"
      },
      "outputs": [
        {
          "output_type": "stream",
          "name": "stdout",
          "text": [
            "last: six\n",
            "second to last: 5.0\n"
          ]
        }
      ],
      "source": [
        "# Negative indexing gives elements relative to the end of the list.\n",
        "last = l[-1]\n",
        "penultimate = l[-2]\n",
        "print(\"last:\", last)\n",
        "print(\"second to last:\", penultimate)"
      ]
    },
    {
      "cell_type": "code",
      "execution_count": 7,
      "metadata": {
        "colab": {
          "base_uri": "https://localhost:8080/"
        },
        "id": "PTqqm8MeiXcI",
        "outputId": "6a6570e8-4e09-42b7-f758-e571370bd7eb"
      },
      "outputs": [
        {
          "output_type": "execute_result",
          "data": {
            "text/plain": [
              "['two', 3.0]"
            ]
          },
          "metadata": {},
          "execution_count": 7
        }
      ],
      "source": [
        "# Lists can also be sliced, which makes a copy of elements between \n",
        "# start (inclusive) and stop (exclusive)\n",
        "sublist = l[1:3]\n",
        "sublist"
      ]
    },
    {
      "cell_type": "code",
      "execution_count": 8,
      "metadata": {
        "colab": {
          "base_uri": "https://localhost:8080/"
        },
        "id": "ugUUXXUViXcI",
        "outputId": "3420c4db-8fff-4786-d69c-0c6be0d1d82e"
      },
      "outputs": [
        {
          "output_type": "execute_result",
          "data": {
            "text/plain": [
              "[1, 'two', 3.0]"
            ]
          },
          "metadata": {},
          "execution_count": 8
        }
      ],
      "source": [
        "# l[:N] is equivalent to l[0:N].\n",
        "first_three = l[:3]\n",
        "first_three"
      ]
    },
    {
      "cell_type": "code",
      "execution_count": 9,
      "metadata": {
        "colab": {
          "base_uri": "https://localhost:8080/"
        },
        "id": "otoRjbK7iXcI",
        "outputId": "9c0998af-238a-468e-be1e-b17c7b1784ae"
      },
      "outputs": [
        {
          "output_type": "execute_result",
          "data": {
            "text/plain": [
              "[4, 5.0, 'six']"
            ]
          },
          "metadata": {},
          "execution_count": 9
        }
      ],
      "source": [
        "# l[3:] is equivalent to l[3:len(l)].\n",
        "after_three = l[3:]\n",
        "after_three"
      ]
    },
    {
      "cell_type": "code",
      "execution_count": 10,
      "metadata": {
        "colab": {
          "base_uri": "https://localhost:8080/"
        },
        "id": "2ZndPPspiXcJ",
        "outputId": "8e81087c-02dd-4057-e241-14b1039bb9b0"
      },
      "outputs": [
        {
          "output_type": "execute_result",
          "data": {
            "text/plain": [
              "['b', 'd', 'f']"
            ]
          },
          "metadata": {},
          "execution_count": 10
        }
      ],
      "source": [
        "# There's also a third parameter, \"step\", which gets every Nth element.\n",
        "l = ['a', 'b', 'c', 'd', 'e', 'f', 'g','h']\n",
        "l[1:7:2]"
      ]
    },
    {
      "cell_type": "code",
      "execution_count": 11,
      "metadata": {
        "colab": {
          "base_uri": "https://localhost:8080/"
        },
        "id": "dt2OMhnZiXcJ",
        "outputId": "9e86ab98-b580-4abb-cbe4-4d8e426e4f53"
      },
      "outputs": [
        {
          "output_type": "execute_result",
          "data": {
            "text/plain": [
              "['h', 'g', 'f', 'e', 'd', 'c', 'b', 'a']"
            ]
          },
          "metadata": {},
          "execution_count": 11
        }
      ],
      "source": [
        "# This is a cute way to reverse a list.\n",
        "l[::-1]"
      ]
    },
    {
      "cell_type": "code",
      "execution_count": 12,
      "metadata": {
        "colab": {
          "base_uri": "https://localhost:8080/"
        },
        "id": "uDIdawFwiXcJ",
        "outputId": "4de8f4cc-49dc-4e98-89f7-106ffcf5df3c"
      },
      "outputs": [
        {
          "output_type": "stream",
          "name": "stdout",
          "text": [
            "Before: [1, 2, 3, 4, 5]\n",
            "After: [1, 2, 3, 4, 5, 'six']\n"
          ]
        }
      ],
      "source": [
        "# Lists can be grown efficiently (in O(1) amortized time).\n",
        "l = [1, 2, 3, 4, 5]\n",
        "print(\"Before:\", l)\n",
        "l.append('six')\n",
        "print(\"After:\", l)"
      ]
    },
    {
      "cell_type": "code",
      "execution_count": 13,
      "metadata": {
        "colab": {
          "base_uri": "https://localhost:8080/"
        },
        "id": "OIhO0xxUiXcK",
        "outputId": "d6d529a5-23e2-43b6-e138-6033048128b4"
      },
      "outputs": [
        {
          "output_type": "execute_result",
          "data": {
            "text/plain": [
              "[2, 4, 6, 8, 10]"
            ]
          },
          "metadata": {},
          "execution_count": 13
        }
      ],
      "source": [
        "# Comprehensions let us perform elementwise computations.\n",
        "l = [1, 2, 3, 4, 5]\n",
        "[x * 2 for x in l]"
      ]
    },
    {
      "cell_type": "markdown",
      "metadata": {
        "id": "gh1Uw4KtiXcK"
      },
      "source": [
        "## Review: Python Lists\n",
        "\n",
        "- Zero-indexed sequence of arbitrary Python values.\n",
        "- Slicing syntax: `l[start:stop:step]` copies elements at regular intervals from `start` to `stop`.\n",
        "- Efficient (`O(1)`) appends and removes from end.\n",
        "- Comprehension syntax: `[f(x) for x in l if cond(x)]`."
      ]
    },
    {
      "cell_type": "markdown",
      "metadata": {
        "id": "KPeFQQs5iXcK"
      },
      "source": [
        "# Dictionaries"
      ]
    },
    {
      "cell_type": "code",
      "execution_count": 14,
      "metadata": {
        "colab": {
          "base_uri": "https://localhost:8080/"
        },
        "id": "55GAxN3AiXcL",
        "outputId": "2f337b6a-8bdc-4051-c780-b4e797be4777"
      },
      "outputs": [
        {
          "output_type": "execute_result",
          "data": {
            "text/plain": [
              "{'David': 'Hume', 'Immanuel': 'Kant', 'Bertrand': 'Russell'}"
            ]
          },
          "metadata": {},
          "execution_count": 14
        }
      ],
      "source": [
        "# Dictionaries are key-value mappings.\n",
        "philosophers = {'David': 'Hume', 'Immanuel': 'Kant', 'Bertrand': 'Russell'}\n",
        "philosophers"
      ]
    },
    {
      "cell_type": "code",
      "execution_count": 15,
      "metadata": {
        "colab": {
          "base_uri": "https://localhost:8080/"
        },
        "id": "V3JS2kHSiXcL",
        "outputId": "df2b48d4-1d63-4023-9d2e-af0175a24189"
      },
      "outputs": [
        {
          "output_type": "execute_result",
          "data": {
            "text/plain": [
              "{'David': 'Hume',\n",
              " 'Immanuel': 'Kant',\n",
              " 'Bertrand': 'Russell',\n",
              " 'Ludwig': 'Wittgenstein'}"
            ]
          },
          "metadata": {},
          "execution_count": 15
        }
      ],
      "source": [
        "# Like lists, dictionaries are size-mutable.\n",
        "philosophers['Ludwig'] = 'Wittgenstein'\n",
        "philosophers"
      ]
    },
    {
      "cell_type": "code",
      "execution_count": 16,
      "metadata": {
        "colab": {
          "base_uri": "https://localhost:8080/"
        },
        "id": "YRGePTociXcL",
        "outputId": "6ee114c5-fdb3-4b3b-81df-e7b6248d08ac"
      },
      "outputs": [
        {
          "output_type": "execute_result",
          "data": {
            "text/plain": [
              "{'Immanuel': 'Kant', 'Bertrand': 'Russell', 'Ludwig': 'Wittgenstein'}"
            ]
          },
          "metadata": {},
          "execution_count": 16
        }
      ],
      "source": [
        "del philosophers['David']\n",
        "philosophers"
      ]
    },
    {
      "cell_type": "code",
      "execution_count": 17,
      "metadata": {
        "colab": {
          "base_uri": "https://localhost:8080/",
          "height": 190
        },
        "id": "2E4f_6pQiXcM",
        "outputId": "7a856691-bd0c-4141-c82c-b97cb3feda74"
      },
      "outputs": [
        {
          "output_type": "error",
          "ename": "TypeError",
          "evalue": "ignored",
          "traceback": [
            "\u001b[0;31m---------------------------------------------------------------------------\u001b[0m",
            "\u001b[0;31mTypeError\u001b[0m                                 Traceback (most recent call last)",
            "\u001b[0;32m<ipython-input-17-042d882bd6b0>\u001b[0m in \u001b[0;36m<module>\u001b[0;34m\u001b[0m\n\u001b[1;32m      1\u001b[0m \u001b[0;31m# No slicing.\u001b[0m\u001b[0;34m\u001b[0m\u001b[0;34m\u001b[0m\u001b[0;34m\u001b[0m\u001b[0m\n\u001b[0;32m----> 2\u001b[0;31m \u001b[0mphilosophers\u001b[0m\u001b[0;34m[\u001b[0m\u001b[0;34m'Bertrand'\u001b[0m\u001b[0;34m:\u001b[0m\u001b[0;34m'Immanuel'\u001b[0m\u001b[0;34m]\u001b[0m\u001b[0;34m\u001b[0m\u001b[0;34m\u001b[0m\u001b[0m\n\u001b[0m",
            "\u001b[0;31mTypeError\u001b[0m: unhashable type: 'slice'"
          ]
        }
      ],
      "source": [
        "# No slicing.\n",
        "philosophers['Bertrand':'Immanuel']"
      ]
    },
    {
      "cell_type": "markdown",
      "metadata": {
        "id": "xvN8eqK2iXcM"
      },
      "source": [
        "## Review: Python Dictionaries\n",
        "\n",
        "- Unordered key-value mapping from (almost) arbitrary keys to arbitrary values.\n",
        "- Efficient (`O(1)`) lookup, insertion, and deletion.\n",
        "- No slicing (would require a notion of order)."
      ]
    },
    {
      "cell_type": "markdown",
      "metadata": {
        "id": "3C9gwhYDiXcM"
      },
      "source": [
        "<center><img src=\"https://raw.githubusercontent.com/ssanderson/pydata-toolbox/master/notebooks/images/pacino.gif\" alt=\"Drawing\" style=\"width: 100%;\"/></center>\n"
      ]
    },
    {
      "cell_type": "code",
      "execution_count": 18,
      "metadata": {
        "collapsed": true,
        "id": "eqFZgJyyiXcM"
      },
      "outputs": [],
      "source": [
        "# Suppose we have some matrices...\n",
        "a = [[1, 2, 3],\n",
        "     [2, 3, 4],\n",
        "     [5, 6, 7],\n",
        "     [1, 1, 1]]\n",
        "\n",
        "b = [[1, 2, 3, 4],\n",
        "     [2, 3, 4, 5]]"
      ]
    },
    {
      "cell_type": "code",
      "execution_count": 19,
      "metadata": {
        "collapsed": true,
        "id": "TfFqABAMiXcM"
      },
      "outputs": [],
      "source": [
        "def matmul(A, B):\n",
        "    \"\"\"Multiply matrix A by matrix B.\"\"\"\n",
        "    rows_out = len(A)\n",
        "    cols_out = len(B[0])\n",
        "    out = [[0 for col in range(cols_out)] for row in range(rows_out)]\n",
        "    \n",
        "    for i in range(rows_out):\n",
        "        for j in range(cols_out):\n",
        "            for k in range(len(B)):\n",
        "                out[i][j] += A[i][k] * B[k][j]\n",
        "    return out"
      ]
    },
    {
      "cell_type": "markdown",
      "metadata": {
        "id": "Yuee_jmYiXcN"
      },
      "source": [
        "<center><img src=\"https://raw.githubusercontent.com/ssanderson/pydata-toolbox/master/notebooks/images/gross.gif\" alt=\"Drawing\" style=\"width: 50%;\"/></center>\n"
      ]
    },
    {
      "cell_type": "code",
      "execution_count": 20,
      "metadata": {
        "colab": {
          "base_uri": "https://localhost:8080/"
        },
        "id": "PerN-NDRiXcN",
        "outputId": "5b5ae83b-735d-4ede-b746-79ab9a3a8b11"
      },
      "outputs": [
        {
          "output_type": "stream",
          "name": "stdout",
          "text": [
            "CPU times: user 96 µs, sys: 0 ns, total: 96 µs\n",
            "Wall time: 119 µs\n"
          ]
        },
        {
          "output_type": "execute_result",
          "data": {
            "text/plain": [
              "[[5, 8, 11, 14], [8, 13, 18, 23], [17, 28, 39, 50], [3, 5, 7, 9]]"
            ]
          },
          "metadata": {},
          "execution_count": 20
        }
      ],
      "source": [
        "%%time\n",
        "\n",
        "matmul(a, b)"
      ]
    },
    {
      "cell_type": "markdown",
      "metadata": {
        "id": "AAcF7qrOv8KF"
      },
      "source": [
        "**My own example 0 - cpu info**"
      ]
    },
    {
      "cell_type": "code",
      "execution_count": 21,
      "metadata": {
        "colab": {
          "base_uri": "https://localhost:8080/"
        },
        "id": "BQl1PQDJwDkc",
        "outputId": "7fb174a8-de91-444f-984c-df66ed2d3af9"
      },
      "outputs": [
        {
          "output_type": "stream",
          "name": "stdout",
          "text": [
            "processor\t: 0\n",
            "vendor_id\t: GenuineIntel\n",
            "cpu family\t: 6\n",
            "model\t\t: 79\n",
            "model name\t: Intel(R) Xeon(R) CPU @ 2.20GHz\n",
            "stepping\t: 0\n",
            "microcode\t: 0xffffffff\n",
            "cpu MHz\t\t: 2200.192\n",
            "cache size\t: 56320 KB\n",
            "physical id\t: 0\n",
            "siblings\t: 2\n",
            "core id\t\t: 0\n",
            "cpu cores\t: 1\n",
            "apicid\t\t: 0\n",
            "initial apicid\t: 0\n",
            "fpu\t\t: yes\n",
            "fpu_exception\t: yes\n",
            "cpuid level\t: 13\n",
            "wp\t\t: yes\n",
            "flags\t\t: fpu vme de pse tsc msr pae mce cx8 apic sep mtrr pge mca cmov pat pse36 clflush mmx fxsr sse sse2 ss ht syscall nx pdpe1gb rdtscp lm constant_tsc rep_good nopl xtopology nonstop_tsc cpuid tsc_known_freq pni pclmulqdq ssse3 fma cx16 pcid sse4_1 sse4_2 x2apic movbe popcnt aes xsave avx f16c rdrand hypervisor lahf_lm abm 3dnowprefetch invpcid_single ssbd ibrs ibpb stibp fsgsbase tsc_adjust bmi1 hle avx2 smep bmi2 erms invpcid rtm rdseed adx smap xsaveopt arat md_clear arch_capabilities\n",
            "bugs\t\t: cpu_meltdown spectre_v1 spectre_v2 spec_store_bypass l1tf mds swapgs taa mmio_stale_data retbleed\n",
            "bogomips\t: 4400.38\n",
            "clflush size\t: 64\n",
            "cache_alignment\t: 64\n",
            "address sizes\t: 46 bits physical, 48 bits virtual\n",
            "power management:\n",
            "\n",
            "processor\t: 1\n",
            "vendor_id\t: GenuineIntel\n",
            "cpu family\t: 6\n",
            "model\t\t: 79\n",
            "model name\t: Intel(R) Xeon(R) CPU @ 2.20GHz\n",
            "stepping\t: 0\n",
            "microcode\t: 0xffffffff\n",
            "cpu MHz\t\t: 2200.192\n",
            "cache size\t: 56320 KB\n",
            "physical id\t: 0\n",
            "siblings\t: 2\n",
            "core id\t\t: 0\n",
            "cpu cores\t: 1\n",
            "apicid\t\t: 1\n",
            "initial apicid\t: 1\n",
            "fpu\t\t: yes\n",
            "fpu_exception\t: yes\n",
            "cpuid level\t: 13\n",
            "wp\t\t: yes\n",
            "flags\t\t: fpu vme de pse tsc msr pae mce cx8 apic sep mtrr pge mca cmov pat pse36 clflush mmx fxsr sse sse2 ss ht syscall nx pdpe1gb rdtscp lm constant_tsc rep_good nopl xtopology nonstop_tsc cpuid tsc_known_freq pni pclmulqdq ssse3 fma cx16 pcid sse4_1 sse4_2 x2apic movbe popcnt aes xsave avx f16c rdrand hypervisor lahf_lm abm 3dnowprefetch invpcid_single ssbd ibrs ibpb stibp fsgsbase tsc_adjust bmi1 hle avx2 smep bmi2 erms invpcid rtm rdseed adx smap xsaveopt arat md_clear arch_capabilities\n",
            "bugs\t\t: cpu_meltdown spectre_v1 spectre_v2 spec_store_bypass l1tf mds swapgs taa mmio_stale_data retbleed\n",
            "bogomips\t: 4400.38\n",
            "clflush size\t: 64\n",
            "cache_alignment\t: 64\n",
            "address sizes\t: 46 bits physical, 48 bits virtual\n",
            "power management:\n",
            "\n"
          ]
        }
      ],
      "source": [
        "!cat /proc/cpuinfo"
      ]
    },
    {
      "cell_type": "markdown",
      "metadata": {
        "id": "EFlf_ZLgsUEo"
      },
      "source": [
        "**My own example 1 - Changing in matmul(A, B) Python len(B) (# of rows of B) for len(A[0]) (# of columns of A)**"
      ]
    },
    {
      "cell_type": "code",
      "execution_count": 22,
      "metadata": {
        "id": "T71BRNaG3fev"
      },
      "outputs": [],
      "source": [
        "def matmul(A, B):\n",
        "    #len(A) entrega la dimensión de filas\n",
        "    rows_out = len(A)\n",
        "    #len(B[0]) entrega la dimensión de columnas\n",
        "    cols_out = len(B[0])\n",
        "    #Esto define la matriz de ceros\n",
        "    out = [[0 for col in range(cols_out)] for row in range(rows_out)]\n",
        "    #len(B) indica la dimensión en filas\n",
        "    for i in range(rows_out):\n",
        "        for j in range(cols_out):\n",
        "            for k in range(len(B)):\n",
        "                out[i][j] += A[i][k] * B[k][j]\n",
        "    return out"
      ]
    },
    {
      "cell_type": "markdown",
      "metadata": {
        "id": "8sLiMfvlUJzp"
      },
      "source": [
        "**My own example 2 - Verifiying error with in matmul(A, B) Python with the original matrices when changing len(B) (# of rows of B) for len(A[0]) (# of colums of A)**"
      ]
    },
    {
      "cell_type": "code",
      "execution_count": 23,
      "metadata": {
        "colab": {
          "base_uri": "https://localhost:8080/",
          "height": 338
        },
        "id": "HjyOAFQW3gc3",
        "outputId": "e5e108e7-2d19-49e3-b2b5-538308016ece"
      },
      "outputs": [
        {
          "output_type": "error",
          "ename": "IndexError",
          "evalue": "ignored",
          "traceback": [
            "\u001b[0;31m---------------------------------------------------------------------------\u001b[0m",
            "\u001b[0;31mIndexError\u001b[0m                                Traceback (most recent call last)",
            "\u001b[0;32m<ipython-input-23-50275e056520>\u001b[0m in \u001b[0;36m<module>\u001b[0;34m\u001b[0m\n\u001b[1;32m     15\u001b[0m     \u001b[0;32mreturn\u001b[0m \u001b[0mout\u001b[0m\u001b[0;34m\u001b[0m\u001b[0;34m\u001b[0m\u001b[0m\n\u001b[1;32m     16\u001b[0m \u001b[0;31m#Se obtiene error porque index queda fuera del rango\u001b[0m\u001b[0;34m\u001b[0m\u001b[0;34m\u001b[0m\u001b[0;34m\u001b[0m\u001b[0m\n\u001b[0;32m---> 17\u001b[0;31m \u001b[0mmatmul\u001b[0m\u001b[0;34m(\u001b[0m\u001b[0ma\u001b[0m\u001b[0;34m,\u001b[0m\u001b[0mb\u001b[0m\u001b[0;34m)\u001b[0m\u001b[0;34m\u001b[0m\u001b[0;34m\u001b[0m\u001b[0m\n\u001b[0m",
            "\u001b[0;32m<ipython-input-23-50275e056520>\u001b[0m in \u001b[0;36mmatmul\u001b[0;34m(A, B)\u001b[0m\n\u001b[1;32m     12\u001b[0m         \u001b[0;32mfor\u001b[0m \u001b[0mj\u001b[0m \u001b[0;32min\u001b[0m \u001b[0mrange\u001b[0m\u001b[0;34m(\u001b[0m\u001b[0mcols_out\u001b[0m\u001b[0;34m)\u001b[0m\u001b[0;34m:\u001b[0m\u001b[0;34m\u001b[0m\u001b[0;34m\u001b[0m\u001b[0m\n\u001b[1;32m     13\u001b[0m             \u001b[0;32mfor\u001b[0m \u001b[0mk\u001b[0m \u001b[0;32min\u001b[0m \u001b[0mrange\u001b[0m\u001b[0;34m(\u001b[0m\u001b[0mlen\u001b[0m\u001b[0;34m(\u001b[0m\u001b[0mA\u001b[0m\u001b[0;34m[\u001b[0m\u001b[0;36m0\u001b[0m\u001b[0;34m]\u001b[0m\u001b[0;34m)\u001b[0m\u001b[0;34m)\u001b[0m\u001b[0;34m:\u001b[0m\u001b[0;34m\u001b[0m\u001b[0;34m\u001b[0m\u001b[0m\n\u001b[0;32m---> 14\u001b[0;31m                 \u001b[0mout\u001b[0m\u001b[0;34m[\u001b[0m\u001b[0mi\u001b[0m\u001b[0;34m]\u001b[0m\u001b[0;34m[\u001b[0m\u001b[0mj\u001b[0m\u001b[0;34m]\u001b[0m \u001b[0;34m+=\u001b[0m \u001b[0mA\u001b[0m\u001b[0;34m[\u001b[0m\u001b[0mi\u001b[0m\u001b[0;34m]\u001b[0m\u001b[0;34m[\u001b[0m\u001b[0mk\u001b[0m\u001b[0;34m]\u001b[0m \u001b[0;34m*\u001b[0m \u001b[0mB\u001b[0m\u001b[0;34m[\u001b[0m\u001b[0mk\u001b[0m\u001b[0;34m]\u001b[0m\u001b[0;34m[\u001b[0m\u001b[0mj\u001b[0m\u001b[0;34m]\u001b[0m\u001b[0;34m\u001b[0m\u001b[0;34m\u001b[0m\u001b[0m\n\u001b[0m\u001b[1;32m     15\u001b[0m     \u001b[0;32mreturn\u001b[0m \u001b[0mout\u001b[0m\u001b[0;34m\u001b[0m\u001b[0;34m\u001b[0m\u001b[0m\n\u001b[1;32m     16\u001b[0m \u001b[0;31m#Se obtiene error porque index queda fuera del rango\u001b[0m\u001b[0;34m\u001b[0m\u001b[0;34m\u001b[0m\u001b[0;34m\u001b[0m\u001b[0m\n",
            "\u001b[0;31mIndexError\u001b[0m: list index out of range"
          ]
        }
      ],
      "source": [
        "#Cambiar las condiciones de dimensiones de la matriz\n",
        "def matmul(A, B):\n",
        "    #len(A) entrega la dimensión de filas\n",
        "    rows_out = len(A)\n",
        "    #len(B[0]) entrega la dimensión de columnas\n",
        "    cols_out = len(B[0])\n",
        "    #Esto define la matriz de ceros\n",
        "    out = [[0 for col in range(cols_out)] for row in range(rows_out)]\n",
        "    #len(B) indica la dimensión en filas\n",
        "    #SE CAMBIA len(B) (dimensión de filas en B) por len(A[0]) (dimensión de columnas en A)\n",
        "    for i in range(rows_out):\n",
        "        for j in range(cols_out):\n",
        "            for k in range(len(A[0])):\n",
        "                out[i][j] += A[i][k] * B[k][j]\n",
        "    return out\n",
        "#Se obtiene error porque index queda fuera del rango\n",
        "matmul(a,b)"
      ]
    },
    {
      "cell_type": "markdown",
      "metadata": {
        "id": "AGztFKBNuQ_e"
      },
      "source": [
        "**My own example 3 - Chekcing the mtarix multiplication compatibility condition  len(A[0]) == len(B)**"
      ]
    },
    {
      "cell_type": "code",
      "execution_count": 24,
      "metadata": {
        "colab": {
          "base_uri": "https://localhost:8080/"
        },
        "id": "4rgHkUNC3haX",
        "outputId": "32c4811f-3355-41a2-b7fc-966dbeea51db"
      },
      "outputs": [
        {
          "output_type": "execute_result",
          "data": {
            "text/plain": [
              "[[1, 2, 3], [7, 8, 9], [4, 5, 6]]"
            ]
          },
          "metadata": {},
          "execution_count": 24
        }
      ],
      "source": [
        "#Comprobar si la condición es len(A[0])==len(B)\n",
        "#Es decir, dim columnas A = dim filas B\n",
        "\n",
        "def matmul(A, B):\n",
        "    #len(A) entrega la dimensión de filas\n",
        "    rows_out = len(A)\n",
        "    #len(B[0]) entrega la dimensión de columnas\n",
        "    cols_out = len(B[0])\n",
        "    #Esto define la matriz de ceros\n",
        "    out = [[0 for col in range(cols_out)] for row in range(rows_out)]\n",
        "    #len(B) indica la dimensión en filas\n",
        "    for i in range(rows_out):\n",
        "        for j in range(cols_out):\n",
        "            for k in range(len(A[0])):\n",
        "                out[i][j] += A[i][k] * B[k][j]\n",
        "    return out\n",
        "\n",
        "#Solo funciona si la dimensión de columnas de la primera es igual a dimensión columnas de la segunda\n",
        "import numpy as np\n",
        "\n",
        "A=np.array([[1,0,0],[0,0,1],[0,1,0]])\n",
        "\n",
        "B=np.array([[1,2,3],[4,5,6],[7,8,9]])\n",
        "\n",
        "matmul(A,B)"
      ]
    },
    {
      "cell_type": "markdown",
      "metadata": {
        "id": "A4SoDNPpuZpp"
      },
      "source": [
        "**My own example 4 -  Verifiying error with in matmul(A, B) Python when checking the mtarix multiplication compatibility condition  len(A[0]) == len(B)**"
      ]
    },
    {
      "cell_type": "code",
      "execution_count": 25,
      "metadata": {
        "id": "wpnd21c83jQI",
        "colab": {
          "base_uri": "https://localhost:8080/",
          "height": 338
        },
        "outputId": "b0180b8d-1da1-48f2-ae4c-2b2ffae8b81e"
      },
      "outputs": [
        {
          "output_type": "error",
          "ename": "IndexError",
          "evalue": "ignored",
          "traceback": [
            "\u001b[0;31m---------------------------------------------------------------------------\u001b[0m",
            "\u001b[0;31mIndexError\u001b[0m                                Traceback (most recent call last)",
            "\u001b[0;32m<ipython-input-25-9846153a8775>\u001b[0m in \u001b[0;36m<module>\u001b[0;34m\u001b[0m\n\u001b[1;32m     26\u001b[0m      [2, 3, 4, 5]]\n\u001b[1;32m     27\u001b[0m \u001b[0;34m\u001b[0m\u001b[0m\n\u001b[0;32m---> 28\u001b[0;31m \u001b[0mmatmul\u001b[0m\u001b[0;34m(\u001b[0m\u001b[0ma\u001b[0m\u001b[0;34m,\u001b[0m\u001b[0mb\u001b[0m\u001b[0;34m)\u001b[0m\u001b[0;34m\u001b[0m\u001b[0;34m\u001b[0m\u001b[0m\n\u001b[0m",
            "\u001b[0;32m<ipython-input-25-9846153a8775>\u001b[0m in \u001b[0;36mmatmul\u001b[0;34m(A, B)\u001b[0m\n\u001b[1;32m     13\u001b[0m         \u001b[0;32mfor\u001b[0m \u001b[0mj\u001b[0m \u001b[0;32min\u001b[0m \u001b[0mrange\u001b[0m\u001b[0;34m(\u001b[0m\u001b[0mcols_out\u001b[0m\u001b[0;34m)\u001b[0m\u001b[0;34m:\u001b[0m\u001b[0;34m\u001b[0m\u001b[0;34m\u001b[0m\u001b[0m\n\u001b[1;32m     14\u001b[0m             \u001b[0;32mfor\u001b[0m \u001b[0mk\u001b[0m \u001b[0;32min\u001b[0m \u001b[0mrange\u001b[0m\u001b[0;34m(\u001b[0m\u001b[0mlen\u001b[0m\u001b[0;34m(\u001b[0m\u001b[0mA\u001b[0m\u001b[0;34m[\u001b[0m\u001b[0;36m0\u001b[0m\u001b[0;34m]\u001b[0m\u001b[0;34m)\u001b[0m\u001b[0;34m)\u001b[0m\u001b[0;34m:\u001b[0m\u001b[0;34m\u001b[0m\u001b[0;34m\u001b[0m\u001b[0m\n\u001b[0;32m---> 15\u001b[0;31m                 \u001b[0mout\u001b[0m\u001b[0;34m[\u001b[0m\u001b[0mi\u001b[0m\u001b[0;34m]\u001b[0m\u001b[0;34m[\u001b[0m\u001b[0mj\u001b[0m\u001b[0;34m]\u001b[0m \u001b[0;34m+=\u001b[0m \u001b[0mA\u001b[0m\u001b[0;34m[\u001b[0m\u001b[0mi\u001b[0m\u001b[0;34m]\u001b[0m\u001b[0;34m[\u001b[0m\u001b[0mk\u001b[0m\u001b[0;34m]\u001b[0m \u001b[0;34m*\u001b[0m \u001b[0mB\u001b[0m\u001b[0;34m[\u001b[0m\u001b[0mk\u001b[0m\u001b[0;34m]\u001b[0m\u001b[0;34m[\u001b[0m\u001b[0mj\u001b[0m\u001b[0;34m]\u001b[0m\u001b[0;34m\u001b[0m\u001b[0;34m\u001b[0m\u001b[0m\n\u001b[0m\u001b[1;32m     16\u001b[0m     \u001b[0;32mreturn\u001b[0m \u001b[0mout\u001b[0m\u001b[0;34m\u001b[0m\u001b[0;34m\u001b[0m\u001b[0m\n\u001b[1;32m     17\u001b[0m \u001b[0;34m\u001b[0m\u001b[0m\n",
            "\u001b[0;31mIndexError\u001b[0m: list index out of range"
          ]
        }
      ],
      "source": [
        "#Comprobar si la condición es len(A[0])==len(B)\n",
        "#Es decir, dim columnas A = dim filas B\n",
        "\n",
        "def matmul(A, B):\n",
        "    #len(A) entrega la dimensión de filas\n",
        "    rows_out = len(A)\n",
        "    #len(B[0]) entrega la dimensión de columnas\n",
        "    cols_out = len(B[0])\n",
        "    #Esto define la matriz de ceros\n",
        "    out = [[0 for col in range(cols_out)] for row in range(rows_out)]\n",
        "    #len(B) indica la dimensión en filas\n",
        "    for i in range(rows_out):\n",
        "        for j in range(cols_out):\n",
        "            for k in range(len(A[0])):\n",
        "                out[i][j] += A[i][k] * B[k][j]\n",
        "    return out\n",
        "\n",
        "#Solo funciona si la dimensión de columnas de la primera es igual a dimensión columnas de la segunda\n",
        "\n",
        "a = [[1, 2, 3],\n",
        "     [2, 3, 4],\n",
        "     [5, 6, 7],\n",
        "     [1, 1, 1]]\n",
        "\n",
        "b = [[1, 2, 3, 4],\n",
        "     [2, 3, 4, 5]]\n",
        "\n",
        "matmul(a,b)"
      ]
    },
    {
      "cell_type": "markdown",
      "metadata": {
        "id": "MZTTYVu0ufCY"
      },
      "source": [
        "**My own example 5 - Deifining A and B that are compatible for multiplcation**"
      ]
    },
    {
      "cell_type": "code",
      "execution_count": 27,
      "metadata": {
        "colab": {
          "base_uri": "https://localhost:8080/"
        },
        "id": "q8nHrWQz3kby",
        "outputId": "89e3dcdc-fe9a-47f0-bf3b-595e03df11a1"
      },
      "outputs": [
        {
          "output_type": "execute_result",
          "data": {
            "text/plain": [
              "[[1, 2, 3], [7, 8, 9], [4, 5, 6]]"
            ]
          },
          "metadata": {},
          "execution_count": 27
        }
      ],
      "source": [
        "A=np.array([[1,0,0],[0,0,1],[0,1,0]])\n",
        "\n",
        "B=np.array([[1,2,3],[4,5,6],[7,8,9]])\n",
        "\n",
        "matmul(A,B)"
      ]
    },
    {
      "cell_type": "markdown",
      "metadata": {
        "id": "GM5DAXUIuhEg"
      },
      "source": [
        "**My own example 6 - Runinng the correct Python matrix multiplication code with the matrices with dimensions compatible for multiplication.**"
      ]
    },
    {
      "cell_type": "code",
      "execution_count": 28,
      "metadata": {
        "id": "Ip600JFN3qHX"
      },
      "outputs": [],
      "source": [
        "import random"
      ]
    },
    {
      "cell_type": "code",
      "execution_count": 29,
      "metadata": {
        "colab": {
          "base_uri": "https://localhost:8080/"
        },
        "id": "HuDvpWbBkup-",
        "outputId": "581e8424-5c8f-4fb5-b665-bc1060b8692f"
      },
      "outputs": [
        {
          "output_type": "execute_result",
          "data": {
            "text/plain": [
              "1.3835742134879947"
            ]
          },
          "metadata": {},
          "execution_count": 29
        }
      ],
      "source": [
        "random.normalvariate(0,1)"
      ]
    },
    {
      "cell_type": "code",
      "execution_count": 30,
      "metadata": {
        "colab": {
          "base_uri": "https://localhost:8080/"
        },
        "id": "X1tnwMvd3bIP",
        "outputId": "560dd9a3-093f-452d-9398-f2bf67116b1d"
      },
      "outputs": [
        {
          "output_type": "execute_result",
          "data": {
            "text/plain": [
              "[[0.8675767952088322, 0.8441320683282747, 0.25000002978278846],\n",
              " [0.2499997076600996, 0.06323327898630271, 0.7779250869128913]]"
            ]
          },
          "metadata": {},
          "execution_count": 30
        }
      ],
      "source": [
        "import random\n",
        "def random_matrix(m, n):\n",
        "    out = []\n",
        "    for row in range(m):\n",
        "        out.append([random.random() for col in range(n)])\n",
        "    return out\n",
        "\n",
        "randm = random_matrix(2, 3)\n",
        "randm"
      ]
    },
    {
      "cell_type": "markdown",
      "metadata": {
        "id": "3-eUeNjHhHP7"
      },
      "source": [
        "**My own example 7 - Running 10 times matmul(randa, randb) with randa and randb a randon matrices of 600 x 100 and 100 x 600 and calulating the average execution time**"
      ]
    },
    {
      "cell_type": "code",
      "execution_count": 31,
      "metadata": {
        "id": "3IoCPD5luzZd",
        "colab": {
          "base_uri": "https://localhost:8080/"
        },
        "outputId": "21daef9a-50bf-4923-9586-97e39e2a8c16"
      },
      "outputs": [
        {
          "output_type": "stream",
          "name": "stdout",
          "text": [
            "El tiempo promedio por multipicación es 10.749673318862914\n"
          ]
        }
      ],
      "source": [
        "from numpy.core.fromnumeric import mean\n",
        "import time\n",
        "randa=random_matrix(600,100)\n",
        "randb=random_matrix(100,600)\n",
        "list1=[]\n",
        "def tiempo(intentos,randa,randb):\n",
        "  for i in range(intentos):\n",
        "    inicio=time.time()\n",
        "    matmul(randa,randb)\n",
        "    final=time.time()\n",
        "    list1.append(final-inicio)\n",
        "    prom_py=np.mean(list1)\n",
        "  return prom_py\n",
        "prom_py=tiempo(10,randa,randb)\n",
        "print(\"El tiempo promedio por multipicación es {0}\".format(prom_py))"
      ]
    },
    {
      "cell_type": "markdown",
      "metadata": {
        "id": "FXisJPNSN-Tf"
      },
      "source": [
        "**My own example 8 - Creating the average execution time data frame and adding Python's average execution time**"
      ]
    },
    {
      "cell_type": "code",
      "execution_count": 32,
      "metadata": {
        "colab": {
          "base_uri": "https://localhost:8080/",
          "height": 81
        },
        "id": "2fK25g003-ww",
        "outputId": "597cac9a-21a4-4d65-b7b5-e3ce23c97113"
      },
      "outputs": [
        {
          "output_type": "execute_result",
          "data": {
            "text/plain": [
              "  Lenguaje  Prom. Tiempo\n",
              "0   Python     10.749673"
            ],
            "text/html": [
              "\n",
              "  <div id=\"df-ab759717-698b-462f-9de1-80db52f81994\">\n",
              "    <div class=\"colab-df-container\">\n",
              "      <div>\n",
              "<style scoped>\n",
              "    .dataframe tbody tr th:only-of-type {\n",
              "        vertical-align: middle;\n",
              "    }\n",
              "\n",
              "    .dataframe tbody tr th {\n",
              "        vertical-align: top;\n",
              "    }\n",
              "\n",
              "    .dataframe thead th {\n",
              "        text-align: right;\n",
              "    }\n",
              "</style>\n",
              "<table border=\"1\" class=\"dataframe\">\n",
              "  <thead>\n",
              "    <tr style=\"text-align: right;\">\n",
              "      <th></th>\n",
              "      <th>Lenguaje</th>\n",
              "      <th>Prom. Tiempo</th>\n",
              "    </tr>\n",
              "  </thead>\n",
              "  <tbody>\n",
              "    <tr>\n",
              "      <th>0</th>\n",
              "      <td>Python</td>\n",
              "      <td>10.749673</td>\n",
              "    </tr>\n",
              "  </tbody>\n",
              "</table>\n",
              "</div>\n",
              "      <button class=\"colab-df-convert\" onclick=\"convertToInteractive('df-ab759717-698b-462f-9de1-80db52f81994')\"\n",
              "              title=\"Convert this dataframe to an interactive table.\"\n",
              "              style=\"display:none;\">\n",
              "        \n",
              "  <svg xmlns=\"http://www.w3.org/2000/svg\" height=\"24px\"viewBox=\"0 0 24 24\"\n",
              "       width=\"24px\">\n",
              "    <path d=\"M0 0h24v24H0V0z\" fill=\"none\"/>\n",
              "    <path d=\"M18.56 5.44l.94 2.06.94-2.06 2.06-.94-2.06-.94-.94-2.06-.94 2.06-2.06.94zm-11 1L8.5 8.5l.94-2.06 2.06-.94-2.06-.94L8.5 2.5l-.94 2.06-2.06.94zm10 10l.94 2.06.94-2.06 2.06-.94-2.06-.94-.94-2.06-.94 2.06-2.06.94z\"/><path d=\"M17.41 7.96l-1.37-1.37c-.4-.4-.92-.59-1.43-.59-.52 0-1.04.2-1.43.59L10.3 9.45l-7.72 7.72c-.78.78-.78 2.05 0 2.83L4 21.41c.39.39.9.59 1.41.59.51 0 1.02-.2 1.41-.59l7.78-7.78 2.81-2.81c.8-.78.8-2.07 0-2.86zM5.41 20L4 18.59l7.72-7.72 1.47 1.35L5.41 20z\"/>\n",
              "  </svg>\n",
              "      </button>\n",
              "      \n",
              "  <style>\n",
              "    .colab-df-container {\n",
              "      display:flex;\n",
              "      flex-wrap:wrap;\n",
              "      gap: 12px;\n",
              "    }\n",
              "\n",
              "    .colab-df-convert {\n",
              "      background-color: #E8F0FE;\n",
              "      border: none;\n",
              "      border-radius: 50%;\n",
              "      cursor: pointer;\n",
              "      display: none;\n",
              "      fill: #1967D2;\n",
              "      height: 32px;\n",
              "      padding: 0 0 0 0;\n",
              "      width: 32px;\n",
              "    }\n",
              "\n",
              "    .colab-df-convert:hover {\n",
              "      background-color: #E2EBFA;\n",
              "      box-shadow: 0px 1px 2px rgba(60, 64, 67, 0.3), 0px 1px 3px 1px rgba(60, 64, 67, 0.15);\n",
              "      fill: #174EA6;\n",
              "    }\n",
              "\n",
              "    [theme=dark] .colab-df-convert {\n",
              "      background-color: #3B4455;\n",
              "      fill: #D2E3FC;\n",
              "    }\n",
              "\n",
              "    [theme=dark] .colab-df-convert:hover {\n",
              "      background-color: #434B5C;\n",
              "      box-shadow: 0px 1px 3px 1px rgba(0, 0, 0, 0.15);\n",
              "      filter: drop-shadow(0px 1px 2px rgba(0, 0, 0, 0.3));\n",
              "      fill: #FFFFFF;\n",
              "    }\n",
              "  </style>\n",
              "\n",
              "      <script>\n",
              "        const buttonEl =\n",
              "          document.querySelector('#df-ab759717-698b-462f-9de1-80db52f81994 button.colab-df-convert');\n",
              "        buttonEl.style.display =\n",
              "          google.colab.kernel.accessAllowed ? 'block' : 'none';\n",
              "\n",
              "        async function convertToInteractive(key) {\n",
              "          const element = document.querySelector('#df-ab759717-698b-462f-9de1-80db52f81994');\n",
              "          const dataTable =\n",
              "            await google.colab.kernel.invokeFunction('convertToInteractive',\n",
              "                                                     [key], {});\n",
              "          if (!dataTable) return;\n",
              "\n",
              "          const docLinkHtml = 'Like what you see? Visit the ' +\n",
              "            '<a target=\"_blank\" href=https://colab.research.google.com/notebooks/data_table.ipynb>data table notebook</a>'\n",
              "            + ' to learn more about interactive tables.';\n",
              "          element.innerHTML = '';\n",
              "          dataTable['output_type'] = 'display_data';\n",
              "          await google.colab.output.renderOutput(dataTable, element);\n",
              "          const docLink = document.createElement('div');\n",
              "          docLink.innerHTML = docLinkHtml;\n",
              "          element.appendChild(docLink);\n",
              "        }\n",
              "      </script>\n",
              "    </div>\n",
              "  </div>\n",
              "  "
            ]
          },
          "metadata": {},
          "execution_count": 32
        }
      ],
      "source": [
        "#Crear un dataframe para almacenar los tiempos de ejecución por cada lenguaje\n",
        "import pandas as pd\n",
        "def app_df(df,leng,prom):\n",
        "  nuevo_df=pd.DataFrame({\"Lenguaje\":[leng],\"Prom. Tiempo\":[prom]})\n",
        "  return df.append(nuevo_df)\n",
        "\n",
        "#Crear el dataframe vacío para empezar a almacenar info.\n",
        "df=pd.DataFrame({\"Lenguaje\":[],\"Prom. Tiempo\":[]})\n",
        "df=app_df(df,\"Python\",prom_py)\n",
        "df"
      ]
    },
    {
      "cell_type": "markdown",
      "metadata": {
        "id": "OiFYD3tghLcL"
      },
      "source": [
        "**My own example 9 - Running 10 times randa and randb mutiplicaction as NumPy arrays  adding NumPy's average execution time**"
      ]
    },
    {
      "cell_type": "code",
      "execution_count": 33,
      "metadata": {
        "colab": {
          "base_uri": "https://localhost:8080/",
          "height": 131
        },
        "id": "bHX4icJx5KZo",
        "outputId": "c9576ecd-0d13-4204-b0b2-fc6b34186555"
      },
      "outputs": [
        {
          "output_type": "stream",
          "name": "stdout",
          "text": [
            "El tiempo promedio por multipicación es 0.005611586570739746\n"
          ]
        },
        {
          "output_type": "execute_result",
          "data": {
            "text/plain": [
              "  Lenguaje  Prom. Tiempo\n",
              "0   Python     10.749673\n",
              "0    NumPy      0.005612"
            ],
            "text/html": [
              "\n",
              "  <div id=\"df-15e141e1-40e6-4bfd-adc1-c51cbe6778c8\">\n",
              "    <div class=\"colab-df-container\">\n",
              "      <div>\n",
              "<style scoped>\n",
              "    .dataframe tbody tr th:only-of-type {\n",
              "        vertical-align: middle;\n",
              "    }\n",
              "\n",
              "    .dataframe tbody tr th {\n",
              "        vertical-align: top;\n",
              "    }\n",
              "\n",
              "    .dataframe thead th {\n",
              "        text-align: right;\n",
              "    }\n",
              "</style>\n",
              "<table border=\"1\" class=\"dataframe\">\n",
              "  <thead>\n",
              "    <tr style=\"text-align: right;\">\n",
              "      <th></th>\n",
              "      <th>Lenguaje</th>\n",
              "      <th>Prom. Tiempo</th>\n",
              "    </tr>\n",
              "  </thead>\n",
              "  <tbody>\n",
              "    <tr>\n",
              "      <th>0</th>\n",
              "      <td>Python</td>\n",
              "      <td>10.749673</td>\n",
              "    </tr>\n",
              "    <tr>\n",
              "      <th>0</th>\n",
              "      <td>NumPy</td>\n",
              "      <td>0.005612</td>\n",
              "    </tr>\n",
              "  </tbody>\n",
              "</table>\n",
              "</div>\n",
              "      <button class=\"colab-df-convert\" onclick=\"convertToInteractive('df-15e141e1-40e6-4bfd-adc1-c51cbe6778c8')\"\n",
              "              title=\"Convert this dataframe to an interactive table.\"\n",
              "              style=\"display:none;\">\n",
              "        \n",
              "  <svg xmlns=\"http://www.w3.org/2000/svg\" height=\"24px\"viewBox=\"0 0 24 24\"\n",
              "       width=\"24px\">\n",
              "    <path d=\"M0 0h24v24H0V0z\" fill=\"none\"/>\n",
              "    <path d=\"M18.56 5.44l.94 2.06.94-2.06 2.06-.94-2.06-.94-.94-2.06-.94 2.06-2.06.94zm-11 1L8.5 8.5l.94-2.06 2.06-.94-2.06-.94L8.5 2.5l-.94 2.06-2.06.94zm10 10l.94 2.06.94-2.06 2.06-.94-2.06-.94-.94-2.06-.94 2.06-2.06.94z\"/><path d=\"M17.41 7.96l-1.37-1.37c-.4-.4-.92-.59-1.43-.59-.52 0-1.04.2-1.43.59L10.3 9.45l-7.72 7.72c-.78.78-.78 2.05 0 2.83L4 21.41c.39.39.9.59 1.41.59.51 0 1.02-.2 1.41-.59l7.78-7.78 2.81-2.81c.8-.78.8-2.07 0-2.86zM5.41 20L4 18.59l7.72-7.72 1.47 1.35L5.41 20z\"/>\n",
              "  </svg>\n",
              "      </button>\n",
              "      \n",
              "  <style>\n",
              "    .colab-df-container {\n",
              "      display:flex;\n",
              "      flex-wrap:wrap;\n",
              "      gap: 12px;\n",
              "    }\n",
              "\n",
              "    .colab-df-convert {\n",
              "      background-color: #E8F0FE;\n",
              "      border: none;\n",
              "      border-radius: 50%;\n",
              "      cursor: pointer;\n",
              "      display: none;\n",
              "      fill: #1967D2;\n",
              "      height: 32px;\n",
              "      padding: 0 0 0 0;\n",
              "      width: 32px;\n",
              "    }\n",
              "\n",
              "    .colab-df-convert:hover {\n",
              "      background-color: #E2EBFA;\n",
              "      box-shadow: 0px 1px 2px rgba(60, 64, 67, 0.3), 0px 1px 3px 1px rgba(60, 64, 67, 0.15);\n",
              "      fill: #174EA6;\n",
              "    }\n",
              "\n",
              "    [theme=dark] .colab-df-convert {\n",
              "      background-color: #3B4455;\n",
              "      fill: #D2E3FC;\n",
              "    }\n",
              "\n",
              "    [theme=dark] .colab-df-convert:hover {\n",
              "      background-color: #434B5C;\n",
              "      box-shadow: 0px 1px 3px 1px rgba(0, 0, 0, 0.15);\n",
              "      filter: drop-shadow(0px 1px 2px rgba(0, 0, 0, 0.3));\n",
              "      fill: #FFFFFF;\n",
              "    }\n",
              "  </style>\n",
              "\n",
              "      <script>\n",
              "        const buttonEl =\n",
              "          document.querySelector('#df-15e141e1-40e6-4bfd-adc1-c51cbe6778c8 button.colab-df-convert');\n",
              "        buttonEl.style.display =\n",
              "          google.colab.kernel.accessAllowed ? 'block' : 'none';\n",
              "\n",
              "        async function convertToInteractive(key) {\n",
              "          const element = document.querySelector('#df-15e141e1-40e6-4bfd-adc1-c51cbe6778c8');\n",
              "          const dataTable =\n",
              "            await google.colab.kernel.invokeFunction('convertToInteractive',\n",
              "                                                     [key], {});\n",
              "          if (!dataTable) return;\n",
              "\n",
              "          const docLinkHtml = 'Like what you see? Visit the ' +\n",
              "            '<a target=\"_blank\" href=https://colab.research.google.com/notebooks/data_table.ipynb>data table notebook</a>'\n",
              "            + ' to learn more about interactive tables.';\n",
              "          element.innerHTML = '';\n",
              "          dataTable['output_type'] = 'display_data';\n",
              "          await google.colab.output.renderOutput(dataTable, element);\n",
              "          const docLink = document.createElement('div');\n",
              "          docLink.innerHTML = docLinkHtml;\n",
              "          element.appendChild(docLink);\n",
              "        }\n",
              "      </script>\n",
              "    </div>\n",
              "  </div>\n",
              "  "
            ]
          },
          "metadata": {},
          "execution_count": 33
        }
      ],
      "source": [
        "#Convertir las matrices a np.array\n",
        "randa_np=np.array(randa)\n",
        "randb_np=np.array(randb)\n",
        "list1=[]\n",
        "def tiempo_np(intentos,randa_np,randb_np):\n",
        "  for i in range(intentos):\n",
        "    inicio=time.time()\n",
        "    np.matmul(randa_np,randb_np)\n",
        "    final=time.time()\n",
        "    list1.append(final-inicio)\n",
        "    prom_np=np.mean(list1)\n",
        "  return prom_np\n",
        "prom_np=tiempo_np(10,randa_np,randb_np)\n",
        "print(\"El tiempo promedio por multipicación es {0}\".format(prom_np))\n",
        "#Se iguala al DF antiguo para que se reescriba\n",
        "df=app_df(df,\"NumPy\",prom_np)\n",
        "df"
      ]
    },
    {
      "cell_type": "code",
      "execution_count": 34,
      "metadata": {
        "colab": {
          "base_uri": "https://localhost:8080/"
        },
        "id": "M5czoKckiXcN",
        "outputId": "6a50dca0-e9ae-441f-8ea9-4575f867c97e",
        "scrolled": true
      },
      "outputs": [
        {
          "output_type": "stream",
          "name": "stdout",
          "text": [
            "CPU times: user 9.16 s, sys: 47.1 ms, total: 9.21 s\n",
            "Wall time: 9.24 s\n"
          ]
        }
      ],
      "source": [
        "%%time\n",
        "randa = random_matrix(600, 100)\n",
        "randb = random_matrix(100, 600)\n",
        "x = matmul(randa, randb)"
      ]
    },
    {
      "cell_type": "code",
      "execution_count": 35,
      "metadata": {
        "collapsed": true,
        "id": "hXy_q4S8iXcN"
      },
      "outputs": [],
      "source": [
        "# Maybe that's not that bad?  Let's try a simpler case.\n",
        "def python_dot_product(xs, ys):\n",
        "    return sum(x * y for x, y in zip(xs, ys))"
      ]
    },
    {
      "cell_type": "code",
      "execution_count": 36,
      "metadata": {
        "collapsed": true,
        "id": "qylqVrbqiXcO"
      },
      "outputs": [],
      "source": [
        "%%fortran\n",
        "subroutine fortran_dot_product(xs, ys, result)\n",
        "    double precision, intent(in) :: xs(:)\n",
        "    double precision, intent(in) :: ys(:)\n",
        "    double precision, intent(out) :: result\n",
        "    \n",
        "    result = sum(xs * ys)\n",
        "end"
      ]
    },
    {
      "cell_type": "code",
      "execution_count": 37,
      "metadata": {
        "collapsed": true,
        "id": "BGacVDX-iXcO"
      },
      "outputs": [],
      "source": [
        "list_data = [float(i) for i in range(100000)]\n",
        "array_data = np.array(list_data)"
      ]
    },
    {
      "cell_type": "code",
      "execution_count": 38,
      "metadata": {
        "colab": {
          "base_uri": "https://localhost:8080/"
        },
        "id": "aaZPRE4aiXcO",
        "outputId": "1017bc09-5d35-4fcb-d876-9dfb99be95a4"
      },
      "outputs": [
        {
          "output_type": "stream",
          "name": "stdout",
          "text": [
            "CPU times: user 80.1 ms, sys: 0 ns, total: 80.1 ms\n",
            "Wall time: 83.1 ms\n"
          ]
        },
        {
          "output_type": "execute_result",
          "data": {
            "text/plain": [
              "333328333350000.0"
            ]
          },
          "metadata": {},
          "execution_count": 38
        }
      ],
      "source": [
        "%%time\n",
        "python_dot_product(list_data, list_data)"
      ]
    },
    {
      "cell_type": "code",
      "execution_count": 39,
      "metadata": {
        "colab": {
          "base_uri": "https://localhost:8080/"
        },
        "id": "e9tNvTwLiXcO",
        "outputId": "db4fab74-3aab-49e5-c117-51c86f9d71de"
      },
      "outputs": [
        {
          "output_type": "stream",
          "name": "stdout",
          "text": [
            "CPU times: user 202 µs, sys: 1 µs, total: 203 µs\n",
            "Wall time: 210 µs\n"
          ]
        },
        {
          "output_type": "execute_result",
          "data": {
            "text/plain": [
              "333328333350000.0"
            ]
          },
          "metadata": {},
          "execution_count": 39
        }
      ],
      "source": [
        "%%time\n",
        "fortran_dot_product(array_data, array_data)"
      ]
    },
    {
      "cell_type": "markdown",
      "metadata": {
        "id": "qW-_Q7yuiXcO"
      },
      "source": [
        "<center><img src=\"https://raw.githubusercontent.com/ssanderson/pydata-toolbox/master/notebooks/images/sloth.gif\" alt=\"Drawing\" style=\"width: 1080px;\"/></center>\n"
      ]
    },
    {
      "cell_type": "markdown",
      "metadata": {
        "id": "y37MLCQ4PQd3"
      },
      "source": [
        "**My own example 10 - Deifining A (2x2)  and B (2x2)**"
      ]
    },
    {
      "cell_type": "code",
      "execution_count": 40,
      "metadata": {
        "id": "7i0uJGD0v105"
      },
      "outputs": [],
      "source": [
        "Af = np.array([[10.0, 20.0],[30.0, 40.0]])\n",
        "\n",
        "Bf = np.array([[15.0, 25.0],[35.0, 45.0]])"
      ]
    },
    {
      "cell_type": "markdown",
      "metadata": {
        "id": "nuV59KXQPipC"
      },
      "source": [
        "**My own example 11 - Defining Fortran subroutine matmul(A,B) for 2x2 matrices**"
      ]
    },
    {
      "cell_type": "code",
      "execution_count": 41,
      "metadata": {
        "id": "faG3DgEHyyoP"
      },
      "outputs": [],
      "source": [
        "%%fortran\n",
        "subroutine fortran_matmul(m1, m2, R)\n",
        "     double precision, intent(in) :: m1(2,2)\n",
        "     double precision, intent(in) :: m2(2,2)\n",
        "     double precision, intent(out) :: R(2,2)\n",
        "  \n",
        "    do i=1,2\n",
        "      do j=1,2\n",
        "        do k=1,2\n",
        "          R(i,j) = R(i,j) + m1(i,k) * m2(k,j)\n",
        "        end do\n",
        "      end do\n",
        "    end do\n",
        "end"
      ]
    },
    {
      "cell_type": "markdown",
      "metadata": {
        "id": "zU1RmmstRPd4"
      },
      "source": [
        "**My own example 12 -Run Fortran subroutine matmul(A,B) with a and b 2x2 matrices**"
      ]
    },
    {
      "cell_type": "code",
      "execution_count": 42,
      "metadata": {
        "colab": {
          "base_uri": "https://localhost:8080/"
        },
        "id": "LTcNJB4L6wwX",
        "outputId": "5c276228-95ff-48a4-8706-b05e6fdd6a7e"
      },
      "outputs": [
        {
          "output_type": "stream",
          "name": "stdout",
          "text": [
            "CPU times: user 107 µs, sys: 1e+03 ns, total: 108 µs\n",
            "Wall time: 113 µs\n"
          ]
        },
        {
          "output_type": "execute_result",
          "data": {
            "text/plain": [
              "array([[ 850., 1150.],\n",
              "       [1850., 2550.]])"
            ]
          },
          "metadata": {},
          "execution_count": 42
        }
      ],
      "source": [
        "%%time\n",
        "fortran_matmul(Af, Bf)"
      ]
    },
    {
      "cell_type": "markdown",
      "metadata": {
        "id": "_ra5WDYERX1e"
      },
      "source": [
        "**My own example 13 - Defining Fortran subroutine matmul(A,B) for 600x100 and 100x600 matrices**"
      ]
    },
    {
      "cell_type": "code",
      "execution_count": 43,
      "metadata": {
        "id": "4mDURPVKkBDD"
      },
      "outputs": [],
      "source": [
        "%%fortran\n",
        "subroutine fortran_matmul_600(m1, m2, R)\n",
        "     real, intent(in) :: m1(600,100)\n",
        "     real, intent(in) :: m2(100,600)\n",
        "     real, intent(out) :: R(600,600)\n",
        "  \n",
        "    do i=1,600\n",
        "      do j=1,600\n",
        "        do k=1,100\n",
        "          R(i,j) = R(i,j) + m1(i,k) * m2(k,j)\n",
        "        end do\n",
        "      end do\n",
        "    end do\n",
        "end"
      ]
    },
    {
      "cell_type": "markdown",
      "metadata": {
        "id": "cf5NwQZQRjx-"
      },
      "source": [
        "**My own example 14 -Run Fortran subroutine matmul(A,B) with 600x100 and 100x600 matrices**"
      ]
    },
    {
      "cell_type": "code",
      "execution_count": 44,
      "metadata": {
        "colab": {
          "base_uri": "https://localhost:8080/"
        },
        "id": "S7xtJkrb6yuQ",
        "outputId": "8fed1a75-8bdb-49c6-e915-37a3546ec6be"
      },
      "outputs": [
        {
          "output_type": "execute_result",
          "data": {
            "text/plain": [
              "array([[26.84511 , 22.758066, 25.893007, ..., 23.364576, 27.337313,\n",
              "        22.799099],\n",
              "       [24.12617 , 20.175503, 22.433266, ..., 22.63505 , 23.878178,\n",
              "        18.050137],\n",
              "       [27.68237 , 23.800526, 27.549881, ..., 24.440632, 27.07555 ,\n",
              "        23.200674],\n",
              "       ...,\n",
              "       [29.609346, 27.27444 , 31.386871, ..., 28.2344  , 29.939198,\n",
              "        23.407778],\n",
              "       [26.1678  , 23.895342, 26.128456, ..., 24.607601, 27.045845,\n",
              "        21.397184],\n",
              "       [27.365196, 23.694527, 28.420181, ..., 25.74749 , 28.168234,\n",
              "        21.291912]], dtype=float32)"
            ]
          },
          "metadata": {},
          "execution_count": 44
        }
      ],
      "source": [
        "randma =np.array( random_matrix(600, 100))\n",
        "randmb =np.array( random_matrix(100, 600))\n",
        "fortran_matmul_600(randma, randmb)"
      ]
    },
    {
      "cell_type": "markdown",
      "metadata": {
        "id": "5yjoH7W_R0E3"
      },
      "source": [
        "**My own example 15 - Running 10 times the  Fortran subroutine matmul(A,B) with 600x100 and 100x600 matrices and adding Fortran magic average execution time to the data frame**"
      ]
    },
    {
      "cell_type": "code",
      "execution_count": 45,
      "metadata": {
        "colab": {
          "base_uri": "https://localhost:8080/",
          "height": 180
        },
        "id": "2-A0QOte603A",
        "outputId": "f1232a7e-1897-4301-a9c8-b158f7f57712"
      },
      "outputs": [
        {
          "output_type": "stream",
          "name": "stdout",
          "text": [
            "El tiempo promedio por multipicación es 0.04667460918426514\n",
            "[0.047574758529663086, 0.04458022117614746, 0.0458071231842041, 0.045525312423706055, 0.045693397521972656, 0.046823978424072266, 0.04838848114013672, 0.04579806327819824, 0.05099630355834961, 0.04555845260620117]\n"
          ]
        },
        {
          "output_type": "execute_result",
          "data": {
            "text/plain": [
              "        Lenguaje  Prom. Tiempo\n",
              "0         Python     10.749673\n",
              "0          NumPy      0.005612\n",
              "0  Fortran Magic      0.046675"
            ],
            "text/html": [
              "\n",
              "  <div id=\"df-5711beb9-47fa-459e-a4ce-b2809a6464f2\">\n",
              "    <div class=\"colab-df-container\">\n",
              "      <div>\n",
              "<style scoped>\n",
              "    .dataframe tbody tr th:only-of-type {\n",
              "        vertical-align: middle;\n",
              "    }\n",
              "\n",
              "    .dataframe tbody tr th {\n",
              "        vertical-align: top;\n",
              "    }\n",
              "\n",
              "    .dataframe thead th {\n",
              "        text-align: right;\n",
              "    }\n",
              "</style>\n",
              "<table border=\"1\" class=\"dataframe\">\n",
              "  <thead>\n",
              "    <tr style=\"text-align: right;\">\n",
              "      <th></th>\n",
              "      <th>Lenguaje</th>\n",
              "      <th>Prom. Tiempo</th>\n",
              "    </tr>\n",
              "  </thead>\n",
              "  <tbody>\n",
              "    <tr>\n",
              "      <th>0</th>\n",
              "      <td>Python</td>\n",
              "      <td>10.749673</td>\n",
              "    </tr>\n",
              "    <tr>\n",
              "      <th>0</th>\n",
              "      <td>NumPy</td>\n",
              "      <td>0.005612</td>\n",
              "    </tr>\n",
              "    <tr>\n",
              "      <th>0</th>\n",
              "      <td>Fortran Magic</td>\n",
              "      <td>0.046675</td>\n",
              "    </tr>\n",
              "  </tbody>\n",
              "</table>\n",
              "</div>\n",
              "      <button class=\"colab-df-convert\" onclick=\"convertToInteractive('df-5711beb9-47fa-459e-a4ce-b2809a6464f2')\"\n",
              "              title=\"Convert this dataframe to an interactive table.\"\n",
              "              style=\"display:none;\">\n",
              "        \n",
              "  <svg xmlns=\"http://www.w3.org/2000/svg\" height=\"24px\"viewBox=\"0 0 24 24\"\n",
              "       width=\"24px\">\n",
              "    <path d=\"M0 0h24v24H0V0z\" fill=\"none\"/>\n",
              "    <path d=\"M18.56 5.44l.94 2.06.94-2.06 2.06-.94-2.06-.94-.94-2.06-.94 2.06-2.06.94zm-11 1L8.5 8.5l.94-2.06 2.06-.94-2.06-.94L8.5 2.5l-.94 2.06-2.06.94zm10 10l.94 2.06.94-2.06 2.06-.94-2.06-.94-.94-2.06-.94 2.06-2.06.94z\"/><path d=\"M17.41 7.96l-1.37-1.37c-.4-.4-.92-.59-1.43-.59-.52 0-1.04.2-1.43.59L10.3 9.45l-7.72 7.72c-.78.78-.78 2.05 0 2.83L4 21.41c.39.39.9.59 1.41.59.51 0 1.02-.2 1.41-.59l7.78-7.78 2.81-2.81c.8-.78.8-2.07 0-2.86zM5.41 20L4 18.59l7.72-7.72 1.47 1.35L5.41 20z\"/>\n",
              "  </svg>\n",
              "      </button>\n",
              "      \n",
              "  <style>\n",
              "    .colab-df-container {\n",
              "      display:flex;\n",
              "      flex-wrap:wrap;\n",
              "      gap: 12px;\n",
              "    }\n",
              "\n",
              "    .colab-df-convert {\n",
              "      background-color: #E8F0FE;\n",
              "      border: none;\n",
              "      border-radius: 50%;\n",
              "      cursor: pointer;\n",
              "      display: none;\n",
              "      fill: #1967D2;\n",
              "      height: 32px;\n",
              "      padding: 0 0 0 0;\n",
              "      width: 32px;\n",
              "    }\n",
              "\n",
              "    .colab-df-convert:hover {\n",
              "      background-color: #E2EBFA;\n",
              "      box-shadow: 0px 1px 2px rgba(60, 64, 67, 0.3), 0px 1px 3px 1px rgba(60, 64, 67, 0.15);\n",
              "      fill: #174EA6;\n",
              "    }\n",
              "\n",
              "    [theme=dark] .colab-df-convert {\n",
              "      background-color: #3B4455;\n",
              "      fill: #D2E3FC;\n",
              "    }\n",
              "\n",
              "    [theme=dark] .colab-df-convert:hover {\n",
              "      background-color: #434B5C;\n",
              "      box-shadow: 0px 1px 3px 1px rgba(0, 0, 0, 0.15);\n",
              "      filter: drop-shadow(0px 1px 2px rgba(0, 0, 0, 0.3));\n",
              "      fill: #FFFFFF;\n",
              "    }\n",
              "  </style>\n",
              "\n",
              "      <script>\n",
              "        const buttonEl =\n",
              "          document.querySelector('#df-5711beb9-47fa-459e-a4ce-b2809a6464f2 button.colab-df-convert');\n",
              "        buttonEl.style.display =\n",
              "          google.colab.kernel.accessAllowed ? 'block' : 'none';\n",
              "\n",
              "        async function convertToInteractive(key) {\n",
              "          const element = document.querySelector('#df-5711beb9-47fa-459e-a4ce-b2809a6464f2');\n",
              "          const dataTable =\n",
              "            await google.colab.kernel.invokeFunction('convertToInteractive',\n",
              "                                                     [key], {});\n",
              "          if (!dataTable) return;\n",
              "\n",
              "          const docLinkHtml = 'Like what you see? Visit the ' +\n",
              "            '<a target=\"_blank\" href=https://colab.research.google.com/notebooks/data_table.ipynb>data table notebook</a>'\n",
              "            + ' to learn more about interactive tables.';\n",
              "          element.innerHTML = '';\n",
              "          dataTable['output_type'] = 'display_data';\n",
              "          await google.colab.output.renderOutput(dataTable, element);\n",
              "          const docLink = document.createElement('div');\n",
              "          docLink.innerHTML = docLinkHtml;\n",
              "          element.appendChild(docLink);\n",
              "        }\n",
              "      </script>\n",
              "    </div>\n",
              "  </div>\n",
              "  "
            ]
          },
          "metadata": {},
          "execution_count": 45
        }
      ],
      "source": [
        "from numpy.core.fromnumeric import mean\n",
        "import time\n",
        "randma =np.array( random_matrix(600, 100))\n",
        "randmb =np.array( random_matrix(100, 600))\n",
        "list1=[]\n",
        "def tiempo(intentos,randa,randb):\n",
        "  for i in range(intentos):\n",
        "    inicio=time.time()\n",
        "    fortran_matmul_600(randma, randmb)\n",
        "    final=time.time()\n",
        "    list1.append(final-inicio)\n",
        "  return list1\n",
        "tiempo(10,randma,randmb)\n",
        "print(\"El tiempo promedio por multipicación es {0}\".format(np.mean(list1)))\n",
        "print((list1))\n",
        "prom_fm=np.mean(list1)\n",
        "df=app_df(df,\"Fortran Magic\",prom_fm)\n",
        "df"
      ]
    },
    {
      "cell_type": "markdown",
      "metadata": {
        "id": "w5hURiGOShpG"
      },
      "source": [
        "**My own example 16 - Creating a  Fortran program that mutiplies 10 times A(600x100) and  B (100x600) matrices**"
      ]
    },
    {
      "cell_type": "code",
      "execution_count": 46,
      "metadata": {
        "colab": {
          "base_uri": "https://localhost:8080/"
        },
        "id": "UPiYiMWr8zXU",
        "outputId": "ca5fe5c6-40f0-4879-cace-0979b8d55ab5"
      },
      "outputs": [
        {
          "output_type": "stream",
          "name": "stdout",
          "text": [
            "Reading package lists... Done\n",
            "Building dependency tree       \n",
            "Reading state information... Done\n",
            "gfortran is already the newest version (4:9.3.0-1ubuntu2).\n",
            "0 upgraded, 0 newly installed, 0 to remove and 22 not upgraded.\n",
            "GNU Fortran (Ubuntu 9.4.0-1ubuntu1~20.04.1) 9.4.0\n",
            "Copyright (C) 2019 Free Software Foundation, Inc.\n",
            "This is free software; see the source for copying conditions.  There is NO\n",
            "warranty; not even for MERCHANTABILITY or FITNESS FOR A PARTICULAR PURPOSE.\n",
            "\n"
          ]
        }
      ],
      "source": [
        "!apt-get install gfortran\n",
        "!gfortran --version"
      ]
    },
    {
      "cell_type": "code",
      "execution_count": 47,
      "metadata": {
        "id": "xCkI1njo62Hv",
        "colab": {
          "base_uri": "https://localhost:8080/"
        },
        "outputId": "c72724f2-e135-4620-d934-2223c6b2aff0"
      },
      "outputs": [
        {
          "output_type": "stream",
          "name": "stdout",
          "text": [
            "Writing matrix_multiplication.f90\n"
          ]
        }
      ],
      "source": [
        "\n",
        "%%writefile matrix_multiplication.f90\n",
        "program matrix_multiplication\n",
        "  implicit none\n",
        "  \n",
        "  integer, parameter :: n = 600, m = 100, p = 600\n",
        "  integer :: i, j, k, iter\n",
        "  \n",
        "  real, dimension(n,m) :: a\n",
        "  real, dimension(m,p) :: b\n",
        "  real, dimension(n,p) :: c\n",
        "  \n",
        "  call random_seed()\n",
        "  call random_number(a)\n",
        "  call random_number(b)\n",
        "\n",
        "  do iter=1,10\n",
        "     do i=1,n\n",
        "        do j=1,p\n",
        "           c(i,j) = 0.0\n",
        "           do k=1,m\n",
        "              c(i,j) = c(i,j) + a(i,k) * b(k,j)\n",
        "           end do\n",
        "        end do\n",
        "     end do\n",
        "     write(*,*) 'Iteration', iter, 'completed'\n",
        "  end do\n",
        "  \n",
        "\n",
        "end program matrix_multiplication"
      ]
    },
    {
      "cell_type": "markdown",
      "metadata": {
        "id": "LJOrD7hyYmTJ"
      },
      "source": [
        "**My own example 17 - Running the Fortran program that mutiplies 10 times A(600x100) and  B (100x600) matrices**"
      ]
    },
    {
      "cell_type": "code",
      "execution_count": 48,
      "metadata": {
        "id": "iCy-Z4V9rtLq",
        "colab": {
          "base_uri": "https://localhost:8080/"
        },
        "outputId": "5dc3af40-e021-4fae-b627-f40f9922e4ba"
      },
      "outputs": [
        {
          "output_type": "stream",
          "name": "stdout",
          "text": [
            " Iteration           1 completed\n",
            " Iteration           2 completed\n",
            " Iteration           3 completed\n",
            " Iteration           4 completed\n",
            " Iteration           5 completed\n",
            " Iteration           6 completed\n",
            " Iteration           7 completed\n",
            " Iteration           8 completed\n",
            " Iteration           9 completed\n",
            " Iteration          10 completed\n"
          ]
        }
      ],
      "source": [
        "!gfortran -o matrix_multiplication matrix_multiplication.f90\n",
        "!./matrix_multiplication"
      ]
    },
    {
      "cell_type": "markdown",
      "metadata": {
        "id": "21wSmo50YfIo"
      },
      "source": [
        "**My own example 18 - Adding Fortran average execution time to the data frame**"
      ]
    },
    {
      "cell_type": "code",
      "execution_count": 49,
      "metadata": {
        "colab": {
          "base_uri": "https://localhost:8080/",
          "height": 378
        },
        "id": "UDMgoacS642X",
        "outputId": "ccf1049e-ed5c-4eeb-f2a5-384ac5a569ab"
      },
      "outputs": [
        {
          "output_type": "stream",
          "name": "stdout",
          "text": [
            " Iteration           1 completed\n",
            " Iteration           2 completed\n",
            " Iteration           3 completed\n",
            " Iteration           4 completed\n",
            " Iteration           5 completed\n",
            " Iteration           6 completed\n",
            " Iteration           7 completed\n",
            " Iteration           8 completed\n",
            " Iteration           9 completed\n",
            " Iteration          10 completed\n",
            "El tiempo promedio por multipicación es 0.2450786828994751\n"
          ]
        },
        {
          "output_type": "execute_result",
          "data": {
            "text/plain": [
              "        Lenguaje  Prom. Tiempo\n",
              "0         Python     10.749673\n",
              "0          NumPy      0.005612\n",
              "0  Fortran Magic      0.046675\n",
              "0        Fortran      0.245079"
            ],
            "text/html": [
              "\n",
              "  <div id=\"df-d4394d2d-c77e-4a14-bbcb-81f8b93e22d8\">\n",
              "    <div class=\"colab-df-container\">\n",
              "      <div>\n",
              "<style scoped>\n",
              "    .dataframe tbody tr th:only-of-type {\n",
              "        vertical-align: middle;\n",
              "    }\n",
              "\n",
              "    .dataframe tbody tr th {\n",
              "        vertical-align: top;\n",
              "    }\n",
              "\n",
              "    .dataframe thead th {\n",
              "        text-align: right;\n",
              "    }\n",
              "</style>\n",
              "<table border=\"1\" class=\"dataframe\">\n",
              "  <thead>\n",
              "    <tr style=\"text-align: right;\">\n",
              "      <th></th>\n",
              "      <th>Lenguaje</th>\n",
              "      <th>Prom. Tiempo</th>\n",
              "    </tr>\n",
              "  </thead>\n",
              "  <tbody>\n",
              "    <tr>\n",
              "      <th>0</th>\n",
              "      <td>Python</td>\n",
              "      <td>10.749673</td>\n",
              "    </tr>\n",
              "    <tr>\n",
              "      <th>0</th>\n",
              "      <td>NumPy</td>\n",
              "      <td>0.005612</td>\n",
              "    </tr>\n",
              "    <tr>\n",
              "      <th>0</th>\n",
              "      <td>Fortran Magic</td>\n",
              "      <td>0.046675</td>\n",
              "    </tr>\n",
              "    <tr>\n",
              "      <th>0</th>\n",
              "      <td>Fortran</td>\n",
              "      <td>0.245079</td>\n",
              "    </tr>\n",
              "  </tbody>\n",
              "</table>\n",
              "</div>\n",
              "      <button class=\"colab-df-convert\" onclick=\"convertToInteractive('df-d4394d2d-c77e-4a14-bbcb-81f8b93e22d8')\"\n",
              "              title=\"Convert this dataframe to an interactive table.\"\n",
              "              style=\"display:none;\">\n",
              "        \n",
              "  <svg xmlns=\"http://www.w3.org/2000/svg\" height=\"24px\"viewBox=\"0 0 24 24\"\n",
              "       width=\"24px\">\n",
              "    <path d=\"M0 0h24v24H0V0z\" fill=\"none\"/>\n",
              "    <path d=\"M18.56 5.44l.94 2.06.94-2.06 2.06-.94-2.06-.94-.94-2.06-.94 2.06-2.06.94zm-11 1L8.5 8.5l.94-2.06 2.06-.94-2.06-.94L8.5 2.5l-.94 2.06-2.06.94zm10 10l.94 2.06.94-2.06 2.06-.94-2.06-.94-.94-2.06-.94 2.06-2.06.94z\"/><path d=\"M17.41 7.96l-1.37-1.37c-.4-.4-.92-.59-1.43-.59-.52 0-1.04.2-1.43.59L10.3 9.45l-7.72 7.72c-.78.78-.78 2.05 0 2.83L4 21.41c.39.39.9.59 1.41.59.51 0 1.02-.2 1.41-.59l7.78-7.78 2.81-2.81c.8-.78.8-2.07 0-2.86zM5.41 20L4 18.59l7.72-7.72 1.47 1.35L5.41 20z\"/>\n",
              "  </svg>\n",
              "      </button>\n",
              "      \n",
              "  <style>\n",
              "    .colab-df-container {\n",
              "      display:flex;\n",
              "      flex-wrap:wrap;\n",
              "      gap: 12px;\n",
              "    }\n",
              "\n",
              "    .colab-df-convert {\n",
              "      background-color: #E8F0FE;\n",
              "      border: none;\n",
              "      border-radius: 50%;\n",
              "      cursor: pointer;\n",
              "      display: none;\n",
              "      fill: #1967D2;\n",
              "      height: 32px;\n",
              "      padding: 0 0 0 0;\n",
              "      width: 32px;\n",
              "    }\n",
              "\n",
              "    .colab-df-convert:hover {\n",
              "      background-color: #E2EBFA;\n",
              "      box-shadow: 0px 1px 2px rgba(60, 64, 67, 0.3), 0px 1px 3px 1px rgba(60, 64, 67, 0.15);\n",
              "      fill: #174EA6;\n",
              "    }\n",
              "\n",
              "    [theme=dark] .colab-df-convert {\n",
              "      background-color: #3B4455;\n",
              "      fill: #D2E3FC;\n",
              "    }\n",
              "\n",
              "    [theme=dark] .colab-df-convert:hover {\n",
              "      background-color: #434B5C;\n",
              "      box-shadow: 0px 1px 3px 1px rgba(0, 0, 0, 0.15);\n",
              "      filter: drop-shadow(0px 1px 2px rgba(0, 0, 0, 0.3));\n",
              "      fill: #FFFFFF;\n",
              "    }\n",
              "  </style>\n",
              "\n",
              "      <script>\n",
              "        const buttonEl =\n",
              "          document.querySelector('#df-d4394d2d-c77e-4a14-bbcb-81f8b93e22d8 button.colab-df-convert');\n",
              "        buttonEl.style.display =\n",
              "          google.colab.kernel.accessAllowed ? 'block' : 'none';\n",
              "\n",
              "        async function convertToInteractive(key) {\n",
              "          const element = document.querySelector('#df-d4394d2d-c77e-4a14-bbcb-81f8b93e22d8');\n",
              "          const dataTable =\n",
              "            await google.colab.kernel.invokeFunction('convertToInteractive',\n",
              "                                                     [key], {});\n",
              "          if (!dataTable) return;\n",
              "\n",
              "          const docLinkHtml = 'Like what you see? Visit the ' +\n",
              "            '<a target=\"_blank\" href=https://colab.research.google.com/notebooks/data_table.ipynb>data table notebook</a>'\n",
              "            + ' to learn more about interactive tables.';\n",
              "          element.innerHTML = '';\n",
              "          dataTable['output_type'] = 'display_data';\n",
              "          await google.colab.output.renderOutput(dataTable, element);\n",
              "          const docLink = document.createElement('div');\n",
              "          docLink.innerHTML = docLinkHtml;\n",
              "          element.appendChild(docLink);\n",
              "        }\n",
              "      </script>\n",
              "    </div>\n",
              "  </div>\n",
              "  "
            ]
          },
          "metadata": {},
          "execution_count": 49
        }
      ],
      "source": [
        "\n",
        "randma =np.array( random_matrix(600, 100))\n",
        "randmb =np.array( random_matrix(100, 600))\n",
        "list2=[]\n",
        "def tiempo(intentos,randa,randb):\n",
        "  for i in range(1):\n",
        "    inicio=time.time()\n",
        "    !gfortran -o matrix_multiplication matrix_multiplication.f90\n",
        "    !./matrix_multiplication\n",
        "    \n",
        "    final=time.time()\n",
        "    list2.append(final-inicio)\n",
        "  return list2\n",
        "tiempo(10,randma,randmb)\n",
        "print(\"El tiempo promedio por multipicación es {0}\".format(np.mean(list2)/10))\n",
        "prom_f=np.mean(list2)/10\n",
        "df=app_df(df,\"Fortran\",prom_f)\n",
        "df\n"
      ]
    },
    {
      "cell_type": "markdown",
      "metadata": {
        "id": "8G8ZZ2hfZXYA"
      },
      "source": [
        "**My own example 19 - Creating a c program that mutiplies 10 times A(600x100) and  B (100x600) matrices**"
      ]
    },
    {
      "cell_type": "code",
      "execution_count": 50,
      "metadata": {
        "id": "BknrT-KK65wP",
        "colab": {
          "base_uri": "https://localhost:8080/"
        },
        "outputId": "13c12813-9f77-484e-da9b-3bd6e00af7f9"
      },
      "outputs": [
        {
          "output_type": "stream",
          "name": "stdout",
          "text": [
            "Writing matrix_multiplication.c\n"
          ]
        }
      ],
      "source": [
        "%%writefile matrix_multiplication.c\n",
        "#include <stdio.h>\n",
        "#include <stdlib.h>\n",
        "#include <time.h>\n",
        "\n",
        "#define N 600\n",
        "#define M 100\n",
        "#define P 600\n",
        "\n",
        "void matrix_multiplication(float A[N][M], float B[M][P], float C[N][P]) {\n",
        "    int i, j, k;\n",
        "    for (i = 0; i < N; i++) {\n",
        "        for (j = 0; j < P; j++) {\n",
        "            C[i][j] = 0;\n",
        "            for (k = 0; k < M; k++) {\n",
        "                C[i][j] += A[i][k] * B[k][j];\n",
        "            }\n",
        "        }\n",
        "    }\n",
        "}\n",
        "\n",
        "int main() {\n",
        "    float A[N][M], B[M][P], C[N][P];\n",
        "    int i, j, k, iter;\n",
        "\n",
        "    srand(time(NULL));\n",
        "    for (i = 0; i < N; i++) {\n",
        "        for (j = 0; j < M; j++) {\n",
        "            A[i][j] = (float)rand() / (float)RAND_MAX;\n",
        "        }\n",
        "    }\n",
        "    for (i = 0; i < M; i++) {\n",
        "        for (j = 0; j < P; j++) {\n",
        "            B[i][j] = (float)rand() / (float)RAND_MAX;\n",
        "        }\n",
        "    }\n",
        "\n",
        "    for (iter = 0; iter < 10; iter++) {\n",
        "        matrix_multiplication(A, B, C);\n",
        "        printf(\"%d completado\\n\", iter+1);\n",
        "    }\n",
        "\n",
        "    return 0;\n",
        "}"
      ]
    },
    {
      "cell_type": "markdown",
      "metadata": {
        "id": "i-oPlTweZndB"
      },
      "source": [
        "**My own example 20 - Running the c program that mutiplies 10 times A(600x100) and  B (100x600) matrices**"
      ]
    },
    {
      "cell_type": "code",
      "execution_count": 51,
      "metadata": {
        "id": "CKFgaMTa67Ri",
        "colab": {
          "base_uri": "https://localhost:8080/"
        },
        "outputId": "abb6c298-1617-42c3-aad1-ce4819ef642f"
      },
      "outputs": [
        {
          "output_type": "stream",
          "name": "stdout",
          "text": [
            "1 completado\n",
            "2 completado\n",
            "3 completado\n",
            "4 completado\n",
            "5 completado\n",
            "6 completado\n",
            "7 completado\n",
            "8 completado\n",
            "9 completado\n",
            "10 completado\n"
          ]
        }
      ],
      "source": [
        "!gcc matrix_multiplication.c -o matrix_multiplication\n",
        "!./matrix_multiplication"
      ]
    },
    {
      "cell_type": "markdown",
      "metadata": {
        "id": "U9Wf-9DPZ3R4"
      },
      "source": [
        "**My own example 21 - Adding c average execution time to the data frame**"
      ]
    },
    {
      "cell_type": "code",
      "execution_count": 52,
      "metadata": {
        "id": "EfsTc5wN695I",
        "colab": {
          "base_uri": "https://localhost:8080/",
          "height": 409
        },
        "outputId": "92df7e94-2575-4476-dfaa-945c7643e281"
      },
      "outputs": [
        {
          "output_type": "stream",
          "name": "stdout",
          "text": [
            "1 completado\n",
            "2 completado\n",
            "3 completado\n",
            "4 completado\n",
            "5 completado\n",
            "6 completado\n",
            "7 completado\n",
            "8 completado\n",
            "9 completado\n",
            "10 completado\n",
            "El tiempo promedio por multipicación es 0.28571176528930664\n"
          ]
        },
        {
          "output_type": "execute_result",
          "data": {
            "text/plain": [
              "        Lenguaje  Prom. Tiempo\n",
              "0         Python     10.749673\n",
              "0          NumPy      0.005612\n",
              "0  Fortran Magic      0.046675\n",
              "0        Fortran      0.245079\n",
              "0              c      0.285712"
            ],
            "text/html": [
              "\n",
              "  <div id=\"df-364e83a0-3ee4-474b-8389-85900bf231a2\">\n",
              "    <div class=\"colab-df-container\">\n",
              "      <div>\n",
              "<style scoped>\n",
              "    .dataframe tbody tr th:only-of-type {\n",
              "        vertical-align: middle;\n",
              "    }\n",
              "\n",
              "    .dataframe tbody tr th {\n",
              "        vertical-align: top;\n",
              "    }\n",
              "\n",
              "    .dataframe thead th {\n",
              "        text-align: right;\n",
              "    }\n",
              "</style>\n",
              "<table border=\"1\" class=\"dataframe\">\n",
              "  <thead>\n",
              "    <tr style=\"text-align: right;\">\n",
              "      <th></th>\n",
              "      <th>Lenguaje</th>\n",
              "      <th>Prom. Tiempo</th>\n",
              "    </tr>\n",
              "  </thead>\n",
              "  <tbody>\n",
              "    <tr>\n",
              "      <th>0</th>\n",
              "      <td>Python</td>\n",
              "      <td>10.749673</td>\n",
              "    </tr>\n",
              "    <tr>\n",
              "      <th>0</th>\n",
              "      <td>NumPy</td>\n",
              "      <td>0.005612</td>\n",
              "    </tr>\n",
              "    <tr>\n",
              "      <th>0</th>\n",
              "      <td>Fortran Magic</td>\n",
              "      <td>0.046675</td>\n",
              "    </tr>\n",
              "    <tr>\n",
              "      <th>0</th>\n",
              "      <td>Fortran</td>\n",
              "      <td>0.245079</td>\n",
              "    </tr>\n",
              "    <tr>\n",
              "      <th>0</th>\n",
              "      <td>c</td>\n",
              "      <td>0.285712</td>\n",
              "    </tr>\n",
              "  </tbody>\n",
              "</table>\n",
              "</div>\n",
              "      <button class=\"colab-df-convert\" onclick=\"convertToInteractive('df-364e83a0-3ee4-474b-8389-85900bf231a2')\"\n",
              "              title=\"Convert this dataframe to an interactive table.\"\n",
              "              style=\"display:none;\">\n",
              "        \n",
              "  <svg xmlns=\"http://www.w3.org/2000/svg\" height=\"24px\"viewBox=\"0 0 24 24\"\n",
              "       width=\"24px\">\n",
              "    <path d=\"M0 0h24v24H0V0z\" fill=\"none\"/>\n",
              "    <path d=\"M18.56 5.44l.94 2.06.94-2.06 2.06-.94-2.06-.94-.94-2.06-.94 2.06-2.06.94zm-11 1L8.5 8.5l.94-2.06 2.06-.94-2.06-.94L8.5 2.5l-.94 2.06-2.06.94zm10 10l.94 2.06.94-2.06 2.06-.94-2.06-.94-.94-2.06-.94 2.06-2.06.94z\"/><path d=\"M17.41 7.96l-1.37-1.37c-.4-.4-.92-.59-1.43-.59-.52 0-1.04.2-1.43.59L10.3 9.45l-7.72 7.72c-.78.78-.78 2.05 0 2.83L4 21.41c.39.39.9.59 1.41.59.51 0 1.02-.2 1.41-.59l7.78-7.78 2.81-2.81c.8-.78.8-2.07 0-2.86zM5.41 20L4 18.59l7.72-7.72 1.47 1.35L5.41 20z\"/>\n",
              "  </svg>\n",
              "      </button>\n",
              "      \n",
              "  <style>\n",
              "    .colab-df-container {\n",
              "      display:flex;\n",
              "      flex-wrap:wrap;\n",
              "      gap: 12px;\n",
              "    }\n",
              "\n",
              "    .colab-df-convert {\n",
              "      background-color: #E8F0FE;\n",
              "      border: none;\n",
              "      border-radius: 50%;\n",
              "      cursor: pointer;\n",
              "      display: none;\n",
              "      fill: #1967D2;\n",
              "      height: 32px;\n",
              "      padding: 0 0 0 0;\n",
              "      width: 32px;\n",
              "    }\n",
              "\n",
              "    .colab-df-convert:hover {\n",
              "      background-color: #E2EBFA;\n",
              "      box-shadow: 0px 1px 2px rgba(60, 64, 67, 0.3), 0px 1px 3px 1px rgba(60, 64, 67, 0.15);\n",
              "      fill: #174EA6;\n",
              "    }\n",
              "\n",
              "    [theme=dark] .colab-df-convert {\n",
              "      background-color: #3B4455;\n",
              "      fill: #D2E3FC;\n",
              "    }\n",
              "\n",
              "    [theme=dark] .colab-df-convert:hover {\n",
              "      background-color: #434B5C;\n",
              "      box-shadow: 0px 1px 3px 1px rgba(0, 0, 0, 0.15);\n",
              "      filter: drop-shadow(0px 1px 2px rgba(0, 0, 0, 0.3));\n",
              "      fill: #FFFFFF;\n",
              "    }\n",
              "  </style>\n",
              "\n",
              "      <script>\n",
              "        const buttonEl =\n",
              "          document.querySelector('#df-364e83a0-3ee4-474b-8389-85900bf231a2 button.colab-df-convert');\n",
              "        buttonEl.style.display =\n",
              "          google.colab.kernel.accessAllowed ? 'block' : 'none';\n",
              "\n",
              "        async function convertToInteractive(key) {\n",
              "          const element = document.querySelector('#df-364e83a0-3ee4-474b-8389-85900bf231a2');\n",
              "          const dataTable =\n",
              "            await google.colab.kernel.invokeFunction('convertToInteractive',\n",
              "                                                     [key], {});\n",
              "          if (!dataTable) return;\n",
              "\n",
              "          const docLinkHtml = 'Like what you see? Visit the ' +\n",
              "            '<a target=\"_blank\" href=https://colab.research.google.com/notebooks/data_table.ipynb>data table notebook</a>'\n",
              "            + ' to learn more about interactive tables.';\n",
              "          element.innerHTML = '';\n",
              "          dataTable['output_type'] = 'display_data';\n",
              "          await google.colab.output.renderOutput(dataTable, element);\n",
              "          const docLink = document.createElement('div');\n",
              "          docLink.innerHTML = docLinkHtml;\n",
              "          element.appendChild(docLink);\n",
              "        }\n",
              "      </script>\n",
              "    </div>\n",
              "  </div>\n",
              "  "
            ]
          },
          "metadata": {},
          "execution_count": 52
        }
      ],
      "source": [
        "\n",
        "list3=[]\n",
        "def tiempo():\n",
        "  for i in range(1):\n",
        "    inicio=time.time()\n",
        "\n",
        "    !gcc matrix_multiplication.c -o matrix_multiplication\n",
        "    !./matrix_multiplication\n",
        "    \n",
        "    final=time.time()\n",
        "\n",
        "    list3.append(final-inicio)\n",
        "\n",
        "  return list3\n",
        "tiempo()\n",
        "print(\"El tiempo promedio por multipicación es {0}\".format(np.mean(list3)/10))\n",
        "prom_c=np.mean(list3)/10\n",
        "df=app_df(df,\"c\",prom_c)\n",
        "df"
      ]
    },
    {
      "cell_type": "markdown",
      "metadata": {
        "id": "XkgHEUB2aFI1"
      },
      "source": [
        "**My own example 22 - Creating a C++ program that mutiplies 10 times A(600x100) and  B (100x600) matrices**"
      ]
    },
    {
      "cell_type": "code",
      "execution_count": 53,
      "metadata": {
        "id": "U1CoUYEw6-9P",
        "colab": {
          "base_uri": "https://localhost:8080/"
        },
        "outputId": "d7f31a31-6331-4257-eb2a-09b8973f2f5e"
      },
      "outputs": [
        {
          "output_type": "stream",
          "name": "stdout",
          "text": [
            "Writing matsam.cpp\n"
          ]
        }
      ],
      "source": [
        "%%writefile matsam.cpp\n",
        "  #include <stdio.h>\n",
        "  #include <stdlib.h>\n",
        "  #include <time.h>\n",
        "  #include <iostream>\n",
        "\n",
        "  using namespace std;\n",
        "\n",
        "  void fillMatrix(int **matriz, int filas, int columnas);\n",
        "  void matsam(int **matrizA, int **matrizB, int **result, int filas, int columnas);\n",
        "  double multAverage(int **matrizA, int **matrizB, int **result, int filas, int columnas, int rep);\n",
        "\n",
        "  int main(void) {\n",
        "    FILE *fileAvr;\n",
        "    int filas = 600;\n",
        "    int columnas = 100;\n",
        "\n",
        "    int **pmatrizA;\n",
        "    int **pmatrizB;\n",
        "    int **presult;\n",
        "    unsigned int rep = 10;\n",
        "    double average = 0.0;\n",
        "\n",
        "    //matrix pointers\n",
        "    pmatrizA = (int **) malloc(filas * sizeof(int *)); \n",
        "    for(int a = 0; a < filas; a++){\n",
        "      pmatrizA[a] = (int *) malloc(columnas * sizeof(int)); \n",
        "    }\n",
        "\n",
        "    pmatrizB = (int **) malloc(columnas * sizeof(int *));\n",
        "    for(int a = 0; a < columnas; a++){\n",
        "      pmatrizB[a] = (int *) malloc(filas * sizeof(int));\n",
        "    }\n",
        "\n",
        "    presult = (int **) malloc(filas * sizeof(int *));\n",
        "    for(int a = 0; a < filas; a++){\n",
        "      presult[a] = (int *) malloc(filas * sizeof(int));\n",
        "    }\n",
        "\n",
        "  \n",
        "    fillMatrix(pmatrizA, filas, columnas);\n",
        "    fillMatrix(pmatrizB, columnas, filas);\n",
        "\n",
        "    \n",
        "    average = multAverage(pmatrizA, pmatrizB, presult, filas, columnas, rep);\n",
        "    printf(\"Promedio en C++: %f segundos\\n\",average);\n",
        "\n",
        "   \n",
        "    fileAvr = fopen(\"c_mas_average.txt\", \"w\");\n",
        "    fprintf(fileAvr,\"%f\",average);\n",
        "    fclose(fileAvr);\n",
        "\n",
        "    return 0;\n",
        "  }\n",
        "\n",
        "  void fillMatrix(int **matriz, int filas, int columnas){\n",
        "    for(int a=0; a<filas; a++){\n",
        "      for(int b=0; b<columnas; b++){\n",
        "        matriz[a][b] = rand();\n",
        "      }\n",
        "    }\n",
        "    return;\n",
        "  }\n",
        "\n",
        "  double multAverage(int **matrizA, int **matrizB, int **result, int filas, int columnas, int rep){\n",
        "    clock_t start, end;\n",
        "    double average = 0.0;\n",
        "    double execution = 0.0;\n",
        "\n",
        "    for(int a=0; a<rep; a++){\n",
        "      start = clock();\n",
        "      matsam(matrizA, matrizB, result, filas, columnas);\n",
        "      end = clock();\n",
        "      execution = ((double)(end - start))/CLOCKS_PER_SEC;\n",
        "      average += execution;\n",
        "      printf(\"Repetición %d -> %f segundos\\n\",a+1, execution);\n",
        "    }\n",
        "    return average/((double) rep);\n",
        "  }\n",
        "\n",
        "  void matsam(int **matrizA, int **matrizB, int **result, int filas, int columnas){\n",
        "\n",
        "\n",
        "    for(int a=0; a<filas; a++){\n",
        "      for(int b=0; b<filas; b++){\n",
        "        for(int f=0; f<columnas; f++){\n",
        "          result[a][b] += matrizA[a][f] * matrizB[f][b];\n",
        "        }\n",
        "      }\n",
        "    }\n",
        "    return;\n",
        "  }"
      ]
    },
    {
      "cell_type": "markdown",
      "metadata": {
        "id": "WFpb2F81aKJA"
      },
      "source": [
        "**My own example 23 - Running the C++ program that mutiplies 10 times A(600x100) and  B (100x600) matrices**"
      ]
    },
    {
      "cell_type": "code",
      "execution_count": 54,
      "metadata": {
        "id": "Q33PLFeG6_0r",
        "colab": {
          "base_uri": "https://localhost:8080/"
        },
        "outputId": "01bce96f-43da-4819-c2e6-e4da01d04485"
      },
      "outputs": [
        {
          "output_type": "stream",
          "name": "stdout",
          "text": [
            "Repetición 1 -> 0.212482 segundos\n",
            "Repetición 2 -> 0.208401 segundos\n",
            "Repetición 3 -> 0.224572 segundos\n",
            "Repetición 4 -> 0.218760 segundos\n",
            "Repetición 5 -> 0.208930 segundos\n",
            "Repetición 6 -> 0.206944 segundos\n",
            "Repetición 7 -> 0.204131 segundos\n",
            "Repetición 8 -> 0.232492 segundos\n",
            "Repetición 9 -> 0.218357 segundos\n",
            "Repetición 10 -> 0.211854 segundos\n",
            "Promedio en C++: 0.214692 segundos\n"
          ]
        }
      ],
      "source": [
        "!g++ matsam.cpp -o matsam\n",
        "!./matsam"
      ]
    },
    {
      "cell_type": "markdown",
      "metadata": {
        "id": "GSEE2zDjaPmg"
      },
      "source": [
        "**My own example 24 - Adding C++ average execution time to the data frame**"
      ]
    },
    {
      "cell_type": "code",
      "execution_count": 55,
      "metadata": {
        "id": "YL_YL8Qm7B0w",
        "colab": {
          "base_uri": "https://localhost:8080/",
          "height": 237
        },
        "outputId": "5b815229-e6bf-410c-ab54-fce0abf3a741"
      },
      "outputs": [
        {
          "output_type": "execute_result",
          "data": {
            "text/plain": [
              "        Lenguaje  Prom. Tiempo\n",
              "0         Python     10.749673\n",
              "0          NumPy      0.005612\n",
              "0  Fortran Magic      0.046675\n",
              "0        Fortran      0.245079\n",
              "0              c      0.285712\n",
              "0            C++      0.214692"
            ],
            "text/html": [
              "\n",
              "  <div id=\"df-1136b950-9838-498c-87ba-da9e9b620444\">\n",
              "    <div class=\"colab-df-container\">\n",
              "      <div>\n",
              "<style scoped>\n",
              "    .dataframe tbody tr th:only-of-type {\n",
              "        vertical-align: middle;\n",
              "    }\n",
              "\n",
              "    .dataframe tbody tr th {\n",
              "        vertical-align: top;\n",
              "    }\n",
              "\n",
              "    .dataframe thead th {\n",
              "        text-align: right;\n",
              "    }\n",
              "</style>\n",
              "<table border=\"1\" class=\"dataframe\">\n",
              "  <thead>\n",
              "    <tr style=\"text-align: right;\">\n",
              "      <th></th>\n",
              "      <th>Lenguaje</th>\n",
              "      <th>Prom. Tiempo</th>\n",
              "    </tr>\n",
              "  </thead>\n",
              "  <tbody>\n",
              "    <tr>\n",
              "      <th>0</th>\n",
              "      <td>Python</td>\n",
              "      <td>10.749673</td>\n",
              "    </tr>\n",
              "    <tr>\n",
              "      <th>0</th>\n",
              "      <td>NumPy</td>\n",
              "      <td>0.005612</td>\n",
              "    </tr>\n",
              "    <tr>\n",
              "      <th>0</th>\n",
              "      <td>Fortran Magic</td>\n",
              "      <td>0.046675</td>\n",
              "    </tr>\n",
              "    <tr>\n",
              "      <th>0</th>\n",
              "      <td>Fortran</td>\n",
              "      <td>0.245079</td>\n",
              "    </tr>\n",
              "    <tr>\n",
              "      <th>0</th>\n",
              "      <td>c</td>\n",
              "      <td>0.285712</td>\n",
              "    </tr>\n",
              "    <tr>\n",
              "      <th>0</th>\n",
              "      <td>C++</td>\n",
              "      <td>0.214692</td>\n",
              "    </tr>\n",
              "  </tbody>\n",
              "</table>\n",
              "</div>\n",
              "      <button class=\"colab-df-convert\" onclick=\"convertToInteractive('df-1136b950-9838-498c-87ba-da9e9b620444')\"\n",
              "              title=\"Convert this dataframe to an interactive table.\"\n",
              "              style=\"display:none;\">\n",
              "        \n",
              "  <svg xmlns=\"http://www.w3.org/2000/svg\" height=\"24px\"viewBox=\"0 0 24 24\"\n",
              "       width=\"24px\">\n",
              "    <path d=\"M0 0h24v24H0V0z\" fill=\"none\"/>\n",
              "    <path d=\"M18.56 5.44l.94 2.06.94-2.06 2.06-.94-2.06-.94-.94-2.06-.94 2.06-2.06.94zm-11 1L8.5 8.5l.94-2.06 2.06-.94-2.06-.94L8.5 2.5l-.94 2.06-2.06.94zm10 10l.94 2.06.94-2.06 2.06-.94-2.06-.94-.94-2.06-.94 2.06-2.06.94z\"/><path d=\"M17.41 7.96l-1.37-1.37c-.4-.4-.92-.59-1.43-.59-.52 0-1.04.2-1.43.59L10.3 9.45l-7.72 7.72c-.78.78-.78 2.05 0 2.83L4 21.41c.39.39.9.59 1.41.59.51 0 1.02-.2 1.41-.59l7.78-7.78 2.81-2.81c.8-.78.8-2.07 0-2.86zM5.41 20L4 18.59l7.72-7.72 1.47 1.35L5.41 20z\"/>\n",
              "  </svg>\n",
              "      </button>\n",
              "      \n",
              "  <style>\n",
              "    .colab-df-container {\n",
              "      display:flex;\n",
              "      flex-wrap:wrap;\n",
              "      gap: 12px;\n",
              "    }\n",
              "\n",
              "    .colab-df-convert {\n",
              "      background-color: #E8F0FE;\n",
              "      border: none;\n",
              "      border-radius: 50%;\n",
              "      cursor: pointer;\n",
              "      display: none;\n",
              "      fill: #1967D2;\n",
              "      height: 32px;\n",
              "      padding: 0 0 0 0;\n",
              "      width: 32px;\n",
              "    }\n",
              "\n",
              "    .colab-df-convert:hover {\n",
              "      background-color: #E2EBFA;\n",
              "      box-shadow: 0px 1px 2px rgba(60, 64, 67, 0.3), 0px 1px 3px 1px rgba(60, 64, 67, 0.15);\n",
              "      fill: #174EA6;\n",
              "    }\n",
              "\n",
              "    [theme=dark] .colab-df-convert {\n",
              "      background-color: #3B4455;\n",
              "      fill: #D2E3FC;\n",
              "    }\n",
              "\n",
              "    [theme=dark] .colab-df-convert:hover {\n",
              "      background-color: #434B5C;\n",
              "      box-shadow: 0px 1px 3px 1px rgba(0, 0, 0, 0.15);\n",
              "      filter: drop-shadow(0px 1px 2px rgba(0, 0, 0, 0.3));\n",
              "      fill: #FFFFFF;\n",
              "    }\n",
              "  </style>\n",
              "\n",
              "      <script>\n",
              "        const buttonEl =\n",
              "          document.querySelector('#df-1136b950-9838-498c-87ba-da9e9b620444 button.colab-df-convert');\n",
              "        buttonEl.style.display =\n",
              "          google.colab.kernel.accessAllowed ? 'block' : 'none';\n",
              "\n",
              "        async function convertToInteractive(key) {\n",
              "          const element = document.querySelector('#df-1136b950-9838-498c-87ba-da9e9b620444');\n",
              "          const dataTable =\n",
              "            await google.colab.kernel.invokeFunction('convertToInteractive',\n",
              "                                                     [key], {});\n",
              "          if (!dataTable) return;\n",
              "\n",
              "          const docLinkHtml = 'Like what you see? Visit the ' +\n",
              "            '<a target=\"_blank\" href=https://colab.research.google.com/notebooks/data_table.ipynb>data table notebook</a>'\n",
              "            + ' to learn more about interactive tables.';\n",
              "          element.innerHTML = '';\n",
              "          dataTable['output_type'] = 'display_data';\n",
              "          await google.colab.output.renderOutput(dataTable, element);\n",
              "          const docLink = document.createElement('div');\n",
              "          docLink.innerHTML = docLinkHtml;\n",
              "          element.appendChild(docLink);\n",
              "        }\n",
              "      </script>\n",
              "    </div>\n",
              "  </div>\n",
              "  "
            ]
          },
          "metadata": {},
          "execution_count": 55
        }
      ],
      "source": [
        "c_mas_file = open('c_mas_average.txt','r')\n",
        "promedio_c_mas = float(c_mas_file.readline())\n",
        "\n",
        "df=app_df(df,\"C++\",promedio_c_mas)\n",
        "df"
      ]
    },
    {
      "cell_type": "markdown",
      "metadata": {
        "id": "OjOecKv-d-ML"
      },
      "source": [
        "**My own example 25 - Creating a Java program that mutiplies 10 times A(600x100) and  B (100x600) matrices**"
      ]
    },
    {
      "cell_type": "code",
      "execution_count": 56,
      "metadata": {
        "id": "o8UPxOqs7C34",
        "colab": {
          "base_uri": "https://localhost:8080/"
        },
        "outputId": "27975fea-1a6c-43d5-e264-1b54c99bbc2d"
      },
      "outputs": [
        {
          "output_type": "stream",
          "name": "stdout",
          "text": [
            "Writing MatMul.java\n"
          ]
        }
      ],
      "source": [
        "%%writefile MatMul.java\n",
        "\n",
        "  import java.util.Random;\n",
        "  import java.io.FileWriter;\n",
        "  import java.io.IOException;\n",
        "\n",
        "  \n",
        "  class MatMul {\n",
        "\n",
        "    public static void main(String[] args) {\n",
        "      int n = 600;\n",
        "      int m = 100;\n",
        "      int rep = 10;\n",
        "\n",
        "\n",
        "      int[][] matA = new int[n][m];\n",
        "      int[][] matB = new int[m][n];\n",
        "      int[][] result = new int[n][n];\n",
        "    \n",
        "\n",
        "      //Llenar matrices\n",
        "      fillMatrix(matA, n, m);\n",
        "      fillMatrix(matB, m, n);\n",
        "\n",
        "       //matrix multiplication repetitions\n",
        "      double average = multAverage(matA, matB, result, n, m, rep);\n",
        "      System.out.println(\"Promedio por iteración será: \" + average + \" segundos\");\n",
        "\n",
        "      try {\n",
        "          FileWriter fileAvr = new FileWriter(\"java_average.txt\");\n",
        "          fileAvr.write(Double.toString(average));\n",
        "          fileAvr.close();\n",
        "      }\n",
        "      catch (IOException e) {\n",
        "          e.printStackTrace();\n",
        "      }\n",
        "\n",
        "    }\n",
        "\n",
        "\n",
        "    static double multAverage(int[][] matA, int[][] matB, int[][] result, int n, int m, int rep){\n",
        "      long average = 0;\n",
        "\n",
        "      for(int i=0; i<rep; i++){\n",
        "        long start = System.currentTimeMillis();\n",
        "        matMultiplication(matA, matB, result, n, m);\n",
        "    \n",
        "    long end = System.currentTimeMillis();\n",
        "\n",
        "\n",
        "        long execution = end - start;\n",
        "        average += execution;\n",
        "        System.out.println(\"Intento \" + (i+1) + \" -> \" + ((double)execution/1000) + \" segundos\");\n",
        "      }\n",
        "\n",
        "      average = average/rep; //in milliseconds\n",
        "      double avr = (double)average/1000;\n",
        "\n",
        "      return avr;\n",
        "    }\n",
        "\n",
        "    static void matMultiplication(int[][] matA, int[][] matB, int[][] result, int n, int m){\n",
        "    \n",
        "\n",
        "      for(int i=0; i<n; i++){\n",
        "        for(int j=0; j<n; j++){\n",
        "          for(int k=0; k<m; k++){\n",
        "            result[i][j] += matA[i][k] * matB[k][j];\n",
        "          }\n",
        "        }\n",
        "      }\n",
        "    }\n",
        "\n",
        "    static void fillMatrix(int[][] mat, int n, int m){\n",
        "\n",
        "      Random random = new Random();\n",
        "\n",
        "      for (int i = 0; i < n; i++) {\n",
        "        for (int j = 0; j < m; j++) {\n",
        "          mat[i][j] = random.nextInt(10000);\n",
        "        }\n",
        "      }\n",
        "    }\n",
        "  }\n",
        "\n"
      ]
    },
    {
      "cell_type": "markdown",
      "metadata": {
        "id": "J75aKNvZeFHx"
      },
      "source": [
        "**My own example 26 - Running the Java program that mutiplies 10 times A(600x100) and  B (100x600) matrices**"
      ]
    },
    {
      "cell_type": "code",
      "execution_count": 57,
      "metadata": {
        "id": "NP_QcZqA7EPn",
        "colab": {
          "base_uri": "https://localhost:8080/"
        },
        "outputId": "2741d4eb-8e7d-444f-d434-5a72c6ebf678"
      },
      "outputs": [
        {
          "output_type": "stream",
          "name": "stdout",
          "text": [
            "Intento 1 -> 0.117 segundos\n",
            "Intento 2 -> 0.084 segundos\n",
            "Intento 3 -> 0.043 segundos\n",
            "Intento 4 -> 0.045 segundos\n",
            "Intento 5 -> 0.043 segundos\n",
            "Intento 6 -> 0.048 segundos\n",
            "Intento 7 -> 0.045 segundos\n",
            "Intento 8 -> 0.043 segundos\n",
            "Intento 9 -> 0.044 segundos\n",
            "Intento 10 -> 0.044 segundos\n",
            "Promedio por iteración será: 0.055 segundos\n"
          ]
        }
      ],
      "source": [
        "!javac MatMul.java\n",
        "!java MatMul"
      ]
    },
    {
      "cell_type": "markdown",
      "metadata": {
        "id": "C75pEHRieNfo"
      },
      "source": [
        "**My own example 27 - Adding Java average execution time to the data frame**"
      ]
    },
    {
      "cell_type": "code",
      "execution_count": 58,
      "metadata": {
        "id": "5ZDLYWrY7Fhi",
        "colab": {
          "base_uri": "https://localhost:8080/",
          "height": 269
        },
        "outputId": "c534be74-f82a-4509-b8f6-188c8bb89d80"
      },
      "outputs": [
        {
          "output_type": "execute_result",
          "data": {
            "text/plain": [
              "        Lenguaje  Prom. Tiempo\n",
              "0         Python     10.749673\n",
              "0          NumPy      0.005612\n",
              "0  Fortran Magic      0.046675\n",
              "0        Fortran      0.245079\n",
              "0              c      0.285712\n",
              "0            C++      0.214692\n",
              "0           Java      0.055000"
            ],
            "text/html": [
              "\n",
              "  <div id=\"df-979f9a8d-aec8-486d-8b26-e19b1fcdce44\">\n",
              "    <div class=\"colab-df-container\">\n",
              "      <div>\n",
              "<style scoped>\n",
              "    .dataframe tbody tr th:only-of-type {\n",
              "        vertical-align: middle;\n",
              "    }\n",
              "\n",
              "    .dataframe tbody tr th {\n",
              "        vertical-align: top;\n",
              "    }\n",
              "\n",
              "    .dataframe thead th {\n",
              "        text-align: right;\n",
              "    }\n",
              "</style>\n",
              "<table border=\"1\" class=\"dataframe\">\n",
              "  <thead>\n",
              "    <tr style=\"text-align: right;\">\n",
              "      <th></th>\n",
              "      <th>Lenguaje</th>\n",
              "      <th>Prom. Tiempo</th>\n",
              "    </tr>\n",
              "  </thead>\n",
              "  <tbody>\n",
              "    <tr>\n",
              "      <th>0</th>\n",
              "      <td>Python</td>\n",
              "      <td>10.749673</td>\n",
              "    </tr>\n",
              "    <tr>\n",
              "      <th>0</th>\n",
              "      <td>NumPy</td>\n",
              "      <td>0.005612</td>\n",
              "    </tr>\n",
              "    <tr>\n",
              "      <th>0</th>\n",
              "      <td>Fortran Magic</td>\n",
              "      <td>0.046675</td>\n",
              "    </tr>\n",
              "    <tr>\n",
              "      <th>0</th>\n",
              "      <td>Fortran</td>\n",
              "      <td>0.245079</td>\n",
              "    </tr>\n",
              "    <tr>\n",
              "      <th>0</th>\n",
              "      <td>c</td>\n",
              "      <td>0.285712</td>\n",
              "    </tr>\n",
              "    <tr>\n",
              "      <th>0</th>\n",
              "      <td>C++</td>\n",
              "      <td>0.214692</td>\n",
              "    </tr>\n",
              "    <tr>\n",
              "      <th>0</th>\n",
              "      <td>Java</td>\n",
              "      <td>0.055000</td>\n",
              "    </tr>\n",
              "  </tbody>\n",
              "</table>\n",
              "</div>\n",
              "      <button class=\"colab-df-convert\" onclick=\"convertToInteractive('df-979f9a8d-aec8-486d-8b26-e19b1fcdce44')\"\n",
              "              title=\"Convert this dataframe to an interactive table.\"\n",
              "              style=\"display:none;\">\n",
              "        \n",
              "  <svg xmlns=\"http://www.w3.org/2000/svg\" height=\"24px\"viewBox=\"0 0 24 24\"\n",
              "       width=\"24px\">\n",
              "    <path d=\"M0 0h24v24H0V0z\" fill=\"none\"/>\n",
              "    <path d=\"M18.56 5.44l.94 2.06.94-2.06 2.06-.94-2.06-.94-.94-2.06-.94 2.06-2.06.94zm-11 1L8.5 8.5l.94-2.06 2.06-.94-2.06-.94L8.5 2.5l-.94 2.06-2.06.94zm10 10l.94 2.06.94-2.06 2.06-.94-2.06-.94-.94-2.06-.94 2.06-2.06.94z\"/><path d=\"M17.41 7.96l-1.37-1.37c-.4-.4-.92-.59-1.43-.59-.52 0-1.04.2-1.43.59L10.3 9.45l-7.72 7.72c-.78.78-.78 2.05 0 2.83L4 21.41c.39.39.9.59 1.41.59.51 0 1.02-.2 1.41-.59l7.78-7.78 2.81-2.81c.8-.78.8-2.07 0-2.86zM5.41 20L4 18.59l7.72-7.72 1.47 1.35L5.41 20z\"/>\n",
              "  </svg>\n",
              "      </button>\n",
              "      \n",
              "  <style>\n",
              "    .colab-df-container {\n",
              "      display:flex;\n",
              "      flex-wrap:wrap;\n",
              "      gap: 12px;\n",
              "    }\n",
              "\n",
              "    .colab-df-convert {\n",
              "      background-color: #E8F0FE;\n",
              "      border: none;\n",
              "      border-radius: 50%;\n",
              "      cursor: pointer;\n",
              "      display: none;\n",
              "      fill: #1967D2;\n",
              "      height: 32px;\n",
              "      padding: 0 0 0 0;\n",
              "      width: 32px;\n",
              "    }\n",
              "\n",
              "    .colab-df-convert:hover {\n",
              "      background-color: #E2EBFA;\n",
              "      box-shadow: 0px 1px 2px rgba(60, 64, 67, 0.3), 0px 1px 3px 1px rgba(60, 64, 67, 0.15);\n",
              "      fill: #174EA6;\n",
              "    }\n",
              "\n",
              "    [theme=dark] .colab-df-convert {\n",
              "      background-color: #3B4455;\n",
              "      fill: #D2E3FC;\n",
              "    }\n",
              "\n",
              "    [theme=dark] .colab-df-convert:hover {\n",
              "      background-color: #434B5C;\n",
              "      box-shadow: 0px 1px 3px 1px rgba(0, 0, 0, 0.15);\n",
              "      filter: drop-shadow(0px 1px 2px rgba(0, 0, 0, 0.3));\n",
              "      fill: #FFFFFF;\n",
              "    }\n",
              "  </style>\n",
              "\n",
              "      <script>\n",
              "        const buttonEl =\n",
              "          document.querySelector('#df-979f9a8d-aec8-486d-8b26-e19b1fcdce44 button.colab-df-convert');\n",
              "        buttonEl.style.display =\n",
              "          google.colab.kernel.accessAllowed ? 'block' : 'none';\n",
              "\n",
              "        async function convertToInteractive(key) {\n",
              "          const element = document.querySelector('#df-979f9a8d-aec8-486d-8b26-e19b1fcdce44');\n",
              "          const dataTable =\n",
              "            await google.colab.kernel.invokeFunction('convertToInteractive',\n",
              "                                                     [key], {});\n",
              "          if (!dataTable) return;\n",
              "\n",
              "          const docLinkHtml = 'Like what you see? Visit the ' +\n",
              "            '<a target=\"_blank\" href=https://colab.research.google.com/notebooks/data_table.ipynb>data table notebook</a>'\n",
              "            + ' to learn more about interactive tables.';\n",
              "          element.innerHTML = '';\n",
              "          dataTable['output_type'] = 'display_data';\n",
              "          await google.colab.output.renderOutput(dataTable, element);\n",
              "          const docLink = document.createElement('div');\n",
              "          docLink.innerHTML = docLinkHtml;\n",
              "          element.appendChild(docLink);\n",
              "        }\n",
              "      </script>\n",
              "    </div>\n",
              "  </div>\n",
              "  "
            ]
          },
          "metadata": {},
          "execution_count": 58
        }
      ],
      "source": [
        "java_prom = open('java_average.txt','r')\n",
        "prom_j = float(java_prom.readline())\n",
        "df=app_df(df,\"Java\",prom_j)\n",
        "df"
      ]
    },
    {
      "cell_type": "markdown",
      "metadata": {
        "id": "nHtevrHEeUiI"
      },
      "source": [
        "**My own example 28 - Creating a Javascript program that mutiplies 10 times A(600x100) and  B (100x600) matrices**"
      ]
    },
    {
      "cell_type": "code",
      "execution_count": 59,
      "metadata": {
        "id": "6t1-WhmW7GhX",
        "colab": {
          "base_uri": "https://localhost:8080/"
        },
        "outputId": "65499df5-3fb5-4790-c633-0f52da01d503"
      },
      "outputs": [
        {
          "output_type": "stream",
          "name": "stdout",
          "text": [
            "Writing matMul.js\n"
          ]
        }
      ],
      "source": [
        "%%writefile matMul.js\n",
        "  \n",
        "\n",
        "  function multiplyMatrices(A, B) {\n",
        "    var result = new Array(A.length);\n",
        "    for (var i = 0; i < A.length; i++) {\n",
        "      result[i] = new Array(B[0].length);\n",
        "      for (var j = 0; j < B[0].length; j++) {\n",
        "        var sum = 0;\n",
        "        for (var k = 0; k < B.length; k++) {\n",
        "          sum += A[i][k] * B[k][j];\n",
        "        }\n",
        "        result[i][j] = sum;\n",
        "      }\n",
        "    }\n",
        "    return result;\n",
        "  }\n",
        "\n",
        "  // Generate random matrices A and B\n",
        "  var A = new Array(600);\n",
        "  for (var i = 0; i < 600; i++) {\n",
        "    A[i] = new Array(100);\n",
        "    for (var j = 0; j < 100; j++) {\n",
        "      A[i][j] = Math.floor(Math.random() * 10);\n",
        "    }\n",
        "  }\n",
        "\n",
        "  var B = new Array(100);\n",
        "  for (var i = 0; i < 100; i++) {\n",
        "    B[i] = new Array(600);\n",
        "    for (var j = 0; j < 600; j++) {\n",
        "      B[i][j] = Math.floor(Math.random() * 10);\n",
        "    }\n",
        "  }\n",
        "\n",
        "  // Multiply matrices A and B\n",
        "  var C = multiplyMatrices(A, B);\n",
        "\n",
        "  console.log(C);"
      ]
    },
    {
      "cell_type": "markdown",
      "metadata": {
        "id": "87XpOlCteUZJ"
      },
      "source": [
        "**My own example 29 - Running the Javascript program that mutiplies 10 times A(600x100) and  B (100x600) matrices**"
      ]
    },
    {
      "cell_type": "code",
      "execution_count": 60,
      "metadata": {
        "id": "QEm52oVe7HyF",
        "colab": {
          "base_uri": "https://localhost:8080/"
        },
        "outputId": "b83dc2c0-8943-4fad-c2fb-7be55457a09f"
      },
      "outputs": [
        {
          "output_type": "stream",
          "name": "stdout",
          "text": [
            "[\n",
            "  [\n",
            "    \u001b[33m1665\u001b[39m, \u001b[33m2278\u001b[39m, \u001b[33m2346\u001b[39m, \u001b[33m1950\u001b[39m, \u001b[33m2389\u001b[39m, \u001b[33m1913\u001b[39m, \u001b[33m2133\u001b[39m, \u001b[33m2157\u001b[39m, \u001b[33m2181\u001b[39m, \u001b[33m2150\u001b[39m,\n",
            "    \u001b[33m2023\u001b[39m, \u001b[33m2313\u001b[39m, \u001b[33m1966\u001b[39m, \u001b[33m2075\u001b[39m, \u001b[33m2367\u001b[39m, \u001b[33m1925\u001b[39m, \u001b[33m2185\u001b[39m, \u001b[33m2197\u001b[39m, \u001b[33m2142\u001b[39m, \u001b[33m2262\u001b[39m,\n",
            "    \u001b[33m2016\u001b[39m, \u001b[33m2128\u001b[39m, \u001b[33m1936\u001b[39m, \u001b[33m2150\u001b[39m, \u001b[33m1946\u001b[39m, \u001b[33m2306\u001b[39m, \u001b[33m2149\u001b[39m, \u001b[33m2278\u001b[39m, \u001b[33m2367\u001b[39m, \u001b[33m2375\u001b[39m,\n",
            "    \u001b[33m1891\u001b[39m, \u001b[33m2099\u001b[39m, \u001b[33m2205\u001b[39m, \u001b[33m2196\u001b[39m, \u001b[33m2246\u001b[39m, \u001b[33m2012\u001b[39m, \u001b[33m2195\u001b[39m, \u001b[33m2095\u001b[39m, \u001b[33m2127\u001b[39m, \u001b[33m2042\u001b[39m,\n",
            "    \u001b[33m2216\u001b[39m, \u001b[33m1744\u001b[39m, \u001b[33m2051\u001b[39m, \u001b[33m1967\u001b[39m, \u001b[33m1969\u001b[39m, \u001b[33m2013\u001b[39m, \u001b[33m2198\u001b[39m, \u001b[33m2177\u001b[39m, \u001b[33m2006\u001b[39m, \u001b[33m2128\u001b[39m,\n",
            "    \u001b[33m2169\u001b[39m, \u001b[33m2096\u001b[39m, \u001b[33m2312\u001b[39m, \u001b[33m2114\u001b[39m, \u001b[33m2036\u001b[39m, \u001b[33m2236\u001b[39m, \u001b[33m2240\u001b[39m, \u001b[33m2291\u001b[39m, \u001b[33m2211\u001b[39m, \u001b[33m2008\u001b[39m,\n",
            "    \u001b[33m2167\u001b[39m, \u001b[33m2234\u001b[39m, \u001b[33m2077\u001b[39m, \u001b[33m2145\u001b[39m, \u001b[33m2267\u001b[39m, \u001b[33m2209\u001b[39m, \u001b[33m2286\u001b[39m, \u001b[33m2311\u001b[39m, \u001b[33m2270\u001b[39m, \u001b[33m2190\u001b[39m,\n",
            "    \u001b[33m2098\u001b[39m, \u001b[33m2336\u001b[39m, \u001b[33m2065\u001b[39m, \u001b[33m2459\u001b[39m, \u001b[33m2039\u001b[39m, \u001b[33m2146\u001b[39m, \u001b[33m2030\u001b[39m, \u001b[33m2066\u001b[39m, \u001b[33m2260\u001b[39m, \u001b[33m2034\u001b[39m,\n",
            "    \u001b[33m1940\u001b[39m, \u001b[33m2249\u001b[39m, \u001b[33m2254\u001b[39m, \u001b[33m2002\u001b[39m, \u001b[33m2396\u001b[39m, \u001b[33m1981\u001b[39m, \u001b[33m2115\u001b[39m, \u001b[33m2173\u001b[39m, \u001b[33m1922\u001b[39m, \u001b[33m2038\u001b[39m,\n",
            "    \u001b[33m2313\u001b[39m, \u001b[33m1922\u001b[39m, \u001b[33m1960\u001b[39m, \u001b[33m1784\u001b[39m, \u001b[33m2490\u001b[39m, \u001b[33m2078\u001b[39m, \u001b[33m2153\u001b[39m, \u001b[33m2290\u001b[39m, \u001b[33m2072\u001b[39m, \u001b[33m2076\u001b[39m,\n",
            "    ... 500 more items\n",
            "  ],\n",
            "  [\n",
            "    \u001b[33m1554\u001b[39m, \u001b[33m2282\u001b[39m, \u001b[33m2206\u001b[39m, \u001b[33m1825\u001b[39m, \u001b[33m1974\u001b[39m, \u001b[33m1827\u001b[39m, \u001b[33m2181\u001b[39m, \u001b[33m1912\u001b[39m, \u001b[33m2044\u001b[39m, \u001b[33m2053\u001b[39m,\n",
            "    \u001b[33m2003\u001b[39m, \u001b[33m2134\u001b[39m, \u001b[33m1920\u001b[39m, \u001b[33m2154\u001b[39m, \u001b[33m2241\u001b[39m, \u001b[33m1845\u001b[39m, \u001b[33m2076\u001b[39m, \u001b[33m2185\u001b[39m, \u001b[33m2118\u001b[39m, \u001b[33m1996\u001b[39m,\n",
            "    \u001b[33m1794\u001b[39m, \u001b[33m1971\u001b[39m, \u001b[33m1790\u001b[39m, \u001b[33m2231\u001b[39m, \u001b[33m1923\u001b[39m, \u001b[33m2030\u001b[39m, \u001b[33m1946\u001b[39m, \u001b[33m2127\u001b[39m, \u001b[33m1987\u001b[39m, \u001b[33m2349\u001b[39m,\n",
            "    \u001b[33m1867\u001b[39m, \u001b[33m2055\u001b[39m, \u001b[33m2109\u001b[39m, \u001b[33m2107\u001b[39m, \u001b[33m2069\u001b[39m, \u001b[33m2097\u001b[39m, \u001b[33m2051\u001b[39m, \u001b[33m1920\u001b[39m, \u001b[33m2151\u001b[39m, \u001b[33m1752\u001b[39m,\n",
            "    \u001b[33m2143\u001b[39m, \u001b[33m1720\u001b[39m, \u001b[33m1824\u001b[39m, \u001b[33m1993\u001b[39m, \u001b[33m1932\u001b[39m, \u001b[33m1896\u001b[39m, \u001b[33m2029\u001b[39m, \u001b[33m2078\u001b[39m, \u001b[33m1910\u001b[39m, \u001b[33m2076\u001b[39m,\n",
            "    \u001b[33m2092\u001b[39m, \u001b[33m2021\u001b[39m, \u001b[33m2221\u001b[39m, \u001b[33m1978\u001b[39m, \u001b[33m1863\u001b[39m, \u001b[33m2101\u001b[39m, \u001b[33m2265\u001b[39m, \u001b[33m2029\u001b[39m, \u001b[33m2133\u001b[39m, \u001b[33m1974\u001b[39m,\n",
            "    \u001b[33m2195\u001b[39m, \u001b[33m1963\u001b[39m, \u001b[33m2109\u001b[39m, \u001b[33m1925\u001b[39m, \u001b[33m1977\u001b[39m, \u001b[33m2030\u001b[39m, \u001b[33m2090\u001b[39m, \u001b[33m2176\u001b[39m, \u001b[33m1920\u001b[39m, \u001b[33m2002\u001b[39m,\n",
            "    \u001b[33m1879\u001b[39m, \u001b[33m2133\u001b[39m, \u001b[33m1822\u001b[39m, \u001b[33m2202\u001b[39m, \u001b[33m1936\u001b[39m, \u001b[33m2061\u001b[39m, \u001b[33m2056\u001b[39m, \u001b[33m1975\u001b[39m, \u001b[33m2306\u001b[39m, \u001b[33m1954\u001b[39m,\n",
            "    \u001b[33m1866\u001b[39m, \u001b[33m2132\u001b[39m, \u001b[33m2145\u001b[39m, \u001b[33m1823\u001b[39m, \u001b[33m2128\u001b[39m, \u001b[33m2082\u001b[39m, \u001b[33m1895\u001b[39m, \u001b[33m2118\u001b[39m, \u001b[33m1777\u001b[39m, \u001b[33m1901\u001b[39m,\n",
            "    \u001b[33m2031\u001b[39m, \u001b[33m1877\u001b[39m, \u001b[33m1902\u001b[39m, \u001b[33m1879\u001b[39m, \u001b[33m2213\u001b[39m, \u001b[33m1953\u001b[39m, \u001b[33m1987\u001b[39m, \u001b[33m2121\u001b[39m, \u001b[33m1894\u001b[39m, \u001b[33m1968\u001b[39m,\n",
            "    ... 500 more items\n",
            "  ],\n",
            "  [\n",
            "    \u001b[33m1809\u001b[39m, \u001b[33m2317\u001b[39m, \u001b[33m2160\u001b[39m, \u001b[33m2027\u001b[39m, \u001b[33m2268\u001b[39m, \u001b[33m1859\u001b[39m, \u001b[33m2245\u001b[39m, \u001b[33m2073\u001b[39m, \u001b[33m2117\u001b[39m, \u001b[33m2234\u001b[39m,\n",
            "    \u001b[33m2210\u001b[39m, \u001b[33m2316\u001b[39m, \u001b[33m1905\u001b[39m, \u001b[33m2172\u001b[39m, \u001b[33m2374\u001b[39m, \u001b[33m1968\u001b[39m, \u001b[33m2208\u001b[39m, \u001b[33m2254\u001b[39m, \u001b[33m2084\u001b[39m, \u001b[33m2066\u001b[39m,\n",
            "    \u001b[33m2034\u001b[39m, \u001b[33m2124\u001b[39m, \u001b[33m1942\u001b[39m, \u001b[33m2373\u001b[39m, \u001b[33m2258\u001b[39m, \u001b[33m2357\u001b[39m, \u001b[33m2126\u001b[39m, \u001b[33m2364\u001b[39m, \u001b[33m2186\u001b[39m, \u001b[33m2450\u001b[39m,\n",
            "    \u001b[33m2102\u001b[39m, \u001b[33m2227\u001b[39m, \u001b[33m2374\u001b[39m, \u001b[33m2266\u001b[39m, \u001b[33m2308\u001b[39m, \u001b[33m2087\u001b[39m, \u001b[33m2223\u001b[39m, \u001b[33m2187\u001b[39m, \u001b[33m2349\u001b[39m, \u001b[33m1946\u001b[39m,\n",
            "    \u001b[33m2310\u001b[39m, \u001b[33m1978\u001b[39m, \u001b[33m2013\u001b[39m, \u001b[33m2215\u001b[39m, \u001b[33m2077\u001b[39m, \u001b[33m2132\u001b[39m, \u001b[33m2190\u001b[39m, \u001b[33m2138\u001b[39m, \u001b[33m1963\u001b[39m, \u001b[33m2198\u001b[39m,\n",
            "    \u001b[33m2330\u001b[39m, \u001b[33m2129\u001b[39m, \u001b[33m2285\u001b[39m, \u001b[33m2000\u001b[39m, \u001b[33m1985\u001b[39m, \u001b[33m2280\u001b[39m, \u001b[33m2312\u001b[39m, \u001b[33m2100\u001b[39m, \u001b[33m2158\u001b[39m, \u001b[33m2152\u001b[39m,\n",
            "    \u001b[33m2227\u001b[39m, \u001b[33m2348\u001b[39m, \u001b[33m2135\u001b[39m, \u001b[33m2138\u001b[39m, \u001b[33m2214\u001b[39m, \u001b[33m2218\u001b[39m, \u001b[33m2356\u001b[39m, \u001b[33m2394\u001b[39m, \u001b[33m2196\u001b[39m, \u001b[33m2235\u001b[39m,\n",
            "    \u001b[33m2073\u001b[39m, \u001b[33m2334\u001b[39m, \u001b[33m2172\u001b[39m, \u001b[33m2425\u001b[39m, \u001b[33m1986\u001b[39m, \u001b[33m2211\u001b[39m, \u001b[33m2081\u001b[39m, \u001b[33m1925\u001b[39m, \u001b[33m2280\u001b[39m, \u001b[33m2150\u001b[39m,\n",
            "    \u001b[33m2054\u001b[39m, \u001b[33m2290\u001b[39m, \u001b[33m2350\u001b[39m, \u001b[33m1980\u001b[39m, \u001b[33m2215\u001b[39m, \u001b[33m2228\u001b[39m, \u001b[33m2166\u001b[39m, \u001b[33m2251\u001b[39m, \u001b[33m1956\u001b[39m, \u001b[33m1976\u001b[39m,\n",
            "    \u001b[33m2310\u001b[39m, \u001b[33m1963\u001b[39m, \u001b[33m2174\u001b[39m, \u001b[33m1907\u001b[39m, \u001b[33m2388\u001b[39m, \u001b[33m2201\u001b[39m, \u001b[33m2089\u001b[39m, \u001b[33m2354\u001b[39m, \u001b[33m2230\u001b[39m, \u001b[33m2066\u001b[39m,\n",
            "    ... 500 more items\n",
            "  ],\n",
            "  [\n",
            "    \u001b[33m1683\u001b[39m, \u001b[33m2231\u001b[39m, \u001b[33m2283\u001b[39m, \u001b[33m2103\u001b[39m, \u001b[33m1953\u001b[39m, \u001b[33m1996\u001b[39m, \u001b[33m2246\u001b[39m, \u001b[33m2159\u001b[39m, \u001b[33m2022\u001b[39m, \u001b[33m2244\u001b[39m,\n",
            "    \u001b[33m2135\u001b[39m, \u001b[33m2433\u001b[39m, \u001b[33m1789\u001b[39m, \u001b[33m2186\u001b[39m, \u001b[33m2349\u001b[39m, \u001b[33m1970\u001b[39m, \u001b[33m2314\u001b[39m, \u001b[33m2233\u001b[39m, \u001b[33m2203\u001b[39m, \u001b[33m2258\u001b[39m,\n",
            "    \u001b[33m1928\u001b[39m, \u001b[33m2154\u001b[39m, \u001b[33m2025\u001b[39m, \u001b[33m2257\u001b[39m, \u001b[33m1959\u001b[39m, \u001b[33m2180\u001b[39m, \u001b[33m1980\u001b[39m, \u001b[33m2227\u001b[39m, \u001b[33m1997\u001b[39m, \u001b[33m2438\u001b[39m,\n",
            "    \u001b[33m1954\u001b[39m, \u001b[33m2119\u001b[39m, \u001b[33m2219\u001b[39m, \u001b[33m2196\u001b[39m, \u001b[33m2139\u001b[39m, \u001b[33m2155\u001b[39m, \u001b[33m2315\u001b[39m, \u001b[33m2063\u001b[39m, \u001b[33m2072\u001b[39m, \u001b[33m1886\u001b[39m,\n",
            "    \u001b[33m2063\u001b[39m, \u001b[33m1774\u001b[39m, \u001b[33m1834\u001b[39m, \u001b[33m2089\u001b[39m, \u001b[33m1975\u001b[39m, \u001b[33m2119\u001b[39m, \u001b[33m2250\u001b[39m, \u001b[33m2106\u001b[39m, \u001b[33m2082\u001b[39m, \u001b[33m2056\u001b[39m,\n",
            "    \u001b[33m2230\u001b[39m, \u001b[33m2094\u001b[39m, \u001b[33m2204\u001b[39m, \u001b[33m1905\u001b[39m, \u001b[33m1900\u001b[39m, \u001b[33m2270\u001b[39m, \u001b[33m2339\u001b[39m, \u001b[33m2220\u001b[39m, \u001b[33m2122\u001b[39m, \u001b[33m1962\u001b[39m,\n",
            "    \u001b[33m2215\u001b[39m, \u001b[33m2247\u001b[39m, \u001b[33m2114\u001b[39m, \u001b[33m2061\u001b[39m, \u001b[33m1918\u001b[39m, \u001b[33m2257\u001b[39m, \u001b[33m2183\u001b[39m, \u001b[33m2264\u001b[39m, \u001b[33m2178\u001b[39m, \u001b[33m2129\u001b[39m,\n",
            "    \u001b[33m2065\u001b[39m, \u001b[33m2282\u001b[39m, \u001b[33m1928\u001b[39m, \u001b[33m2492\u001b[39m, \u001b[33m2123\u001b[39m, \u001b[33m2034\u001b[39m, \u001b[33m2063\u001b[39m, \u001b[33m2043\u001b[39m, \u001b[33m2398\u001b[39m, \u001b[33m2218\u001b[39m,\n",
            "    \u001b[33m2014\u001b[39m, \u001b[33m2139\u001b[39m, \u001b[33m2221\u001b[39m, \u001b[33m1772\u001b[39m, \u001b[33m2092\u001b[39m, \u001b[33m1936\u001b[39m, \u001b[33m2091\u001b[39m, \u001b[33m2029\u001b[39m, \u001b[33m2110\u001b[39m, \u001b[33m1873\u001b[39m,\n",
            "    \u001b[33m2386\u001b[39m, \u001b[33m1854\u001b[39m, \u001b[33m2108\u001b[39m, \u001b[33m1986\u001b[39m, \u001b[33m2408\u001b[39m, \u001b[33m2089\u001b[39m, \u001b[33m2250\u001b[39m, \u001b[33m2132\u001b[39m, \u001b[33m2013\u001b[39m, \u001b[33m1922\u001b[39m,\n",
            "    ... 500 more items\n",
            "  ],\n",
            "  [\n",
            "    \u001b[33m1596\u001b[39m, \u001b[33m2128\u001b[39m, \u001b[33m2115\u001b[39m, \u001b[33m1977\u001b[39m, \u001b[33m2055\u001b[39m, \u001b[33m1786\u001b[39m, \u001b[33m2150\u001b[39m, \u001b[33m1970\u001b[39m, \u001b[33m1873\u001b[39m, \u001b[33m2252\u001b[39m,\n",
            "    \u001b[33m1922\u001b[39m, \u001b[33m2211\u001b[39m, \u001b[33m1826\u001b[39m, \u001b[33m1984\u001b[39m, \u001b[33m2276\u001b[39m, \u001b[33m1856\u001b[39m, \u001b[33m1900\u001b[39m, \u001b[33m2068\u001b[39m, \u001b[33m2128\u001b[39m, \u001b[33m2089\u001b[39m,\n",
            "    \u001b[33m1865\u001b[39m, \u001b[33m2045\u001b[39m, \u001b[33m1782\u001b[39m, \u001b[33m2244\u001b[39m, \u001b[33m2157\u001b[39m, \u001b[33m2072\u001b[39m, \u001b[33m1847\u001b[39m, \u001b[33m2159\u001b[39m, \u001b[33m2014\u001b[39m, \u001b[33m2264\u001b[39m,\n",
            "    \u001b[33m1932\u001b[39m, \u001b[33m2194\u001b[39m, \u001b[33m1947\u001b[39m, \u001b[33m1891\u001b[39m, \u001b[33m2029\u001b[39m, \u001b[33m1893\u001b[39m, \u001b[33m2167\u001b[39m, \u001b[33m1891\u001b[39m, \u001b[33m2055\u001b[39m, \u001b[33m1923\u001b[39m,\n",
            "    \u001b[33m1995\u001b[39m, \u001b[33m1856\u001b[39m, \u001b[33m1740\u001b[39m, \u001b[33m2074\u001b[39m, \u001b[33m2185\u001b[39m, \u001b[33m1971\u001b[39m, \u001b[33m1857\u001b[39m, \u001b[33m2005\u001b[39m, \u001b[33m1759\u001b[39m, \u001b[33m2020\u001b[39m,\n",
            "    \u001b[33m2177\u001b[39m, \u001b[33m1887\u001b[39m, \u001b[33m2093\u001b[39m, \u001b[33m1798\u001b[39m, \u001b[33m1936\u001b[39m, \u001b[33m2062\u001b[39m, \u001b[33m2123\u001b[39m, \u001b[33m2028\u001b[39m, \u001b[33m2141\u001b[39m, \u001b[33m1873\u001b[39m,\n",
            "    \u001b[33m2047\u001b[39m, \u001b[33m2038\u001b[39m, \u001b[33m2047\u001b[39m, \u001b[33m2163\u001b[39m, \u001b[33m2062\u001b[39m, \u001b[33m2214\u001b[39m, \u001b[33m2131\u001b[39m, \u001b[33m2281\u001b[39m, \u001b[33m2157\u001b[39m, \u001b[33m1943\u001b[39m,\n",
            "    \u001b[33m1875\u001b[39m, \u001b[33m2050\u001b[39m, \u001b[33m1811\u001b[39m, \u001b[33m2375\u001b[39m, \u001b[33m2072\u001b[39m, \u001b[33m2045\u001b[39m, \u001b[33m1786\u001b[39m, \u001b[33m1947\u001b[39m, \u001b[33m2217\u001b[39m, \u001b[33m1895\u001b[39m,\n",
            "    \u001b[33m1847\u001b[39m, \u001b[33m2128\u001b[39m, \u001b[33m2070\u001b[39m, \u001b[33m1845\u001b[39m, \u001b[33m2043\u001b[39m, \u001b[33m2033\u001b[39m, \u001b[33m2240\u001b[39m, \u001b[33m1938\u001b[39m, \u001b[33m1837\u001b[39m, \u001b[33m1894\u001b[39m,\n",
            "    \u001b[33m2084\u001b[39m, \u001b[33m1886\u001b[39m, \u001b[33m2008\u001b[39m, \u001b[33m1898\u001b[39m, \u001b[33m2351\u001b[39m, \u001b[33m1999\u001b[39m, \u001b[33m2044\u001b[39m, \u001b[33m2108\u001b[39m, \u001b[33m1928\u001b[39m, \u001b[33m1850\u001b[39m,\n",
            "    ... 500 more items\n",
            "  ],\n",
            "  [\n",
            "    \u001b[33m1780\u001b[39m, \u001b[33m2392\u001b[39m, \u001b[33m2287\u001b[39m, \u001b[33m1963\u001b[39m, \u001b[33m2222\u001b[39m, \u001b[33m1859\u001b[39m, \u001b[33m2261\u001b[39m, \u001b[33m2062\u001b[39m, \u001b[33m1936\u001b[39m, \u001b[33m2251\u001b[39m,\n",
            "    \u001b[33m2090\u001b[39m, \u001b[33m2313\u001b[39m, \u001b[33m1978\u001b[39m, \u001b[33m2166\u001b[39m, \u001b[33m2397\u001b[39m, \u001b[33m1913\u001b[39m, \u001b[33m2125\u001b[39m, \u001b[33m2162\u001b[39m, \u001b[33m2234\u001b[39m, \u001b[33m2211\u001b[39m,\n",
            "    \u001b[33m1981\u001b[39m, \u001b[33m2143\u001b[39m, \u001b[33m1974\u001b[39m, \u001b[33m2256\u001b[39m, \u001b[33m2313\u001b[39m, \u001b[33m2173\u001b[39m, \u001b[33m2133\u001b[39m, \u001b[33m2280\u001b[39m, \u001b[33m2055\u001b[39m, \u001b[33m2490\u001b[39m,\n",
            "    \u001b[33m1931\u001b[39m, \u001b[33m2121\u001b[39m, \u001b[33m2393\u001b[39m, \u001b[33m2407\u001b[39m, \u001b[33m2255\u001b[39m, \u001b[33m2248\u001b[39m, \u001b[33m2138\u001b[39m, \u001b[33m2171\u001b[39m, \u001b[33m2321\u001b[39m, \u001b[33m1944\u001b[39m,\n",
            "    \u001b[33m2369\u001b[39m, \u001b[33m2062\u001b[39m, \u001b[33m1829\u001b[39m, \u001b[33m2178\u001b[39m, \u001b[33m2074\u001b[39m, \u001b[33m2223\u001b[39m, \u001b[33m2144\u001b[39m, \u001b[33m2170\u001b[39m, \u001b[33m2002\u001b[39m, \u001b[33m2125\u001b[39m,\n",
            "    \u001b[33m2260\u001b[39m, \u001b[33m2060\u001b[39m, \u001b[33m2259\u001b[39m, \u001b[33m2121\u001b[39m, \u001b[33m2085\u001b[39m, \u001b[33m2332\u001b[39m, \u001b[33m2101\u001b[39m, \u001b[33m2176\u001b[39m, \u001b[33m2252\u001b[39m, \u001b[33m2057\u001b[39m,\n",
            "    \u001b[33m2281\u001b[39m, \u001b[33m2290\u001b[39m, \u001b[33m2290\u001b[39m, \u001b[33m2122\u001b[39m, \u001b[33m2332\u001b[39m, \u001b[33m2256\u001b[39m, \u001b[33m2130\u001b[39m, \u001b[33m2337\u001b[39m, \u001b[33m2049\u001b[39m, \u001b[33m2148\u001b[39m,\n",
            "    \u001b[33m2153\u001b[39m, \u001b[33m2332\u001b[39m, \u001b[33m2122\u001b[39m, \u001b[33m2283\u001b[39m, \u001b[33m2042\u001b[39m, \u001b[33m2242\u001b[39m, \u001b[33m2212\u001b[39m, \u001b[33m2138\u001b[39m, \u001b[33m2289\u001b[39m, \u001b[33m2194\u001b[39m,\n",
            "    \u001b[33m1997\u001b[39m, \u001b[33m2210\u001b[39m, \u001b[33m2407\u001b[39m, \u001b[33m2077\u001b[39m, \u001b[33m2313\u001b[39m, \u001b[33m2101\u001b[39m, \u001b[33m2246\u001b[39m, \u001b[33m2373\u001b[39m, \u001b[33m1908\u001b[39m, \u001b[33m2228\u001b[39m,\n",
            "    \u001b[33m2347\u001b[39m, \u001b[33m2032\u001b[39m, \u001b[33m2185\u001b[39m, \u001b[33m2068\u001b[39m, \u001b[33m2290\u001b[39m, \u001b[33m2105\u001b[39m, \u001b[33m2028\u001b[39m, \u001b[33m2237\u001b[39m, \u001b[33m2170\u001b[39m, \u001b[33m1934\u001b[39m,\n",
            "    ... 500 more items\n",
            "  ],\n",
            "  [\n",
            "    \u001b[33m1959\u001b[39m, \u001b[33m2326\u001b[39m, \u001b[33m2471\u001b[39m, \u001b[33m2045\u001b[39m, \u001b[33m2223\u001b[39m, \u001b[33m2020\u001b[39m, \u001b[33m2234\u001b[39m, \u001b[33m2044\u001b[39m, \u001b[33m2213\u001b[39m, \u001b[33m2525\u001b[39m,\n",
            "    \u001b[33m2305\u001b[39m, \u001b[33m2352\u001b[39m, \u001b[33m2070\u001b[39m, \u001b[33m2141\u001b[39m, \u001b[33m2492\u001b[39m, \u001b[33m2169\u001b[39m, \u001b[33m2335\u001b[39m, \u001b[33m2216\u001b[39m, \u001b[33m2343\u001b[39m, \u001b[33m2289\u001b[39m,\n",
            "    \u001b[33m1958\u001b[39m, \u001b[33m2256\u001b[39m, \u001b[33m2158\u001b[39m, \u001b[33m2327\u001b[39m, \u001b[33m2168\u001b[39m, \u001b[33m2399\u001b[39m, \u001b[33m2173\u001b[39m, \u001b[33m2348\u001b[39m, \u001b[33m2313\u001b[39m, \u001b[33m2407\u001b[39m,\n",
            "    \u001b[33m2101\u001b[39m, \u001b[33m2345\u001b[39m, \u001b[33m2379\u001b[39m, \u001b[33m2370\u001b[39m, \u001b[33m2399\u001b[39m, \u001b[33m2294\u001b[39m, \u001b[33m2322\u001b[39m, \u001b[33m2278\u001b[39m, \u001b[33m2440\u001b[39m, \u001b[33m2026\u001b[39m,\n",
            "    \u001b[33m2312\u001b[39m, \u001b[33m1967\u001b[39m, \u001b[33m1873\u001b[39m, \u001b[33m2141\u001b[39m, \u001b[33m2203\u001b[39m, \u001b[33m2357\u001b[39m, \u001b[33m2252\u001b[39m, \u001b[33m2316\u001b[39m, \u001b[33m2130\u001b[39m, \u001b[33m2336\u001b[39m,\n",
            "    \u001b[33m2497\u001b[39m, \u001b[33m2141\u001b[39m, \u001b[33m2351\u001b[39m, \u001b[33m2044\u001b[39m, \u001b[33m1994\u001b[39m, \u001b[33m2473\u001b[39m, \u001b[33m2364\u001b[39m, \u001b[33m2344\u001b[39m, \u001b[33m2425\u001b[39m, \u001b[33m2169\u001b[39m,\n",
            "    \u001b[33m2426\u001b[39m, \u001b[33m2184\u001b[39m, \u001b[33m2118\u001b[39m, \u001b[33m2305\u001b[39m, \u001b[33m2201\u001b[39m, \u001b[33m2499\u001b[39m, \u001b[33m2418\u001b[39m, \u001b[33m2510\u001b[39m, \u001b[33m2454\u001b[39m, \u001b[33m2375\u001b[39m,\n",
            "    \u001b[33m2192\u001b[39m, \u001b[33m2403\u001b[39m, \u001b[33m2050\u001b[39m, \u001b[33m2644\u001b[39m, \u001b[33m2250\u001b[39m, \u001b[33m2413\u001b[39m, \u001b[33m2259\u001b[39m, \u001b[33m2294\u001b[39m, \u001b[33m2398\u001b[39m, \u001b[33m2247\u001b[39m,\n",
            "    \u001b[33m2083\u001b[39m, \u001b[33m2400\u001b[39m, \u001b[33m2456\u001b[39m, \u001b[33m2238\u001b[39m, \u001b[33m2397\u001b[39m, \u001b[33m2250\u001b[39m, \u001b[33m2429\u001b[39m, \u001b[33m2385\u001b[39m, \u001b[33m2165\u001b[39m, \u001b[33m2240\u001b[39m,\n",
            "    \u001b[33m2353\u001b[39m, \u001b[33m2083\u001b[39m, \u001b[33m2158\u001b[39m, \u001b[33m1968\u001b[39m, \u001b[33m2429\u001b[39m, \u001b[33m2261\u001b[39m, \u001b[33m2270\u001b[39m, \u001b[33m2281\u001b[39m, \u001b[33m2078\u001b[39m, \u001b[33m2155\u001b[39m,\n",
            "    ... 500 more items\n",
            "  ],\n",
            "  [\n",
            "    \u001b[33m1503\u001b[39m, \u001b[33m2000\u001b[39m, \u001b[33m2137\u001b[39m, \u001b[33m1987\u001b[39m, \u001b[33m2006\u001b[39m, \u001b[33m1709\u001b[39m, \u001b[33m2002\u001b[39m, \u001b[33m1868\u001b[39m, \u001b[33m2084\u001b[39m, \u001b[33m2004\u001b[39m,\n",
            "    \u001b[33m1967\u001b[39m, \u001b[33m2072\u001b[39m, \u001b[33m1671\u001b[39m, \u001b[33m1908\u001b[39m, \u001b[33m2140\u001b[39m, \u001b[33m1590\u001b[39m, \u001b[33m1927\u001b[39m, \u001b[33m1843\u001b[39m, \u001b[33m1890\u001b[39m, \u001b[33m1985\u001b[39m,\n",
            "    \u001b[33m1834\u001b[39m, \u001b[33m1853\u001b[39m, \u001b[33m1795\u001b[39m, \u001b[33m2019\u001b[39m, \u001b[33m1797\u001b[39m, \u001b[33m2027\u001b[39m, \u001b[33m1900\u001b[39m, \u001b[33m2024\u001b[39m, \u001b[33m1870\u001b[39m, \u001b[33m2237\u001b[39m,\n",
            "    \u001b[33m1785\u001b[39m, \u001b[33m1865\u001b[39m, \u001b[33m1981\u001b[39m, \u001b[33m2032\u001b[39m, \u001b[33m1971\u001b[39m, \u001b[33m1972\u001b[39m, \u001b[33m2020\u001b[39m, \u001b[33m1841\u001b[39m, \u001b[33m2047\u001b[39m, \u001b[33m1768\u001b[39m,\n",
            "    \u001b[33m2077\u001b[39m, \u001b[33m1654\u001b[39m, \u001b[33m1767\u001b[39m, \u001b[33m1852\u001b[39m, \u001b[33m1668\u001b[39m, \u001b[33m1914\u001b[39m, \u001b[33m1989\u001b[39m, \u001b[33m1919\u001b[39m, \u001b[33m1818\u001b[39m, \u001b[33m1878\u001b[39m,\n",
            "    \u001b[33m1932\u001b[39m, \u001b[33m1994\u001b[39m, \u001b[33m1975\u001b[39m, \u001b[33m1784\u001b[39m, \u001b[33m1838\u001b[39m, \u001b[33m2064\u001b[39m, \u001b[33m2180\u001b[39m, \u001b[33m1874\u001b[39m, \u001b[33m1860\u001b[39m, \u001b[33m1827\u001b[39m,\n",
            "    \u001b[33m1841\u001b[39m, \u001b[33m2079\u001b[39m, \u001b[33m1908\u001b[39m, \u001b[33m1906\u001b[39m, \u001b[33m1918\u001b[39m, \u001b[33m1994\u001b[39m, \u001b[33m1910\u001b[39m, \u001b[33m2048\u001b[39m, \u001b[33m1947\u001b[39m, \u001b[33m1913\u001b[39m,\n",
            "    \u001b[33m1967\u001b[39m, \u001b[33m2249\u001b[39m, \u001b[33m1827\u001b[39m, \u001b[33m2173\u001b[39m, \u001b[33m1959\u001b[39m, \u001b[33m1997\u001b[39m, \u001b[33m1861\u001b[39m, \u001b[33m1721\u001b[39m, \u001b[33m2163\u001b[39m, \u001b[33m1788\u001b[39m,\n",
            "    \u001b[33m1683\u001b[39m, \u001b[33m1984\u001b[39m, \u001b[33m1998\u001b[39m, \u001b[33m1758\u001b[39m, \u001b[33m1957\u001b[39m, \u001b[33m1803\u001b[39m, \u001b[33m1892\u001b[39m, \u001b[33m1977\u001b[39m, \u001b[33m1772\u001b[39m, \u001b[33m1697\u001b[39m,\n",
            "    \u001b[33m2130\u001b[39m, \u001b[33m1774\u001b[39m, \u001b[33m1613\u001b[39m, \u001b[33m1817\u001b[39m, \u001b[33m2210\u001b[39m, \u001b[33m1954\u001b[39m, \u001b[33m1827\u001b[39m, \u001b[33m1864\u001b[39m, \u001b[33m1800\u001b[39m, \u001b[33m1806\u001b[39m,\n",
            "    ... 500 more items\n",
            "  ],\n",
            "  [\n",
            "    \u001b[33m1914\u001b[39m, \u001b[33m2501\u001b[39m, \u001b[33m2462\u001b[39m, \u001b[33m2086\u001b[39m, \u001b[33m2224\u001b[39m, \u001b[33m1923\u001b[39m, \u001b[33m2180\u001b[39m, \u001b[33m2085\u001b[39m, \u001b[33m2186\u001b[39m, \u001b[33m2382\u001b[39m,\n",
            "    \u001b[33m2185\u001b[39m, \u001b[33m2421\u001b[39m, \u001b[33m1989\u001b[39m, \u001b[33m2251\u001b[39m, \u001b[33m2554\u001b[39m, \u001b[33m1886\u001b[39m, \u001b[33m2369\u001b[39m, \u001b[33m2160\u001b[39m, \u001b[33m2402\u001b[39m, \u001b[33m2382\u001b[39m,\n",
            "    \u001b[33m1946\u001b[39m, \u001b[33m2171\u001b[39m, \u001b[33m1993\u001b[39m, \u001b[33m2431\u001b[39m, \u001b[33m2178\u001b[39m, \u001b[33m2421\u001b[39m, \u001b[33m2112\u001b[39m, \u001b[33m2389\u001b[39m, \u001b[33m2193\u001b[39m, \u001b[33m2468\u001b[39m,\n",
            "    \u001b[33m1918\u001b[39m, \u001b[33m2197\u001b[39m, \u001b[33m2366\u001b[39m, \u001b[33m2296\u001b[39m, \u001b[33m2230\u001b[39m, \u001b[33m2254\u001b[39m, \u001b[33m2423\u001b[39m, \u001b[33m2142\u001b[39m, \u001b[33m2298\u001b[39m, \u001b[33m2020\u001b[39m,\n",
            "    \u001b[33m2198\u001b[39m, \u001b[33m2026\u001b[39m, \u001b[33m2102\u001b[39m, \u001b[33m2057\u001b[39m, \u001b[33m2026\u001b[39m, \u001b[33m2368\u001b[39m, \u001b[33m2257\u001b[39m, \u001b[33m2240\u001b[39m, \u001b[33m2005\u001b[39m, \u001b[33m2076\u001b[39m,\n",
            "    \u001b[33m2238\u001b[39m, \u001b[33m1936\u001b[39m, \u001b[33m2436\u001b[39m, \u001b[33m2140\u001b[39m, \u001b[33m2095\u001b[39m, \u001b[33m2242\u001b[39m, \u001b[33m2370\u001b[39m, \u001b[33m2170\u001b[39m, \u001b[33m2314\u001b[39m, \u001b[33m2126\u001b[39m,\n",
            "    \u001b[33m2323\u001b[39m, \u001b[33m2352\u001b[39m, \u001b[33m2235\u001b[39m, \u001b[33m2248\u001b[39m, \u001b[33m2113\u001b[39m, \u001b[33m2256\u001b[39m, \u001b[33m2324\u001b[39m, \u001b[33m2502\u001b[39m, \u001b[33m2318\u001b[39m, \u001b[33m2096\u001b[39m,\n",
            "    \u001b[33m2086\u001b[39m, \u001b[33m2265\u001b[39m, \u001b[33m2163\u001b[39m, \u001b[33m2468\u001b[39m, \u001b[33m2255\u001b[39m, \u001b[33m2077\u001b[39m, \u001b[33m2138\u001b[39m, \u001b[33m2122\u001b[39m, \u001b[33m2539\u001b[39m, \u001b[33m2064\u001b[39m,\n",
            "    \u001b[33m2063\u001b[39m, \u001b[33m2353\u001b[39m, \u001b[33m2318\u001b[39m, \u001b[33m2187\u001b[39m, \u001b[33m2303\u001b[39m, \u001b[33m2312\u001b[39m, \u001b[33m2153\u001b[39m, \u001b[33m2258\u001b[39m, \u001b[33m1944\u001b[39m, \u001b[33m2084\u001b[39m,\n",
            "    \u001b[33m2465\u001b[39m, \u001b[33m1882\u001b[39m, \u001b[33m2137\u001b[39m, \u001b[33m2152\u001b[39m, \u001b[33m2551\u001b[39m, \u001b[33m2290\u001b[39m, \u001b[33m2475\u001b[39m, \u001b[33m2371\u001b[39m, \u001b[33m2119\u001b[39m, \u001b[33m2000\u001b[39m,\n",
            "    ... 500 more items\n",
            "  ],\n",
            "  [\n",
            "    \u001b[33m1620\u001b[39m, \u001b[33m2215\u001b[39m, \u001b[33m2218\u001b[39m, \u001b[33m2036\u001b[39m, \u001b[33m2090\u001b[39m, \u001b[33m1985\u001b[39m, \u001b[33m2270\u001b[39m, \u001b[33m1840\u001b[39m, \u001b[33m2033\u001b[39m, \u001b[33m2086\u001b[39m,\n",
            "    \u001b[33m2046\u001b[39m, \u001b[33m2156\u001b[39m, \u001b[33m1945\u001b[39m, \u001b[33m2051\u001b[39m, \u001b[33m2341\u001b[39m, \u001b[33m1966\u001b[39m, \u001b[33m2102\u001b[39m, \u001b[33m2076\u001b[39m, \u001b[33m2182\u001b[39m, \u001b[33m2049\u001b[39m,\n",
            "    \u001b[33m1865\u001b[39m, \u001b[33m2134\u001b[39m, \u001b[33m1883\u001b[39m, \u001b[33m2264\u001b[39m, \u001b[33m2013\u001b[39m, \u001b[33m2091\u001b[39m, \u001b[33m1974\u001b[39m, \u001b[33m2019\u001b[39m, \u001b[33m2081\u001b[39m, \u001b[33m2272\u001b[39m,\n",
            "    \u001b[33m1891\u001b[39m, \u001b[33m2172\u001b[39m, \u001b[33m2145\u001b[39m, \u001b[33m2098\u001b[39m, \u001b[33m2139\u001b[39m, \u001b[33m2138\u001b[39m, \u001b[33m2233\u001b[39m, \u001b[33m1923\u001b[39m, \u001b[33m2141\u001b[39m, \u001b[33m1817\u001b[39m,\n",
            "    \u001b[33m2078\u001b[39m, \u001b[33m1873\u001b[39m, \u001b[33m1843\u001b[39m, \u001b[33m1896\u001b[39m, \u001b[33m2089\u001b[39m, \u001b[33m2028\u001b[39m, \u001b[33m2218\u001b[39m, \u001b[33m2155\u001b[39m, \u001b[33m1907\u001b[39m, \u001b[33m2190\u001b[39m,\n",
            "    \u001b[33m2307\u001b[39m, \u001b[33m2001\u001b[39m, \u001b[33m1972\u001b[39m, \u001b[33m1853\u001b[39m, \u001b[33m1976\u001b[39m, \u001b[33m2100\u001b[39m, \u001b[33m2225\u001b[39m, \u001b[33m1975\u001b[39m, \u001b[33m2210\u001b[39m, \u001b[33m1931\u001b[39m,\n",
            "    \u001b[33m2180\u001b[39m, \u001b[33m2038\u001b[39m, \u001b[33m2172\u001b[39m, \u001b[33m2057\u001b[39m, \u001b[33m2085\u001b[39m, \u001b[33m2312\u001b[39m, \u001b[33m2160\u001b[39m, \u001b[33m2270\u001b[39m, \u001b[33m2073\u001b[39m, \u001b[33m2037\u001b[39m,\n",
            "    \u001b[33m2014\u001b[39m, \u001b[33m2191\u001b[39m, \u001b[33m1785\u001b[39m, \u001b[33m2421\u001b[39m, \u001b[33m2176\u001b[39m, \u001b[33m2093\u001b[39m, \u001b[33m1956\u001b[39m, \u001b[33m2154\u001b[39m, \u001b[33m2288\u001b[39m, \u001b[33m2046\u001b[39m,\n",
            "    \u001b[33m2013\u001b[39m, \u001b[33m2166\u001b[39m, \u001b[33m2099\u001b[39m, \u001b[33m1934\u001b[39m, \u001b[33m2146\u001b[39m, \u001b[33m2202\u001b[39m, \u001b[33m2064\u001b[39m, \u001b[33m2169\u001b[39m, \u001b[33m2099\u001b[39m, \u001b[33m2001\u001b[39m,\n",
            "    \u001b[33m2245\u001b[39m, \u001b[33m1957\u001b[39m, \u001b[33m1907\u001b[39m, \u001b[33m1803\u001b[39m, \u001b[33m2367\u001b[39m, \u001b[33m2043\u001b[39m, \u001b[33m2218\u001b[39m, \u001b[33m2184\u001b[39m, \u001b[33m1975\u001b[39m, \u001b[33m1980\u001b[39m,\n",
            "    ... 500 more items\n",
            "  ],\n",
            "  [\n",
            "    \u001b[33m1636\u001b[39m, \u001b[33m2057\u001b[39m, \u001b[33m1877\u001b[39m, \u001b[33m1888\u001b[39m, \u001b[33m1745\u001b[39m, \u001b[33m1708\u001b[39m, \u001b[33m1895\u001b[39m, \u001b[33m1847\u001b[39m, \u001b[33m1730\u001b[39m, \u001b[33m2124\u001b[39m,\n",
            "    \u001b[33m1955\u001b[39m, \u001b[33m2127\u001b[39m, \u001b[33m1710\u001b[39m, \u001b[33m1946\u001b[39m, \u001b[33m2197\u001b[39m, \u001b[33m1675\u001b[39m, \u001b[33m2022\u001b[39m, \u001b[33m1900\u001b[39m, \u001b[33m1946\u001b[39m, \u001b[33m1816\u001b[39m,\n",
            "    \u001b[33m1753\u001b[39m, \u001b[33m1981\u001b[39m, \u001b[33m1824\u001b[39m, \u001b[33m2090\u001b[39m, \u001b[33m1882\u001b[39m, \u001b[33m2016\u001b[39m, \u001b[33m1881\u001b[39m, \u001b[33m2016\u001b[39m, \u001b[33m1935\u001b[39m, \u001b[33m2121\u001b[39m,\n",
            "    \u001b[33m1775\u001b[39m, \u001b[33m2048\u001b[39m, \u001b[33m1956\u001b[39m, \u001b[33m1935\u001b[39m, \u001b[33m1979\u001b[39m, \u001b[33m1884\u001b[39m, \u001b[33m2087\u001b[39m, \u001b[33m1863\u001b[39m, \u001b[33m2023\u001b[39m, \u001b[33m1769\u001b[39m,\n",
            "    \u001b[33m1979\u001b[39m, \u001b[33m1690\u001b[39m, \u001b[33m1715\u001b[39m, \u001b[33m1841\u001b[39m, \u001b[33m1863\u001b[39m, \u001b[33m1978\u001b[39m, \u001b[33m1873\u001b[39m, \u001b[33m1880\u001b[39m, \u001b[33m1880\u001b[39m, \u001b[33m1937\u001b[39m,\n",
            "    \u001b[33m2102\u001b[39m, \u001b[33m1861\u001b[39m, \u001b[33m2029\u001b[39m, \u001b[33m1760\u001b[39m, \u001b[33m1861\u001b[39m, \u001b[33m1970\u001b[39m, \u001b[33m2031\u001b[39m, \u001b[33m1990\u001b[39m, \u001b[33m2121\u001b[39m, \u001b[33m1880\u001b[39m,\n",
            "    \u001b[33m1969\u001b[39m, \u001b[33m1990\u001b[39m, \u001b[33m1823\u001b[39m, \u001b[33m2000\u001b[39m, \u001b[33m1914\u001b[39m, \u001b[33m2071\u001b[39m, \u001b[33m2024\u001b[39m, \u001b[33m2048\u001b[39m, \u001b[33m1877\u001b[39m, \u001b[33m1887\u001b[39m,\n",
            "    \u001b[33m1917\u001b[39m, \u001b[33m2188\u001b[39m, \u001b[33m1807\u001b[39m, \u001b[33m2361\u001b[39m, \u001b[33m2073\u001b[39m, \u001b[33m1856\u001b[39m, \u001b[33m1831\u001b[39m, \u001b[33m1938\u001b[39m, \u001b[33m2079\u001b[39m, \u001b[33m1907\u001b[39m,\n",
            "    \u001b[33m1833\u001b[39m, \u001b[33m2013\u001b[39m, \u001b[33m2210\u001b[39m, \u001b[33m1841\u001b[39m, \u001b[33m1944\u001b[39m, \u001b[33m2094\u001b[39m, \u001b[33m2000\u001b[39m, \u001b[33m2031\u001b[39m, \u001b[33m1823\u001b[39m, \u001b[33m1894\u001b[39m,\n",
            "    \u001b[33m2074\u001b[39m, \u001b[33m1783\u001b[39m, \u001b[33m1859\u001b[39m, \u001b[33m1814\u001b[39m, \u001b[33m2005\u001b[39m, \u001b[33m1893\u001b[39m, \u001b[33m2004\u001b[39m, \u001b[33m2025\u001b[39m, \u001b[33m1809\u001b[39m, \u001b[33m1695\u001b[39m,\n",
            "    ... 500 more items\n",
            "  ],\n",
            "  [\n",
            "    \u001b[33m1846\u001b[39m, \u001b[33m2295\u001b[39m, \u001b[33m2318\u001b[39m, \u001b[33m1939\u001b[39m, \u001b[33m2091\u001b[39m, \u001b[33m1858\u001b[39m, \u001b[33m2279\u001b[39m, \u001b[33m1987\u001b[39m, \u001b[33m2032\u001b[39m, \u001b[33m2269\u001b[39m,\n",
            "    \u001b[33m2212\u001b[39m, \u001b[33m2342\u001b[39m, \u001b[33m2012\u001b[39m, \u001b[33m2025\u001b[39m, \u001b[33m2438\u001b[39m, \u001b[33m1858\u001b[39m, \u001b[33m2228\u001b[39m, \u001b[33m2022\u001b[39m, \u001b[33m2089\u001b[39m, \u001b[33m2221\u001b[39m,\n",
            "    \u001b[33m1868\u001b[39m, \u001b[33m2119\u001b[39m, \u001b[33m1994\u001b[39m, \u001b[33m2312\u001b[39m, \u001b[33m2018\u001b[39m, \u001b[33m2407\u001b[39m, \u001b[33m2173\u001b[39m, \u001b[33m2171\u001b[39m, \u001b[33m2192\u001b[39m, \u001b[33m2560\u001b[39m,\n",
            "    \u001b[33m2133\u001b[39m, \u001b[33m2045\u001b[39m, \u001b[33m2337\u001b[39m, \u001b[33m2244\u001b[39m, \u001b[33m2078\u001b[39m, \u001b[33m2123\u001b[39m, \u001b[33m2251\u001b[39m, \u001b[33m2087\u001b[39m, \u001b[33m2221\u001b[39m, \u001b[33m2026\u001b[39m,\n",
            "    \u001b[33m2216\u001b[39m, \u001b[33m1858\u001b[39m, \u001b[33m2041\u001b[39m, \u001b[33m1941\u001b[39m, \u001b[33m1945\u001b[39m, \u001b[33m2117\u001b[39m, \u001b[33m2159\u001b[39m, \u001b[33m2106\u001b[39m, \u001b[33m1909\u001b[39m, \u001b[33m2144\u001b[39m,\n",
            "    \u001b[33m2029\u001b[39m, \u001b[33m2073\u001b[39m, \u001b[33m2191\u001b[39m, \u001b[33m1974\u001b[39m, \u001b[33m2039\u001b[39m, \u001b[33m2241\u001b[39m, \u001b[33m2088\u001b[39m, \u001b[33m2180\u001b[39m, \u001b[33m2244\u001b[39m, \u001b[33m2202\u001b[39m,\n",
            "    \u001b[33m2341\u001b[39m, \u001b[33m2222\u001b[39m, \u001b[33m1998\u001b[39m, \u001b[33m2224\u001b[39m, \u001b[33m2155\u001b[39m, \u001b[33m2290\u001b[39m, \u001b[33m2163\u001b[39m, \u001b[33m2236\u001b[39m, \u001b[33m2156\u001b[39m, \u001b[33m2224\u001b[39m,\n",
            "    \u001b[33m1967\u001b[39m, \u001b[33m2396\u001b[39m, \u001b[33m1971\u001b[39m, \u001b[33m2335\u001b[39m, \u001b[33m2029\u001b[39m, \u001b[33m2085\u001b[39m, \u001b[33m2038\u001b[39m, \u001b[33m2196\u001b[39m, \u001b[33m2383\u001b[39m, \u001b[33m2061\u001b[39m,\n",
            "    \u001b[33m2015\u001b[39m, \u001b[33m2468\u001b[39m, \u001b[33m2320\u001b[39m, \u001b[33m2063\u001b[39m, \u001b[33m2207\u001b[39m, \u001b[33m2231\u001b[39m, \u001b[33m2204\u001b[39m, \u001b[33m2330\u001b[39m, \u001b[33m1907\u001b[39m, \u001b[33m2104\u001b[39m,\n",
            "    \u001b[33m2396\u001b[39m, \u001b[33m1941\u001b[39m, \u001b[33m2052\u001b[39m, \u001b[33m2135\u001b[39m, \u001b[33m2408\u001b[39m, \u001b[33m2119\u001b[39m, \u001b[33m1977\u001b[39m, \u001b[33m2271\u001b[39m, \u001b[33m1960\u001b[39m, \u001b[33m1957\u001b[39m,\n",
            "    ... 500 more items\n",
            "  ],\n",
            "  [\n",
            "    \u001b[33m1560\u001b[39m, \u001b[33m2174\u001b[39m, \u001b[33m2009\u001b[39m, \u001b[33m1727\u001b[39m, \u001b[33m2085\u001b[39m, \u001b[33m1727\u001b[39m, \u001b[33m2018\u001b[39m, \u001b[33m1773\u001b[39m, \u001b[33m1950\u001b[39m, \u001b[33m2010\u001b[39m,\n",
            "    \u001b[33m1815\u001b[39m, \u001b[33m2012\u001b[39m, \u001b[33m1738\u001b[39m, \u001b[33m1926\u001b[39m, \u001b[33m2050\u001b[39m, \u001b[33m1758\u001b[39m, \u001b[33m1784\u001b[39m, \u001b[33m1925\u001b[39m, \u001b[33m2017\u001b[39m, \u001b[33m2000\u001b[39m,\n",
            "    \u001b[33m1722\u001b[39m, \u001b[33m1948\u001b[39m, \u001b[33m1710\u001b[39m, \u001b[33m2054\u001b[39m, \u001b[33m2003\u001b[39m, \u001b[33m1949\u001b[39m, \u001b[33m1818\u001b[39m, \u001b[33m2073\u001b[39m, \u001b[33m2048\u001b[39m, \u001b[33m2104\u001b[39m,\n",
            "    \u001b[33m1797\u001b[39m, \u001b[33m1960\u001b[39m, \u001b[33m1958\u001b[39m, \u001b[33m1910\u001b[39m, \u001b[33m2040\u001b[39m, \u001b[33m1946\u001b[39m, \u001b[33m2128\u001b[39m, \u001b[33m1953\u001b[39m, \u001b[33m1972\u001b[39m, \u001b[33m1836\u001b[39m,\n",
            "    \u001b[33m2105\u001b[39m, \u001b[33m1652\u001b[39m, \u001b[33m1673\u001b[39m, \u001b[33m1923\u001b[39m, \u001b[33m2015\u001b[39m, \u001b[33m1960\u001b[39m, \u001b[33m1818\u001b[39m, \u001b[33m2035\u001b[39m, \u001b[33m1770\u001b[39m, \u001b[33m1914\u001b[39m,\n",
            "    \u001b[33m2135\u001b[39m, \u001b[33m1779\u001b[39m, \u001b[33m2063\u001b[39m, \u001b[33m1811\u001b[39m, \u001b[33m1742\u001b[39m, \u001b[33m2046\u001b[39m, \u001b[33m2046\u001b[39m, \u001b[33m2107\u001b[39m, \u001b[33m2098\u001b[39m, \u001b[33m1724\u001b[39m,\n",
            "    \u001b[33m2041\u001b[39m, \u001b[33m1953\u001b[39m, \u001b[33m1900\u001b[39m, \u001b[33m2026\u001b[39m, \u001b[33m1959\u001b[39m, \u001b[33m1986\u001b[39m, \u001b[33m1998\u001b[39m, \u001b[33m2153\u001b[39m, \u001b[33m1928\u001b[39m, \u001b[33m1894\u001b[39m,\n",
            "    \u001b[33m1865\u001b[39m, \u001b[33m2068\u001b[39m, \u001b[33m1806\u001b[39m, \u001b[33m2246\u001b[39m, \u001b[33m1911\u001b[39m, \u001b[33m1881\u001b[39m, \u001b[33m2016\u001b[39m, \u001b[33m1839\u001b[39m, \u001b[33m2036\u001b[39m, \u001b[33m1880\u001b[39m,\n",
            "    \u001b[33m1689\u001b[39m, \u001b[33m2070\u001b[39m, \u001b[33m2202\u001b[39m, \u001b[33m1962\u001b[39m, \u001b[33m2071\u001b[39m, \u001b[33m1924\u001b[39m, \u001b[33m2121\u001b[39m, \u001b[33m2021\u001b[39m, \u001b[33m1874\u001b[39m, \u001b[33m2057\u001b[39m,\n",
            "    \u001b[33m2075\u001b[39m, \u001b[33m1804\u001b[39m, \u001b[33m1877\u001b[39m, \u001b[33m1582\u001b[39m, \u001b[33m1974\u001b[39m, \u001b[33m1983\u001b[39m, \u001b[33m1905\u001b[39m, \u001b[33m1973\u001b[39m, \u001b[33m1821\u001b[39m, \u001b[33m1895\u001b[39m,\n",
            "    ... 500 more items\n",
            "  ],\n",
            "  [\n",
            "    \u001b[33m1726\u001b[39m, \u001b[33m2370\u001b[39m, \u001b[33m2107\u001b[39m, \u001b[33m1933\u001b[39m, \u001b[33m1998\u001b[39m, \u001b[33m1710\u001b[39m, \u001b[33m2122\u001b[39m, \u001b[33m1910\u001b[39m, \u001b[33m1897\u001b[39m, \u001b[33m2128\u001b[39m,\n",
            "    \u001b[33m1961\u001b[39m, \u001b[33m2263\u001b[39m, \u001b[33m1733\u001b[39m, \u001b[33m2155\u001b[39m, \u001b[33m2230\u001b[39m, \u001b[33m1799\u001b[39m, \u001b[33m2045\u001b[39m, \u001b[33m2093\u001b[39m, \u001b[33m1863\u001b[39m, \u001b[33m2156\u001b[39m,\n",
            "    \u001b[33m1846\u001b[39m, \u001b[33m1947\u001b[39m, \u001b[33m1724\u001b[39m, \u001b[33m2230\u001b[39m, \u001b[33m2027\u001b[39m, \u001b[33m2267\u001b[39m, \u001b[33m1921\u001b[39m, \u001b[33m2079\u001b[39m, \u001b[33m1922\u001b[39m, \u001b[33m2278\u001b[39m,\n",
            "    \u001b[33m1710\u001b[39m, \u001b[33m1944\u001b[39m, \u001b[33m2018\u001b[39m, \u001b[33m2086\u001b[39m, \u001b[33m2038\u001b[39m, \u001b[33m2083\u001b[39m, \u001b[33m2167\u001b[39m, \u001b[33m1935\u001b[39m, \u001b[33m2004\u001b[39m, \u001b[33m1855\u001b[39m,\n",
            "    \u001b[33m1950\u001b[39m, \u001b[33m1925\u001b[39m, \u001b[33m1770\u001b[39m, \u001b[33m1896\u001b[39m, \u001b[33m1870\u001b[39m, \u001b[33m1954\u001b[39m, \u001b[33m2013\u001b[39m, \u001b[33m2049\u001b[39m, \u001b[33m1770\u001b[39m, \u001b[33m2075\u001b[39m,\n",
            "    \u001b[33m2210\u001b[39m, \u001b[33m1999\u001b[39m, \u001b[33m2345\u001b[39m, \u001b[33m1887\u001b[39m, \u001b[33m1852\u001b[39m, \u001b[33m2127\u001b[39m, \u001b[33m2281\u001b[39m, \u001b[33m1958\u001b[39m, \u001b[33m2104\u001b[39m, \u001b[33m2010\u001b[39m,\n",
            "    \u001b[33m2101\u001b[39m, \u001b[33m2166\u001b[39m, \u001b[33m1921\u001b[39m, \u001b[33m2065\u001b[39m, \u001b[33m1813\u001b[39m, \u001b[33m2091\u001b[39m, \u001b[33m2287\u001b[39m, \u001b[33m2375\u001b[39m, \u001b[33m2142\u001b[39m, \u001b[33m2009\u001b[39m,\n",
            "    \u001b[33m2020\u001b[39m, \u001b[33m2110\u001b[39m, \u001b[33m1781\u001b[39m, \u001b[33m2296\u001b[39m, \u001b[33m2063\u001b[39m, \u001b[33m2023\u001b[39m, \u001b[33m1997\u001b[39m, \u001b[33m1961\u001b[39m, \u001b[33m2130\u001b[39m, \u001b[33m1884\u001b[39m,\n",
            "    \u001b[33m1959\u001b[39m, \u001b[33m2144\u001b[39m, \u001b[33m2280\u001b[39m, \u001b[33m2010\u001b[39m, \u001b[33m1962\u001b[39m, \u001b[33m1984\u001b[39m, \u001b[33m1956\u001b[39m, \u001b[33m2021\u001b[39m, \u001b[33m1927\u001b[39m, \u001b[33m1921\u001b[39m,\n",
            "    \u001b[33m2296\u001b[39m, \u001b[33m1933\u001b[39m, \u001b[33m1948\u001b[39m, \u001b[33m1783\u001b[39m, \u001b[33m2434\u001b[39m, \u001b[33m1981\u001b[39m, \u001b[33m2081\u001b[39m, \u001b[33m1929\u001b[39m, \u001b[33m1826\u001b[39m, \u001b[33m1899\u001b[39m,\n",
            "    ... 500 more items\n",
            "  ],\n",
            "  [\n",
            "    \u001b[33m1457\u001b[39m, \u001b[33m1953\u001b[39m, \u001b[33m1993\u001b[39m, \u001b[33m1720\u001b[39m, \u001b[33m1870\u001b[39m, \u001b[33m1782\u001b[39m, \u001b[33m2023\u001b[39m, \u001b[33m1877\u001b[39m, \u001b[33m1730\u001b[39m, \u001b[33m1929\u001b[39m,\n",
            "    \u001b[33m1887\u001b[39m, \u001b[33m1927\u001b[39m, \u001b[33m1638\u001b[39m, \u001b[33m1848\u001b[39m, \u001b[33m2005\u001b[39m, \u001b[33m1636\u001b[39m, \u001b[33m1977\u001b[39m, \u001b[33m1851\u001b[39m, \u001b[33m1899\u001b[39m, \u001b[33m1827\u001b[39m,\n",
            "    \u001b[33m1674\u001b[39m, \u001b[33m1861\u001b[39m, \u001b[33m1848\u001b[39m, \u001b[33m2086\u001b[39m, \u001b[33m1795\u001b[39m, \u001b[33m1882\u001b[39m, \u001b[33m1846\u001b[39m, \u001b[33m1876\u001b[39m, \u001b[33m1896\u001b[39m, \u001b[33m2246\u001b[39m,\n",
            "    \u001b[33m1771\u001b[39m, \u001b[33m1904\u001b[39m, \u001b[33m1919\u001b[39m, \u001b[33m2115\u001b[39m, \u001b[33m1961\u001b[39m, \u001b[33m2010\u001b[39m, \u001b[33m1829\u001b[39m, \u001b[33m1819\u001b[39m, \u001b[33m1966\u001b[39m, \u001b[33m1632\u001b[39m,\n",
            "    \u001b[33m2187\u001b[39m, \u001b[33m1502\u001b[39m, \u001b[33m1691\u001b[39m, \u001b[33m1768\u001b[39m, \u001b[33m1783\u001b[39m, \u001b[33m1761\u001b[39m, \u001b[33m1908\u001b[39m, \u001b[33m1858\u001b[39m, \u001b[33m1656\u001b[39m, \u001b[33m1831\u001b[39m,\n",
            "    \u001b[33m1839\u001b[39m, \u001b[33m1824\u001b[39m, \u001b[33m2076\u001b[39m, \u001b[33m1596\u001b[39m, \u001b[33m1712\u001b[39m, \u001b[33m2032\u001b[39m, \u001b[33m1878\u001b[39m, \u001b[33m1881\u001b[39m, \u001b[33m1887\u001b[39m, \u001b[33m1709\u001b[39m,\n",
            "    \u001b[33m1774\u001b[39m, \u001b[33m1986\u001b[39m, \u001b[33m2077\u001b[39m, \u001b[33m2056\u001b[39m, \u001b[33m1860\u001b[39m, \u001b[33m1993\u001b[39m, \u001b[33m1772\u001b[39m, \u001b[33m1885\u001b[39m, \u001b[33m2043\u001b[39m, \u001b[33m1799\u001b[39m,\n",
            "    \u001b[33m1886\u001b[39m, \u001b[33m2044\u001b[39m, \u001b[33m1832\u001b[39m, \u001b[33m2073\u001b[39m, \u001b[33m1954\u001b[39m, \u001b[33m2044\u001b[39m, \u001b[33m1894\u001b[39m, \u001b[33m1821\u001b[39m, \u001b[33m2214\u001b[39m, \u001b[33m1879\u001b[39m,\n",
            "    \u001b[33m1835\u001b[39m, \u001b[33m2006\u001b[39m, \u001b[33m1953\u001b[39m, \u001b[33m1721\u001b[39m, \u001b[33m1840\u001b[39m, \u001b[33m1884\u001b[39m, \u001b[33m1964\u001b[39m, \u001b[33m2076\u001b[39m, \u001b[33m1710\u001b[39m, \u001b[33m1916\u001b[39m,\n",
            "    \u001b[33m1883\u001b[39m, \u001b[33m1601\u001b[39m, \u001b[33m1846\u001b[39m, \u001b[33m1644\u001b[39m, \u001b[33m1897\u001b[39m, \u001b[33m1869\u001b[39m, \u001b[33m1654\u001b[39m, \u001b[33m1972\u001b[39m, \u001b[33m1832\u001b[39m, \u001b[33m1711\u001b[39m,\n",
            "    ... 500 more items\n",
            "  ],\n",
            "  [\n",
            "    \u001b[33m1657\u001b[39m, \u001b[33m2223\u001b[39m, \u001b[33m2015\u001b[39m, \u001b[33m1905\u001b[39m, \u001b[33m1946\u001b[39m, \u001b[33m1639\u001b[39m, \u001b[33m2206\u001b[39m, \u001b[33m1683\u001b[39m, \u001b[33m1838\u001b[39m, \u001b[33m2107\u001b[39m,\n",
            "    \u001b[33m2007\u001b[39m, \u001b[33m2001\u001b[39m, \u001b[33m1891\u001b[39m, \u001b[33m1984\u001b[39m, \u001b[33m2236\u001b[39m, \u001b[33m1832\u001b[39m, \u001b[33m1944\u001b[39m, \u001b[33m1980\u001b[39m, \u001b[33m2016\u001b[39m, \u001b[33m2022\u001b[39m,\n",
            "    \u001b[33m1889\u001b[39m, \u001b[33m2110\u001b[39m, \u001b[33m1840\u001b[39m, \u001b[33m2202\u001b[39m, \u001b[33m1895\u001b[39m, \u001b[33m2109\u001b[39m, \u001b[33m1873\u001b[39m, \u001b[33m2020\u001b[39m, \u001b[33m2001\u001b[39m, \u001b[33m2245\u001b[39m,\n",
            "    \u001b[33m1808\u001b[39m, \u001b[33m2180\u001b[39m, \u001b[33m2003\u001b[39m, \u001b[33m1938\u001b[39m, \u001b[33m2182\u001b[39m, \u001b[33m1987\u001b[39m, \u001b[33m2094\u001b[39m, \u001b[33m1866\u001b[39m, \u001b[33m1952\u001b[39m, \u001b[33m1817\u001b[39m,\n",
            "    \u001b[33m2125\u001b[39m, \u001b[33m1834\u001b[39m, \u001b[33m1687\u001b[39m, \u001b[33m1760\u001b[39m, \u001b[33m1793\u001b[39m, \u001b[33m2041\u001b[39m, \u001b[33m1858\u001b[39m, \u001b[33m1897\u001b[39m, \u001b[33m1771\u001b[39m, \u001b[33m1976\u001b[39m,\n",
            "    \u001b[33m2062\u001b[39m, \u001b[33m1849\u001b[39m, \u001b[33m2126\u001b[39m, \u001b[33m1844\u001b[39m, \u001b[33m1913\u001b[39m, \u001b[33m2140\u001b[39m, \u001b[33m2120\u001b[39m, \u001b[33m1878\u001b[39m, \u001b[33m2263\u001b[39m, \u001b[33m1929\u001b[39m,\n",
            "    \u001b[33m2001\u001b[39m, \u001b[33m1980\u001b[39m, \u001b[33m2003\u001b[39m, \u001b[33m2024\u001b[39m, \u001b[33m2002\u001b[39m, \u001b[33m2114\u001b[39m, \u001b[33m2123\u001b[39m, \u001b[33m2205\u001b[39m, \u001b[33m1958\u001b[39m, \u001b[33m1943\u001b[39m,\n",
            "    \u001b[33m1899\u001b[39m, \u001b[33m2025\u001b[39m, \u001b[33m1903\u001b[39m, \u001b[33m2335\u001b[39m, \u001b[33m1896\u001b[39m, \u001b[33m1946\u001b[39m, \u001b[33m2019\u001b[39m, \u001b[33m2062\u001b[39m, \u001b[33m2169\u001b[39m, \u001b[33m1874\u001b[39m,\n",
            "    \u001b[33m1848\u001b[39m, \u001b[33m2122\u001b[39m, \u001b[33m2206\u001b[39m, \u001b[33m1837\u001b[39m, \u001b[33m1958\u001b[39m, \u001b[33m1904\u001b[39m, \u001b[33m2070\u001b[39m, \u001b[33m2110\u001b[39m, \u001b[33m1816\u001b[39m, \u001b[33m2006\u001b[39m,\n",
            "    \u001b[33m2213\u001b[39m, \u001b[33m1904\u001b[39m, \u001b[33m2015\u001b[39m, \u001b[33m1797\u001b[39m, \u001b[33m2198\u001b[39m, \u001b[33m2024\u001b[39m, \u001b[33m2027\u001b[39m, \u001b[33m2123\u001b[39m, \u001b[33m1845\u001b[39m, \u001b[33m1908\u001b[39m,\n",
            "    ... 500 more items\n",
            "  ],\n",
            "  [\n",
            "    \u001b[33m1707\u001b[39m, \u001b[33m2360\u001b[39m, \u001b[33m2259\u001b[39m, \u001b[33m2039\u001b[39m, \u001b[33m2235\u001b[39m, \u001b[33m1877\u001b[39m, \u001b[33m2295\u001b[39m, \u001b[33m2075\u001b[39m, \u001b[33m2013\u001b[39m, \u001b[33m2180\u001b[39m,\n",
            "    \u001b[33m2135\u001b[39m, \u001b[33m2295\u001b[39m, \u001b[33m2015\u001b[39m, \u001b[33m2168\u001b[39m, \u001b[33m2443\u001b[39m, \u001b[33m1962\u001b[39m, \u001b[33m2384\u001b[39m, \u001b[33m2183\u001b[39m, \u001b[33m2289\u001b[39m, \u001b[33m2103\u001b[39m,\n",
            "    \u001b[33m1843\u001b[39m, \u001b[33m2139\u001b[39m, \u001b[33m2028\u001b[39m, \u001b[33m2225\u001b[39m, \u001b[33m2002\u001b[39m, \u001b[33m2492\u001b[39m, \u001b[33m2082\u001b[39m, \u001b[33m2157\u001b[39m, \u001b[33m2130\u001b[39m, \u001b[33m2498\u001b[39m,\n",
            "    \u001b[33m2003\u001b[39m, \u001b[33m2112\u001b[39m, \u001b[33m2280\u001b[39m, \u001b[33m2253\u001b[39m, \u001b[33m2249\u001b[39m, \u001b[33m2283\u001b[39m, \u001b[33m2342\u001b[39m, \u001b[33m2242\u001b[39m, \u001b[33m2321\u001b[39m, \u001b[33m1891\u001b[39m,\n",
            "    \u001b[33m2245\u001b[39m, \u001b[33m1889\u001b[39m, \u001b[33m2061\u001b[39m, \u001b[33m2124\u001b[39m, \u001b[33m1937\u001b[39m, \u001b[33m2144\u001b[39m, \u001b[33m2194\u001b[39m, \u001b[33m2072\u001b[39m, \u001b[33m1987\u001b[39m, \u001b[33m2109\u001b[39m,\n",
            "    \u001b[33m2263\u001b[39m, \u001b[33m2123\u001b[39m, \u001b[33m2345\u001b[39m, \u001b[33m1913\u001b[39m, \u001b[33m2019\u001b[39m, \u001b[33m2251\u001b[39m, \u001b[33m2365\u001b[39m, \u001b[33m2123\u001b[39m, \u001b[33m2234\u001b[39m, \u001b[33m2024\u001b[39m,\n",
            "    \u001b[33m2230\u001b[39m, \u001b[33m2248\u001b[39m, \u001b[33m2151\u001b[39m, \u001b[33m2224\u001b[39m, \u001b[33m2187\u001b[39m, \u001b[33m2287\u001b[39m, \u001b[33m2349\u001b[39m, \u001b[33m2565\u001b[39m, \u001b[33m2230\u001b[39m, \u001b[33m2165\u001b[39m,\n",
            "    \u001b[33m2086\u001b[39m, \u001b[33m2317\u001b[39m, \u001b[33m2047\u001b[39m, \u001b[33m2487\u001b[39m, \u001b[33m2072\u001b[39m, \u001b[33m2201\u001b[39m, \u001b[33m2177\u001b[39m, \u001b[33m2141\u001b[39m, \u001b[33m2337\u001b[39m, \u001b[33m2141\u001b[39m,\n",
            "    \u001b[33m2087\u001b[39m, \u001b[33m2404\u001b[39m, \u001b[33m2369\u001b[39m, \u001b[33m1943\u001b[39m, \u001b[33m2141\u001b[39m, \u001b[33m2121\u001b[39m, \u001b[33m2146\u001b[39m, \u001b[33m2330\u001b[39m, \u001b[33m2052\u001b[39m, \u001b[33m2076\u001b[39m,\n",
            "    \u001b[33m2422\u001b[39m, \u001b[33m2013\u001b[39m, \u001b[33m2156\u001b[39m, \u001b[33m1889\u001b[39m, \u001b[33m2333\u001b[39m, \u001b[33m2215\u001b[39m, \u001b[33m2118\u001b[39m, \u001b[33m2185\u001b[39m, \u001b[33m2042\u001b[39m, \u001b[33m2055\u001b[39m,\n",
            "    ... 500 more items\n",
            "  ],\n",
            "  [\n",
            "    \u001b[33m1693\u001b[39m, \u001b[33m1964\u001b[39m, \u001b[33m2121\u001b[39m, \u001b[33m1832\u001b[39m, \u001b[33m1920\u001b[39m, \u001b[33m1940\u001b[39m, \u001b[33m2040\u001b[39m, \u001b[33m1873\u001b[39m, \u001b[33m1813\u001b[39m, \u001b[33m2181\u001b[39m,\n",
            "    \u001b[33m1977\u001b[39m, \u001b[33m2093\u001b[39m, \u001b[33m1884\u001b[39m, \u001b[33m1893\u001b[39m, \u001b[33m2201\u001b[39m, \u001b[33m1841\u001b[39m, \u001b[33m2258\u001b[39m, \u001b[33m2125\u001b[39m, \u001b[33m2012\u001b[39m, \u001b[33m2125\u001b[39m,\n",
            "    \u001b[33m1640\u001b[39m, \u001b[33m2057\u001b[39m, \u001b[33m1795\u001b[39m, \u001b[33m2205\u001b[39m, \u001b[33m1917\u001b[39m, \u001b[33m2041\u001b[39m, \u001b[33m1924\u001b[39m, \u001b[33m2137\u001b[39m, \u001b[33m2035\u001b[39m, \u001b[33m2320\u001b[39m,\n",
            "    \u001b[33m1919\u001b[39m, \u001b[33m2033\u001b[39m, \u001b[33m1875\u001b[39m, \u001b[33m2234\u001b[39m, \u001b[33m2065\u001b[39m, \u001b[33m1998\u001b[39m, \u001b[33m2198\u001b[39m, \u001b[33m1962\u001b[39m, \u001b[33m2037\u001b[39m, \u001b[33m1936\u001b[39m,\n",
            "    \u001b[33m2142\u001b[39m, \u001b[33m1785\u001b[39m, \u001b[33m1911\u001b[39m, \u001b[33m1998\u001b[39m, \u001b[33m1926\u001b[39m, \u001b[33m2056\u001b[39m, \u001b[33m2172\u001b[39m, \u001b[33m2073\u001b[39m, \u001b[33m1792\u001b[39m, \u001b[33m2004\u001b[39m,\n",
            "    \u001b[33m2095\u001b[39m, \u001b[33m2041\u001b[39m, \u001b[33m2237\u001b[39m, \u001b[33m1821\u001b[39m, \u001b[33m1924\u001b[39m, \u001b[33m2184\u001b[39m, \u001b[33m2090\u001b[39m, \u001b[33m1931\u001b[39m, \u001b[33m1976\u001b[39m, \u001b[33m1949\u001b[39m,\n",
            "    \u001b[33m1981\u001b[39m, \u001b[33m2078\u001b[39m, \u001b[33m2038\u001b[39m, \u001b[33m1972\u001b[39m, \u001b[33m2017\u001b[39m, \u001b[33m2102\u001b[39m, \u001b[33m1952\u001b[39m, \u001b[33m2148\u001b[39m, \u001b[33m2165\u001b[39m, \u001b[33m1848\u001b[39m,\n",
            "    \u001b[33m1941\u001b[39m, \u001b[33m2159\u001b[39m, \u001b[33m1947\u001b[39m, \u001b[33m2227\u001b[39m, \u001b[33m1984\u001b[39m, \u001b[33m2020\u001b[39m, \u001b[33m1827\u001b[39m, \u001b[33m2068\u001b[39m, \u001b[33m2172\u001b[39m, \u001b[33m2034\u001b[39m,\n",
            "    \u001b[33m1845\u001b[39m, \u001b[33m2122\u001b[39m, \u001b[33m2039\u001b[39m, \u001b[33m1717\u001b[39m, \u001b[33m2103\u001b[39m, \u001b[33m1980\u001b[39m, \u001b[33m1901\u001b[39m, \u001b[33m2017\u001b[39m, \u001b[33m1621\u001b[39m, \u001b[33m1783\u001b[39m,\n",
            "    \u001b[33m2176\u001b[39m, \u001b[33m1775\u001b[39m, \u001b[33m2055\u001b[39m, \u001b[33m1859\u001b[39m, \u001b[33m2304\u001b[39m, \u001b[33m1933\u001b[39m, \u001b[33m2079\u001b[39m, \u001b[33m2298\u001b[39m, \u001b[33m1998\u001b[39m, \u001b[33m1848\u001b[39m,\n",
            "    ... 500 more items\n",
            "  ],\n",
            "  [\n",
            "    \u001b[33m1805\u001b[39m, \u001b[33m2332\u001b[39m, \u001b[33m2319\u001b[39m, \u001b[33m1888\u001b[39m, \u001b[33m2099\u001b[39m, \u001b[33m1716\u001b[39m, \u001b[33m2234\u001b[39m, \u001b[33m2059\u001b[39m, \u001b[33m1858\u001b[39m, \u001b[33m2311\u001b[39m,\n",
            "    \u001b[33m2206\u001b[39m, \u001b[33m2238\u001b[39m, \u001b[33m2099\u001b[39m, \u001b[33m2094\u001b[39m, \u001b[33m2113\u001b[39m, \u001b[33m1944\u001b[39m, \u001b[33m2119\u001b[39m, \u001b[33m2100\u001b[39m, \u001b[33m2124\u001b[39m, \u001b[33m2193\u001b[39m,\n",
            "    \u001b[33m1894\u001b[39m, \u001b[33m2168\u001b[39m, \u001b[33m1991\u001b[39m, \u001b[33m2316\u001b[39m, \u001b[33m2051\u001b[39m, \u001b[33m2238\u001b[39m, \u001b[33m1994\u001b[39m, \u001b[33m2170\u001b[39m, \u001b[33m2137\u001b[39m, \u001b[33m2318\u001b[39m,\n",
            "    \u001b[33m1877\u001b[39m, \u001b[33m2111\u001b[39m, \u001b[33m2212\u001b[39m, \u001b[33m2095\u001b[39m, \u001b[33m2340\u001b[39m, \u001b[33m2102\u001b[39m, \u001b[33m2266\u001b[39m, \u001b[33m2012\u001b[39m, \u001b[33m2090\u001b[39m, \u001b[33m1978\u001b[39m,\n",
            "    \u001b[33m2205\u001b[39m, \u001b[33m1947\u001b[39m, \u001b[33m1801\u001b[39m, \u001b[33m2104\u001b[39m, \u001b[33m2119\u001b[39m, \u001b[33m2246\u001b[39m, \u001b[33m2176\u001b[39m, \u001b[33m2259\u001b[39m, \u001b[33m2012\u001b[39m, \u001b[33m2203\u001b[39m,\n",
            "    \u001b[33m2206\u001b[39m, \u001b[33m1879\u001b[39m, \u001b[33m2233\u001b[39m, \u001b[33m1939\u001b[39m, \u001b[33m1951\u001b[39m, \u001b[33m2323\u001b[39m, \u001b[33m2175\u001b[39m, \u001b[33m2113\u001b[39m, \u001b[33m2309\u001b[39m, \u001b[33m2001\u001b[39m,\n",
            "    \u001b[33m2152\u001b[39m, \u001b[33m2050\u001b[39m, \u001b[33m1972\u001b[39m, \u001b[33m2203\u001b[39m, \u001b[33m1971\u001b[39m, \u001b[33m2295\u001b[39m, \u001b[33m2135\u001b[39m, \u001b[33m2402\u001b[39m, \u001b[33m2299\u001b[39m, \u001b[33m2152\u001b[39m,\n",
            "    \u001b[33m2241\u001b[39m, \u001b[33m2230\u001b[39m, \u001b[33m1806\u001b[39m, \u001b[33m2304\u001b[39m, \u001b[33m2180\u001b[39m, \u001b[33m2082\u001b[39m, \u001b[33m2050\u001b[39m, \u001b[33m2128\u001b[39m, \u001b[33m2382\u001b[39m, \u001b[33m1959\u001b[39m,\n",
            "    \u001b[33m2041\u001b[39m, \u001b[33m2188\u001b[39m, \u001b[33m2320\u001b[39m, \u001b[33m1981\u001b[39m, \u001b[33m2224\u001b[39m, \u001b[33m2156\u001b[39m, \u001b[33m2309\u001b[39m, \u001b[33m2211\u001b[39m, \u001b[33m2057\u001b[39m, \u001b[33m2129\u001b[39m,\n",
            "    \u001b[33m2213\u001b[39m, \u001b[33m1930\u001b[39m, \u001b[33m2048\u001b[39m, \u001b[33m1893\u001b[39m, \u001b[33m2392\u001b[39m, \u001b[33m2047\u001b[39m, \u001b[33m2045\u001b[39m, \u001b[33m2101\u001b[39m, \u001b[33m1996\u001b[39m, \u001b[33m2080\u001b[39m,\n",
            "    ... 500 more items\n",
            "  ],\n",
            "  [\n",
            "    \u001b[33m1538\u001b[39m, \u001b[33m2116\u001b[39m, \u001b[33m2210\u001b[39m, \u001b[33m1747\u001b[39m, \u001b[33m1901\u001b[39m, \u001b[33m1759\u001b[39m, \u001b[33m1910\u001b[39m, \u001b[33m1874\u001b[39m, \u001b[33m1992\u001b[39m, \u001b[33m2038\u001b[39m,\n",
            "    \u001b[33m1961\u001b[39m, \u001b[33m2107\u001b[39m, \u001b[33m1875\u001b[39m, \u001b[33m1882\u001b[39m, \u001b[33m2174\u001b[39m, \u001b[33m1744\u001b[39m, \u001b[33m1978\u001b[39m, \u001b[33m2136\u001b[39m, \u001b[33m2010\u001b[39m, \u001b[33m1902\u001b[39m,\n",
            "    \u001b[33m1783\u001b[39m, \u001b[33m1820\u001b[39m, \u001b[33m1798\u001b[39m, \u001b[33m2110\u001b[39m, \u001b[33m1824\u001b[39m, \u001b[33m1994\u001b[39m, \u001b[33m1899\u001b[39m, \u001b[33m2030\u001b[39m, \u001b[33m1993\u001b[39m, \u001b[33m2098\u001b[39m,\n",
            "    \u001b[33m1744\u001b[39m, \u001b[33m1870\u001b[39m, \u001b[33m2115\u001b[39m, \u001b[33m2024\u001b[39m, \u001b[33m1898\u001b[39m, \u001b[33m1951\u001b[39m, \u001b[33m1960\u001b[39m, \u001b[33m1826\u001b[39m, \u001b[33m1924\u001b[39m, \u001b[33m1710\u001b[39m,\n",
            "    \u001b[33m2036\u001b[39m, \u001b[33m1612\u001b[39m, \u001b[33m1666\u001b[39m, \u001b[33m1961\u001b[39m, \u001b[33m1887\u001b[39m, \u001b[33m1919\u001b[39m, \u001b[33m1930\u001b[39m, \u001b[33m1935\u001b[39m, \u001b[33m1900\u001b[39m, \u001b[33m1791\u001b[39m,\n",
            "    \u001b[33m1941\u001b[39m, \u001b[33m1819\u001b[39m, \u001b[33m2092\u001b[39m, \u001b[33m1799\u001b[39m, \u001b[33m1821\u001b[39m, \u001b[33m2006\u001b[39m, \u001b[33m2139\u001b[39m, \u001b[33m1963\u001b[39m, \u001b[33m1994\u001b[39m, \u001b[33m1794\u001b[39m,\n",
            "    \u001b[33m1783\u001b[39m, \u001b[33m1988\u001b[39m, \u001b[33m2095\u001b[39m, \u001b[33m2027\u001b[39m, \u001b[33m1923\u001b[39m, \u001b[33m2034\u001b[39m, \u001b[33m2013\u001b[39m, \u001b[33m2066\u001b[39m, \u001b[33m1922\u001b[39m, \u001b[33m1862\u001b[39m,\n",
            "    \u001b[33m1952\u001b[39m, \u001b[33m2074\u001b[39m, \u001b[33m1819\u001b[39m, \u001b[33m2181\u001b[39m, \u001b[33m1880\u001b[39m, \u001b[33m2128\u001b[39m, \u001b[33m2061\u001b[39m, \u001b[33m1976\u001b[39m, \u001b[33m2077\u001b[39m, \u001b[33m1789\u001b[39m,\n",
            "    \u001b[33m1687\u001b[39m, \u001b[33m2035\u001b[39m, \u001b[33m2069\u001b[39m, \u001b[33m1715\u001b[39m, \u001b[33m2169\u001b[39m, \u001b[33m1854\u001b[39m, \u001b[33m1930\u001b[39m, \u001b[33m1947\u001b[39m, \u001b[33m1749\u001b[39m, \u001b[33m1780\u001b[39m,\n",
            "    \u001b[33m1808\u001b[39m, \u001b[33m1689\u001b[39m, \u001b[33m1876\u001b[39m, \u001b[33m1674\u001b[39m, \u001b[33m2065\u001b[39m, \u001b[33m1889\u001b[39m, \u001b[33m1929\u001b[39m, \u001b[33m2078\u001b[39m, \u001b[33m1859\u001b[39m, \u001b[33m1723\u001b[39m,\n",
            "    ... 500 more items\n",
            "  ],\n",
            "  [\n",
            "    \u001b[33m1767\u001b[39m, \u001b[33m2358\u001b[39m, \u001b[33m2267\u001b[39m, \u001b[33m2016\u001b[39m, \u001b[33m2132\u001b[39m, \u001b[33m1960\u001b[39m, \u001b[33m2254\u001b[39m, \u001b[33m1937\u001b[39m, \u001b[33m1973\u001b[39m, \u001b[33m2077\u001b[39m,\n",
            "    \u001b[33m2060\u001b[39m, \u001b[33m2301\u001b[39m, \u001b[33m1927\u001b[39m, \u001b[33m2083\u001b[39m, \u001b[33m2213\u001b[39m, \u001b[33m1927\u001b[39m, \u001b[33m2039\u001b[39m, \u001b[33m2157\u001b[39m, \u001b[33m2100\u001b[39m, \u001b[33m2043\u001b[39m,\n",
            "    \u001b[33m1848\u001b[39m, \u001b[33m1901\u001b[39m, \u001b[33m1954\u001b[39m, \u001b[33m2197\u001b[39m, \u001b[33m2022\u001b[39m, \u001b[33m2220\u001b[39m, \u001b[33m2105\u001b[39m, \u001b[33m2160\u001b[39m, \u001b[33m2181\u001b[39m, \u001b[33m2456\u001b[39m,\n",
            "    \u001b[33m1980\u001b[39m, \u001b[33m2127\u001b[39m, \u001b[33m2239\u001b[39m, \u001b[33m2392\u001b[39m, \u001b[33m2096\u001b[39m, \u001b[33m2156\u001b[39m, \u001b[33m2095\u001b[39m, \u001b[33m2145\u001b[39m, \u001b[33m2185\u001b[39m, \u001b[33m1984\u001b[39m,\n",
            "    \u001b[33m2214\u001b[39m, \u001b[33m1940\u001b[39m, \u001b[33m1916\u001b[39m, \u001b[33m2103\u001b[39m, \u001b[33m2080\u001b[39m, \u001b[33m2001\u001b[39m, \u001b[33m1918\u001b[39m, \u001b[33m2062\u001b[39m, \u001b[33m1800\u001b[39m, \u001b[33m2043\u001b[39m,\n",
            "    \u001b[33m2222\u001b[39m, \u001b[33m1845\u001b[39m, \u001b[33m2170\u001b[39m, \u001b[33m2001\u001b[39m, \u001b[33m2051\u001b[39m, \u001b[33m2160\u001b[39m, \u001b[33m2152\u001b[39m, \u001b[33m2128\u001b[39m, \u001b[33m2048\u001b[39m, \u001b[33m2012\u001b[39m,\n",
            "    \u001b[33m2107\u001b[39m, \u001b[33m2150\u001b[39m, \u001b[33m1996\u001b[39m, \u001b[33m2204\u001b[39m, \u001b[33m1991\u001b[39m, \u001b[33m2011\u001b[39m, \u001b[33m2239\u001b[39m, \u001b[33m2312\u001b[39m, \u001b[33m2244\u001b[39m, \u001b[33m2065\u001b[39m,\n",
            "    \u001b[33m2016\u001b[39m, \u001b[33m2237\u001b[39m, \u001b[33m2043\u001b[39m, \u001b[33m2369\u001b[39m, \u001b[33m2054\u001b[39m, \u001b[33m2187\u001b[39m, \u001b[33m2140\u001b[39m, \u001b[33m2051\u001b[39m, \u001b[33m2315\u001b[39m, \u001b[33m2040\u001b[39m,\n",
            "    \u001b[33m1982\u001b[39m, \u001b[33m2297\u001b[39m, \u001b[33m2228\u001b[39m, \u001b[33m1965\u001b[39m, \u001b[33m2144\u001b[39m, \u001b[33m2082\u001b[39m, \u001b[33m1948\u001b[39m, \u001b[33m2167\u001b[39m, \u001b[33m1903\u001b[39m, \u001b[33m1989\u001b[39m,\n",
            "    \u001b[33m2163\u001b[39m, \u001b[33m1930\u001b[39m, \u001b[33m1885\u001b[39m, \u001b[33m1855\u001b[39m, \u001b[33m2272\u001b[39m, \u001b[33m2140\u001b[39m, \u001b[33m2013\u001b[39m, \u001b[33m2338\u001b[39m, \u001b[33m1785\u001b[39m, \u001b[33m2029\u001b[39m,\n",
            "    ... 500 more items\n",
            "  ],\n",
            "  [\n",
            "    \u001b[33m1650\u001b[39m, \u001b[33m2366\u001b[39m, \u001b[33m2235\u001b[39m, \u001b[33m2128\u001b[39m, \u001b[33m2255\u001b[39m, \u001b[33m1885\u001b[39m, \u001b[33m2249\u001b[39m, \u001b[33m1976\u001b[39m, \u001b[33m1987\u001b[39m, \u001b[33m2178\u001b[39m,\n",
            "    \u001b[33m2007\u001b[39m, \u001b[33m2121\u001b[39m, \u001b[33m1857\u001b[39m, \u001b[33m2070\u001b[39m, \u001b[33m2433\u001b[39m, \u001b[33m1949\u001b[39m, \u001b[33m1988\u001b[39m, \u001b[33m2092\u001b[39m, \u001b[33m2071\u001b[39m, \u001b[33m2093\u001b[39m,\n",
            "    \u001b[33m1981\u001b[39m, \u001b[33m2137\u001b[39m, \u001b[33m2039\u001b[39m, \u001b[33m2049\u001b[39m, \u001b[33m1985\u001b[39m, \u001b[33m2311\u001b[39m, \u001b[33m1974\u001b[39m, \u001b[33m2066\u001b[39m, \u001b[33m2035\u001b[39m, \u001b[33m2298\u001b[39m,\n",
            "    \u001b[33m1912\u001b[39m, \u001b[33m2115\u001b[39m, \u001b[33m2075\u001b[39m, \u001b[33m2205\u001b[39m, \u001b[33m2146\u001b[39m, \u001b[33m2168\u001b[39m, \u001b[33m2080\u001b[39m, \u001b[33m2062\u001b[39m, \u001b[33m2271\u001b[39m, \u001b[33m1988\u001b[39m,\n",
            "    \u001b[33m2197\u001b[39m, \u001b[33m1876\u001b[39m, \u001b[33m1889\u001b[39m, \u001b[33m2071\u001b[39m, \u001b[33m1928\u001b[39m, \u001b[33m1990\u001b[39m, \u001b[33m1977\u001b[39m, \u001b[33m2058\u001b[39m, \u001b[33m2045\u001b[39m, \u001b[33m2015\u001b[39m,\n",
            "    \u001b[33m2169\u001b[39m, \u001b[33m1987\u001b[39m, \u001b[33m2241\u001b[39m, \u001b[33m1921\u001b[39m, \u001b[33m2159\u001b[39m, \u001b[33m2116\u001b[39m, \u001b[33m2100\u001b[39m, \u001b[33m2094\u001b[39m, \u001b[33m2192\u001b[39m, \u001b[33m1894\u001b[39m,\n",
            "    \u001b[33m2051\u001b[39m, \u001b[33m2187\u001b[39m, \u001b[33m2071\u001b[39m, \u001b[33m2185\u001b[39m, \u001b[33m2026\u001b[39m, \u001b[33m2132\u001b[39m, \u001b[33m2170\u001b[39m, \u001b[33m2310\u001b[39m, \u001b[33m2146\u001b[39m, \u001b[33m2086\u001b[39m,\n",
            "    \u001b[33m1999\u001b[39m, \u001b[33m2237\u001b[39m, \u001b[33m1992\u001b[39m, \u001b[33m2440\u001b[39m, \u001b[33m2017\u001b[39m, \u001b[33m2191\u001b[39m, \u001b[33m2232\u001b[39m, \u001b[33m2089\u001b[39m, \u001b[33m2203\u001b[39m, \u001b[33m1933\u001b[39m,\n",
            "    \u001b[33m1889\u001b[39m, \u001b[33m2059\u001b[39m, \u001b[33m2321\u001b[39m, \u001b[33m2008\u001b[39m, \u001b[33m2113\u001b[39m, \u001b[33m2068\u001b[39m, \u001b[33m2069\u001b[39m, \u001b[33m2124\u001b[39m, \u001b[33m1876\u001b[39m, \u001b[33m2154\u001b[39m,\n",
            "    \u001b[33m2224\u001b[39m, \u001b[33m2070\u001b[39m, \u001b[33m1847\u001b[39m, \u001b[33m1732\u001b[39m, \u001b[33m2324\u001b[39m, \u001b[33m2134\u001b[39m, \u001b[33m2089\u001b[39m, \u001b[33m2167\u001b[39m, \u001b[33m1996\u001b[39m, \u001b[33m1966\u001b[39m,\n",
            "    ... 500 more items\n",
            "  ],\n",
            "  [\n",
            "    \u001b[33m1604\u001b[39m, \u001b[33m2112\u001b[39m, \u001b[33m2044\u001b[39m, \u001b[33m1812\u001b[39m, \u001b[33m2073\u001b[39m, \u001b[33m1679\u001b[39m, \u001b[33m2059\u001b[39m, \u001b[33m1768\u001b[39m, \u001b[33m1843\u001b[39m, \u001b[33m2039\u001b[39m,\n",
            "    \u001b[33m1891\u001b[39m, \u001b[33m1922\u001b[39m, \u001b[33m1782\u001b[39m, \u001b[33m1844\u001b[39m, \u001b[33m2113\u001b[39m, \u001b[33m1709\u001b[39m, \u001b[33m1894\u001b[39m, \u001b[33m1855\u001b[39m, \u001b[33m2056\u001b[39m, \u001b[33m1989\u001b[39m,\n",
            "    \u001b[33m1790\u001b[39m, \u001b[33m1878\u001b[39m, \u001b[33m1773\u001b[39m, \u001b[33m1970\u001b[39m, \u001b[33m1804\u001b[39m, \u001b[33m2134\u001b[39m, \u001b[33m1918\u001b[39m, \u001b[33m2026\u001b[39m, \u001b[33m1743\u001b[39m, \u001b[33m2164\u001b[39m,\n",
            "    \u001b[33m1896\u001b[39m, \u001b[33m1932\u001b[39m, \u001b[33m1885\u001b[39m, \u001b[33m1902\u001b[39m, \u001b[33m1882\u001b[39m, \u001b[33m1915\u001b[39m, \u001b[33m1963\u001b[39m, \u001b[33m1784\u001b[39m, \u001b[33m2110\u001b[39m, \u001b[33m1787\u001b[39m,\n",
            "    \u001b[33m2104\u001b[39m, \u001b[33m1746\u001b[39m, \u001b[33m1657\u001b[39m, \u001b[33m1711\u001b[39m, \u001b[33m1899\u001b[39m, \u001b[33m1878\u001b[39m, \u001b[33m1850\u001b[39m, \u001b[33m1771\u001b[39m, \u001b[33m1606\u001b[39m, \u001b[33m1825\u001b[39m,\n",
            "    \u001b[33m1980\u001b[39m, \u001b[33m1850\u001b[39m, \u001b[33m1979\u001b[39m, \u001b[33m1733\u001b[39m, \u001b[33m1864\u001b[39m, \u001b[33m1954\u001b[39m, \u001b[33m1962\u001b[39m, \u001b[33m1997\u001b[39m, \u001b[33m2092\u001b[39m, \u001b[33m1860\u001b[39m,\n",
            "    \u001b[33m1971\u001b[39m, \u001b[33m1899\u001b[39m, \u001b[33m2063\u001b[39m, \u001b[33m1970\u001b[39m, \u001b[33m1936\u001b[39m, \u001b[33m2033\u001b[39m, \u001b[33m2053\u001b[39m, \u001b[33m2146\u001b[39m, \u001b[33m1796\u001b[39m, \u001b[33m1930\u001b[39m,\n",
            "    \u001b[33m1807\u001b[39m, \u001b[33m2079\u001b[39m, \u001b[33m1717\u001b[39m, \u001b[33m2220\u001b[39m, \u001b[33m1687\u001b[39m, \u001b[33m2018\u001b[39m, \u001b[33m1830\u001b[39m, \u001b[33m1820\u001b[39m, \u001b[33m2223\u001b[39m, \u001b[33m1958\u001b[39m,\n",
            "    \u001b[33m1650\u001b[39m, \u001b[33m2039\u001b[39m, \u001b[33m2134\u001b[39m, \u001b[33m1768\u001b[39m, \u001b[33m1880\u001b[39m, \u001b[33m1937\u001b[39m, \u001b[33m1982\u001b[39m, \u001b[33m2032\u001b[39m, \u001b[33m1693\u001b[39m, \u001b[33m1889\u001b[39m,\n",
            "    \u001b[33m1939\u001b[39m, \u001b[33m1859\u001b[39m, \u001b[33m1848\u001b[39m, \u001b[33m1785\u001b[39m, \u001b[33m2141\u001b[39m, \u001b[33m1996\u001b[39m, \u001b[33m1830\u001b[39m, \u001b[33m2022\u001b[39m, \u001b[33m1726\u001b[39m, \u001b[33m1750\u001b[39m,\n",
            "    ... 500 more items\n",
            "  ],\n",
            "  [\n",
            "    \u001b[33m1675\u001b[39m, \u001b[33m2246\u001b[39m, \u001b[33m2309\u001b[39m, \u001b[33m1941\u001b[39m, \u001b[33m1938\u001b[39m, \u001b[33m1825\u001b[39m, \u001b[33m1931\u001b[39m, \u001b[33m2003\u001b[39m, \u001b[33m1887\u001b[39m, \u001b[33m2138\u001b[39m,\n",
            "    \u001b[33m2014\u001b[39m, \u001b[33m2027\u001b[39m, \u001b[33m2034\u001b[39m, \u001b[33m1971\u001b[39m, \u001b[33m2331\u001b[39m, \u001b[33m1766\u001b[39m, \u001b[33m2260\u001b[39m, \u001b[33m1953\u001b[39m, \u001b[33m2249\u001b[39m, \u001b[33m1947\u001b[39m,\n",
            "    \u001b[33m1759\u001b[39m, \u001b[33m2006\u001b[39m, \u001b[33m1773\u001b[39m, \u001b[33m2089\u001b[39m, \u001b[33m1823\u001b[39m, \u001b[33m1964\u001b[39m, \u001b[33m1934\u001b[39m, \u001b[33m1995\u001b[39m, \u001b[33m2031\u001b[39m, \u001b[33m2218\u001b[39m,\n",
            "    \u001b[33m1802\u001b[39m, \u001b[33m2028\u001b[39m, \u001b[33m2116\u001b[39m, \u001b[33m2201\u001b[39m, \u001b[33m2096\u001b[39m, \u001b[33m2011\u001b[39m, \u001b[33m2061\u001b[39m, \u001b[33m1875\u001b[39m, \u001b[33m2023\u001b[39m, \u001b[33m1859\u001b[39m,\n",
            "    \u001b[33m2208\u001b[39m, \u001b[33m1661\u001b[39m, \u001b[33m1820\u001b[39m, \u001b[33m1863\u001b[39m, \u001b[33m1975\u001b[39m, \u001b[33m2138\u001b[39m, \u001b[33m1957\u001b[39m, \u001b[33m2039\u001b[39m, \u001b[33m1913\u001b[39m, \u001b[33m1996\u001b[39m,\n",
            "    \u001b[33m2075\u001b[39m, \u001b[33m1907\u001b[39m, \u001b[33m2186\u001b[39m, \u001b[33m1867\u001b[39m, \u001b[33m1863\u001b[39m, \u001b[33m2103\u001b[39m, \u001b[33m2156\u001b[39m, \u001b[33m2049\u001b[39m, \u001b[33m2039\u001b[39m, \u001b[33m1925\u001b[39m,\n",
            "    \u001b[33m2107\u001b[39m, \u001b[33m2118\u001b[39m, \u001b[33m2085\u001b[39m, \u001b[33m2199\u001b[39m, \u001b[33m1997\u001b[39m, \u001b[33m2004\u001b[39m, \u001b[33m1931\u001b[39m, \u001b[33m2146\u001b[39m, \u001b[33m2227\u001b[39m, \u001b[33m1970\u001b[39m,\n",
            "    \u001b[33m2012\u001b[39m, \u001b[33m2118\u001b[39m, \u001b[33m1865\u001b[39m, \u001b[33m2363\u001b[39m, \u001b[33m2162\u001b[39m, \u001b[33m2062\u001b[39m, \u001b[33m1969\u001b[39m, \u001b[33m1902\u001b[39m, \u001b[33m2143\u001b[39m, \u001b[33m2014\u001b[39m,\n",
            "    \u001b[33m1845\u001b[39m, \u001b[33m2119\u001b[39m, \u001b[33m2275\u001b[39m, \u001b[33m1961\u001b[39m, \u001b[33m2132\u001b[39m, \u001b[33m2041\u001b[39m, \u001b[33m2027\u001b[39m, \u001b[33m2043\u001b[39m, \u001b[33m1935\u001b[39m, \u001b[33m1937\u001b[39m,\n",
            "    \u001b[33m2133\u001b[39m, \u001b[33m1761\u001b[39m, \u001b[33m1882\u001b[39m, \u001b[33m1736\u001b[39m, \u001b[33m2126\u001b[39m, \u001b[33m1909\u001b[39m, \u001b[33m2079\u001b[39m, \u001b[33m2115\u001b[39m, \u001b[33m1765\u001b[39m, \u001b[33m1803\u001b[39m,\n",
            "    ... 500 more items\n",
            "  ],\n",
            "  [\n",
            "    \u001b[33m1784\u001b[39m, \u001b[33m2270\u001b[39m, \u001b[33m2402\u001b[39m, \u001b[33m2142\u001b[39m, \u001b[33m2277\u001b[39m, \u001b[33m1942\u001b[39m, \u001b[33m2261\u001b[39m, \u001b[33m1958\u001b[39m, \u001b[33m1982\u001b[39m, \u001b[33m2336\u001b[39m,\n",
            "    \u001b[33m2065\u001b[39m, \u001b[33m2363\u001b[39m, \u001b[33m1968\u001b[39m, \u001b[33m1922\u001b[39m, \u001b[33m2434\u001b[39m, \u001b[33m1909\u001b[39m, \u001b[33m2313\u001b[39m, \u001b[33m2272\u001b[39m, \u001b[33m2140\u001b[39m, \u001b[33m2243\u001b[39m,\n",
            "    \u001b[33m1881\u001b[39m, \u001b[33m2102\u001b[39m, \u001b[33m2141\u001b[39m, \u001b[33m2206\u001b[39m, \u001b[33m2055\u001b[39m, \u001b[33m2343\u001b[39m, \u001b[33m2244\u001b[39m, \u001b[33m2256\u001b[39m, \u001b[33m2036\u001b[39m, \u001b[33m2469\u001b[39m,\n",
            "    \u001b[33m1943\u001b[39m, \u001b[33m2131\u001b[39m, \u001b[33m2208\u001b[39m, \u001b[33m2444\u001b[39m, \u001b[33m2119\u001b[39m, \u001b[33m2278\u001b[39m, \u001b[33m2109\u001b[39m, \u001b[33m2204\u001b[39m, \u001b[33m2270\u001b[39m, \u001b[33m2049\u001b[39m,\n",
            "    \u001b[33m2183\u001b[39m, \u001b[33m1907\u001b[39m, \u001b[33m1943\u001b[39m, \u001b[33m1977\u001b[39m, \u001b[33m2052\u001b[39m, \u001b[33m2097\u001b[39m, \u001b[33m2144\u001b[39m, \u001b[33m2190\u001b[39m, \u001b[33m1986\u001b[39m, \u001b[33m2178\u001b[39m,\n",
            "    \u001b[33m2290\u001b[39m, \u001b[33m2195\u001b[39m, \u001b[33m2359\u001b[39m, \u001b[33m1965\u001b[39m, \u001b[33m2068\u001b[39m, \u001b[33m2112\u001b[39m, \u001b[33m2100\u001b[39m, \u001b[33m2180\u001b[39m, \u001b[33m2279\u001b[39m, \u001b[33m2023\u001b[39m,\n",
            "    \u001b[33m2131\u001b[39m, \u001b[33m2220\u001b[39m, \u001b[33m2148\u001b[39m, \u001b[33m2165\u001b[39m, \u001b[33m2073\u001b[39m, \u001b[33m2305\u001b[39m, \u001b[33m2210\u001b[39m, \u001b[33m2468\u001b[39m, \u001b[33m2254\u001b[39m, \u001b[33m2161\u001b[39m,\n",
            "    \u001b[33m2081\u001b[39m, \u001b[33m2291\u001b[39m, \u001b[33m1954\u001b[39m, \u001b[33m2435\u001b[39m, \u001b[33m2114\u001b[39m, \u001b[33m2306\u001b[39m, \u001b[33m2188\u001b[39m, \u001b[33m2200\u001b[39m, \u001b[33m2341\u001b[39m, \u001b[33m2052\u001b[39m,\n",
            "    \u001b[33m1980\u001b[39m, \u001b[33m2256\u001b[39m, \u001b[33m2388\u001b[39m, \u001b[33m1951\u001b[39m, \u001b[33m2232\u001b[39m, \u001b[33m2017\u001b[39m, \u001b[33m2214\u001b[39m, \u001b[33m2250\u001b[39m, \u001b[33m1990\u001b[39m, \u001b[33m2092\u001b[39m,\n",
            "    \u001b[33m2326\u001b[39m, \u001b[33m1910\u001b[39m, \u001b[33m2015\u001b[39m, \u001b[33m1924\u001b[39m, \u001b[33m2424\u001b[39m, \u001b[33m2107\u001b[39m, \u001b[33m2201\u001b[39m, \u001b[33m2227\u001b[39m, \u001b[33m2091\u001b[39m, \u001b[33m2011\u001b[39m,\n",
            "    ... 500 more items\n",
            "  ],\n",
            "  [\n",
            "    \u001b[33m1499\u001b[39m, \u001b[33m2061\u001b[39m, \u001b[33m2124\u001b[39m, \u001b[33m1888\u001b[39m, \u001b[33m2130\u001b[39m, \u001b[33m1886\u001b[39m, \u001b[33m2016\u001b[39m, \u001b[33m1894\u001b[39m, \u001b[33m1896\u001b[39m, \u001b[33m2157\u001b[39m,\n",
            "    \u001b[33m1979\u001b[39m, \u001b[33m2228\u001b[39m, \u001b[33m1712\u001b[39m, \u001b[33m1911\u001b[39m, \u001b[33m2245\u001b[39m, \u001b[33m1822\u001b[39m, \u001b[33m2048\u001b[39m, \u001b[33m2084\u001b[39m, \u001b[33m2033\u001b[39m, \u001b[33m2052\u001b[39m,\n",
            "    \u001b[33m1812\u001b[39m, \u001b[33m1879\u001b[39m, \u001b[33m1986\u001b[39m, \u001b[33m2089\u001b[39m, \u001b[33m1712\u001b[39m, \u001b[33m2216\u001b[39m, \u001b[33m1948\u001b[39m, \u001b[33m2131\u001b[39m, \u001b[33m1924\u001b[39m, \u001b[33m2118\u001b[39m,\n",
            "    \u001b[33m1732\u001b[39m, \u001b[33m2026\u001b[39m, \u001b[33m1946\u001b[39m, \u001b[33m2081\u001b[39m, \u001b[33m2020\u001b[39m, \u001b[33m1879\u001b[39m, \u001b[33m2046\u001b[39m, \u001b[33m1905\u001b[39m, \u001b[33m1921\u001b[39m, \u001b[33m1763\u001b[39m,\n",
            "    \u001b[33m2029\u001b[39m, \u001b[33m1715\u001b[39m, \u001b[33m1762\u001b[39m, \u001b[33m1785\u001b[39m, \u001b[33m1896\u001b[39m, \u001b[33m1773\u001b[39m, \u001b[33m1974\u001b[39m, \u001b[33m1785\u001b[39m, \u001b[33m1872\u001b[39m, \u001b[33m1938\u001b[39m,\n",
            "    \u001b[33m2075\u001b[39m, \u001b[33m1804\u001b[39m, \u001b[33m2031\u001b[39m, \u001b[33m1742\u001b[39m, \u001b[33m1766\u001b[39m, \u001b[33m2003\u001b[39m, \u001b[33m2046\u001b[39m, \u001b[33m2087\u001b[39m, \u001b[33m2162\u001b[39m, \u001b[33m1865\u001b[39m,\n",
            "    \u001b[33m2010\u001b[39m, \u001b[33m1994\u001b[39m, \u001b[33m2039\u001b[39m, \u001b[33m2017\u001b[39m, \u001b[33m1953\u001b[39m, \u001b[33m2113\u001b[39m, \u001b[33m2001\u001b[39m, \u001b[33m2100\u001b[39m, \u001b[33m2235\u001b[39m, \u001b[33m2022\u001b[39m,\n",
            "    \u001b[33m1896\u001b[39m, \u001b[33m1943\u001b[39m, \u001b[33m1845\u001b[39m, \u001b[33m2279\u001b[39m, \u001b[33m2009\u001b[39m, \u001b[33m2119\u001b[39m, \u001b[33m1881\u001b[39m, \u001b[33m1977\u001b[39m, \u001b[33m2166\u001b[39m, \u001b[33m1865\u001b[39m,\n",
            "    \u001b[33m1786\u001b[39m, \u001b[33m2015\u001b[39m, \u001b[33m2019\u001b[39m, \u001b[33m1769\u001b[39m, \u001b[33m2024\u001b[39m, \u001b[33m1817\u001b[39m, \u001b[33m2011\u001b[39m, \u001b[33m1924\u001b[39m, \u001b[33m1906\u001b[39m, \u001b[33m1992\u001b[39m,\n",
            "    \u001b[33m1979\u001b[39m, \u001b[33m1796\u001b[39m, \u001b[33m1812\u001b[39m, \u001b[33m1683\u001b[39m, \u001b[33m2277\u001b[39m, \u001b[33m1876\u001b[39m, \u001b[33m2102\u001b[39m, \u001b[33m2037\u001b[39m, \u001b[33m1929\u001b[39m, \u001b[33m1688\u001b[39m,\n",
            "    ... 500 more items\n",
            "  ],\n",
            "  [\n",
            "    \u001b[33m1928\u001b[39m, \u001b[33m2571\u001b[39m, \u001b[33m2360\u001b[39m, \u001b[33m2265\u001b[39m, \u001b[33m2400\u001b[39m, \u001b[33m2159\u001b[39m, \u001b[33m2362\u001b[39m, \u001b[33m2155\u001b[39m, \u001b[33m2252\u001b[39m, \u001b[33m2372\u001b[39m,\n",
            "    \u001b[33m2270\u001b[39m, \u001b[33m2490\u001b[39m, \u001b[33m2136\u001b[39m, \u001b[33m2212\u001b[39m, \u001b[33m2524\u001b[39m, \u001b[33m2125\u001b[39m, \u001b[33m2297\u001b[39m, \u001b[33m2245\u001b[39m, \u001b[33m2375\u001b[39m, \u001b[33m2226\u001b[39m,\n",
            "    \u001b[33m2072\u001b[39m, \u001b[33m2283\u001b[39m, \u001b[33m2113\u001b[39m, \u001b[33m2455\u001b[39m, \u001b[33m2035\u001b[39m, \u001b[33m2450\u001b[39m, \u001b[33m2159\u001b[39m, \u001b[33m2414\u001b[39m, \u001b[33m2298\u001b[39m, \u001b[33m2695\u001b[39m,\n",
            "    \u001b[33m2026\u001b[39m, \u001b[33m2237\u001b[39m, \u001b[33m2496\u001b[39m, \u001b[33m2454\u001b[39m, \u001b[33m2306\u001b[39m, \u001b[33m2379\u001b[39m, \u001b[33m2234\u001b[39m, \u001b[33m2346\u001b[39m, \u001b[33m2417\u001b[39m, \u001b[33m2196\u001b[39m,\n",
            "    \u001b[33m2462\u001b[39m, \u001b[33m2067\u001b[39m, \u001b[33m2163\u001b[39m, \u001b[33m2310\u001b[39m, \u001b[33m2141\u001b[39m, \u001b[33m2105\u001b[39m, \u001b[33m2346\u001b[39m, \u001b[33m2271\u001b[39m, \u001b[33m2133\u001b[39m, \u001b[33m2213\u001b[39m,\n",
            "    \u001b[33m2348\u001b[39m, \u001b[33m2110\u001b[39m, \u001b[33m2416\u001b[39m, \u001b[33m2192\u001b[39m, \u001b[33m2121\u001b[39m, \u001b[33m2394\u001b[39m, \u001b[33m2411\u001b[39m, \u001b[33m2405\u001b[39m, \u001b[33m2276\u001b[39m, \u001b[33m2186\u001b[39m,\n",
            "    \u001b[33m2215\u001b[39m, \u001b[33m2409\u001b[39m, \u001b[33m2421\u001b[39m, \u001b[33m2450\u001b[39m, \u001b[33m2325\u001b[39m, \u001b[33m2409\u001b[39m, \u001b[33m2416\u001b[39m, \u001b[33m2400\u001b[39m, \u001b[33m2454\u001b[39m, \u001b[33m2335\u001b[39m,\n",
            "    \u001b[33m2295\u001b[39m, \u001b[33m2481\u001b[39m, \u001b[33m2217\u001b[39m, \u001b[33m2702\u001b[39m, \u001b[33m2293\u001b[39m, \u001b[33m2352\u001b[39m, \u001b[33m2253\u001b[39m, \u001b[33m2234\u001b[39m, \u001b[33m2465\u001b[39m, \u001b[33m2155\u001b[39m,\n",
            "    \u001b[33m2086\u001b[39m, \u001b[33m2473\u001b[39m, \u001b[33m2445\u001b[39m, \u001b[33m2051\u001b[39m, \u001b[33m2341\u001b[39m, \u001b[33m2356\u001b[39m, \u001b[33m2371\u001b[39m, \u001b[33m2415\u001b[39m, \u001b[33m2076\u001b[39m, \u001b[33m2231\u001b[39m,\n",
            "    \u001b[33m2393\u001b[39m, \u001b[33m2084\u001b[39m, \u001b[33m2081\u001b[39m, \u001b[33m2074\u001b[39m, \u001b[33m2498\u001b[39m, \u001b[33m2389\u001b[39m, \u001b[33m2409\u001b[39m, \u001b[33m2459\u001b[39m, \u001b[33m2060\u001b[39m, \u001b[33m2082\u001b[39m,\n",
            "    ... 500 more items\n",
            "  ],\n",
            "  [\n",
            "    \u001b[33m1490\u001b[39m, \u001b[33m1769\u001b[39m, \u001b[33m1788\u001b[39m, \u001b[33m1591\u001b[39m, \u001b[33m1612\u001b[39m, \u001b[33m1482\u001b[39m, \u001b[33m1667\u001b[39m, \u001b[33m1667\u001b[39m, \u001b[33m1778\u001b[39m, \u001b[33m1849\u001b[39m,\n",
            "    \u001b[33m1727\u001b[39m, \u001b[33m2007\u001b[39m, \u001b[33m1495\u001b[39m, \u001b[33m1896\u001b[39m, \u001b[33m2072\u001b[39m, \u001b[33m1564\u001b[39m, \u001b[33m1724\u001b[39m, \u001b[33m1721\u001b[39m, \u001b[33m1824\u001b[39m, \u001b[33m1673\u001b[39m,\n",
            "    \u001b[33m1553\u001b[39m, \u001b[33m1811\u001b[39m, \u001b[33m1579\u001b[39m, \u001b[33m1812\u001b[39m, \u001b[33m1753\u001b[39m, \u001b[33m1824\u001b[39m, \u001b[33m1694\u001b[39m, \u001b[33m1742\u001b[39m, \u001b[33m1687\u001b[39m, \u001b[33m2063\u001b[39m,\n",
            "    \u001b[33m1642\u001b[39m, \u001b[33m1805\u001b[39m, \u001b[33m1836\u001b[39m, \u001b[33m1875\u001b[39m, \u001b[33m1714\u001b[39m, \u001b[33m1847\u001b[39m, \u001b[33m1807\u001b[39m, \u001b[33m1748\u001b[39m, \u001b[33m1837\u001b[39m, \u001b[33m1740\u001b[39m,\n",
            "    \u001b[33m1774\u001b[39m, \u001b[33m1575\u001b[39m, \u001b[33m1709\u001b[39m, \u001b[33m1763\u001b[39m, \u001b[33m1558\u001b[39m, \u001b[33m1768\u001b[39m, \u001b[33m1724\u001b[39m, \u001b[33m1701\u001b[39m, \u001b[33m1504\u001b[39m, \u001b[33m1706\u001b[39m,\n",
            "    \u001b[33m1991\u001b[39m, \u001b[33m1717\u001b[39m, \u001b[33m1882\u001b[39m, \u001b[33m1639\u001b[39m, \u001b[33m1618\u001b[39m, \u001b[33m1696\u001b[39m, \u001b[33m1817\u001b[39m, \u001b[33m1738\u001b[39m, \u001b[33m1685\u001b[39m, \u001b[33m1663\u001b[39m,\n",
            "    \u001b[33m1877\u001b[39m, \u001b[33m1924\u001b[39m, \u001b[33m1839\u001b[39m, \u001b[33m1735\u001b[39m, \u001b[33m1895\u001b[39m, \u001b[33m1709\u001b[39m, \u001b[33m1769\u001b[39m, \u001b[33m1957\u001b[39m, \u001b[33m1792\u001b[39m, \u001b[33m1656\u001b[39m,\n",
            "    \u001b[33m1682\u001b[39m, \u001b[33m1766\u001b[39m, \u001b[33m1547\u001b[39m, \u001b[33m2104\u001b[39m, \u001b[33m1628\u001b[39m, \u001b[33m1927\u001b[39m, \u001b[33m1714\u001b[39m, \u001b[33m1719\u001b[39m, \u001b[33m1907\u001b[39m, \u001b[33m1689\u001b[39m,\n",
            "    \u001b[33m1652\u001b[39m, \u001b[33m1983\u001b[39m, \u001b[33m1859\u001b[39m, \u001b[33m1672\u001b[39m, \u001b[33m1822\u001b[39m, \u001b[33m1719\u001b[39m, \u001b[33m1780\u001b[39m, \u001b[33m1938\u001b[39m, \u001b[33m1623\u001b[39m, \u001b[33m1637\u001b[39m,\n",
            "    \u001b[33m1831\u001b[39m, \u001b[33m1654\u001b[39m, \u001b[33m1788\u001b[39m, \u001b[33m1594\u001b[39m, \u001b[33m1970\u001b[39m, \u001b[33m1895\u001b[39m, \u001b[33m1999\u001b[39m, \u001b[33m1793\u001b[39m, \u001b[33m1697\u001b[39m, \u001b[33m1400\u001b[39m,\n",
            "    ... 500 more items\n",
            "  ],\n",
            "  [\n",
            "    \u001b[33m1761\u001b[39m, \u001b[33m2002\u001b[39m, \u001b[33m2061\u001b[39m, \u001b[33m1853\u001b[39m, \u001b[33m2057\u001b[39m, \u001b[33m1742\u001b[39m, \u001b[33m1996\u001b[39m, \u001b[33m1832\u001b[39m, \u001b[33m1807\u001b[39m, \u001b[33m2131\u001b[39m,\n",
            "    \u001b[33m2081\u001b[39m, \u001b[33m2120\u001b[39m, \u001b[33m1638\u001b[39m, \u001b[33m1931\u001b[39m, \u001b[33m2274\u001b[39m, \u001b[33m1504\u001b[39m, \u001b[33m1982\u001b[39m, \u001b[33m1964\u001b[39m, \u001b[33m1915\u001b[39m, \u001b[33m1913\u001b[39m,\n",
            "    \u001b[33m1804\u001b[39m, \u001b[33m1993\u001b[39m, \u001b[33m1639\u001b[39m, \u001b[33m2312\u001b[39m, \u001b[33m1930\u001b[39m, \u001b[33m1992\u001b[39m, \u001b[33m1891\u001b[39m, \u001b[33m2198\u001b[39m, \u001b[33m2024\u001b[39m, \u001b[33m2143\u001b[39m,\n",
            "    \u001b[33m1736\u001b[39m, \u001b[33m2016\u001b[39m, \u001b[33m1867\u001b[39m, \u001b[33m1947\u001b[39m, \u001b[33m1989\u001b[39m, \u001b[33m2019\u001b[39m, \u001b[33m1972\u001b[39m, \u001b[33m2085\u001b[39m, \u001b[33m2185\u001b[39m, \u001b[33m1693\u001b[39m,\n",
            "    \u001b[33m2017\u001b[39m, \u001b[33m1737\u001b[39m, \u001b[33m1737\u001b[39m, \u001b[33m1912\u001b[39m, \u001b[33m1846\u001b[39m, \u001b[33m2059\u001b[39m, \u001b[33m1838\u001b[39m, \u001b[33m2119\u001b[39m, \u001b[33m1679\u001b[39m, \u001b[33m1898\u001b[39m,\n",
            "    \u001b[33m2081\u001b[39m, \u001b[33m1899\u001b[39m, \u001b[33m2044\u001b[39m, \u001b[33m1755\u001b[39m, \u001b[33m1776\u001b[39m, \u001b[33m2090\u001b[39m, \u001b[33m1987\u001b[39m, \u001b[33m1898\u001b[39m, \u001b[33m2090\u001b[39m, \u001b[33m1952\u001b[39m,\n",
            "    \u001b[33m2037\u001b[39m, \u001b[33m2035\u001b[39m, \u001b[33m1967\u001b[39m, \u001b[33m2078\u001b[39m, \u001b[33m1920\u001b[39m, \u001b[33m2058\u001b[39m, \u001b[33m1911\u001b[39m, \u001b[33m2325\u001b[39m, \u001b[33m1964\u001b[39m, \u001b[33m1842\u001b[39m,\n",
            "    \u001b[33m1852\u001b[39m, \u001b[33m2108\u001b[39m, \u001b[33m1641\u001b[39m, \u001b[33m2222\u001b[39m, \u001b[33m1848\u001b[39m, \u001b[33m1981\u001b[39m, \u001b[33m1906\u001b[39m, \u001b[33m1704\u001b[39m, \u001b[33m2141\u001b[39m, \u001b[33m1854\u001b[39m,\n",
            "    \u001b[33m1893\u001b[39m, \u001b[33m2211\u001b[39m, \u001b[33m2136\u001b[39m, \u001b[33m1908\u001b[39m, \u001b[33m2085\u001b[39m, \u001b[33m1890\u001b[39m, \u001b[33m1976\u001b[39m, \u001b[33m1965\u001b[39m, \u001b[33m1712\u001b[39m, \u001b[33m1872\u001b[39m,\n",
            "    \u001b[33m2004\u001b[39m, \u001b[33m1801\u001b[39m, \u001b[33m1711\u001b[39m, \u001b[33m1769\u001b[39m, \u001b[33m2099\u001b[39m, \u001b[33m2118\u001b[39m, \u001b[33m1994\u001b[39m, \u001b[33m2055\u001b[39m, \u001b[33m1914\u001b[39m, \u001b[33m1740\u001b[39m,\n",
            "    ... 500 more items\n",
            "  ],\n",
            "  [\n",
            "    \u001b[33m1729\u001b[39m, \u001b[33m2237\u001b[39m, \u001b[33m2199\u001b[39m, \u001b[33m2069\u001b[39m, \u001b[33m2093\u001b[39m, \u001b[33m1754\u001b[39m, \u001b[33m2188\u001b[39m, \u001b[33m1956\u001b[39m, \u001b[33m1923\u001b[39m, \u001b[33m2088\u001b[39m,\n",
            "    \u001b[33m2023\u001b[39m, \u001b[33m2014\u001b[39m, \u001b[33m1955\u001b[39m, \u001b[33m2057\u001b[39m, \u001b[33m2245\u001b[39m, \u001b[33m1925\u001b[39m, \u001b[33m2009\u001b[39m, \u001b[33m2163\u001b[39m, \u001b[33m2114\u001b[39m, \u001b[33m2036\u001b[39m,\n",
            "    \u001b[33m1885\u001b[39m, \u001b[33m2070\u001b[39m, \u001b[33m1817\u001b[39m, \u001b[33m2201\u001b[39m, \u001b[33m1854\u001b[39m, \u001b[33m2133\u001b[39m, \u001b[33m1796\u001b[39m, \u001b[33m2081\u001b[39m, \u001b[33m2062\u001b[39m, \u001b[33m2243\u001b[39m,\n",
            "    \u001b[33m1897\u001b[39m, \u001b[33m2082\u001b[39m, \u001b[33m2051\u001b[39m, \u001b[33m2135\u001b[39m, \u001b[33m2156\u001b[39m, \u001b[33m2195\u001b[39m, \u001b[33m2053\u001b[39m, \u001b[33m2177\u001b[39m, \u001b[33m2186\u001b[39m, \u001b[33m1912\u001b[39m,\n",
            "    \u001b[33m2073\u001b[39m, \u001b[33m1846\u001b[39m, \u001b[33m1863\u001b[39m, \u001b[33m2026\u001b[39m, \u001b[33m2178\u001b[39m, \u001b[33m2045\u001b[39m, \u001b[33m1971\u001b[39m, \u001b[33m2095\u001b[39m, \u001b[33m1934\u001b[39m, \u001b[33m2023\u001b[39m,\n",
            "    \u001b[33m2154\u001b[39m, \u001b[33m1936\u001b[39m, \u001b[33m2366\u001b[39m, \u001b[33m1926\u001b[39m, \u001b[33m2031\u001b[39m, \u001b[33m2038\u001b[39m, \u001b[33m2264\u001b[39m, \u001b[33m2071\u001b[39m, \u001b[33m2229\u001b[39m, \u001b[33m1847\u001b[39m,\n",
            "    \u001b[33m2076\u001b[39m, \u001b[33m2078\u001b[39m, \u001b[33m1971\u001b[39m, \u001b[33m2202\u001b[39m, \u001b[33m1940\u001b[39m, \u001b[33m1973\u001b[39m, \u001b[33m2211\u001b[39m, \u001b[33m2366\u001b[39m, \u001b[33m2073\u001b[39m, \u001b[33m2122\u001b[39m,\n",
            "    \u001b[33m2058\u001b[39m, \u001b[33m2309\u001b[39m, \u001b[33m1900\u001b[39m, \u001b[33m2326\u001b[39m, \u001b[33m2057\u001b[39m, \u001b[33m2246\u001b[39m, \u001b[33m2042\u001b[39m, \u001b[33m2044\u001b[39m, \u001b[33m2237\u001b[39m, \u001b[33m1943\u001b[39m,\n",
            "    \u001b[33m1752\u001b[39m, \u001b[33m2072\u001b[39m, \u001b[33m2374\u001b[39m, \u001b[33m2015\u001b[39m, \u001b[33m2165\u001b[39m, \u001b[33m2089\u001b[39m, \u001b[33m1994\u001b[39m, \u001b[33m2302\u001b[39m, \u001b[33m1893\u001b[39m, \u001b[33m1956\u001b[39m,\n",
            "    \u001b[33m2053\u001b[39m, \u001b[33m2048\u001b[39m, \u001b[33m1927\u001b[39m, \u001b[33m1765\u001b[39m, \u001b[33m2326\u001b[39m, \u001b[33m2106\u001b[39m, \u001b[33m2086\u001b[39m, \u001b[33m2310\u001b[39m, \u001b[33m1961\u001b[39m, \u001b[33m2009\u001b[39m,\n",
            "    ... 500 more items\n",
            "  ],\n",
            "  [\n",
            "    \u001b[33m1712\u001b[39m, \u001b[33m2263\u001b[39m, \u001b[33m2244\u001b[39m, \u001b[33m1976\u001b[39m, \u001b[33m2055\u001b[39m, \u001b[33m1823\u001b[39m, \u001b[33m2073\u001b[39m, \u001b[33m1879\u001b[39m, \u001b[33m1964\u001b[39m, \u001b[33m2282\u001b[39m,\n",
            "    \u001b[33m2138\u001b[39m, \u001b[33m2057\u001b[39m, \u001b[33m1888\u001b[39m, \u001b[33m1962\u001b[39m, \u001b[33m2297\u001b[39m, \u001b[33m1724\u001b[39m, \u001b[33m2080\u001b[39m, \u001b[33m2135\u001b[39m, \u001b[33m2221\u001b[39m, \u001b[33m2056\u001b[39m,\n",
            "    \u001b[33m1730\u001b[39m, \u001b[33m2141\u001b[39m, \u001b[33m1881\u001b[39m, \u001b[33m2267\u001b[39m, \u001b[33m1872\u001b[39m, \u001b[33m2070\u001b[39m, \u001b[33m2035\u001b[39m, \u001b[33m2133\u001b[39m, \u001b[33m2125\u001b[39m, \u001b[33m2353\u001b[39m,\n",
            "    \u001b[33m2014\u001b[39m, \u001b[33m1996\u001b[39m, \u001b[33m1996\u001b[39m, \u001b[33m2133\u001b[39m, \u001b[33m2084\u001b[39m, \u001b[33m2106\u001b[39m, \u001b[33m2171\u001b[39m, \u001b[33m2173\u001b[39m, \u001b[33m2157\u001b[39m, \u001b[33m1917\u001b[39m,\n",
            "    \u001b[33m2095\u001b[39m, \u001b[33m1783\u001b[39m, \u001b[33m1910\u001b[39m, \u001b[33m1936\u001b[39m, \u001b[33m1932\u001b[39m, \u001b[33m2162\u001b[39m, \u001b[33m2207\u001b[39m, \u001b[33m2139\u001b[39m, \u001b[33m1694\u001b[39m, \u001b[33m1918\u001b[39m,\n",
            "    \u001b[33m2088\u001b[39m, \u001b[33m1899\u001b[39m, \u001b[33m2290\u001b[39m, \u001b[33m1910\u001b[39m, \u001b[33m1886\u001b[39m, \u001b[33m2185\u001b[39m, \u001b[33m2196\u001b[39m, \u001b[33m1927\u001b[39m, \u001b[33m2169\u001b[39m, \u001b[33m2044\u001b[39m,\n",
            "    \u001b[33m2112\u001b[39m, \u001b[33m2029\u001b[39m, \u001b[33m2138\u001b[39m, \u001b[33m2041\u001b[39m, \u001b[33m2240\u001b[39m, \u001b[33m2223\u001b[39m, \u001b[33m2087\u001b[39m, \u001b[33m2151\u001b[39m, \u001b[33m1968\u001b[39m, \u001b[33m2053\u001b[39m,\n",
            "    \u001b[33m2014\u001b[39m, \u001b[33m2193\u001b[39m, \u001b[33m1902\u001b[39m, \u001b[33m2290\u001b[39m, \u001b[33m2022\u001b[39m, \u001b[33m2069\u001b[39m, \u001b[33m1871\u001b[39m, \u001b[33m2017\u001b[39m, \u001b[33m2256\u001b[39m, \u001b[33m2071\u001b[39m,\n",
            "    \u001b[33m1920\u001b[39m, \u001b[33m2285\u001b[39m, \u001b[33m2300\u001b[39m, \u001b[33m1970\u001b[39m, \u001b[33m2242\u001b[39m, \u001b[33m2164\u001b[39m, \u001b[33m2220\u001b[39m, \u001b[33m2170\u001b[39m, \u001b[33m1814\u001b[39m, \u001b[33m1970\u001b[39m,\n",
            "    \u001b[33m2196\u001b[39m, \u001b[33m1752\u001b[39m, \u001b[33m2084\u001b[39m, \u001b[33m1906\u001b[39m, \u001b[33m2310\u001b[39m, \u001b[33m2189\u001b[39m, \u001b[33m2103\u001b[39m, \u001b[33m2318\u001b[39m, \u001b[33m1972\u001b[39m, \u001b[33m1962\u001b[39m,\n",
            "    ... 500 more items\n",
            "  ],\n",
            "  [\n",
            "    \u001b[33m1873\u001b[39m, \u001b[33m2386\u001b[39m, \u001b[33m2322\u001b[39m, \u001b[33m2015\u001b[39m, \u001b[33m2436\u001b[39m, \u001b[33m1862\u001b[39m, \u001b[33m2281\u001b[39m, \u001b[33m1917\u001b[39m, \u001b[33m2112\u001b[39m, \u001b[33m2270\u001b[39m,\n",
            "    \u001b[33m2121\u001b[39m, \u001b[33m2264\u001b[39m, \u001b[33m1972\u001b[39m, \u001b[33m2291\u001b[39m, \u001b[33m2307\u001b[39m, \u001b[33m1935\u001b[39m, \u001b[33m2179\u001b[39m, \u001b[33m2246\u001b[39m, \u001b[33m2306\u001b[39m, \u001b[33m2206\u001b[39m,\n",
            "    \u001b[33m2042\u001b[39m, \u001b[33m2124\u001b[39m, \u001b[33m2105\u001b[39m, \u001b[33m2319\u001b[39m, \u001b[33m2217\u001b[39m, \u001b[33m2402\u001b[39m, \u001b[33m2085\u001b[39m, \u001b[33m2341\u001b[39m, \u001b[33m2127\u001b[39m, \u001b[33m2578\u001b[39m,\n",
            "    \u001b[33m2021\u001b[39m, \u001b[33m2297\u001b[39m, \u001b[33m2308\u001b[39m, \u001b[33m2236\u001b[39m, \u001b[33m2367\u001b[39m, \u001b[33m2255\u001b[39m, \u001b[33m2314\u001b[39m, \u001b[33m2123\u001b[39m, \u001b[33m2249\u001b[39m, \u001b[33m2176\u001b[39m,\n",
            "    \u001b[33m2377\u001b[39m, \u001b[33m1800\u001b[39m, \u001b[33m1882\u001b[39m, \u001b[33m2073\u001b[39m, \u001b[33m2044\u001b[39m, \u001b[33m2269\u001b[39m, \u001b[33m2168\u001b[39m, \u001b[33m2103\u001b[39m, \u001b[33m2014\u001b[39m, \u001b[33m2196\u001b[39m,\n",
            "    \u001b[33m2197\u001b[39m, \u001b[33m2135\u001b[39m, \u001b[33m2430\u001b[39m, \u001b[33m2221\u001b[39m, \u001b[33m2098\u001b[39m, \u001b[33m2239\u001b[39m, \u001b[33m2309\u001b[39m, \u001b[33m2500\u001b[39m, \u001b[33m2369\u001b[39m, \u001b[33m2114\u001b[39m,\n",
            "    \u001b[33m2410\u001b[39m, \u001b[33m2241\u001b[39m, \u001b[33m2310\u001b[39m, \u001b[33m2335\u001b[39m, \u001b[33m2269\u001b[39m, \u001b[33m2452\u001b[39m, \u001b[33m2503\u001b[39m, \u001b[33m2338\u001b[39m, \u001b[33m2136\u001b[39m, \u001b[33m2091\u001b[39m,\n",
            "    \u001b[33m2053\u001b[39m, \u001b[33m2473\u001b[39m, \u001b[33m2151\u001b[39m, \u001b[33m2537\u001b[39m, \u001b[33m1963\u001b[39m, \u001b[33m2249\u001b[39m, \u001b[33m2162\u001b[39m, \u001b[33m2152\u001b[39m, \u001b[33m2347\u001b[39m, \u001b[33m2092\u001b[39m,\n",
            "    \u001b[33m1962\u001b[39m, \u001b[33m2310\u001b[39m, \u001b[33m2476\u001b[39m, \u001b[33m2048\u001b[39m, \u001b[33m2270\u001b[39m, \u001b[33m2197\u001b[39m, \u001b[33m2362\u001b[39m, \u001b[33m2266\u001b[39m, \u001b[33m1899\u001b[39m, \u001b[33m2209\u001b[39m,\n",
            "    \u001b[33m2379\u001b[39m, \u001b[33m1970\u001b[39m, \u001b[33m2120\u001b[39m, \u001b[33m2012\u001b[39m, \u001b[33m2364\u001b[39m, \u001b[33m2195\u001b[39m, \u001b[33m2128\u001b[39m, \u001b[33m2226\u001b[39m, \u001b[33m2037\u001b[39m, \u001b[33m2107\u001b[39m,\n",
            "    ... 500 more items\n",
            "  ],\n",
            "  [\n",
            "    \u001b[33m1731\u001b[39m, \u001b[33m2205\u001b[39m, \u001b[33m2286\u001b[39m, \u001b[33m1848\u001b[39m, \u001b[33m2170\u001b[39m, \u001b[33m1796\u001b[39m, \u001b[33m2026\u001b[39m, \u001b[33m1848\u001b[39m, \u001b[33m1956\u001b[39m, \u001b[33m2101\u001b[39m,\n",
            "    \u001b[33m2009\u001b[39m, \u001b[33m2340\u001b[39m, \u001b[33m1857\u001b[39m, \u001b[33m1929\u001b[39m, \u001b[33m2137\u001b[39m, \u001b[33m1717\u001b[39m, \u001b[33m1975\u001b[39m, \u001b[33m1971\u001b[39m, \u001b[33m1914\u001b[39m, \u001b[33m2227\u001b[39m,\n",
            "    \u001b[33m1857\u001b[39m, \u001b[33m2109\u001b[39m, \u001b[33m1857\u001b[39m, \u001b[33m2256\u001b[39m, \u001b[33m1921\u001b[39m, \u001b[33m2162\u001b[39m, \u001b[33m1997\u001b[39m, \u001b[33m1969\u001b[39m, \u001b[33m1950\u001b[39m, \u001b[33m2429\u001b[39m,\n",
            "    \u001b[33m1777\u001b[39m, \u001b[33m1887\u001b[39m, \u001b[33m2237\u001b[39m, \u001b[33m2026\u001b[39m, \u001b[33m2095\u001b[39m, \u001b[33m2078\u001b[39m, \u001b[33m1977\u001b[39m, \u001b[33m1822\u001b[39m, \u001b[33m1944\u001b[39m, \u001b[33m1927\u001b[39m,\n",
            "    \u001b[33m2070\u001b[39m, \u001b[33m1742\u001b[39m, \u001b[33m1698\u001b[39m, \u001b[33m1949\u001b[39m, \u001b[33m1940\u001b[39m, \u001b[33m1954\u001b[39m, \u001b[33m2043\u001b[39m, \u001b[33m2103\u001b[39m, \u001b[33m1906\u001b[39m, \u001b[33m2115\u001b[39m,\n",
            "    \u001b[33m1980\u001b[39m, \u001b[33m1905\u001b[39m, \u001b[33m2140\u001b[39m, \u001b[33m2012\u001b[39m, \u001b[33m1813\u001b[39m, \u001b[33m2056\u001b[39m, \u001b[33m1969\u001b[39m, \u001b[33m2036\u001b[39m, \u001b[33m2054\u001b[39m, \u001b[33m1923\u001b[39m,\n",
            "    \u001b[33m2129\u001b[39m, \u001b[33m1984\u001b[39m, \u001b[33m2032\u001b[39m, \u001b[33m2094\u001b[39m, \u001b[33m2063\u001b[39m, \u001b[33m2033\u001b[39m, \u001b[33m2107\u001b[39m, \u001b[33m2191\u001b[39m, \u001b[33m2163\u001b[39m, \u001b[33m2028\u001b[39m,\n",
            "    \u001b[33m1978\u001b[39m, \u001b[33m2161\u001b[39m, \u001b[33m1944\u001b[39m, \u001b[33m2299\u001b[39m, \u001b[33m1842\u001b[39m, \u001b[33m1993\u001b[39m, \u001b[33m1801\u001b[39m, \u001b[33m2123\u001b[39m, \u001b[33m2095\u001b[39m, \u001b[33m1994\u001b[39m,\n",
            "    \u001b[33m1828\u001b[39m, \u001b[33m2161\u001b[39m, \u001b[33m2235\u001b[39m, \u001b[33m1821\u001b[39m, \u001b[33m2150\u001b[39m, \u001b[33m1836\u001b[39m, \u001b[33m2011\u001b[39m, \u001b[33m2166\u001b[39m, \u001b[33m1829\u001b[39m, \u001b[33m1947\u001b[39m,\n",
            "    \u001b[33m2237\u001b[39m, \u001b[33m1808\u001b[39m, \u001b[33m1930\u001b[39m, \u001b[33m1873\u001b[39m, \u001b[33m2217\u001b[39m, \u001b[33m1983\u001b[39m, \u001b[33m1978\u001b[39m, \u001b[33m1920\u001b[39m, \u001b[33m1858\u001b[39m, \u001b[33m1779\u001b[39m,\n",
            "    ... 500 more items\n",
            "  ],\n",
            "  [\n",
            "    \u001b[33m1752\u001b[39m, \u001b[33m2202\u001b[39m, \u001b[33m2420\u001b[39m, \u001b[33m1926\u001b[39m, \u001b[33m2254\u001b[39m, \u001b[33m1997\u001b[39m, \u001b[33m2271\u001b[39m, \u001b[33m1972\u001b[39m, \u001b[33m2298\u001b[39m, \u001b[33m2261\u001b[39m,\n",
            "    \u001b[33m2101\u001b[39m, \u001b[33m2414\u001b[39m, \u001b[33m2073\u001b[39m, \u001b[33m2222\u001b[39m, \u001b[33m2427\u001b[39m, \u001b[33m1970\u001b[39m, \u001b[33m2328\u001b[39m, \u001b[33m2223\u001b[39m, \u001b[33m2273\u001b[39m, \u001b[33m2145\u001b[39m,\n",
            "    \u001b[33m1982\u001b[39m, \u001b[33m2158\u001b[39m, \u001b[33m2060\u001b[39m, \u001b[33m2290\u001b[39m, \u001b[33m2093\u001b[39m, \u001b[33m2458\u001b[39m, \u001b[33m2067\u001b[39m, \u001b[33m2119\u001b[39m, \u001b[33m2095\u001b[39m, \u001b[33m2444\u001b[39m,\n",
            "    \u001b[33m2090\u001b[39m, \u001b[33m2239\u001b[39m, \u001b[33m2375\u001b[39m, \u001b[33m2383\u001b[39m, \u001b[33m2370\u001b[39m, \u001b[33m2246\u001b[39m, \u001b[33m2199\u001b[39m, \u001b[33m2246\u001b[39m, \u001b[33m2423\u001b[39m, \u001b[33m1932\u001b[39m,\n",
            "    \u001b[33m2301\u001b[39m, \u001b[33m1895\u001b[39m, \u001b[33m1969\u001b[39m, \u001b[33m2086\u001b[39m, \u001b[33m2191\u001b[39m, \u001b[33m2113\u001b[39m, \u001b[33m2257\u001b[39m, \u001b[33m2178\u001b[39m, \u001b[33m2067\u001b[39m, \u001b[33m2249\u001b[39m,\n",
            "    \u001b[33m2364\u001b[39m, \u001b[33m2271\u001b[39m, \u001b[33m2242\u001b[39m, \u001b[33m1888\u001b[39m, \u001b[33m1982\u001b[39m, \u001b[33m2303\u001b[39m, \u001b[33m2337\u001b[39m, \u001b[33m2231\u001b[39m, \u001b[33m2274\u001b[39m, \u001b[33m2110\u001b[39m,\n",
            "    \u001b[33m2239\u001b[39m, \u001b[33m2285\u001b[39m, \u001b[33m2217\u001b[39m, \u001b[33m2191\u001b[39m, \u001b[33m2235\u001b[39m, \u001b[33m2326\u001b[39m, \u001b[33m2325\u001b[39m, \u001b[33m2334\u001b[39m, \u001b[33m2328\u001b[39m, \u001b[33m2310\u001b[39m,\n",
            "    \u001b[33m2132\u001b[39m, \u001b[33m2460\u001b[39m, \u001b[33m1930\u001b[39m, \u001b[33m2606\u001b[39m, \u001b[33m2230\u001b[39m, \u001b[33m2281\u001b[39m, \u001b[33m2250\u001b[39m, \u001b[33m2148\u001b[39m, \u001b[33m2409\u001b[39m, \u001b[33m2106\u001b[39m,\n",
            "    \u001b[33m2081\u001b[39m, \u001b[33m2446\u001b[39m, \u001b[33m2354\u001b[39m, \u001b[33m1998\u001b[39m, \u001b[33m2285\u001b[39m, \u001b[33m2208\u001b[39m, \u001b[33m2318\u001b[39m, \u001b[33m2378\u001b[39m, \u001b[33m2167\u001b[39m, \u001b[33m2222\u001b[39m,\n",
            "    \u001b[33m2274\u001b[39m, \u001b[33m2091\u001b[39m, \u001b[33m2062\u001b[39m, \u001b[33m2037\u001b[39m, \u001b[33m2437\u001b[39m, \u001b[33m2346\u001b[39m, \u001b[33m2155\u001b[39m, \u001b[33m2286\u001b[39m, \u001b[33m2275\u001b[39m, \u001b[33m2090\u001b[39m,\n",
            "    ... 500 more items\n",
            "  ],\n",
            "  [\n",
            "    \u001b[33m1789\u001b[39m, \u001b[33m2369\u001b[39m, \u001b[33m2254\u001b[39m, \u001b[33m2033\u001b[39m, \u001b[33m2268\u001b[39m, \u001b[33m1963\u001b[39m, \u001b[33m2060\u001b[39m, \u001b[33m2060\u001b[39m, \u001b[33m2025\u001b[39m, \u001b[33m2343\u001b[39m,\n",
            "    \u001b[33m2036\u001b[39m, \u001b[33m2376\u001b[39m, \u001b[33m2004\u001b[39m, \u001b[33m2077\u001b[39m, \u001b[33m2393\u001b[39m, \u001b[33m1972\u001b[39m, \u001b[33m2239\u001b[39m, \u001b[33m2209\u001b[39m, \u001b[33m2153\u001b[39m, \u001b[33m2037\u001b[39m,\n",
            "    \u001b[33m1816\u001b[39m, \u001b[33m2114\u001b[39m, \u001b[33m2024\u001b[39m, \u001b[33m2191\u001b[39m, \u001b[33m2178\u001b[39m, \u001b[33m2195\u001b[39m, \u001b[33m2068\u001b[39m, \u001b[33m2260\u001b[39m, \u001b[33m2078\u001b[39m, \u001b[33m2466\u001b[39m,\n",
            "    \u001b[33m1948\u001b[39m, \u001b[33m1930\u001b[39m, \u001b[33m2230\u001b[39m, \u001b[33m2295\u001b[39m, \u001b[33m2231\u001b[39m, \u001b[33m2247\u001b[39m, \u001b[33m2265\u001b[39m, \u001b[33m2069\u001b[39m, \u001b[33m2323\u001b[39m, \u001b[33m1974\u001b[39m,\n",
            "    \u001b[33m2318\u001b[39m, \u001b[33m1934\u001b[39m, \u001b[33m2043\u001b[39m, \u001b[33m2082\u001b[39m, \u001b[33m2146\u001b[39m, \u001b[33m2178\u001b[39m, \u001b[33m2162\u001b[39m, \u001b[33m2222\u001b[39m, \u001b[33m1912\u001b[39m, \u001b[33m2042\u001b[39m,\n",
            "    \u001b[33m2211\u001b[39m, \u001b[33m2172\u001b[39m, \u001b[33m2243\u001b[39m, \u001b[33m1989\u001b[39m, \u001b[33m2133\u001b[39m, \u001b[33m2150\u001b[39m, \u001b[33m2145\u001b[39m, \u001b[33m2055\u001b[39m, \u001b[33m2100\u001b[39m, \u001b[33m2095\u001b[39m,\n",
            "    \u001b[33m2151\u001b[39m, \u001b[33m2230\u001b[39m, \u001b[33m2023\u001b[39m, \u001b[33m2101\u001b[39m, \u001b[33m2237\u001b[39m, \u001b[33m2294\u001b[39m, \u001b[33m2176\u001b[39m, \u001b[33m2218\u001b[39m, \u001b[33m2174\u001b[39m, \u001b[33m2101\u001b[39m,\n",
            "    \u001b[33m2014\u001b[39m, \u001b[33m2247\u001b[39m, \u001b[33m2121\u001b[39m, \u001b[33m2443\u001b[39m, \u001b[33m2056\u001b[39m, \u001b[33m2087\u001b[39m, \u001b[33m2033\u001b[39m, \u001b[33m2146\u001b[39m, \u001b[33m2267\u001b[39m, \u001b[33m1982\u001b[39m,\n",
            "    \u001b[33m1982\u001b[39m, \u001b[33m2216\u001b[39m, \u001b[33m2245\u001b[39m, \u001b[33m1979\u001b[39m, \u001b[33m2281\u001b[39m, \u001b[33m2162\u001b[39m, \u001b[33m2124\u001b[39m, \u001b[33m2237\u001b[39m, \u001b[33m1976\u001b[39m, \u001b[33m1972\u001b[39m,\n",
            "    \u001b[33m2412\u001b[39m, \u001b[33m2018\u001b[39m, \u001b[33m2056\u001b[39m, \u001b[33m1843\u001b[39m, \u001b[33m2362\u001b[39m, \u001b[33m2139\u001b[39m, \u001b[33m2150\u001b[39m, \u001b[33m2137\u001b[39m, \u001b[33m2218\u001b[39m, \u001b[33m2059\u001b[39m,\n",
            "    ... 500 more items\n",
            "  ],\n",
            "  [\n",
            "    \u001b[33m2046\u001b[39m, \u001b[33m2315\u001b[39m, \u001b[33m2287\u001b[39m, \u001b[33m2000\u001b[39m, \u001b[33m2053\u001b[39m, \u001b[33m1973\u001b[39m, \u001b[33m2076\u001b[39m, \u001b[33m2168\u001b[39m, \u001b[33m2009\u001b[39m, \u001b[33m2302\u001b[39m,\n",
            "    \u001b[33m2149\u001b[39m, \u001b[33m2468\u001b[39m, \u001b[33m1964\u001b[39m, \u001b[33m2077\u001b[39m, \u001b[33m2399\u001b[39m, \u001b[33m1932\u001b[39m, \u001b[33m2306\u001b[39m, \u001b[33m2208\u001b[39m, \u001b[33m2110\u001b[39m, \u001b[33m2072\u001b[39m,\n",
            "    \u001b[33m1922\u001b[39m, \u001b[33m2078\u001b[39m, \u001b[33m2006\u001b[39m, \u001b[33m2276\u001b[39m, \u001b[33m2087\u001b[39m, \u001b[33m2186\u001b[39m, \u001b[33m2191\u001b[39m, \u001b[33m2063\u001b[39m, \u001b[33m2052\u001b[39m, \u001b[33m2525\u001b[39m,\n",
            "    \u001b[33m2029\u001b[39m, \u001b[33m2148\u001b[39m, \u001b[33m2284\u001b[39m, \u001b[33m2300\u001b[39m, \u001b[33m2211\u001b[39m, \u001b[33m2305\u001b[39m, \u001b[33m2142\u001b[39m, \u001b[33m2021\u001b[39m, \u001b[33m2246\u001b[39m, \u001b[33m2022\u001b[39m,\n",
            "    \u001b[33m2173\u001b[39m, \u001b[33m1964\u001b[39m, \u001b[33m2044\u001b[39m, \u001b[33m2163\u001b[39m, \u001b[33m1939\u001b[39m, \u001b[33m2076\u001b[39m, \u001b[33m2268\u001b[39m, \u001b[33m2220\u001b[39m, \u001b[33m2050\u001b[39m, \u001b[33m2172\u001b[39m,\n",
            "    \u001b[33m2215\u001b[39m, \u001b[33m2020\u001b[39m, \u001b[33m2319\u001b[39m, \u001b[33m1969\u001b[39m, \u001b[33m2035\u001b[39m, \u001b[33m2186\u001b[39m, \u001b[33m2219\u001b[39m, \u001b[33m2179\u001b[39m, \u001b[33m2129\u001b[39m, \u001b[33m2054\u001b[39m,\n",
            "    \u001b[33m2233\u001b[39m, \u001b[33m2178\u001b[39m, \u001b[33m2194\u001b[39m, \u001b[33m2146\u001b[39m, \u001b[33m2087\u001b[39m, \u001b[33m2310\u001b[39m, \u001b[33m2191\u001b[39m, \u001b[33m2327\u001b[39m, \u001b[33m2237\u001b[39m, \u001b[33m2142\u001b[39m,\n",
            "    \u001b[33m2169\u001b[39m, \u001b[33m2312\u001b[39m, \u001b[33m2071\u001b[39m, \u001b[33m2397\u001b[39m, \u001b[33m2169\u001b[39m, \u001b[33m2234\u001b[39m, \u001b[33m2180\u001b[39m, \u001b[33m2146\u001b[39m, \u001b[33m2321\u001b[39m, \u001b[33m1982\u001b[39m,\n",
            "    \u001b[33m2042\u001b[39m, \u001b[33m2429\u001b[39m, \u001b[33m2220\u001b[39m, \u001b[33m1999\u001b[39m, \u001b[33m2203\u001b[39m, \u001b[33m2279\u001b[39m, \u001b[33m2133\u001b[39m, \u001b[33m2309\u001b[39m, \u001b[33m2039\u001b[39m, \u001b[33m2072\u001b[39m,\n",
            "    \u001b[33m2309\u001b[39m, \u001b[33m1965\u001b[39m, \u001b[33m2085\u001b[39m, \u001b[33m1936\u001b[39m, \u001b[33m2144\u001b[39m, \u001b[33m2005\u001b[39m, \u001b[33m2174\u001b[39m, \u001b[33m2136\u001b[39m, \u001b[33m1950\u001b[39m, \u001b[33m2012\u001b[39m,\n",
            "    ... 500 more items\n",
            "  ],\n",
            "  [\n",
            "    \u001b[33m1921\u001b[39m, \u001b[33m2536\u001b[39m, \u001b[33m2345\u001b[39m, \u001b[33m2052\u001b[39m, \u001b[33m2172\u001b[39m, \u001b[33m1907\u001b[39m, \u001b[33m2077\u001b[39m, \u001b[33m2125\u001b[39m, \u001b[33m2126\u001b[39m, \u001b[33m2367\u001b[39m,\n",
            "    \u001b[33m2249\u001b[39m, \u001b[33m2358\u001b[39m, \u001b[33m2103\u001b[39m, \u001b[33m2259\u001b[39m, \u001b[33m2561\u001b[39m, \u001b[33m2082\u001b[39m, \u001b[33m2337\u001b[39m, \u001b[33m2091\u001b[39m, \u001b[33m2102\u001b[39m, \u001b[33m2213\u001b[39m,\n",
            "    \u001b[33m2043\u001b[39m, \u001b[33m2126\u001b[39m, \u001b[33m2017\u001b[39m, \u001b[33m2254\u001b[39m, \u001b[33m2091\u001b[39m, \u001b[33m2345\u001b[39m, \u001b[33m2098\u001b[39m, \u001b[33m2183\u001b[39m, \u001b[33m2203\u001b[39m, \u001b[33m2553\u001b[39m,\n",
            "    \u001b[33m1927\u001b[39m, \u001b[33m2058\u001b[39m, \u001b[33m2361\u001b[39m, \u001b[33m2393\u001b[39m, \u001b[33m2353\u001b[39m, \u001b[33m2207\u001b[39m, \u001b[33m2188\u001b[39m, \u001b[33m2058\u001b[39m, \u001b[33m2204\u001b[39m, \u001b[33m1951\u001b[39m,\n",
            "    \u001b[33m2316\u001b[39m, \u001b[33m1956\u001b[39m, \u001b[33m1938\u001b[39m, \u001b[33m2100\u001b[39m, \u001b[33m2063\u001b[39m, \u001b[33m2245\u001b[39m, \u001b[33m2308\u001b[39m, \u001b[33m2187\u001b[39m, \u001b[33m2243\u001b[39m, \u001b[33m2309\u001b[39m,\n",
            "    \u001b[33m2280\u001b[39m, \u001b[33m2109\u001b[39m, \u001b[33m2413\u001b[39m, \u001b[33m2193\u001b[39m, \u001b[33m2055\u001b[39m, \u001b[33m2236\u001b[39m, \u001b[33m2303\u001b[39m, \u001b[33m2158\u001b[39m, \u001b[33m2264\u001b[39m, \u001b[33m2229\u001b[39m,\n",
            "    \u001b[33m2210\u001b[39m, \u001b[33m2320\u001b[39m, \u001b[33m2190\u001b[39m, \u001b[33m2372\u001b[39m, \u001b[33m2148\u001b[39m, \u001b[33m2228\u001b[39m, \u001b[33m2338\u001b[39m, \u001b[33m2470\u001b[39m, \u001b[33m2324\u001b[39m, \u001b[33m2312\u001b[39m,\n",
            "    \u001b[33m2205\u001b[39m, \u001b[33m2314\u001b[39m, \u001b[33m2086\u001b[39m, \u001b[33m2639\u001b[39m, \u001b[33m2223\u001b[39m, \u001b[33m2238\u001b[39m, \u001b[33m2286\u001b[39m, \u001b[33m2202\u001b[39m, \u001b[33m2195\u001b[39m, \u001b[33m2124\u001b[39m,\n",
            "    \u001b[33m1875\u001b[39m, \u001b[33m2267\u001b[39m, \u001b[33m2584\u001b[39m, \u001b[33m2163\u001b[39m, \u001b[33m2233\u001b[39m, \u001b[33m2252\u001b[39m, \u001b[33m2145\u001b[39m, \u001b[33m2280\u001b[39m, \u001b[33m2122\u001b[39m, \u001b[33m2186\u001b[39m,\n",
            "    \u001b[33m2409\u001b[39m, \u001b[33m1974\u001b[39m, \u001b[33m2090\u001b[39m, \u001b[33m1889\u001b[39m, \u001b[33m2564\u001b[39m, \u001b[33m2097\u001b[39m, \u001b[33m2159\u001b[39m, \u001b[33m2034\u001b[39m, \u001b[33m2071\u001b[39m, \u001b[33m2051\u001b[39m,\n",
            "    ... 500 more items\n",
            "  ],\n",
            "  [\n",
            "    \u001b[33m1675\u001b[39m, \u001b[33m2216\u001b[39m, \u001b[33m2115\u001b[39m, \u001b[33m1733\u001b[39m, \u001b[33m1893\u001b[39m, \u001b[33m1682\u001b[39m, \u001b[33m2052\u001b[39m, \u001b[33m1848\u001b[39m, \u001b[33m1900\u001b[39m, \u001b[33m1913\u001b[39m,\n",
            "    \u001b[33m1885\u001b[39m, \u001b[33m2060\u001b[39m, \u001b[33m1820\u001b[39m, \u001b[33m1867\u001b[39m, \u001b[33m2114\u001b[39m, \u001b[33m1664\u001b[39m, \u001b[33m2030\u001b[39m, \u001b[33m1903\u001b[39m, \u001b[33m1939\u001b[39m, \u001b[33m1908\u001b[39m,\n",
            "    \u001b[33m1612\u001b[39m, \u001b[33m1946\u001b[39m, \u001b[33m1801\u001b[39m, \u001b[33m2006\u001b[39m, \u001b[33m1816\u001b[39m, \u001b[33m2086\u001b[39m, \u001b[33m1964\u001b[39m, \u001b[33m1836\u001b[39m, \u001b[33m1927\u001b[39m, \u001b[33m2347\u001b[39m,\n",
            "    \u001b[33m1793\u001b[39m, \u001b[33m1942\u001b[39m, \u001b[33m2092\u001b[39m, \u001b[33m1985\u001b[39m, \u001b[33m1961\u001b[39m, \u001b[33m1953\u001b[39m, \u001b[33m1901\u001b[39m, \u001b[33m1789\u001b[39m, \u001b[33m2001\u001b[39m, \u001b[33m1706\u001b[39m,\n",
            "    \u001b[33m1966\u001b[39m, \u001b[33m1554\u001b[39m, \u001b[33m1735\u001b[39m, \u001b[33m1829\u001b[39m, \u001b[33m1893\u001b[39m, \u001b[33m1669\u001b[39m, \u001b[33m1978\u001b[39m, \u001b[33m1798\u001b[39m, \u001b[33m1893\u001b[39m, \u001b[33m1958\u001b[39m,\n",
            "    \u001b[33m1788\u001b[39m, \u001b[33m1825\u001b[39m, \u001b[33m2111\u001b[39m, \u001b[33m1761\u001b[39m, \u001b[33m1717\u001b[39m, \u001b[33m1883\u001b[39m, \u001b[33m2089\u001b[39m, \u001b[33m1965\u001b[39m, \u001b[33m1977\u001b[39m, \u001b[33m1808\u001b[39m,\n",
            "    \u001b[33m1882\u001b[39m, \u001b[33m1924\u001b[39m, \u001b[33m2060\u001b[39m, \u001b[33m2146\u001b[39m, \u001b[33m1898\u001b[39m, \u001b[33m2098\u001b[39m, \u001b[33m2168\u001b[39m, \u001b[33m2199\u001b[39m, \u001b[33m2040\u001b[39m, \u001b[33m2027\u001b[39m,\n",
            "    \u001b[33m1824\u001b[39m, \u001b[33m2162\u001b[39m, \u001b[33m1863\u001b[39m, \u001b[33m2265\u001b[39m, \u001b[33m2022\u001b[39m, \u001b[33m2096\u001b[39m, \u001b[33m1968\u001b[39m, \u001b[33m1942\u001b[39m, \u001b[33m2030\u001b[39m, \u001b[33m1902\u001b[39m,\n",
            "    \u001b[33m1679\u001b[39m, \u001b[33m2267\u001b[39m, \u001b[33m2155\u001b[39m, \u001b[33m1984\u001b[39m, \u001b[33m1917\u001b[39m, \u001b[33m1929\u001b[39m, \u001b[33m2094\u001b[39m, \u001b[33m2080\u001b[39m, \u001b[33m1869\u001b[39m, \u001b[33m1947\u001b[39m,\n",
            "    \u001b[33m2025\u001b[39m, \u001b[33m1697\u001b[39m, \u001b[33m1886\u001b[39m, \u001b[33m1778\u001b[39m, \u001b[33m1993\u001b[39m, \u001b[33m1830\u001b[39m, \u001b[33m1695\u001b[39m, \u001b[33m2012\u001b[39m, \u001b[33m1700\u001b[39m, \u001b[33m1858\u001b[39m,\n",
            "    ... 500 more items\n",
            "  ],\n",
            "  [\n",
            "    \u001b[33m1482\u001b[39m, \u001b[33m1962\u001b[39m, \u001b[33m1833\u001b[39m, \u001b[33m1718\u001b[39m, \u001b[33m1982\u001b[39m, \u001b[33m1636\u001b[39m, \u001b[33m1910\u001b[39m, \u001b[33m1785\u001b[39m, \u001b[33m1737\u001b[39m, \u001b[33m1779\u001b[39m,\n",
            "    \u001b[33m1754\u001b[39m, \u001b[33m1886\u001b[39m, \u001b[33m1572\u001b[39m, \u001b[33m1883\u001b[39m, \u001b[33m1987\u001b[39m, \u001b[33m1424\u001b[39m, \u001b[33m1894\u001b[39m, \u001b[33m1961\u001b[39m, \u001b[33m1851\u001b[39m, \u001b[33m1782\u001b[39m,\n",
            "    \u001b[33m1628\u001b[39m, \u001b[33m1760\u001b[39m, \u001b[33m1601\u001b[39m, \u001b[33m1991\u001b[39m, \u001b[33m1702\u001b[39m, \u001b[33m2050\u001b[39m, \u001b[33m1571\u001b[39m, \u001b[33m1785\u001b[39m, \u001b[33m1777\u001b[39m, \u001b[33m2194\u001b[39m,\n",
            "    \u001b[33m1787\u001b[39m, \u001b[33m1760\u001b[39m, \u001b[33m1906\u001b[39m, \u001b[33m1955\u001b[39m, \u001b[33m1940\u001b[39m, \u001b[33m1834\u001b[39m, \u001b[33m1951\u001b[39m, \u001b[33m1851\u001b[39m, \u001b[33m2043\u001b[39m, \u001b[33m1782\u001b[39m,\n",
            "    \u001b[33m1978\u001b[39m, \u001b[33m1517\u001b[39m, \u001b[33m1469\u001b[39m, \u001b[33m1811\u001b[39m, \u001b[33m1772\u001b[39m, \u001b[33m1800\u001b[39m, \u001b[33m1967\u001b[39m, \u001b[33m1749\u001b[39m, \u001b[33m1776\u001b[39m, \u001b[33m1778\u001b[39m,\n",
            "    \u001b[33m1943\u001b[39m, \u001b[33m1756\u001b[39m, \u001b[33m2077\u001b[39m, \u001b[33m1542\u001b[39m, \u001b[33m1740\u001b[39m, \u001b[33m1970\u001b[39m, \u001b[33m1906\u001b[39m, \u001b[33m1889\u001b[39m, \u001b[33m1867\u001b[39m, \u001b[33m1630\u001b[39m,\n",
            "    \u001b[33m1802\u001b[39m, \u001b[33m2032\u001b[39m, \u001b[33m1850\u001b[39m, \u001b[33m2024\u001b[39m, \u001b[33m1873\u001b[39m, \u001b[33m1928\u001b[39m, \u001b[33m2033\u001b[39m, \u001b[33m1946\u001b[39m, \u001b[33m1880\u001b[39m, \u001b[33m1831\u001b[39m,\n",
            "    \u001b[33m1685\u001b[39m, \u001b[33m2000\u001b[39m, \u001b[33m1760\u001b[39m, \u001b[33m2069\u001b[39m, \u001b[33m1882\u001b[39m, \u001b[33m1875\u001b[39m, \u001b[33m1719\u001b[39m, \u001b[33m1655\u001b[39m, \u001b[33m2049\u001b[39m, \u001b[33m1793\u001b[39m,\n",
            "    \u001b[33m1663\u001b[39m, \u001b[33m1979\u001b[39m, \u001b[33m1995\u001b[39m, \u001b[33m1734\u001b[39m, \u001b[33m1870\u001b[39m, \u001b[33m1845\u001b[39m, \u001b[33m1968\u001b[39m, \u001b[33m1852\u001b[39m, \u001b[33m1691\u001b[39m, \u001b[33m1794\u001b[39m,\n",
            "    \u001b[33m1956\u001b[39m, \u001b[33m1670\u001b[39m, \u001b[33m1854\u001b[39m, \u001b[33m1644\u001b[39m, \u001b[33m2059\u001b[39m, \u001b[33m1871\u001b[39m, \u001b[33m1868\u001b[39m, \u001b[33m1948\u001b[39m, \u001b[33m1724\u001b[39m, \u001b[33m1592\u001b[39m,\n",
            "    ... 500 more items\n",
            "  ],\n",
            "  [\n",
            "    \u001b[33m1762\u001b[39m, \u001b[33m2202\u001b[39m, \u001b[33m2067\u001b[39m, \u001b[33m1951\u001b[39m, \u001b[33m2107\u001b[39m, \u001b[33m1881\u001b[39m, \u001b[33m2161\u001b[39m, \u001b[33m1996\u001b[39m, \u001b[33m1956\u001b[39m, \u001b[33m2076\u001b[39m,\n",
            "    \u001b[33m1977\u001b[39m, \u001b[33m2192\u001b[39m, \u001b[33m1838\u001b[39m, \u001b[33m2009\u001b[39m, \u001b[33m2179\u001b[39m, \u001b[33m1893\u001b[39m, \u001b[33m2133\u001b[39m, \u001b[33m2077\u001b[39m, \u001b[33m1993\u001b[39m, \u001b[33m1957\u001b[39m,\n",
            "    \u001b[33m1838\u001b[39m, \u001b[33m2013\u001b[39m, \u001b[33m1914\u001b[39m, \u001b[33m2256\u001b[39m, \u001b[33m1904\u001b[39m, \u001b[33m2183\u001b[39m, \u001b[33m1925\u001b[39m, \u001b[33m2154\u001b[39m, \u001b[33m1950\u001b[39m, \u001b[33m2309\u001b[39m,\n",
            "    \u001b[33m1909\u001b[39m, \u001b[33m2080\u001b[39m, \u001b[33m1988\u001b[39m, \u001b[33m2032\u001b[39m, \u001b[33m2096\u001b[39m, \u001b[33m1908\u001b[39m, \u001b[33m2264\u001b[39m, \u001b[33m1869\u001b[39m, \u001b[33m2066\u001b[39m, \u001b[33m1766\u001b[39m,\n",
            "    \u001b[33m2145\u001b[39m, \u001b[33m1729\u001b[39m, \u001b[33m1933\u001b[39m, \u001b[33m2008\u001b[39m, \u001b[33m2101\u001b[39m, \u001b[33m1919\u001b[39m, \u001b[33m2103\u001b[39m, \u001b[33m1895\u001b[39m, \u001b[33m1854\u001b[39m, \u001b[33m1995\u001b[39m,\n",
            "    \u001b[33m2109\u001b[39m, \u001b[33m1961\u001b[39m, \u001b[33m2169\u001b[39m, \u001b[33m1753\u001b[39m, \u001b[33m1863\u001b[39m, \u001b[33m1936\u001b[39m, \u001b[33m2252\u001b[39m, \u001b[33m2058\u001b[39m, \u001b[33m2116\u001b[39m, \u001b[33m1947\u001b[39m,\n",
            "    \u001b[33m2121\u001b[39m, \u001b[33m2042\u001b[39m, \u001b[33m2138\u001b[39m, \u001b[33m2042\u001b[39m, \u001b[33m2152\u001b[39m, \u001b[33m2290\u001b[39m, \u001b[33m2163\u001b[39m, \u001b[33m2257\u001b[39m, \u001b[33m2123\u001b[39m, \u001b[33m2068\u001b[39m,\n",
            "    \u001b[33m1901\u001b[39m, \u001b[33m2172\u001b[39m, \u001b[33m1875\u001b[39m, \u001b[33m2402\u001b[39m, \u001b[33m2097\u001b[39m, \u001b[33m2068\u001b[39m, \u001b[33m1935\u001b[39m, \u001b[33m1898\u001b[39m, \u001b[33m2336\u001b[39m, \u001b[33m1988\u001b[39m,\n",
            "    \u001b[33m1805\u001b[39m, \u001b[33m2222\u001b[39m, \u001b[33m2162\u001b[39m, \u001b[33m2013\u001b[39m, \u001b[33m2043\u001b[39m, \u001b[33m2005\u001b[39m, \u001b[33m2212\u001b[39m, \u001b[33m1992\u001b[39m, \u001b[33m2040\u001b[39m, \u001b[33m1996\u001b[39m,\n",
            "    \u001b[33m2115\u001b[39m, \u001b[33m1853\u001b[39m, \u001b[33m1972\u001b[39m, \u001b[33m1778\u001b[39m, \u001b[33m2216\u001b[39m, \u001b[33m1966\u001b[39m, \u001b[33m2017\u001b[39m, \u001b[33m2123\u001b[39m, \u001b[33m1984\u001b[39m, \u001b[33m2003\u001b[39m,\n",
            "    ... 500 more items\n",
            "  ],\n",
            "  [\n",
            "    \u001b[33m1436\u001b[39m, \u001b[33m2136\u001b[39m, \u001b[33m2069\u001b[39m, \u001b[33m1761\u001b[39m, \u001b[33m1938\u001b[39m, \u001b[33m1729\u001b[39m, \u001b[33m2105\u001b[39m, \u001b[33m1833\u001b[39m, \u001b[33m1750\u001b[39m, \u001b[33m1969\u001b[39m,\n",
            "    \u001b[33m1750\u001b[39m, \u001b[33m1859\u001b[39m, \u001b[33m1775\u001b[39m, \u001b[33m1872\u001b[39m, \u001b[33m2121\u001b[39m, \u001b[33m1849\u001b[39m, \u001b[33m2102\u001b[39m, \u001b[33m1959\u001b[39m, \u001b[33m2001\u001b[39m, \u001b[33m1820\u001b[39m,\n",
            "    \u001b[33m1625\u001b[39m, \u001b[33m1845\u001b[39m, \u001b[33m1963\u001b[39m, \u001b[33m1925\u001b[39m, \u001b[33m1683\u001b[39m, \u001b[33m2045\u001b[39m, \u001b[33m1797\u001b[39m, \u001b[33m1725\u001b[39m, \u001b[33m1749\u001b[39m, \u001b[33m2177\u001b[39m,\n",
            "    \u001b[33m1715\u001b[39m, \u001b[33m2022\u001b[39m, \u001b[33m2048\u001b[39m, \u001b[33m2100\u001b[39m, \u001b[33m2000\u001b[39m, \u001b[33m2073\u001b[39m, \u001b[33m1988\u001b[39m, \u001b[33m1982\u001b[39m, \u001b[33m2012\u001b[39m, \u001b[33m1745\u001b[39m,\n",
            "    \u001b[33m2039\u001b[39m, \u001b[33m1725\u001b[39m, \u001b[33m1842\u001b[39m, \u001b[33m1881\u001b[39m, \u001b[33m1914\u001b[39m, \u001b[33m1887\u001b[39m, \u001b[33m1900\u001b[39m, \u001b[33m2005\u001b[39m, \u001b[33m1920\u001b[39m, \u001b[33m1943\u001b[39m,\n",
            "    \u001b[33m2087\u001b[39m, \u001b[33m1919\u001b[39m, \u001b[33m2092\u001b[39m, \u001b[33m1740\u001b[39m, \u001b[33m1968\u001b[39m, \u001b[33m1840\u001b[39m, \u001b[33m2074\u001b[39m, \u001b[33m1969\u001b[39m, \u001b[33m1967\u001b[39m, \u001b[33m1693\u001b[39m,\n",
            "    \u001b[33m1927\u001b[39m, \u001b[33m1842\u001b[39m, \u001b[33m1991\u001b[39m, \u001b[33m1953\u001b[39m, \u001b[33m1929\u001b[39m, \u001b[33m2000\u001b[39m, \u001b[33m2147\u001b[39m, \u001b[33m2268\u001b[39m, \u001b[33m2081\u001b[39m, \u001b[33m2028\u001b[39m,\n",
            "    \u001b[33m1783\u001b[39m, \u001b[33m2151\u001b[39m, \u001b[33m1784\u001b[39m, \u001b[33m2172\u001b[39m, \u001b[33m2001\u001b[39m, \u001b[33m2067\u001b[39m, \u001b[33m2113\u001b[39m, \u001b[33m1954\u001b[39m, \u001b[33m2078\u001b[39m, \u001b[33m1808\u001b[39m,\n",
            "    \u001b[33m1774\u001b[39m, \u001b[33m2002\u001b[39m, \u001b[33m2081\u001b[39m, \u001b[33m1659\u001b[39m, \u001b[33m1987\u001b[39m, \u001b[33m1897\u001b[39m, \u001b[33m1949\u001b[39m, \u001b[33m1935\u001b[39m, \u001b[33m1902\u001b[39m, \u001b[33m2009\u001b[39m,\n",
            "    \u001b[33m1899\u001b[39m, \u001b[33m1755\u001b[39m, \u001b[33m1811\u001b[39m, \u001b[33m1692\u001b[39m, \u001b[33m2089\u001b[39m, \u001b[33m1915\u001b[39m, \u001b[33m1929\u001b[39m, \u001b[33m2130\u001b[39m, \u001b[33m1889\u001b[39m, \u001b[33m1890\u001b[39m,\n",
            "    ... 500 more items\n",
            "  ],\n",
            "  [\n",
            "    \u001b[33m1771\u001b[39m, \u001b[33m2339\u001b[39m, \u001b[33m2210\u001b[39m, \u001b[33m1808\u001b[39m, \u001b[33m2097\u001b[39m, \u001b[33m1914\u001b[39m, \u001b[33m2101\u001b[39m, \u001b[33m1844\u001b[39m, \u001b[33m1954\u001b[39m, \u001b[33m2090\u001b[39m,\n",
            "    \u001b[33m1994\u001b[39m, \u001b[33m2131\u001b[39m, \u001b[33m1881\u001b[39m, \u001b[33m2110\u001b[39m, \u001b[33m2326\u001b[39m, \u001b[33m2041\u001b[39m, \u001b[33m2146\u001b[39m, \u001b[33m2093\u001b[39m, \u001b[33m2054\u001b[39m, \u001b[33m1980\u001b[39m,\n",
            "    \u001b[33m1811\u001b[39m, \u001b[33m1967\u001b[39m, \u001b[33m1990\u001b[39m, \u001b[33m1976\u001b[39m, \u001b[33m2037\u001b[39m, \u001b[33m2118\u001b[39m, \u001b[33m2106\u001b[39m, \u001b[33m2038\u001b[39m, \u001b[33m2075\u001b[39m, \u001b[33m2266\u001b[39m,\n",
            "    \u001b[33m1843\u001b[39m, \u001b[33m2027\u001b[39m, \u001b[33m2270\u001b[39m, \u001b[33m2265\u001b[39m, \u001b[33m2093\u001b[39m, \u001b[33m2148\u001b[39m, \u001b[33m2239\u001b[39m, \u001b[33m1984\u001b[39m, \u001b[33m2006\u001b[39m, \u001b[33m1903\u001b[39m,\n",
            "    \u001b[33m2200\u001b[39m, \u001b[33m1855\u001b[39m, \u001b[33m1981\u001b[39m, \u001b[33m1844\u001b[39m, \u001b[33m2053\u001b[39m, \u001b[33m2114\u001b[39m, \u001b[33m2140\u001b[39m, \u001b[33m1911\u001b[39m, \u001b[33m1974\u001b[39m, \u001b[33m1989\u001b[39m,\n",
            "    \u001b[33m2133\u001b[39m, \u001b[33m2032\u001b[39m, \u001b[33m2214\u001b[39m, \u001b[33m1994\u001b[39m, \u001b[33m1919\u001b[39m, \u001b[33m1961\u001b[39m, \u001b[33m2235\u001b[39m, \u001b[33m2074\u001b[39m, \u001b[33m2138\u001b[39m, \u001b[33m1917\u001b[39m,\n",
            "    \u001b[33m2145\u001b[39m, \u001b[33m2020\u001b[39m, \u001b[33m2046\u001b[39m, \u001b[33m2123\u001b[39m, \u001b[33m1985\u001b[39m, \u001b[33m2182\u001b[39m, \u001b[33m2289\u001b[39m, \u001b[33m2248\u001b[39m, \u001b[33m2171\u001b[39m, \u001b[33m2104\u001b[39m,\n",
            "    \u001b[33m1964\u001b[39m, \u001b[33m2244\u001b[39m, \u001b[33m1962\u001b[39m, \u001b[33m2388\u001b[39m, \u001b[33m2191\u001b[39m, \u001b[33m2142\u001b[39m, \u001b[33m2177\u001b[39m, \u001b[33m1998\u001b[39m, \u001b[33m2329\u001b[39m, \u001b[33m2013\u001b[39m,\n",
            "    \u001b[33m1828\u001b[39m, \u001b[33m2144\u001b[39m, \u001b[33m2274\u001b[39m, \u001b[33m1988\u001b[39m, \u001b[33m2264\u001b[39m, \u001b[33m2026\u001b[39m, \u001b[33m1984\u001b[39m, \u001b[33m2094\u001b[39m, \u001b[33m1934\u001b[39m, \u001b[33m2008\u001b[39m,\n",
            "    \u001b[33m2234\u001b[39m, \u001b[33m1881\u001b[39m, \u001b[33m2032\u001b[39m, \u001b[33m1792\u001b[39m, \u001b[33m2353\u001b[39m, \u001b[33m1989\u001b[39m, \u001b[33m2133\u001b[39m, \u001b[33m2086\u001b[39m, \u001b[33m2035\u001b[39m, \u001b[33m2003\u001b[39m,\n",
            "    ... 500 more items\n",
            "  ],\n",
            "  [\n",
            "    \u001b[33m1632\u001b[39m, \u001b[33m2234\u001b[39m, \u001b[33m2073\u001b[39m, \u001b[33m1843\u001b[39m, \u001b[33m2057\u001b[39m, \u001b[33m1886\u001b[39m, \u001b[33m2131\u001b[39m, \u001b[33m1812\u001b[39m, \u001b[33m1939\u001b[39m, \u001b[33m2102\u001b[39m,\n",
            "    \u001b[33m1895\u001b[39m, \u001b[33m2192\u001b[39m, \u001b[33m1877\u001b[39m, \u001b[33m1999\u001b[39m, \u001b[33m2348\u001b[39m, \u001b[33m1831\u001b[39m, \u001b[33m2027\u001b[39m, \u001b[33m2054\u001b[39m, \u001b[33m2014\u001b[39m, \u001b[33m2046\u001b[39m,\n",
            "    \u001b[33m1912\u001b[39m, \u001b[33m2080\u001b[39m, \u001b[33m1747\u001b[39m, \u001b[33m2056\u001b[39m, \u001b[33m1891\u001b[39m, \u001b[33m2233\u001b[39m, \u001b[33m1965\u001b[39m, \u001b[33m2167\u001b[39m, \u001b[33m2087\u001b[39m, \u001b[33m2345\u001b[39m,\n",
            "    \u001b[33m1853\u001b[39m, \u001b[33m1934\u001b[39m, \u001b[33m2134\u001b[39m, \u001b[33m2160\u001b[39m, \u001b[33m2063\u001b[39m, \u001b[33m1937\u001b[39m, \u001b[33m2083\u001b[39m, \u001b[33m2059\u001b[39m, \u001b[33m2168\u001b[39m, \u001b[33m1837\u001b[39m,\n",
            "    \u001b[33m2204\u001b[39m, \u001b[33m1816\u001b[39m, \u001b[33m1803\u001b[39m, \u001b[33m1974\u001b[39m, \u001b[33m1963\u001b[39m, \u001b[33m1926\u001b[39m, \u001b[33m1964\u001b[39m, \u001b[33m1967\u001b[39m, \u001b[33m1784\u001b[39m, \u001b[33m1959\u001b[39m,\n",
            "    \u001b[33m2100\u001b[39m, \u001b[33m2006\u001b[39m, \u001b[33m2120\u001b[39m, \u001b[33m1877\u001b[39m, \u001b[33m1914\u001b[39m, \u001b[33m2043\u001b[39m, \u001b[33m2093\u001b[39m, \u001b[33m2031\u001b[39m, \u001b[33m2141\u001b[39m, \u001b[33m1996\u001b[39m,\n",
            "    \u001b[33m2044\u001b[39m, \u001b[33m2184\u001b[39m, \u001b[33m2134\u001b[39m, \u001b[33m2033\u001b[39m, \u001b[33m2129\u001b[39m, \u001b[33m2202\u001b[39m, \u001b[33m2168\u001b[39m, \u001b[33m2143\u001b[39m, \u001b[33m2090\u001b[39m, \u001b[33m2073\u001b[39m,\n",
            "    \u001b[33m1928\u001b[39m, \u001b[33m2122\u001b[39m, \u001b[33m1910\u001b[39m, \u001b[33m2334\u001b[39m, \u001b[33m1985\u001b[39m, \u001b[33m2104\u001b[39m, \u001b[33m1967\u001b[39m, \u001b[33m1971\u001b[39m, \u001b[33m2217\u001b[39m, \u001b[33m2144\u001b[39m,\n",
            "    \u001b[33m1869\u001b[39m, \u001b[33m2210\u001b[39m, \u001b[33m2083\u001b[39m, \u001b[33m1898\u001b[39m, \u001b[33m2150\u001b[39m, \u001b[33m2206\u001b[39m, \u001b[33m1963\u001b[39m, \u001b[33m2226\u001b[39m, \u001b[33m1846\u001b[39m, \u001b[33m1822\u001b[39m,\n",
            "    \u001b[33m2288\u001b[39m, \u001b[33m1866\u001b[39m, \u001b[33m2023\u001b[39m, \u001b[33m1922\u001b[39m, \u001b[33m2254\u001b[39m, \u001b[33m2134\u001b[39m, \u001b[33m2094\u001b[39m, \u001b[33m2199\u001b[39m, \u001b[33m1928\u001b[39m, \u001b[33m1941\u001b[39m,\n",
            "    ... 500 more items\n",
            "  ],\n",
            "  [\n",
            "    \u001b[33m1598\u001b[39m, \u001b[33m2050\u001b[39m, \u001b[33m1921\u001b[39m, \u001b[33m1674\u001b[39m, \u001b[33m1800\u001b[39m, \u001b[33m1669\u001b[39m, \u001b[33m2074\u001b[39m, \u001b[33m1786\u001b[39m, \u001b[33m1719\u001b[39m, \u001b[33m1934\u001b[39m,\n",
            "    \u001b[33m1726\u001b[39m, \u001b[33m1998\u001b[39m, \u001b[33m1695\u001b[39m, \u001b[33m1859\u001b[39m, \u001b[33m2031\u001b[39m, \u001b[33m1765\u001b[39m, \u001b[33m1951\u001b[39m, \u001b[33m1977\u001b[39m, \u001b[33m1987\u001b[39m, \u001b[33m1851\u001b[39m,\n",
            "    \u001b[33m1599\u001b[39m, \u001b[33m1823\u001b[39m, \u001b[33m1616\u001b[39m, \u001b[33m1873\u001b[39m, \u001b[33m1651\u001b[39m, \u001b[33m2013\u001b[39m, \u001b[33m1742\u001b[39m, \u001b[33m1819\u001b[39m, \u001b[33m1659\u001b[39m, \u001b[33m2218\u001b[39m,\n",
            "    \u001b[33m1717\u001b[39m, \u001b[33m1852\u001b[39m, \u001b[33m2050\u001b[39m, \u001b[33m2023\u001b[39m, \u001b[33m1944\u001b[39m, \u001b[33m1970\u001b[39m, \u001b[33m1884\u001b[39m, \u001b[33m1764\u001b[39m, \u001b[33m1945\u001b[39m, \u001b[33m1741\u001b[39m,\n",
            "    \u001b[33m1881\u001b[39m, \u001b[33m1662\u001b[39m, \u001b[33m1830\u001b[39m, \u001b[33m1812\u001b[39m, \u001b[33m1720\u001b[39m, \u001b[33m1755\u001b[39m, \u001b[33m1879\u001b[39m, \u001b[33m1805\u001b[39m, \u001b[33m1734\u001b[39m, \u001b[33m1852\u001b[39m,\n",
            "    \u001b[33m1832\u001b[39m, \u001b[33m1806\u001b[39m, \u001b[33m1973\u001b[39m, \u001b[33m1677\u001b[39m, \u001b[33m1685\u001b[39m, \u001b[33m1797\u001b[39m, \u001b[33m1965\u001b[39m, \u001b[33m1991\u001b[39m, \u001b[33m1785\u001b[39m, \u001b[33m1777\u001b[39m,\n",
            "    \u001b[33m1886\u001b[39m, \u001b[33m1852\u001b[39m, \u001b[33m2005\u001b[39m, \u001b[33m1969\u001b[39m, \u001b[33m1784\u001b[39m, \u001b[33m2029\u001b[39m, \u001b[33m2231\u001b[39m, \u001b[33m2048\u001b[39m, \u001b[33m1985\u001b[39m, \u001b[33m1767\u001b[39m,\n",
            "    \u001b[33m1745\u001b[39m, \u001b[33m2006\u001b[39m, \u001b[33m1729\u001b[39m, \u001b[33m2314\u001b[39m, \u001b[33m1853\u001b[39m, \u001b[33m2028\u001b[39m, \u001b[33m1962\u001b[39m, \u001b[33m1702\u001b[39m, \u001b[33m2099\u001b[39m, \u001b[33m1835\u001b[39m,\n",
            "    \u001b[33m1760\u001b[39m, \u001b[33m2065\u001b[39m, \u001b[33m2026\u001b[39m, \u001b[33m1722\u001b[39m, \u001b[33m1855\u001b[39m, \u001b[33m1855\u001b[39m, \u001b[33m1899\u001b[39m, \u001b[33m1820\u001b[39m, \u001b[33m1719\u001b[39m, \u001b[33m1840\u001b[39m,\n",
            "    \u001b[33m1944\u001b[39m, \u001b[33m1710\u001b[39m, \u001b[33m1727\u001b[39m, \u001b[33m1815\u001b[39m, \u001b[33m1987\u001b[39m, \u001b[33m1786\u001b[39m, \u001b[33m1938\u001b[39m, \u001b[33m1847\u001b[39m, \u001b[33m1745\u001b[39m, \u001b[33m1772\u001b[39m,\n",
            "    ... 500 more items\n",
            "  ],\n",
            "  [\n",
            "    \u001b[33m1427\u001b[39m, \u001b[33m2039\u001b[39m, \u001b[33m2145\u001b[39m, \u001b[33m1654\u001b[39m, \u001b[33m1875\u001b[39m, \u001b[33m1681\u001b[39m, \u001b[33m1832\u001b[39m, \u001b[33m1741\u001b[39m, \u001b[33m2000\u001b[39m, \u001b[33m1903\u001b[39m,\n",
            "    \u001b[33m1830\u001b[39m, \u001b[33m1885\u001b[39m, \u001b[33m1818\u001b[39m, \u001b[33m1877\u001b[39m, \u001b[33m2169\u001b[39m, \u001b[33m1739\u001b[39m, \u001b[33m1985\u001b[39m, \u001b[33m1953\u001b[39m, \u001b[33m2018\u001b[39m, \u001b[33m1870\u001b[39m,\n",
            "    \u001b[33m1651\u001b[39m, \u001b[33m1763\u001b[39m, \u001b[33m1654\u001b[39m, \u001b[33m2038\u001b[39m, \u001b[33m1724\u001b[39m, \u001b[33m2012\u001b[39m, \u001b[33m1940\u001b[39m, \u001b[33m1898\u001b[39m, \u001b[33m1897\u001b[39m, \u001b[33m2017\u001b[39m,\n",
            "    \u001b[33m1729\u001b[39m, \u001b[33m1841\u001b[39m, \u001b[33m2100\u001b[39m, \u001b[33m1974\u001b[39m, \u001b[33m1940\u001b[39m, \u001b[33m1915\u001b[39m, \u001b[33m1959\u001b[39m, \u001b[33m1721\u001b[39m, \u001b[33m1993\u001b[39m, \u001b[33m1690\u001b[39m,\n",
            "    \u001b[33m2063\u001b[39m, \u001b[33m1552\u001b[39m, \u001b[33m1690\u001b[39m, \u001b[33m1640\u001b[39m, \u001b[33m1869\u001b[39m, \u001b[33m1966\u001b[39m, \u001b[33m1993\u001b[39m, \u001b[33m1889\u001b[39m, \u001b[33m1887\u001b[39m, \u001b[33m1815\u001b[39m,\n",
            "    \u001b[33m2047\u001b[39m, \u001b[33m1779\u001b[39m, \u001b[33m1980\u001b[39m, \u001b[33m1878\u001b[39m, \u001b[33m1504\u001b[39m, \u001b[33m2078\u001b[39m, \u001b[33m2106\u001b[39m, \u001b[33m1878\u001b[39m, \u001b[33m1960\u001b[39m, \u001b[33m1764\u001b[39m,\n",
            "    \u001b[33m1950\u001b[39m, \u001b[33m1946\u001b[39m, \u001b[33m1892\u001b[39m, \u001b[33m1856\u001b[39m, \u001b[33m1958\u001b[39m, \u001b[33m1843\u001b[39m, \u001b[33m2011\u001b[39m, \u001b[33m1993\u001b[39m, \u001b[33m1847\u001b[39m, \u001b[33m1995\u001b[39m,\n",
            "    \u001b[33m1780\u001b[39m, \u001b[33m1954\u001b[39m, \u001b[33m1873\u001b[39m, \u001b[33m2287\u001b[39m, \u001b[33m2003\u001b[39m, \u001b[33m1881\u001b[39m, \u001b[33m2029\u001b[39m, \u001b[33m1771\u001b[39m, \u001b[33m2095\u001b[39m, \u001b[33m1945\u001b[39m,\n",
            "    \u001b[33m1641\u001b[39m, \u001b[33m1833\u001b[39m, \u001b[33m2080\u001b[39m, \u001b[33m1755\u001b[39m, \u001b[33m2166\u001b[39m, \u001b[33m1779\u001b[39m, \u001b[33m1926\u001b[39m, \u001b[33m1882\u001b[39m, \u001b[33m1881\u001b[39m, \u001b[33m1843\u001b[39m,\n",
            "    \u001b[33m1904\u001b[39m, \u001b[33m1605\u001b[39m, \u001b[33m1773\u001b[39m, \u001b[33m1593\u001b[39m, \u001b[33m2028\u001b[39m, \u001b[33m1724\u001b[39m, \u001b[33m1987\u001b[39m, \u001b[33m2120\u001b[39m, \u001b[33m1789\u001b[39m, \u001b[33m1699\u001b[39m,\n",
            "    ... 500 more items\n",
            "  ],\n",
            "  [\n",
            "    \u001b[33m1675\u001b[39m, \u001b[33m2238\u001b[39m, \u001b[33m2320\u001b[39m, \u001b[33m2000\u001b[39m, \u001b[33m2226\u001b[39m, \u001b[33m2028\u001b[39m, \u001b[33m2200\u001b[39m, \u001b[33m2051\u001b[39m, \u001b[33m2175\u001b[39m, \u001b[33m2253\u001b[39m,\n",
            "    \u001b[33m2047\u001b[39m, \u001b[33m2137\u001b[39m, \u001b[33m2141\u001b[39m, \u001b[33m2081\u001b[39m, \u001b[33m2228\u001b[39m, \u001b[33m1928\u001b[39m, \u001b[33m2267\u001b[39m, \u001b[33m2117\u001b[39m, \u001b[33m2310\u001b[39m, \u001b[33m2105\u001b[39m,\n",
            "    \u001b[33m1845\u001b[39m, \u001b[33m2087\u001b[39m, \u001b[33m1960\u001b[39m, \u001b[33m2337\u001b[39m, \u001b[33m2013\u001b[39m, \u001b[33m2043\u001b[39m, \u001b[33m1874\u001b[39m, \u001b[33m2182\u001b[39m, \u001b[33m2125\u001b[39m, \u001b[33m2510\u001b[39m,\n",
            "    \u001b[33m2027\u001b[39m, \u001b[33m2073\u001b[39m, \u001b[33m2231\u001b[39m, \u001b[33m2254\u001b[39m, \u001b[33m2172\u001b[39m, \u001b[33m2175\u001b[39m, \u001b[33m2183\u001b[39m, \u001b[33m1980\u001b[39m, \u001b[33m2136\u001b[39m, \u001b[33m2000\u001b[39m,\n",
            "    \u001b[33m2351\u001b[39m, \u001b[33m1765\u001b[39m, \u001b[33m1820\u001b[39m, \u001b[33m2028\u001b[39m, \u001b[33m1965\u001b[39m, \u001b[33m2189\u001b[39m, \u001b[33m2220\u001b[39m, \u001b[33m2171\u001b[39m, \u001b[33m1995\u001b[39m, \u001b[33m2132\u001b[39m,\n",
            "    \u001b[33m2073\u001b[39m, \u001b[33m1995\u001b[39m, \u001b[33m2283\u001b[39m, \u001b[33m1869\u001b[39m, \u001b[33m2049\u001b[39m, \u001b[33m2264\u001b[39m, \u001b[33m2265\u001b[39m, \u001b[33m2163\u001b[39m, \u001b[33m2110\u001b[39m, \u001b[33m2098\u001b[39m,\n",
            "    \u001b[33m2267\u001b[39m, \u001b[33m2340\u001b[39m, \u001b[33m2119\u001b[39m, \u001b[33m2213\u001b[39m, \u001b[33m2106\u001b[39m, \u001b[33m2326\u001b[39m, \u001b[33m2208\u001b[39m, \u001b[33m2294\u001b[39m, \u001b[33m2266\u001b[39m, \u001b[33m2123\u001b[39m,\n",
            "    \u001b[33m2065\u001b[39m, \u001b[33m2219\u001b[39m, \u001b[33m1962\u001b[39m, \u001b[33m2439\u001b[39m, \u001b[33m2231\u001b[39m, \u001b[33m2221\u001b[39m, \u001b[33m2044\u001b[39m, \u001b[33m2215\u001b[39m, \u001b[33m2404\u001b[39m, \u001b[33m2131\u001b[39m,\n",
            "    \u001b[33m2016\u001b[39m, \u001b[33m2328\u001b[39m, \u001b[33m2383\u001b[39m, \u001b[33m2086\u001b[39m, \u001b[33m2154\u001b[39m, \u001b[33m2126\u001b[39m, \u001b[33m2308\u001b[39m, \u001b[33m2142\u001b[39m, \u001b[33m2091\u001b[39m, \u001b[33m2078\u001b[39m,\n",
            "    \u001b[33m2345\u001b[39m, \u001b[33m1905\u001b[39m, \u001b[33m2075\u001b[39m, \u001b[33m1892\u001b[39m, \u001b[33m2238\u001b[39m, \u001b[33m2240\u001b[39m, \u001b[33m2131\u001b[39m, \u001b[33m2112\u001b[39m, \u001b[33m2065\u001b[39m, \u001b[33m2154\u001b[39m,\n",
            "    ... 500 more items\n",
            "  ],\n",
            "  [\n",
            "    \u001b[33m1761\u001b[39m, \u001b[33m2586\u001b[39m, \u001b[33m2311\u001b[39m, \u001b[33m2250\u001b[39m, \u001b[33m2304\u001b[39m, \u001b[33m2056\u001b[39m, \u001b[33m2450\u001b[39m, \u001b[33m2049\u001b[39m, \u001b[33m2116\u001b[39m, \u001b[33m2471\u001b[39m,\n",
            "    \u001b[33m2198\u001b[39m, \u001b[33m2293\u001b[39m, \u001b[33m2267\u001b[39m, \u001b[33m2151\u001b[39m, \u001b[33m2391\u001b[39m, \u001b[33m2134\u001b[39m, \u001b[33m2386\u001b[39m, \u001b[33m2072\u001b[39m, \u001b[33m2229\u001b[39m, \u001b[33m2264\u001b[39m,\n",
            "    \u001b[33m2060\u001b[39m, \u001b[33m2240\u001b[39m, \u001b[33m2046\u001b[39m, \u001b[33m2407\u001b[39m, \u001b[33m2240\u001b[39m, \u001b[33m2502\u001b[39m, \u001b[33m2169\u001b[39m, \u001b[33m2274\u001b[39m, \u001b[33m2156\u001b[39m, \u001b[33m2573\u001b[39m,\n",
            "    \u001b[33m2195\u001b[39m, \u001b[33m2234\u001b[39m, \u001b[33m2543\u001b[39m, \u001b[33m2305\u001b[39m, \u001b[33m2335\u001b[39m, \u001b[33m2332\u001b[39m, \u001b[33m2348\u001b[39m, \u001b[33m2091\u001b[39m, \u001b[33m2496\u001b[39m, \u001b[33m2083\u001b[39m,\n",
            "    \u001b[33m2576\u001b[39m, \u001b[33m2096\u001b[39m, \u001b[33m2123\u001b[39m, \u001b[33m2035\u001b[39m, \u001b[33m2119\u001b[39m, \u001b[33m2321\u001b[39m, \u001b[33m2170\u001b[39m, \u001b[33m2395\u001b[39m, \u001b[33m2036\u001b[39m, \u001b[33m2173\u001b[39m,\n",
            "    \u001b[33m2456\u001b[39m, \u001b[33m2199\u001b[39m, \u001b[33m2363\u001b[39m, \u001b[33m2089\u001b[39m, \u001b[33m2114\u001b[39m, \u001b[33m2364\u001b[39m, \u001b[33m2345\u001b[39m, \u001b[33m2225\u001b[39m, \u001b[33m2334\u001b[39m, \u001b[33m2252\u001b[39m,\n",
            "    \u001b[33m2514\u001b[39m, \u001b[33m2437\u001b[39m, \u001b[33m2252\u001b[39m, \u001b[33m2155\u001b[39m, \u001b[33m2319\u001b[39m, \u001b[33m2414\u001b[39m, \u001b[33m2385\u001b[39m, \u001b[33m2559\u001b[39m, \u001b[33m2451\u001b[39m, \u001b[33m2165\u001b[39m,\n",
            "    \u001b[33m2397\u001b[39m, \u001b[33m2374\u001b[39m, \u001b[33m2183\u001b[39m, \u001b[33m2668\u001b[39m, \u001b[33m2272\u001b[39m, \u001b[33m2325\u001b[39m, \u001b[33m2281\u001b[39m, \u001b[33m2238\u001b[39m, \u001b[33m2325\u001b[39m, \u001b[33m2351\u001b[39m,\n",
            "    \u001b[33m2211\u001b[39m, \u001b[33m2495\u001b[39m, \u001b[33m2425\u001b[39m, \u001b[33m2127\u001b[39m, \u001b[33m2322\u001b[39m, \u001b[33m2372\u001b[39m, \u001b[33m2397\u001b[39m, \u001b[33m2354\u001b[39m, \u001b[33m2182\u001b[39m, \u001b[33m2290\u001b[39m,\n",
            "    \u001b[33m2636\u001b[39m, \u001b[33m2031\u001b[39m, \u001b[33m2117\u001b[39m, \u001b[33m2006\u001b[39m, \u001b[33m2397\u001b[39m, \u001b[33m2320\u001b[39m, \u001b[33m2290\u001b[39m, \u001b[33m2285\u001b[39m, \u001b[33m2136\u001b[39m, \u001b[33m2144\u001b[39m,\n",
            "    ... 500 more items\n",
            "  ],\n",
            "  [\n",
            "    \u001b[33m1755\u001b[39m, \u001b[33m2395\u001b[39m, \u001b[33m2375\u001b[39m, \u001b[33m2035\u001b[39m, \u001b[33m2279\u001b[39m, \u001b[33m2036\u001b[39m, \u001b[33m2285\u001b[39m, \u001b[33m2037\u001b[39m, \u001b[33m2174\u001b[39m, \u001b[33m2241\u001b[39m,\n",
            "    \u001b[33m2131\u001b[39m, \u001b[33m2376\u001b[39m, \u001b[33m2183\u001b[39m, \u001b[33m2001\u001b[39m, \u001b[33m2272\u001b[39m, \u001b[33m1946\u001b[39m, \u001b[33m2277\u001b[39m, \u001b[33m2256\u001b[39m, \u001b[33m2313\u001b[39m, \u001b[33m2175\u001b[39m,\n",
            "    \u001b[33m1977\u001b[39m, \u001b[33m2274\u001b[39m, \u001b[33m1952\u001b[39m, \u001b[33m2348\u001b[39m, \u001b[33m2001\u001b[39m, \u001b[33m2334\u001b[39m, \u001b[33m2099\u001b[39m, \u001b[33m2325\u001b[39m, \u001b[33m2108\u001b[39m, \u001b[33m2559\u001b[39m,\n",
            "    \u001b[33m2093\u001b[39m, \u001b[33m2212\u001b[39m, \u001b[33m2384\u001b[39m, \u001b[33m2356\u001b[39m, \u001b[33m2192\u001b[39m, \u001b[33m2284\u001b[39m, \u001b[33m2306\u001b[39m, \u001b[33m2034\u001b[39m, \u001b[33m2309\u001b[39m, \u001b[33m2057\u001b[39m,\n",
            "    \u001b[33m2416\u001b[39m, \u001b[33m1807\u001b[39m, \u001b[33m2051\u001b[39m, \u001b[33m2086\u001b[39m, \u001b[33m2065\u001b[39m, \u001b[33m2023\u001b[39m, \u001b[33m2160\u001b[39m, \u001b[33m2284\u001b[39m, \u001b[33m2213\u001b[39m, \u001b[33m2012\u001b[39m,\n",
            "    \u001b[33m2232\u001b[39m, \u001b[33m2197\u001b[39m, \u001b[33m2445\u001b[39m, \u001b[33m2161\u001b[39m, \u001b[33m2061\u001b[39m, \u001b[33m2265\u001b[39m, \u001b[33m2330\u001b[39m, \u001b[33m2275\u001b[39m, \u001b[33m2190\u001b[39m, \u001b[33m2175\u001b[39m,\n",
            "    \u001b[33m2262\u001b[39m, \u001b[33m2358\u001b[39m, \u001b[33m2218\u001b[39m, \u001b[33m2288\u001b[39m, \u001b[33m2410\u001b[39m, \u001b[33m2342\u001b[39m, \u001b[33m2357\u001b[39m, \u001b[33m2262\u001b[39m, \u001b[33m2385\u001b[39m, \u001b[33m2348\u001b[39m,\n",
            "    \u001b[33m2221\u001b[39m, \u001b[33m2460\u001b[39m, \u001b[33m2182\u001b[39m, \u001b[33m2516\u001b[39m, \u001b[33m2251\u001b[39m, \u001b[33m2285\u001b[39m, \u001b[33m2084\u001b[39m, \u001b[33m2029\u001b[39m, \u001b[33m2342\u001b[39m, \u001b[33m2147\u001b[39m,\n",
            "    \u001b[33m1955\u001b[39m, \u001b[33m2465\u001b[39m, \u001b[33m2394\u001b[39m, \u001b[33m2066\u001b[39m, \u001b[33m2324\u001b[39m, \u001b[33m2263\u001b[39m, \u001b[33m2433\u001b[39m, \u001b[33m2397\u001b[39m, \u001b[33m2110\u001b[39m, \u001b[33m2272\u001b[39m,\n",
            "    \u001b[33m2312\u001b[39m, \u001b[33m1938\u001b[39m, \u001b[33m2012\u001b[39m, \u001b[33m2068\u001b[39m, \u001b[33m2468\u001b[39m, \u001b[33m2248\u001b[39m, \u001b[33m2213\u001b[39m, \u001b[33m2448\u001b[39m, \u001b[33m2174\u001b[39m, \u001b[33m2140\u001b[39m,\n",
            "    ... 500 more items\n",
            "  ],\n",
            "  [\n",
            "    \u001b[33m1687\u001b[39m, \u001b[33m2071\u001b[39m, \u001b[33m2080\u001b[39m, \u001b[33m1858\u001b[39m, \u001b[33m1911\u001b[39m, \u001b[33m1723\u001b[39m, \u001b[33m2117\u001b[39m, \u001b[33m1925\u001b[39m, \u001b[33m1992\u001b[39m, \u001b[33m2060\u001b[39m,\n",
            "    \u001b[33m1890\u001b[39m, \u001b[33m2082\u001b[39m, \u001b[33m1970\u001b[39m, \u001b[33m2002\u001b[39m, \u001b[33m2161\u001b[39m, \u001b[33m1884\u001b[39m, \u001b[33m1976\u001b[39m, \u001b[33m1941\u001b[39m, \u001b[33m2103\u001b[39m, \u001b[33m2045\u001b[39m,\n",
            "    \u001b[33m1732\u001b[39m, \u001b[33m1993\u001b[39m, \u001b[33m1810\u001b[39m, \u001b[33m2096\u001b[39m, \u001b[33m2020\u001b[39m, \u001b[33m2050\u001b[39m, \u001b[33m1946\u001b[39m, \u001b[33m2139\u001b[39m, \u001b[33m2098\u001b[39m, \u001b[33m2228\u001b[39m,\n",
            "    \u001b[33m2056\u001b[39m, \u001b[33m2061\u001b[39m, \u001b[33m2134\u001b[39m, \u001b[33m1915\u001b[39m, \u001b[33m2059\u001b[39m, \u001b[33m1754\u001b[39m, \u001b[33m2035\u001b[39m, \u001b[33m1952\u001b[39m, \u001b[33m2203\u001b[39m, \u001b[33m1898\u001b[39m,\n",
            "    \u001b[33m2062\u001b[39m, \u001b[33m1774\u001b[39m, \u001b[33m1746\u001b[39m, \u001b[33m1909\u001b[39m, \u001b[33m1762\u001b[39m, \u001b[33m1877\u001b[39m, \u001b[33m1929\u001b[39m, \u001b[33m1903\u001b[39m, \u001b[33m1788\u001b[39m, \u001b[33m1948\u001b[39m,\n",
            "    \u001b[33m1997\u001b[39m, \u001b[33m1909\u001b[39m, \u001b[33m2039\u001b[39m, \u001b[33m1858\u001b[39m, \u001b[33m1808\u001b[39m, \u001b[33m2233\u001b[39m, \u001b[33m2312\u001b[39m, \u001b[33m1988\u001b[39m, \u001b[33m2092\u001b[39m, \u001b[33m1949\u001b[39m,\n",
            "    \u001b[33m2144\u001b[39m, \u001b[33m2021\u001b[39m, \u001b[33m1899\u001b[39m, \u001b[33m1913\u001b[39m, \u001b[33m2051\u001b[39m, \u001b[33m2122\u001b[39m, \u001b[33m2153\u001b[39m, \u001b[33m2195\u001b[39m, \u001b[33m2011\u001b[39m, \u001b[33m2031\u001b[39m,\n",
            "    \u001b[33m1971\u001b[39m, \u001b[33m2176\u001b[39m, \u001b[33m1851\u001b[39m, \u001b[33m2319\u001b[39m, \u001b[33m2023\u001b[39m, \u001b[33m1992\u001b[39m, \u001b[33m1987\u001b[39m, \u001b[33m1910\u001b[39m, \u001b[33m2097\u001b[39m, \u001b[33m2071\u001b[39m,\n",
            "    \u001b[33m1829\u001b[39m, \u001b[33m2169\u001b[39m, \u001b[33m2160\u001b[39m, \u001b[33m1946\u001b[39m, \u001b[33m2045\u001b[39m, \u001b[33m1963\u001b[39m, \u001b[33m2142\u001b[39m, \u001b[33m2113\u001b[39m, \u001b[33m1863\u001b[39m, \u001b[33m1897\u001b[39m,\n",
            "    \u001b[33m2124\u001b[39m, \u001b[33m1871\u001b[39m, \u001b[33m1755\u001b[39m, \u001b[33m1825\u001b[39m, \u001b[33m2193\u001b[39m, \u001b[33m1992\u001b[39m, \u001b[33m1846\u001b[39m, \u001b[33m2059\u001b[39m, \u001b[33m1911\u001b[39m, \u001b[33m1959\u001b[39m,\n",
            "    ... 500 more items\n",
            "  ],\n",
            "  [\n",
            "    \u001b[33m1624\u001b[39m, \u001b[33m2138\u001b[39m, \u001b[33m2128\u001b[39m, \u001b[33m1897\u001b[39m, \u001b[33m2018\u001b[39m, \u001b[33m1879\u001b[39m, \u001b[33m1935\u001b[39m, \u001b[33m1765\u001b[39m, \u001b[33m2105\u001b[39m, \u001b[33m2201\u001b[39m,\n",
            "    \u001b[33m2044\u001b[39m, \u001b[33m2184\u001b[39m, \u001b[33m2044\u001b[39m, \u001b[33m1966\u001b[39m, \u001b[33m2133\u001b[39m, \u001b[33m1749\u001b[39m, \u001b[33m1930\u001b[39m, \u001b[33m1970\u001b[39m, \u001b[33m2105\u001b[39m, \u001b[33m2029\u001b[39m,\n",
            "    \u001b[33m1884\u001b[39m, \u001b[33m1958\u001b[39m, \u001b[33m1954\u001b[39m, \u001b[33m2070\u001b[39m, \u001b[33m1999\u001b[39m, \u001b[33m2132\u001b[39m, \u001b[33m1891\u001b[39m, \u001b[33m2069\u001b[39m, \u001b[33m1870\u001b[39m, \u001b[33m2174\u001b[39m,\n",
            "    \u001b[33m1923\u001b[39m, \u001b[33m1868\u001b[39m, \u001b[33m2124\u001b[39m, \u001b[33m2038\u001b[39m, \u001b[33m2022\u001b[39m, \u001b[33m2071\u001b[39m, \u001b[33m2125\u001b[39m, \u001b[33m1918\u001b[39m, \u001b[33m1957\u001b[39m, \u001b[33m1697\u001b[39m,\n",
            "    \u001b[33m1969\u001b[39m, \u001b[33m1659\u001b[39m, \u001b[33m1674\u001b[39m, \u001b[33m1968\u001b[39m, \u001b[33m1883\u001b[39m, \u001b[33m2036\u001b[39m, \u001b[33m1957\u001b[39m, \u001b[33m2104\u001b[39m, \u001b[33m1964\u001b[39m, \u001b[33m1846\u001b[39m,\n",
            "    \u001b[33m2152\u001b[39m, \u001b[33m1876\u001b[39m, \u001b[33m2151\u001b[39m, \u001b[33m1878\u001b[39m, \u001b[33m1752\u001b[39m, \u001b[33m2094\u001b[39m, \u001b[33m2227\u001b[39m, \u001b[33m2069\u001b[39m, \u001b[33m2044\u001b[39m, \u001b[33m1897\u001b[39m,\n",
            "    \u001b[33m2132\u001b[39m, \u001b[33m2058\u001b[39m, \u001b[33m1999\u001b[39m, \u001b[33m1945\u001b[39m, \u001b[33m2011\u001b[39m, \u001b[33m1981\u001b[39m, \u001b[33m1938\u001b[39m, \u001b[33m2160\u001b[39m, \u001b[33m1936\u001b[39m, \u001b[33m1905\u001b[39m,\n",
            "    \u001b[33m2089\u001b[39m, \u001b[33m2196\u001b[39m, \u001b[33m1958\u001b[39m, \u001b[33m2231\u001b[39m, \u001b[33m1944\u001b[39m, \u001b[33m2062\u001b[39m, \u001b[33m1995\u001b[39m, \u001b[33m1962\u001b[39m, \u001b[33m2084\u001b[39m, \u001b[33m1799\u001b[39m,\n",
            "    \u001b[33m1760\u001b[39m, \u001b[33m2142\u001b[39m, \u001b[33m2216\u001b[39m, \u001b[33m1903\u001b[39m, \u001b[33m2106\u001b[39m, \u001b[33m1930\u001b[39m, \u001b[33m2123\u001b[39m, \u001b[33m2104\u001b[39m, \u001b[33m1903\u001b[39m, \u001b[33m1995\u001b[39m,\n",
            "    \u001b[33m2216\u001b[39m, \u001b[33m1834\u001b[39m, \u001b[33m1998\u001b[39m, \u001b[33m1800\u001b[39m, \u001b[33m2126\u001b[39m, \u001b[33m2093\u001b[39m, \u001b[33m1974\u001b[39m, \u001b[33m1914\u001b[39m, \u001b[33m1841\u001b[39m, \u001b[33m1928\u001b[39m,\n",
            "    ... 500 more items\n",
            "  ],\n",
            "  [\n",
            "    \u001b[33m1810\u001b[39m, \u001b[33m2289\u001b[39m, \u001b[33m2240\u001b[39m, \u001b[33m1846\u001b[39m, \u001b[33m2044\u001b[39m, \u001b[33m1927\u001b[39m, \u001b[33m2123\u001b[39m, \u001b[33m2088\u001b[39m, \u001b[33m2092\u001b[39m, \u001b[33m2241\u001b[39m,\n",
            "    \u001b[33m2076\u001b[39m, \u001b[33m2199\u001b[39m, \u001b[33m1994\u001b[39m, \u001b[33m2260\u001b[39m, \u001b[33m2265\u001b[39m, \u001b[33m1974\u001b[39m, \u001b[33m2157\u001b[39m, \u001b[33m2025\u001b[39m, \u001b[33m2214\u001b[39m, \u001b[33m2181\u001b[39m,\n",
            "    \u001b[33m1878\u001b[39m, \u001b[33m2108\u001b[39m, \u001b[33m1994\u001b[39m, \u001b[33m2308\u001b[39m, \u001b[33m2262\u001b[39m, \u001b[33m2161\u001b[39m, \u001b[33m2007\u001b[39m, \u001b[33m2237\u001b[39m, \u001b[33m2162\u001b[39m, \u001b[33m2387\u001b[39m,\n",
            "    \u001b[33m1992\u001b[39m, \u001b[33m2030\u001b[39m, \u001b[33m2274\u001b[39m, \u001b[33m2262\u001b[39m, \u001b[33m2199\u001b[39m, \u001b[33m2198\u001b[39m, \u001b[33m2208\u001b[39m, \u001b[33m2188\u001b[39m, \u001b[33m2261\u001b[39m, \u001b[33m1930\u001b[39m,\n",
            "    \u001b[33m2267\u001b[39m, \u001b[33m1946\u001b[39m, \u001b[33m1927\u001b[39m, \u001b[33m2109\u001b[39m, \u001b[33m2151\u001b[39m, \u001b[33m2252\u001b[39m, \u001b[33m2218\u001b[39m, \u001b[33m2291\u001b[39m, \u001b[33m2014\u001b[39m, \u001b[33m2123\u001b[39m,\n",
            "    \u001b[33m2421\u001b[39m, \u001b[33m2008\u001b[39m, \u001b[33m2316\u001b[39m, \u001b[33m2098\u001b[39m, \u001b[33m2024\u001b[39m, \u001b[33m2234\u001b[39m, \u001b[33m2161\u001b[39m, \u001b[33m2304\u001b[39m, \u001b[33m2217\u001b[39m, \u001b[33m2048\u001b[39m,\n",
            "    \u001b[33m2226\u001b[39m, \u001b[33m2130\u001b[39m, \u001b[33m2262\u001b[39m, \u001b[33m2157\u001b[39m, \u001b[33m2314\u001b[39m, \u001b[33m2144\u001b[39m, \u001b[33m2212\u001b[39m, \u001b[33m2413\u001b[39m, \u001b[33m2217\u001b[39m, \u001b[33m2050\u001b[39m,\n",
            "    \u001b[33m2201\u001b[39m, \u001b[33m2330\u001b[39m, \u001b[33m1978\u001b[39m, \u001b[33m2490\u001b[39m, \u001b[33m2105\u001b[39m, \u001b[33m2173\u001b[39m, \u001b[33m2273\u001b[39m, \u001b[33m1961\u001b[39m, \u001b[33m2275\u001b[39m, \u001b[33m2112\u001b[39m,\n",
            "    \u001b[33m2094\u001b[39m, \u001b[33m2267\u001b[39m, \u001b[33m2338\u001b[39m, \u001b[33m2102\u001b[39m, \u001b[33m2239\u001b[39m, \u001b[33m2203\u001b[39m, \u001b[33m2238\u001b[39m, \u001b[33m2259\u001b[39m, \u001b[33m2056\u001b[39m, \u001b[33m2236\u001b[39m,\n",
            "    \u001b[33m2163\u001b[39m, \u001b[33m1959\u001b[39m, \u001b[33m2030\u001b[39m, \u001b[33m1813\u001b[39m, \u001b[33m2437\u001b[39m, \u001b[33m2069\u001b[39m, \u001b[33m2052\u001b[39m, \u001b[33m2130\u001b[39m, \u001b[33m2116\u001b[39m, \u001b[33m1951\u001b[39m,\n",
            "    ... 500 more items\n",
            "  ],\n",
            "  [\n",
            "    \u001b[33m1857\u001b[39m, \u001b[33m2371\u001b[39m, \u001b[33m2380\u001b[39m, \u001b[33m2028\u001b[39m, \u001b[33m2213\u001b[39m, \u001b[33m2091\u001b[39m, \u001b[33m2419\u001b[39m, \u001b[33m2241\u001b[39m, \u001b[33m2271\u001b[39m, \u001b[33m2318\u001b[39m,\n",
            "    \u001b[33m2281\u001b[39m, \u001b[33m2522\u001b[39m, \u001b[33m2095\u001b[39m, \u001b[33m2328\u001b[39m, \u001b[33m2431\u001b[39m, \u001b[33m2077\u001b[39m, \u001b[33m2301\u001b[39m, \u001b[33m2134\u001b[39m, \u001b[33m2279\u001b[39m, \u001b[33m2202\u001b[39m,\n",
            "    \u001b[33m1938\u001b[39m, \u001b[33m2357\u001b[39m, \u001b[33m2085\u001b[39m, \u001b[33m2429\u001b[39m, \u001b[33m2171\u001b[39m, \u001b[33m2418\u001b[39m, \u001b[33m2178\u001b[39m, \u001b[33m2364\u001b[39m, \u001b[33m2268\u001b[39m, \u001b[33m2595\u001b[39m,\n",
            "    \u001b[33m2204\u001b[39m, \u001b[33m2200\u001b[39m, \u001b[33m2520\u001b[39m, \u001b[33m2384\u001b[39m, \u001b[33m2301\u001b[39m, \u001b[33m2353\u001b[39m, \u001b[33m2389\u001b[39m, \u001b[33m2195\u001b[39m, \u001b[33m2361\u001b[39m, \u001b[33m2079\u001b[39m,\n",
            "    \u001b[33m2398\u001b[39m, \u001b[33m1955\u001b[39m, \u001b[33m2049\u001b[39m, \u001b[33m2028\u001b[39m, \u001b[33m2135\u001b[39m, \u001b[33m2179\u001b[39m, \u001b[33m2323\u001b[39m, \u001b[33m2337\u001b[39m, \u001b[33m2105\u001b[39m, \u001b[33m2135\u001b[39m,\n",
            "    \u001b[33m2479\u001b[39m, \u001b[33m2258\u001b[39m, \u001b[33m2274\u001b[39m, \u001b[33m2027\u001b[39m, \u001b[33m2110\u001b[39m, \u001b[33m2398\u001b[39m, \u001b[33m2416\u001b[39m, \u001b[33m2397\u001b[39m, \u001b[33m2412\u001b[39m, \u001b[33m2183\u001b[39m,\n",
            "    \u001b[33m2491\u001b[39m, \u001b[33m2371\u001b[39m, \u001b[33m2138\u001b[39m, \u001b[33m2371\u001b[39m, \u001b[33m2292\u001b[39m, \u001b[33m2449\u001b[39m, \u001b[33m2418\u001b[39m, \u001b[33m2547\u001b[39m, \u001b[33m2447\u001b[39m, \u001b[33m2307\u001b[39m,\n",
            "    \u001b[33m2329\u001b[39m, \u001b[33m2445\u001b[39m, \u001b[33m1987\u001b[39m, \u001b[33m2680\u001b[39m, \u001b[33m2389\u001b[39m, \u001b[33m2307\u001b[39m, \u001b[33m2285\u001b[39m, \u001b[33m2137\u001b[39m, \u001b[33m2482\u001b[39m, \u001b[33m2235\u001b[39m,\n",
            "    \u001b[33m2065\u001b[39m, \u001b[33m2534\u001b[39m, \u001b[33m2464\u001b[39m, \u001b[33m2249\u001b[39m, \u001b[33m2318\u001b[39m, \u001b[33m2391\u001b[39m, \u001b[33m2365\u001b[39m, \u001b[33m2411\u001b[39m, \u001b[33m2339\u001b[39m, \u001b[33m2231\u001b[39m,\n",
            "    \u001b[33m2477\u001b[39m, \u001b[33m2202\u001b[39m, \u001b[33m2036\u001b[39m, \u001b[33m2038\u001b[39m, \u001b[33m2475\u001b[39m, \u001b[33m2326\u001b[39m, \u001b[33m2329\u001b[39m, \u001b[33m2322\u001b[39m, \u001b[33m2128\u001b[39m, \u001b[33m2113\u001b[39m,\n",
            "    ... 500 more items\n",
            "  ],\n",
            "  [\n",
            "    \u001b[33m1599\u001b[39m, \u001b[33m2266\u001b[39m, \u001b[33m2383\u001b[39m, \u001b[33m2081\u001b[39m, \u001b[33m2257\u001b[39m, \u001b[33m1938\u001b[39m, \u001b[33m2305\u001b[39m, \u001b[33m2081\u001b[39m, \u001b[33m2190\u001b[39m, \u001b[33m2230\u001b[39m,\n",
            "    \u001b[33m2215\u001b[39m, \u001b[33m2254\u001b[39m, \u001b[33m2202\u001b[39m, \u001b[33m2163\u001b[39m, \u001b[33m2325\u001b[39m, \u001b[33m1893\u001b[39m, \u001b[33m2360\u001b[39m, \u001b[33m2218\u001b[39m, \u001b[33m2242\u001b[39m, \u001b[33m2106\u001b[39m,\n",
            "    \u001b[33m1936\u001b[39m, \u001b[33m2110\u001b[39m, \u001b[33m2039\u001b[39m, \u001b[33m2436\u001b[39m, \u001b[33m1971\u001b[39m, \u001b[33m2501\u001b[39m, \u001b[33m2089\u001b[39m, \u001b[33m2114\u001b[39m, \u001b[33m2079\u001b[39m, \u001b[33m2448\u001b[39m,\n",
            "    \u001b[33m2102\u001b[39m, \u001b[33m1999\u001b[39m, \u001b[33m2336\u001b[39m, \u001b[33m2315\u001b[39m, \u001b[33m2257\u001b[39m, \u001b[33m2260\u001b[39m, \u001b[33m2385\u001b[39m, \u001b[33m2012\u001b[39m, \u001b[33m2169\u001b[39m, \u001b[33m1996\u001b[39m,\n",
            "    \u001b[33m2268\u001b[39m, \u001b[33m1924\u001b[39m, \u001b[33m2025\u001b[39m, \u001b[33m1986\u001b[39m, \u001b[33m2004\u001b[39m, \u001b[33m2158\u001b[39m, \u001b[33m2306\u001b[39m, \u001b[33m2154\u001b[39m, \u001b[33m2019\u001b[39m, \u001b[33m2080\u001b[39m,\n",
            "    \u001b[33m2302\u001b[39m, \u001b[33m2177\u001b[39m, \u001b[33m2228\u001b[39m, \u001b[33m1945\u001b[39m, \u001b[33m1969\u001b[39m, \u001b[33m2336\u001b[39m, \u001b[33m2417\u001b[39m, \u001b[33m2236\u001b[39m, \u001b[33m2278\u001b[39m, \u001b[33m2145\u001b[39m,\n",
            "    \u001b[33m2242\u001b[39m, \u001b[33m2238\u001b[39m, \u001b[33m2262\u001b[39m, \u001b[33m2158\u001b[39m, \u001b[33m2201\u001b[39m, \u001b[33m2342\u001b[39m, \u001b[33m2345\u001b[39m, \u001b[33m2353\u001b[39m, \u001b[33m2320\u001b[39m, \u001b[33m2160\u001b[39m,\n",
            "    \u001b[33m2150\u001b[39m, \u001b[33m2333\u001b[39m, \u001b[33m1921\u001b[39m, \u001b[33m2425\u001b[39m, \u001b[33m2198\u001b[39m, \u001b[33m2361\u001b[39m, \u001b[33m1953\u001b[39m, \u001b[33m2179\u001b[39m, \u001b[33m2559\u001b[39m, \u001b[33m2053\u001b[39m,\n",
            "    \u001b[33m2076\u001b[39m, \u001b[33m2331\u001b[39m, \u001b[33m2435\u001b[39m, \u001b[33m1874\u001b[39m, \u001b[33m2264\u001b[39m, \u001b[33m2298\u001b[39m, \u001b[33m2167\u001b[39m, \u001b[33m2248\u001b[39m, \u001b[33m2055\u001b[39m, \u001b[33m2090\u001b[39m,\n",
            "    \u001b[33m2209\u001b[39m, \u001b[33m2016\u001b[39m, \u001b[33m2037\u001b[39m, \u001b[33m2107\u001b[39m, \u001b[33m2391\u001b[39m, \u001b[33m2228\u001b[39m, \u001b[33m2209\u001b[39m, \u001b[33m2327\u001b[39m, \u001b[33m1992\u001b[39m, \u001b[33m1893\u001b[39m,\n",
            "    ... 500 more items\n",
            "  ],\n",
            "  [\n",
            "    \u001b[33m1629\u001b[39m, \u001b[33m2256\u001b[39m, \u001b[33m2094\u001b[39m, \u001b[33m1804\u001b[39m, \u001b[33m2145\u001b[39m, \u001b[33m1829\u001b[39m, \u001b[33m2097\u001b[39m, \u001b[33m1811\u001b[39m, \u001b[33m1920\u001b[39m, \u001b[33m1963\u001b[39m,\n",
            "    \u001b[33m1877\u001b[39m, \u001b[33m2138\u001b[39m, \u001b[33m1935\u001b[39m, \u001b[33m2055\u001b[39m, \u001b[33m2181\u001b[39m, \u001b[33m1789\u001b[39m, \u001b[33m2100\u001b[39m, \u001b[33m2045\u001b[39m, \u001b[33m2060\u001b[39m, \u001b[33m1886\u001b[39m,\n",
            "    \u001b[33m1689\u001b[39m, \u001b[33m1943\u001b[39m, \u001b[33m1858\u001b[39m, \u001b[33m2214\u001b[39m, \u001b[33m1905\u001b[39m, \u001b[33m2114\u001b[39m, \u001b[33m1948\u001b[39m, \u001b[33m2129\u001b[39m, \u001b[33m2042\u001b[39m, \u001b[33m2418\u001b[39m,\n",
            "    \u001b[33m2026\u001b[39m, \u001b[33m1988\u001b[39m, \u001b[33m2149\u001b[39m, \u001b[33m2300\u001b[39m, \u001b[33m2010\u001b[39m, \u001b[33m2083\u001b[39m, \u001b[33m2195\u001b[39m, \u001b[33m1965\u001b[39m, \u001b[33m2084\u001b[39m, \u001b[33m1939\u001b[39m,\n",
            "    \u001b[33m2182\u001b[39m, \u001b[33m1833\u001b[39m, \u001b[33m1826\u001b[39m, \u001b[33m1989\u001b[39m, \u001b[33m1926\u001b[39m, \u001b[33m2026\u001b[39m, \u001b[33m2083\u001b[39m, \u001b[33m2188\u001b[39m, \u001b[33m1866\u001b[39m, \u001b[33m2022\u001b[39m,\n",
            "    \u001b[33m2166\u001b[39m, \u001b[33m1916\u001b[39m, \u001b[33m2151\u001b[39m, \u001b[33m1853\u001b[39m, \u001b[33m1969\u001b[39m, \u001b[33m2121\u001b[39m, \u001b[33m2102\u001b[39m, \u001b[33m2041\u001b[39m, \u001b[33m2058\u001b[39m, \u001b[33m1949\u001b[39m,\n",
            "    \u001b[33m2190\u001b[39m, \u001b[33m2170\u001b[39m, \u001b[33m1916\u001b[39m, \u001b[33m2107\u001b[39m, \u001b[33m1908\u001b[39m, \u001b[33m2198\u001b[39m, \u001b[33m2264\u001b[39m, \u001b[33m2071\u001b[39m, \u001b[33m2029\u001b[39m, \u001b[33m2098\u001b[39m,\n",
            "    \u001b[33m2022\u001b[39m, \u001b[33m2153\u001b[39m, \u001b[33m2015\u001b[39m, \u001b[33m2347\u001b[39m, \u001b[33m2106\u001b[39m, \u001b[33m1950\u001b[39m, \u001b[33m1916\u001b[39m, \u001b[33m2049\u001b[39m, \u001b[33m2162\u001b[39m, \u001b[33m2015\u001b[39m,\n",
            "    \u001b[33m1822\u001b[39m, \u001b[33m2095\u001b[39m, \u001b[33m2183\u001b[39m, \u001b[33m2001\u001b[39m, \u001b[33m2069\u001b[39m, \u001b[33m2176\u001b[39m, \u001b[33m2041\u001b[39m, \u001b[33m2041\u001b[39m, \u001b[33m1822\u001b[39m, \u001b[33m1857\u001b[39m,\n",
            "    \u001b[33m2220\u001b[39m, \u001b[33m1801\u001b[39m, \u001b[33m1883\u001b[39m, \u001b[33m1802\u001b[39m, \u001b[33m2228\u001b[39m, \u001b[33m2045\u001b[39m, \u001b[33m2066\u001b[39m, \u001b[33m2232\u001b[39m, \u001b[33m1930\u001b[39m, \u001b[33m1828\u001b[39m,\n",
            "    ... 500 more items\n",
            "  ],\n",
            "  [\n",
            "    \u001b[33m1648\u001b[39m, \u001b[33m2199\u001b[39m, \u001b[33m2113\u001b[39m, \u001b[33m1946\u001b[39m, \u001b[33m2016\u001b[39m, \u001b[33m1791\u001b[39m, \u001b[33m1948\u001b[39m, \u001b[33m1856\u001b[39m, \u001b[33m1996\u001b[39m, \u001b[33m2151\u001b[39m,\n",
            "    \u001b[33m2091\u001b[39m, \u001b[33m2163\u001b[39m, \u001b[33m2004\u001b[39m, \u001b[33m1938\u001b[39m, \u001b[33m2124\u001b[39m, \u001b[33m1683\u001b[39m, \u001b[33m2031\u001b[39m, \u001b[33m1976\u001b[39m, \u001b[33m1922\u001b[39m, \u001b[33m1848\u001b[39m,\n",
            "    \u001b[33m1735\u001b[39m, \u001b[33m1955\u001b[39m, \u001b[33m2023\u001b[39m, \u001b[33m2172\u001b[39m, \u001b[33m1939\u001b[39m, \u001b[33m2186\u001b[39m, \u001b[33m1871\u001b[39m, \u001b[33m2024\u001b[39m, \u001b[33m1918\u001b[39m, \u001b[33m2356\u001b[39m,\n",
            "    \u001b[33m1941\u001b[39m, \u001b[33m1916\u001b[39m, \u001b[33m2159\u001b[39m, \u001b[33m2127\u001b[39m, \u001b[33m2123\u001b[39m, \u001b[33m1983\u001b[39m, \u001b[33m2208\u001b[39m, \u001b[33m1865\u001b[39m, \u001b[33m2159\u001b[39m, \u001b[33m1896\u001b[39m,\n",
            "    \u001b[33m2100\u001b[39m, \u001b[33m1754\u001b[39m, \u001b[33m1780\u001b[39m, \u001b[33m2016\u001b[39m, \u001b[33m2017\u001b[39m, \u001b[33m2097\u001b[39m, \u001b[33m2060\u001b[39m, \u001b[33m2165\u001b[39m, \u001b[33m1904\u001b[39m, \u001b[33m1926\u001b[39m,\n",
            "    \u001b[33m2126\u001b[39m, \u001b[33m1979\u001b[39m, \u001b[33m2120\u001b[39m, \u001b[33m1876\u001b[39m, \u001b[33m1903\u001b[39m, \u001b[33m2149\u001b[39m, \u001b[33m2144\u001b[39m, \u001b[33m2066\u001b[39m, \u001b[33m2003\u001b[39m, \u001b[33m2144\u001b[39m,\n",
            "    \u001b[33m1906\u001b[39m, \u001b[33m2116\u001b[39m, \u001b[33m1965\u001b[39m, \u001b[33m2022\u001b[39m, \u001b[33m2072\u001b[39m, \u001b[33m2068\u001b[39m, \u001b[33m2203\u001b[39m, \u001b[33m2081\u001b[39m, \u001b[33m2081\u001b[39m, \u001b[33m1994\u001b[39m,\n",
            "    \u001b[33m2065\u001b[39m, \u001b[33m2198\u001b[39m, \u001b[33m1877\u001b[39m, \u001b[33m2346\u001b[39m, \u001b[33m2027\u001b[39m, \u001b[33m2131\u001b[39m, \u001b[33m1920\u001b[39m, \u001b[33m2031\u001b[39m, \u001b[33m2078\u001b[39m, \u001b[33m1760\u001b[39m,\n",
            "    \u001b[33m1762\u001b[39m, \u001b[33m2066\u001b[39m, \u001b[33m2261\u001b[39m, \u001b[33m1953\u001b[39m, \u001b[33m2191\u001b[39m, \u001b[33m2056\u001b[39m, \u001b[33m2276\u001b[39m, \u001b[33m2033\u001b[39m, \u001b[33m1836\u001b[39m, \u001b[33m1863\u001b[39m,\n",
            "    \u001b[33m2069\u001b[39m, \u001b[33m1859\u001b[39m, \u001b[33m1776\u001b[39m, \u001b[33m1738\u001b[39m, \u001b[33m2137\u001b[39m, \u001b[33m2223\u001b[39m, \u001b[33m2028\u001b[39m, \u001b[33m2031\u001b[39m, \u001b[33m1781\u001b[39m, \u001b[33m1802\u001b[39m,\n",
            "    ... 500 more items\n",
            "  ],\n",
            "  [\n",
            "    \u001b[33m1568\u001b[39m, \u001b[33m2133\u001b[39m, \u001b[33m2188\u001b[39m, \u001b[33m1854\u001b[39m, \u001b[33m2060\u001b[39m, \u001b[33m1799\u001b[39m, \u001b[33m2114\u001b[39m, \u001b[33m1876\u001b[39m, \u001b[33m1914\u001b[39m, \u001b[33m2147\u001b[39m,\n",
            "    \u001b[33m1922\u001b[39m, \u001b[33m2120\u001b[39m, \u001b[33m1938\u001b[39m, \u001b[33m2000\u001b[39m, \u001b[33m2411\u001b[39m, \u001b[33m1839\u001b[39m, \u001b[33m2208\u001b[39m, \u001b[33m2200\u001b[39m, \u001b[33m2119\u001b[39m, \u001b[33m2173\u001b[39m,\n",
            "    \u001b[33m1982\u001b[39m, \u001b[33m2065\u001b[39m, \u001b[33m1833\u001b[39m, \u001b[33m2102\u001b[39m, \u001b[33m1874\u001b[39m, \u001b[33m2213\u001b[39m, \u001b[33m1877\u001b[39m, \u001b[33m1926\u001b[39m, \u001b[33m2008\u001b[39m, \u001b[33m2328\u001b[39m,\n",
            "    \u001b[33m1937\u001b[39m, \u001b[33m2201\u001b[39m, \u001b[33m2052\u001b[39m, \u001b[33m2220\u001b[39m, \u001b[33m2308\u001b[39m, \u001b[33m2027\u001b[39m, \u001b[33m2112\u001b[39m, \u001b[33m2185\u001b[39m, \u001b[33m2164\u001b[39m, \u001b[33m2073\u001b[39m,\n",
            "    \u001b[33m2071\u001b[39m, \u001b[33m1767\u001b[39m, \u001b[33m1714\u001b[39m, \u001b[33m1908\u001b[39m, \u001b[33m1921\u001b[39m, \u001b[33m2040\u001b[39m, \u001b[33m2061\u001b[39m, \u001b[33m1997\u001b[39m, \u001b[33m1896\u001b[39m, \u001b[33m2065\u001b[39m,\n",
            "    \u001b[33m2168\u001b[39m, \u001b[33m2125\u001b[39m, \u001b[33m2369\u001b[39m, \u001b[33m1951\u001b[39m, \u001b[33m1830\u001b[39m, \u001b[33m2103\u001b[39m, \u001b[33m2192\u001b[39m, \u001b[33m2159\u001b[39m, \u001b[33m2116\u001b[39m, \u001b[33m1944\u001b[39m,\n",
            "    \u001b[33m2178\u001b[39m, \u001b[33m2169\u001b[39m, \u001b[33m2204\u001b[39m, \u001b[33m2211\u001b[39m, \u001b[33m2183\u001b[39m, \u001b[33m1954\u001b[39m, \u001b[33m2076\u001b[39m, \u001b[33m2288\u001b[39m, \u001b[33m2187\u001b[39m, \u001b[33m2124\u001b[39m,\n",
            "    \u001b[33m1934\u001b[39m, \u001b[33m2122\u001b[39m, \u001b[33m1877\u001b[39m, \u001b[33m2381\u001b[39m, \u001b[33m1957\u001b[39m, \u001b[33m2124\u001b[39m, \u001b[33m2007\u001b[39m, \u001b[33m2069\u001b[39m, \u001b[33m2117\u001b[39m, \u001b[33m1996\u001b[39m,\n",
            "    \u001b[33m1913\u001b[39m, \u001b[33m2225\u001b[39m, \u001b[33m2143\u001b[39m, \u001b[33m1857\u001b[39m, \u001b[33m2117\u001b[39m, \u001b[33m2026\u001b[39m, \u001b[33m2200\u001b[39m, \u001b[33m2282\u001b[39m, \u001b[33m1874\u001b[39m, \u001b[33m2016\u001b[39m,\n",
            "    \u001b[33m2167\u001b[39m, \u001b[33m1870\u001b[39m, \u001b[33m1870\u001b[39m, \u001b[33m1706\u001b[39m, \u001b[33m2319\u001b[39m, \u001b[33m1964\u001b[39m, \u001b[33m2076\u001b[39m, \u001b[33m2116\u001b[39m, \u001b[33m2011\u001b[39m, \u001b[33m1920\u001b[39m,\n",
            "    ... 500 more items\n",
            "  ],\n",
            "  [\n",
            "    \u001b[33m1487\u001b[39m, \u001b[33m1884\u001b[39m, \u001b[33m1979\u001b[39m, \u001b[33m1806\u001b[39m, \u001b[33m1934\u001b[39m, \u001b[33m1669\u001b[39m, \u001b[33m2009\u001b[39m, \u001b[33m1886\u001b[39m, \u001b[33m1824\u001b[39m, \u001b[33m2015\u001b[39m,\n",
            "    \u001b[33m1882\u001b[39m, \u001b[33m2095\u001b[39m, \u001b[33m1812\u001b[39m, \u001b[33m1986\u001b[39m, \u001b[33m2221\u001b[39m, \u001b[33m1619\u001b[39m, \u001b[33m2024\u001b[39m, \u001b[33m2063\u001b[39m, \u001b[33m1895\u001b[39m, \u001b[33m1982\u001b[39m,\n",
            "    \u001b[33m1700\u001b[39m, \u001b[33m1909\u001b[39m, \u001b[33m1734\u001b[39m, \u001b[33m2127\u001b[39m, \u001b[33m1803\u001b[39m, \u001b[33m2019\u001b[39m, \u001b[33m1849\u001b[39m, \u001b[33m1890\u001b[39m, \u001b[33m1758\u001b[39m, \u001b[33m2088\u001b[39m,\n",
            "    \u001b[33m1792\u001b[39m, \u001b[33m1876\u001b[39m, \u001b[33m1878\u001b[39m, \u001b[33m1961\u001b[39m, \u001b[33m1956\u001b[39m, \u001b[33m2014\u001b[39m, \u001b[33m1972\u001b[39m, \u001b[33m1884\u001b[39m, \u001b[33m1919\u001b[39m, \u001b[33m1947\u001b[39m,\n",
            "    \u001b[33m1977\u001b[39m, \u001b[33m1675\u001b[39m, \u001b[33m1589\u001b[39m, \u001b[33m1980\u001b[39m, \u001b[33m1811\u001b[39m, \u001b[33m1904\u001b[39m, \u001b[33m1858\u001b[39m, \u001b[33m2034\u001b[39m, \u001b[33m1790\u001b[39m, \u001b[33m1913\u001b[39m,\n",
            "    \u001b[33m1925\u001b[39m, \u001b[33m1897\u001b[39m, \u001b[33m2059\u001b[39m, \u001b[33m1802\u001b[39m, \u001b[33m2072\u001b[39m, \u001b[33m2101\u001b[39m, \u001b[33m2051\u001b[39m, \u001b[33m1829\u001b[39m, \u001b[33m1968\u001b[39m, \u001b[33m1786\u001b[39m,\n",
            "    \u001b[33m1959\u001b[39m, \u001b[33m1745\u001b[39m, \u001b[33m1819\u001b[39m, \u001b[33m1900\u001b[39m, \u001b[33m1973\u001b[39m, \u001b[33m2016\u001b[39m, \u001b[33m1976\u001b[39m, \u001b[33m2054\u001b[39m, \u001b[33m2124\u001b[39m, \u001b[33m1791\u001b[39m,\n",
            "    \u001b[33m1849\u001b[39m, \u001b[33m2049\u001b[39m, \u001b[33m1567\u001b[39m, \u001b[33m2130\u001b[39m, \u001b[33m1870\u001b[39m, \u001b[33m1948\u001b[39m, \u001b[33m1973\u001b[39m, \u001b[33m1968\u001b[39m, \u001b[33m1942\u001b[39m, \u001b[33m1756\u001b[39m,\n",
            "    \u001b[33m1860\u001b[39m, \u001b[33m2016\u001b[39m, \u001b[33m2024\u001b[39m, \u001b[33m1731\u001b[39m, \u001b[33m2066\u001b[39m, \u001b[33m1834\u001b[39m, \u001b[33m1958\u001b[39m, \u001b[33m1933\u001b[39m, \u001b[33m1677\u001b[39m, \u001b[33m1900\u001b[39m,\n",
            "    \u001b[33m1987\u001b[39m, \u001b[33m1723\u001b[39m, \u001b[33m1743\u001b[39m, \u001b[33m1743\u001b[39m, \u001b[33m2143\u001b[39m, \u001b[33m1898\u001b[39m, \u001b[33m1984\u001b[39m, \u001b[33m2014\u001b[39m, \u001b[33m1689\u001b[39m, \u001b[33m1799\u001b[39m,\n",
            "    ... 500 more items\n",
            "  ],\n",
            "  [\n",
            "    \u001b[33m1780\u001b[39m, \u001b[33m2460\u001b[39m, \u001b[33m2170\u001b[39m, \u001b[33m2019\u001b[39m, \u001b[33m2092\u001b[39m, \u001b[33m1801\u001b[39m, \u001b[33m2339\u001b[39m, \u001b[33m2105\u001b[39m, \u001b[33m1964\u001b[39m, \u001b[33m2037\u001b[39m,\n",
            "    \u001b[33m2016\u001b[39m, \u001b[33m2150\u001b[39m, \u001b[33m1813\u001b[39m, \u001b[33m2094\u001b[39m, \u001b[33m2136\u001b[39m, \u001b[33m2019\u001b[39m, \u001b[33m2277\u001b[39m, \u001b[33m1987\u001b[39m, \u001b[33m2045\u001b[39m, \u001b[33m2202\u001b[39m,\n",
            "    \u001b[33m1813\u001b[39m, \u001b[33m1991\u001b[39m, \u001b[33m1961\u001b[39m, \u001b[33m2199\u001b[39m, \u001b[33m1940\u001b[39m, \u001b[33m2135\u001b[39m, \u001b[33m1980\u001b[39m, \u001b[33m2212\u001b[39m, \u001b[33m2133\u001b[39m, \u001b[33m2407\u001b[39m,\n",
            "    \u001b[33m1937\u001b[39m, \u001b[33m2098\u001b[39m, \u001b[33m2244\u001b[39m, \u001b[33m2189\u001b[39m, \u001b[33m2034\u001b[39m, \u001b[33m2145\u001b[39m, \u001b[33m2201\u001b[39m, \u001b[33m2009\u001b[39m, \u001b[33m2115\u001b[39m, \u001b[33m1869\u001b[39m,\n",
            "    \u001b[33m2140\u001b[39m, \u001b[33m1791\u001b[39m, \u001b[33m1987\u001b[39m, \u001b[33m1897\u001b[39m, \u001b[33m1864\u001b[39m, \u001b[33m1957\u001b[39m, \u001b[33m2139\u001b[39m, \u001b[33m2090\u001b[39m, \u001b[33m2015\u001b[39m, \u001b[33m1946\u001b[39m,\n",
            "    \u001b[33m2042\u001b[39m, \u001b[33m1867\u001b[39m, \u001b[33m2262\u001b[39m, \u001b[33m1976\u001b[39m, \u001b[33m2010\u001b[39m, \u001b[33m2043\u001b[39m, \u001b[33m2106\u001b[39m, \u001b[33m2191\u001b[39m, \u001b[33m2131\u001b[39m, \u001b[33m2065\u001b[39m,\n",
            "    \u001b[33m2047\u001b[39m, \u001b[33m2141\u001b[39m, \u001b[33m2080\u001b[39m, \u001b[33m2018\u001b[39m, \u001b[33m2111\u001b[39m, \u001b[33m2273\u001b[39m, \u001b[33m2415\u001b[39m, \u001b[33m2243\u001b[39m, \u001b[33m2254\u001b[39m, \u001b[33m2047\u001b[39m,\n",
            "    \u001b[33m2011\u001b[39m, \u001b[33m2395\u001b[39m, \u001b[33m2047\u001b[39m, \u001b[33m2407\u001b[39m, \u001b[33m2171\u001b[39m, \u001b[33m2077\u001b[39m, \u001b[33m2015\u001b[39m, \u001b[33m2029\u001b[39m, \u001b[33m2458\u001b[39m, \u001b[33m2089\u001b[39m,\n",
            "    \u001b[33m1907\u001b[39m, \u001b[33m2336\u001b[39m, \u001b[33m2276\u001b[39m, \u001b[33m1978\u001b[39m, \u001b[33m2118\u001b[39m, \u001b[33m2204\u001b[39m, \u001b[33m2135\u001b[39m, \u001b[33m2174\u001b[39m, \u001b[33m1909\u001b[39m, \u001b[33m2107\u001b[39m,\n",
            "    \u001b[33m2281\u001b[39m, \u001b[33m1864\u001b[39m, \u001b[33m2021\u001b[39m, \u001b[33m1873\u001b[39m, \u001b[33m2174\u001b[39m, \u001b[33m1951\u001b[39m, \u001b[33m2028\u001b[39m, \u001b[33m2121\u001b[39m, \u001b[33m1911\u001b[39m, \u001b[33m2038\u001b[39m,\n",
            "    ... 500 more items\n",
            "  ],\n",
            "  [\n",
            "    \u001b[33m1723\u001b[39m, \u001b[33m2402\u001b[39m, \u001b[33m2366\u001b[39m, \u001b[33m2176\u001b[39m, \u001b[33m2275\u001b[39m, \u001b[33m2101\u001b[39m, \u001b[33m2447\u001b[39m, \u001b[33m2152\u001b[39m, \u001b[33m2238\u001b[39m, \u001b[33m2480\u001b[39m,\n",
            "    \u001b[33m2219\u001b[39m, \u001b[33m2450\u001b[39m, \u001b[33m2122\u001b[39m, \u001b[33m2189\u001b[39m, \u001b[33m2570\u001b[39m, \u001b[33m2033\u001b[39m, \u001b[33m2330\u001b[39m, \u001b[33m2301\u001b[39m, \u001b[33m2453\u001b[39m, \u001b[33m2458\u001b[39m,\n",
            "    \u001b[33m2066\u001b[39m, \u001b[33m2256\u001b[39m, \u001b[33m2118\u001b[39m, \u001b[33m2471\u001b[39m, \u001b[33m2411\u001b[39m, \u001b[33m2387\u001b[39m, \u001b[33m2231\u001b[39m, \u001b[33m2463\u001b[39m, \u001b[33m2277\u001b[39m, \u001b[33m2573\u001b[39m,\n",
            "    \u001b[33m2076\u001b[39m, \u001b[33m2327\u001b[39m, \u001b[33m2540\u001b[39m, \u001b[33m2482\u001b[39m, \u001b[33m2374\u001b[39m, \u001b[33m2280\u001b[39m, \u001b[33m2291\u001b[39m, \u001b[33m2251\u001b[39m, \u001b[33m2421\u001b[39m, \u001b[33m2072\u001b[39m,\n",
            "    \u001b[33m2414\u001b[39m, \u001b[33m2012\u001b[39m, \u001b[33m2152\u001b[39m, \u001b[33m2110\u001b[39m, \u001b[33m2133\u001b[39m, \u001b[33m2319\u001b[39m, \u001b[33m2220\u001b[39m, \u001b[33m2280\u001b[39m, \u001b[33m2033\u001b[39m, \u001b[33m2296\u001b[39m,\n",
            "    \u001b[33m2352\u001b[39m, \u001b[33m2113\u001b[39m, \u001b[33m2584\u001b[39m, \u001b[33m2124\u001b[39m, \u001b[33m2040\u001b[39m, \u001b[33m2501\u001b[39m, \u001b[33m2393\u001b[39m, \u001b[33m2363\u001b[39m, \u001b[33m2400\u001b[39m, \u001b[33m2241\u001b[39m,\n",
            "    \u001b[33m2364\u001b[39m, \u001b[33m2423\u001b[39m, \u001b[33m2219\u001b[39m, \u001b[33m2435\u001b[39m, \u001b[33m2310\u001b[39m, \u001b[33m2351\u001b[39m, \u001b[33m2407\u001b[39m, \u001b[33m2672\u001b[39m, \u001b[33m2400\u001b[39m, \u001b[33m2177\u001b[39m,\n",
            "    \u001b[33m2246\u001b[39m, \u001b[33m2413\u001b[39m, \u001b[33m2279\u001b[39m, \u001b[33m2634\u001b[39m, \u001b[33m2285\u001b[39m, \u001b[33m2353\u001b[39m, \u001b[33m2375\u001b[39m, \u001b[33m2248\u001b[39m, \u001b[33m2534\u001b[39m, \u001b[33m2150\u001b[39m,\n",
            "    \u001b[33m2369\u001b[39m, \u001b[33m2535\u001b[39m, \u001b[33m2579\u001b[39m, \u001b[33m2269\u001b[39m, \u001b[33m2240\u001b[39m, \u001b[33m2366\u001b[39m, \u001b[33m2316\u001b[39m, \u001b[33m2501\u001b[39m, \u001b[33m2040\u001b[39m, \u001b[33m2270\u001b[39m,\n",
            "    \u001b[33m2512\u001b[39m, \u001b[33m2071\u001b[39m, \u001b[33m2195\u001b[39m, \u001b[33m2125\u001b[39m, \u001b[33m2478\u001b[39m, \u001b[33m2315\u001b[39m, \u001b[33m2279\u001b[39m, \u001b[33m2358\u001b[39m, \u001b[33m2087\u001b[39m, \u001b[33m2094\u001b[39m,\n",
            "    ... 500 more items\n",
            "  ],\n",
            "  [\n",
            "    \u001b[33m1816\u001b[39m, \u001b[33m2078\u001b[39m, \u001b[33m2163\u001b[39m, \u001b[33m1749\u001b[39m, \u001b[33m1964\u001b[39m, \u001b[33m1773\u001b[39m, \u001b[33m2136\u001b[39m, \u001b[33m1795\u001b[39m, \u001b[33m2003\u001b[39m, \u001b[33m2177\u001b[39m,\n",
            "    \u001b[33m2178\u001b[39m, \u001b[33m2134\u001b[39m, \u001b[33m1777\u001b[39m, \u001b[33m2109\u001b[39m, \u001b[33m2361\u001b[39m, \u001b[33m1847\u001b[39m, \u001b[33m2098\u001b[39m, \u001b[33m1991\u001b[39m, \u001b[33m1892\u001b[39m, \u001b[33m1978\u001b[39m,\n",
            "    \u001b[33m1855\u001b[39m, \u001b[33m2125\u001b[39m, \u001b[33m1843\u001b[39m, \u001b[33m2121\u001b[39m, \u001b[33m1913\u001b[39m, \u001b[33m2097\u001b[39m, \u001b[33m2014\u001b[39m, \u001b[33m1965\u001b[39m, \u001b[33m2019\u001b[39m, \u001b[33m2401\u001b[39m,\n",
            "    \u001b[33m1898\u001b[39m, \u001b[33m1965\u001b[39m, \u001b[33m2081\u001b[39m, \u001b[33m2040\u001b[39m, \u001b[33m2239\u001b[39m, \u001b[33m2107\u001b[39m, \u001b[33m2229\u001b[39m, \u001b[33m1850\u001b[39m, \u001b[33m2021\u001b[39m, \u001b[33m1690\u001b[39m,\n",
            "    \u001b[33m2240\u001b[39m, \u001b[33m1696\u001b[39m, \u001b[33m1713\u001b[39m, \u001b[33m1916\u001b[39m, \u001b[33m1866\u001b[39m, \u001b[33m2088\u001b[39m, \u001b[33m2199\u001b[39m, \u001b[33m1912\u001b[39m, \u001b[33m1989\u001b[39m, \u001b[33m1961\u001b[39m,\n",
            "    \u001b[33m1912\u001b[39m, \u001b[33m1984\u001b[39m, \u001b[33m2040\u001b[39m, \u001b[33m2006\u001b[39m, \u001b[33m1905\u001b[39m, \u001b[33m2200\u001b[39m, \u001b[33m2172\u001b[39m, \u001b[33m1977\u001b[39m, \u001b[33m2069\u001b[39m, \u001b[33m2084\u001b[39m,\n",
            "    \u001b[33m2103\u001b[39m, \u001b[33m2065\u001b[39m, \u001b[33m2085\u001b[39m, \u001b[33m1959\u001b[39m, \u001b[33m2189\u001b[39m, \u001b[33m2333\u001b[39m, \u001b[33m2138\u001b[39m, \u001b[33m2177\u001b[39m, \u001b[33m2001\u001b[39m, \u001b[33m2043\u001b[39m,\n",
            "    \u001b[33m1939\u001b[39m, \u001b[33m2218\u001b[39m, \u001b[33m1926\u001b[39m, \u001b[33m2385\u001b[39m, \u001b[33m2016\u001b[39m, \u001b[33m1973\u001b[39m, \u001b[33m2119\u001b[39m, \u001b[33m1873\u001b[39m, \u001b[33m2329\u001b[39m, \u001b[33m2088\u001b[39m,\n",
            "    \u001b[33m1922\u001b[39m, \u001b[33m2340\u001b[39m, \u001b[33m2140\u001b[39m, \u001b[33m1891\u001b[39m, \u001b[33m2065\u001b[39m, \u001b[33m2098\u001b[39m, \u001b[33m2134\u001b[39m, \u001b[33m2066\u001b[39m, \u001b[33m2062\u001b[39m, \u001b[33m1919\u001b[39m,\n",
            "    \u001b[33m2221\u001b[39m, \u001b[33m1777\u001b[39m, \u001b[33m1940\u001b[39m, \u001b[33m1996\u001b[39m, \u001b[33m2241\u001b[39m, \u001b[33m1803\u001b[39m, \u001b[33m2050\u001b[39m, \u001b[33m2084\u001b[39m, \u001b[33m1931\u001b[39m, \u001b[33m2005\u001b[39m,\n",
            "    ... 500 more items\n",
            "  ],\n",
            "  [\n",
            "    \u001b[33m1747\u001b[39m, \u001b[33m2368\u001b[39m, \u001b[33m2308\u001b[39m, \u001b[33m1818\u001b[39m, \u001b[33m2263\u001b[39m, \u001b[33m1890\u001b[39m, \u001b[33m2191\u001b[39m, \u001b[33m1937\u001b[39m, \u001b[33m2075\u001b[39m, \u001b[33m2059\u001b[39m,\n",
            "    \u001b[33m1992\u001b[39m, \u001b[33m2224\u001b[39m, \u001b[33m1932\u001b[39m, \u001b[33m2057\u001b[39m, \u001b[33m2227\u001b[39m, \u001b[33m1844\u001b[39m, \u001b[33m2195\u001b[39m, \u001b[33m2114\u001b[39m, \u001b[33m2119\u001b[39m, \u001b[33m2072\u001b[39m,\n",
            "    \u001b[33m1856\u001b[39m, \u001b[33m2138\u001b[39m, \u001b[33m1970\u001b[39m, \u001b[33m2172\u001b[39m, \u001b[33m2082\u001b[39m, \u001b[33m2262\u001b[39m, \u001b[33m2047\u001b[39m, \u001b[33m2171\u001b[39m, \u001b[33m2084\u001b[39m, \u001b[33m2444\u001b[39m,\n",
            "    \u001b[33m2061\u001b[39m, \u001b[33m2145\u001b[39m, \u001b[33m2144\u001b[39m, \u001b[33m2342\u001b[39m, \u001b[33m2213\u001b[39m, \u001b[33m2141\u001b[39m, \u001b[33m2333\u001b[39m, \u001b[33m1967\u001b[39m, \u001b[33m2223\u001b[39m, \u001b[33m1861\u001b[39m,\n",
            "    \u001b[33m2286\u001b[39m, \u001b[33m1802\u001b[39m, \u001b[33m1851\u001b[39m, \u001b[33m2015\u001b[39m, \u001b[33m1897\u001b[39m, \u001b[33m2014\u001b[39m, \u001b[33m2176\u001b[39m, \u001b[33m2210\u001b[39m, \u001b[33m2127\u001b[39m, \u001b[33m1998\u001b[39m,\n",
            "    \u001b[33m2272\u001b[39m, \u001b[33m1978\u001b[39m, \u001b[33m2171\u001b[39m, \u001b[33m1969\u001b[39m, \u001b[33m2020\u001b[39m, \u001b[33m2208\u001b[39m, \u001b[33m2181\u001b[39m, \u001b[33m2207\u001b[39m, \u001b[33m2133\u001b[39m, \u001b[33m2064\u001b[39m,\n",
            "    \u001b[33m2241\u001b[39m, \u001b[33m2249\u001b[39m, \u001b[33m2116\u001b[39m, \u001b[33m2153\u001b[39m, \u001b[33m1992\u001b[39m, \u001b[33m2149\u001b[39m, \u001b[33m2367\u001b[39m, \u001b[33m2357\u001b[39m, \u001b[33m2309\u001b[39m, \u001b[33m2121\u001b[39m,\n",
            "    \u001b[33m2143\u001b[39m, \u001b[33m2188\u001b[39m, \u001b[33m2024\u001b[39m, \u001b[33m2443\u001b[39m, \u001b[33m2096\u001b[39m, \u001b[33m2109\u001b[39m, \u001b[33m2154\u001b[39m, \u001b[33m1967\u001b[39m, \u001b[33m2239\u001b[39m, \u001b[33m2147\u001b[39m,\n",
            "    \u001b[33m1846\u001b[39m, \u001b[33m2281\u001b[39m, \u001b[33m2147\u001b[39m, \u001b[33m2061\u001b[39m, \u001b[33m2152\u001b[39m, \u001b[33m2060\u001b[39m, \u001b[33m2173\u001b[39m, \u001b[33m2082\u001b[39m, \u001b[33m2000\u001b[39m, \u001b[33m2019\u001b[39m,\n",
            "    \u001b[33m2206\u001b[39m, \u001b[33m1875\u001b[39m, \u001b[33m1886\u001b[39m, \u001b[33m1781\u001b[39m, \u001b[33m2387\u001b[39m, \u001b[33m2150\u001b[39m, \u001b[33m2092\u001b[39m, \u001b[33m2146\u001b[39m, \u001b[33m2013\u001b[39m, \u001b[33m1987\u001b[39m,\n",
            "    ... 500 more items\n",
            "  ],\n",
            "  [\n",
            "    \u001b[33m1538\u001b[39m, \u001b[33m2120\u001b[39m, \u001b[33m1995\u001b[39m, \u001b[33m1819\u001b[39m, \u001b[33m1951\u001b[39m, \u001b[33m1623\u001b[39m, \u001b[33m2074\u001b[39m, \u001b[33m1716\u001b[39m, \u001b[33m1993\u001b[39m, \u001b[33m2069\u001b[39m,\n",
            "    \u001b[33m1924\u001b[39m, \u001b[33m2182\u001b[39m, \u001b[33m1933\u001b[39m, \u001b[33m1954\u001b[39m, \u001b[33m2091\u001b[39m, \u001b[33m1733\u001b[39m, \u001b[33m1905\u001b[39m, \u001b[33m2039\u001b[39m, \u001b[33m2053\u001b[39m, \u001b[33m2136\u001b[39m,\n",
            "    \u001b[33m1849\u001b[39m, \u001b[33m2060\u001b[39m, \u001b[33m1590\u001b[39m, \u001b[33m2010\u001b[39m, \u001b[33m1706\u001b[39m, \u001b[33m2152\u001b[39m, \u001b[33m1737\u001b[39m, \u001b[33m2079\u001b[39m, \u001b[33m1758\u001b[39m, \u001b[33m2304\u001b[39m,\n",
            "    \u001b[33m1788\u001b[39m, \u001b[33m1893\u001b[39m, \u001b[33m2103\u001b[39m, \u001b[33m2214\u001b[39m, \u001b[33m1951\u001b[39m, \u001b[33m2095\u001b[39m, \u001b[33m1896\u001b[39m, \u001b[33m1926\u001b[39m, \u001b[33m1998\u001b[39m, \u001b[33m1800\u001b[39m,\n",
            "    \u001b[33m2003\u001b[39m, \u001b[33m1759\u001b[39m, \u001b[33m1780\u001b[39m, \u001b[33m1894\u001b[39m, \u001b[33m1569\u001b[39m, \u001b[33m1819\u001b[39m, \u001b[33m1846\u001b[39m, \u001b[33m2042\u001b[39m, \u001b[33m1697\u001b[39m, \u001b[33m1901\u001b[39m,\n",
            "    \u001b[33m1988\u001b[39m, \u001b[33m1946\u001b[39m, \u001b[33m2106\u001b[39m, \u001b[33m1842\u001b[39m, \u001b[33m1906\u001b[39m, \u001b[33m2065\u001b[39m, \u001b[33m2120\u001b[39m, \u001b[33m1880\u001b[39m, \u001b[33m1882\u001b[39m, \u001b[33m2056\u001b[39m,\n",
            "    \u001b[33m2197\u001b[39m, \u001b[33m1998\u001b[39m, \u001b[33m1954\u001b[39m, \u001b[33m1961\u001b[39m, \u001b[33m1930\u001b[39m, \u001b[33m1994\u001b[39m, \u001b[33m2079\u001b[39m, \u001b[33m2164\u001b[39m, \u001b[33m1914\u001b[39m, \u001b[33m1988\u001b[39m,\n",
            "    \u001b[33m1858\u001b[39m, \u001b[33m2109\u001b[39m, \u001b[33m1769\u001b[39m, \u001b[33m2278\u001b[39m, \u001b[33m1819\u001b[39m, \u001b[33m1944\u001b[39m, \u001b[33m1804\u001b[39m, \u001b[33m2029\u001b[39m, \u001b[33m1998\u001b[39m, \u001b[33m1867\u001b[39m,\n",
            "    \u001b[33m1822\u001b[39m, \u001b[33m2332\u001b[39m, \u001b[33m2187\u001b[39m, \u001b[33m1843\u001b[39m, \u001b[33m1929\u001b[39m, \u001b[33m2008\u001b[39m, \u001b[33m1861\u001b[39m, \u001b[33m2161\u001b[39m, \u001b[33m1775\u001b[39m, \u001b[33m1955\u001b[39m,\n",
            "    \u001b[33m2250\u001b[39m, \u001b[33m1914\u001b[39m, \u001b[33m1959\u001b[39m, \u001b[33m2003\u001b[39m, \u001b[33m2229\u001b[39m, \u001b[33m2080\u001b[39m, \u001b[33m1883\u001b[39m, \u001b[33m2042\u001b[39m, \u001b[33m1827\u001b[39m, \u001b[33m1901\u001b[39m,\n",
            "    ... 500 more items\n",
            "  ],\n",
            "  [\n",
            "    \u001b[33m1595\u001b[39m, \u001b[33m2297\u001b[39m, \u001b[33m1974\u001b[39m, \u001b[33m1934\u001b[39m, \u001b[33m2002\u001b[39m, \u001b[33m1814\u001b[39m, \u001b[33m1976\u001b[39m, \u001b[33m1797\u001b[39m, \u001b[33m1877\u001b[39m, \u001b[33m2016\u001b[39m,\n",
            "    \u001b[33m1927\u001b[39m, \u001b[33m1960\u001b[39m, \u001b[33m1888\u001b[39m, \u001b[33m1849\u001b[39m, \u001b[33m2152\u001b[39m, \u001b[33m1859\u001b[39m, \u001b[33m1967\u001b[39m, \u001b[33m1973\u001b[39m, \u001b[33m1984\u001b[39m, \u001b[33m1824\u001b[39m,\n",
            "    \u001b[33m1824\u001b[39m, \u001b[33m1974\u001b[39m, \u001b[33m2013\u001b[39m, \u001b[33m2051\u001b[39m, \u001b[33m1810\u001b[39m, \u001b[33m2133\u001b[39m, \u001b[33m1827\u001b[39m, \u001b[33m2015\u001b[39m, \u001b[33m1964\u001b[39m, \u001b[33m2171\u001b[39m,\n",
            "    \u001b[33m1889\u001b[39m, \u001b[33m2093\u001b[39m, \u001b[33m2024\u001b[39m, \u001b[33m2066\u001b[39m, \u001b[33m2047\u001b[39m, \u001b[33m1899\u001b[39m, \u001b[33m2211\u001b[39m, \u001b[33m2045\u001b[39m, \u001b[33m2151\u001b[39m, \u001b[33m1879\u001b[39m,\n",
            "    \u001b[33m2019\u001b[39m, \u001b[33m1850\u001b[39m, \u001b[33m1826\u001b[39m, \u001b[33m1892\u001b[39m, \u001b[33m1935\u001b[39m, \u001b[33m2015\u001b[39m, \u001b[33m1986\u001b[39m, \u001b[33m1912\u001b[39m, \u001b[33m1967\u001b[39m, \u001b[33m1891\u001b[39m,\n",
            "    \u001b[33m2222\u001b[39m, \u001b[33m1894\u001b[39m, \u001b[33m2073\u001b[39m, \u001b[33m1691\u001b[39m, \u001b[33m1889\u001b[39m, \u001b[33m1937\u001b[39m, \u001b[33m2193\u001b[39m, \u001b[33m2026\u001b[39m, \u001b[33m2073\u001b[39m, \u001b[33m1779\u001b[39m,\n",
            "    \u001b[33m2070\u001b[39m, \u001b[33m1978\u001b[39m, \u001b[33m2024\u001b[39m, \u001b[33m1970\u001b[39m, \u001b[33m1869\u001b[39m, \u001b[33m2111\u001b[39m, \u001b[33m1962\u001b[39m, \u001b[33m2139\u001b[39m, \u001b[33m1957\u001b[39m, \u001b[33m1968\u001b[39m,\n",
            "    \u001b[33m1982\u001b[39m, \u001b[33m2220\u001b[39m, \u001b[33m1964\u001b[39m, \u001b[33m2236\u001b[39m, \u001b[33m2005\u001b[39m, \u001b[33m1829\u001b[39m, \u001b[33m1772\u001b[39m, \u001b[33m1987\u001b[39m, \u001b[33m2041\u001b[39m, \u001b[33m1775\u001b[39m,\n",
            "    \u001b[33m1771\u001b[39m, \u001b[33m1991\u001b[39m, \u001b[33m2175\u001b[39m, \u001b[33m1816\u001b[39m, \u001b[33m1917\u001b[39m, \u001b[33m1993\u001b[39m, \u001b[33m1973\u001b[39m, \u001b[33m2117\u001b[39m, \u001b[33m1775\u001b[39m, \u001b[33m1879\u001b[39m,\n",
            "    \u001b[33m2212\u001b[39m, \u001b[33m1964\u001b[39m, \u001b[33m1915\u001b[39m, \u001b[33m1723\u001b[39m, \u001b[33m2022\u001b[39m, \u001b[33m2100\u001b[39m, \u001b[33m1947\u001b[39m, \u001b[33m2127\u001b[39m, \u001b[33m1851\u001b[39m, \u001b[33m1949\u001b[39m,\n",
            "    ... 500 more items\n",
            "  ],\n",
            "  [\n",
            "    \u001b[33m1905\u001b[39m, \u001b[33m2420\u001b[39m, \u001b[33m2240\u001b[39m, \u001b[33m1951\u001b[39m, \u001b[33m2255\u001b[39m, \u001b[33m1957\u001b[39m, \u001b[33m2253\u001b[39m, \u001b[33m1930\u001b[39m, \u001b[33m2065\u001b[39m, \u001b[33m2271\u001b[39m,\n",
            "    \u001b[33m2128\u001b[39m, \u001b[33m2393\u001b[39m, \u001b[33m1998\u001b[39m, \u001b[33m2176\u001b[39m, \u001b[33m2446\u001b[39m, \u001b[33m1983\u001b[39m, \u001b[33m2107\u001b[39m, \u001b[33m2190\u001b[39m, \u001b[33m2175\u001b[39m, \u001b[33m2275\u001b[39m,\n",
            "    \u001b[33m1914\u001b[39m, \u001b[33m2194\u001b[39m, \u001b[33m1926\u001b[39m, \u001b[33m2187\u001b[39m, \u001b[33m2067\u001b[39m, \u001b[33m2100\u001b[39m, \u001b[33m2181\u001b[39m, \u001b[33m2234\u001b[39m, \u001b[33m2202\u001b[39m, \u001b[33m2223\u001b[39m,\n",
            "    \u001b[33m1967\u001b[39m, \u001b[33m2228\u001b[39m, \u001b[33m2251\u001b[39m, \u001b[33m2262\u001b[39m, \u001b[33m2265\u001b[39m, \u001b[33m2284\u001b[39m, \u001b[33m2110\u001b[39m, \u001b[33m2196\u001b[39m, \u001b[33m2305\u001b[39m, \u001b[33m2021\u001b[39m,\n",
            "    \u001b[33m2271\u001b[39m, \u001b[33m2046\u001b[39m, \u001b[33m1920\u001b[39m, \u001b[33m2099\u001b[39m, \u001b[33m2138\u001b[39m, \u001b[33m2157\u001b[39m, \u001b[33m2069\u001b[39m, \u001b[33m2183\u001b[39m, \u001b[33m2104\u001b[39m, \u001b[33m2038\u001b[39m,\n",
            "    \u001b[33m2298\u001b[39m, \u001b[33m2068\u001b[39m, \u001b[33m2350\u001b[39m, \u001b[33m1931\u001b[39m, \u001b[33m2045\u001b[39m, \u001b[33m2217\u001b[39m, \u001b[33m2228\u001b[39m, \u001b[33m2215\u001b[39m, \u001b[33m2137\u001b[39m, \u001b[33m2019\u001b[39m,\n",
            "    \u001b[33m2214\u001b[39m, \u001b[33m2077\u001b[39m, \u001b[33m2127\u001b[39m, \u001b[33m2264\u001b[39m, \u001b[33m2016\u001b[39m, \u001b[33m2189\u001b[39m, \u001b[33m2338\u001b[39m, \u001b[33m2337\u001b[39m, \u001b[33m2275\u001b[39m, \u001b[33m2117\u001b[39m,\n",
            "    \u001b[33m2172\u001b[39m, \u001b[33m2334\u001b[39m, \u001b[33m2145\u001b[39m, \u001b[33m2724\u001b[39m, \u001b[33m1993\u001b[39m, \u001b[33m2193\u001b[39m, \u001b[33m2122\u001b[39m, \u001b[33m2213\u001b[39m, \u001b[33m2203\u001b[39m, \u001b[33m2108\u001b[39m,\n",
            "    \u001b[33m2134\u001b[39m, \u001b[33m2343\u001b[39m, \u001b[33m2512\u001b[39m, \u001b[33m2137\u001b[39m, \u001b[33m2262\u001b[39m, \u001b[33m2038\u001b[39m, \u001b[33m2063\u001b[39m, \u001b[33m2379\u001b[39m, \u001b[33m2033\u001b[39m, \u001b[33m2118\u001b[39m,\n",
            "    \u001b[33m2323\u001b[39m, \u001b[33m2046\u001b[39m, \u001b[33m1978\u001b[39m, \u001b[33m1943\u001b[39m, \u001b[33m2301\u001b[39m, \u001b[33m2266\u001b[39m, \u001b[33m2082\u001b[39m, \u001b[33m2274\u001b[39m, \u001b[33m2252\u001b[39m, \u001b[33m2103\u001b[39m,\n",
            "    ... 500 more items\n",
            "  ],\n",
            "  [\n",
            "    \u001b[33m1540\u001b[39m, \u001b[33m2172\u001b[39m, \u001b[33m2149\u001b[39m, \u001b[33m1847\u001b[39m, \u001b[33m2008\u001b[39m, \u001b[33m1687\u001b[39m, \u001b[33m2000\u001b[39m, \u001b[33m1845\u001b[39m, \u001b[33m1879\u001b[39m, \u001b[33m2034\u001b[39m,\n",
            "    \u001b[33m1916\u001b[39m, \u001b[33m1993\u001b[39m, \u001b[33m1785\u001b[39m, \u001b[33m1926\u001b[39m, \u001b[33m2194\u001b[39m, \u001b[33m1858\u001b[39m, \u001b[33m1856\u001b[39m, \u001b[33m1862\u001b[39m, \u001b[33m1940\u001b[39m, \u001b[33m1898\u001b[39m,\n",
            "    \u001b[33m1758\u001b[39m, \u001b[33m1904\u001b[39m, \u001b[33m1707\u001b[39m, \u001b[33m2074\u001b[39m, \u001b[33m1815\u001b[39m, \u001b[33m1935\u001b[39m, \u001b[33m1887\u001b[39m, \u001b[33m2030\u001b[39m, \u001b[33m1859\u001b[39m, \u001b[33m2180\u001b[39m,\n",
            "    \u001b[33m1754\u001b[39m, \u001b[33m1872\u001b[39m, \u001b[33m1945\u001b[39m, \u001b[33m1978\u001b[39m, \u001b[33m1983\u001b[39m, \u001b[33m1874\u001b[39m, \u001b[33m2010\u001b[39m, \u001b[33m1894\u001b[39m, \u001b[33m2089\u001b[39m, \u001b[33m1699\u001b[39m,\n",
            "    \u001b[33m2054\u001b[39m, \u001b[33m1721\u001b[39m, \u001b[33m1767\u001b[39m, \u001b[33m1743\u001b[39m, \u001b[33m1952\u001b[39m, \u001b[33m1863\u001b[39m, \u001b[33m1810\u001b[39m, \u001b[33m2024\u001b[39m, \u001b[33m1759\u001b[39m, \u001b[33m1928\u001b[39m,\n",
            "    \u001b[33m2092\u001b[39m, \u001b[33m1825\u001b[39m, \u001b[33m1918\u001b[39m, \u001b[33m1926\u001b[39m, \u001b[33m1734\u001b[39m, \u001b[33m1956\u001b[39m, \u001b[33m2045\u001b[39m, \u001b[33m1964\u001b[39m, \u001b[33m1993\u001b[39m, \u001b[33m1839\u001b[39m,\n",
            "    \u001b[33m2142\u001b[39m, \u001b[33m2028\u001b[39m, \u001b[33m1905\u001b[39m, \u001b[33m1937\u001b[39m, \u001b[33m1901\u001b[39m, \u001b[33m1978\u001b[39m, \u001b[33m1951\u001b[39m, \u001b[33m2211\u001b[39m, \u001b[33m1963\u001b[39m, \u001b[33m2017\u001b[39m,\n",
            "    \u001b[33m1945\u001b[39m, \u001b[33m2108\u001b[39m, \u001b[33m1746\u001b[39m, \u001b[33m2177\u001b[39m, \u001b[33m2014\u001b[39m, \u001b[33m1836\u001b[39m, \u001b[33m1877\u001b[39m, \u001b[33m1861\u001b[39m, \u001b[33m2108\u001b[39m, \u001b[33m1817\u001b[39m,\n",
            "    \u001b[33m1780\u001b[39m, \u001b[33m2083\u001b[39m, \u001b[33m2097\u001b[39m, \u001b[33m1779\u001b[39m, \u001b[33m1985\u001b[39m, \u001b[33m2077\u001b[39m, \u001b[33m2094\u001b[39m, \u001b[33m2094\u001b[39m, \u001b[33m1873\u001b[39m, \u001b[33m1911\u001b[39m,\n",
            "    \u001b[33m2058\u001b[39m, \u001b[33m1819\u001b[39m, \u001b[33m1861\u001b[39m, \u001b[33m1689\u001b[39m, \u001b[33m2135\u001b[39m, \u001b[33m1886\u001b[39m, \u001b[33m1925\u001b[39m, \u001b[33m2030\u001b[39m, \u001b[33m1773\u001b[39m, \u001b[33m1816\u001b[39m,\n",
            "    ... 500 more items\n",
            "  ],\n",
            "  [\n",
            "    \u001b[33m1773\u001b[39m, \u001b[33m2205\u001b[39m, \u001b[33m2232\u001b[39m, \u001b[33m2042\u001b[39m, \u001b[33m2134\u001b[39m, \u001b[33m1843\u001b[39m, \u001b[33m2008\u001b[39m, \u001b[33m1943\u001b[39m, \u001b[33m2004\u001b[39m, \u001b[33m2205\u001b[39m,\n",
            "    \u001b[33m2140\u001b[39m, \u001b[33m2032\u001b[39m, \u001b[33m1843\u001b[39m, \u001b[33m2090\u001b[39m, \u001b[33m2309\u001b[39m, \u001b[33m1899\u001b[39m, \u001b[33m2217\u001b[39m, \u001b[33m2021\u001b[39m, \u001b[33m2114\u001b[39m, \u001b[33m2053\u001b[39m,\n",
            "    \u001b[33m1843\u001b[39m, \u001b[33m2080\u001b[39m, \u001b[33m2092\u001b[39m, \u001b[33m2301\u001b[39m, \u001b[33m2081\u001b[39m, \u001b[33m2113\u001b[39m, \u001b[33m2003\u001b[39m, \u001b[33m2220\u001b[39m, \u001b[33m1994\u001b[39m, \u001b[33m2311\u001b[39m,\n",
            "    \u001b[33m1928\u001b[39m, \u001b[33m1852\u001b[39m, \u001b[33m2163\u001b[39m, \u001b[33m2062\u001b[39m, \u001b[33m2207\u001b[39m, \u001b[33m2076\u001b[39m, \u001b[33m2293\u001b[39m, \u001b[33m2166\u001b[39m, \u001b[33m2133\u001b[39m, \u001b[33m1800\u001b[39m,\n",
            "    \u001b[33m2204\u001b[39m, \u001b[33m1806\u001b[39m, \u001b[33m1845\u001b[39m, \u001b[33m2042\u001b[39m, \u001b[33m2011\u001b[39m, \u001b[33m2158\u001b[39m, \u001b[33m2103\u001b[39m, \u001b[33m2119\u001b[39m, \u001b[33m1859\u001b[39m, \u001b[33m1965\u001b[39m,\n",
            "    \u001b[33m2152\u001b[39m, \u001b[33m1993\u001b[39m, \u001b[33m2241\u001b[39m, \u001b[33m2021\u001b[39m, \u001b[33m1922\u001b[39m, \u001b[33m2192\u001b[39m, \u001b[33m2327\u001b[39m, \u001b[33m2194\u001b[39m, \u001b[33m2170\u001b[39m, \u001b[33m1789\u001b[39m,\n",
            "    \u001b[33m2213\u001b[39m, \u001b[33m2055\u001b[39m, \u001b[33m2025\u001b[39m, \u001b[33m2000\u001b[39m, \u001b[33m2130\u001b[39m, \u001b[33m2189\u001b[39m, \u001b[33m2137\u001b[39m, \u001b[33m2277\u001b[39m, \u001b[33m2164\u001b[39m, \u001b[33m2174\u001b[39m,\n",
            "    \u001b[33m2092\u001b[39m, \u001b[33m2405\u001b[39m, \u001b[33m1756\u001b[39m, \u001b[33m2241\u001b[39m, \u001b[33m2036\u001b[39m, \u001b[33m2033\u001b[39m, \u001b[33m2026\u001b[39m, \u001b[33m1936\u001b[39m, \u001b[33m2284\u001b[39m, \u001b[33m1974\u001b[39m,\n",
            "    \u001b[33m1860\u001b[39m, \u001b[33m2068\u001b[39m, \u001b[33m2416\u001b[39m, \u001b[33m1845\u001b[39m, \u001b[33m2003\u001b[39m, \u001b[33m2108\u001b[39m, \u001b[33m2019\u001b[39m, \u001b[33m2220\u001b[39m, \u001b[33m1895\u001b[39m, \u001b[33m1842\u001b[39m,\n",
            "    \u001b[33m2248\u001b[39m, \u001b[33m1901\u001b[39m, \u001b[33m2055\u001b[39m, \u001b[33m1771\u001b[39m, \u001b[33m2214\u001b[39m, \u001b[33m1924\u001b[39m, \u001b[33m2054\u001b[39m, \u001b[33m1997\u001b[39m, \u001b[33m1924\u001b[39m, \u001b[33m1834\u001b[39m,\n",
            "    ... 500 more items\n",
            "  ],\n",
            "  [\n",
            "    \u001b[33m1866\u001b[39m, \u001b[33m2355\u001b[39m, \u001b[33m2513\u001b[39m, \u001b[33m2095\u001b[39m, \u001b[33m2280\u001b[39m, \u001b[33m2153\u001b[39m, \u001b[33m2395\u001b[39m, \u001b[33m2001\u001b[39m, \u001b[33m2318\u001b[39m, \u001b[33m2532\u001b[39m,\n",
            "    \u001b[33m2229\u001b[39m, \u001b[33m2411\u001b[39m, \u001b[33m2064\u001b[39m, \u001b[33m2039\u001b[39m, \u001b[33m2501\u001b[39m, \u001b[33m2016\u001b[39m, \u001b[33m2262\u001b[39m, \u001b[33m2302\u001b[39m, \u001b[33m2288\u001b[39m, \u001b[33m2294\u001b[39m,\n",
            "    \u001b[33m2082\u001b[39m, \u001b[33m2295\u001b[39m, \u001b[33m2009\u001b[39m, \u001b[33m2378\u001b[39m, \u001b[33m2048\u001b[39m, \u001b[33m2354\u001b[39m, \u001b[33m2188\u001b[39m, \u001b[33m2445\u001b[39m, \u001b[33m2328\u001b[39m, \u001b[33m2465\u001b[39m,\n",
            "    \u001b[33m2159\u001b[39m, \u001b[33m2161\u001b[39m, \u001b[33m2378\u001b[39m, \u001b[33m2319\u001b[39m, \u001b[33m2259\u001b[39m, \u001b[33m2172\u001b[39m, \u001b[33m2332\u001b[39m, \u001b[33m2293\u001b[39m, \u001b[33m2375\u001b[39m, \u001b[33m2124\u001b[39m,\n",
            "    \u001b[33m2263\u001b[39m, \u001b[33m1962\u001b[39m, \u001b[33m2130\u001b[39m, \u001b[33m2013\u001b[39m, \u001b[33m2046\u001b[39m, \u001b[33m2257\u001b[39m, \u001b[33m2337\u001b[39m, \u001b[33m2283\u001b[39m, \u001b[33m2081\u001b[39m, \u001b[33m2168\u001b[39m,\n",
            "    \u001b[33m2382\u001b[39m, \u001b[33m2184\u001b[39m, \u001b[33m2454\u001b[39m, \u001b[33m1957\u001b[39m, \u001b[33m1966\u001b[39m, \u001b[33m2347\u001b[39m, \u001b[33m2371\u001b[39m, \u001b[33m2346\u001b[39m, \u001b[33m2269\u001b[39m, \u001b[33m2083\u001b[39m,\n",
            "    \u001b[33m2367\u001b[39m, \u001b[33m2244\u001b[39m, \u001b[33m2146\u001b[39m, \u001b[33m2330\u001b[39m, \u001b[33m2228\u001b[39m, \u001b[33m2332\u001b[39m, \u001b[33m2429\u001b[39m, \u001b[33m2440\u001b[39m, \u001b[33m2302\u001b[39m, \u001b[33m2284\u001b[39m,\n",
            "    \u001b[33m2259\u001b[39m, \u001b[33m2383\u001b[39m, \u001b[33m2083\u001b[39m, \u001b[33m2655\u001b[39m, \u001b[33m2132\u001b[39m, \u001b[33m2282\u001b[39m, \u001b[33m2285\u001b[39m, \u001b[33m2154\u001b[39m, \u001b[33m2403\u001b[39m, \u001b[33m2168\u001b[39m,\n",
            "    \u001b[33m2034\u001b[39m, \u001b[33m2526\u001b[39m, \u001b[33m2432\u001b[39m, \u001b[33m2110\u001b[39m, \u001b[33m2385\u001b[39m, \u001b[33m2287\u001b[39m, \u001b[33m2302\u001b[39m, \u001b[33m2298\u001b[39m, \u001b[33m1991\u001b[39m, \u001b[33m2119\u001b[39m,\n",
            "    \u001b[33m2377\u001b[39m, \u001b[33m2105\u001b[39m, \u001b[33m2119\u001b[39m, \u001b[33m2109\u001b[39m, \u001b[33m2467\u001b[39m, \u001b[33m2260\u001b[39m, \u001b[33m2107\u001b[39m, \u001b[33m2367\u001b[39m, \u001b[33m2230\u001b[39m, \u001b[33m2109\u001b[39m,\n",
            "    ... 500 more items\n",
            "  ],\n",
            "  [\n",
            "    \u001b[33m1744\u001b[39m, \u001b[33m2167\u001b[39m, \u001b[33m2142\u001b[39m, \u001b[33m1827\u001b[39m, \u001b[33m2096\u001b[39m, \u001b[33m1774\u001b[39m, \u001b[33m2036\u001b[39m, \u001b[33m1782\u001b[39m, \u001b[33m1992\u001b[39m, \u001b[33m2034\u001b[39m,\n",
            "    \u001b[33m1815\u001b[39m, \u001b[33m2092\u001b[39m, \u001b[33m1846\u001b[39m, \u001b[33m1955\u001b[39m, \u001b[33m2186\u001b[39m, \u001b[33m1789\u001b[39m, \u001b[33m2012\u001b[39m, \u001b[33m1922\u001b[39m, \u001b[33m2020\u001b[39m, \u001b[33m2106\u001b[39m,\n",
            "    \u001b[33m1785\u001b[39m, \u001b[33m1968\u001b[39m, \u001b[33m1830\u001b[39m, \u001b[33m2121\u001b[39m, \u001b[33m1902\u001b[39m, \u001b[33m2186\u001b[39m, \u001b[33m1944\u001b[39m, \u001b[33m1987\u001b[39m, \u001b[33m2013\u001b[39m, \u001b[33m2301\u001b[39m,\n",
            "    \u001b[33m1757\u001b[39m, \u001b[33m2026\u001b[39m, \u001b[33m2137\u001b[39m, \u001b[33m1998\u001b[39m, \u001b[33m2252\u001b[39m, \u001b[33m1982\u001b[39m, \u001b[33m1943\u001b[39m, \u001b[33m1886\u001b[39m, \u001b[33m2188\u001b[39m, \u001b[33m1873\u001b[39m,\n",
            "    \u001b[33m2213\u001b[39m, \u001b[33m1901\u001b[39m, \u001b[33m1906\u001b[39m, \u001b[33m2020\u001b[39m, \u001b[33m1830\u001b[39m, \u001b[33m1948\u001b[39m, \u001b[33m2047\u001b[39m, \u001b[33m2008\u001b[39m, \u001b[33m1871\u001b[39m, \u001b[33m1892\u001b[39m,\n",
            "    \u001b[33m2076\u001b[39m, \u001b[33m1762\u001b[39m, \u001b[33m2118\u001b[39m, \u001b[33m2021\u001b[39m, \u001b[33m1768\u001b[39m, \u001b[33m2100\u001b[39m, \u001b[33m2092\u001b[39m, \u001b[33m1985\u001b[39m, \u001b[33m2146\u001b[39m, \u001b[33m1853\u001b[39m,\n",
            "    \u001b[33m2080\u001b[39m, \u001b[33m1941\u001b[39m, \u001b[33m2061\u001b[39m, \u001b[33m1758\u001b[39m, \u001b[33m1995\u001b[39m, \u001b[33m2027\u001b[39m, \u001b[33m2145\u001b[39m, \u001b[33m2302\u001b[39m, \u001b[33m1968\u001b[39m, \u001b[33m1858\u001b[39m,\n",
            "    \u001b[33m1873\u001b[39m, \u001b[33m2127\u001b[39m, \u001b[33m1931\u001b[39m, \u001b[33m2238\u001b[39m, \u001b[33m1860\u001b[39m, \u001b[33m1961\u001b[39m, \u001b[33m1977\u001b[39m, \u001b[33m1938\u001b[39m, \u001b[33m2298\u001b[39m, \u001b[33m1860\u001b[39m,\n",
            "    \u001b[33m1843\u001b[39m, \u001b[33m2124\u001b[39m, \u001b[33m2150\u001b[39m, \u001b[33m1848\u001b[39m, \u001b[33m2177\u001b[39m, \u001b[33m1854\u001b[39m, \u001b[33m1995\u001b[39m, \u001b[33m2102\u001b[39m, \u001b[33m1796\u001b[39m, \u001b[33m2041\u001b[39m,\n",
            "    \u001b[33m2103\u001b[39m, \u001b[33m1908\u001b[39m, \u001b[33m1918\u001b[39m, \u001b[33m1819\u001b[39m, \u001b[33m2078\u001b[39m, \u001b[33m1982\u001b[39m, \u001b[33m2079\u001b[39m, \u001b[33m2102\u001b[39m, \u001b[33m2065\u001b[39m, \u001b[33m1818\u001b[39m,\n",
            "    ... 500 more items\n",
            "  ],\n",
            "  [\n",
            "    \u001b[33m1668\u001b[39m, \u001b[33m2345\u001b[39m, \u001b[33m2322\u001b[39m, \u001b[33m1916\u001b[39m, \u001b[33m2160\u001b[39m, \u001b[33m1971\u001b[39m, \u001b[33m2330\u001b[39m, \u001b[33m2078\u001b[39m, \u001b[33m2182\u001b[39m, \u001b[33m2303\u001b[39m,\n",
            "    \u001b[33m2128\u001b[39m, \u001b[33m2374\u001b[39m, \u001b[33m2214\u001b[39m, \u001b[33m2215\u001b[39m, \u001b[33m2343\u001b[39m, \u001b[33m2120\u001b[39m, \u001b[33m2163\u001b[39m, \u001b[33m2233\u001b[39m, \u001b[33m2253\u001b[39m, \u001b[33m2112\u001b[39m,\n",
            "    \u001b[33m2004\u001b[39m, \u001b[33m2178\u001b[39m, \u001b[33m2010\u001b[39m, \u001b[33m2246\u001b[39m, \u001b[33m2149\u001b[39m, \u001b[33m2350\u001b[39m, \u001b[33m2171\u001b[39m, \u001b[33m2351\u001b[39m, \u001b[33m2252\u001b[39m, \u001b[33m2401\u001b[39m,\n",
            "    \u001b[33m1919\u001b[39m, \u001b[33m2053\u001b[39m, \u001b[33m2366\u001b[39m, \u001b[33m2303\u001b[39m, \u001b[33m2233\u001b[39m, \u001b[33m2268\u001b[39m, \u001b[33m2148\u001b[39m, \u001b[33m2081\u001b[39m, \u001b[33m2416\u001b[39m, \u001b[33m2113\u001b[39m,\n",
            "    \u001b[33m2422\u001b[39m, \u001b[33m1964\u001b[39m, \u001b[33m2024\u001b[39m, \u001b[33m2037\u001b[39m, \u001b[33m2197\u001b[39m, \u001b[33m2176\u001b[39m, \u001b[33m2039\u001b[39m, \u001b[33m2333\u001b[39m, \u001b[33m2074\u001b[39m, \u001b[33m2199\u001b[39m,\n",
            "    \u001b[33m2341\u001b[39m, \u001b[33m2262\u001b[39m, \u001b[33m2345\u001b[39m, \u001b[33m2166\u001b[39m, \u001b[33m2038\u001b[39m, \u001b[33m2295\u001b[39m, \u001b[33m2295\u001b[39m, \u001b[33m2336\u001b[39m, \u001b[33m2257\u001b[39m, \u001b[33m2117\u001b[39m,\n",
            "    \u001b[33m2296\u001b[39m, \u001b[33m2183\u001b[39m, \u001b[33m2117\u001b[39m, \u001b[33m2109\u001b[39m, \u001b[33m2176\u001b[39m, \u001b[33m2382\u001b[39m, \u001b[33m2336\u001b[39m, \u001b[33m2329\u001b[39m, \u001b[33m2262\u001b[39m, \u001b[33m2220\u001b[39m,\n",
            "    \u001b[33m2227\u001b[39m, \u001b[33m2396\u001b[39m, \u001b[33m2000\u001b[39m, \u001b[33m2534\u001b[39m, \u001b[33m2167\u001b[39m, \u001b[33m2209\u001b[39m, \u001b[33m2333\u001b[39m, \u001b[33m2131\u001b[39m, \u001b[33m2216\u001b[39m, \u001b[33m2081\u001b[39m,\n",
            "    \u001b[33m2274\u001b[39m, \u001b[33m2336\u001b[39m, \u001b[33m2316\u001b[39m, \u001b[33m2070\u001b[39m, \u001b[33m2346\u001b[39m, \u001b[33m2164\u001b[39m, \u001b[33m2178\u001b[39m, \u001b[33m2388\u001b[39m, \u001b[33m2065\u001b[39m, \u001b[33m2166\u001b[39m,\n",
            "    \u001b[33m2358\u001b[39m, \u001b[33m1940\u001b[39m, \u001b[33m1863\u001b[39m, \u001b[33m2024\u001b[39m, \u001b[33m2408\u001b[39m, \u001b[33m2185\u001b[39m, \u001b[33m2070\u001b[39m, \u001b[33m2295\u001b[39m, \u001b[33m2155\u001b[39m, \u001b[33m2190\u001b[39m,\n",
            "    ... 500 more items\n",
            "  ],\n",
            "  [\n",
            "    \u001b[33m1587\u001b[39m, \u001b[33m2031\u001b[39m, \u001b[33m2162\u001b[39m, \u001b[33m2133\u001b[39m, \u001b[33m2020\u001b[39m, \u001b[33m1888\u001b[39m, \u001b[33m2143\u001b[39m, \u001b[33m1837\u001b[39m, \u001b[33m1885\u001b[39m, \u001b[33m1985\u001b[39m,\n",
            "    \u001b[33m2059\u001b[39m, \u001b[33m2170\u001b[39m, \u001b[33m1938\u001b[39m, \u001b[33m1835\u001b[39m, \u001b[33m2265\u001b[39m, \u001b[33m1871\u001b[39m, \u001b[33m2238\u001b[39m, \u001b[33m2018\u001b[39m, \u001b[33m2027\u001b[39m, \u001b[33m1973\u001b[39m,\n",
            "    \u001b[33m1863\u001b[39m, \u001b[33m2021\u001b[39m, \u001b[33m1900\u001b[39m, \u001b[33m2213\u001b[39m, \u001b[33m1877\u001b[39m, \u001b[33m2218\u001b[39m, \u001b[33m1864\u001b[39m, \u001b[33m2037\u001b[39m, \u001b[33m1876\u001b[39m, \u001b[33m2225\u001b[39m,\n",
            "    \u001b[33m1852\u001b[39m, \u001b[33m2022\u001b[39m, \u001b[33m2106\u001b[39m, \u001b[33m2232\u001b[39m, \u001b[33m2050\u001b[39m, \u001b[33m2091\u001b[39m, \u001b[33m2107\u001b[39m, \u001b[33m2023\u001b[39m, \u001b[33m2022\u001b[39m, \u001b[33m1886\u001b[39m,\n",
            "    \u001b[33m2130\u001b[39m, \u001b[33m1692\u001b[39m, \u001b[33m1872\u001b[39m, \u001b[33m1993\u001b[39m, \u001b[33m1876\u001b[39m, \u001b[33m1939\u001b[39m, \u001b[33m2089\u001b[39m, \u001b[33m2019\u001b[39m, \u001b[33m1831\u001b[39m, \u001b[33m1952\u001b[39m,\n",
            "    \u001b[33m2123\u001b[39m, \u001b[33m1966\u001b[39m, \u001b[33m2242\u001b[39m, \u001b[33m1902\u001b[39m, \u001b[33m1954\u001b[39m, \u001b[33m2073\u001b[39m, \u001b[33m2199\u001b[39m, \u001b[33m1908\u001b[39m, \u001b[33m2016\u001b[39m, \u001b[33m1784\u001b[39m,\n",
            "    \u001b[33m2129\u001b[39m, \u001b[33m2084\u001b[39m, \u001b[33m1935\u001b[39m, \u001b[33m2017\u001b[39m, \u001b[33m2117\u001b[39m, \u001b[33m2152\u001b[39m, \u001b[33m2056\u001b[39m, \u001b[33m2235\u001b[39m, \u001b[33m2243\u001b[39m, \u001b[33m2127\u001b[39m,\n",
            "    \u001b[33m2079\u001b[39m, \u001b[33m2249\u001b[39m, \u001b[33m1751\u001b[39m, \u001b[33m2198\u001b[39m, \u001b[33m2120\u001b[39m, \u001b[33m2284\u001b[39m, \u001b[33m1925\u001b[39m, \u001b[33m2015\u001b[39m, \u001b[33m2290\u001b[39m, \u001b[33m1943\u001b[39m,\n",
            "    \u001b[33m1920\u001b[39m, \u001b[33m2136\u001b[39m, \u001b[33m2271\u001b[39m, \u001b[33m1830\u001b[39m, \u001b[33m2051\u001b[39m, \u001b[33m2031\u001b[39m, \u001b[33m2094\u001b[39m, \u001b[33m2260\u001b[39m, \u001b[33m1957\u001b[39m, \u001b[33m2012\u001b[39m,\n",
            "    \u001b[33m2124\u001b[39m, \u001b[33m1818\u001b[39m, \u001b[33m2012\u001b[39m, \u001b[33m1808\u001b[39m, \u001b[33m2314\u001b[39m, \u001b[33m2043\u001b[39m, \u001b[33m2085\u001b[39m, \u001b[33m2153\u001b[39m, \u001b[33m1806\u001b[39m, \u001b[33m1839\u001b[39m,\n",
            "    ... 500 more items\n",
            "  ],\n",
            "  [\n",
            "    \u001b[33m1674\u001b[39m, \u001b[33m2234\u001b[39m, \u001b[33m2221\u001b[39m, \u001b[33m1969\u001b[39m, \u001b[33m2050\u001b[39m, \u001b[33m1974\u001b[39m, \u001b[33m2242\u001b[39m, \u001b[33m1867\u001b[39m, \u001b[33m1962\u001b[39m, \u001b[33m2265\u001b[39m,\n",
            "    \u001b[33m2041\u001b[39m, \u001b[33m2021\u001b[39m, \u001b[33m1861\u001b[39m, \u001b[33m1925\u001b[39m, \u001b[33m2209\u001b[39m, \u001b[33m2022\u001b[39m, \u001b[33m2069\u001b[39m, \u001b[33m2092\u001b[39m, \u001b[33m2146\u001b[39m, \u001b[33m2181\u001b[39m,\n",
            "    \u001b[33m1802\u001b[39m, \u001b[33m2015\u001b[39m, \u001b[33m1966\u001b[39m, \u001b[33m2148\u001b[39m, \u001b[33m1928\u001b[39m, \u001b[33m2070\u001b[39m, \u001b[33m1911\u001b[39m, \u001b[33m2208\u001b[39m, \u001b[33m2133\u001b[39m, \u001b[33m2231\u001b[39m,\n",
            "    \u001b[33m1917\u001b[39m, \u001b[33m2052\u001b[39m, \u001b[33m2032\u001b[39m, \u001b[33m2150\u001b[39m, \u001b[33m2128\u001b[39m, \u001b[33m1975\u001b[39m, \u001b[33m2230\u001b[39m, \u001b[33m1988\u001b[39m, \u001b[33m2209\u001b[39m, \u001b[33m1927\u001b[39m,\n",
            "    \u001b[33m2301\u001b[39m, \u001b[33m1789\u001b[39m, \u001b[33m1846\u001b[39m, \u001b[33m1825\u001b[39m, \u001b[33m1936\u001b[39m, \u001b[33m2140\u001b[39m, \u001b[33m2067\u001b[39m, \u001b[33m2152\u001b[39m, \u001b[33m1908\u001b[39m, \u001b[33m1892\u001b[39m,\n",
            "    \u001b[33m2157\u001b[39m, \u001b[33m1983\u001b[39m, \u001b[33m2292\u001b[39m, \u001b[33m1868\u001b[39m, \u001b[33m1923\u001b[39m, \u001b[33m2217\u001b[39m, \u001b[33m2228\u001b[39m, \u001b[33m2077\u001b[39m, \u001b[33m1998\u001b[39m, \u001b[33m1877\u001b[39m,\n",
            "    \u001b[33m2033\u001b[39m, \u001b[33m2023\u001b[39m, \u001b[33m1961\u001b[39m, \u001b[33m2214\u001b[39m, \u001b[33m2082\u001b[39m, \u001b[33m2237\u001b[39m, \u001b[33m2151\u001b[39m, \u001b[33m2236\u001b[39m, \u001b[33m2150\u001b[39m, \u001b[33m1926\u001b[39m,\n",
            "    \u001b[33m1948\u001b[39m, \u001b[33m2268\u001b[39m, \u001b[33m2107\u001b[39m, \u001b[33m2390\u001b[39m, \u001b[33m2120\u001b[39m, \u001b[33m1978\u001b[39m, \u001b[33m2075\u001b[39m, \u001b[33m2040\u001b[39m, \u001b[33m2189\u001b[39m, \u001b[33m2033\u001b[39m,\n",
            "    \u001b[33m1878\u001b[39m, \u001b[33m2188\u001b[39m, \u001b[33m2284\u001b[39m, \u001b[33m1916\u001b[39m, \u001b[33m2110\u001b[39m, \u001b[33m2050\u001b[39m, \u001b[33m2168\u001b[39m, \u001b[33m2076\u001b[39m, \u001b[33m1850\u001b[39m, \u001b[33m2002\u001b[39m,\n",
            "    \u001b[33m2235\u001b[39m, \u001b[33m1718\u001b[39m, \u001b[33m1891\u001b[39m, \u001b[33m1965\u001b[39m, \u001b[33m2320\u001b[39m, \u001b[33m2030\u001b[39m, \u001b[33m1967\u001b[39m, \u001b[33m2197\u001b[39m, \u001b[33m1828\u001b[39m, \u001b[33m2045\u001b[39m,\n",
            "    ... 500 more items\n",
            "  ],\n",
            "  [\n",
            "    \u001b[33m1608\u001b[39m, \u001b[33m2129\u001b[39m, \u001b[33m2007\u001b[39m, \u001b[33m1750\u001b[39m, \u001b[33m1877\u001b[39m, \u001b[33m1715\u001b[39m, \u001b[33m1905\u001b[39m, \u001b[33m1763\u001b[39m, \u001b[33m1847\u001b[39m, \u001b[33m1887\u001b[39m,\n",
            "    \u001b[33m1835\u001b[39m, \u001b[33m2020\u001b[39m, \u001b[33m1883\u001b[39m, \u001b[33m1973\u001b[39m, \u001b[33m1990\u001b[39m, \u001b[33m1695\u001b[39m, \u001b[33m2041\u001b[39m, \u001b[33m2062\u001b[39m, \u001b[33m2067\u001b[39m, \u001b[33m1957\u001b[39m,\n",
            "    \u001b[33m1626\u001b[39m, \u001b[33m2051\u001b[39m, \u001b[33m1730\u001b[39m, \u001b[33m1991\u001b[39m, \u001b[33m1717\u001b[39m, \u001b[33m2103\u001b[39m, \u001b[33m1882\u001b[39m, \u001b[33m2025\u001b[39m, \u001b[33m1879\u001b[39m, \u001b[33m2295\u001b[39m,\n",
            "    \u001b[33m1776\u001b[39m, \u001b[33m1812\u001b[39m, \u001b[33m2023\u001b[39m, \u001b[33m2180\u001b[39m, \u001b[33m2061\u001b[39m, \u001b[33m1952\u001b[39m, \u001b[33m1992\u001b[39m, \u001b[33m1818\u001b[39m, \u001b[33m1984\u001b[39m, \u001b[33m1848\u001b[39m,\n",
            "    \u001b[33m2276\u001b[39m, \u001b[33m1716\u001b[39m, \u001b[33m1691\u001b[39m, \u001b[33m1962\u001b[39m, \u001b[33m2006\u001b[39m, \u001b[33m1864\u001b[39m, \u001b[33m1970\u001b[39m, \u001b[33m1890\u001b[39m, \u001b[33m1896\u001b[39m, \u001b[33m2015\u001b[39m,\n",
            "    \u001b[33m2067\u001b[39m, \u001b[33m1859\u001b[39m, \u001b[33m2119\u001b[39m, \u001b[33m1785\u001b[39m, \u001b[33m1776\u001b[39m, \u001b[33m2046\u001b[39m, \u001b[33m1959\u001b[39m, \u001b[33m2017\u001b[39m, \u001b[33m1986\u001b[39m, \u001b[33m1827\u001b[39m,\n",
            "    \u001b[33m1938\u001b[39m, \u001b[33m1963\u001b[39m, \u001b[33m2011\u001b[39m, \u001b[33m2128\u001b[39m, \u001b[33m2028\u001b[39m, \u001b[33m1991\u001b[39m, \u001b[33m1932\u001b[39m, \u001b[33m2131\u001b[39m, \u001b[33m1940\u001b[39m, \u001b[33m2043\u001b[39m,\n",
            "    \u001b[33m1912\u001b[39m, \u001b[33m1927\u001b[39m, \u001b[33m1834\u001b[39m, \u001b[33m2249\u001b[39m, \u001b[33m1945\u001b[39m, \u001b[33m2123\u001b[39m, \u001b[33m1853\u001b[39m, \u001b[33m2051\u001b[39m, \u001b[33m2187\u001b[39m, \u001b[33m1842\u001b[39m,\n",
            "    \u001b[33m1731\u001b[39m, \u001b[33m1949\u001b[39m, \u001b[33m2066\u001b[39m, \u001b[33m1935\u001b[39m, \u001b[33m1924\u001b[39m, \u001b[33m1859\u001b[39m, \u001b[33m1900\u001b[39m, \u001b[33m1985\u001b[39m, \u001b[33m1842\u001b[39m, \u001b[33m1868\u001b[39m,\n",
            "    \u001b[33m1950\u001b[39m, \u001b[33m1645\u001b[39m, \u001b[33m1864\u001b[39m, \u001b[33m1639\u001b[39m, \u001b[33m2279\u001b[39m, \u001b[33m1905\u001b[39m, \u001b[33m2038\u001b[39m, \u001b[33m2250\u001b[39m, \u001b[33m1834\u001b[39m, \u001b[33m1627\u001b[39m,\n",
            "    ... 500 more items\n",
            "  ],\n",
            "  [\n",
            "    \u001b[33m1571\u001b[39m, \u001b[33m2160\u001b[39m, \u001b[33m2110\u001b[39m, \u001b[33m1657\u001b[39m, \u001b[33m1913\u001b[39m, \u001b[33m1691\u001b[39m, \u001b[33m1841\u001b[39m, \u001b[33m1714\u001b[39m, \u001b[33m1858\u001b[39m, \u001b[33m1884\u001b[39m,\n",
            "    \u001b[33m1836\u001b[39m, \u001b[33m2004\u001b[39m, \u001b[33m1716\u001b[39m, \u001b[33m1856\u001b[39m, \u001b[33m2032\u001b[39m, \u001b[33m1667\u001b[39m, \u001b[33m1865\u001b[39m, \u001b[33m1998\u001b[39m, \u001b[33m2036\u001b[39m, \u001b[33m1791\u001b[39m,\n",
            "    \u001b[33m1616\u001b[39m, \u001b[33m1944\u001b[39m, \u001b[33m1753\u001b[39m, \u001b[33m2038\u001b[39m, \u001b[33m1716\u001b[39m, \u001b[33m2011\u001b[39m, \u001b[33m1710\u001b[39m, \u001b[33m2000\u001b[39m, \u001b[33m1790\u001b[39m, \u001b[33m2337\u001b[39m,\n",
            "    \u001b[33m1885\u001b[39m, \u001b[33m1997\u001b[39m, \u001b[33m1982\u001b[39m, \u001b[33m2014\u001b[39m, \u001b[33m2033\u001b[39m, \u001b[33m1996\u001b[39m, \u001b[33m2080\u001b[39m, \u001b[33m1869\u001b[39m, \u001b[33m2023\u001b[39m, \u001b[33m1667\u001b[39m,\n",
            "    \u001b[33m2031\u001b[39m, \u001b[33m1602\u001b[39m, \u001b[33m1752\u001b[39m, \u001b[33m1827\u001b[39m, \u001b[33m1905\u001b[39m, \u001b[33m2003\u001b[39m, \u001b[33m2033\u001b[39m, \u001b[33m1958\u001b[39m, \u001b[33m1710\u001b[39m, \u001b[33m1897\u001b[39m,\n",
            "    \u001b[33m1892\u001b[39m, \u001b[33m1875\u001b[39m, \u001b[33m2010\u001b[39m, \u001b[33m1955\u001b[39m, \u001b[33m1825\u001b[39m, \u001b[33m2003\u001b[39m, \u001b[33m2038\u001b[39m, \u001b[33m1876\u001b[39m, \u001b[33m1836\u001b[39m, \u001b[33m1746\u001b[39m,\n",
            "    \u001b[33m1998\u001b[39m, \u001b[33m1942\u001b[39m, \u001b[33m2098\u001b[39m, \u001b[33m1829\u001b[39m, \u001b[33m1973\u001b[39m, \u001b[33m1974\u001b[39m, \u001b[33m1857\u001b[39m, \u001b[33m2029\u001b[39m, \u001b[33m1814\u001b[39m, \u001b[33m1898\u001b[39m,\n",
            "    \u001b[33m1778\u001b[39m, \u001b[33m1963\u001b[39m, \u001b[33m1914\u001b[39m, \u001b[33m2228\u001b[39m, \u001b[33m1957\u001b[39m, \u001b[33m1806\u001b[39m, \u001b[33m1847\u001b[39m, \u001b[33m1926\u001b[39m, \u001b[33m2064\u001b[39m, \u001b[33m1932\u001b[39m,\n",
            "    \u001b[33m1666\u001b[39m, \u001b[33m1976\u001b[39m, \u001b[33m2024\u001b[39m, \u001b[33m1881\u001b[39m, \u001b[33m1860\u001b[39m, \u001b[33m1858\u001b[39m, \u001b[33m2011\u001b[39m, \u001b[33m2143\u001b[39m, \u001b[33m1844\u001b[39m, \u001b[33m1788\u001b[39m,\n",
            "    \u001b[33m2042\u001b[39m, \u001b[33m1734\u001b[39m, \u001b[33m1855\u001b[39m, \u001b[33m1722\u001b[39m, \u001b[33m2081\u001b[39m, \u001b[33m1909\u001b[39m, \u001b[33m2024\u001b[39m, \u001b[33m2139\u001b[39m, \u001b[33m1721\u001b[39m, \u001b[33m1950\u001b[39m,\n",
            "    ... 500 more items\n",
            "  ],\n",
            "  [\n",
            "    \u001b[33m1751\u001b[39m, \u001b[33m2305\u001b[39m, \u001b[33m2265\u001b[39m, \u001b[33m1992\u001b[39m, \u001b[33m2166\u001b[39m, \u001b[33m1949\u001b[39m, \u001b[33m2353\u001b[39m, \u001b[33m2096\u001b[39m, \u001b[33m2053\u001b[39m, \u001b[33m2040\u001b[39m,\n",
            "    \u001b[33m2103\u001b[39m, \u001b[33m2203\u001b[39m, \u001b[33m1933\u001b[39m, \u001b[33m2084\u001b[39m, \u001b[33m2361\u001b[39m, \u001b[33m1889\u001b[39m, \u001b[33m2173\u001b[39m, \u001b[33m2310\u001b[39m, \u001b[33m2165\u001b[39m, \u001b[33m2078\u001b[39m,\n",
            "    \u001b[33m1858\u001b[39m, \u001b[33m2057\u001b[39m, \u001b[33m1976\u001b[39m, \u001b[33m2258\u001b[39m, \u001b[33m1989\u001b[39m, \u001b[33m2176\u001b[39m, \u001b[33m2173\u001b[39m, \u001b[33m2220\u001b[39m, \u001b[33m2123\u001b[39m, \u001b[33m2351\u001b[39m,\n",
            "    \u001b[33m2022\u001b[39m, \u001b[33m2023\u001b[39m, \u001b[33m2438\u001b[39m, \u001b[33m2384\u001b[39m, \u001b[33m2104\u001b[39m, \u001b[33m2175\u001b[39m, \u001b[33m2321\u001b[39m, \u001b[33m2151\u001b[39m, \u001b[33m2232\u001b[39m, \u001b[33m1951\u001b[39m,\n",
            "    \u001b[33m2214\u001b[39m, \u001b[33m1866\u001b[39m, \u001b[33m1952\u001b[39m, \u001b[33m2063\u001b[39m, \u001b[33m2020\u001b[39m, \u001b[33m2117\u001b[39m, \u001b[33m2200\u001b[39m, \u001b[33m2168\u001b[39m, \u001b[33m2193\u001b[39m, \u001b[33m2110\u001b[39m,\n",
            "    \u001b[33m2305\u001b[39m, \u001b[33m2091\u001b[39m, \u001b[33m2329\u001b[39m, \u001b[33m1998\u001b[39m, \u001b[33m1893\u001b[39m, \u001b[33m2097\u001b[39m, \u001b[33m2252\u001b[39m, \u001b[33m2218\u001b[39m, \u001b[33m2115\u001b[39m, \u001b[33m1966\u001b[39m,\n",
            "    \u001b[33m2242\u001b[39m, \u001b[33m2135\u001b[39m, \u001b[33m2168\u001b[39m, \u001b[33m2271\u001b[39m, \u001b[33m2175\u001b[39m, \u001b[33m2172\u001b[39m, \u001b[33m2259\u001b[39m, \u001b[33m2507\u001b[39m, \u001b[33m2142\u001b[39m, \u001b[33m2123\u001b[39m,\n",
            "    \u001b[33m2125\u001b[39m, \u001b[33m2477\u001b[39m, \u001b[33m1999\u001b[39m, \u001b[33m2234\u001b[39m, \u001b[33m2038\u001b[39m, \u001b[33m2218\u001b[39m, \u001b[33m2194\u001b[39m, \u001b[33m2048\u001b[39m, \u001b[33m2371\u001b[39m, \u001b[33m2005\u001b[39m,\n",
            "    \u001b[33m1974\u001b[39m, \u001b[33m2332\u001b[39m, \u001b[33m2502\u001b[39m, \u001b[33m2030\u001b[39m, \u001b[33m2343\u001b[39m, \u001b[33m2169\u001b[39m, \u001b[33m2031\u001b[39m, \u001b[33m2249\u001b[39m, \u001b[33m2044\u001b[39m, \u001b[33m2173\u001b[39m,\n",
            "    \u001b[33m2195\u001b[39m, \u001b[33m1911\u001b[39m, \u001b[33m2148\u001b[39m, \u001b[33m1860\u001b[39m, \u001b[33m2308\u001b[39m, \u001b[33m2058\u001b[39m, \u001b[33m2243\u001b[39m, \u001b[33m2326\u001b[39m, \u001b[33m1995\u001b[39m, \u001b[33m1899\u001b[39m,\n",
            "    ... 500 more items\n",
            "  ],\n",
            "  [\n",
            "    \u001b[33m1651\u001b[39m, \u001b[33m2013\u001b[39m, \u001b[33m2162\u001b[39m, \u001b[33m1881\u001b[39m, \u001b[33m1998\u001b[39m, \u001b[33m1875\u001b[39m, \u001b[33m2091\u001b[39m, \u001b[33m1820\u001b[39m, \u001b[33m1924\u001b[39m, \u001b[33m2158\u001b[39m,\n",
            "    \u001b[33m1955\u001b[39m, \u001b[33m1987\u001b[39m, \u001b[33m1876\u001b[39m, \u001b[33m1909\u001b[39m, \u001b[33m2221\u001b[39m, \u001b[33m1855\u001b[39m, \u001b[33m2038\u001b[39m, \u001b[33m1902\u001b[39m, \u001b[33m1950\u001b[39m, \u001b[33m1873\u001b[39m,\n",
            "    \u001b[33m1838\u001b[39m, \u001b[33m1837\u001b[39m, \u001b[33m1893\u001b[39m, \u001b[33m2131\u001b[39m, \u001b[33m1762\u001b[39m, \u001b[33m1953\u001b[39m, \u001b[33m2038\u001b[39m, \u001b[33m2144\u001b[39m, \u001b[33m1889\u001b[39m, \u001b[33m2293\u001b[39m,\n",
            "    \u001b[33m1902\u001b[39m, \u001b[33m2059\u001b[39m, \u001b[33m1965\u001b[39m, \u001b[33m2106\u001b[39m, \u001b[33m1896\u001b[39m, \u001b[33m2057\u001b[39m, \u001b[33m1945\u001b[39m, \u001b[33m1935\u001b[39m, \u001b[33m2116\u001b[39m, \u001b[33m1895\u001b[39m,\n",
            "    \u001b[33m2083\u001b[39m, \u001b[33m1763\u001b[39m, \u001b[33m1807\u001b[39m, \u001b[33m1704\u001b[39m, \u001b[33m1948\u001b[39m, \u001b[33m1993\u001b[39m, \u001b[33m1942\u001b[39m, \u001b[33m2034\u001b[39m, \u001b[33m1702\u001b[39m, \u001b[33m1844\u001b[39m,\n",
            "    \u001b[33m2135\u001b[39m, \u001b[33m1937\u001b[39m, \u001b[33m2100\u001b[39m, \u001b[33m1813\u001b[39m, \u001b[33m1933\u001b[39m, \u001b[33m1946\u001b[39m, \u001b[33m2106\u001b[39m, \u001b[33m1988\u001b[39m, \u001b[33m2057\u001b[39m, \u001b[33m1834\u001b[39m,\n",
            "    \u001b[33m2056\u001b[39m, \u001b[33m2007\u001b[39m, \u001b[33m1886\u001b[39m, \u001b[33m1994\u001b[39m, \u001b[33m1818\u001b[39m, \u001b[33m2091\u001b[39m, \u001b[33m2085\u001b[39m, \u001b[33m2214\u001b[39m, \u001b[33m1961\u001b[39m, \u001b[33m2018\u001b[39m,\n",
            "    \u001b[33m2120\u001b[39m, \u001b[33m2210\u001b[39m, \u001b[33m1805\u001b[39m, \u001b[33m2284\u001b[39m, \u001b[33m2034\u001b[39m, \u001b[33m1872\u001b[39m, \u001b[33m2118\u001b[39m, \u001b[33m1794\u001b[39m, \u001b[33m2396\u001b[39m, \u001b[33m1928\u001b[39m,\n",
            "    \u001b[33m1688\u001b[39m, \u001b[33m2161\u001b[39m, \u001b[33m2121\u001b[39m, \u001b[33m1873\u001b[39m, \u001b[33m1965\u001b[39m, \u001b[33m2005\u001b[39m, \u001b[33m2158\u001b[39m, \u001b[33m1923\u001b[39m, \u001b[33m2054\u001b[39m, \u001b[33m1952\u001b[39m,\n",
            "    \u001b[33m2015\u001b[39m, \u001b[33m1840\u001b[39m, \u001b[33m1795\u001b[39m, \u001b[33m1701\u001b[39m, \u001b[33m2135\u001b[39m, \u001b[33m1966\u001b[39m, \u001b[33m1856\u001b[39m, \u001b[33m2117\u001b[39m, \u001b[33m1887\u001b[39m, \u001b[33m1896\u001b[39m,\n",
            "    ... 500 more items\n",
            "  ],\n",
            "  [\n",
            "    \u001b[33m1610\u001b[39m, \u001b[33m2241\u001b[39m, \u001b[33m2033\u001b[39m, \u001b[33m1861\u001b[39m, \u001b[33m1963\u001b[39m, \u001b[33m1731\u001b[39m, \u001b[33m2078\u001b[39m, \u001b[33m1950\u001b[39m, \u001b[33m1863\u001b[39m, \u001b[33m2051\u001b[39m,\n",
            "    \u001b[33m2085\u001b[39m, \u001b[33m2256\u001b[39m, \u001b[33m1835\u001b[39m, \u001b[33m2045\u001b[39m, \u001b[33m2242\u001b[39m, \u001b[33m1918\u001b[39m, \u001b[33m2051\u001b[39m, \u001b[33m1963\u001b[39m, \u001b[33m1904\u001b[39m, \u001b[33m2014\u001b[39m,\n",
            "    \u001b[33m1831\u001b[39m, \u001b[33m2017\u001b[39m, \u001b[33m1851\u001b[39m, \u001b[33m2183\u001b[39m, \u001b[33m1954\u001b[39m, \u001b[33m2043\u001b[39m, \u001b[33m1992\u001b[39m, \u001b[33m2032\u001b[39m, \u001b[33m1989\u001b[39m, \u001b[33m2321\u001b[39m,\n",
            "    \u001b[33m1817\u001b[39m, \u001b[33m1976\u001b[39m, \u001b[33m2105\u001b[39m, \u001b[33m2189\u001b[39m, \u001b[33m2061\u001b[39m, \u001b[33m2071\u001b[39m, \u001b[33m2129\u001b[39m, \u001b[33m1986\u001b[39m, \u001b[33m2057\u001b[39m, \u001b[33m1866\u001b[39m,\n",
            "    \u001b[33m2019\u001b[39m, \u001b[33m1838\u001b[39m, \u001b[33m1843\u001b[39m, \u001b[33m1885\u001b[39m, \u001b[33m2032\u001b[39m, \u001b[33m2100\u001b[39m, \u001b[33m1997\u001b[39m, \u001b[33m2111\u001b[39m, \u001b[33m1992\u001b[39m, \u001b[33m2099\u001b[39m,\n",
            "    \u001b[33m2188\u001b[39m, \u001b[33m2037\u001b[39m, \u001b[33m2070\u001b[39m, \u001b[33m1833\u001b[39m, \u001b[33m1909\u001b[39m, \u001b[33m2148\u001b[39m, \u001b[33m2100\u001b[39m, \u001b[33m2065\u001b[39m, \u001b[33m2022\u001b[39m, \u001b[33m1847\u001b[39m,\n",
            "    \u001b[33m2210\u001b[39m, \u001b[33m2274\u001b[39m, \u001b[33m1806\u001b[39m, \u001b[33m2031\u001b[39m, \u001b[33m1907\u001b[39m, \u001b[33m2057\u001b[39m, \u001b[33m2123\u001b[39m, \u001b[33m2151\u001b[39m, \u001b[33m1987\u001b[39m, \u001b[33m2285\u001b[39m,\n",
            "    \u001b[33m2064\u001b[39m, \u001b[33m2282\u001b[39m, \u001b[33m1959\u001b[39m, \u001b[33m2423\u001b[39m, \u001b[33m2157\u001b[39m, \u001b[33m1927\u001b[39m, \u001b[33m2072\u001b[39m, \u001b[33m1965\u001b[39m, \u001b[33m2152\u001b[39m, \u001b[33m2003\u001b[39m,\n",
            "    \u001b[33m1905\u001b[39m, \u001b[33m2135\u001b[39m, \u001b[33m2341\u001b[39m, \u001b[33m1958\u001b[39m, \u001b[33m2000\u001b[39m, \u001b[33m2064\u001b[39m, \u001b[33m2149\u001b[39m, \u001b[33m2090\u001b[39m, \u001b[33m2052\u001b[39m, \u001b[33m1936\u001b[39m,\n",
            "    \u001b[33m2248\u001b[39m, \u001b[33m1858\u001b[39m, \u001b[33m1896\u001b[39m, \u001b[33m1992\u001b[39m, \u001b[33m2238\u001b[39m, \u001b[33m1987\u001b[39m, \u001b[33m1913\u001b[39m, \u001b[33m2177\u001b[39m, \u001b[33m1944\u001b[39m, \u001b[33m1919\u001b[39m,\n",
            "    ... 500 more items\n",
            "  ],\n",
            "  [\n",
            "    \u001b[33m1600\u001b[39m, \u001b[33m2138\u001b[39m, \u001b[33m2048\u001b[39m, \u001b[33m1712\u001b[39m, \u001b[33m1921\u001b[39m, \u001b[33m1699\u001b[39m, \u001b[33m1990\u001b[39m, \u001b[33m1767\u001b[39m, \u001b[33m1783\u001b[39m, \u001b[33m2054\u001b[39m,\n",
            "    \u001b[33m2092\u001b[39m, \u001b[33m2151\u001b[39m, \u001b[33m1660\u001b[39m, \u001b[33m1936\u001b[39m, \u001b[33m2147\u001b[39m, \u001b[33m1718\u001b[39m, \u001b[33m1946\u001b[39m, \u001b[33m1887\u001b[39m, \u001b[33m2045\u001b[39m, \u001b[33m2011\u001b[39m,\n",
            "    \u001b[33m1665\u001b[39m, \u001b[33m2029\u001b[39m, \u001b[33m1770\u001b[39m, \u001b[33m2045\u001b[39m, \u001b[33m1992\u001b[39m, \u001b[33m1955\u001b[39m, \u001b[33m1885\u001b[39m, \u001b[33m2125\u001b[39m, \u001b[33m1959\u001b[39m, \u001b[33m2242\u001b[39m,\n",
            "    \u001b[33m1718\u001b[39m, \u001b[33m1971\u001b[39m, \u001b[33m1926\u001b[39m, \u001b[33m2006\u001b[39m, \u001b[33m2095\u001b[39m, \u001b[33m2037\u001b[39m, \u001b[33m2183\u001b[39m, \u001b[33m1988\u001b[39m, \u001b[33m1948\u001b[39m, \u001b[33m1886\u001b[39m,\n",
            "    \u001b[33m2114\u001b[39m, \u001b[33m1699\u001b[39m, \u001b[33m1792\u001b[39m, \u001b[33m1860\u001b[39m, \u001b[33m2057\u001b[39m, \u001b[33m2132\u001b[39m, \u001b[33m1897\u001b[39m, \u001b[33m2019\u001b[39m, \u001b[33m1665\u001b[39m, \u001b[33m1906\u001b[39m,\n",
            "    \u001b[33m2006\u001b[39m, \u001b[33m1945\u001b[39m, \u001b[33m2153\u001b[39m, \u001b[33m2001\u001b[39m, \u001b[33m1941\u001b[39m, \u001b[33m2159\u001b[39m, \u001b[33m1997\u001b[39m, \u001b[33m1889\u001b[39m, \u001b[33m2050\u001b[39m, \u001b[33m1762\u001b[39m,\n",
            "    \u001b[33m1992\u001b[39m, \u001b[33m1962\u001b[39m, \u001b[33m1983\u001b[39m, \u001b[33m2005\u001b[39m, \u001b[33m1995\u001b[39m, \u001b[33m2107\u001b[39m, \u001b[33m1908\u001b[39m, \u001b[33m2111\u001b[39m, \u001b[33m2097\u001b[39m, \u001b[33m1958\u001b[39m,\n",
            "    \u001b[33m1869\u001b[39m, \u001b[33m2025\u001b[39m, \u001b[33m1819\u001b[39m, \u001b[33m2390\u001b[39m, \u001b[33m1962\u001b[39m, \u001b[33m1829\u001b[39m, \u001b[33m1931\u001b[39m, \u001b[33m1880\u001b[39m, \u001b[33m2060\u001b[39m, \u001b[33m1907\u001b[39m,\n",
            "    \u001b[33m1792\u001b[39m, \u001b[33m2030\u001b[39m, \u001b[33m2256\u001b[39m, \u001b[33m1894\u001b[39m, \u001b[33m1862\u001b[39m, \u001b[33m1898\u001b[39m, \u001b[33m2065\u001b[39m, \u001b[33m2152\u001b[39m, \u001b[33m1771\u001b[39m, \u001b[33m2014\u001b[39m,\n",
            "    \u001b[33m2096\u001b[39m, \u001b[33m1758\u001b[39m, \u001b[33m1994\u001b[39m, \u001b[33m1772\u001b[39m, \u001b[33m2188\u001b[39m, \u001b[33m1998\u001b[39m, \u001b[33m1963\u001b[39m, \u001b[33m1954\u001b[39m, \u001b[33m1882\u001b[39m, \u001b[33m1783\u001b[39m,\n",
            "    ... 500 more items\n",
            "  ],\n",
            "  [\n",
            "    \u001b[33m1633\u001b[39m, \u001b[33m2057\u001b[39m, \u001b[33m2027\u001b[39m, \u001b[33m1881\u001b[39m, \u001b[33m1825\u001b[39m, \u001b[33m1793\u001b[39m, \u001b[33m2110\u001b[39m, \u001b[33m1796\u001b[39m, \u001b[33m1793\u001b[39m, \u001b[33m2147\u001b[39m,\n",
            "    \u001b[33m1915\u001b[39m, \u001b[33m1890\u001b[39m, \u001b[33m1656\u001b[39m, \u001b[33m1828\u001b[39m, \u001b[33m1967\u001b[39m, \u001b[33m1816\u001b[39m, \u001b[33m1882\u001b[39m, \u001b[33m1891\u001b[39m, \u001b[33m1986\u001b[39m, \u001b[33m2039\u001b[39m,\n",
            "    \u001b[33m1746\u001b[39m, \u001b[33m1828\u001b[39m, \u001b[33m1842\u001b[39m, \u001b[33m2036\u001b[39m, \u001b[33m1841\u001b[39m, \u001b[33m1851\u001b[39m, \u001b[33m1839\u001b[39m, \u001b[33m1977\u001b[39m, \u001b[33m1900\u001b[39m, \u001b[33m2114\u001b[39m,\n",
            "    \u001b[33m1758\u001b[39m, \u001b[33m1888\u001b[39m, \u001b[33m1990\u001b[39m, \u001b[33m2061\u001b[39m, \u001b[33m1985\u001b[39m, \u001b[33m1830\u001b[39m, \u001b[33m1886\u001b[39m, \u001b[33m1995\u001b[39m, \u001b[33m2007\u001b[39m, \u001b[33m1646\u001b[39m,\n",
            "    \u001b[33m1958\u001b[39m, \u001b[33m1739\u001b[39m, \u001b[33m1716\u001b[39m, \u001b[33m1771\u001b[39m, \u001b[33m1760\u001b[39m, \u001b[33m1812\u001b[39m, \u001b[33m1984\u001b[39m, \u001b[33m1995\u001b[39m, \u001b[33m1643\u001b[39m, \u001b[33m1940\u001b[39m,\n",
            "    \u001b[33m1972\u001b[39m, \u001b[33m1786\u001b[39m, \u001b[33m2114\u001b[39m, \u001b[33m1669\u001b[39m, \u001b[33m1620\u001b[39m, \u001b[33m2000\u001b[39m, \u001b[33m2050\u001b[39m, \u001b[33m1962\u001b[39m, \u001b[33m1832\u001b[39m, \u001b[33m1820\u001b[39m,\n",
            "    \u001b[33m1920\u001b[39m, \u001b[33m1975\u001b[39m, \u001b[33m1923\u001b[39m, \u001b[33m1896\u001b[39m, \u001b[33m1894\u001b[39m, \u001b[33m1999\u001b[39m, \u001b[33m1981\u001b[39m, \u001b[33m2130\u001b[39m, \u001b[33m1973\u001b[39m, \u001b[33m1928\u001b[39m,\n",
            "    \u001b[33m1990\u001b[39m, \u001b[33m2229\u001b[39m, \u001b[33m1749\u001b[39m, \u001b[33m2114\u001b[39m, \u001b[33m1934\u001b[39m, \u001b[33m2083\u001b[39m, \u001b[33m1845\u001b[39m, \u001b[33m1951\u001b[39m, \u001b[33m2166\u001b[39m, \u001b[33m2001\u001b[39m,\n",
            "    \u001b[33m1900\u001b[39m, \u001b[33m2139\u001b[39m, \u001b[33m2219\u001b[39m, \u001b[33m1845\u001b[39m, \u001b[33m1871\u001b[39m, \u001b[33m1888\u001b[39m, \u001b[33m1913\u001b[39m, \u001b[33m2029\u001b[39m, \u001b[33m1826\u001b[39m, \u001b[33m1971\u001b[39m,\n",
            "    \u001b[33m1993\u001b[39m, \u001b[33m1769\u001b[39m, \u001b[33m1909\u001b[39m, \u001b[33m1810\u001b[39m, \u001b[33m2042\u001b[39m, \u001b[33m1817\u001b[39m, \u001b[33m1822\u001b[39m, \u001b[33m1903\u001b[39m, \u001b[33m1737\u001b[39m, \u001b[33m1715\u001b[39m,\n",
            "    ... 500 more items\n",
            "  ],\n",
            "  [\n",
            "    \u001b[33m1782\u001b[39m, \u001b[33m2389\u001b[39m, \u001b[33m2275\u001b[39m, \u001b[33m2220\u001b[39m, \u001b[33m2246\u001b[39m, \u001b[33m1950\u001b[39m, \u001b[33m2490\u001b[39m, \u001b[33m2050\u001b[39m, \u001b[33m1997\u001b[39m, \u001b[33m2277\u001b[39m,\n",
            "    \u001b[33m2118\u001b[39m, \u001b[33m2303\u001b[39m, \u001b[33m1872\u001b[39m, \u001b[33m2097\u001b[39m, \u001b[33m2382\u001b[39m, \u001b[33m1985\u001b[39m, \u001b[33m2214\u001b[39m, \u001b[33m2197\u001b[39m, \u001b[33m2137\u001b[39m, \u001b[33m2323\u001b[39m,\n",
            "    \u001b[33m1938\u001b[39m, \u001b[33m2228\u001b[39m, \u001b[33m1980\u001b[39m, \u001b[33m2347\u001b[39m, \u001b[33m2058\u001b[39m, \u001b[33m2259\u001b[39m, \u001b[33m2052\u001b[39m, \u001b[33m2248\u001b[39m, \u001b[33m2214\u001b[39m, \u001b[33m2592\u001b[39m,\n",
            "    \u001b[33m1981\u001b[39m, \u001b[33m2213\u001b[39m, \u001b[33m2392\u001b[39m, \u001b[33m2218\u001b[39m, \u001b[33m2328\u001b[39m, \u001b[33m2190\u001b[39m, \u001b[33m2124\u001b[39m, \u001b[33m2322\u001b[39m, \u001b[33m2390\u001b[39m, \u001b[33m2094\u001b[39m,\n",
            "    \u001b[33m2261\u001b[39m, \u001b[33m1963\u001b[39m, \u001b[33m1995\u001b[39m, \u001b[33m2021\u001b[39m, \u001b[33m2060\u001b[39m, \u001b[33m2038\u001b[39m, \u001b[33m2099\u001b[39m, \u001b[33m2128\u001b[39m, \u001b[33m1896\u001b[39m, \u001b[33m2199\u001b[39m,\n",
            "    \u001b[33m2275\u001b[39m, \u001b[33m2223\u001b[39m, \u001b[33m2470\u001b[39m, \u001b[33m2017\u001b[39m, \u001b[33m1987\u001b[39m, \u001b[33m2212\u001b[39m, \u001b[33m2339\u001b[39m, \u001b[33m2138\u001b[39m, \u001b[33m2328\u001b[39m, \u001b[33m1985\u001b[39m,\n",
            "    \u001b[33m2302\u001b[39m, \u001b[33m2271\u001b[39m, \u001b[33m2147\u001b[39m, \u001b[33m2138\u001b[39m, \u001b[33m2162\u001b[39m, \u001b[33m2295\u001b[39m, \u001b[33m2482\u001b[39m, \u001b[33m2493\u001b[39m, \u001b[33m2313\u001b[39m, \u001b[33m2235\u001b[39m,\n",
            "    \u001b[33m2176\u001b[39m, \u001b[33m2416\u001b[39m, \u001b[33m2144\u001b[39m, \u001b[33m2432\u001b[39m, \u001b[33m2139\u001b[39m, \u001b[33m2229\u001b[39m, \u001b[33m2287\u001b[39m, \u001b[33m2053\u001b[39m, \u001b[33m2334\u001b[39m, \u001b[33m2102\u001b[39m,\n",
            "    \u001b[33m2086\u001b[39m, \u001b[33m2439\u001b[39m, \u001b[33m2420\u001b[39m, \u001b[33m1990\u001b[39m, \u001b[33m2174\u001b[39m, \u001b[33m2103\u001b[39m, \u001b[33m2405\u001b[39m, \u001b[33m2301\u001b[39m, \u001b[33m2070\u001b[39m, \u001b[33m2208\u001b[39m,\n",
            "    \u001b[33m2442\u001b[39m, \u001b[33m2042\u001b[39m, \u001b[33m2139\u001b[39m, \u001b[33m1877\u001b[39m, \u001b[33m2395\u001b[39m, \u001b[33m2077\u001b[39m, \u001b[33m2080\u001b[39m, \u001b[33m2217\u001b[39m, \u001b[33m2159\u001b[39m, \u001b[33m2104\u001b[39m,\n",
            "    ... 500 more items\n",
            "  ],\n",
            "  [\n",
            "    \u001b[33m1704\u001b[39m, \u001b[33m2165\u001b[39m, \u001b[33m2066\u001b[39m, \u001b[33m1986\u001b[39m, \u001b[33m2148\u001b[39m, \u001b[33m1752\u001b[39m, \u001b[33m2119\u001b[39m, \u001b[33m1710\u001b[39m, \u001b[33m2108\u001b[39m, \u001b[33m2076\u001b[39m,\n",
            "    \u001b[33m1812\u001b[39m, \u001b[33m2160\u001b[39m, \u001b[33m1938\u001b[39m, \u001b[33m1874\u001b[39m, \u001b[33m2274\u001b[39m, \u001b[33m1899\u001b[39m, \u001b[33m2056\u001b[39m, \u001b[33m1893\u001b[39m, \u001b[33m2108\u001b[39m, \u001b[33m2115\u001b[39m,\n",
            "    \u001b[33m1753\u001b[39m, \u001b[33m1916\u001b[39m, \u001b[33m1791\u001b[39m, \u001b[33m2098\u001b[39m, \u001b[33m1981\u001b[39m, \u001b[33m2268\u001b[39m, \u001b[33m2043\u001b[39m, \u001b[33m2211\u001b[39m, \u001b[33m1995\u001b[39m, \u001b[33m2298\u001b[39m,\n",
            "    \u001b[33m1901\u001b[39m, \u001b[33m1981\u001b[39m, \u001b[33m2215\u001b[39m, \u001b[33m2163\u001b[39m, \u001b[33m2014\u001b[39m, \u001b[33m1967\u001b[39m, \u001b[33m2180\u001b[39m, \u001b[33m1951\u001b[39m, \u001b[33m2109\u001b[39m, \u001b[33m1906\u001b[39m,\n",
            "    \u001b[33m2151\u001b[39m, \u001b[33m1846\u001b[39m, \u001b[33m1931\u001b[39m, \u001b[33m1947\u001b[39m, \u001b[33m1883\u001b[39m, \u001b[33m2007\u001b[39m, \u001b[33m2103\u001b[39m, \u001b[33m2059\u001b[39m, \u001b[33m1679\u001b[39m, \u001b[33m1994\u001b[39m,\n",
            "    \u001b[33m2123\u001b[39m, \u001b[33m1864\u001b[39m, \u001b[33m2184\u001b[39m, \u001b[33m1907\u001b[39m, \u001b[33m1838\u001b[39m, \u001b[33m2094\u001b[39m, \u001b[33m2136\u001b[39m, \u001b[33m1997\u001b[39m, \u001b[33m2029\u001b[39m, \u001b[33m2085\u001b[39m,\n",
            "    \u001b[33m2111\u001b[39m, \u001b[33m2126\u001b[39m, \u001b[33m1887\u001b[39m, \u001b[33m2081\u001b[39m, \u001b[33m2050\u001b[39m, \u001b[33m2030\u001b[39m, \u001b[33m2275\u001b[39m, \u001b[33m2273\u001b[39m, \u001b[33m2103\u001b[39m, \u001b[33m2064\u001b[39m,\n",
            "    \u001b[33m1852\u001b[39m, \u001b[33m1984\u001b[39m, \u001b[33m1910\u001b[39m, \u001b[33m2432\u001b[39m, \u001b[33m1806\u001b[39m, \u001b[33m2061\u001b[39m, \u001b[33m1991\u001b[39m, \u001b[33m1951\u001b[39m, \u001b[33m2106\u001b[39m, \u001b[33m2130\u001b[39m,\n",
            "    \u001b[33m1789\u001b[39m, \u001b[33m2193\u001b[39m, \u001b[33m2241\u001b[39m, \u001b[33m1948\u001b[39m, \u001b[33m2172\u001b[39m, \u001b[33m1987\u001b[39m, \u001b[33m1962\u001b[39m, \u001b[33m2055\u001b[39m, \u001b[33m1781\u001b[39m, \u001b[33m1840\u001b[39m,\n",
            "    \u001b[33m2324\u001b[39m, \u001b[33m1761\u001b[39m, \u001b[33m1927\u001b[39m, \u001b[33m1754\u001b[39m, \u001b[33m2371\u001b[39m, \u001b[33m2114\u001b[39m, \u001b[33m2046\u001b[39m, \u001b[33m2164\u001b[39m, \u001b[33m1933\u001b[39m, \u001b[33m1899\u001b[39m,\n",
            "    ... 500 more items\n",
            "  ],\n",
            "  [\n",
            "    \u001b[33m1900\u001b[39m, \u001b[33m2461\u001b[39m, \u001b[33m2312\u001b[39m, \u001b[33m1978\u001b[39m, \u001b[33m2205\u001b[39m, \u001b[33m1914\u001b[39m, \u001b[33m2319\u001b[39m, \u001b[33m2099\u001b[39m, \u001b[33m2070\u001b[39m, \u001b[33m2167\u001b[39m,\n",
            "    \u001b[33m1946\u001b[39m, \u001b[33m2235\u001b[39m, \u001b[33m2058\u001b[39m, \u001b[33m2234\u001b[39m, \u001b[33m2355\u001b[39m, \u001b[33m1968\u001b[39m, \u001b[33m2180\u001b[39m, \u001b[33m2161\u001b[39m, \u001b[33m2381\u001b[39m, \u001b[33m2218\u001b[39m,\n",
            "    \u001b[33m1728\u001b[39m, \u001b[33m2140\u001b[39m, \u001b[33m1977\u001b[39m, \u001b[33m2389\u001b[39m, \u001b[33m2154\u001b[39m, \u001b[33m2112\u001b[39m, \u001b[33m2120\u001b[39m, \u001b[33m2248\u001b[39m, \u001b[33m2289\u001b[39m, \u001b[33m2574\u001b[39m,\n",
            "    \u001b[33m1988\u001b[39m, \u001b[33m2235\u001b[39m, \u001b[33m2318\u001b[39m, \u001b[33m2333\u001b[39m, \u001b[33m2134\u001b[39m, \u001b[33m2273\u001b[39m, \u001b[33m2112\u001b[39m, \u001b[33m2184\u001b[39m, \u001b[33m2192\u001b[39m, \u001b[33m2105\u001b[39m,\n",
            "    \u001b[33m2394\u001b[39m, \u001b[33m1918\u001b[39m, \u001b[33m1926\u001b[39m, \u001b[33m2209\u001b[39m, \u001b[33m2088\u001b[39m, \u001b[33m2164\u001b[39m, \u001b[33m2076\u001b[39m, \u001b[33m2186\u001b[39m, \u001b[33m2027\u001b[39m, \u001b[33m2175\u001b[39m,\n",
            "    \u001b[33m2212\u001b[39m, \u001b[33m2097\u001b[39m, \u001b[33m2522\u001b[39m, \u001b[33m2105\u001b[39m, \u001b[33m2127\u001b[39m, \u001b[33m2255\u001b[39m, \u001b[33m2273\u001b[39m, \u001b[33m2198\u001b[39m, \u001b[33m2216\u001b[39m, \u001b[33m2103\u001b[39m,\n",
            "    \u001b[33m2097\u001b[39m, \u001b[33m2310\u001b[39m, \u001b[33m2257\u001b[39m, \u001b[33m2457\u001b[39m, \u001b[33m2146\u001b[39m, \u001b[33m2200\u001b[39m, \u001b[33m2230\u001b[39m, \u001b[33m2488\u001b[39m, \u001b[33m2216\u001b[39m, \u001b[33m2003\u001b[39m,\n",
            "    \u001b[33m2085\u001b[39m, \u001b[33m2272\u001b[39m, \u001b[33m2136\u001b[39m, \u001b[33m2427\u001b[39m, \u001b[33m2090\u001b[39m, \u001b[33m2269\u001b[39m, \u001b[33m2284\u001b[39m, \u001b[33m2177\u001b[39m, \u001b[33m2295\u001b[39m, \u001b[33m2235\u001b[39m,\n",
            "    \u001b[33m2019\u001b[39m, \u001b[33m2380\u001b[39m, \u001b[33m2500\u001b[39m, \u001b[33m2165\u001b[39m, \u001b[33m2251\u001b[39m, \u001b[33m2054\u001b[39m, \u001b[33m2198\u001b[39m, \u001b[33m2322\u001b[39m, \u001b[33m2054\u001b[39m, \u001b[33m2214\u001b[39m,\n",
            "    \u001b[33m2354\u001b[39m, \u001b[33m2019\u001b[39m, \u001b[33m2094\u001b[39m, \u001b[33m1958\u001b[39m, \u001b[33m2383\u001b[39m, \u001b[33m2228\u001b[39m, \u001b[33m2116\u001b[39m, \u001b[33m2381\u001b[39m, \u001b[33m2128\u001b[39m, \u001b[33m2086\u001b[39m,\n",
            "    ... 500 more items\n",
            "  ],\n",
            "  [\n",
            "    \u001b[33m1599\u001b[39m, \u001b[33m2024\u001b[39m, \u001b[33m2036\u001b[39m, \u001b[33m1732\u001b[39m, \u001b[33m1850\u001b[39m, \u001b[33m1604\u001b[39m, \u001b[33m1818\u001b[39m, \u001b[33m1901\u001b[39m, \u001b[33m1706\u001b[39m, \u001b[33m2006\u001b[39m,\n",
            "    \u001b[33m1850\u001b[39m, \u001b[33m2171\u001b[39m, \u001b[33m1787\u001b[39m, \u001b[33m2011\u001b[39m, \u001b[33m2110\u001b[39m, \u001b[33m1561\u001b[39m, \u001b[33m1991\u001b[39m, \u001b[33m1804\u001b[39m, \u001b[33m2000\u001b[39m, \u001b[33m1874\u001b[39m,\n",
            "    \u001b[33m1615\u001b[39m, \u001b[33m1871\u001b[39m, \u001b[33m1706\u001b[39m, \u001b[33m2050\u001b[39m, \u001b[33m1776\u001b[39m, \u001b[33m1886\u001b[39m, \u001b[33m1826\u001b[39m, \u001b[33m1911\u001b[39m, \u001b[33m1870\u001b[39m, \u001b[33m2142\u001b[39m,\n",
            "    \u001b[33m1610\u001b[39m, \u001b[33m1915\u001b[39m, \u001b[33m2012\u001b[39m, \u001b[33m1996\u001b[39m, \u001b[33m1980\u001b[39m, \u001b[33m2015\u001b[39m, \u001b[33m1905\u001b[39m, \u001b[33m1954\u001b[39m, \u001b[33m1935\u001b[39m, \u001b[33m1811\u001b[39m,\n",
            "    \u001b[33m1800\u001b[39m, \u001b[33m1813\u001b[39m, \u001b[33m1587\u001b[39m, \u001b[33m2013\u001b[39m, \u001b[33m1707\u001b[39m, \u001b[33m1851\u001b[39m, \u001b[33m2025\u001b[39m, \u001b[33m1952\u001b[39m, \u001b[33m1897\u001b[39m, \u001b[33m1781\u001b[39m,\n",
            "    \u001b[33m1962\u001b[39m, \u001b[33m1815\u001b[39m, \u001b[33m2151\u001b[39m, \u001b[33m1922\u001b[39m, \u001b[33m1804\u001b[39m, \u001b[33m1992\u001b[39m, \u001b[33m2030\u001b[39m, \u001b[33m1957\u001b[39m, \u001b[33m1923\u001b[39m, \u001b[33m1781\u001b[39m,\n",
            "    \u001b[33m1879\u001b[39m, \u001b[33m1948\u001b[39m, \u001b[33m1958\u001b[39m, \u001b[33m1872\u001b[39m, \u001b[33m1752\u001b[39m, \u001b[33m1975\u001b[39m, \u001b[33m1882\u001b[39m, \u001b[33m2104\u001b[39m, \u001b[33m2056\u001b[39m, \u001b[33m1873\u001b[39m,\n",
            "    \u001b[33m1937\u001b[39m, \u001b[33m1898\u001b[39m, \u001b[33m1690\u001b[39m, \u001b[33m2082\u001b[39m, \u001b[33m1859\u001b[39m, \u001b[33m2002\u001b[39m, \u001b[33m1805\u001b[39m, \u001b[33m1775\u001b[39m, \u001b[33m1992\u001b[39m, \u001b[33m1863\u001b[39m,\n",
            "    \u001b[33m1743\u001b[39m, \u001b[33m1998\u001b[39m, \u001b[33m1926\u001b[39m, \u001b[33m1806\u001b[39m, \u001b[33m2011\u001b[39m, \u001b[33m1819\u001b[39m, \u001b[33m1999\u001b[39m, \u001b[33m1950\u001b[39m, \u001b[33m1751\u001b[39m, \u001b[33m1896\u001b[39m,\n",
            "    \u001b[33m1893\u001b[39m, \u001b[33m1571\u001b[39m, \u001b[33m1751\u001b[39m, \u001b[33m1685\u001b[39m, \u001b[33m2136\u001b[39m, \u001b[33m1906\u001b[39m, \u001b[33m1998\u001b[39m, \u001b[33m1995\u001b[39m, \u001b[33m1901\u001b[39m, \u001b[33m1693\u001b[39m,\n",
            "    ... 500 more items\n",
            "  ],\n",
            "  [\n",
            "    \u001b[33m1894\u001b[39m, \u001b[33m2452\u001b[39m, \u001b[33m2469\u001b[39m, \u001b[33m2016\u001b[39m, \u001b[33m2320\u001b[39m, \u001b[33m1916\u001b[39m, \u001b[33m2321\u001b[39m, \u001b[33m2208\u001b[39m, \u001b[33m2213\u001b[39m, \u001b[33m2309\u001b[39m,\n",
            "    \u001b[33m2194\u001b[39m, \u001b[33m2502\u001b[39m, \u001b[33m1991\u001b[39m, \u001b[33m2289\u001b[39m, \u001b[33m2363\u001b[39m, \u001b[33m2035\u001b[39m, \u001b[33m2243\u001b[39m, \u001b[33m2237\u001b[39m, \u001b[33m2346\u001b[39m, \u001b[33m2235\u001b[39m,\n",
            "    \u001b[33m1944\u001b[39m, \u001b[33m2370\u001b[39m, \u001b[33m2052\u001b[39m, \u001b[33m2410\u001b[39m, \u001b[33m2232\u001b[39m, \u001b[33m2512\u001b[39m, \u001b[33m2333\u001b[39m, \u001b[33m2393\u001b[39m, \u001b[33m2385\u001b[39m, \u001b[33m2663\u001b[39m,\n",
            "    \u001b[33m2126\u001b[39m, \u001b[33m2158\u001b[39m, \u001b[33m2402\u001b[39m, \u001b[33m2328\u001b[39m, \u001b[33m2318\u001b[39m, \u001b[33m2308\u001b[39m, \u001b[33m2481\u001b[39m, \u001b[33m2341\u001b[39m, \u001b[33m2432\u001b[39m, \u001b[33m2175\u001b[39m,\n",
            "    \u001b[33m2432\u001b[39m, \u001b[33m1915\u001b[39m, \u001b[33m2110\u001b[39m, \u001b[33m2266\u001b[39m, \u001b[33m2190\u001b[39m, \u001b[33m2236\u001b[39m, \u001b[33m2307\u001b[39m, \u001b[33m2320\u001b[39m, \u001b[33m2061\u001b[39m, \u001b[33m2262\u001b[39m,\n",
            "    \u001b[33m2482\u001b[39m, \u001b[33m2251\u001b[39m, \u001b[33m2474\u001b[39m, \u001b[33m2208\u001b[39m, \u001b[33m2081\u001b[39m, \u001b[33m2447\u001b[39m, \u001b[33m2480\u001b[39m, \u001b[33m2451\u001b[39m, \u001b[33m2453\u001b[39m, \u001b[33m2063\u001b[39m,\n",
            "    \u001b[33m2453\u001b[39m, \u001b[33m2464\u001b[39m, \u001b[33m2279\u001b[39m, \u001b[33m2322\u001b[39m, \u001b[33m2428\u001b[39m, \u001b[33m2323\u001b[39m, \u001b[33m2454\u001b[39m, \u001b[33m2652\u001b[39m, \u001b[33m2418\u001b[39m, \u001b[33m2354\u001b[39m,\n",
            "    \u001b[33m2234\u001b[39m, \u001b[33m2381\u001b[39m, \u001b[33m2031\u001b[39m, \u001b[33m2608\u001b[39m, \u001b[33m2177\u001b[39m, \u001b[33m2477\u001b[39m, \u001b[33m2385\u001b[39m, \u001b[33m2157\u001b[39m, \u001b[33m2414\u001b[39m, \u001b[33m2378\u001b[39m,\n",
            "    \u001b[33m1959\u001b[39m, \u001b[33m2363\u001b[39m, \u001b[33m2580\u001b[39m, \u001b[33m2175\u001b[39m, \u001b[33m2553\u001b[39m, \u001b[33m2176\u001b[39m, \u001b[33m2346\u001b[39m, \u001b[33m2408\u001b[39m, \u001b[33m2209\u001b[39m, \u001b[33m2266\u001b[39m,\n",
            "    \u001b[33m2390\u001b[39m, \u001b[33m2196\u001b[39m, \u001b[33m2133\u001b[39m, \u001b[33m2045\u001b[39m, \u001b[33m2527\u001b[39m, \u001b[33m2228\u001b[39m, \u001b[33m2296\u001b[39m, \u001b[33m2385\u001b[39m, \u001b[33m2171\u001b[39m, \u001b[33m2039\u001b[39m,\n",
            "    ... 500 more items\n",
            "  ],\n",
            "  [\n",
            "    \u001b[33m1571\u001b[39m, \u001b[33m2123\u001b[39m, \u001b[33m2232\u001b[39m, \u001b[33m1854\u001b[39m, \u001b[33m2095\u001b[39m, \u001b[33m1785\u001b[39m, \u001b[33m1931\u001b[39m, \u001b[33m1761\u001b[39m, \u001b[33m2016\u001b[39m, \u001b[33m2069\u001b[39m,\n",
            "    \u001b[33m2061\u001b[39m, \u001b[33m2090\u001b[39m, \u001b[33m1720\u001b[39m, \u001b[33m1955\u001b[39m, \u001b[33m2144\u001b[39m, \u001b[33m1654\u001b[39m, \u001b[33m2031\u001b[39m, \u001b[33m1960\u001b[39m, \u001b[33m2067\u001b[39m, \u001b[33m2007\u001b[39m,\n",
            "    \u001b[33m1897\u001b[39m, \u001b[33m2008\u001b[39m, \u001b[33m1866\u001b[39m, \u001b[33m2226\u001b[39m, \u001b[33m1934\u001b[39m, \u001b[33m2128\u001b[39m, \u001b[33m1979\u001b[39m, \u001b[33m2058\u001b[39m, \u001b[33m2044\u001b[39m, \u001b[33m2180\u001b[39m,\n",
            "    \u001b[33m1817\u001b[39m, \u001b[33m2142\u001b[39m, \u001b[33m1991\u001b[39m, \u001b[33m1986\u001b[39m, \u001b[33m2057\u001b[39m, \u001b[33m2033\u001b[39m, \u001b[33m1991\u001b[39m, \u001b[33m1973\u001b[39m, \u001b[33m1988\u001b[39m, \u001b[33m1879\u001b[39m,\n",
            "    \u001b[33m1988\u001b[39m, \u001b[33m1676\u001b[39m, \u001b[33m1733\u001b[39m, \u001b[33m1922\u001b[39m, \u001b[33m1782\u001b[39m, \u001b[33m1998\u001b[39m, \u001b[33m2047\u001b[39m, \u001b[33m1925\u001b[39m, \u001b[33m1671\u001b[39m, \u001b[33m2013\u001b[39m,\n",
            "    \u001b[33m2049\u001b[39m, \u001b[33m1854\u001b[39m, \u001b[33m2216\u001b[39m, \u001b[33m1926\u001b[39m, \u001b[33m1817\u001b[39m, \u001b[33m2165\u001b[39m, \u001b[33m2074\u001b[39m, \u001b[33m1980\u001b[39m, \u001b[33m2042\u001b[39m, \u001b[33m1747\u001b[39m,\n",
            "    \u001b[33m2055\u001b[39m, \u001b[33m2026\u001b[39m, \u001b[33m2019\u001b[39m, \u001b[33m1966\u001b[39m, \u001b[33m2005\u001b[39m, \u001b[33m1935\u001b[39m, \u001b[33m1953\u001b[39m, \u001b[33m2155\u001b[39m, \u001b[33m2123\u001b[39m, \u001b[33m2046\u001b[39m,\n",
            "    \u001b[33m1903\u001b[39m, \u001b[33m1936\u001b[39m, \u001b[33m1841\u001b[39m, \u001b[33m2189\u001b[39m, \u001b[33m1730\u001b[39m, \u001b[33m2199\u001b[39m, \u001b[33m1847\u001b[39m, \u001b[33m1896\u001b[39m, \u001b[33m2039\u001b[39m, \u001b[33m1940\u001b[39m,\n",
            "    \u001b[33m1905\u001b[39m, \u001b[33m2088\u001b[39m, \u001b[33m2055\u001b[39m, \u001b[33m1720\u001b[39m, \u001b[33m1943\u001b[39m, \u001b[33m1800\u001b[39m, \u001b[33m1876\u001b[39m, \u001b[33m2120\u001b[39m, \u001b[33m1619\u001b[39m, \u001b[33m1872\u001b[39m,\n",
            "    \u001b[33m1846\u001b[39m, \u001b[33m1704\u001b[39m, \u001b[33m1815\u001b[39m, \u001b[33m1680\u001b[39m, \u001b[33m2202\u001b[39m, \u001b[33m2059\u001b[39m, \u001b[33m1954\u001b[39m, \u001b[33m2065\u001b[39m, \u001b[33m1909\u001b[39m, \u001b[33m1721\u001b[39m,\n",
            "    ... 500 more items\n",
            "  ],\n",
            "  [\n",
            "    \u001b[33m1753\u001b[39m, \u001b[33m2192\u001b[39m, \u001b[33m2270\u001b[39m, \u001b[33m1963\u001b[39m, \u001b[33m2073\u001b[39m, \u001b[33m1951\u001b[39m, \u001b[33m2148\u001b[39m, \u001b[33m1946\u001b[39m, \u001b[33m2108\u001b[39m, \u001b[33m2146\u001b[39m,\n",
            "    \u001b[33m2099\u001b[39m, \u001b[33m2184\u001b[39m, \u001b[33m2091\u001b[39m, \u001b[33m1960\u001b[39m, \u001b[33m2291\u001b[39m, \u001b[33m1918\u001b[39m, \u001b[33m2297\u001b[39m, \u001b[33m2146\u001b[39m, \u001b[33m2256\u001b[39m, \u001b[33m2134\u001b[39m,\n",
            "    \u001b[33m1724\u001b[39m, \u001b[33m2022\u001b[39m, \u001b[33m2038\u001b[39m, \u001b[33m2163\u001b[39m, \u001b[33m1914\u001b[39m, \u001b[33m2099\u001b[39m, \u001b[33m1942\u001b[39m, \u001b[33m2284\u001b[39m, \u001b[33m2303\u001b[39m, \u001b[33m2385\u001b[39m,\n",
            "    \u001b[33m2093\u001b[39m, \u001b[33m2204\u001b[39m, \u001b[33m2229\u001b[39m, \u001b[33m2322\u001b[39m, \u001b[33m2205\u001b[39m, \u001b[33m2092\u001b[39m, \u001b[33m2198\u001b[39m, \u001b[33m2186\u001b[39m, \u001b[33m2289\u001b[39m, \u001b[33m2068\u001b[39m,\n",
            "    \u001b[33m2353\u001b[39m, \u001b[33m1842\u001b[39m, \u001b[33m1987\u001b[39m, \u001b[33m2145\u001b[39m, \u001b[33m2103\u001b[39m, \u001b[33m2216\u001b[39m, \u001b[33m2123\u001b[39m, \u001b[33m2070\u001b[39m, \u001b[33m1935\u001b[39m, \u001b[33m2193\u001b[39m,\n",
            "    \u001b[33m2204\u001b[39m, \u001b[33m2001\u001b[39m, \u001b[33m2287\u001b[39m, \u001b[33m2021\u001b[39m, \u001b[33m2119\u001b[39m, \u001b[33m2287\u001b[39m, \u001b[33m2305\u001b[39m, \u001b[33m2058\u001b[39m, \u001b[33m2234\u001b[39m, \u001b[33m1976\u001b[39m,\n",
            "    \u001b[33m2135\u001b[39m, \u001b[33m2018\u001b[39m, \u001b[33m2147\u001b[39m, \u001b[33m2260\u001b[39m, \u001b[33m2147\u001b[39m, \u001b[33m2197\u001b[39m, \u001b[33m2146\u001b[39m, \u001b[33m2393\u001b[39m, \u001b[33m2211\u001b[39m, \u001b[33m2075\u001b[39m,\n",
            "    \u001b[33m2094\u001b[39m, \u001b[33m2244\u001b[39m, \u001b[33m2236\u001b[39m, \u001b[33m2477\u001b[39m, \u001b[33m2153\u001b[39m, \u001b[33m2311\u001b[39m, \u001b[33m2160\u001b[39m, \u001b[33m2313\u001b[39m, \u001b[33m2320\u001b[39m, \u001b[33m2006\u001b[39m,\n",
            "    \u001b[33m1918\u001b[39m, \u001b[33m2317\u001b[39m, \u001b[33m2393\u001b[39m, \u001b[33m2008\u001b[39m, \u001b[33m2218\u001b[39m, \u001b[33m2134\u001b[39m, \u001b[33m2249\u001b[39m, \u001b[33m2362\u001b[39m, \u001b[33m1927\u001b[39m, \u001b[33m2091\u001b[39m,\n",
            "    \u001b[33m2126\u001b[39m, \u001b[33m1962\u001b[39m, \u001b[33m1999\u001b[39m, \u001b[33m1899\u001b[39m, \u001b[33m2248\u001b[39m, \u001b[33m2141\u001b[39m, \u001b[33m2033\u001b[39m, \u001b[33m2327\u001b[39m, \u001b[33m2045\u001b[39m, \u001b[33m2105\u001b[39m,\n",
            "    ... 500 more items\n",
            "  ],\n",
            "  [\n",
            "    \u001b[33m1627\u001b[39m, \u001b[33m2210\u001b[39m, \u001b[33m2188\u001b[39m, \u001b[33m1934\u001b[39m, \u001b[33m2154\u001b[39m, \u001b[33m1737\u001b[39m, \u001b[33m2342\u001b[39m, \u001b[33m1946\u001b[39m, \u001b[33m1858\u001b[39m, \u001b[33m2095\u001b[39m,\n",
            "    \u001b[33m1991\u001b[39m, \u001b[33m2079\u001b[39m, \u001b[33m1989\u001b[39m, \u001b[33m1916\u001b[39m, \u001b[33m2266\u001b[39m, \u001b[33m1921\u001b[39m, \u001b[33m2131\u001b[39m, \u001b[33m2129\u001b[39m, \u001b[33m1929\u001b[39m, \u001b[33m2054\u001b[39m,\n",
            "    \u001b[33m1803\u001b[39m, \u001b[33m2060\u001b[39m, \u001b[33m1803\u001b[39m, \u001b[33m2125\u001b[39m, \u001b[33m1882\u001b[39m, \u001b[33m2266\u001b[39m, \u001b[33m1928\u001b[39m, \u001b[33m2241\u001b[39m, \u001b[33m2114\u001b[39m, \u001b[33m2472\u001b[39m,\n",
            "    \u001b[33m1909\u001b[39m, \u001b[33m2030\u001b[39m, \u001b[33m2176\u001b[39m, \u001b[33m2280\u001b[39m, \u001b[33m2263\u001b[39m, \u001b[33m2005\u001b[39m, \u001b[33m2172\u001b[39m, \u001b[33m2082\u001b[39m, \u001b[33m2144\u001b[39m, \u001b[33m1802\u001b[39m,\n",
            "    \u001b[33m2173\u001b[39m, \u001b[33m1763\u001b[39m, \u001b[33m1934\u001b[39m, \u001b[33m1823\u001b[39m, \u001b[33m2080\u001b[39m, \u001b[33m2048\u001b[39m, \u001b[33m2021\u001b[39m, \u001b[33m1981\u001b[39m, \u001b[33m1833\u001b[39m, \u001b[33m2172\u001b[39m,\n",
            "    \u001b[33m2013\u001b[39m, \u001b[33m2223\u001b[39m, \u001b[33m2221\u001b[39m, \u001b[33m2018\u001b[39m, \u001b[33m1855\u001b[39m, \u001b[33m2245\u001b[39m, \u001b[33m2164\u001b[39m, \u001b[33m2202\u001b[39m, \u001b[33m2101\u001b[39m, \u001b[33m2151\u001b[39m,\n",
            "    \u001b[33m2064\u001b[39m, \u001b[33m2285\u001b[39m, \u001b[33m2118\u001b[39m, \u001b[33m2161\u001b[39m, \u001b[33m2083\u001b[39m, \u001b[33m2283\u001b[39m, \u001b[33m2210\u001b[39m, \u001b[33m2285\u001b[39m, \u001b[33m2135\u001b[39m, \u001b[33m2215\u001b[39m,\n",
            "    \u001b[33m2015\u001b[39m, \u001b[33m2249\u001b[39m, \u001b[33m2017\u001b[39m, \u001b[33m2414\u001b[39m, \u001b[33m2145\u001b[39m, \u001b[33m2074\u001b[39m, \u001b[33m2065\u001b[39m, \u001b[33m2090\u001b[39m, \u001b[33m2203\u001b[39m, \u001b[33m2067\u001b[39m,\n",
            "    \u001b[33m1939\u001b[39m, \u001b[33m2263\u001b[39m, \u001b[33m2358\u001b[39m, \u001b[33m2032\u001b[39m, \u001b[33m2046\u001b[39m, \u001b[33m2102\u001b[39m, \u001b[33m2142\u001b[39m, \u001b[33m2247\u001b[39m, \u001b[33m1938\u001b[39m, \u001b[33m1954\u001b[39m,\n",
            "    \u001b[33m2297\u001b[39m, \u001b[33m1908\u001b[39m, \u001b[33m1946\u001b[39m, \u001b[33m1975\u001b[39m, \u001b[33m2323\u001b[39m, \u001b[33m1978\u001b[39m, \u001b[33m2077\u001b[39m, \u001b[33m2250\u001b[39m, \u001b[33m1963\u001b[39m, \u001b[33m2066\u001b[39m,\n",
            "    ... 500 more items\n",
            "  ],\n",
            "  [\n",
            "    \u001b[33m1476\u001b[39m, \u001b[33m1927\u001b[39m, \u001b[33m1960\u001b[39m, \u001b[33m1848\u001b[39m, \u001b[33m1970\u001b[39m, \u001b[33m1940\u001b[39m, \u001b[33m1870\u001b[39m, \u001b[33m1697\u001b[39m, \u001b[33m1735\u001b[39m, \u001b[33m2007\u001b[39m,\n",
            "    \u001b[33m1984\u001b[39m, \u001b[33m1891\u001b[39m, \u001b[33m1818\u001b[39m, \u001b[33m1666\u001b[39m, \u001b[33m2083\u001b[39m, \u001b[33m1839\u001b[39m, \u001b[33m1996\u001b[39m, \u001b[33m1803\u001b[39m, \u001b[33m1986\u001b[39m, \u001b[33m1812\u001b[39m,\n",
            "    \u001b[33m1642\u001b[39m, \u001b[33m1804\u001b[39m, \u001b[33m1988\u001b[39m, \u001b[33m2002\u001b[39m, \u001b[33m1723\u001b[39m, \u001b[33m1888\u001b[39m, \u001b[33m1702\u001b[39m, \u001b[33m1945\u001b[39m, \u001b[33m1953\u001b[39m, \u001b[33m2137\u001b[39m,\n",
            "    \u001b[33m1836\u001b[39m, \u001b[33m2027\u001b[39m, \u001b[33m1935\u001b[39m, \u001b[33m2072\u001b[39m, \u001b[33m1884\u001b[39m, \u001b[33m1895\u001b[39m, \u001b[33m1975\u001b[39m, \u001b[33m1907\u001b[39m, \u001b[33m1865\u001b[39m, \u001b[33m1797\u001b[39m,\n",
            "    \u001b[33m2077\u001b[39m, \u001b[33m1518\u001b[39m, \u001b[33m1737\u001b[39m, \u001b[33m1636\u001b[39m, \u001b[33m1860\u001b[39m, \u001b[33m2032\u001b[39m, \u001b[33m1882\u001b[39m, \u001b[33m1813\u001b[39m, \u001b[33m1740\u001b[39m, \u001b[33m1837\u001b[39m,\n",
            "    \u001b[33m1955\u001b[39m, \u001b[33m1904\u001b[39m, \u001b[33m2180\u001b[39m, \u001b[33m1579\u001b[39m, \u001b[33m1840\u001b[39m, \u001b[33m1928\u001b[39m, \u001b[33m1939\u001b[39m, \u001b[33m1879\u001b[39m, \u001b[33m2012\u001b[39m, \u001b[33m1820\u001b[39m,\n",
            "    \u001b[33m1953\u001b[39m, \u001b[33m1994\u001b[39m, \u001b[33m1832\u001b[39m, \u001b[33m2005\u001b[39m, \u001b[33m1927\u001b[39m, \u001b[33m2058\u001b[39m, \u001b[33m1850\u001b[39m, \u001b[33m1947\u001b[39m, \u001b[33m2042\u001b[39m, \u001b[33m1822\u001b[39m,\n",
            "    \u001b[33m1808\u001b[39m, \u001b[33m2101\u001b[39m, \u001b[33m1887\u001b[39m, \u001b[33m2241\u001b[39m, \u001b[33m1956\u001b[39m, \u001b[33m1892\u001b[39m, \u001b[33m1857\u001b[39m, \u001b[33m1794\u001b[39m, \u001b[33m2019\u001b[39m, \u001b[33m1786\u001b[39m,\n",
            "    \u001b[33m1682\u001b[39m, \u001b[33m2059\u001b[39m, \u001b[33m2120\u001b[39m, \u001b[33m1809\u001b[39m, \u001b[33m1801\u001b[39m, \u001b[33m2013\u001b[39m, \u001b[33m1969\u001b[39m, \u001b[33m1992\u001b[39m, \u001b[33m1714\u001b[39m, \u001b[33m1833\u001b[39m,\n",
            "    \u001b[33m2013\u001b[39m, \u001b[33m1734\u001b[39m, \u001b[33m1677\u001b[39m, \u001b[33m1674\u001b[39m, \u001b[33m2001\u001b[39m, \u001b[33m1944\u001b[39m, \u001b[33m1926\u001b[39m, \u001b[33m1930\u001b[39m, \u001b[33m1703\u001b[39m, \u001b[33m1890\u001b[39m,\n",
            "    ... 500 more items\n",
            "  ],\n",
            "  [\n",
            "    \u001b[33m1806\u001b[39m, \u001b[33m2190\u001b[39m, \u001b[33m2239\u001b[39m, \u001b[33m2014\u001b[39m, \u001b[33m2112\u001b[39m, \u001b[33m1816\u001b[39m, \u001b[33m2046\u001b[39m, \u001b[33m1884\u001b[39m, \u001b[33m1899\u001b[39m, \u001b[33m2243\u001b[39m,\n",
            "    \u001b[33m2112\u001b[39m, \u001b[33m2148\u001b[39m, \u001b[33m1761\u001b[39m, \u001b[33m2044\u001b[39m, \u001b[33m2148\u001b[39m, \u001b[33m1740\u001b[39m, \u001b[33m2080\u001b[39m, \u001b[33m2172\u001b[39m, \u001b[33m2087\u001b[39m, \u001b[33m2176\u001b[39m,\n",
            "    \u001b[33m1815\u001b[39m, \u001b[33m2152\u001b[39m, \u001b[33m1867\u001b[39m, \u001b[33m2249\u001b[39m, \u001b[33m2003\u001b[39m, \u001b[33m2043\u001b[39m, \u001b[33m2030\u001b[39m, \u001b[33m2218\u001b[39m, \u001b[33m2028\u001b[39m, \u001b[33m2385\u001b[39m,\n",
            "    \u001b[33m1944\u001b[39m, \u001b[33m1915\u001b[39m, \u001b[33m1986\u001b[39m, \u001b[33m2137\u001b[39m, \u001b[33m2074\u001b[39m, \u001b[33m2133\u001b[39m, \u001b[33m2118\u001b[39m, \u001b[33m1993\u001b[39m, \u001b[33m2104\u001b[39m, \u001b[33m1859\u001b[39m,\n",
            "    \u001b[33m2177\u001b[39m, \u001b[33m1782\u001b[39m, \u001b[33m1894\u001b[39m, \u001b[33m1929\u001b[39m, \u001b[33m1926\u001b[39m, \u001b[33m2057\u001b[39m, \u001b[33m2131\u001b[39m, \u001b[33m2066\u001b[39m, \u001b[33m1933\u001b[39m, \u001b[33m1910\u001b[39m,\n",
            "    \u001b[33m2048\u001b[39m, \u001b[33m1893\u001b[39m, \u001b[33m2348\u001b[39m, \u001b[33m1945\u001b[39m, \u001b[33m1937\u001b[39m, \u001b[33m2225\u001b[39m, \u001b[33m2154\u001b[39m, \u001b[33m1933\u001b[39m, \u001b[33m2112\u001b[39m, \u001b[33m1967\u001b[39m,\n",
            "    \u001b[33m2162\u001b[39m, \u001b[33m1985\u001b[39m, \u001b[33m2085\u001b[39m, \u001b[33m2057\u001b[39m, \u001b[33m2213\u001b[39m, \u001b[33m1976\u001b[39m, \u001b[33m1992\u001b[39m, \u001b[33m2338\u001b[39m, \u001b[33m2243\u001b[39m, \u001b[33m1904\u001b[39m,\n",
            "    \u001b[33m2064\u001b[39m, \u001b[33m2181\u001b[39m, \u001b[33m1912\u001b[39m, \u001b[33m2213\u001b[39m, \u001b[33m2025\u001b[39m, \u001b[33m2133\u001b[39m, \u001b[33m1883\u001b[39m, \u001b[33m2078\u001b[39m, \u001b[33m2293\u001b[39m, \u001b[33m2117\u001b[39m,\n",
            "    \u001b[33m1895\u001b[39m, \u001b[33m2334\u001b[39m, \u001b[33m2295\u001b[39m, \u001b[33m1951\u001b[39m, \u001b[33m2116\u001b[39m, \u001b[33m2032\u001b[39m, \u001b[33m2015\u001b[39m, \u001b[33m2198\u001b[39m, \u001b[33m1893\u001b[39m, \u001b[33m1937\u001b[39m,\n",
            "    \u001b[33m2201\u001b[39m, \u001b[33m1722\u001b[39m, \u001b[33m1982\u001b[39m, \u001b[33m1937\u001b[39m, \u001b[33m2279\u001b[39m, \u001b[33m2084\u001b[39m, \u001b[33m2060\u001b[39m, \u001b[33m2195\u001b[39m, \u001b[33m1948\u001b[39m, \u001b[33m1924\u001b[39m,\n",
            "    ... 500 more items\n",
            "  ],\n",
            "  [\n",
            "    \u001b[33m1441\u001b[39m, \u001b[33m1878\u001b[39m, \u001b[33m1937\u001b[39m, \u001b[33m1668\u001b[39m, \u001b[33m1681\u001b[39m, \u001b[33m1527\u001b[39m, \u001b[33m1846\u001b[39m, \u001b[33m1714\u001b[39m, \u001b[33m1662\u001b[39m, \u001b[33m1893\u001b[39m,\n",
            "    \u001b[33m1679\u001b[39m, \u001b[33m2063\u001b[39m, \u001b[33m1653\u001b[39m, \u001b[33m1810\u001b[39m, \u001b[33m1925\u001b[39m, \u001b[33m1468\u001b[39m, \u001b[33m1834\u001b[39m, \u001b[33m1939\u001b[39m, \u001b[33m1654\u001b[39m, \u001b[33m1787\u001b[39m,\n",
            "    \u001b[33m1664\u001b[39m, \u001b[33m1855\u001b[39m, \u001b[33m1468\u001b[39m, \u001b[33m1817\u001b[39m, \u001b[33m1576\u001b[39m, \u001b[33m1985\u001b[39m, \u001b[33m1698\u001b[39m, \u001b[33m1803\u001b[39m, \u001b[33m1612\u001b[39m, \u001b[33m2091\u001b[39m,\n",
            "    \u001b[33m1541\u001b[39m, \u001b[33m1607\u001b[39m, \u001b[33m1786\u001b[39m, \u001b[33m1796\u001b[39m, \u001b[33m1860\u001b[39m, \u001b[33m1756\u001b[39m, \u001b[33m1885\u001b[39m, \u001b[33m1595\u001b[39m, \u001b[33m1880\u001b[39m, \u001b[33m1770\u001b[39m,\n",
            "    \u001b[33m1807\u001b[39m, \u001b[33m1633\u001b[39m, \u001b[33m1590\u001b[39m, \u001b[33m1760\u001b[39m, \u001b[33m1665\u001b[39m, \u001b[33m1727\u001b[39m, \u001b[33m1791\u001b[39m, \u001b[33m1645\u001b[39m, \u001b[33m1683\u001b[39m, \u001b[33m1800\u001b[39m,\n",
            "    \u001b[33m1839\u001b[39m, \u001b[33m1738\u001b[39m, \u001b[33m1901\u001b[39m, \u001b[33m1711\u001b[39m, \u001b[33m1665\u001b[39m, \u001b[33m1833\u001b[39m, \u001b[33m1954\u001b[39m, \u001b[33m1758\u001b[39m, \u001b[33m1781\u001b[39m, \u001b[33m1699\u001b[39m,\n",
            "    \u001b[33m1899\u001b[39m, \u001b[33m1719\u001b[39m, \u001b[33m1805\u001b[39m, \u001b[33m1678\u001b[39m, \u001b[33m1670\u001b[39m, \u001b[33m1750\u001b[39m, \u001b[33m1892\u001b[39m, \u001b[33m1968\u001b[39m, \u001b[33m1818\u001b[39m, \u001b[33m1740\u001b[39m,\n",
            "    \u001b[33m1762\u001b[39m, \u001b[33m1817\u001b[39m, \u001b[33m1648\u001b[39m, \u001b[33m2066\u001b[39m, \u001b[33m1742\u001b[39m, \u001b[33m1766\u001b[39m, \u001b[33m1711\u001b[39m, \u001b[33m1896\u001b[39m, \u001b[33m1968\u001b[39m, \u001b[33m1639\u001b[39m,\n",
            "    \u001b[33m1648\u001b[39m, \u001b[33m1878\u001b[39m, \u001b[33m1812\u001b[39m, \u001b[33m1651\u001b[39m, \u001b[33m1877\u001b[39m, \u001b[33m1679\u001b[39m, \u001b[33m1724\u001b[39m, \u001b[33m1809\u001b[39m, \u001b[33m1666\u001b[39m, \u001b[33m1697\u001b[39m,\n",
            "    \u001b[33m1879\u001b[39m, \u001b[33m1629\u001b[39m, \u001b[33m1674\u001b[39m, \u001b[33m1677\u001b[39m, \u001b[33m1965\u001b[39m, \u001b[33m1759\u001b[39m, \u001b[33m1837\u001b[39m, \u001b[33m1933\u001b[39m, \u001b[33m1688\u001b[39m, \u001b[33m1631\u001b[39m,\n",
            "    ... 500 more items\n",
            "  ],\n",
            "  [\n",
            "    \u001b[33m1692\u001b[39m, \u001b[33m2420\u001b[39m, \u001b[33m2392\u001b[39m, \u001b[33m2115\u001b[39m, \u001b[33m2229\u001b[39m, \u001b[33m1913\u001b[39m, \u001b[33m2317\u001b[39m, \u001b[33m1994\u001b[39m, \u001b[33m2173\u001b[39m, \u001b[33m2228\u001b[39m,\n",
            "    \u001b[33m2014\u001b[39m, \u001b[33m2350\u001b[39m, \u001b[33m1880\u001b[39m, \u001b[33m2121\u001b[39m, \u001b[33m2265\u001b[39m, \u001b[33m1828\u001b[39m, \u001b[33m2174\u001b[39m, \u001b[33m2238\u001b[39m, \u001b[33m2159\u001b[39m, \u001b[33m2247\u001b[39m,\n",
            "    \u001b[33m1913\u001b[39m, \u001b[33m2079\u001b[39m, \u001b[33m1922\u001b[39m, \u001b[33m2291\u001b[39m, \u001b[33m2318\u001b[39m, \u001b[33m2188\u001b[39m, \u001b[33m2102\u001b[39m, \u001b[33m2366\u001b[39m, \u001b[33m2141\u001b[39m, \u001b[33m2493\u001b[39m,\n",
            "    \u001b[33m1922\u001b[39m, \u001b[33m2071\u001b[39m, \u001b[33m2313\u001b[39m, \u001b[33m2164\u001b[39m, \u001b[33m2096\u001b[39m, \u001b[33m2104\u001b[39m, \u001b[33m2312\u001b[39m, \u001b[33m1984\u001b[39m, \u001b[33m2122\u001b[39m, \u001b[33m1873\u001b[39m,\n",
            "    \u001b[33m2202\u001b[39m, \u001b[33m1850\u001b[39m, \u001b[33m1969\u001b[39m, \u001b[33m1926\u001b[39m, \u001b[33m2055\u001b[39m, \u001b[33m2138\u001b[39m, \u001b[33m2104\u001b[39m, \u001b[33m2192\u001b[39m, \u001b[33m2051\u001b[39m, \u001b[33m2139\u001b[39m,\n",
            "    \u001b[33m2150\u001b[39m, \u001b[33m2085\u001b[39m, \u001b[33m2203\u001b[39m, \u001b[33m2123\u001b[39m, \u001b[33m2007\u001b[39m, \u001b[33m2208\u001b[39m, \u001b[33m2269\u001b[39m, \u001b[33m2228\u001b[39m, \u001b[33m2266\u001b[39m, \u001b[33m2151\u001b[39m,\n",
            "    \u001b[33m2344\u001b[39m, \u001b[33m2186\u001b[39m, \u001b[33m2149\u001b[39m, \u001b[33m2204\u001b[39m, \u001b[33m2218\u001b[39m, \u001b[33m2221\u001b[39m, \u001b[33m2181\u001b[39m, \u001b[33m2440\u001b[39m, \u001b[33m2190\u001b[39m, \u001b[33m2035\u001b[39m,\n",
            "    \u001b[33m2114\u001b[39m, \u001b[33m2243\u001b[39m, \u001b[33m2021\u001b[39m, \u001b[33m2367\u001b[39m, \u001b[33m2137\u001b[39m, \u001b[33m2228\u001b[39m, \u001b[33m2109\u001b[39m, \u001b[33m2134\u001b[39m, \u001b[33m2376\u001b[39m, \u001b[33m1976\u001b[39m,\n",
            "    \u001b[33m1932\u001b[39m, \u001b[33m2384\u001b[39m, \u001b[33m2304\u001b[39m, \u001b[33m2008\u001b[39m, \u001b[33m2229\u001b[39m, \u001b[33m2090\u001b[39m, \u001b[33m2146\u001b[39m, \u001b[33m2100\u001b[39m, \u001b[33m1980\u001b[39m, \u001b[33m1985\u001b[39m,\n",
            "    \u001b[33m2424\u001b[39m, \u001b[33m1951\u001b[39m, \u001b[33m2007\u001b[39m, \u001b[33m1899\u001b[39m, \u001b[33m2388\u001b[39m, \u001b[33m2131\u001b[39m, \u001b[33m2069\u001b[39m, \u001b[33m2125\u001b[39m, \u001b[33m1992\u001b[39m, \u001b[33m1999\u001b[39m,\n",
            "    ... 500 more items\n",
            "  ],\n",
            "  [\n",
            "    \u001b[33m1918\u001b[39m, \u001b[33m2463\u001b[39m, \u001b[33m2454\u001b[39m, \u001b[33m2018\u001b[39m, \u001b[33m2186\u001b[39m, \u001b[33m1856\u001b[39m, \u001b[33m2197\u001b[39m, \u001b[33m2023\u001b[39m, \u001b[33m2268\u001b[39m, \u001b[33m2342\u001b[39m,\n",
            "    \u001b[33m2263\u001b[39m, \u001b[33m2295\u001b[39m, \u001b[33m2114\u001b[39m, \u001b[33m2236\u001b[39m, \u001b[33m2462\u001b[39m, \u001b[33m2087\u001b[39m, \u001b[33m2244\u001b[39m, \u001b[33m2176\u001b[39m, \u001b[33m2295\u001b[39m, \u001b[33m2157\u001b[39m,\n",
            "    \u001b[33m2070\u001b[39m, \u001b[33m2261\u001b[39m, \u001b[33m2067\u001b[39m, \u001b[33m2354\u001b[39m, \u001b[33m2019\u001b[39m, \u001b[33m2386\u001b[39m, \u001b[33m2208\u001b[39m, \u001b[33m2322\u001b[39m, \u001b[33m2221\u001b[39m, \u001b[33m2523\u001b[39m,\n",
            "    \u001b[33m2088\u001b[39m, \u001b[33m2256\u001b[39m, \u001b[33m2374\u001b[39m, \u001b[33m2290\u001b[39m, \u001b[33m2398\u001b[39m, \u001b[33m2291\u001b[39m, \u001b[33m2375\u001b[39m, \u001b[33m2197\u001b[39m, \u001b[33m2303\u001b[39m, \u001b[33m1993\u001b[39m,\n",
            "    \u001b[33m2388\u001b[39m, \u001b[33m1979\u001b[39m, \u001b[33m2067\u001b[39m, \u001b[33m1987\u001b[39m, \u001b[33m2150\u001b[39m, \u001b[33m2219\u001b[39m, \u001b[33m2247\u001b[39m, \u001b[33m2251\u001b[39m, \u001b[33m2072\u001b[39m, \u001b[33m2138\u001b[39m,\n",
            "    \u001b[33m2343\u001b[39m, \u001b[33m2163\u001b[39m, \u001b[33m2360\u001b[39m, \u001b[33m2313\u001b[39m, \u001b[33m2020\u001b[39m, \u001b[33m2374\u001b[39m, \u001b[33m2559\u001b[39m, \u001b[33m2246\u001b[39m, \u001b[33m2349\u001b[39m, \u001b[33m2153\u001b[39m,\n",
            "    \u001b[33m2380\u001b[39m, \u001b[33m2234\u001b[39m, \u001b[33m2365\u001b[39m, \u001b[33m2221\u001b[39m, \u001b[33m2170\u001b[39m, \u001b[33m2293\u001b[39m, \u001b[33m2322\u001b[39m, \u001b[33m2570\u001b[39m, \u001b[33m2329\u001b[39m, \u001b[33m2349\u001b[39m,\n",
            "    \u001b[33m2249\u001b[39m, \u001b[33m2454\u001b[39m, \u001b[33m2083\u001b[39m, \u001b[33m2625\u001b[39m, \u001b[33m2229\u001b[39m, \u001b[33m2182\u001b[39m, \u001b[33m2191\u001b[39m, \u001b[33m2216\u001b[39m, \u001b[33m2378\u001b[39m, \u001b[33m2220\u001b[39m,\n",
            "    \u001b[33m1987\u001b[39m, \u001b[33m2366\u001b[39m, \u001b[33m2351\u001b[39m, \u001b[33m2138\u001b[39m, \u001b[33m2378\u001b[39m, \u001b[33m2167\u001b[39m, \u001b[33m2250\u001b[39m, \u001b[33m2356\u001b[39m, \u001b[33m2143\u001b[39m, \u001b[33m2094\u001b[39m,\n",
            "    \u001b[33m2409\u001b[39m, \u001b[33m1983\u001b[39m, \u001b[33m2081\u001b[39m, \u001b[33m1947\u001b[39m, \u001b[33m2484\u001b[39m, \u001b[33m2220\u001b[39m, \u001b[33m2246\u001b[39m, \u001b[33m2483\u001b[39m, \u001b[33m2068\u001b[39m, \u001b[33m2193\u001b[39m,\n",
            "    ... 500 more items\n",
            "  ],\n",
            "  [\n",
            "    \u001b[33m1619\u001b[39m, \u001b[33m2111\u001b[39m, \u001b[33m2118\u001b[39m, \u001b[33m1844\u001b[39m, \u001b[33m1875\u001b[39m, \u001b[33m1832\u001b[39m, \u001b[33m2211\u001b[39m, \u001b[33m1989\u001b[39m, \u001b[33m1821\u001b[39m, \u001b[33m1947\u001b[39m,\n",
            "    \u001b[33m1890\u001b[39m, \u001b[33m1970\u001b[39m, \u001b[33m1782\u001b[39m, \u001b[33m1973\u001b[39m, \u001b[33m2278\u001b[39m, \u001b[33m1852\u001b[39m, \u001b[33m2149\u001b[39m, \u001b[33m1956\u001b[39m, \u001b[33m2216\u001b[39m, \u001b[33m1906\u001b[39m,\n",
            "    \u001b[33m1772\u001b[39m, \u001b[33m1863\u001b[39m, \u001b[33m1851\u001b[39m, \u001b[33m2074\u001b[39m, \u001b[33m1882\u001b[39m, \u001b[33m1998\u001b[39m, \u001b[33m1864\u001b[39m, \u001b[33m2070\u001b[39m, \u001b[33m1988\u001b[39m, \u001b[33m2362\u001b[39m,\n",
            "    \u001b[33m1877\u001b[39m, \u001b[33m2109\u001b[39m, \u001b[33m2171\u001b[39m, \u001b[33m2180\u001b[39m, \u001b[33m1982\u001b[39m, \u001b[33m1978\u001b[39m, \u001b[33m2063\u001b[39m, \u001b[33m1989\u001b[39m, \u001b[33m2067\u001b[39m, \u001b[33m1807\u001b[39m,\n",
            "    \u001b[33m2021\u001b[39m, \u001b[33m1788\u001b[39m, \u001b[33m1875\u001b[39m, \u001b[33m1852\u001b[39m, \u001b[33m1793\u001b[39m, \u001b[33m1987\u001b[39m, \u001b[33m1978\u001b[39m, \u001b[33m1933\u001b[39m, \u001b[33m1861\u001b[39m, \u001b[33m1940\u001b[39m,\n",
            "    \u001b[33m2151\u001b[39m, \u001b[33m1783\u001b[39m, \u001b[33m2105\u001b[39m, \u001b[33m1863\u001b[39m, \u001b[33m1874\u001b[39m, \u001b[33m2100\u001b[39m, \u001b[33m2205\u001b[39m, \u001b[33m2077\u001b[39m, \u001b[33m2104\u001b[39m, \u001b[33m1775\u001b[39m,\n",
            "    \u001b[33m2062\u001b[39m, \u001b[33m2047\u001b[39m, \u001b[33m2061\u001b[39m, \u001b[33m2065\u001b[39m, \u001b[33m1929\u001b[39m, \u001b[33m1964\u001b[39m, \u001b[33m2192\u001b[39m, \u001b[33m2335\u001b[39m, \u001b[33m2105\u001b[39m, \u001b[33m1955\u001b[39m,\n",
            "    \u001b[33m1885\u001b[39m, \u001b[33m2177\u001b[39m, \u001b[33m1943\u001b[39m, \u001b[33m2226\u001b[39m, \u001b[33m2144\u001b[39m, \u001b[33m1930\u001b[39m, \u001b[33m2194\u001b[39m, \u001b[33m1765\u001b[39m, \u001b[33m2278\u001b[39m, \u001b[33m1985\u001b[39m,\n",
            "    \u001b[33m1872\u001b[39m, \u001b[33m2092\u001b[39m, \u001b[33m2200\u001b[39m, \u001b[33m1825\u001b[39m, \u001b[33m1974\u001b[39m, \u001b[33m2055\u001b[39m, \u001b[33m1936\u001b[39m, \u001b[33m2035\u001b[39m, \u001b[33m1877\u001b[39m, \u001b[33m2003\u001b[39m,\n",
            "    \u001b[33m2093\u001b[39m, \u001b[33m1910\u001b[39m, \u001b[33m1899\u001b[39m, \u001b[33m1879\u001b[39m, \u001b[33m2085\u001b[39m, \u001b[33m1814\u001b[39m, \u001b[33m2032\u001b[39m, \u001b[33m2112\u001b[39m, \u001b[33m1810\u001b[39m, \u001b[33m1839\u001b[39m,\n",
            "    ... 500 more items\n",
            "  ],\n",
            "  [\n",
            "    \u001b[33m1825\u001b[39m, \u001b[33m2242\u001b[39m, \u001b[33m2263\u001b[39m, \u001b[33m1993\u001b[39m, \u001b[33m2141\u001b[39m, \u001b[33m1891\u001b[39m, \u001b[33m2192\u001b[39m, \u001b[33m1937\u001b[39m, \u001b[33m2018\u001b[39m, \u001b[33m2158\u001b[39m,\n",
            "    \u001b[33m2183\u001b[39m, \u001b[33m2357\u001b[39m, \u001b[33m1961\u001b[39m, \u001b[33m2095\u001b[39m, \u001b[33m2464\u001b[39m, \u001b[33m1962\u001b[39m, \u001b[33m2177\u001b[39m, \u001b[33m2182\u001b[39m, \u001b[33m2094\u001b[39m, \u001b[33m2096\u001b[39m,\n",
            "    \u001b[33m1993\u001b[39m, \u001b[33m2106\u001b[39m, \u001b[33m1845\u001b[39m, \u001b[33m2253\u001b[39m, \u001b[33m2081\u001b[39m, \u001b[33m2165\u001b[39m, \u001b[33m2072\u001b[39m, \u001b[33m2106\u001b[39m, \u001b[33m2237\u001b[39m, \u001b[33m2346\u001b[39m,\n",
            "    \u001b[33m1855\u001b[39m, \u001b[33m2109\u001b[39m, \u001b[33m2246\u001b[39m, \u001b[33m2232\u001b[39m, \u001b[33m2390\u001b[39m, \u001b[33m2175\u001b[39m, \u001b[33m2111\u001b[39m, \u001b[33m2044\u001b[39m, \u001b[33m2202\u001b[39m, \u001b[33m2000\u001b[39m,\n",
            "    \u001b[33m2230\u001b[39m, \u001b[33m1953\u001b[39m, \u001b[33m1963\u001b[39m, \u001b[33m2153\u001b[39m, \u001b[33m2145\u001b[39m, \u001b[33m2072\u001b[39m, \u001b[33m2111\u001b[39m, \u001b[33m2138\u001b[39m, \u001b[33m1994\u001b[39m, \u001b[33m2146\u001b[39m,\n",
            "    \u001b[33m2190\u001b[39m, \u001b[33m2092\u001b[39m, \u001b[33m2312\u001b[39m, \u001b[33m2074\u001b[39m, \u001b[33m1876\u001b[39m, \u001b[33m2279\u001b[39m, \u001b[33m2256\u001b[39m, \u001b[33m2084\u001b[39m, \u001b[33m2235\u001b[39m, \u001b[33m1962\u001b[39m,\n",
            "    \u001b[33m2179\u001b[39m, \u001b[33m2096\u001b[39m, \u001b[33m2061\u001b[39m, \u001b[33m2145\u001b[39m, \u001b[33m2144\u001b[39m, \u001b[33m2150\u001b[39m, \u001b[33m2145\u001b[39m, \u001b[33m2351\u001b[39m, \u001b[33m2247\u001b[39m, \u001b[33m2261\u001b[39m,\n",
            "    \u001b[33m2099\u001b[39m, \u001b[33m2199\u001b[39m, \u001b[33m1895\u001b[39m, \u001b[33m2507\u001b[39m, \u001b[33m2094\u001b[39m, \u001b[33m2236\u001b[39m, \u001b[33m2205\u001b[39m, \u001b[33m2099\u001b[39m, \u001b[33m2349\u001b[39m, \u001b[33m2045\u001b[39m,\n",
            "    \u001b[33m2052\u001b[39m, \u001b[33m2285\u001b[39m, \u001b[33m2425\u001b[39m, \u001b[33m2063\u001b[39m, \u001b[33m2306\u001b[39m, \u001b[33m2122\u001b[39m, \u001b[33m2169\u001b[39m, \u001b[33m2325\u001b[39m, \u001b[33m2091\u001b[39m, \u001b[33m2104\u001b[39m,\n",
            "    \u001b[33m2249\u001b[39m, \u001b[33m1953\u001b[39m, \u001b[33m1996\u001b[39m, \u001b[33m1819\u001b[39m, \u001b[33m2307\u001b[39m, \u001b[33m2106\u001b[39m, \u001b[33m2133\u001b[39m, \u001b[33m2168\u001b[39m, \u001b[33m2013\u001b[39m, \u001b[33m2076\u001b[39m,\n",
            "    ... 500 more items\n",
            "  ],\n",
            "  [\n",
            "    \u001b[33m1747\u001b[39m, \u001b[33m1986\u001b[39m, \u001b[33m2288\u001b[39m, \u001b[33m1987\u001b[39m, \u001b[33m2063\u001b[39m, \u001b[33m1797\u001b[39m, \u001b[33m1905\u001b[39m, \u001b[33m1749\u001b[39m, \u001b[33m2123\u001b[39m, \u001b[33m2197\u001b[39m,\n",
            "    \u001b[33m1944\u001b[39m, \u001b[33m2284\u001b[39m, \u001b[33m1851\u001b[39m, \u001b[33m1812\u001b[39m, \u001b[33m2258\u001b[39m, \u001b[33m1693\u001b[39m, \u001b[33m2007\u001b[39m, \u001b[33m1938\u001b[39m, \u001b[33m2132\u001b[39m, \u001b[33m2079\u001b[39m,\n",
            "    \u001b[33m1806\u001b[39m, \u001b[33m1992\u001b[39m, \u001b[33m1833\u001b[39m, \u001b[33m2238\u001b[39m, \u001b[33m1940\u001b[39m, \u001b[33m2198\u001b[39m, \u001b[33m1977\u001b[39m, \u001b[33m2107\u001b[39m, \u001b[33m2085\u001b[39m, \u001b[33m2368\u001b[39m,\n",
            "    \u001b[33m1776\u001b[39m, \u001b[33m2048\u001b[39m, \u001b[33m1996\u001b[39m, \u001b[33m1868\u001b[39m, \u001b[33m2015\u001b[39m, \u001b[33m2008\u001b[39m, \u001b[33m2105\u001b[39m, \u001b[33m1869\u001b[39m, \u001b[33m2002\u001b[39m, \u001b[33m1855\u001b[39m,\n",
            "    \u001b[33m2020\u001b[39m, \u001b[33m1618\u001b[39m, \u001b[33m1851\u001b[39m, \u001b[33m1744\u001b[39m, \u001b[33m1767\u001b[39m, \u001b[33m2112\u001b[39m, \u001b[33m1937\u001b[39m, \u001b[33m2036\u001b[39m, \u001b[33m1757\u001b[39m, \u001b[33m1971\u001b[39m,\n",
            "    \u001b[33m2091\u001b[39m, \u001b[33m1906\u001b[39m, \u001b[33m2203\u001b[39m, \u001b[33m1970\u001b[39m, \u001b[33m1892\u001b[39m, \u001b[33m2097\u001b[39m, \u001b[33m2182\u001b[39m, \u001b[33m2142\u001b[39m, \u001b[33m2079\u001b[39m, \u001b[33m1885\u001b[39m,\n",
            "    \u001b[33m2052\u001b[39m, \u001b[33m2172\u001b[39m, \u001b[33m2012\u001b[39m, \u001b[33m2023\u001b[39m, \u001b[33m2113\u001b[39m, \u001b[33m2098\u001b[39m, \u001b[33m2137\u001b[39m, \u001b[33m2154\u001b[39m, \u001b[33m2105\u001b[39m, \u001b[33m1927\u001b[39m,\n",
            "    \u001b[33m1997\u001b[39m, \u001b[33m2053\u001b[39m, \u001b[33m1814\u001b[39m, \u001b[33m2329\u001b[39m, \u001b[33m1983\u001b[39m, \u001b[33m1966\u001b[39m, \u001b[33m1962\u001b[39m, \u001b[33m2031\u001b[39m, \u001b[33m2174\u001b[39m, \u001b[33m1830\u001b[39m,\n",
            "    \u001b[33m1845\u001b[39m, \u001b[33m2230\u001b[39m, \u001b[33m2117\u001b[39m, \u001b[33m1867\u001b[39m, \u001b[33m2024\u001b[39m, \u001b[33m1864\u001b[39m, \u001b[33m2185\u001b[39m, \u001b[33m2145\u001b[39m, \u001b[33m1893\u001b[39m, \u001b[33m1848\u001b[39m,\n",
            "    \u001b[33m2278\u001b[39m, \u001b[33m1781\u001b[39m, \u001b[33m1849\u001b[39m, \u001b[33m1905\u001b[39m, \u001b[33m2248\u001b[39m, \u001b[33m2011\u001b[39m, \u001b[33m2057\u001b[39m, \u001b[33m2128\u001b[39m, \u001b[33m1901\u001b[39m, \u001b[33m1851\u001b[39m,\n",
            "    ... 500 more items\n",
            "  ],\n",
            "  [\n",
            "    \u001b[33m1682\u001b[39m, \u001b[33m2429\u001b[39m, \u001b[33m2210\u001b[39m, \u001b[33m1952\u001b[39m, \u001b[33m2071\u001b[39m, \u001b[33m1913\u001b[39m, \u001b[33m2149\u001b[39m, \u001b[33m1911\u001b[39m, \u001b[33m2013\u001b[39m, \u001b[33m2093\u001b[39m,\n",
            "    \u001b[33m2082\u001b[39m, \u001b[33m2180\u001b[39m, \u001b[33m1829\u001b[39m, \u001b[33m2067\u001b[39m, \u001b[33m2249\u001b[39m, \u001b[33m1856\u001b[39m, \u001b[33m2041\u001b[39m, \u001b[33m2013\u001b[39m, \u001b[33m2203\u001b[39m, \u001b[33m2138\u001b[39m,\n",
            "    \u001b[33m1619\u001b[39m, \u001b[33m2045\u001b[39m, \u001b[33m1897\u001b[39m, \u001b[33m2225\u001b[39m, \u001b[33m1938\u001b[39m, \u001b[33m2062\u001b[39m, \u001b[33m1978\u001b[39m, \u001b[33m2069\u001b[39m, \u001b[33m2037\u001b[39m, \u001b[33m2408\u001b[39m,\n",
            "    \u001b[33m1885\u001b[39m, \u001b[33m2137\u001b[39m, \u001b[33m2105\u001b[39m, \u001b[33m2136\u001b[39m, \u001b[33m2072\u001b[39m, \u001b[33m2122\u001b[39m, \u001b[33m2180\u001b[39m, \u001b[33m2010\u001b[39m, \u001b[33m2025\u001b[39m, \u001b[33m1785\u001b[39m,\n",
            "    \u001b[33m2202\u001b[39m, \u001b[33m1820\u001b[39m, \u001b[33m1862\u001b[39m, \u001b[33m1925\u001b[39m, \u001b[33m2055\u001b[39m, \u001b[33m1950\u001b[39m, \u001b[33m2151\u001b[39m, \u001b[33m2062\u001b[39m, \u001b[33m1816\u001b[39m, \u001b[33m2070\u001b[39m,\n",
            "    \u001b[33m2139\u001b[39m, \u001b[33m1899\u001b[39m, \u001b[33m2203\u001b[39m, \u001b[33m2032\u001b[39m, \u001b[33m1936\u001b[39m, \u001b[33m2225\u001b[39m, \u001b[33m2137\u001b[39m, \u001b[33m2051\u001b[39m, \u001b[33m2068\u001b[39m, \u001b[33m1855\u001b[39m,\n",
            "    \u001b[33m2173\u001b[39m, \u001b[33m2048\u001b[39m, \u001b[33m2093\u001b[39m, \u001b[33m2190\u001b[39m, \u001b[33m2091\u001b[39m, \u001b[33m2181\u001b[39m, \u001b[33m2012\u001b[39m, \u001b[33m2289\u001b[39m, \u001b[33m2259\u001b[39m, \u001b[33m2032\u001b[39m,\n",
            "    \u001b[33m1946\u001b[39m, \u001b[33m2088\u001b[39m, \u001b[33m1976\u001b[39m, \u001b[33m2360\u001b[39m, \u001b[33m2145\u001b[39m, \u001b[33m2117\u001b[39m, \u001b[33m1840\u001b[39m, \u001b[33m2054\u001b[39m, \u001b[33m2134\u001b[39m, \u001b[33m2034\u001b[39m,\n",
            "    \u001b[33m1882\u001b[39m, \u001b[33m2213\u001b[39m, \u001b[33m2216\u001b[39m, \u001b[33m1998\u001b[39m, \u001b[33m1991\u001b[39m, \u001b[33m1919\u001b[39m, \u001b[33m2142\u001b[39m, \u001b[33m2183\u001b[39m, \u001b[33m1826\u001b[39m, \u001b[33m1987\u001b[39m,\n",
            "    \u001b[33m2182\u001b[39m, \u001b[33m1812\u001b[39m, \u001b[33m1941\u001b[39m, \u001b[33m1893\u001b[39m, \u001b[33m2391\u001b[39m, \u001b[33m2020\u001b[39m, \u001b[33m2131\u001b[39m, \u001b[33m2192\u001b[39m, \u001b[33m1765\u001b[39m, \u001b[33m1906\u001b[39m,\n",
            "    ... 500 more items\n",
            "  ],\n",
            "  [\n",
            "    \u001b[33m1640\u001b[39m, \u001b[33m2298\u001b[39m, \u001b[33m2192\u001b[39m, \u001b[33m1880\u001b[39m, \u001b[33m1958\u001b[39m, \u001b[33m1778\u001b[39m, \u001b[33m2308\u001b[39m, \u001b[33m2009\u001b[39m, \u001b[33m1984\u001b[39m, \u001b[33m2093\u001b[39m,\n",
            "    \u001b[33m1990\u001b[39m, \u001b[33m2138\u001b[39m, \u001b[33m1866\u001b[39m, \u001b[33m1973\u001b[39m, \u001b[33m2234\u001b[39m, \u001b[33m1881\u001b[39m, \u001b[33m2056\u001b[39m, \u001b[33m1844\u001b[39m, \u001b[33m2236\u001b[39m, \u001b[33m2018\u001b[39m,\n",
            "    \u001b[33m1675\u001b[39m, \u001b[33m2105\u001b[39m, \u001b[33m1881\u001b[39m, \u001b[33m2246\u001b[39m, \u001b[33m1918\u001b[39m, \u001b[33m2042\u001b[39m, \u001b[33m2040\u001b[39m, \u001b[33m2092\u001b[39m, \u001b[33m2261\u001b[39m, \u001b[33m2324\u001b[39m,\n",
            "    \u001b[33m1804\u001b[39m, \u001b[33m2206\u001b[39m, \u001b[33m2142\u001b[39m, \u001b[33m1996\u001b[39m, \u001b[33m2048\u001b[39m, \u001b[33m2134\u001b[39m, \u001b[33m2179\u001b[39m, \u001b[33m1913\u001b[39m, \u001b[33m2091\u001b[39m, \u001b[33m2092\u001b[39m,\n",
            "    \u001b[33m2079\u001b[39m, \u001b[33m1899\u001b[39m, \u001b[33m1807\u001b[39m, \u001b[33m1930\u001b[39m, \u001b[33m1960\u001b[39m, \u001b[33m1893\u001b[39m, \u001b[33m2071\u001b[39m, \u001b[33m2199\u001b[39m, \u001b[33m1968\u001b[39m, \u001b[33m2174\u001b[39m,\n",
            "    \u001b[33m2218\u001b[39m, \u001b[33m1903\u001b[39m, \u001b[33m2202\u001b[39m, \u001b[33m1886\u001b[39m, \u001b[33m1862\u001b[39m, \u001b[33m2263\u001b[39m, \u001b[33m2201\u001b[39m, \u001b[33m2164\u001b[39m, \u001b[33m2405\u001b[39m, \u001b[33m1944\u001b[39m,\n",
            "    \u001b[33m2171\u001b[39m, \u001b[33m2037\u001b[39m, \u001b[33m2009\u001b[39m, \u001b[33m2108\u001b[39m, \u001b[33m1930\u001b[39m, \u001b[33m2216\u001b[39m, \u001b[33m2248\u001b[39m, \u001b[33m2327\u001b[39m, \u001b[33m2221\u001b[39m, \u001b[33m2160\u001b[39m,\n",
            "    \u001b[33m2047\u001b[39m, \u001b[33m2165\u001b[39m, \u001b[33m1822\u001b[39m, \u001b[33m2398\u001b[39m, \u001b[33m2114\u001b[39m, \u001b[33m2099\u001b[39m, \u001b[33m2009\u001b[39m, \u001b[33m2101\u001b[39m, \u001b[33m2295\u001b[39m, \u001b[33m2089\u001b[39m,\n",
            "    \u001b[33m1981\u001b[39m, \u001b[33m2190\u001b[39m, \u001b[33m2234\u001b[39m, \u001b[33m1933\u001b[39m, \u001b[33m2166\u001b[39m, \u001b[33m2130\u001b[39m, \u001b[33m2181\u001b[39m, \u001b[33m2177\u001b[39m, \u001b[33m1962\u001b[39m, \u001b[33m2148\u001b[39m,\n",
            "    \u001b[33m2109\u001b[39m, \u001b[33m1959\u001b[39m, \u001b[33m1979\u001b[39m, \u001b[33m1769\u001b[39m, \u001b[33m2293\u001b[39m, \u001b[33m2063\u001b[39m, \u001b[33m2123\u001b[39m, \u001b[33m2204\u001b[39m, \u001b[33m1884\u001b[39m, \u001b[33m1868\u001b[39m,\n",
            "    ... 500 more items\n",
            "  ],\n",
            "  [\n",
            "    \u001b[33m1673\u001b[39m, \u001b[33m2126\u001b[39m, \u001b[33m2023\u001b[39m, \u001b[33m1781\u001b[39m, \u001b[33m1988\u001b[39m, \u001b[33m1712\u001b[39m, \u001b[33m2013\u001b[39m, \u001b[33m2053\u001b[39m, \u001b[33m1823\u001b[39m, \u001b[33m1957\u001b[39m,\n",
            "    \u001b[33m1858\u001b[39m, \u001b[33m1999\u001b[39m, \u001b[33m1784\u001b[39m, \u001b[33m1988\u001b[39m, \u001b[33m2275\u001b[39m, \u001b[33m1862\u001b[39m, \u001b[33m2127\u001b[39m, \u001b[33m1895\u001b[39m, \u001b[33m2088\u001b[39m, \u001b[33m1903\u001b[39m,\n",
            "    \u001b[33m1699\u001b[39m, \u001b[33m1966\u001b[39m, \u001b[33m1799\u001b[39m, \u001b[33m2164\u001b[39m, \u001b[33m1952\u001b[39m, \u001b[33m1980\u001b[39m, \u001b[33m1928\u001b[39m, \u001b[33m2095\u001b[39m, \u001b[33m2046\u001b[39m, \u001b[33m2136\u001b[39m,\n",
            "    \u001b[33m1811\u001b[39m, \u001b[33m1964\u001b[39m, \u001b[33m2084\u001b[39m, \u001b[33m1990\u001b[39m, \u001b[33m1970\u001b[39m, \u001b[33m1964\u001b[39m, \u001b[33m2000\u001b[39m, \u001b[33m1930\u001b[39m, \u001b[33m2012\u001b[39m, \u001b[33m1796\u001b[39m,\n",
            "    \u001b[33m2109\u001b[39m, \u001b[33m1712\u001b[39m, \u001b[33m1820\u001b[39m, \u001b[33m1872\u001b[39m, \u001b[33m1888\u001b[39m, \u001b[33m1906\u001b[39m, \u001b[33m1930\u001b[39m, \u001b[33m1974\u001b[39m, \u001b[33m1824\u001b[39m, \u001b[33m1837\u001b[39m,\n",
            "    \u001b[33m1991\u001b[39m, \u001b[33m1934\u001b[39m, \u001b[33m2137\u001b[39m, \u001b[33m1748\u001b[39m, \u001b[33m1861\u001b[39m, \u001b[33m2067\u001b[39m, \u001b[33m2036\u001b[39m, \u001b[33m1971\u001b[39m, \u001b[33m1963\u001b[39m, \u001b[33m1710\u001b[39m,\n",
            "    \u001b[33m1928\u001b[39m, \u001b[33m2075\u001b[39m, \u001b[33m1923\u001b[39m, \u001b[33m2112\u001b[39m, \u001b[33m1988\u001b[39m, \u001b[33m2009\u001b[39m, \u001b[33m2023\u001b[39m, \u001b[33m2059\u001b[39m, \u001b[33m2136\u001b[39m, \u001b[33m1971\u001b[39m,\n",
            "    \u001b[33m1820\u001b[39m, \u001b[33m2110\u001b[39m, \u001b[33m1870\u001b[39m, \u001b[33m2190\u001b[39m, \u001b[33m1959\u001b[39m, \u001b[33m1958\u001b[39m, \u001b[33m1940\u001b[39m, \u001b[33m1872\u001b[39m, \u001b[33m2102\u001b[39m, \u001b[33m1970\u001b[39m,\n",
            "    \u001b[33m1912\u001b[39m, \u001b[33m1982\u001b[39m, \u001b[33m2076\u001b[39m, \u001b[33m1843\u001b[39m, \u001b[33m2036\u001b[39m, \u001b[33m1880\u001b[39m, \u001b[33m2053\u001b[39m, \u001b[33m2163\u001b[39m, \u001b[33m1727\u001b[39m, \u001b[33m1913\u001b[39m,\n",
            "    \u001b[33m2037\u001b[39m, \u001b[33m1808\u001b[39m, \u001b[33m1910\u001b[39m, \u001b[33m1761\u001b[39m, \u001b[33m2171\u001b[39m, \u001b[33m1875\u001b[39m, \u001b[33m1962\u001b[39m, \u001b[33m2161\u001b[39m, \u001b[33m2054\u001b[39m, \u001b[33m1815\u001b[39m,\n",
            "    ... 500 more items\n",
            "  ],\n",
            "  [\n",
            "    \u001b[33m1903\u001b[39m, \u001b[33m2330\u001b[39m, \u001b[33m2459\u001b[39m, \u001b[33m2171\u001b[39m, \u001b[33m2181\u001b[39m, \u001b[33m2054\u001b[39m, \u001b[33m2409\u001b[39m, \u001b[33m1931\u001b[39m, \u001b[33m2121\u001b[39m, \u001b[33m2483\u001b[39m,\n",
            "    \u001b[33m2267\u001b[39m, \u001b[33m2358\u001b[39m, \u001b[33m1966\u001b[39m, \u001b[33m2149\u001b[39m, \u001b[33m2305\u001b[39m, \u001b[33m1940\u001b[39m, \u001b[33m2299\u001b[39m, \u001b[33m2140\u001b[39m, \u001b[33m2130\u001b[39m, \u001b[33m2346\u001b[39m,\n",
            "    \u001b[33m2021\u001b[39m, \u001b[33m2196\u001b[39m, \u001b[33m2176\u001b[39m, \u001b[33m2584\u001b[39m, \u001b[33m2240\u001b[39m, \u001b[33m2425\u001b[39m, \u001b[33m2205\u001b[39m, \u001b[33m2448\u001b[39m, \u001b[33m2198\u001b[39m, \u001b[33m2628\u001b[39m,\n",
            "    \u001b[33m1982\u001b[39m, \u001b[33m2185\u001b[39m, \u001b[33m2308\u001b[39m, \u001b[33m2262\u001b[39m, \u001b[33m2323\u001b[39m, \u001b[33m2287\u001b[39m, \u001b[33m2401\u001b[39m, \u001b[33m2119\u001b[39m, \u001b[33m2146\u001b[39m, \u001b[33m2010\u001b[39m,\n",
            "    \u001b[33m2347\u001b[39m, \u001b[33m2067\u001b[39m, \u001b[33m1953\u001b[39m, \u001b[33m2036\u001b[39m, \u001b[33m2191\u001b[39m, \u001b[33m2332\u001b[39m, \u001b[33m2173\u001b[39m, \u001b[33m2174\u001b[39m, \u001b[33m1957\u001b[39m, \u001b[33m2304\u001b[39m,\n",
            "    \u001b[33m2338\u001b[39m, \u001b[33m2068\u001b[39m, \u001b[33m2364\u001b[39m, \u001b[33m2162\u001b[39m, \u001b[33m2131\u001b[39m, \u001b[33m2408\u001b[39m, \u001b[33m2256\u001b[39m, \u001b[33m2252\u001b[39m, \u001b[33m2460\u001b[39m, \u001b[33m2182\u001b[39m,\n",
            "    \u001b[33m2242\u001b[39m, \u001b[33m2266\u001b[39m, \u001b[33m2131\u001b[39m, \u001b[33m2292\u001b[39m, \u001b[33m2233\u001b[39m, \u001b[33m2361\u001b[39m, \u001b[33m2243\u001b[39m, \u001b[33m2536\u001b[39m, \u001b[33m2349\u001b[39m, \u001b[33m2129\u001b[39m,\n",
            "    \u001b[33m2246\u001b[39m, \u001b[33m2462\u001b[39m, \u001b[33m2056\u001b[39m, \u001b[33m2461\u001b[39m, \u001b[33m2272\u001b[39m, \u001b[33m2226\u001b[39m, \u001b[33m2319\u001b[39m, \u001b[33m2208\u001b[39m, \u001b[33m2413\u001b[39m, \u001b[33m2138\u001b[39m,\n",
            "    \u001b[33m2121\u001b[39m, \u001b[33m2365\u001b[39m, \u001b[33m2476\u001b[39m, \u001b[33m2170\u001b[39m, \u001b[33m2050\u001b[39m, \u001b[33m2048\u001b[39m, \u001b[33m2377\u001b[39m, \u001b[33m2327\u001b[39m, \u001b[33m2031\u001b[39m, \u001b[33m2311\u001b[39m,\n",
            "    \u001b[33m2441\u001b[39m, \u001b[33m1921\u001b[39m, \u001b[33m2178\u001b[39m, \u001b[33m2040\u001b[39m, \u001b[33m2568\u001b[39m, \u001b[33m2153\u001b[39m, \u001b[33m2107\u001b[39m, \u001b[33m2274\u001b[39m, \u001b[33m2130\u001b[39m, \u001b[33m2066\u001b[39m,\n",
            "    ... 500 more items\n",
            "  ],\n",
            "  [\n",
            "    \u001b[33m1836\u001b[39m, \u001b[33m2307\u001b[39m, \u001b[33m2114\u001b[39m, \u001b[33m1829\u001b[39m, \u001b[33m2000\u001b[39m, \u001b[33m1768\u001b[39m, \u001b[33m2173\u001b[39m, \u001b[33m1971\u001b[39m, \u001b[33m1915\u001b[39m, \u001b[33m2039\u001b[39m,\n",
            "    \u001b[33m2143\u001b[39m, \u001b[33m2202\u001b[39m, \u001b[33m1919\u001b[39m, \u001b[33m2112\u001b[39m, \u001b[33m2151\u001b[39m, \u001b[33m1950\u001b[39m, \u001b[33m2158\u001b[39m, \u001b[33m2070\u001b[39m, \u001b[33m1914\u001b[39m, \u001b[33m1963\u001b[39m,\n",
            "    \u001b[33m1788\u001b[39m, \u001b[33m2170\u001b[39m, \u001b[33m1807\u001b[39m, \u001b[33m2189\u001b[39m, \u001b[33m2059\u001b[39m, \u001b[33m2186\u001b[39m, \u001b[33m2074\u001b[39m, \u001b[33m2127\u001b[39m, \u001b[33m2137\u001b[39m, \u001b[33m2364\u001b[39m,\n",
            "    \u001b[33m1836\u001b[39m, \u001b[33m1931\u001b[39m, \u001b[33m2175\u001b[39m, \u001b[33m2168\u001b[39m, \u001b[33m2199\u001b[39m, \u001b[33m2118\u001b[39m, \u001b[33m2242\u001b[39m, \u001b[33m1934\u001b[39m, \u001b[33m2282\u001b[39m, \u001b[33m1901\u001b[39m,\n",
            "    \u001b[33m2244\u001b[39m, \u001b[33m1851\u001b[39m, \u001b[33m1779\u001b[39m, \u001b[33m2111\u001b[39m, \u001b[33m2146\u001b[39m, \u001b[33m1984\u001b[39m, \u001b[33m2111\u001b[39m, \u001b[33m2088\u001b[39m, \u001b[33m1990\u001b[39m, \u001b[33m2035\u001b[39m,\n",
            "    \u001b[33m2114\u001b[39m, \u001b[33m2068\u001b[39m, \u001b[33m2239\u001b[39m, \u001b[33m1958\u001b[39m, \u001b[33m1902\u001b[39m, \u001b[33m2345\u001b[39m, \u001b[33m2210\u001b[39m, \u001b[33m2096\u001b[39m, \u001b[33m2154\u001b[39m, \u001b[33m2077\u001b[39m,\n",
            "    \u001b[33m2165\u001b[39m, \u001b[33m2146\u001b[39m, \u001b[33m2119\u001b[39m, \u001b[33m2041\u001b[39m, \u001b[33m2173\u001b[39m, \u001b[33m2369\u001b[39m, \u001b[33m2289\u001b[39m, \u001b[33m2374\u001b[39m, \u001b[33m2142\u001b[39m, \u001b[33m2238\u001b[39m,\n",
            "    \u001b[33m2027\u001b[39m, \u001b[33m2197\u001b[39m, \u001b[33m1865\u001b[39m, \u001b[33m2454\u001b[39m, \u001b[33m1967\u001b[39m, \u001b[33m2116\u001b[39m, \u001b[33m2079\u001b[39m, \u001b[33m2224\u001b[39m, \u001b[33m2238\u001b[39m, \u001b[33m2181\u001b[39m,\n",
            "    \u001b[33m2061\u001b[39m, \u001b[33m2249\u001b[39m, \u001b[33m2250\u001b[39m, \u001b[33m1994\u001b[39m, \u001b[33m2208\u001b[39m, \u001b[33m2129\u001b[39m, \u001b[33m2173\u001b[39m, \u001b[33m2148\u001b[39m, \u001b[33m2001\u001b[39m, \u001b[33m2046\u001b[39m,\n",
            "    \u001b[33m2169\u001b[39m, \u001b[33m1927\u001b[39m, \u001b[33m2075\u001b[39m, \u001b[33m1791\u001b[39m, \u001b[33m2174\u001b[39m, \u001b[33m2027\u001b[39m, \u001b[33m1974\u001b[39m, \u001b[33m2227\u001b[39m, \u001b[33m1959\u001b[39m, \u001b[33m1883\u001b[39m,\n",
            "    ... 500 more items\n",
            "  ],\n",
            "  [\n",
            "    \u001b[33m1550\u001b[39m, \u001b[33m2019\u001b[39m, \u001b[33m1981\u001b[39m, \u001b[33m1642\u001b[39m, \u001b[33m1813\u001b[39m, \u001b[33m1788\u001b[39m, \u001b[33m1996\u001b[39m, \u001b[33m1691\u001b[39m, \u001b[33m1670\u001b[39m, \u001b[33m1897\u001b[39m,\n",
            "    \u001b[33m1904\u001b[39m, \u001b[33m2001\u001b[39m, \u001b[33m1546\u001b[39m, \u001b[33m1907\u001b[39m, \u001b[33m2039\u001b[39m, \u001b[33m1777\u001b[39m, \u001b[33m2000\u001b[39m, \u001b[33m2093\u001b[39m, \u001b[33m1918\u001b[39m, \u001b[33m1945\u001b[39m,\n",
            "    \u001b[33m1707\u001b[39m, \u001b[33m1784\u001b[39m, \u001b[33m1722\u001b[39m, \u001b[33m2002\u001b[39m, \u001b[33m1927\u001b[39m, \u001b[33m1846\u001b[39m, \u001b[33m1667\u001b[39m, \u001b[33m1971\u001b[39m, \u001b[33m1802\u001b[39m, \u001b[33m1986\u001b[39m,\n",
            "    \u001b[33m1830\u001b[39m, \u001b[33m2011\u001b[39m, \u001b[33m2046\u001b[39m, \u001b[33m2012\u001b[39m, \u001b[33m2013\u001b[39m, \u001b[33m1817\u001b[39m, \u001b[33m2049\u001b[39m, \u001b[33m1973\u001b[39m, \u001b[33m1866\u001b[39m, \u001b[33m1625\u001b[39m,\n",
            "    \u001b[33m1845\u001b[39m, \u001b[33m1625\u001b[39m, \u001b[33m1572\u001b[39m, \u001b[33m1793\u001b[39m, \u001b[33m1958\u001b[39m, \u001b[33m1980\u001b[39m, \u001b[33m2021\u001b[39m, \u001b[33m1824\u001b[39m, \u001b[33m1870\u001b[39m, \u001b[33m1936\u001b[39m,\n",
            "    \u001b[33m2050\u001b[39m, \u001b[33m1906\u001b[39m, \u001b[33m1993\u001b[39m, \u001b[33m1840\u001b[39m, \u001b[33m1726\u001b[39m, \u001b[33m1863\u001b[39m, \u001b[33m1975\u001b[39m, \u001b[33m1942\u001b[39m, \u001b[33m1860\u001b[39m, \u001b[33m1741\u001b[39m,\n",
            "    \u001b[33m2028\u001b[39m, \u001b[33m1865\u001b[39m, \u001b[33m2029\u001b[39m, \u001b[33m1943\u001b[39m, \u001b[33m1871\u001b[39m, \u001b[33m1840\u001b[39m, \u001b[33m1949\u001b[39m, \u001b[33m2067\u001b[39m, \u001b[33m1906\u001b[39m, \u001b[33m1850\u001b[39m,\n",
            "    \u001b[33m1791\u001b[39m, \u001b[33m2065\u001b[39m, \u001b[33m1796\u001b[39m, \u001b[33m2140\u001b[39m, \u001b[33m1829\u001b[39m, \u001b[33m1917\u001b[39m, \u001b[33m1942\u001b[39m, \u001b[33m1791\u001b[39m, \u001b[33m1994\u001b[39m, \u001b[33m1844\u001b[39m,\n",
            "    \u001b[33m1749\u001b[39m, \u001b[33m1878\u001b[39m, \u001b[33m2156\u001b[39m, \u001b[33m1700\u001b[39m, \u001b[33m1866\u001b[39m, \u001b[33m1901\u001b[39m, \u001b[33m1882\u001b[39m, \u001b[33m1949\u001b[39m, \u001b[33m1814\u001b[39m, \u001b[33m1933\u001b[39m,\n",
            "    \u001b[33m1844\u001b[39m, \u001b[33m1682\u001b[39m, \u001b[33m1842\u001b[39m, \u001b[33m1639\u001b[39m, \u001b[33m2203\u001b[39m, \u001b[33m1690\u001b[39m, \u001b[33m1950\u001b[39m, \u001b[33m1937\u001b[39m, \u001b[33m1919\u001b[39m, \u001b[33m1827\u001b[39m,\n",
            "    ... 500 more items\n",
            "  ],\n",
            "  ... 500 more items\n",
            "]\n"
          ]
        }
      ],
      "source": [
        "!node matMul.js"
      ]
    },
    {
      "cell_type": "markdown",
      "metadata": {
        "id": "LvxaACodc9-K"
      },
      "source": [
        "**My own example 30 - Adding Javascript average execution time to the data frame**"
      ]
    },
    {
      "cell_type": "code",
      "execution_count": 61,
      "metadata": {
        "id": "BP_cdxR17J50",
        "colab": {
          "base_uri": "https://localhost:8080/",
          "height": 1000
        },
        "outputId": "5885e6ef-8f03-4f00-db69-420fce253f0d"
      },
      "outputs": [
        {
          "output_type": "stream",
          "name": "stdout",
          "text": [
            "[\n",
            "  [\n",
            "    \u001b[33m2012\u001b[39m, \u001b[33m2136\u001b[39m, \u001b[33m1742\u001b[39m, \u001b[33m2058\u001b[39m, \u001b[33m1806\u001b[39m, \u001b[33m1978\u001b[39m, \u001b[33m1952\u001b[39m, \u001b[33m1810\u001b[39m, \u001b[33m1938\u001b[39m, \u001b[33m1719\u001b[39m,\n",
            "    \u001b[33m1778\u001b[39m, \u001b[33m1963\u001b[39m, \u001b[33m1955\u001b[39m, \u001b[33m1843\u001b[39m, \u001b[33m1870\u001b[39m, \u001b[33m1780\u001b[39m, \u001b[33m1628\u001b[39m, \u001b[33m2136\u001b[39m, \u001b[33m1755\u001b[39m, \u001b[33m1917\u001b[39m,\n",
            "    \u001b[33m2108\u001b[39m, \u001b[33m1997\u001b[39m, \u001b[33m1883\u001b[39m, \u001b[33m2132\u001b[39m, \u001b[33m2012\u001b[39m, \u001b[33m1853\u001b[39m, \u001b[33m1982\u001b[39m, \u001b[33m1902\u001b[39m, \u001b[33m2033\u001b[39m, \u001b[33m1830\u001b[39m,\n",
            "    \u001b[33m1977\u001b[39m, \u001b[33m1685\u001b[39m, \u001b[33m1901\u001b[39m, \u001b[33m1928\u001b[39m, \u001b[33m2005\u001b[39m, \u001b[33m2013\u001b[39m, \u001b[33m1720\u001b[39m, \u001b[33m1880\u001b[39m, \u001b[33m2007\u001b[39m, \u001b[33m1985\u001b[39m,\n",
            "    \u001b[33m1932\u001b[39m, \u001b[33m2267\u001b[39m, \u001b[33m1947\u001b[39m, \u001b[33m2128\u001b[39m, \u001b[33m2012\u001b[39m, \u001b[33m1852\u001b[39m, \u001b[33m1987\u001b[39m, \u001b[33m1952\u001b[39m, \u001b[33m1788\u001b[39m, \u001b[33m2211\u001b[39m,\n",
            "    \u001b[33m1819\u001b[39m, \u001b[33m1920\u001b[39m, \u001b[33m2246\u001b[39m, \u001b[33m2306\u001b[39m, \u001b[33m2039\u001b[39m, \u001b[33m2058\u001b[39m, \u001b[33m2015\u001b[39m, \u001b[33m2104\u001b[39m, \u001b[33m1741\u001b[39m, \u001b[33m2023\u001b[39m,\n",
            "    \u001b[33m1842\u001b[39m, \u001b[33m2119\u001b[39m, \u001b[33m2248\u001b[39m, \u001b[33m2117\u001b[39m, \u001b[33m2156\u001b[39m, \u001b[33m2202\u001b[39m, \u001b[33m1638\u001b[39m, \u001b[33m1738\u001b[39m, \u001b[33m1984\u001b[39m, \u001b[33m1886\u001b[39m,\n",
            "    \u001b[33m1740\u001b[39m, \u001b[33m2012\u001b[39m, \u001b[33m1802\u001b[39m, \u001b[33m2019\u001b[39m, \u001b[33m1892\u001b[39m, \u001b[33m1916\u001b[39m, \u001b[33m2144\u001b[39m, \u001b[33m2012\u001b[39m, \u001b[33m1826\u001b[39m, \u001b[33m2069\u001b[39m,\n",
            "    \u001b[33m1901\u001b[39m, \u001b[33m2163\u001b[39m, \u001b[33m1884\u001b[39m, \u001b[33m2175\u001b[39m, \u001b[33m1909\u001b[39m, \u001b[33m1938\u001b[39m, \u001b[33m1851\u001b[39m, \u001b[33m2203\u001b[39m, \u001b[33m2217\u001b[39m, \u001b[33m1955\u001b[39m,\n",
            "    \u001b[33m2103\u001b[39m, \u001b[33m2219\u001b[39m, \u001b[33m1854\u001b[39m, \u001b[33m1888\u001b[39m, \u001b[33m1815\u001b[39m, \u001b[33m1953\u001b[39m, \u001b[33m1752\u001b[39m, \u001b[33m1938\u001b[39m, \u001b[33m2150\u001b[39m, \u001b[33m1981\u001b[39m,\n",
            "    ... 500 more items\n",
            "  ],\n",
            "  [\n",
            "    \u001b[33m2178\u001b[39m, \u001b[33m2540\u001b[39m, \u001b[33m2300\u001b[39m, \u001b[33m2264\u001b[39m, \u001b[33m2238\u001b[39m, \u001b[33m2391\u001b[39m, \u001b[33m2328\u001b[39m, \u001b[33m2252\u001b[39m, \u001b[33m2274\u001b[39m, \u001b[33m2076\u001b[39m,\n",
            "    \u001b[33m2037\u001b[39m, \u001b[33m2333\u001b[39m, \u001b[33m2161\u001b[39m, \u001b[33m2157\u001b[39m, \u001b[33m2362\u001b[39m, \u001b[33m2128\u001b[39m, \u001b[33m1970\u001b[39m, \u001b[33m2603\u001b[39m, \u001b[33m2199\u001b[39m, \u001b[33m2378\u001b[39m,\n",
            "    \u001b[33m2288\u001b[39m, \u001b[33m2541\u001b[39m, \u001b[33m2375\u001b[39m, \u001b[33m2628\u001b[39m, \u001b[33m2370\u001b[39m, \u001b[33m2399\u001b[39m, \u001b[33m2383\u001b[39m, \u001b[33m2260\u001b[39m, \u001b[33m2345\u001b[39m, \u001b[33m2273\u001b[39m,\n",
            "    \u001b[33m2255\u001b[39m, \u001b[33m2211\u001b[39m, \u001b[33m2153\u001b[39m, \u001b[33m2519\u001b[39m, \u001b[33m2357\u001b[39m, \u001b[33m2517\u001b[39m, \u001b[33m2056\u001b[39m, \u001b[33m2021\u001b[39m, \u001b[33m2549\u001b[39m, \u001b[33m2208\u001b[39m,\n",
            "    \u001b[33m2222\u001b[39m, \u001b[33m2433\u001b[39m, \u001b[33m2414\u001b[39m, \u001b[33m2603\u001b[39m, \u001b[33m2411\u001b[39m, \u001b[33m2346\u001b[39m, \u001b[33m2307\u001b[39m, \u001b[33m2329\u001b[39m, \u001b[33m2404\u001b[39m, \u001b[33m2314\u001b[39m,\n",
            "    \u001b[33m2194\u001b[39m, \u001b[33m2246\u001b[39m, \u001b[33m2505\u001b[39m, \u001b[33m2712\u001b[39m, \u001b[33m2440\u001b[39m, \u001b[33m2283\u001b[39m, \u001b[33m2538\u001b[39m, \u001b[33m2310\u001b[39m, \u001b[33m2007\u001b[39m, \u001b[33m2296\u001b[39m,\n",
            "    \u001b[33m2110\u001b[39m, \u001b[33m2510\u001b[39m, \u001b[33m2662\u001b[39m, \u001b[33m2800\u001b[39m, \u001b[33m2467\u001b[39m, \u001b[33m2389\u001b[39m, \u001b[33m1995\u001b[39m, \u001b[33m2347\u001b[39m, \u001b[33m2245\u001b[39m, \u001b[33m2177\u001b[39m,\n",
            "    \u001b[33m2125\u001b[39m, \u001b[33m2230\u001b[39m, \u001b[33m2226\u001b[39m, \u001b[33m2323\u001b[39m, \u001b[33m2312\u001b[39m, \u001b[33m2574\u001b[39m, \u001b[33m2521\u001b[39m, \u001b[33m2312\u001b[39m, \u001b[33m2023\u001b[39m, \u001b[33m2451\u001b[39m,\n",
            "    \u001b[33m2238\u001b[39m, \u001b[33m2596\u001b[39m, \u001b[33m2122\u001b[39m, \u001b[33m2619\u001b[39m, \u001b[33m2228\u001b[39m, \u001b[33m2459\u001b[39m, \u001b[33m2327\u001b[39m, \u001b[33m2597\u001b[39m, \u001b[33m2616\u001b[39m, \u001b[33m2343\u001b[39m,\n",
            "    \u001b[33m2369\u001b[39m, \u001b[33m2472\u001b[39m, \u001b[33m2174\u001b[39m, \u001b[33m2129\u001b[39m, \u001b[33m1927\u001b[39m, \u001b[33m2278\u001b[39m, \u001b[33m1983\u001b[39m, \u001b[33m2278\u001b[39m, \u001b[33m2342\u001b[39m, \u001b[33m2323\u001b[39m,\n",
            "    ... 500 more items\n",
            "  ],\n",
            "  [\n",
            "    \u001b[33m1920\u001b[39m, \u001b[33m2076\u001b[39m, \u001b[33m1956\u001b[39m, \u001b[33m2048\u001b[39m, \u001b[33m1723\u001b[39m, \u001b[33m2071\u001b[39m, \u001b[33m1883\u001b[39m, \u001b[33m1991\u001b[39m, \u001b[33m2031\u001b[39m, \u001b[33m1721\u001b[39m,\n",
            "    \u001b[33m1874\u001b[39m, \u001b[33m1838\u001b[39m, \u001b[33m1889\u001b[39m, \u001b[33m2036\u001b[39m, \u001b[33m1943\u001b[39m, \u001b[33m1831\u001b[39m, \u001b[33m1712\u001b[39m, \u001b[33m2230\u001b[39m, \u001b[33m1847\u001b[39m, \u001b[33m1779\u001b[39m,\n",
            "    \u001b[33m2025\u001b[39m, \u001b[33m1890\u001b[39m, \u001b[33m1880\u001b[39m, \u001b[33m2209\u001b[39m, \u001b[33m2125\u001b[39m, \u001b[33m1996\u001b[39m, \u001b[33m1836\u001b[39m, \u001b[33m1895\u001b[39m, \u001b[33m1971\u001b[39m, \u001b[33m1918\u001b[39m,\n",
            "    \u001b[33m2096\u001b[39m, \u001b[33m1934\u001b[39m, \u001b[33m1924\u001b[39m, \u001b[33m2186\u001b[39m, \u001b[33m1839\u001b[39m, \u001b[33m2008\u001b[39m, \u001b[33m1715\u001b[39m, \u001b[33m1906\u001b[39m, \u001b[33m2074\u001b[39m, \u001b[33m1979\u001b[39m,\n",
            "    \u001b[33m1728\u001b[39m, \u001b[33m2220\u001b[39m, \u001b[33m2051\u001b[39m, \u001b[33m2338\u001b[39m, \u001b[33m2098\u001b[39m, \u001b[33m2001\u001b[39m, \u001b[33m2000\u001b[39m, \u001b[33m2048\u001b[39m, \u001b[33m1955\u001b[39m, \u001b[33m1978\u001b[39m,\n",
            "    \u001b[33m1988\u001b[39m, \u001b[33m2002\u001b[39m, \u001b[33m2271\u001b[39m, \u001b[33m2351\u001b[39m, \u001b[33m2126\u001b[39m, \u001b[33m1856\u001b[39m, \u001b[33m2166\u001b[39m, \u001b[33m2000\u001b[39m, \u001b[33m1805\u001b[39m, \u001b[33m2069\u001b[39m,\n",
            "    \u001b[33m1876\u001b[39m, \u001b[33m2093\u001b[39m, \u001b[33m2180\u001b[39m, \u001b[33m2395\u001b[39m, \u001b[33m2324\u001b[39m, \u001b[33m2118\u001b[39m, \u001b[33m1765\u001b[39m, \u001b[33m1967\u001b[39m, \u001b[33m1999\u001b[39m, \u001b[33m1973\u001b[39m,\n",
            "    \u001b[33m1933\u001b[39m, \u001b[33m1931\u001b[39m, \u001b[33m1795\u001b[39m, \u001b[33m1920\u001b[39m, \u001b[33m1978\u001b[39m, \u001b[33m2028\u001b[39m, \u001b[33m2149\u001b[39m, \u001b[33m1933\u001b[39m, \u001b[33m1776\u001b[39m, \u001b[33m1998\u001b[39m,\n",
            "    \u001b[33m1852\u001b[39m, \u001b[33m2124\u001b[39m, \u001b[33m1823\u001b[39m, \u001b[33m2089\u001b[39m, \u001b[33m1893\u001b[39m, \u001b[33m1839\u001b[39m, \u001b[33m1887\u001b[39m, \u001b[33m2048\u001b[39m, \u001b[33m2111\u001b[39m, \u001b[33m1983\u001b[39m,\n",
            "    \u001b[33m1955\u001b[39m, \u001b[33m2097\u001b[39m, \u001b[33m2049\u001b[39m, \u001b[33m1726\u001b[39m, \u001b[33m1562\u001b[39m, \u001b[33m1830\u001b[39m, \u001b[33m1819\u001b[39m, \u001b[33m1930\u001b[39m, \u001b[33m1939\u001b[39m, \u001b[33m2056\u001b[39m,\n",
            "    ... 500 more items\n",
            "  ],\n",
            "  [\n",
            "    \u001b[33m2156\u001b[39m, \u001b[33m2374\u001b[39m, \u001b[33m2168\u001b[39m, \u001b[33m2295\u001b[39m, \u001b[33m2151\u001b[39m, \u001b[33m2215\u001b[39m, \u001b[33m2050\u001b[39m, \u001b[33m2243\u001b[39m, \u001b[33m2233\u001b[39m, \u001b[33m2056\u001b[39m,\n",
            "    \u001b[33m1985\u001b[39m, \u001b[33m2033\u001b[39m, \u001b[33m2176\u001b[39m, \u001b[33m2313\u001b[39m, \u001b[33m2305\u001b[39m, \u001b[33m2094\u001b[39m, \u001b[33m1838\u001b[39m, \u001b[33m2253\u001b[39m, \u001b[33m2270\u001b[39m, \u001b[33m2138\u001b[39m,\n",
            "    \u001b[33m2219\u001b[39m, \u001b[33m2403\u001b[39m, \u001b[33m2172\u001b[39m, \u001b[33m2495\u001b[39m, \u001b[33m2398\u001b[39m, \u001b[33m2216\u001b[39m, \u001b[33m2206\u001b[39m, \u001b[33m2253\u001b[39m, \u001b[33m2293\u001b[39m, \u001b[33m2196\u001b[39m,\n",
            "    \u001b[33m2213\u001b[39m, \u001b[33m2143\u001b[39m, \u001b[33m2214\u001b[39m, \u001b[33m2306\u001b[39m, \u001b[33m2273\u001b[39m, \u001b[33m2335\u001b[39m, \u001b[33m2015\u001b[39m, \u001b[33m2085\u001b[39m, \u001b[33m2176\u001b[39m, \u001b[33m2052\u001b[39m,\n",
            "    \u001b[33m2208\u001b[39m, \u001b[33m2417\u001b[39m, \u001b[33m2167\u001b[39m, \u001b[33m2587\u001b[39m, \u001b[33m2414\u001b[39m, \u001b[33m2066\u001b[39m, \u001b[33m2179\u001b[39m, \u001b[33m2312\u001b[39m, \u001b[33m2170\u001b[39m, \u001b[33m2205\u001b[39m,\n",
            "    \u001b[33m2130\u001b[39m, \u001b[33m2271\u001b[39m, \u001b[33m2399\u001b[39m, \u001b[33m2580\u001b[39m, \u001b[33m2214\u001b[39m, \u001b[33m2141\u001b[39m, \u001b[33m2333\u001b[39m, \u001b[33m2242\u001b[39m, \u001b[33m2075\u001b[39m, \u001b[33m2319\u001b[39m,\n",
            "    \u001b[33m2130\u001b[39m, \u001b[33m2370\u001b[39m, \u001b[33m2531\u001b[39m, \u001b[33m2498\u001b[39m, \u001b[33m2488\u001b[39m, \u001b[33m2359\u001b[39m, \u001b[33m2041\u001b[39m, \u001b[33m2102\u001b[39m, \u001b[33m2185\u001b[39m, \u001b[33m2245\u001b[39m,\n",
            "    \u001b[33m2257\u001b[39m, \u001b[33m2122\u001b[39m, \u001b[33m2088\u001b[39m, \u001b[33m2204\u001b[39m, \u001b[33m2257\u001b[39m, \u001b[33m2383\u001b[39m, \u001b[33m2328\u001b[39m, \u001b[33m2216\u001b[39m, \u001b[33m2062\u001b[39m, \u001b[33m2247\u001b[39m,\n",
            "    \u001b[33m2186\u001b[39m, \u001b[33m2628\u001b[39m, \u001b[33m2060\u001b[39m, \u001b[33m2505\u001b[39m, \u001b[33m2194\u001b[39m, \u001b[33m2256\u001b[39m, \u001b[33m2109\u001b[39m, \u001b[33m2428\u001b[39m, \u001b[33m2433\u001b[39m, \u001b[33m2168\u001b[39m,\n",
            "    \u001b[33m2410\u001b[39m, \u001b[33m2435\u001b[39m, \u001b[33m2198\u001b[39m, \u001b[33m1948\u001b[39m, \u001b[33m2026\u001b[39m, \u001b[33m2074\u001b[39m, \u001b[33m2099\u001b[39m, \u001b[33m2117\u001b[39m, \u001b[33m2321\u001b[39m, \u001b[33m2412\u001b[39m,\n",
            "    ... 500 more items\n",
            "  ],\n",
            "  [\n",
            "    \u001b[33m2153\u001b[39m, \u001b[33m2155\u001b[39m, \u001b[33m1876\u001b[39m, \u001b[33m1676\u001b[39m, \u001b[33m1870\u001b[39m, \u001b[33m2136\u001b[39m, \u001b[33m2020\u001b[39m, \u001b[33m1755\u001b[39m, \u001b[33m2055\u001b[39m, \u001b[33m1728\u001b[39m,\n",
            "    \u001b[33m1768\u001b[39m, \u001b[33m2053\u001b[39m, \u001b[33m2004\u001b[39m, \u001b[33m1891\u001b[39m, \u001b[33m2092\u001b[39m, \u001b[33m1726\u001b[39m, \u001b[33m1797\u001b[39m, \u001b[33m2099\u001b[39m, \u001b[33m1858\u001b[39m, \u001b[33m1791\u001b[39m,\n",
            "    \u001b[33m1866\u001b[39m, \u001b[33m2186\u001b[39m, \u001b[33m1929\u001b[39m, \u001b[33m2283\u001b[39m, \u001b[33m2027\u001b[39m, \u001b[33m1977\u001b[39m, \u001b[33m1941\u001b[39m, \u001b[33m1794\u001b[39m, \u001b[33m1980\u001b[39m, \u001b[33m1932\u001b[39m,\n",
            "    \u001b[33m2125\u001b[39m, \u001b[33m1916\u001b[39m, \u001b[33m1826\u001b[39m, \u001b[33m1993\u001b[39m, \u001b[33m2026\u001b[39m, \u001b[33m2009\u001b[39m, \u001b[33m1763\u001b[39m, \u001b[33m1764\u001b[39m, \u001b[33m1923\u001b[39m, \u001b[33m2079\u001b[39m,\n",
            "    \u001b[33m1821\u001b[39m, \u001b[33m2281\u001b[39m, \u001b[33m2083\u001b[39m, \u001b[33m2261\u001b[39m, \u001b[33m2014\u001b[39m, \u001b[33m2054\u001b[39m, \u001b[33m1857\u001b[39m, \u001b[33m1963\u001b[39m, \u001b[33m1908\u001b[39m, \u001b[33m1868\u001b[39m,\n",
            "    \u001b[33m1901\u001b[39m, \u001b[33m1870\u001b[39m, \u001b[33m2061\u001b[39m, \u001b[33m2303\u001b[39m, \u001b[33m2339\u001b[39m, \u001b[33m1773\u001b[39m, \u001b[33m2207\u001b[39m, \u001b[33m2027\u001b[39m, \u001b[33m1714\u001b[39m, \u001b[33m2039\u001b[39m,\n",
            "    \u001b[33m1979\u001b[39m, \u001b[33m1937\u001b[39m, \u001b[33m2180\u001b[39m, \u001b[33m2242\u001b[39m, \u001b[33m2179\u001b[39m, \u001b[33m1961\u001b[39m, \u001b[33m1607\u001b[39m, \u001b[33m2088\u001b[39m, \u001b[33m1857\u001b[39m, \u001b[33m1902\u001b[39m,\n",
            "    \u001b[33m1988\u001b[39m, \u001b[33m2008\u001b[39m, \u001b[33m1877\u001b[39m, \u001b[33m1937\u001b[39m, \u001b[33m2054\u001b[39m, \u001b[33m2228\u001b[39m, \u001b[33m2166\u001b[39m, \u001b[33m2002\u001b[39m, \u001b[33m1615\u001b[39m, \u001b[33m1943\u001b[39m,\n",
            "    \u001b[33m1891\u001b[39m, \u001b[33m2138\u001b[39m, \u001b[33m1679\u001b[39m, \u001b[33m2137\u001b[39m, \u001b[33m1888\u001b[39m, \u001b[33m2025\u001b[39m, \u001b[33m1878\u001b[39m, \u001b[33m2312\u001b[39m, \u001b[33m2107\u001b[39m, \u001b[33m1983\u001b[39m,\n",
            "    \u001b[33m2050\u001b[39m, \u001b[33m2178\u001b[39m, \u001b[33m2063\u001b[39m, \u001b[33m1851\u001b[39m, \u001b[33m1639\u001b[39m, \u001b[33m1789\u001b[39m, \u001b[33m1940\u001b[39m, \u001b[33m1922\u001b[39m, \u001b[33m1805\u001b[39m, \u001b[33m1983\u001b[39m,\n",
            "    ... 500 more items\n",
            "  ],\n",
            "  [\n",
            "    \u001b[33m2362\u001b[39m, \u001b[33m2610\u001b[39m, \u001b[33m2241\u001b[39m, \u001b[33m2504\u001b[39m, \u001b[33m2245\u001b[39m, \u001b[33m2404\u001b[39m, \u001b[33m2360\u001b[39m, \u001b[33m2250\u001b[39m, \u001b[33m2496\u001b[39m, \u001b[33m2019\u001b[39m,\n",
            "    \u001b[33m2111\u001b[39m, \u001b[33m2298\u001b[39m, \u001b[33m2368\u001b[39m, \u001b[33m2365\u001b[39m, \u001b[33m2442\u001b[39m, \u001b[33m2155\u001b[39m, \u001b[33m1962\u001b[39m, \u001b[33m2623\u001b[39m, \u001b[33m2223\u001b[39m, \u001b[33m2219\u001b[39m,\n",
            "    \u001b[33m2366\u001b[39m, \u001b[33m2571\u001b[39m, \u001b[33m2371\u001b[39m, \u001b[33m2624\u001b[39m, \u001b[33m2423\u001b[39m, \u001b[33m2219\u001b[39m, \u001b[33m2433\u001b[39m, \u001b[33m2387\u001b[39m, \u001b[33m2469\u001b[39m, \u001b[33m2256\u001b[39m,\n",
            "    \u001b[33m2442\u001b[39m, \u001b[33m2238\u001b[39m, \u001b[33m2355\u001b[39m, \u001b[33m2300\u001b[39m, \u001b[33m2336\u001b[39m, \u001b[33m2412\u001b[39m, \u001b[33m2159\u001b[39m, \u001b[33m2368\u001b[39m, \u001b[33m2436\u001b[39m, \u001b[33m2261\u001b[39m,\n",
            "    \u001b[33m2376\u001b[39m, \u001b[33m2694\u001b[39m, \u001b[33m2498\u001b[39m, \u001b[33m2586\u001b[39m, \u001b[33m2427\u001b[39m, \u001b[33m2436\u001b[39m, \u001b[33m2269\u001b[39m, \u001b[33m2465\u001b[39m, \u001b[33m2164\u001b[39m, \u001b[33m2492\u001b[39m,\n",
            "    \u001b[33m2402\u001b[39m, \u001b[33m2379\u001b[39m, \u001b[33m2708\u001b[39m, \u001b[33m2760\u001b[39m, \u001b[33m2588\u001b[39m, \u001b[33m2312\u001b[39m, \u001b[33m2510\u001b[39m, \u001b[33m2515\u001b[39m, \u001b[33m2252\u001b[39m, \u001b[33m2540\u001b[39m,\n",
            "    \u001b[33m2249\u001b[39m, \u001b[33m2563\u001b[39m, \u001b[33m2739\u001b[39m, \u001b[33m2593\u001b[39m, \u001b[33m2670\u001b[39m, \u001b[33m2706\u001b[39m, \u001b[33m1969\u001b[39m, \u001b[33m2378\u001b[39m, \u001b[33m2404\u001b[39m, \u001b[33m2370\u001b[39m,\n",
            "    \u001b[33m2256\u001b[39m, \u001b[33m2354\u001b[39m, \u001b[33m2263\u001b[39m, \u001b[33m2405\u001b[39m, \u001b[33m2372\u001b[39m, \u001b[33m2406\u001b[39m, \u001b[33m2435\u001b[39m, \u001b[33m2440\u001b[39m, \u001b[33m2116\u001b[39m, \u001b[33m2527\u001b[39m,\n",
            "    \u001b[33m2266\u001b[39m, \u001b[33m2714\u001b[39m, \u001b[33m2149\u001b[39m, \u001b[33m2640\u001b[39m, \u001b[33m2516\u001b[39m, \u001b[33m2365\u001b[39m, \u001b[33m2337\u001b[39m, \u001b[33m2550\u001b[39m, \u001b[33m2541\u001b[39m, \u001b[33m2171\u001b[39m,\n",
            "    \u001b[33m2535\u001b[39m, \u001b[33m2684\u001b[39m, \u001b[33m2421\u001b[39m, \u001b[33m2214\u001b[39m, \u001b[33m2202\u001b[39m, \u001b[33m2225\u001b[39m, \u001b[33m2187\u001b[39m, \u001b[33m2253\u001b[39m, \u001b[33m2352\u001b[39m, \u001b[33m2410\u001b[39m,\n",
            "    ... 500 more items\n",
            "  ],\n",
            "  [\n",
            "    \u001b[33m1996\u001b[39m, \u001b[33m2318\u001b[39m, \u001b[33m1900\u001b[39m, \u001b[33m1980\u001b[39m, \u001b[33m2095\u001b[39m, \u001b[33m2124\u001b[39m, \u001b[33m2101\u001b[39m, \u001b[33m1999\u001b[39m, \u001b[33m2038\u001b[39m, \u001b[33m2163\u001b[39m,\n",
            "    \u001b[33m2083\u001b[39m, \u001b[33m2133\u001b[39m, \u001b[33m1981\u001b[39m, \u001b[33m2044\u001b[39m, \u001b[33m1864\u001b[39m, \u001b[33m1863\u001b[39m, \u001b[33m1902\u001b[39m, \u001b[33m2391\u001b[39m, \u001b[33m2207\u001b[39m, \u001b[33m1902\u001b[39m,\n",
            "    \u001b[33m2251\u001b[39m, \u001b[33m2310\u001b[39m, \u001b[33m2017\u001b[39m, \u001b[33m2363\u001b[39m, \u001b[33m2182\u001b[39m, \u001b[33m2191\u001b[39m, \u001b[33m2085\u001b[39m, \u001b[33m2006\u001b[39m, \u001b[33m2266\u001b[39m, \u001b[33m2051\u001b[39m,\n",
            "    \u001b[33m2022\u001b[39m, \u001b[33m2150\u001b[39m, \u001b[33m2041\u001b[39m, \u001b[33m2282\u001b[39m, \u001b[33m2139\u001b[39m, \u001b[33m2138\u001b[39m, \u001b[33m1938\u001b[39m, \u001b[33m1942\u001b[39m, \u001b[33m2142\u001b[39m, \u001b[33m1941\u001b[39m,\n",
            "    \u001b[33m1919\u001b[39m, \u001b[33m2355\u001b[39m, \u001b[33m2221\u001b[39m, \u001b[33m2272\u001b[39m, \u001b[33m2135\u001b[39m, \u001b[33m1981\u001b[39m, \u001b[33m2079\u001b[39m, \u001b[33m2020\u001b[39m, \u001b[33m2093\u001b[39m, \u001b[33m2035\u001b[39m,\n",
            "    \u001b[33m1965\u001b[39m, \u001b[33m2206\u001b[39m, \u001b[33m2158\u001b[39m, \u001b[33m2415\u001b[39m, \u001b[33m2307\u001b[39m, \u001b[33m1977\u001b[39m, \u001b[33m2190\u001b[39m, \u001b[33m2020\u001b[39m, \u001b[33m1712\u001b[39m, \u001b[33m2225\u001b[39m,\n",
            "    \u001b[33m2043\u001b[39m, \u001b[33m2077\u001b[39m, \u001b[33m2371\u001b[39m, \u001b[33m2558\u001b[39m, \u001b[33m2272\u001b[39m, \u001b[33m2055\u001b[39m, \u001b[33m1728\u001b[39m, \u001b[33m2040\u001b[39m, \u001b[33m1803\u001b[39m, \u001b[33m2170\u001b[39m,\n",
            "    \u001b[33m1996\u001b[39m, \u001b[33m1982\u001b[39m, \u001b[33m1853\u001b[39m, \u001b[33m2086\u001b[39m, \u001b[33m2161\u001b[39m, \u001b[33m2210\u001b[39m, \u001b[33m2190\u001b[39m, \u001b[33m2142\u001b[39m, \u001b[33m1928\u001b[39m, \u001b[33m2148\u001b[39m,\n",
            "    \u001b[33m2039\u001b[39m, \u001b[33m2333\u001b[39m, \u001b[33m2063\u001b[39m, \u001b[33m2509\u001b[39m, \u001b[33m2165\u001b[39m, \u001b[33m2056\u001b[39m, \u001b[33m1954\u001b[39m, \u001b[33m2307\u001b[39m, \u001b[33m2254\u001b[39m, \u001b[33m2100\u001b[39m,\n",
            "    \u001b[33m2277\u001b[39m, \u001b[33m2100\u001b[39m, \u001b[33m2039\u001b[39m, \u001b[33m1718\u001b[39m, \u001b[33m1853\u001b[39m, \u001b[33m2072\u001b[39m, \u001b[33m2014\u001b[39m, \u001b[33m2018\u001b[39m, \u001b[33m2247\u001b[39m, \u001b[33m2058\u001b[39m,\n",
            "    ... 500 more items\n",
            "  ],\n",
            "  [\n",
            "    \u001b[33m2093\u001b[39m, \u001b[33m2307\u001b[39m, \u001b[33m2029\u001b[39m, \u001b[33m1814\u001b[39m, \u001b[33m1801\u001b[39m, \u001b[33m2228\u001b[39m, \u001b[33m2022\u001b[39m, \u001b[33m2024\u001b[39m, \u001b[33m2042\u001b[39m, \u001b[33m1881\u001b[39m,\n",
            "    \u001b[33m1857\u001b[39m, \u001b[33m2096\u001b[39m, \u001b[33m2001\u001b[39m, \u001b[33m1939\u001b[39m, \u001b[33m1992\u001b[39m, \u001b[33m1696\u001b[39m, \u001b[33m1908\u001b[39m, \u001b[33m2181\u001b[39m, \u001b[33m2008\u001b[39m, \u001b[33m1938\u001b[39m,\n",
            "    \u001b[33m2155\u001b[39m, \u001b[33m2292\u001b[39m, \u001b[33m1973\u001b[39m, \u001b[33m2234\u001b[39m, \u001b[33m2158\u001b[39m, \u001b[33m2172\u001b[39m, \u001b[33m1978\u001b[39m, \u001b[33m1920\u001b[39m, \u001b[33m2014\u001b[39m, \u001b[33m2084\u001b[39m,\n",
            "    \u001b[33m2006\u001b[39m, \u001b[33m1919\u001b[39m, \u001b[33m1927\u001b[39m, \u001b[33m2182\u001b[39m, \u001b[33m2013\u001b[39m, \u001b[33m2092\u001b[39m, \u001b[33m1991\u001b[39m, \u001b[33m1843\u001b[39m, \u001b[33m2089\u001b[39m, \u001b[33m2134\u001b[39m,\n",
            "    \u001b[33m2016\u001b[39m, \u001b[33m2536\u001b[39m, \u001b[33m2265\u001b[39m, \u001b[33m2258\u001b[39m, \u001b[33m2098\u001b[39m, \u001b[33m1904\u001b[39m, \u001b[33m1979\u001b[39m, \u001b[33m2013\u001b[39m, \u001b[33m2134\u001b[39m, \u001b[33m1911\u001b[39m,\n",
            "    \u001b[33m2135\u001b[39m, \u001b[33m1942\u001b[39m, \u001b[33m2202\u001b[39m, \u001b[33m2542\u001b[39m, \u001b[33m2238\u001b[39m, \u001b[33m1948\u001b[39m, \u001b[33m2147\u001b[39m, \u001b[33m2131\u001b[39m, \u001b[33m1767\u001b[39m, \u001b[33m2195\u001b[39m,\n",
            "    \u001b[33m2030\u001b[39m, \u001b[33m2005\u001b[39m, \u001b[33m2429\u001b[39m, \u001b[33m2325\u001b[39m, \u001b[33m2153\u001b[39m, \u001b[33m2314\u001b[39m, \u001b[33m1627\u001b[39m, \u001b[33m2050\u001b[39m, \u001b[33m1942\u001b[39m, \u001b[33m2022\u001b[39m,\n",
            "    \u001b[33m2012\u001b[39m, \u001b[33m2048\u001b[39m, \u001b[33m1891\u001b[39m, \u001b[33m2177\u001b[39m, \u001b[33m2069\u001b[39m, \u001b[33m2149\u001b[39m, \u001b[33m2217\u001b[39m, \u001b[33m1924\u001b[39m, \u001b[33m1887\u001b[39m, \u001b[33m2184\u001b[39m,\n",
            "    \u001b[33m2004\u001b[39m, \u001b[33m2136\u001b[39m, \u001b[33m1758\u001b[39m, \u001b[33m2506\u001b[39m, \u001b[33m1889\u001b[39m, \u001b[33m2090\u001b[39m, \u001b[33m1993\u001b[39m, \u001b[33m2426\u001b[39m, \u001b[33m2224\u001b[39m, \u001b[33m2028\u001b[39m,\n",
            "    \u001b[33m2186\u001b[39m, \u001b[33m2460\u001b[39m, \u001b[33m2002\u001b[39m, \u001b[33m1913\u001b[39m, \u001b[33m1765\u001b[39m, \u001b[33m2014\u001b[39m, \u001b[33m1774\u001b[39m, \u001b[33m2027\u001b[39m, \u001b[33m2035\u001b[39m, \u001b[33m1919\u001b[39m,\n",
            "    ... 500 more items\n",
            "  ],\n",
            "  [\n",
            "    \u001b[33m2008\u001b[39m, \u001b[33m2025\u001b[39m, \u001b[33m2009\u001b[39m, \u001b[33m1886\u001b[39m, \u001b[33m1821\u001b[39m, \u001b[33m2178\u001b[39m, \u001b[33m1864\u001b[39m, \u001b[33m1769\u001b[39m, \u001b[33m1955\u001b[39m, \u001b[33m1725\u001b[39m,\n",
            "    \u001b[33m1966\u001b[39m, \u001b[33m1813\u001b[39m, \u001b[33m2030\u001b[39m, \u001b[33m1995\u001b[39m, \u001b[33m2021\u001b[39m, \u001b[33m1727\u001b[39m, \u001b[33m1688\u001b[39m, \u001b[33m2112\u001b[39m, \u001b[33m1853\u001b[39m, \u001b[33m1775\u001b[39m,\n",
            "    \u001b[33m1855\u001b[39m, \u001b[33m2070\u001b[39m, \u001b[33m1738\u001b[39m, \u001b[33m2164\u001b[39m, \u001b[33m1930\u001b[39m, \u001b[33m2022\u001b[39m, \u001b[33m1940\u001b[39m, \u001b[33m1738\u001b[39m, \u001b[33m2115\u001b[39m, \u001b[33m1828\u001b[39m,\n",
            "    \u001b[33m1973\u001b[39m, \u001b[33m1945\u001b[39m, \u001b[33m1884\u001b[39m, \u001b[33m2064\u001b[39m, \u001b[33m1952\u001b[39m, \u001b[33m1946\u001b[39m, \u001b[33m1588\u001b[39m, \u001b[33m2015\u001b[39m, \u001b[33m1975\u001b[39m, \u001b[33m1923\u001b[39m,\n",
            "    \u001b[33m1830\u001b[39m, \u001b[33m2199\u001b[39m, \u001b[33m2232\u001b[39m, \u001b[33m2229\u001b[39m, \u001b[33m1976\u001b[39m, \u001b[33m1833\u001b[39m, \u001b[33m1979\u001b[39m, \u001b[33m1905\u001b[39m, \u001b[33m1952\u001b[39m, \u001b[33m2018\u001b[39m,\n",
            "    \u001b[33m2065\u001b[39m, \u001b[33m1929\u001b[39m, \u001b[33m2249\u001b[39m, \u001b[33m2467\u001b[39m, \u001b[33m2123\u001b[39m, \u001b[33m1946\u001b[39m, \u001b[33m2083\u001b[39m, \u001b[33m2019\u001b[39m, \u001b[33m1905\u001b[39m, \u001b[33m2096\u001b[39m,\n",
            "    \u001b[33m1936\u001b[39m, \u001b[33m2037\u001b[39m, \u001b[33m2292\u001b[39m, \u001b[33m2098\u001b[39m, \u001b[33m2252\u001b[39m, \u001b[33m2112\u001b[39m, \u001b[33m1647\u001b[39m, \u001b[33m1924\u001b[39m, \u001b[33m1928\u001b[39m, \u001b[33m1852\u001b[39m,\n",
            "    \u001b[33m1978\u001b[39m, \u001b[33m1952\u001b[39m, \u001b[33m1779\u001b[39m, \u001b[33m2077\u001b[39m, \u001b[33m2004\u001b[39m, \u001b[33m2087\u001b[39m, \u001b[33m1980\u001b[39m, \u001b[33m1954\u001b[39m, \u001b[33m2010\u001b[39m, \u001b[33m1978\u001b[39m,\n",
            "    \u001b[33m1792\u001b[39m, \u001b[33m2118\u001b[39m, \u001b[33m1830\u001b[39m, \u001b[33m2162\u001b[39m, \u001b[33m1855\u001b[39m, \u001b[33m1966\u001b[39m, \u001b[33m2013\u001b[39m, \u001b[33m2129\u001b[39m, \u001b[33m2221\u001b[39m, \u001b[33m2085\u001b[39m,\n",
            "    \u001b[33m2176\u001b[39m, \u001b[33m2101\u001b[39m, \u001b[33m2033\u001b[39m, \u001b[33m1741\u001b[39m, \u001b[33m1785\u001b[39m, \u001b[33m1967\u001b[39m, \u001b[33m1839\u001b[39m, \u001b[33m1844\u001b[39m, \u001b[33m2014\u001b[39m, \u001b[33m2069\u001b[39m,\n",
            "    ... 500 more items\n",
            "  ],\n",
            "  [\n",
            "    \u001b[33m2102\u001b[39m, \u001b[33m2343\u001b[39m, \u001b[33m2049\u001b[39m, \u001b[33m2163\u001b[39m, \u001b[33m2061\u001b[39m, \u001b[33m2271\u001b[39m, \u001b[33m2237\u001b[39m, \u001b[33m2139\u001b[39m, \u001b[33m2226\u001b[39m, \u001b[33m2001\u001b[39m,\n",
            "    \u001b[33m1882\u001b[39m, \u001b[33m2177\u001b[39m, \u001b[33m2147\u001b[39m, \u001b[33m2143\u001b[39m, \u001b[33m1991\u001b[39m, \u001b[33m1979\u001b[39m, \u001b[33m1822\u001b[39m, \u001b[33m2283\u001b[39m, \u001b[33m2232\u001b[39m, \u001b[33m1975\u001b[39m,\n",
            "    \u001b[33m2272\u001b[39m, \u001b[33m2471\u001b[39m, \u001b[33m2112\u001b[39m, \u001b[33m2468\u001b[39m, \u001b[33m2282\u001b[39m, \u001b[33m2231\u001b[39m, \u001b[33m2170\u001b[39m, \u001b[33m2130\u001b[39m, \u001b[33m2194\u001b[39m, \u001b[33m2028\u001b[39m,\n",
            "    \u001b[33m2178\u001b[39m, \u001b[33m2061\u001b[39m, \u001b[33m2173\u001b[39m, \u001b[33m2294\u001b[39m, \u001b[33m2204\u001b[39m, \u001b[33m2171\u001b[39m, \u001b[33m1982\u001b[39m, \u001b[33m2089\u001b[39m, \u001b[33m2149\u001b[39m, \u001b[33m2299\u001b[39m,\n",
            "    \u001b[33m2233\u001b[39m, \u001b[33m2367\u001b[39m, \u001b[33m2257\u001b[39m, \u001b[33m2532\u001b[39m, \u001b[33m2306\u001b[39m, \u001b[33m2275\u001b[39m, \u001b[33m2148\u001b[39m, \u001b[33m1969\u001b[39m, \u001b[33m2171\u001b[39m, \u001b[33m2268\u001b[39m,\n",
            "    \u001b[33m2169\u001b[39m, \u001b[33m2139\u001b[39m, \u001b[33m2426\u001b[39m, \u001b[33m2560\u001b[39m, \u001b[33m2566\u001b[39m, \u001b[33m1989\u001b[39m, \u001b[33m2285\u001b[39m, \u001b[33m2196\u001b[39m, \u001b[33m1875\u001b[39m, \u001b[33m2427\u001b[39m,\n",
            "    \u001b[33m2167\u001b[39m, \u001b[33m2135\u001b[39m, \u001b[33m2563\u001b[39m, \u001b[33m2568\u001b[39m, \u001b[33m2301\u001b[39m, \u001b[33m2223\u001b[39m, \u001b[33m1899\u001b[39m, \u001b[33m2089\u001b[39m, \u001b[33m2024\u001b[39m, \u001b[33m2127\u001b[39m,\n",
            "    \u001b[33m2202\u001b[39m, \u001b[33m2162\u001b[39m, \u001b[33m2029\u001b[39m, \u001b[33m2145\u001b[39m, \u001b[33m2251\u001b[39m, \u001b[33m2269\u001b[39m, \u001b[33m2274\u001b[39m, \u001b[33m2336\u001b[39m, \u001b[33m2016\u001b[39m, \u001b[33m2260\u001b[39m,\n",
            "    \u001b[33m2080\u001b[39m, \u001b[33m2561\u001b[39m, \u001b[33m1978\u001b[39m, \u001b[33m2485\u001b[39m, \u001b[33m2219\u001b[39m, \u001b[33m2303\u001b[39m, \u001b[33m2195\u001b[39m, \u001b[33m2455\u001b[39m, \u001b[33m2356\u001b[39m, \u001b[33m2142\u001b[39m,\n",
            "    \u001b[33m2375\u001b[39m, \u001b[33m2201\u001b[39m, \u001b[33m2067\u001b[39m, \u001b[33m1972\u001b[39m, \u001b[33m1831\u001b[39m, \u001b[33m2118\u001b[39m, \u001b[33m1914\u001b[39m, \u001b[33m2220\u001b[39m, \u001b[33m2248\u001b[39m, \u001b[33m2158\u001b[39m,\n",
            "    ... 500 more items\n",
            "  ],\n",
            "  [\n",
            "    \u001b[33m1785\u001b[39m, \u001b[33m2020\u001b[39m, \u001b[33m1824\u001b[39m, \u001b[33m1880\u001b[39m, \u001b[33m1764\u001b[39m, \u001b[33m2083\u001b[39m, \u001b[33m1697\u001b[39m, \u001b[33m1772\u001b[39m, \u001b[33m1927\u001b[39m, \u001b[33m1734\u001b[39m,\n",
            "    \u001b[33m1778\u001b[39m, \u001b[33m1870\u001b[39m, \u001b[33m1753\u001b[39m, \u001b[33m1948\u001b[39m, \u001b[33m1780\u001b[39m, \u001b[33m1478\u001b[39m, \u001b[33m1598\u001b[39m, \u001b[33m2031\u001b[39m, \u001b[33m1752\u001b[39m, \u001b[33m2078\u001b[39m,\n",
            "    \u001b[33m1899\u001b[39m, \u001b[33m1968\u001b[39m, \u001b[33m1951\u001b[39m, \u001b[33m1981\u001b[39m, \u001b[33m1805\u001b[39m, \u001b[33m1700\u001b[39m, \u001b[33m1781\u001b[39m, \u001b[33m1827\u001b[39m, \u001b[33m1914\u001b[39m, \u001b[33m1651\u001b[39m,\n",
            "    \u001b[33m1785\u001b[39m, \u001b[33m1795\u001b[39m, \u001b[33m1760\u001b[39m, \u001b[33m1901\u001b[39m, \u001b[33m1835\u001b[39m, \u001b[33m1983\u001b[39m, \u001b[33m1796\u001b[39m, \u001b[33m1662\u001b[39m, \u001b[33m1881\u001b[39m, \u001b[33m1832\u001b[39m,\n",
            "    \u001b[33m1797\u001b[39m, \u001b[33m1882\u001b[39m, \u001b[33m1814\u001b[39m, \u001b[33m2004\u001b[39m, \u001b[33m1963\u001b[39m, \u001b[33m1817\u001b[39m, \u001b[33m1738\u001b[39m, \u001b[33m1884\u001b[39m, \u001b[33m1890\u001b[39m, \u001b[33m2037\u001b[39m,\n",
            "    \u001b[33m1839\u001b[39m, \u001b[33m1864\u001b[39m, \u001b[33m1985\u001b[39m, \u001b[33m2126\u001b[39m, \u001b[33m2008\u001b[39m, \u001b[33m1699\u001b[39m, \u001b[33m2195\u001b[39m, \u001b[33m1861\u001b[39m, \u001b[33m1796\u001b[39m, \u001b[33m1968\u001b[39m,\n",
            "    \u001b[33m2017\u001b[39m, \u001b[33m1881\u001b[39m, \u001b[33m2167\u001b[39m, \u001b[33m2127\u001b[39m, \u001b[33m2123\u001b[39m, \u001b[33m2010\u001b[39m, \u001b[33m1597\u001b[39m, \u001b[33m1720\u001b[39m, \u001b[33m1864\u001b[39m, \u001b[33m1822\u001b[39m,\n",
            "    \u001b[33m1699\u001b[39m, \u001b[33m1838\u001b[39m, \u001b[33m1657\u001b[39m, \u001b[33m2017\u001b[39m, \u001b[33m1938\u001b[39m, \u001b[33m1818\u001b[39m, \u001b[33m2116\u001b[39m, \u001b[33m1772\u001b[39m, \u001b[33m1656\u001b[39m, \u001b[33m2054\u001b[39m,\n",
            "    \u001b[33m1931\u001b[39m, \u001b[33m2062\u001b[39m, \u001b[33m1623\u001b[39m, \u001b[33m2177\u001b[39m, \u001b[33m2006\u001b[39m, \u001b[33m1889\u001b[39m, \u001b[33m1788\u001b[39m, \u001b[33m1995\u001b[39m, \u001b[33m2017\u001b[39m, \u001b[33m1822\u001b[39m,\n",
            "    \u001b[33m1919\u001b[39m, \u001b[33m1941\u001b[39m, \u001b[33m1750\u001b[39m, \u001b[33m1671\u001b[39m, \u001b[33m1562\u001b[39m, \u001b[33m1624\u001b[39m, \u001b[33m1725\u001b[39m, \u001b[33m1868\u001b[39m, \u001b[33m2063\u001b[39m, \u001b[33m1998\u001b[39m,\n",
            "    ... 500 more items\n",
            "  ],\n",
            "  [\n",
            "    \u001b[33m2240\u001b[39m, \u001b[33m2268\u001b[39m, \u001b[33m1966\u001b[39m, \u001b[33m2141\u001b[39m, \u001b[33m2006\u001b[39m, \u001b[33m2199\u001b[39m, \u001b[33m2073\u001b[39m, \u001b[33m1990\u001b[39m, \u001b[33m2148\u001b[39m, \u001b[33m2046\u001b[39m,\n",
            "    \u001b[33m2022\u001b[39m, \u001b[33m2278\u001b[39m, \u001b[33m2116\u001b[39m, \u001b[33m2134\u001b[39m, \u001b[33m2196\u001b[39m, \u001b[33m1923\u001b[39m, \u001b[33m1745\u001b[39m, \u001b[33m2303\u001b[39m, \u001b[33m2146\u001b[39m, \u001b[33m2080\u001b[39m,\n",
            "    \u001b[33m2319\u001b[39m, \u001b[33m2234\u001b[39m, \u001b[33m2236\u001b[39m, \u001b[33m2384\u001b[39m, \u001b[33m2349\u001b[39m, \u001b[33m2107\u001b[39m, \u001b[33m2091\u001b[39m, \u001b[33m2023\u001b[39m, \u001b[33m2249\u001b[39m, \u001b[33m2122\u001b[39m,\n",
            "    \u001b[33m2182\u001b[39m, \u001b[33m2139\u001b[39m, \u001b[33m2023\u001b[39m, \u001b[33m2182\u001b[39m, \u001b[33m2131\u001b[39m, \u001b[33m2160\u001b[39m, \u001b[33m2143\u001b[39m, \u001b[33m1971\u001b[39m, \u001b[33m2058\u001b[39m, \u001b[33m2158\u001b[39m,\n",
            "    \u001b[33m2066\u001b[39m, \u001b[33m2333\u001b[39m, \u001b[33m2088\u001b[39m, \u001b[33m2337\u001b[39m, \u001b[33m2463\u001b[39m, \u001b[33m2074\u001b[39m, \u001b[33m2020\u001b[39m, \u001b[33m2119\u001b[39m, \u001b[33m2211\u001b[39m, \u001b[33m2274\u001b[39m,\n",
            "    \u001b[33m1874\u001b[39m, \u001b[33m2088\u001b[39m, \u001b[33m2408\u001b[39m, \u001b[33m2395\u001b[39m, \u001b[33m2387\u001b[39m, \u001b[33m1959\u001b[39m, \u001b[33m2320\u001b[39m, \u001b[33m2300\u001b[39m, \u001b[33m1863\u001b[39m, \u001b[33m2267\u001b[39m,\n",
            "    \u001b[33m2136\u001b[39m, \u001b[33m2211\u001b[39m, \u001b[33m2595\u001b[39m, \u001b[33m2412\u001b[39m, \u001b[33m2139\u001b[39m, \u001b[33m2227\u001b[39m, \u001b[33m1923\u001b[39m, \u001b[33m2015\u001b[39m, \u001b[33m2025\u001b[39m, \u001b[33m2185\u001b[39m,\n",
            "    \u001b[33m1993\u001b[39m, \u001b[33m2035\u001b[39m, \u001b[33m2085\u001b[39m, \u001b[33m2050\u001b[39m, \u001b[33m2279\u001b[39m, \u001b[33m2190\u001b[39m, \u001b[33m2442\u001b[39m, \u001b[33m1938\u001b[39m, \u001b[33m1936\u001b[39m, \u001b[33m2115\u001b[39m,\n",
            "    \u001b[33m2191\u001b[39m, \u001b[33m2216\u001b[39m, \u001b[33m1810\u001b[39m, \u001b[33m2593\u001b[39m, \u001b[33m2280\u001b[39m, \u001b[33m2134\u001b[39m, \u001b[33m1841\u001b[39m, \u001b[33m2316\u001b[39m, \u001b[33m2389\u001b[39m, \u001b[33m2094\u001b[39m,\n",
            "    \u001b[33m2237\u001b[39m, \u001b[33m2282\u001b[39m, \u001b[33m2141\u001b[39m, \u001b[33m1847\u001b[39m, \u001b[33m1920\u001b[39m, \u001b[33m2022\u001b[39m, \u001b[33m2034\u001b[39m, \u001b[33m2113\u001b[39m, \u001b[33m2215\u001b[39m, \u001b[33m2253\u001b[39m,\n",
            "    ... 500 more items\n",
            "  ],\n",
            "  [\n",
            "    \u001b[33m2166\u001b[39m, \u001b[33m2233\u001b[39m, \u001b[33m1950\u001b[39m, \u001b[33m2022\u001b[39m, \u001b[33m2085\u001b[39m, \u001b[33m2275\u001b[39m, \u001b[33m2156\u001b[39m, \u001b[33m2085\u001b[39m, \u001b[33m2121\u001b[39m, \u001b[33m1980\u001b[39m,\n",
            "    \u001b[33m1944\u001b[39m, \u001b[33m2062\u001b[39m, \u001b[33m2193\u001b[39m, \u001b[33m2158\u001b[39m, \u001b[33m2083\u001b[39m, \u001b[33m2014\u001b[39m, \u001b[33m1764\u001b[39m, \u001b[33m2293\u001b[39m, \u001b[33m2076\u001b[39m, \u001b[33m1823\u001b[39m,\n",
            "    \u001b[33m2108\u001b[39m, \u001b[33m2315\u001b[39m, \u001b[33m1987\u001b[39m, \u001b[33m2462\u001b[39m, \u001b[33m2170\u001b[39m, \u001b[33m2176\u001b[39m, \u001b[33m2127\u001b[39m, \u001b[33m2005\u001b[39m, \u001b[33m2205\u001b[39m, \u001b[33m2180\u001b[39m,\n",
            "    \u001b[33m1967\u001b[39m, \u001b[33m2213\u001b[39m, \u001b[33m1966\u001b[39m, \u001b[33m2238\u001b[39m, \u001b[33m2269\u001b[39m, \u001b[33m2169\u001b[39m, \u001b[33m1881\u001b[39m, \u001b[33m2052\u001b[39m, \u001b[33m2153\u001b[39m, \u001b[33m2057\u001b[39m,\n",
            "    \u001b[33m2075\u001b[39m, \u001b[33m2458\u001b[39m, \u001b[33m2238\u001b[39m, \u001b[33m2508\u001b[39m, \u001b[33m2287\u001b[39m, \u001b[33m2175\u001b[39m, \u001b[33m2028\u001b[39m, \u001b[33m2141\u001b[39m, \u001b[33m2189\u001b[39m, \u001b[33m2079\u001b[39m,\n",
            "    \u001b[33m2067\u001b[39m, \u001b[33m2245\u001b[39m, \u001b[33m2372\u001b[39m, \u001b[33m2462\u001b[39m, \u001b[33m2427\u001b[39m, \u001b[33m2135\u001b[39m, \u001b[33m2333\u001b[39m, \u001b[33m2224\u001b[39m, \u001b[33m1900\u001b[39m, \u001b[33m2298\u001b[39m,\n",
            "    \u001b[33m2125\u001b[39m, \u001b[33m2095\u001b[39m, \u001b[33m2461\u001b[39m, \u001b[33m2377\u001b[39m, \u001b[33m2476\u001b[39m, \u001b[33m2074\u001b[39m, \u001b[33m1907\u001b[39m, \u001b[33m1989\u001b[39m, \u001b[33m2165\u001b[39m, \u001b[33m2216\u001b[39m,\n",
            "    \u001b[33m1991\u001b[39m, \u001b[33m2134\u001b[39m, \u001b[33m1972\u001b[39m, \u001b[33m2073\u001b[39m, \u001b[33m2222\u001b[39m, \u001b[33m2345\u001b[39m, \u001b[33m2364\u001b[39m, \u001b[33m2199\u001b[39m, \u001b[33m1895\u001b[39m, \u001b[33m2056\u001b[39m,\n",
            "    \u001b[33m2041\u001b[39m, \u001b[33m2442\u001b[39m, \u001b[33m1906\u001b[39m, \u001b[33m2362\u001b[39m, \u001b[33m2040\u001b[39m, \u001b[33m2186\u001b[39m, \u001b[33m1900\u001b[39m, \u001b[33m2235\u001b[39m, \u001b[33m2324\u001b[39m, \u001b[33m2004\u001b[39m,\n",
            "    \u001b[33m2173\u001b[39m, \u001b[33m2111\u001b[39m, \u001b[33m2210\u001b[39m, \u001b[33m1905\u001b[39m, \u001b[33m1865\u001b[39m, \u001b[33m1828\u001b[39m, \u001b[33m1978\u001b[39m, \u001b[33m2128\u001b[39m, \u001b[33m2283\u001b[39m, \u001b[33m2125\u001b[39m,\n",
            "    ... 500 more items\n",
            "  ],\n",
            "  [\n",
            "    \u001b[33m2272\u001b[39m, \u001b[33m2315\u001b[39m, \u001b[33m2239\u001b[39m, \u001b[33m2147\u001b[39m, \u001b[33m2199\u001b[39m, \u001b[33m2334\u001b[39m, \u001b[33m2186\u001b[39m, \u001b[33m2175\u001b[39m, \u001b[33m2211\u001b[39m, \u001b[33m2204\u001b[39m,\n",
            "    \u001b[33m2129\u001b[39m, \u001b[33m2165\u001b[39m, \u001b[33m2226\u001b[39m, \u001b[33m2088\u001b[39m, \u001b[33m2198\u001b[39m, \u001b[33m2085\u001b[39m, \u001b[33m1903\u001b[39m, \u001b[33m2498\u001b[39m, \u001b[33m2113\u001b[39m, \u001b[33m2159\u001b[39m,\n",
            "    \u001b[33m2308\u001b[39m, \u001b[33m2440\u001b[39m, \u001b[33m2256\u001b[39m, \u001b[33m2578\u001b[39m, \u001b[33m2386\u001b[39m, \u001b[33m2409\u001b[39m, \u001b[33m2133\u001b[39m, \u001b[33m2052\u001b[39m, \u001b[33m2502\u001b[39m, \u001b[33m2078\u001b[39m,\n",
            "    \u001b[33m2115\u001b[39m, \u001b[33m2189\u001b[39m, \u001b[33m2084\u001b[39m, \u001b[33m2409\u001b[39m, \u001b[33m2130\u001b[39m, \u001b[33m2156\u001b[39m, \u001b[33m1954\u001b[39m, \u001b[33m2202\u001b[39m, \u001b[33m2405\u001b[39m, \u001b[33m2112\u001b[39m,\n",
            "    \u001b[33m2175\u001b[39m, \u001b[33m2530\u001b[39m, \u001b[33m2328\u001b[39m, \u001b[33m2502\u001b[39m, \u001b[33m2447\u001b[39m, \u001b[33m2192\u001b[39m, \u001b[33m2387\u001b[39m, \u001b[33m2129\u001b[39m, \u001b[33m2193\u001b[39m, \u001b[33m2403\u001b[39m,\n",
            "    \u001b[33m2202\u001b[39m, \u001b[33m2257\u001b[39m, \u001b[33m2461\u001b[39m, \u001b[33m2565\u001b[39m, \u001b[33m2443\u001b[39m, \u001b[33m2140\u001b[39m, \u001b[33m2447\u001b[39m, \u001b[33m2222\u001b[39m, \u001b[33m1952\u001b[39m, \u001b[33m2477\u001b[39m,\n",
            "    \u001b[33m2155\u001b[39m, \u001b[33m2327\u001b[39m, \u001b[33m2599\u001b[39m, \u001b[33m2480\u001b[39m, \u001b[33m2402\u001b[39m, \u001b[33m2374\u001b[39m, \u001b[33m1887\u001b[39m, \u001b[33m2265\u001b[39m, \u001b[33m1989\u001b[39m, \u001b[33m2159\u001b[39m,\n",
            "    \u001b[33m2090\u001b[39m, \u001b[33m2272\u001b[39m, \u001b[33m2115\u001b[39m, \u001b[33m2277\u001b[39m, \u001b[33m2397\u001b[39m, \u001b[33m2278\u001b[39m, \u001b[33m2341\u001b[39m, \u001b[33m2162\u001b[39m, \u001b[33m1983\u001b[39m, \u001b[33m2212\u001b[39m,\n",
            "    \u001b[33m2109\u001b[39m, \u001b[33m2501\u001b[39m, \u001b[33m2128\u001b[39m, \u001b[33m2654\u001b[39m, \u001b[33m2243\u001b[39m, \u001b[33m2251\u001b[39m, \u001b[33m2055\u001b[39m, \u001b[33m2612\u001b[39m, \u001b[33m2554\u001b[39m, \u001b[33m2204\u001b[39m,\n",
            "    \u001b[33m2478\u001b[39m, \u001b[33m2188\u001b[39m, \u001b[33m2179\u001b[39m, \u001b[33m1893\u001b[39m, \u001b[33m1914\u001b[39m, \u001b[33m2136\u001b[39m, \u001b[33m1931\u001b[39m, \u001b[33m2170\u001b[39m, \u001b[33m2361\u001b[39m, \u001b[33m2282\u001b[39m,\n",
            "    ... 500 more items\n",
            "  ],\n",
            "  [\n",
            "    \u001b[33m2062\u001b[39m, \u001b[33m1992\u001b[39m, \u001b[33m1827\u001b[39m, \u001b[33m1724\u001b[39m, \u001b[33m1932\u001b[39m, \u001b[33m2263\u001b[39m, \u001b[33m2034\u001b[39m, \u001b[33m1982\u001b[39m, \u001b[33m2014\u001b[39m, \u001b[33m2028\u001b[39m,\n",
            "    \u001b[33m1894\u001b[39m, \u001b[33m1980\u001b[39m, \u001b[33m1987\u001b[39m, \u001b[33m1872\u001b[39m, \u001b[33m2038\u001b[39m, \u001b[33m1838\u001b[39m, \u001b[33m1835\u001b[39m, \u001b[33m2174\u001b[39m, \u001b[33m2030\u001b[39m, \u001b[33m1865\u001b[39m,\n",
            "    \u001b[33m2237\u001b[39m, \u001b[33m2217\u001b[39m, \u001b[33m1875\u001b[39m, \u001b[33m2227\u001b[39m, \u001b[33m2032\u001b[39m, \u001b[33m2046\u001b[39m, \u001b[33m2017\u001b[39m, \u001b[33m1857\u001b[39m, \u001b[33m2173\u001b[39m, \u001b[33m2066\u001b[39m,\n",
            "    \u001b[33m1899\u001b[39m, \u001b[33m1906\u001b[39m, \u001b[33m2025\u001b[39m, \u001b[33m2134\u001b[39m, \u001b[33m1984\u001b[39m, \u001b[33m2023\u001b[39m, \u001b[33m1848\u001b[39m, \u001b[33m2027\u001b[39m, \u001b[33m2038\u001b[39m, \u001b[33m1842\u001b[39m,\n",
            "    \u001b[33m1904\u001b[39m, \u001b[33m2320\u001b[39m, \u001b[33m2212\u001b[39m, \u001b[33m2107\u001b[39m, \u001b[33m2184\u001b[39m, \u001b[33m1975\u001b[39m, \u001b[33m2017\u001b[39m, \u001b[33m2069\u001b[39m, \u001b[33m2073\u001b[39m, \u001b[33m2010\u001b[39m,\n",
            "    \u001b[33m1973\u001b[39m, \u001b[33m2049\u001b[39m, \u001b[33m2058\u001b[39m, \u001b[33m2273\u001b[39m, \u001b[33m2200\u001b[39m, \u001b[33m1844\u001b[39m, \u001b[33m2100\u001b[39m, \u001b[33m2191\u001b[39m, \u001b[33m1687\u001b[39m, \u001b[33m2133\u001b[39m,\n",
            "    \u001b[33m2029\u001b[39m, \u001b[33m1999\u001b[39m, \u001b[33m2342\u001b[39m, \u001b[33m2314\u001b[39m, \u001b[33m2195\u001b[39m, \u001b[33m2119\u001b[39m, \u001b[33m1648\u001b[39m, \u001b[33m2030\u001b[39m, \u001b[33m1949\u001b[39m, \u001b[33m2005\u001b[39m,\n",
            "    \u001b[33m2044\u001b[39m, \u001b[33m1925\u001b[39m, \u001b[33m2000\u001b[39m, \u001b[33m1979\u001b[39m, \u001b[33m1958\u001b[39m, \u001b[33m2011\u001b[39m, \u001b[33m2049\u001b[39m, \u001b[33m1992\u001b[39m, \u001b[33m1759\u001b[39m, \u001b[33m2021\u001b[39m,\n",
            "    \u001b[33m1879\u001b[39m, \u001b[33m2187\u001b[39m, \u001b[33m1962\u001b[39m, \u001b[33m2338\u001b[39m, \u001b[33m2071\u001b[39m, \u001b[33m2121\u001b[39m, \u001b[33m1928\u001b[39m, \u001b[33m2174\u001b[39m, \u001b[33m2222\u001b[39m, \u001b[33m1795\u001b[39m,\n",
            "    \u001b[33m2010\u001b[39m, \u001b[33m1950\u001b[39m, \u001b[33m1795\u001b[39m, \u001b[33m1812\u001b[39m, \u001b[33m1708\u001b[39m, \u001b[33m1841\u001b[39m, \u001b[33m1860\u001b[39m, \u001b[33m2013\u001b[39m, \u001b[33m2082\u001b[39m, \u001b[33m1979\u001b[39m,\n",
            "    ... 500 more items\n",
            "  ],\n",
            "  [\n",
            "    \u001b[33m2183\u001b[39m, \u001b[33m2298\u001b[39m, \u001b[33m2058\u001b[39m, \u001b[33m2024\u001b[39m, \u001b[33m2048\u001b[39m, \u001b[33m2145\u001b[39m, \u001b[33m2088\u001b[39m, \u001b[33m2026\u001b[39m, \u001b[33m2152\u001b[39m, \u001b[33m2093\u001b[39m,\n",
            "    \u001b[33m2083\u001b[39m, \u001b[33m2111\u001b[39m, \u001b[33m2147\u001b[39m, \u001b[33m2247\u001b[39m, \u001b[33m2012\u001b[39m, \u001b[33m1923\u001b[39m, \u001b[33m1761\u001b[39m, \u001b[33m2231\u001b[39m, \u001b[33m2129\u001b[39m, \u001b[33m2099\u001b[39m,\n",
            "    \u001b[33m2227\u001b[39m, \u001b[33m2469\u001b[39m, \u001b[33m2028\u001b[39m, \u001b[33m2543\u001b[39m, \u001b[33m2388\u001b[39m, \u001b[33m2208\u001b[39m, \u001b[33m2268\u001b[39m, \u001b[33m2243\u001b[39m, \u001b[33m2305\u001b[39m, \u001b[33m2030\u001b[39m,\n",
            "    \u001b[33m2267\u001b[39m, \u001b[33m1946\u001b[39m, \u001b[33m2171\u001b[39m, \u001b[33m2142\u001b[39m, \u001b[33m2023\u001b[39m, \u001b[33m2383\u001b[39m, \u001b[33m1924\u001b[39m, \u001b[33m2001\u001b[39m, \u001b[33m2142\u001b[39m, \u001b[33m2243\u001b[39m,\n",
            "    \u001b[33m2046\u001b[39m, \u001b[33m2489\u001b[39m, \u001b[33m2174\u001b[39m, \u001b[33m2443\u001b[39m, \u001b[33m2329\u001b[39m, \u001b[33m2168\u001b[39m, \u001b[33m2047\u001b[39m, \u001b[33m2238\u001b[39m, \u001b[33m2230\u001b[39m, \u001b[33m2136\u001b[39m,\n",
            "    \u001b[33m1899\u001b[39m, \u001b[33m2131\u001b[39m, \u001b[33m2382\u001b[39m, \u001b[33m2542\u001b[39m, \u001b[33m2361\u001b[39m, \u001b[33m2047\u001b[39m, \u001b[33m2395\u001b[39m, \u001b[33m2183\u001b[39m, \u001b[33m1971\u001b[39m, \u001b[33m2463\u001b[39m,\n",
            "    \u001b[33m2206\u001b[39m, \u001b[33m2036\u001b[39m, \u001b[33m2524\u001b[39m, \u001b[33m2373\u001b[39m, \u001b[33m2315\u001b[39m, \u001b[33m2214\u001b[39m, \u001b[33m1971\u001b[39m, \u001b[33m2181\u001b[39m, \u001b[33m2160\u001b[39m, \u001b[33m2139\u001b[39m,\n",
            "    \u001b[33m2082\u001b[39m, \u001b[33m2183\u001b[39m, \u001b[33m1994\u001b[39m, \u001b[33m2088\u001b[39m, \u001b[33m2334\u001b[39m, \u001b[33m2484\u001b[39m, \u001b[33m2226\u001b[39m, \u001b[33m2173\u001b[39m, \u001b[33m1926\u001b[39m, \u001b[33m2335\u001b[39m,\n",
            "    \u001b[33m1974\u001b[39m, \u001b[33m2312\u001b[39m, \u001b[33m1972\u001b[39m, \u001b[33m2316\u001b[39m, \u001b[33m2217\u001b[39m, \u001b[33m2206\u001b[39m, \u001b[33m2139\u001b[39m, \u001b[33m2446\u001b[39m, \u001b[33m2449\u001b[39m, \u001b[33m2200\u001b[39m,\n",
            "    \u001b[33m2317\u001b[39m, \u001b[33m2307\u001b[39m, \u001b[33m2194\u001b[39m, \u001b[33m2141\u001b[39m, \u001b[33m1948\u001b[39m, \u001b[33m2142\u001b[39m, \u001b[33m2102\u001b[39m, \u001b[33m1910\u001b[39m, \u001b[33m2194\u001b[39m, \u001b[33m2113\u001b[39m,\n",
            "    ... 500 more items\n",
            "  ],\n",
            "  [\n",
            "    \u001b[33m2089\u001b[39m, \u001b[33m2369\u001b[39m, \u001b[33m2073\u001b[39m, \u001b[33m1998\u001b[39m, \u001b[33m1954\u001b[39m, \u001b[33m2276\u001b[39m, \u001b[33m2118\u001b[39m, \u001b[33m2077\u001b[39m, \u001b[33m2113\u001b[39m, \u001b[33m2024\u001b[39m,\n",
            "    \u001b[33m1980\u001b[39m, \u001b[33m2168\u001b[39m, \u001b[33m2113\u001b[39m, \u001b[33m1963\u001b[39m, \u001b[33m2167\u001b[39m, \u001b[33m2069\u001b[39m, \u001b[33m1834\u001b[39m, \u001b[33m2250\u001b[39m, \u001b[33m2152\u001b[39m, \u001b[33m2001\u001b[39m,\n",
            "    \u001b[33m2098\u001b[39m, \u001b[33m2229\u001b[39m, \u001b[33m2116\u001b[39m, \u001b[33m2415\u001b[39m, \u001b[33m2381\u001b[39m, \u001b[33m2285\u001b[39m, \u001b[33m2144\u001b[39m, \u001b[33m1889\u001b[39m, \u001b[33m2160\u001b[39m, \u001b[33m2000\u001b[39m,\n",
            "    \u001b[33m2178\u001b[39m, \u001b[33m2004\u001b[39m, \u001b[33m2007\u001b[39m, \u001b[33m2168\u001b[39m, \u001b[33m2051\u001b[39m, \u001b[33m2219\u001b[39m, \u001b[33m2007\u001b[39m, \u001b[33m2003\u001b[39m, \u001b[33m2269\u001b[39m, \u001b[33m2105\u001b[39m,\n",
            "    \u001b[33m2150\u001b[39m, \u001b[33m2281\u001b[39m, \u001b[33m2067\u001b[39m, \u001b[33m2294\u001b[39m, \u001b[33m2327\u001b[39m, \u001b[33m2188\u001b[39m, \u001b[33m2268\u001b[39m, \u001b[33m2211\u001b[39m, \u001b[33m1992\u001b[39m, \u001b[33m2239\u001b[39m,\n",
            "    \u001b[33m1982\u001b[39m, \u001b[33m2243\u001b[39m, \u001b[33m2206\u001b[39m, \u001b[33m2328\u001b[39m, \u001b[33m2267\u001b[39m, \u001b[33m2065\u001b[39m, \u001b[33m2282\u001b[39m, \u001b[33m2215\u001b[39m, \u001b[33m1992\u001b[39m, \u001b[33m2127\u001b[39m,\n",
            "    \u001b[33m2012\u001b[39m, \u001b[33m2163\u001b[39m, \u001b[33m2398\u001b[39m, \u001b[33m2328\u001b[39m, \u001b[33m2319\u001b[39m, \u001b[33m2190\u001b[39m, \u001b[33m1834\u001b[39m, \u001b[33m1992\u001b[39m, \u001b[33m2073\u001b[39m, \u001b[33m2221\u001b[39m,\n",
            "    \u001b[33m1893\u001b[39m, \u001b[33m2107\u001b[39m, \u001b[33m2074\u001b[39m, \u001b[33m2029\u001b[39m, \u001b[33m2159\u001b[39m, \u001b[33m2243\u001b[39m, \u001b[33m2255\u001b[39m, \u001b[33m1946\u001b[39m, \u001b[33m1877\u001b[39m, \u001b[33m2222\u001b[39m,\n",
            "    \u001b[33m2109\u001b[39m, \u001b[33m2235\u001b[39m, \u001b[33m1884\u001b[39m, \u001b[33m2419\u001b[39m, \u001b[33m2283\u001b[39m, \u001b[33m2164\u001b[39m, \u001b[33m2021\u001b[39m, \u001b[33m2243\u001b[39m, \u001b[33m2241\u001b[39m, \u001b[33m2051\u001b[39m,\n",
            "    \u001b[33m2147\u001b[39m, \u001b[33m2139\u001b[39m, \u001b[33m1882\u001b[39m, \u001b[33m1979\u001b[39m, \u001b[33m1728\u001b[39m, \u001b[33m1944\u001b[39m, \u001b[33m1897\u001b[39m, \u001b[33m2046\u001b[39m, \u001b[33m2210\u001b[39m, \u001b[33m2028\u001b[39m,\n",
            "    ... 500 more items\n",
            "  ],\n",
            "  [\n",
            "    \u001b[33m2016\u001b[39m, \u001b[33m2081\u001b[39m, \u001b[33m1866\u001b[39m, \u001b[33m1941\u001b[39m, \u001b[33m1692\u001b[39m, \u001b[33m1780\u001b[39m, \u001b[33m1816\u001b[39m, \u001b[33m1721\u001b[39m, \u001b[33m1798\u001b[39m, \u001b[33m1724\u001b[39m,\n",
            "    \u001b[33m1556\u001b[39m, \u001b[33m1817\u001b[39m, \u001b[33m1788\u001b[39m, \u001b[33m1825\u001b[39m, \u001b[33m1714\u001b[39m, \u001b[33m1561\u001b[39m, \u001b[33m1722\u001b[39m, \u001b[33m1973\u001b[39m, \u001b[33m1852\u001b[39m, \u001b[33m1879\u001b[39m,\n",
            "    \u001b[33m2009\u001b[39m, \u001b[33m2147\u001b[39m, \u001b[33m1948\u001b[39m, \u001b[33m2165\u001b[39m, \u001b[33m2173\u001b[39m, \u001b[33m1746\u001b[39m, \u001b[33m1807\u001b[39m, \u001b[33m2056\u001b[39m, \u001b[33m1849\u001b[39m, \u001b[33m1644\u001b[39m,\n",
            "    \u001b[33m1943\u001b[39m, \u001b[33m1602\u001b[39m, \u001b[33m1739\u001b[39m, \u001b[33m1809\u001b[39m, \u001b[33m1864\u001b[39m, \u001b[33m2060\u001b[39m, \u001b[33m1710\u001b[39m, \u001b[33m1702\u001b[39m, \u001b[33m1747\u001b[39m, \u001b[33m1883\u001b[39m,\n",
            "    \u001b[33m1966\u001b[39m, \u001b[33m2108\u001b[39m, \u001b[33m1769\u001b[39m, \u001b[33m1958\u001b[39m, \u001b[33m1925\u001b[39m, \u001b[33m1777\u001b[39m, \u001b[33m1936\u001b[39m, \u001b[33m1888\u001b[39m, \u001b[33m1749\u001b[39m, \u001b[33m1937\u001b[39m,\n",
            "    \u001b[33m1773\u001b[39m, \u001b[33m1872\u001b[39m, \u001b[33m2080\u001b[39m, \u001b[33m2089\u001b[39m, \u001b[33m1985\u001b[39m, \u001b[33m1822\u001b[39m, \u001b[33m1926\u001b[39m, \u001b[33m1912\u001b[39m, \u001b[33m1703\u001b[39m, \u001b[33m1946\u001b[39m,\n",
            "    \u001b[33m1785\u001b[39m, \u001b[33m2082\u001b[39m, \u001b[33m2129\u001b[39m, \u001b[33m2158\u001b[39m, \u001b[33m1976\u001b[39m, \u001b[33m1968\u001b[39m, \u001b[33m1685\u001b[39m, \u001b[33m1753\u001b[39m, \u001b[33m1796\u001b[39m, \u001b[33m1716\u001b[39m,\n",
            "    \u001b[33m1712\u001b[39m, \u001b[33m1765\u001b[39m, \u001b[33m1741\u001b[39m, \u001b[33m1919\u001b[39m, \u001b[33m1945\u001b[39m, \u001b[33m1943\u001b[39m, \u001b[33m1918\u001b[39m, \u001b[33m1915\u001b[39m, \u001b[33m1617\u001b[39m, \u001b[33m2006\u001b[39m,\n",
            "    \u001b[33m1811\u001b[39m, \u001b[33m2166\u001b[39m, \u001b[33m1592\u001b[39m, \u001b[33m2243\u001b[39m, \u001b[33m1952\u001b[39m, \u001b[33m1960\u001b[39m, \u001b[33m1781\u001b[39m, \u001b[33m2132\u001b[39m, \u001b[33m2058\u001b[39m, \u001b[33m1851\u001b[39m,\n",
            "    \u001b[33m1890\u001b[39m, \u001b[33m2208\u001b[39m, \u001b[33m1838\u001b[39m, \u001b[33m1830\u001b[39m, \u001b[33m1569\u001b[39m, \u001b[33m1719\u001b[39m, \u001b[33m1548\u001b[39m, \u001b[33m1824\u001b[39m, \u001b[33m1964\u001b[39m, \u001b[33m1830\u001b[39m,\n",
            "    ... 500 more items\n",
            "  ],\n",
            "  [\n",
            "    \u001b[33m1991\u001b[39m, \u001b[33m2201\u001b[39m, \u001b[33m1861\u001b[39m, \u001b[33m1876\u001b[39m, \u001b[33m1833\u001b[39m, \u001b[33m2135\u001b[39m, \u001b[33m1946\u001b[39m, \u001b[33m1892\u001b[39m, \u001b[33m2038\u001b[39m, \u001b[33m1934\u001b[39m,\n",
            "    \u001b[33m1761\u001b[39m, \u001b[33m2048\u001b[39m, \u001b[33m1957\u001b[39m, \u001b[33m1994\u001b[39m, \u001b[33m2030\u001b[39m, \u001b[33m1609\u001b[39m, \u001b[33m1769\u001b[39m, \u001b[33m2291\u001b[39m, \u001b[33m1905\u001b[39m, \u001b[33m1853\u001b[39m,\n",
            "    \u001b[33m1958\u001b[39m, \u001b[33m2259\u001b[39m, \u001b[33m2031\u001b[39m, \u001b[33m2312\u001b[39m, \u001b[33m2133\u001b[39m, \u001b[33m2112\u001b[39m, \u001b[33m2127\u001b[39m, \u001b[33m1951\u001b[39m, \u001b[33m2216\u001b[39m, \u001b[33m1970\u001b[39m,\n",
            "    \u001b[33m2059\u001b[39m, \u001b[33m1824\u001b[39m, \u001b[33m1865\u001b[39m, \u001b[33m1984\u001b[39m, \u001b[33m2009\u001b[39m, \u001b[33m2164\u001b[39m, \u001b[33m1827\u001b[39m, \u001b[33m1965\u001b[39m, \u001b[33m2093\u001b[39m, \u001b[33m1859\u001b[39m,\n",
            "    \u001b[33m2043\u001b[39m, \u001b[33m2257\u001b[39m, \u001b[33m2185\u001b[39m, \u001b[33m2338\u001b[39m, \u001b[33m2168\u001b[39m, \u001b[33m2090\u001b[39m, \u001b[33m2009\u001b[39m, \u001b[33m2125\u001b[39m, \u001b[33m1888\u001b[39m, \u001b[33m1936\u001b[39m,\n",
            "    \u001b[33m1900\u001b[39m, \u001b[33m1924\u001b[39m, \u001b[33m2212\u001b[39m, \u001b[33m2415\u001b[39m, \u001b[33m2220\u001b[39m, \u001b[33m1883\u001b[39m, \u001b[33m2094\u001b[39m, \u001b[33m2242\u001b[39m, \u001b[33m1737\u001b[39m, \u001b[33m2070\u001b[39m,\n",
            "    \u001b[33m1834\u001b[39m, \u001b[33m2208\u001b[39m, \u001b[33m2390\u001b[39m, \u001b[33m2280\u001b[39m, \u001b[33m2135\u001b[39m, \u001b[33m2198\u001b[39m, \u001b[33m1760\u001b[39m, \u001b[33m2075\u001b[39m, \u001b[33m2027\u001b[39m, \u001b[33m1882\u001b[39m,\n",
            "    \u001b[33m2132\u001b[39m, \u001b[33m2050\u001b[39m, \u001b[33m1919\u001b[39m, \u001b[33m2055\u001b[39m, \u001b[33m2196\u001b[39m, \u001b[33m2125\u001b[39m, \u001b[33m2198\u001b[39m, \u001b[33m1980\u001b[39m, \u001b[33m1778\u001b[39m, \u001b[33m2143\u001b[39m,\n",
            "    \u001b[33m2074\u001b[39m, \u001b[33m2295\u001b[39m, \u001b[33m1927\u001b[39m, \u001b[33m2252\u001b[39m, \u001b[33m1994\u001b[39m, \u001b[33m2056\u001b[39m, \u001b[33m1980\u001b[39m, \u001b[33m2281\u001b[39m, \u001b[33m2266\u001b[39m, \u001b[33m2025\u001b[39m,\n",
            "    \u001b[33m2073\u001b[39m, \u001b[33m2196\u001b[39m, \u001b[33m1951\u001b[39m, \u001b[33m1795\u001b[39m, \u001b[33m1824\u001b[39m, \u001b[33m1904\u001b[39m, \u001b[33m1888\u001b[39m, \u001b[33m2048\u001b[39m, \u001b[33m2005\u001b[39m, \u001b[33m2052\u001b[39m,\n",
            "    ... 500 more items\n",
            "  ],\n",
            "  [\n",
            "    \u001b[33m2050\u001b[39m, \u001b[33m2170\u001b[39m, \u001b[33m1763\u001b[39m, \u001b[33m1954\u001b[39m, \u001b[33m1963\u001b[39m, \u001b[33m2094\u001b[39m, \u001b[33m1926\u001b[39m, \u001b[33m1946\u001b[39m, \u001b[33m1998\u001b[39m, \u001b[33m1702\u001b[39m,\n",
            "    \u001b[33m1883\u001b[39m, \u001b[33m1959\u001b[39m, \u001b[33m1750\u001b[39m, \u001b[33m1877\u001b[39m, \u001b[33m1997\u001b[39m, \u001b[33m1904\u001b[39m, \u001b[33m1663\u001b[39m, \u001b[33m2106\u001b[39m, \u001b[33m1951\u001b[39m, \u001b[33m1719\u001b[39m,\n",
            "    \u001b[33m2077\u001b[39m, \u001b[33m1930\u001b[39m, \u001b[33m2016\u001b[39m, \u001b[33m2122\u001b[39m, \u001b[33m2031\u001b[39m, \u001b[33m2108\u001b[39m, \u001b[33m1926\u001b[39m, \u001b[33m1826\u001b[39m, \u001b[33m1884\u001b[39m, \u001b[33m2014\u001b[39m,\n",
            "    \u001b[33m1894\u001b[39m, \u001b[33m1961\u001b[39m, \u001b[33m1962\u001b[39m, \u001b[33m2023\u001b[39m, \u001b[33m2010\u001b[39m, \u001b[33m1921\u001b[39m, \u001b[33m1868\u001b[39m, \u001b[33m1815\u001b[39m, \u001b[33m2067\u001b[39m, \u001b[33m2019\u001b[39m,\n",
            "    \u001b[33m1947\u001b[39m, \u001b[33m2249\u001b[39m, \u001b[33m1891\u001b[39m, \u001b[33m2345\u001b[39m, \u001b[33m2178\u001b[39m, \u001b[33m1926\u001b[39m, \u001b[33m1892\u001b[39m, \u001b[33m1935\u001b[39m, \u001b[33m1997\u001b[39m, \u001b[33m1874\u001b[39m,\n",
            "    \u001b[33m1871\u001b[39m, \u001b[33m1989\u001b[39m, \u001b[33m2102\u001b[39m, \u001b[33m2217\u001b[39m, \u001b[33m2154\u001b[39m, \u001b[33m1801\u001b[39m, \u001b[33m2084\u001b[39m, \u001b[33m2002\u001b[39m, \u001b[33m1626\u001b[39m, \u001b[33m2086\u001b[39m,\n",
            "    \u001b[33m2001\u001b[39m, \u001b[33m1902\u001b[39m, \u001b[33m2299\u001b[39m, \u001b[33m2236\u001b[39m, \u001b[33m2112\u001b[39m, \u001b[33m2061\u001b[39m, \u001b[33m1746\u001b[39m, \u001b[33m2016\u001b[39m, \u001b[33m1874\u001b[39m, \u001b[33m2020\u001b[39m,\n",
            "    \u001b[33m1923\u001b[39m, \u001b[33m1901\u001b[39m, \u001b[33m1889\u001b[39m, \u001b[33m1855\u001b[39m, \u001b[33m1909\u001b[39m, \u001b[33m1927\u001b[39m, \u001b[33m2194\u001b[39m, \u001b[33m1911\u001b[39m, \u001b[33m1685\u001b[39m, \u001b[33m1955\u001b[39m,\n",
            "    \u001b[33m1991\u001b[39m, \u001b[33m2062\u001b[39m, \u001b[33m1698\u001b[39m, \u001b[33m2239\u001b[39m, \u001b[33m1729\u001b[39m, \u001b[33m1961\u001b[39m, \u001b[33m1934\u001b[39m, \u001b[33m2088\u001b[39m, \u001b[33m2179\u001b[39m, \u001b[33m1976\u001b[39m,\n",
            "    \u001b[33m2039\u001b[39m, \u001b[33m2119\u001b[39m, \u001b[33m2071\u001b[39m, \u001b[33m1787\u001b[39m, \u001b[33m1722\u001b[39m, \u001b[33m1654\u001b[39m, \u001b[33m1891\u001b[39m, \u001b[33m1812\u001b[39m, \u001b[33m1934\u001b[39m, \u001b[33m1865\u001b[39m,\n",
            "    ... 500 more items\n",
            "  ],\n",
            "  [\n",
            "    \u001b[33m1917\u001b[39m, \u001b[33m2123\u001b[39m, \u001b[33m1819\u001b[39m, \u001b[33m1936\u001b[39m, \u001b[33m1807\u001b[39m, \u001b[33m2021\u001b[39m, \u001b[33m1956\u001b[39m, \u001b[33m1909\u001b[39m, \u001b[33m2005\u001b[39m, \u001b[33m1748\u001b[39m,\n",
            "    \u001b[33m1716\u001b[39m, \u001b[33m1959\u001b[39m, \u001b[33m2015\u001b[39m, \u001b[33m1858\u001b[39m, \u001b[33m1880\u001b[39m, \u001b[33m1682\u001b[39m, \u001b[33m1520\u001b[39m, \u001b[33m2191\u001b[39m, \u001b[33m1965\u001b[39m, \u001b[33m1712\u001b[39m,\n",
            "    \u001b[33m2065\u001b[39m, \u001b[33m2088\u001b[39m, \u001b[33m1805\u001b[39m, \u001b[33m2101\u001b[39m, \u001b[33m1954\u001b[39m, \u001b[33m1841\u001b[39m, \u001b[33m1900\u001b[39m, \u001b[33m1894\u001b[39m, \u001b[33m1971\u001b[39m, \u001b[33m1867\u001b[39m,\n",
            "    \u001b[33m1956\u001b[39m, \u001b[33m1864\u001b[39m, \u001b[33m1840\u001b[39m, \u001b[33m1967\u001b[39m, \u001b[33m1920\u001b[39m, \u001b[33m1945\u001b[39m, \u001b[33m1801\u001b[39m, \u001b[33m1779\u001b[39m, \u001b[33m1993\u001b[39m, \u001b[33m1889\u001b[39m,\n",
            "    \u001b[33m1897\u001b[39m, \u001b[33m2163\u001b[39m, \u001b[33m2052\u001b[39m, \u001b[33m2036\u001b[39m, \u001b[33m2045\u001b[39m, \u001b[33m1840\u001b[39m, \u001b[33m1822\u001b[39m, \u001b[33m1773\u001b[39m, \u001b[33m1974\u001b[39m, \u001b[33m1981\u001b[39m,\n",
            "    \u001b[33m1875\u001b[39m, \u001b[33m1826\u001b[39m, \u001b[33m2125\u001b[39m, \u001b[33m2270\u001b[39m, \u001b[33m2082\u001b[39m, \u001b[33m1856\u001b[39m, \u001b[33m2102\u001b[39m, \u001b[33m1824\u001b[39m, \u001b[33m1691\u001b[39m, \u001b[33m2023\u001b[39m,\n",
            "    \u001b[33m1950\u001b[39m, \u001b[33m2058\u001b[39m, \u001b[33m2295\u001b[39m, \u001b[33m2150\u001b[39m, \u001b[33m2114\u001b[39m, \u001b[33m2127\u001b[39m, \u001b[33m1549\u001b[39m, \u001b[33m1906\u001b[39m, \u001b[33m1816\u001b[39m, \u001b[33m1791\u001b[39m,\n",
            "    \u001b[33m1821\u001b[39m, \u001b[33m1891\u001b[39m, \u001b[33m1716\u001b[39m, \u001b[33m1960\u001b[39m, \u001b[33m1870\u001b[39m, \u001b[33m2034\u001b[39m, \u001b[33m2021\u001b[39m, \u001b[33m1926\u001b[39m, \u001b[33m1808\u001b[39m, \u001b[33m1927\u001b[39m,\n",
            "    \u001b[33m1913\u001b[39m, \u001b[33m2061\u001b[39m, \u001b[33m1702\u001b[39m, \u001b[33m2209\u001b[39m, \u001b[33m1948\u001b[39m, \u001b[33m1887\u001b[39m, \u001b[33m1970\u001b[39m, \u001b[33m2040\u001b[39m, \u001b[33m2142\u001b[39m, \u001b[33m1755\u001b[39m,\n",
            "    \u001b[33m2041\u001b[39m, \u001b[33m2037\u001b[39m, \u001b[33m1859\u001b[39m, \u001b[33m1614\u001b[39m, \u001b[33m1661\u001b[39m, \u001b[33m1893\u001b[39m, \u001b[33m1750\u001b[39m, \u001b[33m1948\u001b[39m, \u001b[33m1942\u001b[39m, \u001b[33m2017\u001b[39m,\n",
            "    ... 500 more items\n",
            "  ],\n",
            "  [\n",
            "    \u001b[33m2321\u001b[39m, \u001b[33m2473\u001b[39m, \u001b[33m2187\u001b[39m, \u001b[33m2352\u001b[39m, \u001b[33m2143\u001b[39m, \u001b[33m2535\u001b[39m, \u001b[33m2350\u001b[39m, \u001b[33m2218\u001b[39m, \u001b[33m2351\u001b[39m, \u001b[33m2108\u001b[39m,\n",
            "    \u001b[33m2112\u001b[39m, \u001b[33m2314\u001b[39m, \u001b[33m2143\u001b[39m, \u001b[33m2252\u001b[39m, \u001b[33m2219\u001b[39m, \u001b[33m1877\u001b[39m, \u001b[33m1854\u001b[39m, \u001b[33m2445\u001b[39m, \u001b[33m2218\u001b[39m, \u001b[33m2234\u001b[39m,\n",
            "    \u001b[33m2577\u001b[39m, \u001b[33m2562\u001b[39m, \u001b[33m2160\u001b[39m, \u001b[33m2577\u001b[39m, \u001b[33m2370\u001b[39m, \u001b[33m2251\u001b[39m, \u001b[33m2404\u001b[39m, \u001b[33m2230\u001b[39m, \u001b[33m2491\u001b[39m, \u001b[33m2191\u001b[39m,\n",
            "    \u001b[33m2235\u001b[39m, \u001b[33m1990\u001b[39m, \u001b[33m2315\u001b[39m, \u001b[33m2508\u001b[39m, \u001b[33m2346\u001b[39m, \u001b[33m2327\u001b[39m, \u001b[33m2117\u001b[39m, \u001b[33m2042\u001b[39m, \u001b[33m2272\u001b[39m, \u001b[33m2180\u001b[39m,\n",
            "    \u001b[33m2219\u001b[39m, \u001b[33m2744\u001b[39m, \u001b[33m2462\u001b[39m, \u001b[33m2548\u001b[39m, \u001b[33m2357\u001b[39m, \u001b[33m2179\u001b[39m, \u001b[33m2230\u001b[39m, \u001b[33m2260\u001b[39m, \u001b[33m2283\u001b[39m, \u001b[33m2246\u001b[39m,\n",
            "    \u001b[33m2143\u001b[39m, \u001b[33m2278\u001b[39m, \u001b[33m2467\u001b[39m, \u001b[33m2677\u001b[39m, \u001b[33m2332\u001b[39m, \u001b[33m2249\u001b[39m, \u001b[33m2474\u001b[39m, \u001b[33m2420\u001b[39m, \u001b[33m2098\u001b[39m, \u001b[33m2480\u001b[39m,\n",
            "    \u001b[33m2351\u001b[39m, \u001b[33m2296\u001b[39m, \u001b[33m2695\u001b[39m, \u001b[33m2632\u001b[39m, \u001b[33m2470\u001b[39m, \u001b[33m2433\u001b[39m, \u001b[33m1938\u001b[39m, \u001b[33m2286\u001b[39m, \u001b[33m2218\u001b[39m, \u001b[33m2113\u001b[39m,\n",
            "    \u001b[33m2304\u001b[39m, \u001b[33m2182\u001b[39m, \u001b[33m2126\u001b[39m, \u001b[33m2324\u001b[39m, \u001b[33m2299\u001b[39m, \u001b[33m2325\u001b[39m, \u001b[33m2492\u001b[39m, \u001b[33m2216\u001b[39m, \u001b[33m2124\u001b[39m, \u001b[33m2340\u001b[39m,\n",
            "    \u001b[33m2163\u001b[39m, \u001b[33m2411\u001b[39m, \u001b[33m2075\u001b[39m, \u001b[33m2580\u001b[39m, \u001b[33m2328\u001b[39m, \u001b[33m2202\u001b[39m, \u001b[33m2296\u001b[39m, \u001b[33m2620\u001b[39m, \u001b[33m2537\u001b[39m, \u001b[33m2199\u001b[39m,\n",
            "    \u001b[33m2303\u001b[39m, \u001b[33m2556\u001b[39m, \u001b[33m2224\u001b[39m, \u001b[33m2216\u001b[39m, \u001b[33m2076\u001b[39m, \u001b[33m2221\u001b[39m, \u001b[33m2150\u001b[39m, \u001b[33m2179\u001b[39m, \u001b[33m2398\u001b[39m, \u001b[33m2103\u001b[39m,\n",
            "    ... 500 more items\n",
            "  ],\n",
            "  [\n",
            "    \u001b[33m2149\u001b[39m, \u001b[33m2102\u001b[39m, \u001b[33m2003\u001b[39m, \u001b[33m1938\u001b[39m, \u001b[33m2078\u001b[39m, \u001b[33m2066\u001b[39m, \u001b[33m1937\u001b[39m, \u001b[33m1880\u001b[39m, \u001b[33m2074\u001b[39m, \u001b[33m1770\u001b[39m,\n",
            "    \u001b[33m1813\u001b[39m, \u001b[33m1949\u001b[39m, \u001b[33m1836\u001b[39m, \u001b[33m1851\u001b[39m, \u001b[33m1966\u001b[39m, \u001b[33m1711\u001b[39m, \u001b[33m1751\u001b[39m, \u001b[33m2144\u001b[39m, \u001b[33m1978\u001b[39m, \u001b[33m1916\u001b[39m,\n",
            "    \u001b[33m2079\u001b[39m, \u001b[33m2228\u001b[39m, \u001b[33m1882\u001b[39m, \u001b[33m2179\u001b[39m, \u001b[33m2141\u001b[39m, \u001b[33m2083\u001b[39m, \u001b[33m2079\u001b[39m, \u001b[33m1712\u001b[39m, \u001b[33m2079\u001b[39m, \u001b[33m1879\u001b[39m,\n",
            "    \u001b[33m2042\u001b[39m, \u001b[33m1797\u001b[39m, \u001b[33m1839\u001b[39m, \u001b[33m1962\u001b[39m, \u001b[33m2081\u001b[39m, \u001b[33m2104\u001b[39m, \u001b[33m1861\u001b[39m, \u001b[33m1805\u001b[39m, \u001b[33m2068\u001b[39m, \u001b[33m1936\u001b[39m,\n",
            "    \u001b[33m1923\u001b[39m, \u001b[33m2066\u001b[39m, \u001b[33m2028\u001b[39m, \u001b[33m2079\u001b[39m, \u001b[33m2083\u001b[39m, \u001b[33m1926\u001b[39m, \u001b[33m2127\u001b[39m, \u001b[33m1955\u001b[39m, \u001b[33m1798\u001b[39m, \u001b[33m2031\u001b[39m,\n",
            "    \u001b[33m1697\u001b[39m, \u001b[33m1931\u001b[39m, \u001b[33m2126\u001b[39m, \u001b[33m2302\u001b[39m, \u001b[33m2198\u001b[39m, \u001b[33m1783\u001b[39m, \u001b[33m2016\u001b[39m, \u001b[33m2066\u001b[39m, \u001b[33m1863\u001b[39m, \u001b[33m1969\u001b[39m,\n",
            "    \u001b[33m1996\u001b[39m, \u001b[33m2310\u001b[39m, \u001b[33m2332\u001b[39m, \u001b[33m2294\u001b[39m, \u001b[33m2047\u001b[39m, \u001b[33m2007\u001b[39m, \u001b[33m1641\u001b[39m, \u001b[33m1869\u001b[39m, \u001b[33m1918\u001b[39m, \u001b[33m1904\u001b[39m,\n",
            "    \u001b[33m1741\u001b[39m, \u001b[33m2051\u001b[39m, \u001b[33m1837\u001b[39m, \u001b[33m2130\u001b[39m, \u001b[33m2052\u001b[39m, \u001b[33m2091\u001b[39m, \u001b[33m2286\u001b[39m, \u001b[33m2040\u001b[39m, \u001b[33m1864\u001b[39m, \u001b[33m2033\u001b[39m,\n",
            "    \u001b[33m1910\u001b[39m, \u001b[33m2061\u001b[39m, \u001b[33m1677\u001b[39m, \u001b[33m2323\u001b[39m, \u001b[33m1926\u001b[39m, \u001b[33m1894\u001b[39m, \u001b[33m1803\u001b[39m, \u001b[33m2210\u001b[39m, \u001b[33m2193\u001b[39m, \u001b[33m1896\u001b[39m,\n",
            "    \u001b[33m2136\u001b[39m, \u001b[33m2159\u001b[39m, \u001b[33m1818\u001b[39m, \u001b[33m1816\u001b[39m, \u001b[33m1857\u001b[39m, \u001b[33m1885\u001b[39m, \u001b[33m1717\u001b[39m, \u001b[33m1920\u001b[39m, \u001b[33m2057\u001b[39m, \u001b[33m1942\u001b[39m,\n",
            "    ... 500 more items\n",
            "  ],\n",
            "  [\n",
            "    \u001b[33m2236\u001b[39m, \u001b[33m2285\u001b[39m, \u001b[33m2099\u001b[39m, \u001b[33m2202\u001b[39m, \u001b[33m2071\u001b[39m, \u001b[33m2313\u001b[39m, \u001b[33m2084\u001b[39m, \u001b[33m2377\u001b[39m, \u001b[33m2225\u001b[39m, \u001b[33m2200\u001b[39m,\n",
            "    \u001b[33m2248\u001b[39m, \u001b[33m2147\u001b[39m, \u001b[33m2103\u001b[39m, \u001b[33m2232\u001b[39m, \u001b[33m2150\u001b[39m, \u001b[33m2161\u001b[39m, \u001b[33m1948\u001b[39m, \u001b[33m2367\u001b[39m, \u001b[33m2279\u001b[39m, \u001b[33m2009\u001b[39m,\n",
            "    \u001b[33m2296\u001b[39m, \u001b[33m2286\u001b[39m, \u001b[33m2204\u001b[39m, \u001b[33m2343\u001b[39m, \u001b[33m2364\u001b[39m, \u001b[33m2290\u001b[39m, \u001b[33m2156\u001b[39m, \u001b[33m2143\u001b[39m, \u001b[33m2345\u001b[39m, \u001b[33m2216\u001b[39m,\n",
            "    \u001b[33m2005\u001b[39m, \u001b[33m2183\u001b[39m, \u001b[33m2138\u001b[39m, \u001b[33m2346\u001b[39m, \u001b[33m2209\u001b[39m, \u001b[33m2226\u001b[39m, \u001b[33m1892\u001b[39m, \u001b[33m2171\u001b[39m, \u001b[33m2226\u001b[39m, \u001b[33m2015\u001b[39m,\n",
            "    \u001b[33m2162\u001b[39m, \u001b[33m2486\u001b[39m, \u001b[33m2228\u001b[39m, \u001b[33m2419\u001b[39m, \u001b[33m2449\u001b[39m, \u001b[33m2111\u001b[39m, \u001b[33m2130\u001b[39m, \u001b[33m2251\u001b[39m, \u001b[33m2186\u001b[39m, \u001b[33m2281\u001b[39m,\n",
            "    \u001b[33m2094\u001b[39m, \u001b[33m2324\u001b[39m, \u001b[33m2296\u001b[39m, \u001b[33m2445\u001b[39m, \u001b[33m2293\u001b[39m, \u001b[33m2030\u001b[39m, \u001b[33m2414\u001b[39m, \u001b[33m2133\u001b[39m, \u001b[33m1912\u001b[39m, \u001b[33m2202\u001b[39m,\n",
            "    \u001b[33m2058\u001b[39m, \u001b[33m2364\u001b[39m, \u001b[33m2588\u001b[39m, \u001b[33m2554\u001b[39m, \u001b[33m2401\u001b[39m, \u001b[33m2484\u001b[39m, \u001b[33m2011\u001b[39m, \u001b[33m2192\u001b[39m, \u001b[33m2109\u001b[39m, \u001b[33m2265\u001b[39m,\n",
            "    \u001b[33m2103\u001b[39m, \u001b[33m2273\u001b[39m, \u001b[33m2129\u001b[39m, \u001b[33m2060\u001b[39m, \u001b[33m2117\u001b[39m, \u001b[33m2317\u001b[39m, \u001b[33m2404\u001b[39m, \u001b[33m2187\u001b[39m, \u001b[33m1980\u001b[39m, \u001b[33m2395\u001b[39m,\n",
            "    \u001b[33m2175\u001b[39m, \u001b[33m2521\u001b[39m, \u001b[33m2062\u001b[39m, \u001b[33m2471\u001b[39m, \u001b[33m2115\u001b[39m, \u001b[33m2190\u001b[39m, \u001b[33m2229\u001b[39m, \u001b[33m2307\u001b[39m, \u001b[33m2478\u001b[39m, \u001b[33m2088\u001b[39m,\n",
            "    \u001b[33m2374\u001b[39m, \u001b[33m2394\u001b[39m, \u001b[33m2184\u001b[39m, \u001b[33m1938\u001b[39m, \u001b[33m1947\u001b[39m, \u001b[33m2096\u001b[39m, \u001b[33m2004\u001b[39m, \u001b[33m2173\u001b[39m, \u001b[33m2377\u001b[39m, \u001b[33m2275\u001b[39m,\n",
            "    ... 500 more items\n",
            "  ],\n",
            "  [\n",
            "    \u001b[33m2144\u001b[39m, \u001b[33m2363\u001b[39m, \u001b[33m2206\u001b[39m, \u001b[33m2456\u001b[39m, \u001b[33m2095\u001b[39m, \u001b[33m2429\u001b[39m, \u001b[33m2313\u001b[39m, \u001b[33m2206\u001b[39m, \u001b[33m2303\u001b[39m, \u001b[33m2120\u001b[39m,\n",
            "    \u001b[33m2005\u001b[39m, \u001b[33m2192\u001b[39m, \u001b[33m2043\u001b[39m, \u001b[33m2304\u001b[39m, \u001b[33m2241\u001b[39m, \u001b[33m2072\u001b[39m, \u001b[33m1963\u001b[39m, \u001b[33m2590\u001b[39m, \u001b[33m2224\u001b[39m, \u001b[33m2161\u001b[39m,\n",
            "    \u001b[33m2385\u001b[39m, \u001b[33m2297\u001b[39m, \u001b[33m2087\u001b[39m, \u001b[33m2465\u001b[39m, \u001b[33m2426\u001b[39m, \u001b[33m2274\u001b[39m, \u001b[33m2304\u001b[39m, \u001b[33m2260\u001b[39m, \u001b[33m2290\u001b[39m, \u001b[33m2153\u001b[39m,\n",
            "    \u001b[33m2334\u001b[39m, \u001b[33m2221\u001b[39m, \u001b[33m2242\u001b[39m, \u001b[33m2342\u001b[39m, \u001b[33m2224\u001b[39m, \u001b[33m2354\u001b[39m, \u001b[33m2156\u001b[39m, \u001b[33m2122\u001b[39m, \u001b[33m2379\u001b[39m, \u001b[33m2268\u001b[39m,\n",
            "    \u001b[33m2136\u001b[39m, \u001b[33m2444\u001b[39m, \u001b[33m2383\u001b[39m, \u001b[33m2555\u001b[39m, \u001b[33m2359\u001b[39m, \u001b[33m2088\u001b[39m, \u001b[33m2238\u001b[39m, \u001b[33m2328\u001b[39m, \u001b[33m2244\u001b[39m, \u001b[33m2287\u001b[39m,\n",
            "    \u001b[33m2022\u001b[39m, \u001b[33m2243\u001b[39m, \u001b[33m2345\u001b[39m, \u001b[33m2582\u001b[39m, \u001b[33m2199\u001b[39m, \u001b[33m2191\u001b[39m, \u001b[33m2457\u001b[39m, \u001b[33m2245\u001b[39m, \u001b[33m2144\u001b[39m, \u001b[33m2397\u001b[39m,\n",
            "    \u001b[33m2206\u001b[39m, \u001b[33m2372\u001b[39m, \u001b[33m2571\u001b[39m, \u001b[33m2566\u001b[39m, \u001b[33m2485\u001b[39m, \u001b[33m2380\u001b[39m, \u001b[33m2004\u001b[39m, \u001b[33m2176\u001b[39m, \u001b[33m2264\u001b[39m, \u001b[33m2227\u001b[39m,\n",
            "    \u001b[33m2082\u001b[39m, \u001b[33m2217\u001b[39m, \u001b[33m2146\u001b[39m, \u001b[33m2365\u001b[39m, \u001b[33m2156\u001b[39m, \u001b[33m2327\u001b[39m, \u001b[33m2553\u001b[39m, \u001b[33m2161\u001b[39m, \u001b[33m2075\u001b[39m, \u001b[33m2391\u001b[39m,\n",
            "    \u001b[33m2154\u001b[39m, \u001b[33m2445\u001b[39m, \u001b[33m2027\u001b[39m, \u001b[33m2461\u001b[39m, \u001b[33m2248\u001b[39m, \u001b[33m2091\u001b[39m, \u001b[33m2118\u001b[39m, \u001b[33m2363\u001b[39m, \u001b[33m2496\u001b[39m, \u001b[33m2106\u001b[39m,\n",
            "    \u001b[33m2211\u001b[39m, \u001b[33m2399\u001b[39m, \u001b[33m2259\u001b[39m, \u001b[33m1991\u001b[39m, \u001b[33m1863\u001b[39m, \u001b[33m2156\u001b[39m, \u001b[33m2025\u001b[39m, \u001b[33m2384\u001b[39m, \u001b[33m2344\u001b[39m, \u001b[33m2286\u001b[39m,\n",
            "    ... 500 more items\n",
            "  ],\n",
            "  [\n",
            "    \u001b[33m2190\u001b[39m, \u001b[33m2216\u001b[39m, \u001b[33m2082\u001b[39m, \u001b[33m1939\u001b[39m, \u001b[33m1708\u001b[39m, \u001b[33m2013\u001b[39m, \u001b[33m2064\u001b[39m, \u001b[33m1703\u001b[39m, \u001b[33m1853\u001b[39m, \u001b[33m1847\u001b[39m,\n",
            "    \u001b[33m1650\u001b[39m, \u001b[33m1962\u001b[39m, \u001b[33m1868\u001b[39m, \u001b[33m1935\u001b[39m, \u001b[33m1955\u001b[39m, \u001b[33m1716\u001b[39m, \u001b[33m1806\u001b[39m, \u001b[33m2095\u001b[39m, \u001b[33m2014\u001b[39m, \u001b[33m2058\u001b[39m,\n",
            "    \u001b[33m2140\u001b[39m, \u001b[33m2284\u001b[39m, \u001b[33m1852\u001b[39m, \u001b[33m2276\u001b[39m, \u001b[33m2076\u001b[39m, \u001b[33m1998\u001b[39m, \u001b[33m1988\u001b[39m, \u001b[33m1954\u001b[39m, \u001b[33m1965\u001b[39m, \u001b[33m1925\u001b[39m,\n",
            "    \u001b[33m1856\u001b[39m, \u001b[33m1862\u001b[39m, \u001b[33m1887\u001b[39m, \u001b[33m1953\u001b[39m, \u001b[33m2060\u001b[39m, \u001b[33m2135\u001b[39m, \u001b[33m1804\u001b[39m, \u001b[33m1830\u001b[39m, \u001b[33m2098\u001b[39m, \u001b[33m2121\u001b[39m,\n",
            "    \u001b[33m1980\u001b[39m, \u001b[33m2128\u001b[39m, \u001b[33m2073\u001b[39m, \u001b[33m2252\u001b[39m, \u001b[33m2197\u001b[39m, \u001b[33m1917\u001b[39m, \u001b[33m2000\u001b[39m, \u001b[33m1886\u001b[39m, \u001b[33m1953\u001b[39m, \u001b[33m1991\u001b[39m,\n",
            "    \u001b[33m1899\u001b[39m, \u001b[33m1897\u001b[39m, \u001b[33m2200\u001b[39m, \u001b[33m2342\u001b[39m, \u001b[33m2241\u001b[39m, \u001b[33m1867\u001b[39m, \u001b[33m2093\u001b[39m, \u001b[33m2032\u001b[39m, \u001b[33m1853\u001b[39m, \u001b[33m2233\u001b[39m,\n",
            "    \u001b[33m1900\u001b[39m, \u001b[33m2023\u001b[39m, \u001b[33m2291\u001b[39m, \u001b[33m2249\u001b[39m, \u001b[33m2091\u001b[39m, \u001b[33m2103\u001b[39m, \u001b[33m1849\u001b[39m, \u001b[33m1892\u001b[39m, \u001b[33m1990\u001b[39m, \u001b[33m1808\u001b[39m,\n",
            "    \u001b[33m1842\u001b[39m, \u001b[33m2035\u001b[39m, \u001b[33m1996\u001b[39m, \u001b[33m2106\u001b[39m, \u001b[33m2097\u001b[39m, \u001b[33m2155\u001b[39m, \u001b[33m2216\u001b[39m, \u001b[33m1823\u001b[39m, \u001b[33m1814\u001b[39m, \u001b[33m2057\u001b[39m,\n",
            "    \u001b[33m1876\u001b[39m, \u001b[33m2084\u001b[39m, \u001b[33m1639\u001b[39m, \u001b[33m2351\u001b[39m, \u001b[33m1960\u001b[39m, \u001b[33m1944\u001b[39m, \u001b[33m1947\u001b[39m, \u001b[33m2293\u001b[39m, \u001b[33m2377\u001b[39m, \u001b[33m1911\u001b[39m,\n",
            "    \u001b[33m2104\u001b[39m, \u001b[33m2244\u001b[39m, \u001b[33m1892\u001b[39m, \u001b[33m1834\u001b[39m, \u001b[33m1705\u001b[39m, \u001b[33m1835\u001b[39m, \u001b[33m1767\u001b[39m, \u001b[33m1957\u001b[39m, \u001b[33m2024\u001b[39m, \u001b[33m1963\u001b[39m,\n",
            "    ... 500 more items\n",
            "  ],\n",
            "  [\n",
            "    \u001b[33m1932\u001b[39m, \u001b[33m2183\u001b[39m, \u001b[33m1907\u001b[39m, \u001b[33m1808\u001b[39m, \u001b[33m1859\u001b[39m, \u001b[33m2059\u001b[39m, \u001b[33m1901\u001b[39m, \u001b[33m1807\u001b[39m, \u001b[33m1956\u001b[39m, \u001b[33m1626\u001b[39m,\n",
            "    \u001b[33m1769\u001b[39m, \u001b[33m2068\u001b[39m, \u001b[33m2085\u001b[39m, \u001b[33m1802\u001b[39m, \u001b[33m2005\u001b[39m, \u001b[33m1812\u001b[39m, \u001b[33m1727\u001b[39m, \u001b[33m1893\u001b[39m, \u001b[33m2014\u001b[39m, \u001b[33m1882\u001b[39m,\n",
            "    \u001b[33m1818\u001b[39m, \u001b[33m2030\u001b[39m, \u001b[33m2012\u001b[39m, \u001b[33m2186\u001b[39m, \u001b[33m2121\u001b[39m, \u001b[33m2049\u001b[39m, \u001b[33m1866\u001b[39m, \u001b[33m1892\u001b[39m, \u001b[33m2060\u001b[39m, \u001b[33m1852\u001b[39m,\n",
            "    \u001b[33m1920\u001b[39m, \u001b[33m1859\u001b[39m, \u001b[33m1873\u001b[39m, \u001b[33m2005\u001b[39m, \u001b[33m1927\u001b[39m, \u001b[33m1993\u001b[39m, \u001b[33m1724\u001b[39m, \u001b[33m1901\u001b[39m, \u001b[33m1892\u001b[39m, \u001b[33m1856\u001b[39m,\n",
            "    \u001b[33m1820\u001b[39m, \u001b[33m2165\u001b[39m, \u001b[33m1978\u001b[39m, \u001b[33m2250\u001b[39m, \u001b[33m2067\u001b[39m, \u001b[33m2114\u001b[39m, \u001b[33m1997\u001b[39m, \u001b[33m1905\u001b[39m, \u001b[33m1866\u001b[39m, \u001b[33m2124\u001b[39m,\n",
            "    \u001b[33m1980\u001b[39m, \u001b[33m1939\u001b[39m, \u001b[33m2114\u001b[39m, \u001b[33m2148\u001b[39m, \u001b[33m2238\u001b[39m, \u001b[33m1914\u001b[39m, \u001b[33m2051\u001b[39m, \u001b[33m2006\u001b[39m, \u001b[33m1853\u001b[39m, \u001b[33m1975\u001b[39m,\n",
            "    \u001b[33m1718\u001b[39m, \u001b[33m1974\u001b[39m, \u001b[33m2290\u001b[39m, \u001b[33m2323\u001b[39m, \u001b[33m2186\u001b[39m, \u001b[33m1963\u001b[39m, \u001b[33m1671\u001b[39m, \u001b[33m1956\u001b[39m, \u001b[33m1854\u001b[39m, \u001b[33m2059\u001b[39m,\n",
            "    \u001b[33m2008\u001b[39m, \u001b[33m2122\u001b[39m, \u001b[33m1958\u001b[39m, \u001b[33m1869\u001b[39m, \u001b[33m2108\u001b[39m, \u001b[33m2067\u001b[39m, \u001b[33m1830\u001b[39m, \u001b[33m2045\u001b[39m, \u001b[33m1653\u001b[39m, \u001b[33m1953\u001b[39m,\n",
            "    \u001b[33m1979\u001b[39m, \u001b[33m2240\u001b[39m, \u001b[33m2072\u001b[39m, \u001b[33m2225\u001b[39m, \u001b[33m2029\u001b[39m, \u001b[33m2087\u001b[39m, \u001b[33m1730\u001b[39m, \u001b[33m2330\u001b[39m, \u001b[33m2247\u001b[39m, \u001b[33m1915\u001b[39m,\n",
            "    \u001b[33m2037\u001b[39m, \u001b[33m1993\u001b[39m, \u001b[33m1863\u001b[39m, \u001b[33m1858\u001b[39m, \u001b[33m1518\u001b[39m, \u001b[33m1721\u001b[39m, \u001b[33m1952\u001b[39m, \u001b[33m1868\u001b[39m, \u001b[33m2086\u001b[39m, \u001b[33m2125\u001b[39m,\n",
            "    ... 500 more items\n",
            "  ],\n",
            "  [\n",
            "    \u001b[33m1830\u001b[39m, \u001b[33m2108\u001b[39m, \u001b[33m1871\u001b[39m, \u001b[33m1997\u001b[39m, \u001b[33m1863\u001b[39m, \u001b[33m2009\u001b[39m, \u001b[33m1824\u001b[39m, \u001b[33m1795\u001b[39m, \u001b[33m1988\u001b[39m, \u001b[33m1862\u001b[39m,\n",
            "    \u001b[33m1699\u001b[39m, \u001b[33m1829\u001b[39m, \u001b[33m1909\u001b[39m, \u001b[33m2039\u001b[39m, \u001b[33m1872\u001b[39m, \u001b[33m1747\u001b[39m, \u001b[33m1784\u001b[39m, \u001b[33m2278\u001b[39m, \u001b[33m1939\u001b[39m, \u001b[33m1833\u001b[39m,\n",
            "    \u001b[33m1928\u001b[39m, \u001b[33m2058\u001b[39m, \u001b[33m1968\u001b[39m, \u001b[33m2145\u001b[39m, \u001b[33m2091\u001b[39m, \u001b[33m2002\u001b[39m, \u001b[33m1894\u001b[39m, \u001b[33m2005\u001b[39m, \u001b[33m2148\u001b[39m, \u001b[33m1816\u001b[39m,\n",
            "    \u001b[33m1693\u001b[39m, \u001b[33m1745\u001b[39m, \u001b[33m1685\u001b[39m, \u001b[33m2073\u001b[39m, \u001b[33m2069\u001b[39m, \u001b[33m2091\u001b[39m, \u001b[33m1801\u001b[39m, \u001b[33m1818\u001b[39m, \u001b[33m1977\u001b[39m, \u001b[33m1767\u001b[39m,\n",
            "    \u001b[33m1929\u001b[39m, \u001b[33m2267\u001b[39m, \u001b[33m1949\u001b[39m, \u001b[33m2123\u001b[39m, \u001b[33m2077\u001b[39m, \u001b[33m1902\u001b[39m, \u001b[33m2069\u001b[39m, \u001b[33m2022\u001b[39m, \u001b[33m1964\u001b[39m, \u001b[33m1961\u001b[39m,\n",
            "    \u001b[33m1960\u001b[39m, \u001b[33m2050\u001b[39m, \u001b[33m2186\u001b[39m, \u001b[33m2168\u001b[39m, \u001b[33m2189\u001b[39m, \u001b[33m1864\u001b[39m, \u001b[33m1983\u001b[39m, \u001b[33m2221\u001b[39m, \u001b[33m1783\u001b[39m, \u001b[33m2216\u001b[39m,\n",
            "    \u001b[33m1751\u001b[39m, \u001b[33m2044\u001b[39m, \u001b[33m2228\u001b[39m, \u001b[33m1980\u001b[39m, \u001b[33m2177\u001b[39m, \u001b[33m2241\u001b[39m, \u001b[33m1748\u001b[39m, \u001b[33m1934\u001b[39m, \u001b[33m1887\u001b[39m, \u001b[33m1987\u001b[39m,\n",
            "    \u001b[33m1824\u001b[39m, \u001b[33m1801\u001b[39m, \u001b[33m1825\u001b[39m, \u001b[33m1983\u001b[39m, \u001b[33m1946\u001b[39m, \u001b[33m1921\u001b[39m, \u001b[33m2056\u001b[39m, \u001b[33m2063\u001b[39m, \u001b[33m1748\u001b[39m, \u001b[33m2098\u001b[39m,\n",
            "    \u001b[33m2009\u001b[39m, \u001b[33m2256\u001b[39m, \u001b[33m1931\u001b[39m, \u001b[33m2162\u001b[39m, \u001b[33m1924\u001b[39m, \u001b[33m1933\u001b[39m, \u001b[33m1946\u001b[39m, \u001b[33m2192\u001b[39m, \u001b[33m2104\u001b[39m, \u001b[33m1919\u001b[39m,\n",
            "    \u001b[33m2163\u001b[39m, \u001b[33m1989\u001b[39m, \u001b[33m1972\u001b[39m, \u001b[33m1874\u001b[39m, \u001b[33m1753\u001b[39m, \u001b[33m1896\u001b[39m, \u001b[33m1806\u001b[39m, \u001b[33m1829\u001b[39m, \u001b[33m1998\u001b[39m, \u001b[33m1905\u001b[39m,\n",
            "    ... 500 more items\n",
            "  ],\n",
            "  [\n",
            "    \u001b[33m2092\u001b[39m, \u001b[33m2296\u001b[39m, \u001b[33m1894\u001b[39m, \u001b[33m2068\u001b[39m, \u001b[33m1983\u001b[39m, \u001b[33m2248\u001b[39m, \u001b[33m2149\u001b[39m, \u001b[33m2139\u001b[39m, \u001b[33m2106\u001b[39m, \u001b[33m2000\u001b[39m,\n",
            "    \u001b[33m1911\u001b[39m, \u001b[33m1925\u001b[39m, \u001b[33m1996\u001b[39m, \u001b[33m2054\u001b[39m, \u001b[33m2017\u001b[39m, \u001b[33m1883\u001b[39m, \u001b[33m1847\u001b[39m, \u001b[33m2297\u001b[39m, \u001b[33m2156\u001b[39m, \u001b[33m2078\u001b[39m,\n",
            "    \u001b[33m2177\u001b[39m, \u001b[33m2399\u001b[39m, \u001b[33m2167\u001b[39m, \u001b[33m2447\u001b[39m, \u001b[33m2143\u001b[39m, \u001b[33m2087\u001b[39m, \u001b[33m2063\u001b[39m, \u001b[33m2116\u001b[39m, \u001b[33m2206\u001b[39m, \u001b[33m1983\u001b[39m,\n",
            "    \u001b[33m2200\u001b[39m, \u001b[33m2071\u001b[39m, \u001b[33m2063\u001b[39m, \u001b[33m2233\u001b[39m, \u001b[33m2012\u001b[39m, \u001b[33m2217\u001b[39m, \u001b[33m1929\u001b[39m, \u001b[33m1986\u001b[39m, \u001b[33m2413\u001b[39m, \u001b[33m2089\u001b[39m,\n",
            "    \u001b[33m2064\u001b[39m, \u001b[33m2370\u001b[39m, \u001b[33m2202\u001b[39m, \u001b[33m2429\u001b[39m, \u001b[33m2236\u001b[39m, \u001b[33m2193\u001b[39m, \u001b[33m2033\u001b[39m, \u001b[33m2027\u001b[39m, \u001b[33m2163\u001b[39m, \u001b[33m2151\u001b[39m,\n",
            "    \u001b[33m2114\u001b[39m, \u001b[33m2191\u001b[39m, \u001b[33m2230\u001b[39m, \u001b[33m2363\u001b[39m, \u001b[33m2342\u001b[39m, \u001b[33m1962\u001b[39m, \u001b[33m2212\u001b[39m, \u001b[33m2272\u001b[39m, \u001b[33m1769\u001b[39m, \u001b[33m2176\u001b[39m,\n",
            "    \u001b[33m1956\u001b[39m, \u001b[33m2145\u001b[39m, \u001b[33m2336\u001b[39m, \u001b[33m2432\u001b[39m, \u001b[33m2375\u001b[39m, \u001b[33m2256\u001b[39m, \u001b[33m1700\u001b[39m, \u001b[33m2044\u001b[39m, \u001b[33m2038\u001b[39m, \u001b[33m2235\u001b[39m,\n",
            "    \u001b[33m2099\u001b[39m, \u001b[33m2101\u001b[39m, \u001b[33m2105\u001b[39m, \u001b[33m2096\u001b[39m, \u001b[33m2086\u001b[39m, \u001b[33m2129\u001b[39m, \u001b[33m2333\u001b[39m, \u001b[33m2118\u001b[39m, \u001b[33m2012\u001b[39m, \u001b[33m2154\u001b[39m,\n",
            "    \u001b[33m2126\u001b[39m, \u001b[33m2369\u001b[39m, \u001b[33m1924\u001b[39m, \u001b[33m2424\u001b[39m, \u001b[33m2159\u001b[39m, \u001b[33m2225\u001b[39m, \u001b[33m2053\u001b[39m, \u001b[33m2322\u001b[39m, \u001b[33m2274\u001b[39m, \u001b[33m2037\u001b[39m,\n",
            "    \u001b[33m2274\u001b[39m, \u001b[33m2196\u001b[39m, \u001b[33m2040\u001b[39m, \u001b[33m1990\u001b[39m, \u001b[33m1935\u001b[39m, \u001b[33m1972\u001b[39m, \u001b[33m1924\u001b[39m, \u001b[33m2163\u001b[39m, \u001b[33m2166\u001b[39m, \u001b[33m2097\u001b[39m,\n",
            "    ... 500 more items\n",
            "  ],\n",
            "  [\n",
            "    \u001b[33m2333\u001b[39m, \u001b[33m2476\u001b[39m, \u001b[33m2142\u001b[39m, \u001b[33m2335\u001b[39m, \u001b[33m2192\u001b[39m, \u001b[33m2444\u001b[39m, \u001b[33m2217\u001b[39m, \u001b[33m2133\u001b[39m, \u001b[33m2187\u001b[39m, \u001b[33m2095\u001b[39m,\n",
            "    \u001b[33m1980\u001b[39m, \u001b[33m2026\u001b[39m, \u001b[33m2232\u001b[39m, \u001b[33m2343\u001b[39m, \u001b[33m2223\u001b[39m, \u001b[33m1929\u001b[39m, \u001b[33m2055\u001b[39m, \u001b[33m2353\u001b[39m, \u001b[33m2241\u001b[39m, \u001b[33m2325\u001b[39m,\n",
            "    \u001b[33m2231\u001b[39m, \u001b[33m2306\u001b[39m, \u001b[33m2263\u001b[39m, \u001b[33m2642\u001b[39m, \u001b[33m2488\u001b[39m, \u001b[33m2355\u001b[39m, \u001b[33m2355\u001b[39m, \u001b[33m2291\u001b[39m, \u001b[33m2586\u001b[39m, \u001b[33m2311\u001b[39m,\n",
            "    \u001b[33m2244\u001b[39m, \u001b[33m2119\u001b[39m, \u001b[33m2323\u001b[39m, \u001b[33m2410\u001b[39m, \u001b[33m2099\u001b[39m, \u001b[33m2306\u001b[39m, \u001b[33m2125\u001b[39m, \u001b[33m2233\u001b[39m, \u001b[33m2242\u001b[39m, \u001b[33m2075\u001b[39m,\n",
            "    \u001b[33m2300\u001b[39m, \u001b[33m2609\u001b[39m, \u001b[33m2362\u001b[39m, \u001b[33m2697\u001b[39m, \u001b[33m2476\u001b[39m, \u001b[33m2242\u001b[39m, \u001b[33m2293\u001b[39m, \u001b[33m2355\u001b[39m, \u001b[33m2270\u001b[39m, \u001b[33m2330\u001b[39m,\n",
            "    \u001b[33m2229\u001b[39m, \u001b[33m2519\u001b[39m, \u001b[33m2587\u001b[39m, \u001b[33m2565\u001b[39m, \u001b[33m2470\u001b[39m, \u001b[33m2174\u001b[39m, \u001b[33m2386\u001b[39m, \u001b[33m2284\u001b[39m, \u001b[33m2082\u001b[39m, \u001b[33m2456\u001b[39m,\n",
            "    \u001b[33m2065\u001b[39m, \u001b[33m2352\u001b[39m, \u001b[33m2606\u001b[39m, \u001b[33m2572\u001b[39m, \u001b[33m2440\u001b[39m, \u001b[33m2412\u001b[39m, \u001b[33m1959\u001b[39m, \u001b[33m2282\u001b[39m, \u001b[33m2288\u001b[39m, \u001b[33m2285\u001b[39m,\n",
            "    \u001b[33m2295\u001b[39m, \u001b[33m2277\u001b[39m, \u001b[33m2225\u001b[39m, \u001b[33m2164\u001b[39m, \u001b[33m2415\u001b[39m, \u001b[33m2391\u001b[39m, \u001b[33m2425\u001b[39m, \u001b[33m2039\u001b[39m, \u001b[33m2024\u001b[39m, \u001b[33m2284\u001b[39m,\n",
            "    \u001b[33m2263\u001b[39m, \u001b[33m2358\u001b[39m, \u001b[33m2022\u001b[39m, \u001b[33m2709\u001b[39m, \u001b[33m2373\u001b[39m, \u001b[33m2278\u001b[39m, \u001b[33m2268\u001b[39m, \u001b[33m2613\u001b[39m, \u001b[33m2706\u001b[39m, \u001b[33m2291\u001b[39m,\n",
            "    \u001b[33m2491\u001b[39m, \u001b[33m2443\u001b[39m, \u001b[33m2168\u001b[39m, \u001b[33m2172\u001b[39m, \u001b[33m2092\u001b[39m, \u001b[33m2107\u001b[39m, \u001b[33m2167\u001b[39m, \u001b[33m2176\u001b[39m, \u001b[33m2340\u001b[39m, \u001b[33m2298\u001b[39m,\n",
            "    ... 500 more items\n",
            "  ],\n",
            "  [\n",
            "    \u001b[33m1793\u001b[39m, \u001b[33m2249\u001b[39m, \u001b[33m1863\u001b[39m, \u001b[33m1783\u001b[39m, \u001b[33m1809\u001b[39m, \u001b[33m2107\u001b[39m, \u001b[33m2086\u001b[39m, \u001b[33m1855\u001b[39m, \u001b[33m2013\u001b[39m, \u001b[33m1915\u001b[39m,\n",
            "    \u001b[33m1923\u001b[39m, \u001b[33m2045\u001b[39m, \u001b[33m1891\u001b[39m, \u001b[33m1910\u001b[39m, \u001b[33m2063\u001b[39m, \u001b[33m1823\u001b[39m, \u001b[33m1690\u001b[39m, \u001b[33m1978\u001b[39m, \u001b[33m1927\u001b[39m, \u001b[33m1949\u001b[39m,\n",
            "    \u001b[33m1899\u001b[39m, \u001b[33m2143\u001b[39m, \u001b[33m1876\u001b[39m, \u001b[33m2258\u001b[39m, \u001b[33m2138\u001b[39m, \u001b[33m2115\u001b[39m, \u001b[33m2039\u001b[39m, \u001b[33m1821\u001b[39m, \u001b[33m2209\u001b[39m, \u001b[33m2018\u001b[39m,\n",
            "    \u001b[33m1860\u001b[39m, \u001b[33m1817\u001b[39m, \u001b[33m1957\u001b[39m, \u001b[33m2015\u001b[39m, \u001b[33m1872\u001b[39m, \u001b[33m2020\u001b[39m, \u001b[33m1967\u001b[39m, \u001b[33m1903\u001b[39m, \u001b[33m2126\u001b[39m, \u001b[33m1902\u001b[39m,\n",
            "    \u001b[33m1839\u001b[39m, \u001b[33m2287\u001b[39m, \u001b[33m2065\u001b[39m, \u001b[33m2267\u001b[39m, \u001b[33m2236\u001b[39m, \u001b[33m1810\u001b[39m, \u001b[33m2009\u001b[39m, \u001b[33m2116\u001b[39m, \u001b[33m1986\u001b[39m, \u001b[33m1921\u001b[39m,\n",
            "    \u001b[33m1825\u001b[39m, \u001b[33m1980\u001b[39m, \u001b[33m2132\u001b[39m, \u001b[33m2385\u001b[39m, \u001b[33m2160\u001b[39m, \u001b[33m1852\u001b[39m, \u001b[33m2148\u001b[39m, \u001b[33m2142\u001b[39m, \u001b[33m1963\u001b[39m, \u001b[33m2069\u001b[39m,\n",
            "    \u001b[33m1839\u001b[39m, \u001b[33m2132\u001b[39m, \u001b[33m2205\u001b[39m, \u001b[33m2275\u001b[39m, \u001b[33m2191\u001b[39m, \u001b[33m2190\u001b[39m, \u001b[33m1690\u001b[39m, \u001b[33m1848\u001b[39m, \u001b[33m1941\u001b[39m, \u001b[33m2074\u001b[39m,\n",
            "    \u001b[33m1995\u001b[39m, \u001b[33m1998\u001b[39m, \u001b[33m2032\u001b[39m, \u001b[33m1911\u001b[39m, \u001b[33m1991\u001b[39m, \u001b[33m1958\u001b[39m, \u001b[33m1972\u001b[39m, \u001b[33m1749\u001b[39m, \u001b[33m1834\u001b[39m, \u001b[33m2101\u001b[39m,\n",
            "    \u001b[33m2032\u001b[39m, \u001b[33m2108\u001b[39m, \u001b[33m1850\u001b[39m, \u001b[33m2253\u001b[39m, \u001b[33m1984\u001b[39m, \u001b[33m1930\u001b[39m, \u001b[33m1933\u001b[39m, \u001b[33m2133\u001b[39m, \u001b[33m2440\u001b[39m, \u001b[33m1967\u001b[39m,\n",
            "    \u001b[33m2101\u001b[39m, \u001b[33m2003\u001b[39m, \u001b[33m1979\u001b[39m, \u001b[33m1815\u001b[39m, \u001b[33m1656\u001b[39m, \u001b[33m1949\u001b[39m, \u001b[33m1953\u001b[39m, \u001b[33m1896\u001b[39m, \u001b[33m1936\u001b[39m, \u001b[33m2034\u001b[39m,\n",
            "    ... 500 more items\n",
            "  ],\n",
            "  [\n",
            "    \u001b[33m2017\u001b[39m, \u001b[33m2359\u001b[39m, \u001b[33m1907\u001b[39m, \u001b[33m2001\u001b[39m, \u001b[33m1879\u001b[39m, \u001b[33m2315\u001b[39m, \u001b[33m2096\u001b[39m, \u001b[33m1933\u001b[39m, \u001b[33m2052\u001b[39m, \u001b[33m1878\u001b[39m,\n",
            "    \u001b[33m1915\u001b[39m, \u001b[33m2022\u001b[39m, \u001b[33m2056\u001b[39m, \u001b[33m1800\u001b[39m, \u001b[33m2020\u001b[39m, \u001b[33m1883\u001b[39m, \u001b[33m1672\u001b[39m, \u001b[33m2081\u001b[39m, \u001b[33m1938\u001b[39m, \u001b[33m2093\u001b[39m,\n",
            "    \u001b[33m2092\u001b[39m, \u001b[33m2191\u001b[39m, \u001b[33m2071\u001b[39m, \u001b[33m2337\u001b[39m, \u001b[33m2102\u001b[39m, \u001b[33m2086\u001b[39m, \u001b[33m1911\u001b[39m, \u001b[33m2084\u001b[39m, \u001b[33m2141\u001b[39m, \u001b[33m1863\u001b[39m,\n",
            "    \u001b[33m2209\u001b[39m, \u001b[33m1914\u001b[39m, \u001b[33m2045\u001b[39m, \u001b[33m2019\u001b[39m, \u001b[33m1988\u001b[39m, \u001b[33m2108\u001b[39m, \u001b[33m1855\u001b[39m, \u001b[33m1990\u001b[39m, \u001b[33m2099\u001b[39m, \u001b[33m1982\u001b[39m,\n",
            "    \u001b[33m2002\u001b[39m, \u001b[33m2218\u001b[39m, \u001b[33m2113\u001b[39m, \u001b[33m2391\u001b[39m, \u001b[33m2183\u001b[39m, \u001b[33m2038\u001b[39m, \u001b[33m2139\u001b[39m, \u001b[33m2074\u001b[39m, \u001b[33m2012\u001b[39m, \u001b[33m2164\u001b[39m,\n",
            "    \u001b[33m2099\u001b[39m, \u001b[33m1950\u001b[39m, \u001b[33m2302\u001b[39m, \u001b[33m2409\u001b[39m, \u001b[33m2087\u001b[39m, \u001b[33m1926\u001b[39m, \u001b[33m2120\u001b[39m, \u001b[33m2377\u001b[39m, \u001b[33m1898\u001b[39m, \u001b[33m2192\u001b[39m,\n",
            "    \u001b[33m1945\u001b[39m, \u001b[33m2139\u001b[39m, \u001b[33m2327\u001b[39m, \u001b[33m2313\u001b[39m, \u001b[33m2212\u001b[39m, \u001b[33m2177\u001b[39m, \u001b[33m1637\u001b[39m, \u001b[33m2012\u001b[39m, \u001b[33m2174\u001b[39m, \u001b[33m1929\u001b[39m,\n",
            "    \u001b[33m2037\u001b[39m, \u001b[33m2006\u001b[39m, \u001b[33m1924\u001b[39m, \u001b[33m2018\u001b[39m, \u001b[33m2231\u001b[39m, \u001b[33m2045\u001b[39m, \u001b[33m2138\u001b[39m, \u001b[33m1843\u001b[39m, \u001b[33m1917\u001b[39m, \u001b[33m2111\u001b[39m,\n",
            "    \u001b[33m2047\u001b[39m, \u001b[33m2235\u001b[39m, \u001b[33m1917\u001b[39m, \u001b[33m2287\u001b[39m, \u001b[33m2080\u001b[39m, \u001b[33m2031\u001b[39m, \u001b[33m2027\u001b[39m, \u001b[33m2349\u001b[39m, \u001b[33m2315\u001b[39m, \u001b[33m2015\u001b[39m,\n",
            "    \u001b[33m2192\u001b[39m, \u001b[33m2167\u001b[39m, \u001b[33m1927\u001b[39m, \u001b[33m1988\u001b[39m, \u001b[33m1750\u001b[39m, \u001b[33m1937\u001b[39m, \u001b[33m1941\u001b[39m, \u001b[33m2001\u001b[39m, \u001b[33m2050\u001b[39m, \u001b[33m2201\u001b[39m,\n",
            "    ... 500 more items\n",
            "  ],\n",
            "  [\n",
            "    \u001b[33m1897\u001b[39m, \u001b[33m2158\u001b[39m, \u001b[33m1891\u001b[39m, \u001b[33m1961\u001b[39m, \u001b[33m1987\u001b[39m, \u001b[33m2039\u001b[39m, \u001b[33m1965\u001b[39m, \u001b[33m1875\u001b[39m, \u001b[33m1854\u001b[39m, \u001b[33m1780\u001b[39m,\n",
            "    \u001b[33m1644\u001b[39m, \u001b[33m2070\u001b[39m, \u001b[33m1821\u001b[39m, \u001b[33m1899\u001b[39m, \u001b[33m1962\u001b[39m, \u001b[33m1718\u001b[39m, \u001b[33m1628\u001b[39m, \u001b[33m2175\u001b[39m, \u001b[33m1946\u001b[39m, \u001b[33m2002\u001b[39m,\n",
            "    \u001b[33m1968\u001b[39m, \u001b[33m1939\u001b[39m, \u001b[33m1978\u001b[39m, \u001b[33m2096\u001b[39m, \u001b[33m2088\u001b[39m, \u001b[33m1891\u001b[39m, \u001b[33m1828\u001b[39m, \u001b[33m1889\u001b[39m, \u001b[33m2018\u001b[39m, \u001b[33m1786\u001b[39m,\n",
            "    \u001b[33m1945\u001b[39m, \u001b[33m1900\u001b[39m, \u001b[33m1935\u001b[39m, \u001b[33m2123\u001b[39m, \u001b[33m1961\u001b[39m, \u001b[33m1930\u001b[39m, \u001b[33m1787\u001b[39m, \u001b[33m1748\u001b[39m, \u001b[33m1876\u001b[39m, \u001b[33m1858\u001b[39m,\n",
            "    \u001b[33m1841\u001b[39m, \u001b[33m2001\u001b[39m, \u001b[33m1988\u001b[39m, \u001b[33m2147\u001b[39m, \u001b[33m2014\u001b[39m, \u001b[33m1798\u001b[39m, \u001b[33m2049\u001b[39m, \u001b[33m2032\u001b[39m, \u001b[33m1904\u001b[39m, \u001b[33m2025\u001b[39m,\n",
            "    \u001b[33m1887\u001b[39m, \u001b[33m2035\u001b[39m, \u001b[33m2036\u001b[39m, \u001b[33m2193\u001b[39m, \u001b[33m2178\u001b[39m, \u001b[33m1840\u001b[39m, \u001b[33m2031\u001b[39m, \u001b[33m2025\u001b[39m, \u001b[33m1811\u001b[39m, \u001b[33m1975\u001b[39m,\n",
            "    \u001b[33m1825\u001b[39m, \u001b[33m2190\u001b[39m, \u001b[33m2173\u001b[39m, \u001b[33m2322\u001b[39m, \u001b[33m2128\u001b[39m, \u001b[33m1999\u001b[39m, \u001b[33m1696\u001b[39m, \u001b[33m1974\u001b[39m, \u001b[33m1714\u001b[39m, \u001b[33m2036\u001b[39m,\n",
            "    \u001b[33m1882\u001b[39m, \u001b[33m1857\u001b[39m, \u001b[33m1672\u001b[39m, \u001b[33m1902\u001b[39m, \u001b[33m1994\u001b[39m, \u001b[33m1949\u001b[39m, \u001b[33m2174\u001b[39m, \u001b[33m1941\u001b[39m, \u001b[33m1779\u001b[39m, \u001b[33m2086\u001b[39m,\n",
            "    \u001b[33m1949\u001b[39m, \u001b[33m2121\u001b[39m, \u001b[33m1782\u001b[39m, \u001b[33m2292\u001b[39m, \u001b[33m2078\u001b[39m, \u001b[33m2105\u001b[39m, \u001b[33m1750\u001b[39m, \u001b[33m2132\u001b[39m, \u001b[33m1953\u001b[39m, \u001b[33m1775\u001b[39m,\n",
            "    \u001b[33m2122\u001b[39m, \u001b[33m2085\u001b[39m, \u001b[33m1833\u001b[39m, \u001b[33m1811\u001b[39m, \u001b[33m1572\u001b[39m, \u001b[33m1786\u001b[39m, \u001b[33m1791\u001b[39m, \u001b[33m1826\u001b[39m, \u001b[33m1992\u001b[39m, \u001b[33m2003\u001b[39m,\n",
            "    ... 500 more items\n",
            "  ],\n",
            "  [\n",
            "    \u001b[33m2180\u001b[39m, \u001b[33m2389\u001b[39m, \u001b[33m2169\u001b[39m, \u001b[33m2168\u001b[39m, \u001b[33m1948\u001b[39m, \u001b[33m2409\u001b[39m, \u001b[33m2077\u001b[39m, \u001b[33m2040\u001b[39m, \u001b[33m2167\u001b[39m, \u001b[33m1904\u001b[39m,\n",
            "    \u001b[33m1923\u001b[39m, \u001b[33m2011\u001b[39m, \u001b[33m1987\u001b[39m, \u001b[33m2207\u001b[39m, \u001b[33m2181\u001b[39m, \u001b[33m1878\u001b[39m, \u001b[33m1785\u001b[39m, \u001b[33m2370\u001b[39m, \u001b[33m2043\u001b[39m, \u001b[33m2210\u001b[39m,\n",
            "    \u001b[33m2212\u001b[39m, \u001b[33m2327\u001b[39m, \u001b[33m2167\u001b[39m, \u001b[33m2301\u001b[39m, \u001b[33m2229\u001b[39m, \u001b[33m2036\u001b[39m, \u001b[33m2065\u001b[39m, \u001b[33m1999\u001b[39m, \u001b[33m1999\u001b[39m, \u001b[33m2021\u001b[39m,\n",
            "    \u001b[33m2209\u001b[39m, \u001b[33m2129\u001b[39m, \u001b[33m1988\u001b[39m, \u001b[33m2225\u001b[39m, \u001b[33m2040\u001b[39m, \u001b[33m2233\u001b[39m, \u001b[33m2048\u001b[39m, \u001b[33m1907\u001b[39m, \u001b[33m2251\u001b[39m, \u001b[33m2071\u001b[39m,\n",
            "    \u001b[33m2091\u001b[39m, \u001b[33m2293\u001b[39m, \u001b[33m2208\u001b[39m, \u001b[33m2368\u001b[39m, \u001b[33m2161\u001b[39m, \u001b[33m2108\u001b[39m, \u001b[33m2013\u001b[39m, \u001b[33m2109\u001b[39m, \u001b[33m2071\u001b[39m, \u001b[33m2196\u001b[39m,\n",
            "    \u001b[33m1987\u001b[39m, \u001b[33m2043\u001b[39m, \u001b[33m2205\u001b[39m, \u001b[33m2365\u001b[39m, \u001b[33m2248\u001b[39m, \u001b[33m2008\u001b[39m, \u001b[33m2411\u001b[39m, \u001b[33m2109\u001b[39m, \u001b[33m1963\u001b[39m, \u001b[33m2156\u001b[39m,\n",
            "    \u001b[33m2039\u001b[39m, \u001b[33m2158\u001b[39m, \u001b[33m2414\u001b[39m, \u001b[33m2446\u001b[39m, \u001b[33m2360\u001b[39m, \u001b[33m2381\u001b[39m, \u001b[33m1872\u001b[39m, \u001b[33m2071\u001b[39m, \u001b[33m2054\u001b[39m, \u001b[33m2118\u001b[39m,\n",
            "    \u001b[33m1877\u001b[39m, \u001b[33m2194\u001b[39m, \u001b[33m2123\u001b[39m, \u001b[33m2166\u001b[39m, \u001b[33m2093\u001b[39m, \u001b[33m2142\u001b[39m, \u001b[33m2454\u001b[39m, \u001b[33m1866\u001b[39m, \u001b[33m1844\u001b[39m, \u001b[33m2167\u001b[39m,\n",
            "    \u001b[33m2123\u001b[39m, \u001b[33m2297\u001b[39m, \u001b[33m1771\u001b[39m, \u001b[33m2414\u001b[39m, \u001b[33m2154\u001b[39m, \u001b[33m2109\u001b[39m, \u001b[33m2033\u001b[39m, \u001b[33m2364\u001b[39m, \u001b[33m2268\u001b[39m, \u001b[33m1969\u001b[39m,\n",
            "    \u001b[33m2155\u001b[39m, \u001b[33m2358\u001b[39m, \u001b[33m1983\u001b[39m, \u001b[33m1846\u001b[39m, \u001b[33m1834\u001b[39m, \u001b[33m1950\u001b[39m, \u001b[33m1891\u001b[39m, \u001b[33m2093\u001b[39m, \u001b[33m2264\u001b[39m, \u001b[33m2162\u001b[39m,\n",
            "    ... 500 more items\n",
            "  ],\n",
            "  [\n",
            "    \u001b[33m2345\u001b[39m, \u001b[33m2363\u001b[39m, \u001b[33m2159\u001b[39m, \u001b[33m2085\u001b[39m, \u001b[33m2081\u001b[39m, \u001b[33m2312\u001b[39m, \u001b[33m2186\u001b[39m, \u001b[33m1901\u001b[39m, \u001b[33m2142\u001b[39m, \u001b[33m2097\u001b[39m,\n",
            "    \u001b[33m1991\u001b[39m, \u001b[33m2210\u001b[39m, \u001b[33m2035\u001b[39m, \u001b[33m2103\u001b[39m, \u001b[33m2271\u001b[39m, \u001b[33m2010\u001b[39m, \u001b[33m1878\u001b[39m, \u001b[33m2277\u001b[39m, \u001b[33m2161\u001b[39m, \u001b[33m2042\u001b[39m,\n",
            "    \u001b[33m2287\u001b[39m, \u001b[33m2351\u001b[39m, \u001b[33m2152\u001b[39m, \u001b[33m2599\u001b[39m, \u001b[33m2339\u001b[39m, \u001b[33m2192\u001b[39m, \u001b[33m2070\u001b[39m, \u001b[33m2082\u001b[39m, \u001b[33m2286\u001b[39m, \u001b[33m2079\u001b[39m,\n",
            "    \u001b[33m2363\u001b[39m, \u001b[33m1940\u001b[39m, \u001b[33m2149\u001b[39m, \u001b[33m2309\u001b[39m, \u001b[33m2103\u001b[39m, \u001b[33m2275\u001b[39m, \u001b[33m1894\u001b[39m, \u001b[33m2038\u001b[39m, \u001b[33m2170\u001b[39m, \u001b[33m2137\u001b[39m,\n",
            "    \u001b[33m2214\u001b[39m, \u001b[33m2326\u001b[39m, \u001b[33m2174\u001b[39m, \u001b[33m2372\u001b[39m, \u001b[33m2416\u001b[39m, \u001b[33m2257\u001b[39m, \u001b[33m2087\u001b[39m, \u001b[33m2271\u001b[39m, \u001b[33m2031\u001b[39m, \u001b[33m2246\u001b[39m,\n",
            "    \u001b[33m2069\u001b[39m, \u001b[33m2085\u001b[39m, \u001b[33m2250\u001b[39m, \u001b[33m2542\u001b[39m, \u001b[33m2455\u001b[39m, \u001b[33m1926\u001b[39m, \u001b[33m2271\u001b[39m, \u001b[33m2352\u001b[39m, \u001b[33m1894\u001b[39m, \u001b[33m2143\u001b[39m,\n",
            "    \u001b[33m1942\u001b[39m, \u001b[33m2338\u001b[39m, \u001b[33m2500\u001b[39m, \u001b[33m2551\u001b[39m, \u001b[33m2453\u001b[39m, \u001b[33m2338\u001b[39m, \u001b[33m1986\u001b[39m, \u001b[33m2071\u001b[39m, \u001b[33m2169\u001b[39m, \u001b[33m2046\u001b[39m,\n",
            "    \u001b[33m2256\u001b[39m, \u001b[33m2249\u001b[39m, \u001b[33m2216\u001b[39m, \u001b[33m2061\u001b[39m, \u001b[33m2261\u001b[39m, \u001b[33m2334\u001b[39m, \u001b[33m2278\u001b[39m, \u001b[33m2328\u001b[39m, \u001b[33m1836\u001b[39m, \u001b[33m2170\u001b[39m,\n",
            "    \u001b[33m1828\u001b[39m, \u001b[33m2437\u001b[39m, \u001b[33m2107\u001b[39m, \u001b[33m2396\u001b[39m, \u001b[33m2262\u001b[39m, \u001b[33m2051\u001b[39m, \u001b[33m2198\u001b[39m, \u001b[33m2559\u001b[39m, \u001b[33m2466\u001b[39m, \u001b[33m2186\u001b[39m,\n",
            "    \u001b[33m2365\u001b[39m, \u001b[33m2263\u001b[39m, \u001b[33m2193\u001b[39m, \u001b[33m2123\u001b[39m, \u001b[33m1760\u001b[39m, \u001b[33m2110\u001b[39m, \u001b[33m2049\u001b[39m, \u001b[33m2079\u001b[39m, \u001b[33m2113\u001b[39m, \u001b[33m2309\u001b[39m,\n",
            "    ... 500 more items\n",
            "  ],\n",
            "  [\n",
            "    \u001b[33m1769\u001b[39m, \u001b[33m2013\u001b[39m, \u001b[33m1956\u001b[39m, \u001b[33m1804\u001b[39m, \u001b[33m1956\u001b[39m, \u001b[33m2062\u001b[39m, \u001b[33m1931\u001b[39m, \u001b[33m1986\u001b[39m, \u001b[33m1997\u001b[39m, \u001b[33m1869\u001b[39m,\n",
            "    \u001b[33m1785\u001b[39m, \u001b[33m2026\u001b[39m, \u001b[33m1987\u001b[39m, \u001b[33m1965\u001b[39m, \u001b[33m1894\u001b[39m, \u001b[33m1656\u001b[39m, \u001b[33m1653\u001b[39m, \u001b[33m2223\u001b[39m, \u001b[33m1992\u001b[39m, \u001b[33m1992\u001b[39m,\n",
            "    \u001b[33m2017\u001b[39m, \u001b[33m2214\u001b[39m, \u001b[33m2040\u001b[39m, \u001b[33m2254\u001b[39m, \u001b[33m2024\u001b[39m, \u001b[33m2064\u001b[39m, \u001b[33m2028\u001b[39m, \u001b[33m1866\u001b[39m, \u001b[33m2128\u001b[39m, \u001b[33m1850\u001b[39m,\n",
            "    \u001b[33m1709\u001b[39m, \u001b[33m1833\u001b[39m, \u001b[33m1761\u001b[39m, \u001b[33m2098\u001b[39m, \u001b[33m1983\u001b[39m, \u001b[33m2078\u001b[39m, \u001b[33m1878\u001b[39m, \u001b[33m1870\u001b[39m, \u001b[33m2128\u001b[39m, \u001b[33m1875\u001b[39m,\n",
            "    \u001b[33m1918\u001b[39m, \u001b[33m2257\u001b[39m, \u001b[33m2167\u001b[39m, \u001b[33m2306\u001b[39m, \u001b[33m2162\u001b[39m, \u001b[33m1869\u001b[39m, \u001b[33m1989\u001b[39m, \u001b[33m1985\u001b[39m, \u001b[33m1969\u001b[39m, \u001b[33m1893\u001b[39m,\n",
            "    \u001b[33m1899\u001b[39m, \u001b[33m1883\u001b[39m, \u001b[33m2048\u001b[39m, \u001b[33m2211\u001b[39m, \u001b[33m2163\u001b[39m, \u001b[33m1907\u001b[39m, \u001b[33m2151\u001b[39m, \u001b[33m2036\u001b[39m, \u001b[33m1738\u001b[39m, \u001b[33m2084\u001b[39m,\n",
            "    \u001b[33m1849\u001b[39m, \u001b[33m2092\u001b[39m, \u001b[33m2284\u001b[39m, \u001b[33m2169\u001b[39m, \u001b[33m2121\u001b[39m, \u001b[33m2128\u001b[39m, \u001b[33m1609\u001b[39m, \u001b[33m1949\u001b[39m, \u001b[33m1901\u001b[39m, \u001b[33m2094\u001b[39m,\n",
            "    \u001b[33m1927\u001b[39m, \u001b[33m2096\u001b[39m, \u001b[33m1893\u001b[39m, \u001b[33m2012\u001b[39m, \u001b[33m1990\u001b[39m, \u001b[33m2022\u001b[39m, \u001b[33m2081\u001b[39m, \u001b[33m1865\u001b[39m, \u001b[33m1913\u001b[39m, \u001b[33m2175\u001b[39m,\n",
            "    \u001b[33m2081\u001b[39m, \u001b[33m2171\u001b[39m, \u001b[33m1755\u001b[39m, \u001b[33m2389\u001b[39m, \u001b[33m1967\u001b[39m, \u001b[33m2113\u001b[39m, \u001b[33m1761\u001b[39m, \u001b[33m2172\u001b[39m, \u001b[33m2169\u001b[39m, \u001b[33m1932\u001b[39m,\n",
            "    \u001b[33m2227\u001b[39m, \u001b[33m1958\u001b[39m, \u001b[33m1768\u001b[39m, \u001b[33m1727\u001b[39m, \u001b[33m1682\u001b[39m, \u001b[33m1944\u001b[39m, \u001b[33m1838\u001b[39m, \u001b[33m1952\u001b[39m, \u001b[33m2002\u001b[39m, \u001b[33m1994\u001b[39m,\n",
            "    ... 500 more items\n",
            "  ],\n",
            "  [\n",
            "    \u001b[33m1993\u001b[39m, \u001b[33m2217\u001b[39m, \u001b[33m1858\u001b[39m, \u001b[33m1962\u001b[39m, \u001b[33m2033\u001b[39m, \u001b[33m2220\u001b[39m, \u001b[33m2037\u001b[39m, \u001b[33m1947\u001b[39m, \u001b[33m2018\u001b[39m, \u001b[33m1988\u001b[39m,\n",
            "    \u001b[33m1807\u001b[39m, \u001b[33m2009\u001b[39m, \u001b[33m1918\u001b[39m, \u001b[33m1954\u001b[39m, \u001b[33m1912\u001b[39m, \u001b[33m1676\u001b[39m, \u001b[33m1695\u001b[39m, \u001b[33m2147\u001b[39m, \u001b[33m2075\u001b[39m, \u001b[33m1876\u001b[39m,\n",
            "    \u001b[33m2064\u001b[39m, \u001b[33m2252\u001b[39m, \u001b[33m1944\u001b[39m, \u001b[33m2184\u001b[39m, \u001b[33m2267\u001b[39m, \u001b[33m2172\u001b[39m, \u001b[33m1995\u001b[39m, \u001b[33m1999\u001b[39m, \u001b[33m2141\u001b[39m, \u001b[33m2050\u001b[39m,\n",
            "    \u001b[33m1927\u001b[39m, \u001b[33m1917\u001b[39m, \u001b[33m2047\u001b[39m, \u001b[33m2027\u001b[39m, \u001b[33m1953\u001b[39m, \u001b[33m1983\u001b[39m, \u001b[33m1880\u001b[39m, \u001b[33m1889\u001b[39m, \u001b[33m2071\u001b[39m, \u001b[33m1985\u001b[39m,\n",
            "    \u001b[33m1939\u001b[39m, \u001b[33m2368\u001b[39m, \u001b[33m2129\u001b[39m, \u001b[33m2336\u001b[39m, \u001b[33m2175\u001b[39m, \u001b[33m2047\u001b[39m, \u001b[33m1991\u001b[39m, \u001b[33m2036\u001b[39m, \u001b[33m1995\u001b[39m, \u001b[33m1993\u001b[39m,\n",
            "    \u001b[33m1855\u001b[39m, \u001b[33m1993\u001b[39m, \u001b[33m2216\u001b[39m, \u001b[33m2394\u001b[39m, \u001b[33m2249\u001b[39m, \u001b[33m1977\u001b[39m, \u001b[33m2144\u001b[39m, \u001b[33m2020\u001b[39m, \u001b[33m1848\u001b[39m, \u001b[33m2109\u001b[39m,\n",
            "    \u001b[33m2062\u001b[39m, \u001b[33m1982\u001b[39m, \u001b[33m2363\u001b[39m, \u001b[33m2313\u001b[39m, \u001b[33m2246\u001b[39m, \u001b[33m2129\u001b[39m, \u001b[33m1675\u001b[39m, \u001b[33m2055\u001b[39m, \u001b[33m1922\u001b[39m, \u001b[33m2091\u001b[39m,\n",
            "    \u001b[33m2008\u001b[39m, \u001b[33m2020\u001b[39m, \u001b[33m1969\u001b[39m, \u001b[33m2103\u001b[39m, \u001b[33m2222\u001b[39m, \u001b[33m2207\u001b[39m, \u001b[33m2098\u001b[39m, \u001b[33m1924\u001b[39m, \u001b[33m1909\u001b[39m, \u001b[33m2221\u001b[39m,\n",
            "    \u001b[33m2078\u001b[39m, \u001b[33m2169\u001b[39m, \u001b[33m1806\u001b[39m, \u001b[33m2369\u001b[39m, \u001b[33m2056\u001b[39m, \u001b[33m2002\u001b[39m, \u001b[33m1973\u001b[39m, \u001b[33m2271\u001b[39m, \u001b[33m2291\u001b[39m, \u001b[33m1987\u001b[39m,\n",
            "    \u001b[33m2222\u001b[39m, \u001b[33m1971\u001b[39m, \u001b[33m2040\u001b[39m, \u001b[33m1892\u001b[39m, \u001b[33m1685\u001b[39m, \u001b[33m1876\u001b[39m, \u001b[33m1951\u001b[39m, \u001b[33m1835\u001b[39m, \u001b[33m2093\u001b[39m, \u001b[33m2012\u001b[39m,\n",
            "    ... 500 more items\n",
            "  ],\n",
            "  [\n",
            "    \u001b[33m1933\u001b[39m, \u001b[33m2206\u001b[39m, \u001b[33m1965\u001b[39m, \u001b[33m2077\u001b[39m, \u001b[33m1751\u001b[39m, \u001b[33m2036\u001b[39m, \u001b[33m2087\u001b[39m, \u001b[33m1895\u001b[39m, \u001b[33m1955\u001b[39m, \u001b[33m1919\u001b[39m,\n",
            "    \u001b[33m1919\u001b[39m, \u001b[33m2049\u001b[39m, \u001b[33m1925\u001b[39m, \u001b[33m1881\u001b[39m, \u001b[33m2007\u001b[39m, \u001b[33m1904\u001b[39m, \u001b[33m1687\u001b[39m, \u001b[33m2160\u001b[39m, \u001b[33m1805\u001b[39m, \u001b[33m1933\u001b[39m,\n",
            "    \u001b[33m2033\u001b[39m, \u001b[33m2424\u001b[39m, \u001b[33m2003\u001b[39m, \u001b[33m2292\u001b[39m, \u001b[33m2044\u001b[39m, \u001b[33m2042\u001b[39m, \u001b[33m2060\u001b[39m, \u001b[33m1937\u001b[39m, \u001b[33m2184\u001b[39m, \u001b[33m1823\u001b[39m,\n",
            "    \u001b[33m2090\u001b[39m, \u001b[33m1998\u001b[39m, \u001b[33m1888\u001b[39m, \u001b[33m2086\u001b[39m, \u001b[33m2050\u001b[39m, \u001b[33m2094\u001b[39m, \u001b[33m1868\u001b[39m, \u001b[33m1872\u001b[39m, \u001b[33m2180\u001b[39m, \u001b[33m2014\u001b[39m,\n",
            "    \u001b[33m1993\u001b[39m, \u001b[33m2244\u001b[39m, \u001b[33m2259\u001b[39m, \u001b[33m2182\u001b[39m, \u001b[33m2066\u001b[39m, \u001b[33m2024\u001b[39m, \u001b[33m1950\u001b[39m, \u001b[33m1953\u001b[39m, \u001b[33m2044\u001b[39m, \u001b[33m2011\u001b[39m,\n",
            "    \u001b[33m1809\u001b[39m, \u001b[33m2009\u001b[39m, \u001b[33m2152\u001b[39m, \u001b[33m2363\u001b[39m, \u001b[33m2210\u001b[39m, \u001b[33m1990\u001b[39m, \u001b[33m2134\u001b[39m, \u001b[33m2139\u001b[39m, \u001b[33m1949\u001b[39m, \u001b[33m2063\u001b[39m,\n",
            "    \u001b[33m1906\u001b[39m, \u001b[33m2182\u001b[39m, \u001b[33m2279\u001b[39m, \u001b[33m2278\u001b[39m, \u001b[33m2199\u001b[39m, \u001b[33m2049\u001b[39m, \u001b[33m1690\u001b[39m, \u001b[33m1940\u001b[39m, \u001b[33m1989\u001b[39m, \u001b[33m1932\u001b[39m,\n",
            "    \u001b[33m1925\u001b[39m, \u001b[33m2093\u001b[39m, \u001b[33m1962\u001b[39m, \u001b[33m1986\u001b[39m, \u001b[33m2107\u001b[39m, \u001b[33m2239\u001b[39m, \u001b[33m2185\u001b[39m, \u001b[33m2024\u001b[39m, \u001b[33m1740\u001b[39m, \u001b[33m2150\u001b[39m,\n",
            "    \u001b[33m1774\u001b[39m, \u001b[33m2385\u001b[39m, \u001b[33m1829\u001b[39m, \u001b[33m2251\u001b[39m, \u001b[33m2141\u001b[39m, \u001b[33m1918\u001b[39m, \u001b[33m2101\u001b[39m, \u001b[33m2115\u001b[39m, \u001b[33m2198\u001b[39m, \u001b[33m1987\u001b[39m,\n",
            "    \u001b[33m2167\u001b[39m, \u001b[33m2255\u001b[39m, \u001b[33m2022\u001b[39m, \u001b[33m1919\u001b[39m, \u001b[33m1734\u001b[39m, \u001b[33m1943\u001b[39m, \u001b[33m1854\u001b[39m, \u001b[33m2048\u001b[39m, \u001b[33m2195\u001b[39m, \u001b[33m1958\u001b[39m,\n",
            "    ... 500 more items\n",
            "  ],\n",
            "  [\n",
            "    \u001b[33m2054\u001b[39m, \u001b[33m2175\u001b[39m, \u001b[33m1928\u001b[39m, \u001b[33m1984\u001b[39m, \u001b[33m1853\u001b[39m, \u001b[33m2164\u001b[39m, \u001b[33m2088\u001b[39m, \u001b[33m2165\u001b[39m, \u001b[33m2105\u001b[39m, \u001b[33m2095\u001b[39m,\n",
            "    \u001b[33m1915\u001b[39m, \u001b[33m2054\u001b[39m, \u001b[33m2092\u001b[39m, \u001b[33m2092\u001b[39m, \u001b[33m2153\u001b[39m, \u001b[33m1884\u001b[39m, \u001b[33m1828\u001b[39m, \u001b[33m2374\u001b[39m, \u001b[33m1997\u001b[39m, \u001b[33m2058\u001b[39m,\n",
            "    \u001b[33m2158\u001b[39m, \u001b[33m2369\u001b[39m, \u001b[33m2062\u001b[39m, \u001b[33m2387\u001b[39m, \u001b[33m2213\u001b[39m, \u001b[33m2097\u001b[39m, \u001b[33m2175\u001b[39m, \u001b[33m1967\u001b[39m, \u001b[33m2331\u001b[39m, \u001b[33m2209\u001b[39m,\n",
            "    \u001b[33m2002\u001b[39m, \u001b[33m2031\u001b[39m, \u001b[33m2123\u001b[39m, \u001b[33m2251\u001b[39m, \u001b[33m2151\u001b[39m, \u001b[33m2279\u001b[39m, \u001b[33m1735\u001b[39m, \u001b[33m2028\u001b[39m, \u001b[33m2116\u001b[39m, \u001b[33m2071\u001b[39m,\n",
            "    \u001b[33m1918\u001b[39m, \u001b[33m2399\u001b[39m, \u001b[33m2365\u001b[39m, \u001b[33m2467\u001b[39m, \u001b[33m2266\u001b[39m, \u001b[33m2159\u001b[39m, \u001b[33m2043\u001b[39m, \u001b[33m2099\u001b[39m, \u001b[33m1993\u001b[39m, \u001b[33m2147\u001b[39m,\n",
            "    \u001b[33m2071\u001b[39m, \u001b[33m2153\u001b[39m, \u001b[33m2281\u001b[39m, \u001b[33m2667\u001b[39m, \u001b[33m2332\u001b[39m, \u001b[33m2019\u001b[39m, \u001b[33m2246\u001b[39m, \u001b[33m2238\u001b[39m, \u001b[33m1723\u001b[39m, \u001b[33m2309\u001b[39m,\n",
            "    \u001b[33m2033\u001b[39m, \u001b[33m2101\u001b[39m, \u001b[33m2359\u001b[39m, \u001b[33m2431\u001b[39m, \u001b[33m2241\u001b[39m, \u001b[33m2199\u001b[39m, \u001b[33m1830\u001b[39m, \u001b[33m2142\u001b[39m, \u001b[33m2043\u001b[39m, \u001b[33m1994\u001b[39m,\n",
            "    \u001b[33m2265\u001b[39m, \u001b[33m2063\u001b[39m, \u001b[33m1970\u001b[39m, \u001b[33m2133\u001b[39m, \u001b[33m2167\u001b[39m, \u001b[33m2319\u001b[39m, \u001b[33m2246\u001b[39m, \u001b[33m2020\u001b[39m, \u001b[33m1899\u001b[39m, \u001b[33m2099\u001b[39m,\n",
            "    \u001b[33m1930\u001b[39m, \u001b[33m2521\u001b[39m, \u001b[33m1953\u001b[39m, \u001b[33m2483\u001b[39m, \u001b[33m2094\u001b[39m, \u001b[33m2108\u001b[39m, \u001b[33m2209\u001b[39m, \u001b[33m2396\u001b[39m, \u001b[33m2222\u001b[39m, \u001b[33m2036\u001b[39m,\n",
            "    \u001b[33m2363\u001b[39m, \u001b[33m2164\u001b[39m, \u001b[33m1973\u001b[39m, \u001b[33m1800\u001b[39m, \u001b[33m1948\u001b[39m, \u001b[33m2101\u001b[39m, \u001b[33m1959\u001b[39m, \u001b[33m2213\u001b[39m, \u001b[33m2262\u001b[39m, \u001b[33m2142\u001b[39m,\n",
            "    ... 500 more items\n",
            "  ],\n",
            "  [\n",
            "    \u001b[33m2016\u001b[39m, \u001b[33m2001\u001b[39m, \u001b[33m1884\u001b[39m, \u001b[33m1736\u001b[39m, \u001b[33m1821\u001b[39m, \u001b[33m2076\u001b[39m, \u001b[33m2002\u001b[39m, \u001b[33m1921\u001b[39m, \u001b[33m2005\u001b[39m, \u001b[33m1846\u001b[39m,\n",
            "    \u001b[33m1792\u001b[39m, \u001b[33m1845\u001b[39m, \u001b[33m1789\u001b[39m, \u001b[33m1869\u001b[39m, \u001b[33m1998\u001b[39m, \u001b[33m1853\u001b[39m, \u001b[33m1731\u001b[39m, \u001b[33m1996\u001b[39m, \u001b[33m2119\u001b[39m, \u001b[33m1861\u001b[39m,\n",
            "    \u001b[33m1915\u001b[39m, \u001b[33m2096\u001b[39m, \u001b[33m1944\u001b[39m, \u001b[33m2016\u001b[39m, \u001b[33m2122\u001b[39m, \u001b[33m2145\u001b[39m, \u001b[33m1910\u001b[39m, \u001b[33m1880\u001b[39m, \u001b[33m1916\u001b[39m, \u001b[33m1952\u001b[39m,\n",
            "    \u001b[33m1846\u001b[39m, \u001b[33m1944\u001b[39m, \u001b[33m2041\u001b[39m, \u001b[33m2020\u001b[39m, \u001b[33m1732\u001b[39m, \u001b[33m1924\u001b[39m, \u001b[33m1840\u001b[39m, \u001b[33m1866\u001b[39m, \u001b[33m2137\u001b[39m, \u001b[33m1806\u001b[39m,\n",
            "    \u001b[33m1924\u001b[39m, \u001b[33m1982\u001b[39m, \u001b[33m2099\u001b[39m, \u001b[33m2159\u001b[39m, \u001b[33m2086\u001b[39m, \u001b[33m1943\u001b[39m, \u001b[33m2033\u001b[39m, \u001b[33m1965\u001b[39m, \u001b[33m1963\u001b[39m, \u001b[33m2003\u001b[39m,\n",
            "    \u001b[33m2079\u001b[39m, \u001b[33m1915\u001b[39m, \u001b[33m2061\u001b[39m, \u001b[33m2306\u001b[39m, \u001b[33m2090\u001b[39m, \u001b[33m1576\u001b[39m, \u001b[33m2132\u001b[39m, \u001b[33m1893\u001b[39m, \u001b[33m1732\u001b[39m, \u001b[33m1958\u001b[39m,\n",
            "    \u001b[33m1847\u001b[39m, \u001b[33m2018\u001b[39m, \u001b[33m2144\u001b[39m, \u001b[33m2231\u001b[39m, \u001b[33m2032\u001b[39m, \u001b[33m2068\u001b[39m, \u001b[33m1631\u001b[39m, \u001b[33m1944\u001b[39m, \u001b[33m1826\u001b[39m, \u001b[33m2036\u001b[39m,\n",
            "    \u001b[33m2071\u001b[39m, \u001b[33m1890\u001b[39m, \u001b[33m1888\u001b[39m, \u001b[33m1976\u001b[39m, \u001b[33m1974\u001b[39m, \u001b[33m1916\u001b[39m, \u001b[33m2112\u001b[39m, \u001b[33m1921\u001b[39m, \u001b[33m1781\u001b[39m, \u001b[33m2039\u001b[39m,\n",
            "    \u001b[33m2015\u001b[39m, \u001b[33m2234\u001b[39m, \u001b[33m1855\u001b[39m, \u001b[33m2268\u001b[39m, \u001b[33m1996\u001b[39m, \u001b[33m2007\u001b[39m, \u001b[33m1847\u001b[39m, \u001b[33m2030\u001b[39m, \u001b[33m2194\u001b[39m, \u001b[33m1985\u001b[39m,\n",
            "    \u001b[33m2004\u001b[39m, \u001b[33m2087\u001b[39m, \u001b[33m1940\u001b[39m, \u001b[33m1757\u001b[39m, \u001b[33m1662\u001b[39m, \u001b[33m1791\u001b[39m, \u001b[33m1694\u001b[39m, \u001b[33m1874\u001b[39m, \u001b[33m1989\u001b[39m, \u001b[33m1827\u001b[39m,\n",
            "    ... 500 more items\n",
            "  ],\n",
            "  [\n",
            "    \u001b[33m2010\u001b[39m, \u001b[33m2221\u001b[39m, \u001b[33m1920\u001b[39m, \u001b[33m1943\u001b[39m, \u001b[33m1851\u001b[39m, \u001b[33m1845\u001b[39m, \u001b[33m1923\u001b[39m, \u001b[33m1786\u001b[39m, \u001b[33m1859\u001b[39m, \u001b[33m1777\u001b[39m,\n",
            "    \u001b[33m1831\u001b[39m, \u001b[33m1796\u001b[39m, \u001b[33m1738\u001b[39m, \u001b[33m1809\u001b[39m, \u001b[33m1783\u001b[39m, \u001b[33m1613\u001b[39m, \u001b[33m1699\u001b[39m, \u001b[33m2087\u001b[39m, \u001b[33m1868\u001b[39m, \u001b[33m1842\u001b[39m,\n",
            "    \u001b[33m1883\u001b[39m, \u001b[33m2134\u001b[39m, \u001b[33m1888\u001b[39m, \u001b[33m2071\u001b[39m, \u001b[33m2020\u001b[39m, \u001b[33m1839\u001b[39m, \u001b[33m1814\u001b[39m, \u001b[33m1950\u001b[39m, \u001b[33m2002\u001b[39m, \u001b[33m1780\u001b[39m,\n",
            "    \u001b[33m1902\u001b[39m, \u001b[33m1859\u001b[39m, \u001b[33m1699\u001b[39m, \u001b[33m2001\u001b[39m, \u001b[33m1916\u001b[39m, \u001b[33m2022\u001b[39m, \u001b[33m1686\u001b[39m, \u001b[33m1722\u001b[39m, \u001b[33m1958\u001b[39m, \u001b[33m1772\u001b[39m,\n",
            "    \u001b[33m1849\u001b[39m, \u001b[33m2088\u001b[39m, \u001b[33m1964\u001b[39m, \u001b[33m1973\u001b[39m, \u001b[33m2026\u001b[39m, \u001b[33m1903\u001b[39m, \u001b[33m1858\u001b[39m, \u001b[33m1834\u001b[39m, \u001b[33m1846\u001b[39m, \u001b[33m1830\u001b[39m,\n",
            "    \u001b[33m1698\u001b[39m, \u001b[33m1810\u001b[39m, \u001b[33m2026\u001b[39m, \u001b[33m2113\u001b[39m, \u001b[33m1970\u001b[39m, \u001b[33m1834\u001b[39m, \u001b[33m2026\u001b[39m, \u001b[33m1985\u001b[39m, \u001b[33m1696\u001b[39m, \u001b[33m1975\u001b[39m,\n",
            "    \u001b[33m1786\u001b[39m, \u001b[33m2067\u001b[39m, \u001b[33m2171\u001b[39m, \u001b[33m2114\u001b[39m, \u001b[33m2014\u001b[39m, \u001b[33m1978\u001b[39m, \u001b[33m1541\u001b[39m, \u001b[33m1925\u001b[39m, \u001b[33m1801\u001b[39m, \u001b[33m1771\u001b[39m,\n",
            "    \u001b[33m1655\u001b[39m, \u001b[33m1849\u001b[39m, \u001b[33m1787\u001b[39m, \u001b[33m1904\u001b[39m, \u001b[33m1959\u001b[39m, \u001b[33m2077\u001b[39m, \u001b[33m2077\u001b[39m, \u001b[33m1807\u001b[39m, \u001b[33m1672\u001b[39m, \u001b[33m1950\u001b[39m,\n",
            "    \u001b[33m1729\u001b[39m, \u001b[33m2207\u001b[39m, \u001b[33m1658\u001b[39m, \u001b[33m2158\u001b[39m, \u001b[33m1900\u001b[39m, \u001b[33m1593\u001b[39m, \u001b[33m1917\u001b[39m, \u001b[33m2131\u001b[39m, \u001b[33m2054\u001b[39m, \u001b[33m1774\u001b[39m,\n",
            "    \u001b[33m1962\u001b[39m, \u001b[33m2013\u001b[39m, \u001b[33m1801\u001b[39m, \u001b[33m1679\u001b[39m, \u001b[33m1642\u001b[39m, \u001b[33m1773\u001b[39m, \u001b[33m1615\u001b[39m, \u001b[33m1804\u001b[39m, \u001b[33m2025\u001b[39m, \u001b[33m1818\u001b[39m,\n",
            "    ... 500 more items\n",
            "  ],\n",
            "  [\n",
            "    \u001b[33m1752\u001b[39m, \u001b[33m2097\u001b[39m, \u001b[33m1837\u001b[39m, \u001b[33m1732\u001b[39m, \u001b[33m1773\u001b[39m, \u001b[33m2004\u001b[39m, \u001b[33m2074\u001b[39m, \u001b[33m1824\u001b[39m, \u001b[33m1970\u001b[39m, \u001b[33m1764\u001b[39m,\n",
            "    \u001b[33m1797\u001b[39m, \u001b[33m2095\u001b[39m, \u001b[33m1764\u001b[39m, \u001b[33m1874\u001b[39m, \u001b[33m1905\u001b[39m, \u001b[33m1680\u001b[39m, \u001b[33m1591\u001b[39m, \u001b[33m2057\u001b[39m, \u001b[33m1853\u001b[39m, \u001b[33m1815\u001b[39m,\n",
            "    \u001b[33m1856\u001b[39m, \u001b[33m2118\u001b[39m, \u001b[33m1889\u001b[39m, \u001b[33m2119\u001b[39m, \u001b[33m2145\u001b[39m, \u001b[33m2041\u001b[39m, \u001b[33m1897\u001b[39m, \u001b[33m1810\u001b[39m, \u001b[33m2240\u001b[39m, \u001b[33m1946\u001b[39m,\n",
            "    \u001b[33m1897\u001b[39m, \u001b[33m1888\u001b[39m, \u001b[33m1852\u001b[39m, \u001b[33m2059\u001b[39m, \u001b[33m1927\u001b[39m, \u001b[33m1992\u001b[39m, \u001b[33m1783\u001b[39m, \u001b[33m1877\u001b[39m, \u001b[33m2085\u001b[39m, \u001b[33m1916\u001b[39m,\n",
            "    \u001b[33m1844\u001b[39m, \u001b[33m2287\u001b[39m, \u001b[33m2050\u001b[39m, \u001b[33m2173\u001b[39m, \u001b[33m2061\u001b[39m, \u001b[33m2082\u001b[39m, \u001b[33m2039\u001b[39m, \u001b[33m1811\u001b[39m, \u001b[33m1964\u001b[39m, \u001b[33m2001\u001b[39m,\n",
            "    \u001b[33m1902\u001b[39m, \u001b[33m2069\u001b[39m, \u001b[33m2038\u001b[39m, \u001b[33m2249\u001b[39m, \u001b[33m2123\u001b[39m, \u001b[33m1939\u001b[39m, \u001b[33m2018\u001b[39m, \u001b[33m1887\u001b[39m, \u001b[33m1768\u001b[39m, \u001b[33m2046\u001b[39m,\n",
            "    \u001b[33m1827\u001b[39m, \u001b[33m2022\u001b[39m, \u001b[33m2401\u001b[39m, \u001b[33m2294\u001b[39m, \u001b[33m2069\u001b[39m, \u001b[33m1828\u001b[39m, \u001b[33m1748\u001b[39m, \u001b[33m1929\u001b[39m, \u001b[33m1844\u001b[39m, \u001b[33m2048\u001b[39m,\n",
            "    \u001b[33m1816\u001b[39m, \u001b[33m1893\u001b[39m, \u001b[33m1951\u001b[39m, \u001b[33m1973\u001b[39m, \u001b[33m1973\u001b[39m, \u001b[33m2049\u001b[39m, \u001b[33m1972\u001b[39m, \u001b[33m2100\u001b[39m, \u001b[33m1646\u001b[39m, \u001b[33m2080\u001b[39m,\n",
            "    \u001b[33m2027\u001b[39m, \u001b[33m2246\u001b[39m, \u001b[33m1807\u001b[39m, \u001b[33m2173\u001b[39m, \u001b[33m1936\u001b[39m, \u001b[33m2069\u001b[39m, \u001b[33m1698\u001b[39m, \u001b[33m2078\u001b[39m, \u001b[33m2062\u001b[39m, \u001b[33m1774\u001b[39m,\n",
            "    \u001b[33m2017\u001b[39m, \u001b[33m2106\u001b[39m, \u001b[33m2066\u001b[39m, \u001b[33m1740\u001b[39m, \u001b[33m1697\u001b[39m, \u001b[33m1773\u001b[39m, \u001b[33m1826\u001b[39m, \u001b[33m1975\u001b[39m, \u001b[33m2135\u001b[39m, \u001b[33m2034\u001b[39m,\n",
            "    ... 500 more items\n",
            "  ],\n",
            "  [\n",
            "    \u001b[33m1878\u001b[39m, \u001b[33m2117\u001b[39m, \u001b[33m1848\u001b[39m, \u001b[33m1766\u001b[39m, \u001b[33m1824\u001b[39m, \u001b[33m2146\u001b[39m, \u001b[33m1790\u001b[39m, \u001b[33m1804\u001b[39m, \u001b[33m2052\u001b[39m, \u001b[33m1756\u001b[39m,\n",
            "    \u001b[33m1720\u001b[39m, \u001b[33m1856\u001b[39m, \u001b[33m1772\u001b[39m, \u001b[33m1858\u001b[39m, \u001b[33m1863\u001b[39m, \u001b[33m1617\u001b[39m, \u001b[33m1728\u001b[39m, \u001b[33m2038\u001b[39m, \u001b[33m2112\u001b[39m, \u001b[33m1901\u001b[39m,\n",
            "    \u001b[33m1936\u001b[39m, \u001b[33m2047\u001b[39m, \u001b[33m1867\u001b[39m, \u001b[33m2053\u001b[39m, \u001b[33m2095\u001b[39m, \u001b[33m2105\u001b[39m, \u001b[33m1817\u001b[39m, \u001b[33m1938\u001b[39m, \u001b[33m1924\u001b[39m, \u001b[33m1787\u001b[39m,\n",
            "    \u001b[33m1843\u001b[39m, \u001b[33m1828\u001b[39m, \u001b[33m1852\u001b[39m, \u001b[33m1899\u001b[39m, \u001b[33m1908\u001b[39m, \u001b[33m2047\u001b[39m, \u001b[33m1823\u001b[39m, \u001b[33m1808\u001b[39m, \u001b[33m2001\u001b[39m, \u001b[33m1875\u001b[39m,\n",
            "    \u001b[33m1852\u001b[39m, \u001b[33m2099\u001b[39m, \u001b[33m1981\u001b[39m, \u001b[33m2097\u001b[39m, \u001b[33m2009\u001b[39m, \u001b[33m1918\u001b[39m, \u001b[33m1789\u001b[39m, \u001b[33m1986\u001b[39m, \u001b[33m1812\u001b[39m, \u001b[33m1934\u001b[39m,\n",
            "    \u001b[33m1784\u001b[39m, \u001b[33m1818\u001b[39m, \u001b[33m2088\u001b[39m, \u001b[33m2330\u001b[39m, \u001b[33m2058\u001b[39m, \u001b[33m1637\u001b[39m, \u001b[33m2059\u001b[39m, \u001b[33m2158\u001b[39m, \u001b[33m1771\u001b[39m, \u001b[33m2015\u001b[39m,\n",
            "    \u001b[33m1970\u001b[39m, \u001b[33m1866\u001b[39m, \u001b[33m2094\u001b[39m, \u001b[33m2101\u001b[39m, \u001b[33m1942\u001b[39m, \u001b[33m2008\u001b[39m, \u001b[33m1643\u001b[39m, \u001b[33m1785\u001b[39m, \u001b[33m1989\u001b[39m, \u001b[33m1935\u001b[39m,\n",
            "    \u001b[33m1916\u001b[39m, \u001b[33m1845\u001b[39m, \u001b[33m1852\u001b[39m, \u001b[33m1995\u001b[39m, \u001b[33m2014\u001b[39m, \u001b[33m1939\u001b[39m, \u001b[33m1984\u001b[39m, \u001b[33m1864\u001b[39m, \u001b[33m1784\u001b[39m, \u001b[33m2003\u001b[39m,\n",
            "    \u001b[33m1824\u001b[39m, \u001b[33m2010\u001b[39m, \u001b[33m1793\u001b[39m, \u001b[33m2254\u001b[39m, \u001b[33m2032\u001b[39m, \u001b[33m1783\u001b[39m, \u001b[33m1811\u001b[39m, \u001b[33m2201\u001b[39m, \u001b[33m2110\u001b[39m, \u001b[33m1930\u001b[39m,\n",
            "    \u001b[33m2072\u001b[39m, \u001b[33m1946\u001b[39m, \u001b[33m1848\u001b[39m, \u001b[33m1843\u001b[39m, \u001b[33m1705\u001b[39m, \u001b[33m1799\u001b[39m, \u001b[33m1627\u001b[39m, \u001b[33m1847\u001b[39m, \u001b[33m1951\u001b[39m, \u001b[33m1837\u001b[39m,\n",
            "    ... 500 more items\n",
            "  ],\n",
            "  [\n",
            "    \u001b[33m1893\u001b[39m, \u001b[33m2216\u001b[39m, \u001b[33m1777\u001b[39m, \u001b[33m1992\u001b[39m, \u001b[33m1798\u001b[39m, \u001b[33m2186\u001b[39m, \u001b[33m2014\u001b[39m, \u001b[33m2017\u001b[39m, \u001b[33m2015\u001b[39m, \u001b[33m1913\u001b[39m,\n",
            "    \u001b[33m1914\u001b[39m, \u001b[33m1930\u001b[39m, \u001b[33m1843\u001b[39m, \u001b[33m2040\u001b[39m, \u001b[33m1966\u001b[39m, \u001b[33m1840\u001b[39m, \u001b[33m1802\u001b[39m, \u001b[33m2261\u001b[39m, \u001b[33m1890\u001b[39m, \u001b[33m1905\u001b[39m,\n",
            "    \u001b[33m2054\u001b[39m, \u001b[33m2192\u001b[39m, \u001b[33m2149\u001b[39m, \u001b[33m2269\u001b[39m, \u001b[33m2149\u001b[39m, \u001b[33m2015\u001b[39m, \u001b[33m2024\u001b[39m, \u001b[33m1967\u001b[39m, \u001b[33m2141\u001b[39m, \u001b[33m1972\u001b[39m,\n",
            "    \u001b[33m1901\u001b[39m, \u001b[33m1867\u001b[39m, \u001b[33m1922\u001b[39m, \u001b[33m2023\u001b[39m, \u001b[33m1993\u001b[39m, \u001b[33m2162\u001b[39m, \u001b[33m1929\u001b[39m, \u001b[33m1757\u001b[39m, \u001b[33m2180\u001b[39m, \u001b[33m1906\u001b[39m,\n",
            "    \u001b[33m2165\u001b[39m, \u001b[33m2432\u001b[39m, \u001b[33m2152\u001b[39m, \u001b[33m2342\u001b[39m, \u001b[33m2155\u001b[39m, \u001b[33m1983\u001b[39m, \u001b[33m2035\u001b[39m, \u001b[33m2189\u001b[39m, \u001b[33m2084\u001b[39m, \u001b[33m1922\u001b[39m,\n",
            "    \u001b[33m1976\u001b[39m, \u001b[33m2154\u001b[39m, \u001b[33m2172\u001b[39m, \u001b[33m2372\u001b[39m, \u001b[33m2237\u001b[39m, \u001b[33m1930\u001b[39m, \u001b[33m2198\u001b[39m, \u001b[33m2082\u001b[39m, \u001b[33m1701\u001b[39m, \u001b[33m2121\u001b[39m,\n",
            "    \u001b[33m1862\u001b[39m, \u001b[33m1998\u001b[39m, \u001b[33m2294\u001b[39m, \u001b[33m2233\u001b[39m, \u001b[33m2174\u001b[39m, \u001b[33m2129\u001b[39m, \u001b[33m1744\u001b[39m, \u001b[33m1963\u001b[39m, \u001b[33m1962\u001b[39m, \u001b[33m2091\u001b[39m,\n",
            "    \u001b[33m2028\u001b[39m, \u001b[33m1947\u001b[39m, \u001b[33m2021\u001b[39m, \u001b[33m2038\u001b[39m, \u001b[33m2094\u001b[39m, \u001b[33m2007\u001b[39m, \u001b[33m2168\u001b[39m, \u001b[33m1913\u001b[39m, \u001b[33m1828\u001b[39m, \u001b[33m2167\u001b[39m,\n",
            "    \u001b[33m2106\u001b[39m, \u001b[33m2294\u001b[39m, \u001b[33m1666\u001b[39m, \u001b[33m2332\u001b[39m, \u001b[33m1957\u001b[39m, \u001b[33m2087\u001b[39m, \u001b[33m2073\u001b[39m, \u001b[33m2338\u001b[39m, \u001b[33m2212\u001b[39m, \u001b[33m2086\u001b[39m,\n",
            "    \u001b[33m2178\u001b[39m, \u001b[33m2297\u001b[39m, \u001b[33m2036\u001b[39m, \u001b[33m1925\u001b[39m, \u001b[33m1857\u001b[39m, \u001b[33m1922\u001b[39m, \u001b[33m1825\u001b[39m, \u001b[33m2005\u001b[39m, \u001b[33m2212\u001b[39m, \u001b[33m1960\u001b[39m,\n",
            "    ... 500 more items\n",
            "  ],\n",
            "  [\n",
            "    \u001b[33m2205\u001b[39m, \u001b[33m2400\u001b[39m, \u001b[33m2133\u001b[39m, \u001b[33m2242\u001b[39m, \u001b[33m2193\u001b[39m, \u001b[33m2385\u001b[39m, \u001b[33m2199\u001b[39m, \u001b[33m2177\u001b[39m, \u001b[33m2229\u001b[39m, \u001b[33m2062\u001b[39m,\n",
            "    \u001b[33m2078\u001b[39m, \u001b[33m2253\u001b[39m, \u001b[33m1986\u001b[39m, \u001b[33m2178\u001b[39m, \u001b[33m2084\u001b[39m, \u001b[33m1924\u001b[39m, \u001b[33m1878\u001b[39m, \u001b[33m2402\u001b[39m, \u001b[33m2236\u001b[39m, \u001b[33m2228\u001b[39m,\n",
            "    \u001b[33m2204\u001b[39m, \u001b[33m2360\u001b[39m, \u001b[33m2231\u001b[39m, \u001b[33m2478\u001b[39m, \u001b[33m2258\u001b[39m, \u001b[33m2268\u001b[39m, \u001b[33m2201\u001b[39m, \u001b[33m2226\u001b[39m, \u001b[33m2368\u001b[39m, \u001b[33m2274\u001b[39m,\n",
            "    \u001b[33m2121\u001b[39m, \u001b[33m2215\u001b[39m, \u001b[33m2187\u001b[39m, \u001b[33m2479\u001b[39m, \u001b[33m2206\u001b[39m, \u001b[33m2217\u001b[39m, \u001b[33m2187\u001b[39m, \u001b[33m2040\u001b[39m, \u001b[33m2302\u001b[39m, \u001b[33m2059\u001b[39m,\n",
            "    \u001b[33m2207\u001b[39m, \u001b[33m2507\u001b[39m, \u001b[33m2359\u001b[39m, \u001b[33m2623\u001b[39m, \u001b[33m2405\u001b[39m, \u001b[33m2162\u001b[39m, \u001b[33m2144\u001b[39m, \u001b[33m2151\u001b[39m, \u001b[33m2361\u001b[39m, \u001b[33m2204\u001b[39m,\n",
            "    \u001b[33m2315\u001b[39m, \u001b[33m2314\u001b[39m, \u001b[33m2390\u001b[39m, \u001b[33m2547\u001b[39m, \u001b[33m2390\u001b[39m, \u001b[33m2174\u001b[39m, \u001b[33m2381\u001b[39m, \u001b[33m2288\u001b[39m, \u001b[33m2040\u001b[39m, \u001b[33m2358\u001b[39m,\n",
            "    \u001b[33m2109\u001b[39m, \u001b[33m2367\u001b[39m, \u001b[33m2622\u001b[39m, \u001b[33m2671\u001b[39m, \u001b[33m2395\u001b[39m, \u001b[33m2322\u001b[39m, \u001b[33m1859\u001b[39m, \u001b[33m2166\u001b[39m, \u001b[33m2173\u001b[39m, \u001b[33m2307\u001b[39m,\n",
            "    \u001b[33m2071\u001b[39m, \u001b[33m2159\u001b[39m, \u001b[33m2099\u001b[39m, \u001b[33m2211\u001b[39m, \u001b[33m2235\u001b[39m, \u001b[33m2412\u001b[39m, \u001b[33m2431\u001b[39m, \u001b[33m2135\u001b[39m, \u001b[33m2170\u001b[39m, \u001b[33m2274\u001b[39m,\n",
            "    \u001b[33m2320\u001b[39m, \u001b[33m2563\u001b[39m, \u001b[33m2056\u001b[39m, \u001b[33m2610\u001b[39m, \u001b[33m2162\u001b[39m, \u001b[33m2348\u001b[39m, \u001b[33m2061\u001b[39m, \u001b[33m2446\u001b[39m, \u001b[33m2539\u001b[39m, \u001b[33m2225\u001b[39m,\n",
            "    \u001b[33m2345\u001b[39m, \u001b[33m2381\u001b[39m, \u001b[33m2234\u001b[39m, \u001b[33m1931\u001b[39m, \u001b[33m1926\u001b[39m, \u001b[33m2038\u001b[39m, \u001b[33m2116\u001b[39m, \u001b[33m2169\u001b[39m, \u001b[33m2202\u001b[39m, \u001b[33m2346\u001b[39m,\n",
            "    ... 500 more items\n",
            "  ],\n",
            "  [\n",
            "    \u001b[33m1968\u001b[39m, \u001b[33m1845\u001b[39m, \u001b[33m1765\u001b[39m, \u001b[33m1897\u001b[39m, \u001b[33m1714\u001b[39m, \u001b[33m1827\u001b[39m, \u001b[33m1836\u001b[39m, \u001b[33m1851\u001b[39m, \u001b[33m1865\u001b[39m, \u001b[33m1685\u001b[39m,\n",
            "    \u001b[33m1529\u001b[39m, \u001b[33m1776\u001b[39m, \u001b[33m1780\u001b[39m, \u001b[33m1749\u001b[39m, \u001b[33m1883\u001b[39m, \u001b[33m1748\u001b[39m, \u001b[33m1603\u001b[39m, \u001b[33m1996\u001b[39m, \u001b[33m1766\u001b[39m, \u001b[33m1760\u001b[39m,\n",
            "    \u001b[33m2019\u001b[39m, \u001b[33m2088\u001b[39m, \u001b[33m1797\u001b[39m, \u001b[33m2063\u001b[39m, \u001b[33m1955\u001b[39m, \u001b[33m1888\u001b[39m, \u001b[33m1819\u001b[39m, \u001b[33m1780\u001b[39m, \u001b[33m1904\u001b[39m, \u001b[33m1783\u001b[39m,\n",
            "    \u001b[33m1881\u001b[39m, \u001b[33m1796\u001b[39m, \u001b[33m1798\u001b[39m, \u001b[33m1776\u001b[39m, \u001b[33m1893\u001b[39m, \u001b[33m1928\u001b[39m, \u001b[33m1613\u001b[39m, \u001b[33m1820\u001b[39m, \u001b[33m1919\u001b[39m, \u001b[33m1624\u001b[39m,\n",
            "    \u001b[33m1803\u001b[39m, \u001b[33m2180\u001b[39m, \u001b[33m1915\u001b[39m, \u001b[33m2012\u001b[39m, \u001b[33m1913\u001b[39m, \u001b[33m1650\u001b[39m, \u001b[33m1785\u001b[39m, \u001b[33m1756\u001b[39m, \u001b[33m1858\u001b[39m, \u001b[33m1914\u001b[39m,\n",
            "    \u001b[33m1548\u001b[39m, \u001b[33m1723\u001b[39m, \u001b[33m2068\u001b[39m, \u001b[33m2235\u001b[39m, \u001b[33m1925\u001b[39m, \u001b[33m1829\u001b[39m, \u001b[33m2021\u001b[39m, \u001b[33m1878\u001b[39m, \u001b[33m1687\u001b[39m, \u001b[33m2031\u001b[39m,\n",
            "    \u001b[33m1869\u001b[39m, \u001b[33m1891\u001b[39m, \u001b[33m2230\u001b[39m, \u001b[33m2057\u001b[39m, \u001b[33m1941\u001b[39m, \u001b[33m2002\u001b[39m, \u001b[33m1664\u001b[39m, \u001b[33m1836\u001b[39m, \u001b[33m1861\u001b[39m, \u001b[33m1741\u001b[39m,\n",
            "    \u001b[33m1815\u001b[39m, \u001b[33m1904\u001b[39m, \u001b[33m1911\u001b[39m, \u001b[33m1923\u001b[39m, \u001b[33m1880\u001b[39m, \u001b[33m2029\u001b[39m, \u001b[33m1965\u001b[39m, \u001b[33m1731\u001b[39m, \u001b[33m1606\u001b[39m, \u001b[33m1976\u001b[39m,\n",
            "    \u001b[33m1828\u001b[39m, \u001b[33m1987\u001b[39m, \u001b[33m1494\u001b[39m, \u001b[33m2027\u001b[39m, \u001b[33m1841\u001b[39m, \u001b[33m1842\u001b[39m, \u001b[33m1786\u001b[39m, \u001b[33m2141\u001b[39m, \u001b[33m2066\u001b[39m, \u001b[33m1714\u001b[39m,\n",
            "    \u001b[33m1996\u001b[39m, \u001b[33m2068\u001b[39m, \u001b[33m1843\u001b[39m, \u001b[33m1750\u001b[39m, \u001b[33m1712\u001b[39m, \u001b[33m1784\u001b[39m, \u001b[33m1606\u001b[39m, \u001b[33m1805\u001b[39m, \u001b[33m1888\u001b[39m, \u001b[33m2030\u001b[39m,\n",
            "    ... 500 more items\n",
            "  ],\n",
            "  [\n",
            "    \u001b[33m2130\u001b[39m, \u001b[33m2129\u001b[39m, \u001b[33m1965\u001b[39m, \u001b[33m2114\u001b[39m, \u001b[33m1944\u001b[39m, \u001b[33m2071\u001b[39m, \u001b[33m1896\u001b[39m, \u001b[33m1807\u001b[39m, \u001b[33m1956\u001b[39m, \u001b[33m1875\u001b[39m,\n",
            "    \u001b[33m1789\u001b[39m, \u001b[33m1938\u001b[39m, \u001b[33m1996\u001b[39m, \u001b[33m2007\u001b[39m, \u001b[33m1814\u001b[39m, \u001b[33m1700\u001b[39m, \u001b[33m1777\u001b[39m, \u001b[33m2298\u001b[39m, \u001b[33m1893\u001b[39m, \u001b[33m1944\u001b[39m,\n",
            "    \u001b[33m2094\u001b[39m, \u001b[33m2264\u001b[39m, \u001b[33m2156\u001b[39m, \u001b[33m2243\u001b[39m, \u001b[33m2126\u001b[39m, \u001b[33m1941\u001b[39m, \u001b[33m2111\u001b[39m, \u001b[33m1916\u001b[39m, \u001b[33m2010\u001b[39m, \u001b[33m1906\u001b[39m,\n",
            "    \u001b[33m2109\u001b[39m, \u001b[33m1891\u001b[39m, \u001b[33m1950\u001b[39m, \u001b[33m1980\u001b[39m, \u001b[33m1844\u001b[39m, \u001b[33m2184\u001b[39m, \u001b[33m1789\u001b[39m, \u001b[33m1830\u001b[39m, \u001b[33m2102\u001b[39m, \u001b[33m1994\u001b[39m,\n",
            "    \u001b[33m2000\u001b[39m, \u001b[33m2186\u001b[39m, \u001b[33m2036\u001b[39m, \u001b[33m2430\u001b[39m, \u001b[33m2209\u001b[39m, \u001b[33m1938\u001b[39m, \u001b[33m1958\u001b[39m, \u001b[33m1974\u001b[39m, \u001b[33m1990\u001b[39m, \u001b[33m1904\u001b[39m,\n",
            "    \u001b[33m1847\u001b[39m, \u001b[33m1926\u001b[39m, \u001b[33m2176\u001b[39m, \u001b[33m2358\u001b[39m, \u001b[33m2210\u001b[39m, \u001b[33m1797\u001b[39m, \u001b[33m2164\u001b[39m, \u001b[33m1981\u001b[39m, \u001b[33m1772\u001b[39m, \u001b[33m2189\u001b[39m,\n",
            "    \u001b[33m2009\u001b[39m, \u001b[33m2045\u001b[39m, \u001b[33m2407\u001b[39m, \u001b[33m2373\u001b[39m, \u001b[33m2196\u001b[39m, \u001b[33m2079\u001b[39m, \u001b[33m1813\u001b[39m, \u001b[33m1916\u001b[39m, \u001b[33m1918\u001b[39m, \u001b[33m1987\u001b[39m,\n",
            "    \u001b[33m1834\u001b[39m, \u001b[33m2166\u001b[39m, \u001b[33m1863\u001b[39m, \u001b[33m1988\u001b[39m, \u001b[33m2048\u001b[39m, \u001b[33m2031\u001b[39m, \u001b[33m2126\u001b[39m, \u001b[33m1912\u001b[39m, \u001b[33m1798\u001b[39m, \u001b[33m2185\u001b[39m,\n",
            "    \u001b[33m2188\u001b[39m, \u001b[33m2195\u001b[39m, \u001b[33m1729\u001b[39m, \u001b[33m2316\u001b[39m, \u001b[33m2001\u001b[39m, \u001b[33m2021\u001b[39m, \u001b[33m1866\u001b[39m, \u001b[33m2286\u001b[39m, \u001b[33m2242\u001b[39m, \u001b[33m2049\u001b[39m,\n",
            "    \u001b[33m2072\u001b[39m, \u001b[33m2012\u001b[39m, \u001b[33m1953\u001b[39m, \u001b[33m1730\u001b[39m, \u001b[33m1761\u001b[39m, \u001b[33m1951\u001b[39m, \u001b[33m1912\u001b[39m, \u001b[33m1886\u001b[39m, \u001b[33m2059\u001b[39m, \u001b[33m1989\u001b[39m,\n",
            "    ... 500 more items\n",
            "  ],\n",
            "  [\n",
            "    \u001b[33m1896\u001b[39m, \u001b[33m2076\u001b[39m, \u001b[33m2075\u001b[39m, \u001b[33m1803\u001b[39m, \u001b[33m1823\u001b[39m, \u001b[33m2052\u001b[39m, \u001b[33m2003\u001b[39m, \u001b[33m1831\u001b[39m, \u001b[33m2103\u001b[39m, \u001b[33m1803\u001b[39m,\n",
            "    \u001b[33m1996\u001b[39m, \u001b[33m2051\u001b[39m, \u001b[33m1962\u001b[39m, \u001b[33m1896\u001b[39m, \u001b[33m1866\u001b[39m, \u001b[33m1912\u001b[39m, \u001b[33m1753\u001b[39m, \u001b[33m2312\u001b[39m, \u001b[33m1846\u001b[39m, \u001b[33m1849\u001b[39m,\n",
            "    \u001b[33m2051\u001b[39m, \u001b[33m2172\u001b[39m, \u001b[33m2064\u001b[39m, \u001b[33m2290\u001b[39m, \u001b[33m2004\u001b[39m, \u001b[33m2113\u001b[39m, \u001b[33m1926\u001b[39m, \u001b[33m1806\u001b[39m, \u001b[33m1891\u001b[39m, \u001b[33m1925\u001b[39m,\n",
            "    \u001b[33m1908\u001b[39m, \u001b[33m1879\u001b[39m, \u001b[33m1760\u001b[39m, \u001b[33m2129\u001b[39m, \u001b[33m2056\u001b[39m, \u001b[33m2157\u001b[39m, \u001b[33m1791\u001b[39m, \u001b[33m1739\u001b[39m, \u001b[33m2173\u001b[39m, \u001b[33m1930\u001b[39m,\n",
            "    \u001b[33m1825\u001b[39m, \u001b[33m2201\u001b[39m, \u001b[33m1991\u001b[39m, \u001b[33m2217\u001b[39m, \u001b[33m2055\u001b[39m, \u001b[33m1819\u001b[39m, \u001b[33m2050\u001b[39m, \u001b[33m1953\u001b[39m, \u001b[33m1870\u001b[39m, \u001b[33m1952\u001b[39m,\n",
            "    \u001b[33m1944\u001b[39m, \u001b[33m1934\u001b[39m, \u001b[33m2125\u001b[39m, \u001b[33m2387\u001b[39m, \u001b[33m2224\u001b[39m, \u001b[33m1728\u001b[39m, \u001b[33m1992\u001b[39m, \u001b[33m2110\u001b[39m, \u001b[33m1647\u001b[39m, \u001b[33m2086\u001b[39m,\n",
            "    \u001b[33m1841\u001b[39m, \u001b[33m2077\u001b[39m, \u001b[33m2225\u001b[39m, \u001b[33m2214\u001b[39m, \u001b[33m2089\u001b[39m, \u001b[33m1996\u001b[39m, \u001b[33m1699\u001b[39m, \u001b[33m1897\u001b[39m, \u001b[33m1934\u001b[39m, \u001b[33m1977\u001b[39m,\n",
            "    \u001b[33m1781\u001b[39m, \u001b[33m2025\u001b[39m, \u001b[33m1902\u001b[39m, \u001b[33m1972\u001b[39m, \u001b[33m1928\u001b[39m, \u001b[33m2001\u001b[39m, \u001b[33m2174\u001b[39m, \u001b[33m1959\u001b[39m, \u001b[33m1796\u001b[39m, \u001b[33m1839\u001b[39m,\n",
            "    \u001b[33m2011\u001b[39m, \u001b[33m2290\u001b[39m, \u001b[33m1862\u001b[39m, \u001b[33m2333\u001b[39m, \u001b[33m1800\u001b[39m, \u001b[33m1866\u001b[39m, \u001b[33m1758\u001b[39m, \u001b[33m2174\u001b[39m, \u001b[33m2100\u001b[39m, \u001b[33m1965\u001b[39m,\n",
            "    \u001b[33m2060\u001b[39m, \u001b[33m2159\u001b[39m, \u001b[33m1991\u001b[39m, \u001b[33m1642\u001b[39m, \u001b[33m1743\u001b[39m, \u001b[33m1911\u001b[39m, \u001b[33m1784\u001b[39m, \u001b[33m1945\u001b[39m, \u001b[33m2045\u001b[39m, \u001b[33m1924\u001b[39m,\n",
            "    ... 500 more items\n",
            "  ],\n",
            "  [\n",
            "    \u001b[33m2057\u001b[39m, \u001b[33m2138\u001b[39m, \u001b[33m2093\u001b[39m, \u001b[33m1934\u001b[39m, \u001b[33m1954\u001b[39m, \u001b[33m1975\u001b[39m, \u001b[33m1854\u001b[39m, \u001b[33m1974\u001b[39m, \u001b[33m1954\u001b[39m, \u001b[33m1768\u001b[39m,\n",
            "    \u001b[33m1888\u001b[39m, \u001b[33m2046\u001b[39m, \u001b[33m2052\u001b[39m, \u001b[33m1963\u001b[39m, \u001b[33m2102\u001b[39m, \u001b[33m1925\u001b[39m, \u001b[33m1690\u001b[39m, \u001b[33m2128\u001b[39m, \u001b[33m1947\u001b[39m, \u001b[33m1957\u001b[39m,\n",
            "    \u001b[33m1959\u001b[39m, \u001b[33m2165\u001b[39m, \u001b[33m2000\u001b[39m, \u001b[33m2204\u001b[39m, \u001b[33m2266\u001b[39m, \u001b[33m1996\u001b[39m, \u001b[33m2169\u001b[39m, \u001b[33m1917\u001b[39m, \u001b[33m2070\u001b[39m, \u001b[33m1919\u001b[39m,\n",
            "    \u001b[33m1966\u001b[39m, \u001b[33m1926\u001b[39m, \u001b[33m1993\u001b[39m, \u001b[33m2032\u001b[39m, \u001b[33m1907\u001b[39m, \u001b[33m2007\u001b[39m, \u001b[33m1879\u001b[39m, \u001b[33m1975\u001b[39m, \u001b[33m2025\u001b[39m, \u001b[33m2108\u001b[39m,\n",
            "    \u001b[33m2007\u001b[39m, \u001b[33m2229\u001b[39m, \u001b[33m2068\u001b[39m, \u001b[33m2131\u001b[39m, \u001b[33m2349\u001b[39m, \u001b[33m1905\u001b[39m, \u001b[33m1971\u001b[39m, \u001b[33m2012\u001b[39m, \u001b[33m1924\u001b[39m, \u001b[33m1977\u001b[39m,\n",
            "    \u001b[33m1960\u001b[39m, \u001b[33m1992\u001b[39m, \u001b[33m2123\u001b[39m, \u001b[33m2341\u001b[39m, \u001b[33m2129\u001b[39m, \u001b[33m1890\u001b[39m, \u001b[33m2138\u001b[39m, \u001b[33m2072\u001b[39m, \u001b[33m1828\u001b[39m, \u001b[33m2137\u001b[39m,\n",
            "    \u001b[33m1979\u001b[39m, \u001b[33m2139\u001b[39m, \u001b[33m2295\u001b[39m, \u001b[33m2122\u001b[39m, \u001b[33m2149\u001b[39m, \u001b[33m2129\u001b[39m, \u001b[33m1840\u001b[39m, \u001b[33m2005\u001b[39m, \u001b[33m1834\u001b[39m, \u001b[33m2051\u001b[39m,\n",
            "    \u001b[33m1789\u001b[39m, \u001b[33m1864\u001b[39m, \u001b[33m1878\u001b[39m, \u001b[33m1960\u001b[39m, \u001b[33m2009\u001b[39m, \u001b[33m2106\u001b[39m, \u001b[33m2204\u001b[39m, \u001b[33m1896\u001b[39m, \u001b[33m1742\u001b[39m, \u001b[33m2198\u001b[39m,\n",
            "    \u001b[33m1957\u001b[39m, \u001b[33m2246\u001b[39m, \u001b[33m1760\u001b[39m, \u001b[33m2419\u001b[39m, \u001b[33m2030\u001b[39m, \u001b[33m2025\u001b[39m, \u001b[33m1951\u001b[39m, \u001b[33m2135\u001b[39m, \u001b[33m2015\u001b[39m, \u001b[33m1836\u001b[39m,\n",
            "    \u001b[33m2082\u001b[39m, \u001b[33m2174\u001b[39m, \u001b[33m1878\u001b[39m, \u001b[33m1699\u001b[39m, \u001b[33m1726\u001b[39m, \u001b[33m1905\u001b[39m, \u001b[33m1789\u001b[39m, \u001b[33m1898\u001b[39m, \u001b[33m2061\u001b[39m, \u001b[33m1904\u001b[39m,\n",
            "    ... 500 more items\n",
            "  ],\n",
            "  [\n",
            "    \u001b[33m2050\u001b[39m, \u001b[33m2186\u001b[39m, \u001b[33m2002\u001b[39m, \u001b[33m1946\u001b[39m, \u001b[33m1916\u001b[39m, \u001b[33m2236\u001b[39m, \u001b[33m1996\u001b[39m, \u001b[33m1923\u001b[39m, \u001b[33m2222\u001b[39m, \u001b[33m1822\u001b[39m,\n",
            "    \u001b[33m1954\u001b[39m, \u001b[33m1976\u001b[39m, \u001b[33m1872\u001b[39m, \u001b[33m2041\u001b[39m, \u001b[33m2102\u001b[39m, \u001b[33m1697\u001b[39m, \u001b[33m1673\u001b[39m, \u001b[33m2151\u001b[39m, \u001b[33m2099\u001b[39m, \u001b[33m1985\u001b[39m,\n",
            "    \u001b[33m2091\u001b[39m, \u001b[33m2299\u001b[39m, \u001b[33m2047\u001b[39m, \u001b[33m2306\u001b[39m, \u001b[33m2063\u001b[39m, \u001b[33m2047\u001b[39m, \u001b[33m2075\u001b[39m, \u001b[33m1940\u001b[39m, \u001b[33m2047\u001b[39m, \u001b[33m1901\u001b[39m,\n",
            "    \u001b[33m2088\u001b[39m, \u001b[33m1974\u001b[39m, \u001b[33m1894\u001b[39m, \u001b[33m2285\u001b[39m, \u001b[33m2069\u001b[39m, \u001b[33m2122\u001b[39m, \u001b[33m1942\u001b[39m, \u001b[33m1795\u001b[39m, \u001b[33m2124\u001b[39m, \u001b[33m2125\u001b[39m,\n",
            "    \u001b[33m1987\u001b[39m, \u001b[33m2172\u001b[39m, \u001b[33m2176\u001b[39m, \u001b[33m2371\u001b[39m, \u001b[33m2211\u001b[39m, \u001b[33m2173\u001b[39m, \u001b[33m1887\u001b[39m, \u001b[33m1993\u001b[39m, \u001b[33m2044\u001b[39m, \u001b[33m1903\u001b[39m,\n",
            "    \u001b[33m1937\u001b[39m, \u001b[33m1866\u001b[39m, \u001b[33m2205\u001b[39m, \u001b[33m2489\u001b[39m, \u001b[33m2295\u001b[39m, \u001b[33m1856\u001b[39m, \u001b[33m2136\u001b[39m, \u001b[33m2306\u001b[39m, \u001b[33m1892\u001b[39m, \u001b[33m2118\u001b[39m,\n",
            "    \u001b[33m2029\u001b[39m, \u001b[33m2201\u001b[39m, \u001b[33m2391\u001b[39m, \u001b[33m2316\u001b[39m, \u001b[33m2154\u001b[39m, \u001b[33m2182\u001b[39m, \u001b[33m1850\u001b[39m, \u001b[33m2084\u001b[39m, \u001b[33m2130\u001b[39m, \u001b[33m2039\u001b[39m,\n",
            "    \u001b[33m2019\u001b[39m, \u001b[33m2006\u001b[39m, \u001b[33m1944\u001b[39m, \u001b[33m2011\u001b[39m, \u001b[33m2155\u001b[39m, \u001b[33m2103\u001b[39m, \u001b[33m2370\u001b[39m, \u001b[33m2041\u001b[39m, \u001b[33m1899\u001b[39m, \u001b[33m2102\u001b[39m,\n",
            "    \u001b[33m2078\u001b[39m, \u001b[33m2272\u001b[39m, \u001b[33m1773\u001b[39m, \u001b[33m2452\u001b[39m, \u001b[33m1914\u001b[39m, \u001b[33m1934\u001b[39m, \u001b[33m2039\u001b[39m, \u001b[33m2121\u001b[39m, \u001b[33m2274\u001b[39m, \u001b[33m2027\u001b[39m,\n",
            "    \u001b[33m2226\u001b[39m, \u001b[33m2265\u001b[39m, \u001b[33m2094\u001b[39m, \u001b[33m1880\u001b[39m, \u001b[33m1699\u001b[39m, \u001b[33m1867\u001b[39m, \u001b[33m1890\u001b[39m, \u001b[33m1875\u001b[39m, \u001b[33m2144\u001b[39m, \u001b[33m1949\u001b[39m,\n",
            "    ... 500 more items\n",
            "  ],\n",
            "  [\n",
            "    \u001b[33m1993\u001b[39m, \u001b[33m2097\u001b[39m, \u001b[33m2048\u001b[39m, \u001b[33m2051\u001b[39m, \u001b[33m1948\u001b[39m, \u001b[33m2158\u001b[39m, \u001b[33m2251\u001b[39m, \u001b[33m2021\u001b[39m, \u001b[33m2020\u001b[39m, \u001b[33m2005\u001b[39m,\n",
            "    \u001b[33m1856\u001b[39m, \u001b[33m2334\u001b[39m, \u001b[33m2134\u001b[39m, \u001b[33m2158\u001b[39m, \u001b[33m2108\u001b[39m, \u001b[33m1818\u001b[39m, \u001b[33m1699\u001b[39m, \u001b[33m2362\u001b[39m, \u001b[33m2028\u001b[39m, \u001b[33m2003\u001b[39m,\n",
            "    \u001b[33m2232\u001b[39m, \u001b[33m2212\u001b[39m, \u001b[33m2083\u001b[39m, \u001b[33m2392\u001b[39m, \u001b[33m2293\u001b[39m, \u001b[33m2127\u001b[39m, \u001b[33m2114\u001b[39m, \u001b[33m1979\u001b[39m, \u001b[33m2172\u001b[39m, \u001b[33m2202\u001b[39m,\n",
            "    \u001b[33m2025\u001b[39m, \u001b[33m2080\u001b[39m, \u001b[33m2057\u001b[39m, \u001b[33m2301\u001b[39m, \u001b[33m2039\u001b[39m, \u001b[33m2156\u001b[39m, \u001b[33m1954\u001b[39m, \u001b[33m1990\u001b[39m, \u001b[33m2129\u001b[39m, \u001b[33m2003\u001b[39m,\n",
            "    \u001b[33m1902\u001b[39m, \u001b[33m2490\u001b[39m, \u001b[33m2183\u001b[39m, \u001b[33m2517\u001b[39m, \u001b[33m2300\u001b[39m, \u001b[33m1983\u001b[39m, \u001b[33m1943\u001b[39m, \u001b[33m2147\u001b[39m, \u001b[33m2134\u001b[39m, \u001b[33m2220\u001b[39m,\n",
            "    \u001b[33m2014\u001b[39m, \u001b[33m2143\u001b[39m, \u001b[33m2235\u001b[39m, \u001b[33m2456\u001b[39m, \u001b[33m2285\u001b[39m, \u001b[33m1888\u001b[39m, \u001b[33m2327\u001b[39m, \u001b[33m2244\u001b[39m, \u001b[33m1837\u001b[39m, \u001b[33m2243\u001b[39m,\n",
            "    \u001b[33m1911\u001b[39m, \u001b[33m2108\u001b[39m, \u001b[33m2415\u001b[39m, \u001b[33m2461\u001b[39m, \u001b[33m2371\u001b[39m, \u001b[33m2203\u001b[39m, \u001b[33m1850\u001b[39m, \u001b[33m1965\u001b[39m, \u001b[33m2084\u001b[39m, \u001b[33m2064\u001b[39m,\n",
            "    \u001b[33m1992\u001b[39m, \u001b[33m2023\u001b[39m, \u001b[33m2110\u001b[39m, \u001b[33m2029\u001b[39m, \u001b[33m2260\u001b[39m, \u001b[33m2170\u001b[39m, \u001b[33m2175\u001b[39m, \u001b[33m2045\u001b[39m, \u001b[33m1853\u001b[39m, \u001b[33m2258\u001b[39m,\n",
            "    \u001b[33m2153\u001b[39m, \u001b[33m2484\u001b[39m, \u001b[33m2026\u001b[39m, \u001b[33m2425\u001b[39m, \u001b[33m2225\u001b[39m, \u001b[33m2109\u001b[39m, \u001b[33m1828\u001b[39m, \u001b[33m2208\u001b[39m, \u001b[33m2257\u001b[39m, \u001b[33m1981\u001b[39m,\n",
            "    \u001b[33m2085\u001b[39m, \u001b[33m2031\u001b[39m, \u001b[33m2073\u001b[39m, \u001b[33m1868\u001b[39m, \u001b[33m1777\u001b[39m, \u001b[33m1957\u001b[39m, \u001b[33m1989\u001b[39m, \u001b[33m2112\u001b[39m, \u001b[33m2181\u001b[39m, \u001b[33m2089\u001b[39m,\n",
            "    ... 500 more items\n",
            "  ],\n",
            "  [\n",
            "    \u001b[33m1892\u001b[39m, \u001b[33m2265\u001b[39m, \u001b[33m2035\u001b[39m, \u001b[33m2272\u001b[39m, \u001b[33m2065\u001b[39m, \u001b[33m2275\u001b[39m, \u001b[33m1997\u001b[39m, \u001b[33m1973\u001b[39m, \u001b[33m2138\u001b[39m, \u001b[33m1939\u001b[39m,\n",
            "    \u001b[33m1979\u001b[39m, \u001b[33m2034\u001b[39m, \u001b[33m2014\u001b[39m, \u001b[33m1942\u001b[39m, \u001b[33m2147\u001b[39m, \u001b[33m1839\u001b[39m, \u001b[33m1654\u001b[39m, \u001b[33m2325\u001b[39m, \u001b[33m1977\u001b[39m, \u001b[33m2061\u001b[39m,\n",
            "    \u001b[33m2208\u001b[39m, \u001b[33m2154\u001b[39m, \u001b[33m1926\u001b[39m, \u001b[33m2516\u001b[39m, \u001b[33m2195\u001b[39m, \u001b[33m2151\u001b[39m, \u001b[33m2172\u001b[39m, \u001b[33m1967\u001b[39m, \u001b[33m2323\u001b[39m, \u001b[33m2032\u001b[39m,\n",
            "    \u001b[33m2186\u001b[39m, \u001b[33m1946\u001b[39m, \u001b[33m2113\u001b[39m, \u001b[33m2237\u001b[39m, \u001b[33m2177\u001b[39m, \u001b[33m2095\u001b[39m, \u001b[33m1907\u001b[39m, \u001b[33m2105\u001b[39m, \u001b[33m2081\u001b[39m, \u001b[33m1913\u001b[39m,\n",
            "    \u001b[33m1950\u001b[39m, \u001b[33m2360\u001b[39m, \u001b[33m2042\u001b[39m, \u001b[33m2435\u001b[39m, \u001b[33m2123\u001b[39m, \u001b[33m2007\u001b[39m, \u001b[33m2118\u001b[39m, \u001b[33m2059\u001b[39m, \u001b[33m1971\u001b[39m, \u001b[33m2203\u001b[39m,\n",
            "    \u001b[33m1996\u001b[39m, \u001b[33m2217\u001b[39m, \u001b[33m2305\u001b[39m, \u001b[33m2413\u001b[39m, \u001b[33m2082\u001b[39m, \u001b[33m2198\u001b[39m, \u001b[33m2199\u001b[39m, \u001b[33m2272\u001b[39m, \u001b[33m1919\u001b[39m, \u001b[33m2190\u001b[39m,\n",
            "    \u001b[33m2011\u001b[39m, \u001b[33m2265\u001b[39m, \u001b[33m2387\u001b[39m, \u001b[33m2313\u001b[39m, \u001b[33m2196\u001b[39m, \u001b[33m2181\u001b[39m, \u001b[33m1888\u001b[39m, \u001b[33m2104\u001b[39m, \u001b[33m2037\u001b[39m, \u001b[33m2017\u001b[39m,\n",
            "    \u001b[33m1934\u001b[39m, \u001b[33m1902\u001b[39m, \u001b[33m1975\u001b[39m, \u001b[33m2253\u001b[39m, \u001b[33m2210\u001b[39m, \u001b[33m2216\u001b[39m, \u001b[33m2212\u001b[39m, \u001b[33m2007\u001b[39m, \u001b[33m2077\u001b[39m, \u001b[33m2080\u001b[39m,\n",
            "    \u001b[33m2032\u001b[39m, \u001b[33m2221\u001b[39m, \u001b[33m1925\u001b[39m, \u001b[33m2404\u001b[39m, \u001b[33m2051\u001b[39m, \u001b[33m2070\u001b[39m, \u001b[33m2020\u001b[39m, \u001b[33m2246\u001b[39m, \u001b[33m2373\u001b[39m, \u001b[33m2068\u001b[39m,\n",
            "    \u001b[33m2169\u001b[39m, \u001b[33m2288\u001b[39m, \u001b[33m2067\u001b[39m, \u001b[33m1845\u001b[39m, \u001b[33m1951\u001b[39m, \u001b[33m2054\u001b[39m, \u001b[33m2008\u001b[39m, \u001b[33m2027\u001b[39m, \u001b[33m2047\u001b[39m, \u001b[33m2301\u001b[39m,\n",
            "    ... 500 more items\n",
            "  ],\n",
            "  [\n",
            "    \u001b[33m2078\u001b[39m, \u001b[33m2299\u001b[39m, \u001b[33m2059\u001b[39m, \u001b[33m2134\u001b[39m, \u001b[33m1942\u001b[39m, \u001b[33m2240\u001b[39m, \u001b[33m2050\u001b[39m, \u001b[33m1920\u001b[39m, \u001b[33m2035\u001b[39m, \u001b[33m1897\u001b[39m,\n",
            "    \u001b[33m1951\u001b[39m, \u001b[33m2097\u001b[39m, \u001b[33m2096\u001b[39m, \u001b[33m2157\u001b[39m, \u001b[33m1963\u001b[39m, \u001b[33m1760\u001b[39m, \u001b[33m1763\u001b[39m, \u001b[33m2253\u001b[39m, \u001b[33m1985\u001b[39m, \u001b[33m2039\u001b[39m,\n",
            "    \u001b[33m2014\u001b[39m, \u001b[33m2164\u001b[39m, \u001b[33m2016\u001b[39m, \u001b[33m2380\u001b[39m, \u001b[33m2176\u001b[39m, \u001b[33m1955\u001b[39m, \u001b[33m2185\u001b[39m, \u001b[33m2058\u001b[39m, \u001b[33m2357\u001b[39m, \u001b[33m2068\u001b[39m,\n",
            "    \u001b[33m1969\u001b[39m, \u001b[33m1853\u001b[39m, \u001b[33m2021\u001b[39m, \u001b[33m2113\u001b[39m, \u001b[33m2088\u001b[39m, \u001b[33m2060\u001b[39m, \u001b[33m1887\u001b[39m, \u001b[33m1939\u001b[39m, \u001b[33m2116\u001b[39m, \u001b[33m2044\u001b[39m,\n",
            "    \u001b[33m2075\u001b[39m, \u001b[33m2388\u001b[39m, \u001b[33m2132\u001b[39m, \u001b[33m2372\u001b[39m, \u001b[33m2235\u001b[39m, \u001b[33m2124\u001b[39m, \u001b[33m2043\u001b[39m, \u001b[33m2083\u001b[39m, \u001b[33m1980\u001b[39m, \u001b[33m2158\u001b[39m,\n",
            "    \u001b[33m2069\u001b[39m, \u001b[33m2142\u001b[39m, \u001b[33m2263\u001b[39m, \u001b[33m2349\u001b[39m, \u001b[33m2295\u001b[39m, \u001b[33m2148\u001b[39m, \u001b[33m2158\u001b[39m, \u001b[33m2048\u001b[39m, \u001b[33m1929\u001b[39m, \u001b[33m2262\u001b[39m,\n",
            "    \u001b[33m1874\u001b[39m, \u001b[33m2124\u001b[39m, \u001b[33m2317\u001b[39m, \u001b[33m2203\u001b[39m, \u001b[33m2201\u001b[39m, \u001b[33m2289\u001b[39m, \u001b[33m1949\u001b[39m, \u001b[33m2113\u001b[39m, \u001b[33m2059\u001b[39m, \u001b[33m1971\u001b[39m,\n",
            "    \u001b[33m1942\u001b[39m, \u001b[33m2047\u001b[39m, \u001b[33m1962\u001b[39m, \u001b[33m2033\u001b[39m, \u001b[33m2115\u001b[39m, \u001b[33m2178\u001b[39m, \u001b[33m2231\u001b[39m, \u001b[33m2072\u001b[39m, \u001b[33m1895\u001b[39m, \u001b[33m2138\u001b[39m,\n",
            "    \u001b[33m1939\u001b[39m, \u001b[33m2326\u001b[39m, \u001b[33m1967\u001b[39m, \u001b[33m2163\u001b[39m, \u001b[33m2185\u001b[39m, \u001b[33m2100\u001b[39m, \u001b[33m1985\u001b[39m, \u001b[33m2334\u001b[39m, \u001b[33m2388\u001b[39m, \u001b[33m2055\u001b[39m,\n",
            "    \u001b[33m2231\u001b[39m, \u001b[33m2349\u001b[39m, \u001b[33m2028\u001b[39m, \u001b[33m1950\u001b[39m, \u001b[33m1949\u001b[39m, \u001b[33m2026\u001b[39m, \u001b[33m2037\u001b[39m, \u001b[33m2119\u001b[39m, \u001b[33m2272\u001b[39m, \u001b[33m2166\u001b[39m,\n",
            "    ... 500 more items\n",
            "  ],\n",
            "  [\n",
            "    \u001b[33m1750\u001b[39m, \u001b[33m1841\u001b[39m, \u001b[33m1700\u001b[39m, \u001b[33m1730\u001b[39m, \u001b[33m1631\u001b[39m, \u001b[33m1740\u001b[39m, \u001b[33m1618\u001b[39m, \u001b[33m1647\u001b[39m, \u001b[33m1706\u001b[39m, \u001b[33m1528\u001b[39m,\n",
            "    \u001b[33m1512\u001b[39m, \u001b[33m1620\u001b[39m, \u001b[33m1656\u001b[39m, \u001b[33m1663\u001b[39m, \u001b[33m1581\u001b[39m, \u001b[33m1480\u001b[39m, \u001b[33m1459\u001b[39m, \u001b[33m1892\u001b[39m, \u001b[33m1520\u001b[39m, \u001b[33m1721\u001b[39m,\n",
            "    \u001b[33m1875\u001b[39m, \u001b[33m1791\u001b[39m, \u001b[33m1804\u001b[39m, \u001b[33m2000\u001b[39m, \u001b[33m1674\u001b[39m, \u001b[33m1642\u001b[39m, \u001b[33m1541\u001b[39m, \u001b[33m1759\u001b[39m, \u001b[33m1617\u001b[39m, \u001b[33m1633\u001b[39m,\n",
            "    \u001b[33m1711\u001b[39m, \u001b[33m1496\u001b[39m, \u001b[33m1579\u001b[39m, \u001b[33m1873\u001b[39m, \u001b[33m1759\u001b[39m, \u001b[33m1739\u001b[39m, \u001b[33m1554\u001b[39m, \u001b[33m1672\u001b[39m, \u001b[33m1747\u001b[39m, \u001b[33m1534\u001b[39m,\n",
            "    \u001b[33m1546\u001b[39m, \u001b[33m1988\u001b[39m, \u001b[33m1689\u001b[39m, \u001b[33m1701\u001b[39m, \u001b[33m1815\u001b[39m, \u001b[33m1592\u001b[39m, \u001b[33m1550\u001b[39m, \u001b[33m1714\u001b[39m, \u001b[33m1656\u001b[39m, \u001b[33m1736\u001b[39m,\n",
            "    \u001b[33m1464\u001b[39m, \u001b[33m1671\u001b[39m, \u001b[33m1953\u001b[39m, \u001b[33m2021\u001b[39m, \u001b[33m1821\u001b[39m, \u001b[33m1719\u001b[39m, \u001b[33m1699\u001b[39m, \u001b[33m1783\u001b[39m, \u001b[33m1558\u001b[39m, \u001b[33m1853\u001b[39m,\n",
            "    \u001b[33m1703\u001b[39m, \u001b[33m1766\u001b[39m, \u001b[33m1944\u001b[39m, \u001b[33m1827\u001b[39m, \u001b[33m1712\u001b[39m, \u001b[33m1994\u001b[39m, \u001b[33m1471\u001b[39m, \u001b[33m1583\u001b[39m, \u001b[33m1760\u001b[39m, \u001b[33m1667\u001b[39m,\n",
            "    \u001b[33m1572\u001b[39m, \u001b[33m1643\u001b[39m, \u001b[33m1704\u001b[39m, \u001b[33m1795\u001b[39m, \u001b[33m1769\u001b[39m, \u001b[33m1883\u001b[39m, \u001b[33m1910\u001b[39m, \u001b[33m1704\u001b[39m, \u001b[33m1529\u001b[39m, \u001b[33m1797\u001b[39m,\n",
            "    \u001b[33m1574\u001b[39m, \u001b[33m1858\u001b[39m, \u001b[33m1723\u001b[39m, \u001b[33m2034\u001b[39m, \u001b[33m1787\u001b[39m, \u001b[33m1632\u001b[39m, \u001b[33m1726\u001b[39m, \u001b[33m1879\u001b[39m, \u001b[33m1905\u001b[39m, \u001b[33m1516\u001b[39m,\n",
            "    \u001b[33m1862\u001b[39m, \u001b[33m2013\u001b[39m, \u001b[33m1697\u001b[39m, \u001b[33m1586\u001b[39m, \u001b[33m1598\u001b[39m, \u001b[33m1742\u001b[39m, \u001b[33m1582\u001b[39m, \u001b[33m1555\u001b[39m, \u001b[33m1844\u001b[39m, \u001b[33m1779\u001b[39m,\n",
            "    ... 500 more items\n",
            "  ],\n",
            "  [\n",
            "    \u001b[33m2058\u001b[39m, \u001b[33m2302\u001b[39m, \u001b[33m1921\u001b[39m, \u001b[33m2038\u001b[39m, \u001b[33m1918\u001b[39m, \u001b[33m2329\u001b[39m, \u001b[33m2021\u001b[39m, \u001b[33m2007\u001b[39m, \u001b[33m2070\u001b[39m, \u001b[33m1918\u001b[39m,\n",
            "    \u001b[33m1737\u001b[39m, \u001b[33m2133\u001b[39m, \u001b[33m1888\u001b[39m, \u001b[33m2078\u001b[39m, \u001b[33m2138\u001b[39m, \u001b[33m1928\u001b[39m, \u001b[33m1841\u001b[39m, \u001b[33m2284\u001b[39m, \u001b[33m2160\u001b[39m, \u001b[33m1983\u001b[39m,\n",
            "    \u001b[33m2208\u001b[39m, \u001b[33m2033\u001b[39m, \u001b[33m2099\u001b[39m, \u001b[33m2190\u001b[39m, \u001b[33m1990\u001b[39m, \u001b[33m2192\u001b[39m, \u001b[33m2203\u001b[39m, \u001b[33m1931\u001b[39m, \u001b[33m2251\u001b[39m, \u001b[33m1990\u001b[39m,\n",
            "    \u001b[33m1903\u001b[39m, \u001b[33m2058\u001b[39m, \u001b[33m1955\u001b[39m, \u001b[33m2375\u001b[39m, \u001b[33m2240\u001b[39m, \u001b[33m2017\u001b[39m, \u001b[33m1861\u001b[39m, \u001b[33m1920\u001b[39m, \u001b[33m2102\u001b[39m, \u001b[33m2052\u001b[39m,\n",
            "    \u001b[33m2024\u001b[39m, \u001b[33m2333\u001b[39m, \u001b[33m2181\u001b[39m, \u001b[33m2367\u001b[39m, \u001b[33m2087\u001b[39m, \u001b[33m2027\u001b[39m, \u001b[33m2043\u001b[39m, \u001b[33m2007\u001b[39m, \u001b[33m2037\u001b[39m, \u001b[33m2152\u001b[39m,\n",
            "    \u001b[33m2032\u001b[39m, \u001b[33m1891\u001b[39m, \u001b[33m2321\u001b[39m, \u001b[33m2603\u001b[39m, \u001b[33m2294\u001b[39m, \u001b[33m2074\u001b[39m, \u001b[33m2208\u001b[39m, \u001b[33m2250\u001b[39m, \u001b[33m1818\u001b[39m, \u001b[33m2295\u001b[39m,\n",
            "    \u001b[33m2039\u001b[39m, \u001b[33m2105\u001b[39m, \u001b[33m2404\u001b[39m, \u001b[33m2294\u001b[39m, \u001b[33m2326\u001b[39m, \u001b[33m2296\u001b[39m, \u001b[33m1871\u001b[39m, \u001b[33m2070\u001b[39m, \u001b[33m2090\u001b[39m, \u001b[33m2108\u001b[39m,\n",
            "    \u001b[33m2018\u001b[39m, \u001b[33m2110\u001b[39m, \u001b[33m1920\u001b[39m, \u001b[33m2108\u001b[39m, \u001b[33m2108\u001b[39m, \u001b[33m2201\u001b[39m, \u001b[33m2357\u001b[39m, \u001b[33m2111\u001b[39m, \u001b[33m1993\u001b[39m, \u001b[33m2152\u001b[39m,\n",
            "    \u001b[33m2063\u001b[39m, \u001b[33m2391\u001b[39m, \u001b[33m1924\u001b[39m, \u001b[33m2347\u001b[39m, \u001b[33m1916\u001b[39m, \u001b[33m2101\u001b[39m, \u001b[33m2091\u001b[39m, \u001b[33m2195\u001b[39m, \u001b[33m2312\u001b[39m, \u001b[33m2102\u001b[39m,\n",
            "    \u001b[33m2267\u001b[39m, \u001b[33m2246\u001b[39m, \u001b[33m1988\u001b[39m, \u001b[33m1891\u001b[39m, \u001b[33m1852\u001b[39m, \u001b[33m1956\u001b[39m, \u001b[33m1868\u001b[39m, \u001b[33m2004\u001b[39m, \u001b[33m2268\u001b[39m, \u001b[33m2051\u001b[39m,\n",
            "    ... 500 more items\n",
            "  ],\n",
            "  [\n",
            "    \u001b[33m2277\u001b[39m, \u001b[33m2552\u001b[39m, \u001b[33m2233\u001b[39m, \u001b[33m2250\u001b[39m, \u001b[33m2133\u001b[39m, \u001b[33m2358\u001b[39m, \u001b[33m2376\u001b[39m, \u001b[33m2186\u001b[39m, \u001b[33m2289\u001b[39m, \u001b[33m2095\u001b[39m,\n",
            "    \u001b[33m2055\u001b[39m, \u001b[33m2277\u001b[39m, \u001b[33m2181\u001b[39m, \u001b[33m2252\u001b[39m, \u001b[33m2091\u001b[39m, \u001b[33m1961\u001b[39m, \u001b[33m2028\u001b[39m, \u001b[33m2607\u001b[39m, \u001b[33m2137\u001b[39m, \u001b[33m2136\u001b[39m,\n",
            "    \u001b[33m2424\u001b[39m, \u001b[33m2353\u001b[39m, \u001b[33m2205\u001b[39m, \u001b[33m2527\u001b[39m, \u001b[33m2376\u001b[39m, \u001b[33m2212\u001b[39m, \u001b[33m2277\u001b[39m, \u001b[33m2233\u001b[39m, \u001b[33m2375\u001b[39m, \u001b[33m2138\u001b[39m,\n",
            "    \u001b[33m2365\u001b[39m, \u001b[33m2082\u001b[39m, \u001b[33m2310\u001b[39m, \u001b[33m2427\u001b[39m, \u001b[33m2223\u001b[39m, \u001b[33m2268\u001b[39m, \u001b[33m2084\u001b[39m, \u001b[33m2160\u001b[39m, \u001b[33m2325\u001b[39m, \u001b[33m2251\u001b[39m,\n",
            "    \u001b[33m2170\u001b[39m, \u001b[33m2702\u001b[39m, \u001b[33m2453\u001b[39m, \u001b[33m2604\u001b[39m, \u001b[33m2449\u001b[39m, \u001b[33m2179\u001b[39m, \u001b[33m2392\u001b[39m, \u001b[33m2176\u001b[39m, \u001b[33m2159\u001b[39m, \u001b[33m2295\u001b[39m,\n",
            "    \u001b[33m2253\u001b[39m, \u001b[33m2250\u001b[39m, \u001b[33m2585\u001b[39m, \u001b[33m2718\u001b[39m, \u001b[33m2392\u001b[39m, \u001b[33m2260\u001b[39m, \u001b[33m2504\u001b[39m, \u001b[33m2225\u001b[39m, \u001b[33m1925\u001b[39m, \u001b[33m2576\u001b[39m,\n",
            "    \u001b[33m2335\u001b[39m, \u001b[33m2305\u001b[39m, \u001b[33m2579\u001b[39m, \u001b[33m2618\u001b[39m, \u001b[33m2573\u001b[39m, \u001b[33m2380\u001b[39m, \u001b[33m1938\u001b[39m, \u001b[33m2278\u001b[39m, \u001b[33m2219\u001b[39m, \u001b[33m2238\u001b[39m,\n",
            "    \u001b[33m2198\u001b[39m, \u001b[33m2231\u001b[39m, \u001b[33m2081\u001b[39m, \u001b[33m2288\u001b[39m, \u001b[33m2388\u001b[39m, \u001b[33m2397\u001b[39m, \u001b[33m2405\u001b[39m, \u001b[33m2245\u001b[39m, \u001b[33m1904\u001b[39m, \u001b[33m2445\u001b[39m,\n",
            "    \u001b[33m2165\u001b[39m, \u001b[33m2362\u001b[39m, \u001b[33m2149\u001b[39m, \u001b[33m2541\u001b[39m, \u001b[33m2293\u001b[39m, \u001b[33m2335\u001b[39m, \u001b[33m2128\u001b[39m, \u001b[33m2619\u001b[39m, \u001b[33m2509\u001b[39m, \u001b[33m2209\u001b[39m,\n",
            "    \u001b[33m2384\u001b[39m, \u001b[33m2614\u001b[39m, \u001b[33m2203\u001b[39m, \u001b[33m2085\u001b[39m, \u001b[33m2014\u001b[39m, \u001b[33m2195\u001b[39m, \u001b[33m2295\u001b[39m, \u001b[33m2268\u001b[39m, \u001b[33m2317\u001b[39m, \u001b[33m2316\u001b[39m,\n",
            "    ... 500 more items\n",
            "  ],\n",
            "  [\n",
            "    \u001b[33m1912\u001b[39m, \u001b[33m2021\u001b[39m, \u001b[33m1931\u001b[39m, \u001b[33m1948\u001b[39m, \u001b[33m1957\u001b[39m, \u001b[33m2026\u001b[39m, \u001b[33m1914\u001b[39m, \u001b[33m1897\u001b[39m, \u001b[33m2044\u001b[39m, \u001b[33m1821\u001b[39m,\n",
            "    \u001b[33m1880\u001b[39m, \u001b[33m1838\u001b[39m, \u001b[33m1987\u001b[39m, \u001b[33m2080\u001b[39m, \u001b[33m1945\u001b[39m, \u001b[33m1671\u001b[39m, \u001b[33m1525\u001b[39m, \u001b[33m2041\u001b[39m, \u001b[33m1757\u001b[39m, \u001b[33m1919\u001b[39m,\n",
            "    \u001b[33m2029\u001b[39m, \u001b[33m2179\u001b[39m, \u001b[33m1861\u001b[39m, \u001b[33m2294\u001b[39m, \u001b[33m1951\u001b[39m, \u001b[33m1873\u001b[39m, \u001b[33m1939\u001b[39m, \u001b[33m1908\u001b[39m, \u001b[33m2026\u001b[39m, \u001b[33m1876\u001b[39m,\n",
            "    \u001b[33m2022\u001b[39m, \u001b[33m1829\u001b[39m, \u001b[33m1775\u001b[39m, \u001b[33m2065\u001b[39m, \u001b[33m1936\u001b[39m, \u001b[33m1950\u001b[39m, \u001b[33m1868\u001b[39m, \u001b[33m1799\u001b[39m, \u001b[33m1888\u001b[39m, \u001b[33m2025\u001b[39m,\n",
            "    \u001b[33m1711\u001b[39m, \u001b[33m2159\u001b[39m, \u001b[33m1999\u001b[39m, \u001b[33m2164\u001b[39m, \u001b[33m2214\u001b[39m, \u001b[33m1986\u001b[39m, \u001b[33m1848\u001b[39m, \u001b[33m1805\u001b[39m, \u001b[33m1935\u001b[39m, \u001b[33m2059\u001b[39m,\n",
            "    \u001b[33m1862\u001b[39m, \u001b[33m1919\u001b[39m, \u001b[33m2256\u001b[39m, \u001b[33m2237\u001b[39m, \u001b[33m2134\u001b[39m, \u001b[33m1849\u001b[39m, \u001b[33m2073\u001b[39m, \u001b[33m1917\u001b[39m, \u001b[33m1693\u001b[39m, \u001b[33m2106\u001b[39m,\n",
            "    \u001b[33m2001\u001b[39m, \u001b[33m1991\u001b[39m, \u001b[33m2336\u001b[39m, \u001b[33m2164\u001b[39m, \u001b[33m2117\u001b[39m, \u001b[33m2052\u001b[39m, \u001b[33m1676\u001b[39m, \u001b[33m1868\u001b[39m, \u001b[33m1863\u001b[39m, \u001b[33m1896\u001b[39m,\n",
            "    \u001b[33m1808\u001b[39m, \u001b[33m1975\u001b[39m, \u001b[33m1839\u001b[39m, \u001b[33m1902\u001b[39m, \u001b[33m2027\u001b[39m, \u001b[33m2067\u001b[39m, \u001b[33m2117\u001b[39m, \u001b[33m1886\u001b[39m, \u001b[33m1751\u001b[39m, \u001b[33m1896\u001b[39m,\n",
            "    \u001b[33m1868\u001b[39m, \u001b[33m2141\u001b[39m, \u001b[33m1782\u001b[39m, \u001b[33m2269\u001b[39m, \u001b[33m1904\u001b[39m, \u001b[33m1858\u001b[39m, \u001b[33m1776\u001b[39m, \u001b[33m2126\u001b[39m, \u001b[33m2167\u001b[39m, \u001b[33m1924\u001b[39m,\n",
            "    \u001b[33m2168\u001b[39m, \u001b[33m2024\u001b[39m, \u001b[33m1992\u001b[39m, \u001b[33m1561\u001b[39m, \u001b[33m1651\u001b[39m, \u001b[33m1910\u001b[39m, \u001b[33m1798\u001b[39m, \u001b[33m1933\u001b[39m, \u001b[33m2043\u001b[39m, \u001b[33m1974\u001b[39m,\n",
            "    ... 500 more items\n",
            "  ],\n",
            "  [\n",
            "    \u001b[33m2264\u001b[39m, \u001b[33m2360\u001b[39m, \u001b[33m2143\u001b[39m, \u001b[33m2186\u001b[39m, \u001b[33m2221\u001b[39m, \u001b[33m2501\u001b[39m, \u001b[33m2058\u001b[39m, \u001b[33m2316\u001b[39m, \u001b[33m2232\u001b[39m, \u001b[33m2254\u001b[39m,\n",
            "    \u001b[33m2152\u001b[39m, \u001b[33m2338\u001b[39m, \u001b[33m2087\u001b[39m, \u001b[33m2250\u001b[39m, \u001b[33m2252\u001b[39m, \u001b[33m1919\u001b[39m, \u001b[33m1754\u001b[39m, \u001b[33m2520\u001b[39m, \u001b[33m2282\u001b[39m, \u001b[33m2195\u001b[39m,\n",
            "    \u001b[33m2346\u001b[39m, \u001b[33m2479\u001b[39m, \u001b[33m2249\u001b[39m, \u001b[33m2429\u001b[39m, \u001b[33m2327\u001b[39m, \u001b[33m2363\u001b[39m, \u001b[33m2383\u001b[39m, \u001b[33m2172\u001b[39m, \u001b[33m2434\u001b[39m, \u001b[33m2082\u001b[39m,\n",
            "    \u001b[33m2268\u001b[39m, \u001b[33m2256\u001b[39m, \u001b[33m2228\u001b[39m, \u001b[33m2477\u001b[39m, \u001b[33m2210\u001b[39m, \u001b[33m2260\u001b[39m, \u001b[33m2054\u001b[39m, \u001b[33m2065\u001b[39m, \u001b[33m2445\u001b[39m, \u001b[33m2114\u001b[39m,\n",
            "    \u001b[33m2085\u001b[39m, \u001b[33m2497\u001b[39m, \u001b[33m2451\u001b[39m, \u001b[33m2472\u001b[39m, \u001b[33m2232\u001b[39m, \u001b[33m2056\u001b[39m, \u001b[33m2143\u001b[39m, \u001b[33m2233\u001b[39m, \u001b[33m2444\u001b[39m, \u001b[33m2246\u001b[39m,\n",
            "    \u001b[33m2089\u001b[39m, \u001b[33m2340\u001b[39m, \u001b[33m2373\u001b[39m, \u001b[33m2548\u001b[39m, \u001b[33m2484\u001b[39m, \u001b[33m2117\u001b[39m, \u001b[33m2472\u001b[39m, \u001b[33m2169\u001b[39m, \u001b[33m1973\u001b[39m, \u001b[33m2361\u001b[39m,\n",
            "    \u001b[33m2287\u001b[39m, \u001b[33m2437\u001b[39m, \u001b[33m2597\u001b[39m, \u001b[33m2507\u001b[39m, \u001b[33m2403\u001b[39m, \u001b[33m2267\u001b[39m, \u001b[33m1800\u001b[39m, \u001b[33m2195\u001b[39m, \u001b[33m2140\u001b[39m, \u001b[33m2271\u001b[39m,\n",
            "    \u001b[33m2163\u001b[39m, \u001b[33m2172\u001b[39m, \u001b[33m2099\u001b[39m, \u001b[33m2233\u001b[39m, \u001b[33m2386\u001b[39m, \u001b[33m2435\u001b[39m, \u001b[33m2512\u001b[39m, \u001b[33m2022\u001b[39m, \u001b[33m2016\u001b[39m, \u001b[33m2299\u001b[39m,\n",
            "    \u001b[33m2305\u001b[39m, \u001b[33m2424\u001b[39m, \u001b[33m1982\u001b[39m, \u001b[33m2715\u001b[39m, \u001b[33m2300\u001b[39m, \u001b[33m2413\u001b[39m, \u001b[33m2308\u001b[39m, \u001b[33m2462\u001b[39m, \u001b[33m2506\u001b[39m, \u001b[33m2094\u001b[39m,\n",
            "    \u001b[33m2362\u001b[39m, \u001b[33m2285\u001b[39m, \u001b[33m2113\u001b[39m, \u001b[33m1914\u001b[39m, \u001b[33m1964\u001b[39m, \u001b[33m2025\u001b[39m, \u001b[33m2078\u001b[39m, \u001b[33m2167\u001b[39m, \u001b[33m2316\u001b[39m, \u001b[33m2247\u001b[39m,\n",
            "    ... 500 more items\n",
            "  ],\n",
            "  [\n",
            "    \u001b[33m2050\u001b[39m, \u001b[33m2359\u001b[39m, \u001b[33m2046\u001b[39m, \u001b[33m2131\u001b[39m, \u001b[33m1901\u001b[39m, \u001b[33m2222\u001b[39m, \u001b[33m2050\u001b[39m, \u001b[33m2075\u001b[39m, \u001b[33m2271\u001b[39m, \u001b[33m1858\u001b[39m,\n",
            "    \u001b[33m2064\u001b[39m, \u001b[33m2146\u001b[39m, \u001b[33m2226\u001b[39m, \u001b[33m1947\u001b[39m, \u001b[33m1991\u001b[39m, \u001b[33m1964\u001b[39m, \u001b[33m1804\u001b[39m, \u001b[33m2399\u001b[39m, \u001b[33m1850\u001b[39m, \u001b[33m2080\u001b[39m,\n",
            "    \u001b[33m2255\u001b[39m, \u001b[33m2382\u001b[39m, \u001b[33m2234\u001b[39m, \u001b[33m2517\u001b[39m, \u001b[33m2211\u001b[39m, \u001b[33m2152\u001b[39m, \u001b[33m2139\u001b[39m, \u001b[33m1933\u001b[39m, \u001b[33m2205\u001b[39m, \u001b[33m2010\u001b[39m,\n",
            "    \u001b[33m2141\u001b[39m, \u001b[33m2016\u001b[39m, \u001b[33m2090\u001b[39m, \u001b[33m2083\u001b[39m, \u001b[33m2002\u001b[39m, \u001b[33m2278\u001b[39m, \u001b[33m1906\u001b[39m, \u001b[33m2001\u001b[39m, \u001b[33m2288\u001b[39m, \u001b[33m2107\u001b[39m,\n",
            "    \u001b[33m2023\u001b[39m, \u001b[33m2373\u001b[39m, \u001b[33m2225\u001b[39m, \u001b[33m2412\u001b[39m, \u001b[33m2259\u001b[39m, \u001b[33m2098\u001b[39m, \u001b[33m2310\u001b[39m, \u001b[33m2150\u001b[39m, \u001b[33m1987\u001b[39m, \u001b[33m2157\u001b[39m,\n",
            "    \u001b[33m2157\u001b[39m, \u001b[33m2182\u001b[39m, \u001b[33m2404\u001b[39m, \u001b[33m2546\u001b[39m, \u001b[33m2302\u001b[39m, \u001b[33m2106\u001b[39m, \u001b[33m2247\u001b[39m, \u001b[33m2204\u001b[39m, \u001b[33m1847\u001b[39m, \u001b[33m2307\u001b[39m,\n",
            "    \u001b[33m1997\u001b[39m, \u001b[33m2255\u001b[39m, \u001b[33m2474\u001b[39m, \u001b[33m2429\u001b[39m, \u001b[33m2323\u001b[39m, \u001b[33m2387\u001b[39m, \u001b[33m1821\u001b[39m, \u001b[33m2008\u001b[39m, \u001b[33m1993\u001b[39m, \u001b[33m2132\u001b[39m,\n",
            "    \u001b[33m2085\u001b[39m, \u001b[33m2242\u001b[39m, \u001b[33m2042\u001b[39m, \u001b[33m2252\u001b[39m, \u001b[33m2236\u001b[39m, \u001b[33m1979\u001b[39m, \u001b[33m2162\u001b[39m, \u001b[33m2065\u001b[39m, \u001b[33m1930\u001b[39m, \u001b[33m2089\u001b[39m,\n",
            "    \u001b[33m2094\u001b[39m, \u001b[33m2481\u001b[39m, \u001b[33m2085\u001b[39m, \u001b[33m2407\u001b[39m, \u001b[33m2187\u001b[39m, \u001b[33m2050\u001b[39m, \u001b[33m2001\u001b[39m, \u001b[33m2489\u001b[39m, \u001b[33m2348\u001b[39m, \u001b[33m2152\u001b[39m,\n",
            "    \u001b[33m2228\u001b[39m, \u001b[33m2384\u001b[39m, \u001b[33m1946\u001b[39m, \u001b[33m1816\u001b[39m, \u001b[33m1923\u001b[39m, \u001b[33m2090\u001b[39m, \u001b[33m1933\u001b[39m, \u001b[33m2226\u001b[39m, \u001b[33m2218\u001b[39m, \u001b[33m2106\u001b[39m,\n",
            "    ... 500 more items\n",
            "  ],\n",
            "  [\n",
            "    \u001b[33m1923\u001b[39m, \u001b[33m2227\u001b[39m, \u001b[33m1920\u001b[39m, \u001b[33m2068\u001b[39m, \u001b[33m2041\u001b[39m, \u001b[33m2097\u001b[39m, \u001b[33m1959\u001b[39m, \u001b[33m1915\u001b[39m, \u001b[33m1906\u001b[39m, \u001b[33m1871\u001b[39m,\n",
            "    \u001b[33m1841\u001b[39m, \u001b[33m1935\u001b[39m, \u001b[33m1933\u001b[39m, \u001b[33m2034\u001b[39m, \u001b[33m1911\u001b[39m, \u001b[33m1782\u001b[39m, \u001b[33m1611\u001b[39m, \u001b[33m2205\u001b[39m, \u001b[33m2086\u001b[39m, \u001b[33m1794\u001b[39m,\n",
            "    \u001b[33m2092\u001b[39m, \u001b[33m2122\u001b[39m, \u001b[33m1896\u001b[39m, \u001b[33m2272\u001b[39m, \u001b[33m2108\u001b[39m, \u001b[33m1875\u001b[39m, \u001b[33m2054\u001b[39m, \u001b[33m1848\u001b[39m, \u001b[33m2125\u001b[39m, \u001b[33m1764\u001b[39m,\n",
            "    \u001b[33m2109\u001b[39m, \u001b[33m1811\u001b[39m, \u001b[33m1900\u001b[39m, \u001b[33m2176\u001b[39m, \u001b[33m2042\u001b[39m, \u001b[33m2103\u001b[39m, \u001b[33m1726\u001b[39m, \u001b[33m1803\u001b[39m, \u001b[33m2024\u001b[39m, \u001b[33m1931\u001b[39m,\n",
            "    \u001b[33m2133\u001b[39m, \u001b[33m2180\u001b[39m, \u001b[33m2130\u001b[39m, \u001b[33m2308\u001b[39m, \u001b[33m2154\u001b[39m, \u001b[33m1965\u001b[39m, \u001b[33m1974\u001b[39m, \u001b[33m1924\u001b[39m, \u001b[33m1941\u001b[39m, \u001b[33m1938\u001b[39m,\n",
            "    \u001b[33m1824\u001b[39m, \u001b[33m1966\u001b[39m, \u001b[33m2186\u001b[39m, \u001b[33m2371\u001b[39m, \u001b[33m2095\u001b[39m, \u001b[33m1953\u001b[39m, \u001b[33m2052\u001b[39m, \u001b[33m1921\u001b[39m, \u001b[33m1737\u001b[39m, \u001b[33m1943\u001b[39m,\n",
            "    \u001b[33m1928\u001b[39m, \u001b[33m2078\u001b[39m, \u001b[33m2249\u001b[39m, \u001b[33m2278\u001b[39m, \u001b[33m2278\u001b[39m, \u001b[33m1970\u001b[39m, \u001b[33m1610\u001b[39m, \u001b[33m1957\u001b[39m, \u001b[33m1834\u001b[39m, \u001b[33m1914\u001b[39m,\n",
            "    \u001b[33m1903\u001b[39m, \u001b[33m1947\u001b[39m, \u001b[33m1796\u001b[39m, \u001b[33m1983\u001b[39m, \u001b[33m1913\u001b[39m, \u001b[33m2193\u001b[39m, \u001b[33m2047\u001b[39m, \u001b[33m1988\u001b[39m, \u001b[33m1902\u001b[39m, \u001b[33m2042\u001b[39m,\n",
            "    \u001b[33m1904\u001b[39m, \u001b[33m2327\u001b[39m, \u001b[33m1807\u001b[39m, \u001b[33m2104\u001b[39m, \u001b[33m2011\u001b[39m, \u001b[33m1960\u001b[39m, \u001b[33m1992\u001b[39m, \u001b[33m2189\u001b[39m, \u001b[33m2126\u001b[39m, \u001b[33m2033\u001b[39m,\n",
            "    \u001b[33m2141\u001b[39m, \u001b[33m2043\u001b[39m, \u001b[33m1805\u001b[39m, \u001b[33m1705\u001b[39m, \u001b[33m1615\u001b[39m, \u001b[33m1865\u001b[39m, \u001b[33m1929\u001b[39m, \u001b[33m1851\u001b[39m, \u001b[33m2099\u001b[39m, \u001b[33m1911\u001b[39m,\n",
            "    ... 500 more items\n",
            "  ],\n",
            "  [\n",
            "    \u001b[33m2086\u001b[39m, \u001b[33m2287\u001b[39m, \u001b[33m2074\u001b[39m, \u001b[33m2056\u001b[39m, \u001b[33m2064\u001b[39m, \u001b[33m2166\u001b[39m, \u001b[33m2165\u001b[39m, \u001b[33m2090\u001b[39m, \u001b[33m2214\u001b[39m, \u001b[33m2117\u001b[39m,\n",
            "    \u001b[33m1971\u001b[39m, \u001b[33m2094\u001b[39m, \u001b[33m2023\u001b[39m, \u001b[33m2224\u001b[39m, \u001b[33m2074\u001b[39m, \u001b[33m1852\u001b[39m, \u001b[33m1880\u001b[39m, \u001b[33m2382\u001b[39m, \u001b[33m2173\u001b[39m, \u001b[33m1813\u001b[39m,\n",
            "    \u001b[33m2360\u001b[39m, \u001b[33m2236\u001b[39m, \u001b[33m2124\u001b[39m, \u001b[33m2335\u001b[39m, \u001b[33m2289\u001b[39m, \u001b[33m2005\u001b[39m, \u001b[33m2202\u001b[39m, \u001b[33m2073\u001b[39m, \u001b[33m2238\u001b[39m, \u001b[33m2052\u001b[39m,\n",
            "    \u001b[33m2062\u001b[39m, \u001b[33m2049\u001b[39m, \u001b[33m2041\u001b[39m, \u001b[33m2256\u001b[39m, \u001b[33m2245\u001b[39m, \u001b[33m2157\u001b[39m, \u001b[33m1986\u001b[39m, \u001b[33m1970\u001b[39m, \u001b[33m2069\u001b[39m, \u001b[33m2111\u001b[39m,\n",
            "    \u001b[33m2120\u001b[39m, \u001b[33m2396\u001b[39m, \u001b[33m2120\u001b[39m, \u001b[33m2364\u001b[39m, \u001b[33m2300\u001b[39m, \u001b[33m2142\u001b[39m, \u001b[33m2067\u001b[39m, \u001b[33m2259\u001b[39m, \u001b[33m2004\u001b[39m, \u001b[33m2185\u001b[39m,\n",
            "    \u001b[33m1918\u001b[39m, \u001b[33m2124\u001b[39m, \u001b[33m2324\u001b[39m, \u001b[33m2504\u001b[39m, \u001b[33m2329\u001b[39m, \u001b[33m2084\u001b[39m, \u001b[33m2140\u001b[39m, \u001b[33m2280\u001b[39m, \u001b[33m1734\u001b[39m, \u001b[33m2251\u001b[39m,\n",
            "    \u001b[33m2090\u001b[39m, \u001b[33m2250\u001b[39m, \u001b[33m2284\u001b[39m, \u001b[33m2351\u001b[39m, \u001b[33m2404\u001b[39m, \u001b[33m2192\u001b[39m, \u001b[33m1853\u001b[39m, \u001b[33m2074\u001b[39m, \u001b[33m2116\u001b[39m, \u001b[33m2199\u001b[39m,\n",
            "    \u001b[33m2058\u001b[39m, \u001b[33m1974\u001b[39m, \u001b[33m1868\u001b[39m, \u001b[33m2293\u001b[39m, \u001b[33m2184\u001b[39m, \u001b[33m2335\u001b[39m, \u001b[33m2212\u001b[39m, \u001b[33m2358\u001b[39m, \u001b[33m1978\u001b[39m, \u001b[33m2186\u001b[39m,\n",
            "    \u001b[33m1872\u001b[39m, \u001b[33m2483\u001b[39m, \u001b[33m1926\u001b[39m, \u001b[33m2428\u001b[39m, \u001b[33m2109\u001b[39m, \u001b[33m2052\u001b[39m, \u001b[33m1979\u001b[39m, \u001b[33m2379\u001b[39m, \u001b[33m2344\u001b[39m, \u001b[33m2003\u001b[39m,\n",
            "    \u001b[33m2196\u001b[39m, \u001b[33m2260\u001b[39m, \u001b[33m2066\u001b[39m, \u001b[33m1887\u001b[39m, \u001b[33m1727\u001b[39m, \u001b[33m1821\u001b[39m, \u001b[33m2034\u001b[39m, \u001b[33m2196\u001b[39m, \u001b[33m2271\u001b[39m, \u001b[33m2116\u001b[39m,\n",
            "    ... 500 more items\n",
            "  ],\n",
            "  [\n",
            "    \u001b[33m1915\u001b[39m, \u001b[33m2036\u001b[39m, \u001b[33m1846\u001b[39m, \u001b[33m1722\u001b[39m, \u001b[33m1841\u001b[39m, \u001b[33m2064\u001b[39m, \u001b[33m1869\u001b[39m, \u001b[33m1703\u001b[39m, \u001b[33m1815\u001b[39m, \u001b[33m1715\u001b[39m,\n",
            "    \u001b[33m1715\u001b[39m, \u001b[33m1772\u001b[39m, \u001b[33m1750\u001b[39m, \u001b[33m1863\u001b[39m, \u001b[33m1848\u001b[39m, \u001b[33m1719\u001b[39m, \u001b[33m1646\u001b[39m, \u001b[33m1976\u001b[39m, \u001b[33m1858\u001b[39m, \u001b[33m1764\u001b[39m,\n",
            "    \u001b[33m1965\u001b[39m, \u001b[33m2114\u001b[39m, \u001b[33m1812\u001b[39m, \u001b[33m2225\u001b[39m, \u001b[33m2022\u001b[39m, \u001b[33m1908\u001b[39m, \u001b[33m1665\u001b[39m, \u001b[33m1918\u001b[39m, \u001b[33m1864\u001b[39m, \u001b[33m1748\u001b[39m,\n",
            "    \u001b[33m1969\u001b[39m, \u001b[33m1835\u001b[39m, \u001b[33m1877\u001b[39m, \u001b[33m1909\u001b[39m, \u001b[33m1845\u001b[39m, \u001b[33m1884\u001b[39m, \u001b[33m1664\u001b[39m, \u001b[33m1714\u001b[39m, \u001b[33m1943\u001b[39m, \u001b[33m1758\u001b[39m,\n",
            "    \u001b[33m1775\u001b[39m, \u001b[33m1870\u001b[39m, \u001b[33m1912\u001b[39m, \u001b[33m2084\u001b[39m, \u001b[33m2006\u001b[39m, \u001b[33m1914\u001b[39m, \u001b[33m1900\u001b[39m, \u001b[33m1771\u001b[39m, \u001b[33m1797\u001b[39m, \u001b[33m1864\u001b[39m,\n",
            "    \u001b[33m1783\u001b[39m, \u001b[33m1730\u001b[39m, \u001b[33m2016\u001b[39m, \u001b[33m2184\u001b[39m, \u001b[33m1977\u001b[39m, \u001b[33m1597\u001b[39m, \u001b[33m1931\u001b[39m, \u001b[33m1727\u001b[39m, \u001b[33m1654\u001b[39m, \u001b[33m1896\u001b[39m,\n",
            "    \u001b[33m1897\u001b[39m, \u001b[33m1994\u001b[39m, \u001b[33m2120\u001b[39m, \u001b[33m2134\u001b[39m, \u001b[33m1891\u001b[39m, \u001b[33m1922\u001b[39m, \u001b[33m1598\u001b[39m, \u001b[33m1886\u001b[39m, \u001b[33m1573\u001b[39m, \u001b[33m1737\u001b[39m,\n",
            "    \u001b[33m1814\u001b[39m, \u001b[33m1818\u001b[39m, \u001b[33m1871\u001b[39m, \u001b[33m1904\u001b[39m, \u001b[33m1985\u001b[39m, \u001b[33m1989\u001b[39m, \u001b[33m1910\u001b[39m, \u001b[33m1735\u001b[39m, \u001b[33m1646\u001b[39m, \u001b[33m1936\u001b[39m,\n",
            "    \u001b[33m1865\u001b[39m, \u001b[33m2103\u001b[39m, \u001b[33m1652\u001b[39m, \u001b[33m2093\u001b[39m, \u001b[33m1847\u001b[39m, \u001b[33m1862\u001b[39m, \u001b[33m1780\u001b[39m, \u001b[33m2016\u001b[39m, \u001b[33m2068\u001b[39m, \u001b[33m1803\u001b[39m,\n",
            "    \u001b[33m1870\u001b[39m, \u001b[33m1985\u001b[39m, \u001b[33m1826\u001b[39m, \u001b[33m1611\u001b[39m, \u001b[33m1549\u001b[39m, \u001b[33m1712\u001b[39m, \u001b[33m1681\u001b[39m, \u001b[33m1823\u001b[39m, \u001b[33m1858\u001b[39m, \u001b[33m1930\u001b[39m,\n",
            "    ... 500 more items\n",
            "  ],\n",
            "  [\n",
            "    \u001b[33m2079\u001b[39m, \u001b[33m2285\u001b[39m, \u001b[33m2058\u001b[39m, \u001b[33m2266\u001b[39m, \u001b[33m1970\u001b[39m, \u001b[33m2120\u001b[39m, \u001b[33m2154\u001b[39m, \u001b[33m2044\u001b[39m, \u001b[33m2147\u001b[39m, \u001b[33m1850\u001b[39m,\n",
            "    \u001b[33m2023\u001b[39m, \u001b[33m1989\u001b[39m, \u001b[33m2018\u001b[39m, \u001b[33m2054\u001b[39m, \u001b[33m2043\u001b[39m, \u001b[33m1946\u001b[39m, \u001b[33m1734\u001b[39m, \u001b[33m2265\u001b[39m, \u001b[33m2075\u001b[39m, \u001b[33m2096\u001b[39m,\n",
            "    \u001b[33m2224\u001b[39m, \u001b[33m2281\u001b[39m, \u001b[33m1982\u001b[39m, \u001b[33m2266\u001b[39m, \u001b[33m2182\u001b[39m, \u001b[33m2038\u001b[39m, \u001b[33m2191\u001b[39m, \u001b[33m2015\u001b[39m, \u001b[33m2169\u001b[39m, \u001b[33m2039\u001b[39m,\n",
            "    \u001b[33m2049\u001b[39m, \u001b[33m1942\u001b[39m, \u001b[33m2089\u001b[39m, \u001b[33m2170\u001b[39m, \u001b[33m1999\u001b[39m, \u001b[33m2035\u001b[39m, \u001b[33m2059\u001b[39m, \u001b[33m1911\u001b[39m, \u001b[33m2168\u001b[39m, \u001b[33m2041\u001b[39m,\n",
            "    \u001b[33m1913\u001b[39m, \u001b[33m2246\u001b[39m, \u001b[33m2221\u001b[39m, \u001b[33m2280\u001b[39m, \u001b[33m2156\u001b[39m, \u001b[33m1851\u001b[39m, \u001b[33m2177\u001b[39m, \u001b[33m2076\u001b[39m, \u001b[33m2041\u001b[39m, \u001b[33m2126\u001b[39m,\n",
            "    \u001b[33m1940\u001b[39m, \u001b[33m2055\u001b[39m, \u001b[33m2284\u001b[39m, \u001b[33m2439\u001b[39m, \u001b[33m2090\u001b[39m, \u001b[33m2167\u001b[39m, \u001b[33m2286\u001b[39m, \u001b[33m2071\u001b[39m, \u001b[33m2071\u001b[39m, \u001b[33m2248\u001b[39m,\n",
            "    \u001b[33m2071\u001b[39m, \u001b[33m2261\u001b[39m, \u001b[33m2309\u001b[39m, \u001b[33m2414\u001b[39m, \u001b[33m2266\u001b[39m, \u001b[33m2139\u001b[39m, \u001b[33m1677\u001b[39m, \u001b[33m1910\u001b[39m, \u001b[33m2000\u001b[39m, \u001b[33m2059\u001b[39m,\n",
            "    \u001b[33m1899\u001b[39m, \u001b[33m2016\u001b[39m, \u001b[33m2010\u001b[39m, \u001b[33m2066\u001b[39m, \u001b[33m1953\u001b[39m, \u001b[33m2110\u001b[39m, \u001b[33m2147\u001b[39m, \u001b[33m1831\u001b[39m, \u001b[33m1914\u001b[39m, \u001b[33m2256\u001b[39m,\n",
            "    \u001b[33m1954\u001b[39m, \u001b[33m2254\u001b[39m, \u001b[33m1775\u001b[39m, \u001b[33m2472\u001b[39m, \u001b[33m2228\u001b[39m, \u001b[33m1976\u001b[39m, \u001b[33m2077\u001b[39m, \u001b[33m2223\u001b[39m, \u001b[33m2404\u001b[39m, \u001b[33m2110\u001b[39m,\n",
            "    \u001b[33m2125\u001b[39m, \u001b[33m2278\u001b[39m, \u001b[33m2025\u001b[39m, \u001b[33m1919\u001b[39m, \u001b[33m1898\u001b[39m, \u001b[33m2021\u001b[39m, \u001b[33m1822\u001b[39m, \u001b[33m2029\u001b[39m, \u001b[33m2226\u001b[39m, \u001b[33m2028\u001b[39m,\n",
            "    ... 500 more items\n",
            "  ],\n",
            "  [\n",
            "    \u001b[33m1882\u001b[39m, \u001b[33m2136\u001b[39m, \u001b[33m1938\u001b[39m, \u001b[33m1805\u001b[39m, \u001b[33m1903\u001b[39m, \u001b[33m2017\u001b[39m, \u001b[33m1894\u001b[39m, \u001b[33m1885\u001b[39m, \u001b[33m1925\u001b[39m, \u001b[33m1848\u001b[39m,\n",
            "    \u001b[33m1815\u001b[39m, \u001b[33m2020\u001b[39m, \u001b[33m1854\u001b[39m, \u001b[33m1767\u001b[39m, \u001b[33m1924\u001b[39m, \u001b[33m1688\u001b[39m, \u001b[33m1705\u001b[39m, \u001b[33m2084\u001b[39m, \u001b[33m1938\u001b[39m, \u001b[33m1839\u001b[39m,\n",
            "    \u001b[33m1873\u001b[39m, \u001b[33m2038\u001b[39m, \u001b[33m2064\u001b[39m, \u001b[33m2116\u001b[39m, \u001b[33m2015\u001b[39m, \u001b[33m2051\u001b[39m, \u001b[33m1908\u001b[39m, \u001b[33m1693\u001b[39m, \u001b[33m2127\u001b[39m, \u001b[33m1784\u001b[39m,\n",
            "    \u001b[33m1920\u001b[39m, \u001b[33m1927\u001b[39m, \u001b[33m1740\u001b[39m, \u001b[33m2018\u001b[39m, \u001b[33m1978\u001b[39m, \u001b[33m1877\u001b[39m, \u001b[33m1804\u001b[39m, \u001b[33m1851\u001b[39m, \u001b[33m1979\u001b[39m, \u001b[33m1893\u001b[39m,\n",
            "    \u001b[33m1990\u001b[39m, \u001b[33m2131\u001b[39m, \u001b[33m2030\u001b[39m, \u001b[33m2079\u001b[39m, \u001b[33m1929\u001b[39m, \u001b[33m1991\u001b[39m, \u001b[33m1955\u001b[39m, \u001b[33m1997\u001b[39m, \u001b[33m1843\u001b[39m, \u001b[33m1878\u001b[39m,\n",
            "    \u001b[33m1956\u001b[39m, \u001b[33m1946\u001b[39m, \u001b[33m2063\u001b[39m, \u001b[33m2278\u001b[39m, \u001b[33m2018\u001b[39m, \u001b[33m1782\u001b[39m, \u001b[33m2027\u001b[39m, \u001b[33m2043\u001b[39m, \u001b[33m1732\u001b[39m, \u001b[33m2078\u001b[39m,\n",
            "    \u001b[33m1919\u001b[39m, \u001b[33m2005\u001b[39m, \u001b[33m2325\u001b[39m, \u001b[33m2163\u001b[39m, \u001b[33m2087\u001b[39m, \u001b[33m1973\u001b[39m, \u001b[33m1603\u001b[39m, \u001b[33m1912\u001b[39m, \u001b[33m1857\u001b[39m, \u001b[33m2031\u001b[39m,\n",
            "    \u001b[33m1735\u001b[39m, \u001b[33m1909\u001b[39m, \u001b[33m1976\u001b[39m, \u001b[33m2066\u001b[39m, \u001b[33m1958\u001b[39m, \u001b[33m2120\u001b[39m, \u001b[33m2151\u001b[39m, \u001b[33m1932\u001b[39m, \u001b[33m1693\u001b[39m, \u001b[33m2064\u001b[39m,\n",
            "    \u001b[33m1954\u001b[39m, \u001b[33m2140\u001b[39m, \u001b[33m1754\u001b[39m, \u001b[33m2257\u001b[39m, \u001b[33m1810\u001b[39m, \u001b[33m1916\u001b[39m, \u001b[33m1890\u001b[39m, \u001b[33m2226\u001b[39m, \u001b[33m2148\u001b[39m, \u001b[33m1887\u001b[39m,\n",
            "    \u001b[33m2148\u001b[39m, \u001b[33m2013\u001b[39m, \u001b[33m1807\u001b[39m, \u001b[33m1730\u001b[39m, \u001b[33m1690\u001b[39m, \u001b[33m1798\u001b[39m, \u001b[33m1792\u001b[39m, \u001b[33m1744\u001b[39m, \u001b[33m1945\u001b[39m, \u001b[33m1948\u001b[39m,\n",
            "    ... 500 more items\n",
            "  ],\n",
            "  [\n",
            "    \u001b[33m1822\u001b[39m, \u001b[33m2134\u001b[39m, \u001b[33m1851\u001b[39m, \u001b[33m1865\u001b[39m, \u001b[33m1750\u001b[39m, \u001b[33m2034\u001b[39m, \u001b[33m2027\u001b[39m, \u001b[33m1946\u001b[39m, \u001b[33m1763\u001b[39m, \u001b[33m1776\u001b[39m,\n",
            "    \u001b[33m1876\u001b[39m, \u001b[33m1880\u001b[39m, \u001b[33m1849\u001b[39m, \u001b[33m1978\u001b[39m, \u001b[33m1769\u001b[39m, \u001b[33m1736\u001b[39m, \u001b[33m1572\u001b[39m, \u001b[33m2021\u001b[39m, \u001b[33m1968\u001b[39m, \u001b[33m1864\u001b[39m,\n",
            "    \u001b[33m2013\u001b[39m, \u001b[33m1964\u001b[39m, \u001b[33m1973\u001b[39m, \u001b[33m2071\u001b[39m, \u001b[33m2065\u001b[39m, \u001b[33m1961\u001b[39m, \u001b[33m1819\u001b[39m, \u001b[33m1850\u001b[39m, \u001b[33m2046\u001b[39m, \u001b[33m1967\u001b[39m,\n",
            "    \u001b[33m1863\u001b[39m, \u001b[33m1788\u001b[39m, \u001b[33m1880\u001b[39m, \u001b[33m2071\u001b[39m, \u001b[33m1621\u001b[39m, \u001b[33m1871\u001b[39m, \u001b[33m1775\u001b[39m, \u001b[33m1666\u001b[39m, \u001b[33m2042\u001b[39m, \u001b[33m1968\u001b[39m,\n",
            "    \u001b[33m1719\u001b[39m, \u001b[33m2171\u001b[39m, \u001b[33m2018\u001b[39m, \u001b[33m2057\u001b[39m, \u001b[33m2119\u001b[39m, \u001b[33m1876\u001b[39m, \u001b[33m2038\u001b[39m, \u001b[33m1923\u001b[39m, \u001b[33m1865\u001b[39m, \u001b[33m1998\u001b[39m,\n",
            "    \u001b[33m1889\u001b[39m, \u001b[33m1931\u001b[39m, \u001b[33m1945\u001b[39m, \u001b[33m2169\u001b[39m, \u001b[33m2091\u001b[39m, \u001b[33m1712\u001b[39m, \u001b[33m2193\u001b[39m, \u001b[33m1859\u001b[39m, \u001b[33m1664\u001b[39m, \u001b[33m1985\u001b[39m,\n",
            "    \u001b[33m1857\u001b[39m, \u001b[33m1887\u001b[39m, \u001b[33m2011\u001b[39m, \u001b[33m2239\u001b[39m, \u001b[33m2093\u001b[39m, \u001b[33m1861\u001b[39m, \u001b[33m1452\u001b[39m, \u001b[33m1761\u001b[39m, \u001b[33m1719\u001b[39m, \u001b[33m1948\u001b[39m,\n",
            "    \u001b[33m1808\u001b[39m, \u001b[33m1768\u001b[39m, \u001b[33m1804\u001b[39m, \u001b[33m1752\u001b[39m, \u001b[33m1841\u001b[39m, \u001b[33m1960\u001b[39m, \u001b[33m1974\u001b[39m, \u001b[33m1751\u001b[39m, \u001b[33m1730\u001b[39m, \u001b[33m2009\u001b[39m,\n",
            "    \u001b[33m1809\u001b[39m, \u001b[33m2048\u001b[39m, \u001b[33m1686\u001b[39m, \u001b[33m2296\u001b[39m, \u001b[33m2127\u001b[39m, \u001b[33m1841\u001b[39m, \u001b[33m1722\u001b[39m, \u001b[33m2075\u001b[39m, \u001b[33m2150\u001b[39m, \u001b[33m1884\u001b[39m,\n",
            "    \u001b[33m2070\u001b[39m, \u001b[33m1865\u001b[39m, \u001b[33m1834\u001b[39m, \u001b[33m1757\u001b[39m, \u001b[33m1655\u001b[39m, \u001b[33m1839\u001b[39m, \u001b[33m1733\u001b[39m, \u001b[33m1818\u001b[39m, \u001b[33m2198\u001b[39m, \u001b[33m1940\u001b[39m,\n",
            "    ... 500 more items\n",
            "  ],\n",
            "  [\n",
            "    \u001b[33m2092\u001b[39m, \u001b[33m2202\u001b[39m, \u001b[33m2149\u001b[39m, \u001b[33m1928\u001b[39m, \u001b[33m1790\u001b[39m, \u001b[33m2035\u001b[39m, \u001b[33m2138\u001b[39m, \u001b[33m2039\u001b[39m, \u001b[33m2246\u001b[39m, \u001b[33m2049\u001b[39m,\n",
            "    \u001b[33m2012\u001b[39m, \u001b[33m2153\u001b[39m, \u001b[33m2223\u001b[39m, \u001b[33m2158\u001b[39m, \u001b[33m2013\u001b[39m, \u001b[33m1728\u001b[39m, \u001b[33m1833\u001b[39m, \u001b[33m2314\u001b[39m, \u001b[33m2086\u001b[39m, \u001b[33m2175\u001b[39m,\n",
            "    \u001b[33m2123\u001b[39m, \u001b[33m2320\u001b[39m, \u001b[33m2011\u001b[39m, \u001b[33m2375\u001b[39m, \u001b[33m2142\u001b[39m, \u001b[33m2023\u001b[39m, \u001b[33m2182\u001b[39m, \u001b[33m2087\u001b[39m, \u001b[33m2248\u001b[39m, \u001b[33m1905\u001b[39m,\n",
            "    \u001b[33m2077\u001b[39m, \u001b[33m1944\u001b[39m, \u001b[33m2012\u001b[39m, \u001b[33m2054\u001b[39m, \u001b[33m2009\u001b[39m, \u001b[33m2265\u001b[39m, \u001b[33m1759\u001b[39m, \u001b[33m1952\u001b[39m, \u001b[33m2026\u001b[39m, \u001b[33m2205\u001b[39m,\n",
            "    \u001b[33m1976\u001b[39m, \u001b[33m2463\u001b[39m, \u001b[33m2183\u001b[39m, \u001b[33m2403\u001b[39m, \u001b[33m2134\u001b[39m, \u001b[33m2044\u001b[39m, \u001b[33m2142\u001b[39m, \u001b[33m2070\u001b[39m, \u001b[33m1967\u001b[39m, \u001b[33m2202\u001b[39m,\n",
            "    \u001b[33m2055\u001b[39m, \u001b[33m2056\u001b[39m, \u001b[33m2275\u001b[39m, \u001b[33m2446\u001b[39m, \u001b[33m2310\u001b[39m, \u001b[33m2043\u001b[39m, \u001b[33m2300\u001b[39m, \u001b[33m1999\u001b[39m, \u001b[33m1929\u001b[39m, \u001b[33m2282\u001b[39m,\n",
            "    \u001b[33m2123\u001b[39m, \u001b[33m2241\u001b[39m, \u001b[33m2574\u001b[39m, \u001b[33m2375\u001b[39m, \u001b[33m2303\u001b[39m, \u001b[33m2381\u001b[39m, \u001b[33m1802\u001b[39m, \u001b[33m2123\u001b[39m, \u001b[33m2052\u001b[39m, \u001b[33m2015\u001b[39m,\n",
            "    \u001b[33m2048\u001b[39m, \u001b[33m2282\u001b[39m, \u001b[33m1880\u001b[39m, \u001b[33m2209\u001b[39m, \u001b[33m2240\u001b[39m, \u001b[33m2157\u001b[39m, \u001b[33m2126\u001b[39m, \u001b[33m2091\u001b[39m, \u001b[33m1867\u001b[39m, \u001b[33m2321\u001b[39m,\n",
            "    \u001b[33m2026\u001b[39m, \u001b[33m2436\u001b[39m, \u001b[33m1959\u001b[39m, \u001b[33m2242\u001b[39m, \u001b[33m2179\u001b[39m, \u001b[33m2137\u001b[39m, \u001b[33m2063\u001b[39m, \u001b[33m2460\u001b[39m, \u001b[33m2358\u001b[39m, \u001b[33m2054\u001b[39m,\n",
            "    \u001b[33m2304\u001b[39m, \u001b[33m2416\u001b[39m, \u001b[33m1955\u001b[39m, \u001b[33m1996\u001b[39m, \u001b[33m1869\u001b[39m, \u001b[33m1910\u001b[39m, \u001b[33m2021\u001b[39m, \u001b[33m1984\u001b[39m, \u001b[33m2294\u001b[39m, \u001b[33m2231\u001b[39m,\n",
            "    ... 500 more items\n",
            "  ],\n",
            "  [\n",
            "    \u001b[33m2071\u001b[39m, \u001b[33m2140\u001b[39m, \u001b[33m1894\u001b[39m, \u001b[33m1963\u001b[39m, \u001b[33m1910\u001b[39m, \u001b[33m2249\u001b[39m, \u001b[33m2037\u001b[39m, \u001b[33m1951\u001b[39m, \u001b[33m2059\u001b[39m, \u001b[33m2038\u001b[39m,\n",
            "    \u001b[33m1966\u001b[39m, \u001b[33m2057\u001b[39m, \u001b[33m1993\u001b[39m, \u001b[33m1962\u001b[39m, \u001b[33m2098\u001b[39m, \u001b[33m1920\u001b[39m, \u001b[33m1788\u001b[39m, \u001b[33m2176\u001b[39m, \u001b[33m2130\u001b[39m, \u001b[33m1804\u001b[39m,\n",
            "    \u001b[33m2137\u001b[39m, \u001b[33m2251\u001b[39m, \u001b[33m1937\u001b[39m, \u001b[33m2205\u001b[39m, \u001b[33m2077\u001b[39m, \u001b[33m2121\u001b[39m, \u001b[33m1938\u001b[39m, \u001b[33m1970\u001b[39m, \u001b[33m2112\u001b[39m, \u001b[33m2004\u001b[39m,\n",
            "    \u001b[33m1922\u001b[39m, \u001b[33m2019\u001b[39m, \u001b[33m1980\u001b[39m, \u001b[33m2204\u001b[39m, \u001b[33m2090\u001b[39m, \u001b[33m1992\u001b[39m, \u001b[33m1845\u001b[39m, \u001b[33m1863\u001b[39m, \u001b[33m1938\u001b[39m, \u001b[33m2053\u001b[39m,\n",
            "    \u001b[33m1942\u001b[39m, \u001b[33m2273\u001b[39m, \u001b[33m2125\u001b[39m, \u001b[33m2199\u001b[39m, \u001b[33m2105\u001b[39m, \u001b[33m1911\u001b[39m, \u001b[33m1995\u001b[39m, \u001b[33m2102\u001b[39m, \u001b[33m2081\u001b[39m, \u001b[33m2045\u001b[39m,\n",
            "    \u001b[33m1977\u001b[39m, \u001b[33m2071\u001b[39m, \u001b[33m2102\u001b[39m, \u001b[33m2433\u001b[39m, \u001b[33m2185\u001b[39m, \u001b[33m1900\u001b[39m, \u001b[33m2103\u001b[39m, \u001b[33m2162\u001b[39m, \u001b[33m1775\u001b[39m, \u001b[33m2065\u001b[39m,\n",
            "    \u001b[33m1927\u001b[39m, \u001b[33m2161\u001b[39m, \u001b[33m2326\u001b[39m, \u001b[33m2178\u001b[39m, \u001b[33m2246\u001b[39m, \u001b[33m2160\u001b[39m, \u001b[33m1652\u001b[39m, \u001b[33m1974\u001b[39m, \u001b[33m1929\u001b[39m, \u001b[33m2131\u001b[39m,\n",
            "    \u001b[33m2012\u001b[39m, \u001b[33m1968\u001b[39m, \u001b[33m1886\u001b[39m, \u001b[33m2114\u001b[39m, \u001b[33m2004\u001b[39m, \u001b[33m2082\u001b[39m, \u001b[33m2210\u001b[39m, \u001b[33m2033\u001b[39m, \u001b[33m1891\u001b[39m, \u001b[33m2173\u001b[39m,\n",
            "    \u001b[33m2044\u001b[39m, \u001b[33m2383\u001b[39m, \u001b[33m1776\u001b[39m, \u001b[33m2401\u001b[39m, \u001b[33m2029\u001b[39m, \u001b[33m2091\u001b[39m, \u001b[33m2031\u001b[39m, \u001b[33m2036\u001b[39m, \u001b[33m2190\u001b[39m, \u001b[33m2001\u001b[39m,\n",
            "    \u001b[33m2249\u001b[39m, \u001b[33m2096\u001b[39m, \u001b[33m2080\u001b[39m, \u001b[33m2001\u001b[39m, \u001b[33m1835\u001b[39m, \u001b[33m1955\u001b[39m, \u001b[33m1870\u001b[39m, \u001b[33m2021\u001b[39m, \u001b[33m2084\u001b[39m, \u001b[33m1939\u001b[39m,\n",
            "    ... 500 more items\n",
            "  ],\n",
            "  [\n",
            "    \u001b[33m2195\u001b[39m, \u001b[33m2323\u001b[39m, \u001b[33m1929\u001b[39m, \u001b[33m1845\u001b[39m, \u001b[33m1993\u001b[39m, \u001b[33m2031\u001b[39m, \u001b[33m2129\u001b[39m, \u001b[33m1944\u001b[39m, \u001b[33m2169\u001b[39m, \u001b[33m1960\u001b[39m,\n",
            "    \u001b[33m2026\u001b[39m, \u001b[33m2049\u001b[39m, \u001b[33m1973\u001b[39m, \u001b[33m2081\u001b[39m, \u001b[33m1918\u001b[39m, \u001b[33m1814\u001b[39m, \u001b[33m1925\u001b[39m, \u001b[33m2178\u001b[39m, \u001b[33m2005\u001b[39m, \u001b[33m2049\u001b[39m,\n",
            "    \u001b[33m2080\u001b[39m, \u001b[33m2248\u001b[39m, \u001b[33m2014\u001b[39m, \u001b[33m2322\u001b[39m, \u001b[33m2213\u001b[39m, \u001b[33m2140\u001b[39m, \u001b[33m2044\u001b[39m, \u001b[33m2086\u001b[39m, \u001b[33m2092\u001b[39m, \u001b[33m1980\u001b[39m,\n",
            "    \u001b[33m2012\u001b[39m, \u001b[33m2058\u001b[39m, \u001b[33m1990\u001b[39m, \u001b[33m2019\u001b[39m, \u001b[33m2063\u001b[39m, \u001b[33m2258\u001b[39m, \u001b[33m1949\u001b[39m, \u001b[33m1843\u001b[39m, \u001b[33m2065\u001b[39m, \u001b[33m2247\u001b[39m,\n",
            "    \u001b[33m1928\u001b[39m, \u001b[33m2167\u001b[39m, \u001b[33m1971\u001b[39m, \u001b[33m2308\u001b[39m, \u001b[33m2401\u001b[39m, \u001b[33m2045\u001b[39m, \u001b[33m2058\u001b[39m, \u001b[33m2199\u001b[39m, \u001b[33m2004\u001b[39m, \u001b[33m2082\u001b[39m,\n",
            "    \u001b[33m1738\u001b[39m, \u001b[33m1997\u001b[39m, \u001b[33m2227\u001b[39m, \u001b[33m2484\u001b[39m, \u001b[33m2382\u001b[39m, \u001b[33m1821\u001b[39m, \u001b[33m2141\u001b[39m, \u001b[33m2124\u001b[39m, \u001b[33m1997\u001b[39m, \u001b[33m2235\u001b[39m,\n",
            "    \u001b[33m2096\u001b[39m, \u001b[33m2310\u001b[39m, \u001b[33m2309\u001b[39m, \u001b[33m2516\u001b[39m, \u001b[33m2146\u001b[39m, \u001b[33m2197\u001b[39m, \u001b[33m1908\u001b[39m, \u001b[33m2068\u001b[39m, \u001b[33m2134\u001b[39m, \u001b[33m2118\u001b[39m,\n",
            "    \u001b[33m1932\u001b[39m, \u001b[33m2082\u001b[39m, \u001b[33m1868\u001b[39m, \u001b[33m1963\u001b[39m, \u001b[33m2119\u001b[39m, \u001b[33m2115\u001b[39m, \u001b[33m2231\u001b[39m, \u001b[33m2002\u001b[39m, \u001b[33m1807\u001b[39m, \u001b[33m2075\u001b[39m,\n",
            "    \u001b[33m1936\u001b[39m, \u001b[33m2175\u001b[39m, \u001b[33m1817\u001b[39m, \u001b[33m2394\u001b[39m, \u001b[33m2029\u001b[39m, \u001b[33m2052\u001b[39m, \u001b[33m1814\u001b[39m, \u001b[33m2290\u001b[39m, \u001b[33m2444\u001b[39m, \u001b[33m2076\u001b[39m,\n",
            "    \u001b[33m2251\u001b[39m, \u001b[33m2173\u001b[39m, \u001b[33m2025\u001b[39m, \u001b[33m1999\u001b[39m, \u001b[33m1834\u001b[39m, \u001b[33m1915\u001b[39m, \u001b[33m1901\u001b[39m, \u001b[33m2047\u001b[39m, \u001b[33m2158\u001b[39m, \u001b[33m2039\u001b[39m,\n",
            "    ... 500 more items\n",
            "  ],\n",
            "  [\n",
            "    \u001b[33m2153\u001b[39m, \u001b[33m2085\u001b[39m, \u001b[33m1999\u001b[39m, \u001b[33m2012\u001b[39m, \u001b[33m1929\u001b[39m, \u001b[33m2171\u001b[39m, \u001b[33m1958\u001b[39m, \u001b[33m1997\u001b[39m, \u001b[33m2123\u001b[39m, \u001b[33m1941\u001b[39m,\n",
            "    \u001b[33m1717\u001b[39m, \u001b[33m1872\u001b[39m, \u001b[33m1900\u001b[39m, \u001b[33m1918\u001b[39m, \u001b[33m1892\u001b[39m, \u001b[33m1917\u001b[39m, \u001b[33m1757\u001b[39m, \u001b[33m2196\u001b[39m, \u001b[33m1925\u001b[39m, \u001b[33m2118\u001b[39m,\n",
            "    \u001b[33m2240\u001b[39m, \u001b[33m2130\u001b[39m, \u001b[33m2003\u001b[39m, \u001b[33m2314\u001b[39m, \u001b[33m2013\u001b[39m, \u001b[33m2044\u001b[39m, \u001b[33m1961\u001b[39m, \u001b[33m1956\u001b[39m, \u001b[33m2226\u001b[39m, \u001b[33m1861\u001b[39m,\n",
            "    \u001b[33m1990\u001b[39m, \u001b[33m1922\u001b[39m, \u001b[33m2066\u001b[39m, \u001b[33m2156\u001b[39m, \u001b[33m2154\u001b[39m, \u001b[33m2049\u001b[39m, \u001b[33m1760\u001b[39m, \u001b[33m2060\u001b[39m, \u001b[33m2051\u001b[39m, \u001b[33m1919\u001b[39m,\n",
            "    \u001b[33m1869\u001b[39m, \u001b[33m2256\u001b[39m, \u001b[33m2113\u001b[39m, \u001b[33m2280\u001b[39m, \u001b[33m2063\u001b[39m, \u001b[33m1962\u001b[39m, \u001b[33m2012\u001b[39m, \u001b[33m1985\u001b[39m, \u001b[33m1859\u001b[39m, \u001b[33m2133\u001b[39m,\n",
            "    \u001b[33m1867\u001b[39m, \u001b[33m2110\u001b[39m, \u001b[33m2399\u001b[39m, \u001b[33m2344\u001b[39m, \u001b[33m2244\u001b[39m, \u001b[33m1872\u001b[39m, \u001b[33m2084\u001b[39m, \u001b[33m2180\u001b[39m, \u001b[33m1863\u001b[39m, \u001b[33m2296\u001b[39m,\n",
            "    \u001b[33m2128\u001b[39m, \u001b[33m2055\u001b[39m, \u001b[33m2369\u001b[39m, \u001b[33m2230\u001b[39m, \u001b[33m2014\u001b[39m, \u001b[33m2141\u001b[39m, \u001b[33m1729\u001b[39m, \u001b[33m2070\u001b[39m, \u001b[33m2107\u001b[39m, \u001b[33m2035\u001b[39m,\n",
            "    \u001b[33m2122\u001b[39m, \u001b[33m2000\u001b[39m, \u001b[33m1927\u001b[39m, \u001b[33m2059\u001b[39m, \u001b[33m2166\u001b[39m, \u001b[33m2033\u001b[39m, \u001b[33m2271\u001b[39m, \u001b[33m1923\u001b[39m, \u001b[33m1848\u001b[39m, \u001b[33m2212\u001b[39m,\n",
            "    \u001b[33m2072\u001b[39m, \u001b[33m2201\u001b[39m, \u001b[33m1786\u001b[39m, \u001b[33m2379\u001b[39m, \u001b[33m2091\u001b[39m, \u001b[33m2020\u001b[39m, \u001b[33m2041\u001b[39m, \u001b[33m2190\u001b[39m, \u001b[33m2153\u001b[39m, \u001b[33m1896\u001b[39m,\n",
            "    \u001b[33m2160\u001b[39m, \u001b[33m2197\u001b[39m, \u001b[33m1939\u001b[39m, \u001b[33m1895\u001b[39m, \u001b[33m1945\u001b[39m, \u001b[33m1845\u001b[39m, \u001b[33m1836\u001b[39m, \u001b[33m2020\u001b[39m, \u001b[33m2095\u001b[39m, \u001b[33m2094\u001b[39m,\n",
            "    ... 500 more items\n",
            "  ],\n",
            "  [\n",
            "    \u001b[33m1987\u001b[39m, \u001b[33m2309\u001b[39m, \u001b[33m2096\u001b[39m, \u001b[33m2077\u001b[39m, \u001b[33m1904\u001b[39m, \u001b[33m2318\u001b[39m, \u001b[33m2040\u001b[39m, \u001b[33m1923\u001b[39m, \u001b[33m2006\u001b[39m, \u001b[33m1876\u001b[39m,\n",
            "    \u001b[33m1987\u001b[39m, \u001b[33m2030\u001b[39m, \u001b[33m2046\u001b[39m, \u001b[33m2088\u001b[39m, \u001b[33m1854\u001b[39m, \u001b[33m1884\u001b[39m, \u001b[33m1818\u001b[39m, \u001b[33m2147\u001b[39m, \u001b[33m2077\u001b[39m, \u001b[33m1850\u001b[39m,\n",
            "    \u001b[33m2192\u001b[39m, \u001b[33m2266\u001b[39m, \u001b[33m2048\u001b[39m, \u001b[33m2399\u001b[39m, \u001b[33m2137\u001b[39m, \u001b[33m2108\u001b[39m, \u001b[33m2105\u001b[39m, \u001b[33m1904\u001b[39m, \u001b[33m2038\u001b[39m, \u001b[33m1903\u001b[39m,\n",
            "    \u001b[33m2144\u001b[39m, \u001b[33m2012\u001b[39m, \u001b[33m1982\u001b[39m, \u001b[33m2163\u001b[39m, \u001b[33m1948\u001b[39m, \u001b[33m2117\u001b[39m, \u001b[33m2013\u001b[39m, \u001b[33m1778\u001b[39m, \u001b[33m2082\u001b[39m, \u001b[33m2157\u001b[39m,\n",
            "    \u001b[33m2027\u001b[39m, \u001b[33m2149\u001b[39m, \u001b[33m2171\u001b[39m, \u001b[33m2418\u001b[39m, \u001b[33m2205\u001b[39m, \u001b[33m2019\u001b[39m, \u001b[33m2126\u001b[39m, \u001b[33m2060\u001b[39m, \u001b[33m2172\u001b[39m, \u001b[33m1970\u001b[39m,\n",
            "    \u001b[33m2011\u001b[39m, \u001b[33m1976\u001b[39m, \u001b[33m2274\u001b[39m, \u001b[33m2353\u001b[39m, \u001b[33m2213\u001b[39m, \u001b[33m1917\u001b[39m, \u001b[33m2133\u001b[39m, \u001b[33m2036\u001b[39m, \u001b[33m1818\u001b[39m, \u001b[33m2111\u001b[39m,\n",
            "    \u001b[33m1945\u001b[39m, \u001b[33m2147\u001b[39m, \u001b[33m2373\u001b[39m, \u001b[33m2282\u001b[39m, \u001b[33m2355\u001b[39m, \u001b[33m2081\u001b[39m, \u001b[33m1641\u001b[39m, \u001b[33m1854\u001b[39m, \u001b[33m1948\u001b[39m, \u001b[33m2011\u001b[39m,\n",
            "    \u001b[33m1872\u001b[39m, \u001b[33m2115\u001b[39m, \u001b[33m1853\u001b[39m, \u001b[33m2194\u001b[39m, \u001b[33m2128\u001b[39m, \u001b[33m2208\u001b[39m, \u001b[33m2217\u001b[39m, \u001b[33m2049\u001b[39m, \u001b[33m1971\u001b[39m, \u001b[33m2070\u001b[39m,\n",
            "    \u001b[33m1888\u001b[39m, \u001b[33m2315\u001b[39m, \u001b[33m1816\u001b[39m, \u001b[33m2354\u001b[39m, \u001b[33m1954\u001b[39m, \u001b[33m1994\u001b[39m, \u001b[33m1996\u001b[39m, \u001b[33m2356\u001b[39m, \u001b[33m2335\u001b[39m, \u001b[33m2174\u001b[39m,\n",
            "    \u001b[33m2250\u001b[39m, \u001b[33m2186\u001b[39m, \u001b[33m1811\u001b[39m, \u001b[33m1800\u001b[39m, \u001b[33m1706\u001b[39m, \u001b[33m1921\u001b[39m, \u001b[33m1924\u001b[39m, \u001b[33m2137\u001b[39m, \u001b[33m2155\u001b[39m, \u001b[33m2000\u001b[39m,\n",
            "    ... 500 more items\n",
            "  ],\n",
            "  [\n",
            "    \u001b[33m2025\u001b[39m, \u001b[33m2065\u001b[39m, \u001b[33m1839\u001b[39m, \u001b[33m2019\u001b[39m, \u001b[33m1862\u001b[39m, \u001b[33m2091\u001b[39m, \u001b[33m1866\u001b[39m, \u001b[33m1987\u001b[39m, \u001b[33m1972\u001b[39m, \u001b[33m1906\u001b[39m,\n",
            "    \u001b[33m1792\u001b[39m, \u001b[33m1975\u001b[39m, \u001b[33m2074\u001b[39m, \u001b[33m2039\u001b[39m, \u001b[33m1891\u001b[39m, \u001b[33m1772\u001b[39m, \u001b[33m1574\u001b[39m, \u001b[33m2146\u001b[39m, \u001b[33m1962\u001b[39m, \u001b[33m1857\u001b[39m,\n",
            "    \u001b[33m2110\u001b[39m, \u001b[33m2128\u001b[39m, \u001b[33m2004\u001b[39m, \u001b[33m2311\u001b[39m, \u001b[33m2025\u001b[39m, \u001b[33m1959\u001b[39m, \u001b[33m2044\u001b[39m, \u001b[33m2006\u001b[39m, \u001b[33m2144\u001b[39m, \u001b[33m1954\u001b[39m,\n",
            "    \u001b[33m1964\u001b[39m, \u001b[33m1820\u001b[39m, \u001b[33m1988\u001b[39m, \u001b[33m2034\u001b[39m, \u001b[33m1955\u001b[39m, \u001b[33m2095\u001b[39m, \u001b[33m1792\u001b[39m, \u001b[33m1795\u001b[39m, \u001b[33m1953\u001b[39m, \u001b[33m1965\u001b[39m,\n",
            "    \u001b[33m1947\u001b[39m, \u001b[33m2356\u001b[39m, \u001b[33m2012\u001b[39m, \u001b[33m2266\u001b[39m, \u001b[33m2170\u001b[39m, \u001b[33m2235\u001b[39m, \u001b[33m1875\u001b[39m, \u001b[33m1923\u001b[39m, \u001b[33m1985\u001b[39m, \u001b[33m2190\u001b[39m,\n",
            "    \u001b[33m2020\u001b[39m, \u001b[33m1996\u001b[39m, \u001b[33m2186\u001b[39m, \u001b[33m2181\u001b[39m, \u001b[33m2279\u001b[39m, \u001b[33m1870\u001b[39m, \u001b[33m2148\u001b[39m, \u001b[33m2067\u001b[39m, \u001b[33m1552\u001b[39m, \u001b[33m2064\u001b[39m,\n",
            "    \u001b[33m1821\u001b[39m, \u001b[33m1996\u001b[39m, \u001b[33m2414\u001b[39m, \u001b[33m2214\u001b[39m, \u001b[33m2078\u001b[39m, \u001b[33m2106\u001b[39m, \u001b[33m1675\u001b[39m, \u001b[33m1975\u001b[39m, \u001b[33m1995\u001b[39m, \u001b[33m2054\u001b[39m,\n",
            "    \u001b[33m1806\u001b[39m, \u001b[33m1941\u001b[39m, \u001b[33m1942\u001b[39m, \u001b[33m1937\u001b[39m, \u001b[33m2063\u001b[39m, \u001b[33m2106\u001b[39m, \u001b[33m2162\u001b[39m, \u001b[33m2041\u001b[39m, \u001b[33m1841\u001b[39m, \u001b[33m2058\u001b[39m,\n",
            "    \u001b[33m1937\u001b[39m, \u001b[33m2200\u001b[39m, \u001b[33m1850\u001b[39m, \u001b[33m2084\u001b[39m, \u001b[33m1941\u001b[39m, \u001b[33m2046\u001b[39m, \u001b[33m1983\u001b[39m, \u001b[33m2294\u001b[39m, \u001b[33m2137\u001b[39m, \u001b[33m1840\u001b[39m,\n",
            "    \u001b[33m2249\u001b[39m, \u001b[33m2145\u001b[39m, \u001b[33m1789\u001b[39m, \u001b[33m1796\u001b[39m, \u001b[33m1816\u001b[39m, \u001b[33m1857\u001b[39m, \u001b[33m1957\u001b[39m, \u001b[33m1897\u001b[39m, \u001b[33m2062\u001b[39m, \u001b[33m2075\u001b[39m,\n",
            "    ... 500 more items\n",
            "  ],\n",
            "  [\n",
            "    \u001b[33m1931\u001b[39m, \u001b[33m2323\u001b[39m, \u001b[33m1823\u001b[39m, \u001b[33m1847\u001b[39m, \u001b[33m1801\u001b[39m, \u001b[33m2153\u001b[39m, \u001b[33m2025\u001b[39m, \u001b[33m1911\u001b[39m, \u001b[33m1886\u001b[39m, \u001b[33m1864\u001b[39m,\n",
            "    \u001b[33m1854\u001b[39m, \u001b[33m1871\u001b[39m, \u001b[33m1961\u001b[39m, \u001b[33m1979\u001b[39m, \u001b[33m1957\u001b[39m, \u001b[33m1748\u001b[39m, \u001b[33m1713\u001b[39m, \u001b[33m2211\u001b[39m, \u001b[33m1990\u001b[39m, \u001b[33m1929\u001b[39m,\n",
            "    \u001b[33m1909\u001b[39m, \u001b[33m2243\u001b[39m, \u001b[33m1904\u001b[39m, \u001b[33m2128\u001b[39m, \u001b[33m2110\u001b[39m, \u001b[33m1990\u001b[39m, \u001b[33m1942\u001b[39m, \u001b[33m1991\u001b[39m, \u001b[33m2011\u001b[39m, \u001b[33m1857\u001b[39m,\n",
            "    \u001b[33m1880\u001b[39m, \u001b[33m1889\u001b[39m, \u001b[33m1742\u001b[39m, \u001b[33m2093\u001b[39m, \u001b[33m2002\u001b[39m, \u001b[33m2065\u001b[39m, \u001b[33m1848\u001b[39m, \u001b[33m1751\u001b[39m, \u001b[33m2089\u001b[39m, \u001b[33m1891\u001b[39m,\n",
            "    \u001b[33m1992\u001b[39m, \u001b[33m2188\u001b[39m, \u001b[33m2034\u001b[39m, \u001b[33m2221\u001b[39m, \u001b[33m2217\u001b[39m, \u001b[33m1994\u001b[39m, \u001b[33m2017\u001b[39m, \u001b[33m1892\u001b[39m, \u001b[33m1942\u001b[39m, \u001b[33m2079\u001b[39m,\n",
            "    \u001b[33m1907\u001b[39m, \u001b[33m1843\u001b[39m, \u001b[33m2188\u001b[39m, \u001b[33m2262\u001b[39m, \u001b[33m2242\u001b[39m, \u001b[33m2003\u001b[39m, \u001b[33m2263\u001b[39m, \u001b[33m1986\u001b[39m, \u001b[33m1829\u001b[39m, \u001b[33m2138\u001b[39m,\n",
            "    \u001b[33m1890\u001b[39m, \u001b[33m1947\u001b[39m, \u001b[33m2118\u001b[39m, \u001b[33m2075\u001b[39m, \u001b[33m2185\u001b[39m, \u001b[33m2149\u001b[39m, \u001b[33m1660\u001b[39m, \u001b[33m1919\u001b[39m, \u001b[33m1824\u001b[39m, \u001b[33m1822\u001b[39m,\n",
            "    \u001b[33m1875\u001b[39m, \u001b[33m1879\u001b[39m, \u001b[33m1841\u001b[39m, \u001b[33m2047\u001b[39m, \u001b[33m2078\u001b[39m, \u001b[33m2204\u001b[39m, \u001b[33m2142\u001b[39m, \u001b[33m1812\u001b[39m, \u001b[33m1890\u001b[39m, \u001b[33m2070\u001b[39m,\n",
            "    \u001b[33m1962\u001b[39m, \u001b[33m2147\u001b[39m, \u001b[33m1591\u001b[39m, \u001b[33m2305\u001b[39m, \u001b[33m1987\u001b[39m, \u001b[33m2056\u001b[39m, \u001b[33m1905\u001b[39m, \u001b[33m2140\u001b[39m, \u001b[33m2191\u001b[39m, \u001b[33m1945\u001b[39m,\n",
            "    \u001b[33m2145\u001b[39m, \u001b[33m2162\u001b[39m, \u001b[33m1993\u001b[39m, \u001b[33m1756\u001b[39m, \u001b[33m1737\u001b[39m, \u001b[33m1896\u001b[39m, \u001b[33m1731\u001b[39m, \u001b[33m2029\u001b[39m, \u001b[33m2315\u001b[39m, \u001b[33m2044\u001b[39m,\n",
            "    ... 500 more items\n",
            "  ],\n",
            "  [\n",
            "    \u001b[33m2088\u001b[39m, \u001b[33m2025\u001b[39m, \u001b[33m1880\u001b[39m, \u001b[33m1816\u001b[39m, \u001b[33m1794\u001b[39m, \u001b[33m2059\u001b[39m, \u001b[33m2020\u001b[39m, \u001b[33m1919\u001b[39m, \u001b[33m2024\u001b[39m, \u001b[33m1712\u001b[39m,\n",
            "    \u001b[33m1633\u001b[39m, \u001b[33m1928\u001b[39m, \u001b[33m2043\u001b[39m, \u001b[33m1805\u001b[39m, \u001b[33m1942\u001b[39m, \u001b[33m1868\u001b[39m, \u001b[33m1621\u001b[39m, \u001b[33m1935\u001b[39m, \u001b[33m1970\u001b[39m, \u001b[33m1909\u001b[39m,\n",
            "    \u001b[33m1999\u001b[39m, \u001b[33m2316\u001b[39m, \u001b[33m1971\u001b[39m, \u001b[33m2098\u001b[39m, \u001b[33m2003\u001b[39m, \u001b[33m1888\u001b[39m, \u001b[33m1947\u001b[39m, \u001b[33m1843\u001b[39m, \u001b[33m1982\u001b[39m, \u001b[33m1871\u001b[39m,\n",
            "    \u001b[33m1993\u001b[39m, \u001b[33m2012\u001b[39m, \u001b[33m1906\u001b[39m, \u001b[33m2016\u001b[39m, \u001b[33m1922\u001b[39m, \u001b[33m2072\u001b[39m, \u001b[33m1764\u001b[39m, \u001b[33m1731\u001b[39m, \u001b[33m1958\u001b[39m, \u001b[33m2055\u001b[39m,\n",
            "    \u001b[33m2013\u001b[39m, \u001b[33m2144\u001b[39m, \u001b[33m2135\u001b[39m, \u001b[33m2127\u001b[39m, \u001b[33m2157\u001b[39m, \u001b[33m1869\u001b[39m, \u001b[33m1766\u001b[39m, \u001b[33m1901\u001b[39m, \u001b[33m1917\u001b[39m, \u001b[33m1924\u001b[39m,\n",
            "    \u001b[33m1802\u001b[39m, \u001b[33m1832\u001b[39m, \u001b[33m2097\u001b[39m, \u001b[33m2321\u001b[39m, \u001b[33m2045\u001b[39m, \u001b[33m1839\u001b[39m, \u001b[33m2148\u001b[39m, \u001b[33m2080\u001b[39m, \u001b[33m1795\u001b[39m, \u001b[33m2110\u001b[39m,\n",
            "    \u001b[33m2034\u001b[39m, \u001b[33m1913\u001b[39m, \u001b[33m2368\u001b[39m, \u001b[33m2183\u001b[39m, \u001b[33m2204\u001b[39m, \u001b[33m2022\u001b[39m, \u001b[33m1701\u001b[39m, \u001b[33m1869\u001b[39m, \u001b[33m1950\u001b[39m, \u001b[33m1899\u001b[39m,\n",
            "    \u001b[33m2060\u001b[39m, \u001b[33m2006\u001b[39m, \u001b[33m1837\u001b[39m, \u001b[33m1983\u001b[39m, \u001b[33m1949\u001b[39m, \u001b[33m2035\u001b[39m, \u001b[33m2211\u001b[39m, \u001b[33m2004\u001b[39m, \u001b[33m1729\u001b[39m, \u001b[33m2056\u001b[39m,\n",
            "    \u001b[33m1984\u001b[39m, \u001b[33m2302\u001b[39m, \u001b[33m1717\u001b[39m, \u001b[33m2243\u001b[39m, \u001b[33m1949\u001b[39m, \u001b[33m1943\u001b[39m, \u001b[33m1843\u001b[39m, \u001b[33m2139\u001b[39m, \u001b[33m1960\u001b[39m, \u001b[33m1868\u001b[39m,\n",
            "    \u001b[33m2038\u001b[39m, \u001b[33m2104\u001b[39m, \u001b[33m1939\u001b[39m, \u001b[33m1818\u001b[39m, \u001b[33m1695\u001b[39m, \u001b[33m1696\u001b[39m, \u001b[33m1796\u001b[39m, \u001b[33m2023\u001b[39m, \u001b[33m2127\u001b[39m, \u001b[33m1936\u001b[39m,\n",
            "    ... 500 more items\n",
            "  ],\n",
            "  [\n",
            "    \u001b[33m1766\u001b[39m, \u001b[33m2119\u001b[39m, \u001b[33m1828\u001b[39m, \u001b[33m1877\u001b[39m, \u001b[33m1673\u001b[39m, \u001b[33m1830\u001b[39m, \u001b[33m1908\u001b[39m, \u001b[33m1925\u001b[39m, \u001b[33m1988\u001b[39m, \u001b[33m1835\u001b[39m,\n",
            "    \u001b[33m1843\u001b[39m, \u001b[33m1958\u001b[39m, \u001b[33m2023\u001b[39m, \u001b[33m1963\u001b[39m, \u001b[33m1975\u001b[39m, \u001b[33m1753\u001b[39m, \u001b[33m1653\u001b[39m, \u001b[33m2127\u001b[39m, \u001b[33m1932\u001b[39m, \u001b[33m1838\u001b[39m,\n",
            "    \u001b[33m1957\u001b[39m, \u001b[33m2212\u001b[39m, \u001b[33m1839\u001b[39m, \u001b[33m2231\u001b[39m, \u001b[33m2143\u001b[39m, \u001b[33m1938\u001b[39m, \u001b[33m2015\u001b[39m, \u001b[33m1932\u001b[39m, \u001b[33m2060\u001b[39m, \u001b[33m1916\u001b[39m,\n",
            "    \u001b[33m1953\u001b[39m, \u001b[33m1809\u001b[39m, \u001b[33m1910\u001b[39m, \u001b[33m1907\u001b[39m, \u001b[33m1923\u001b[39m, \u001b[33m2163\u001b[39m, \u001b[33m1788\u001b[39m, \u001b[33m1713\u001b[39m, \u001b[33m2018\u001b[39m, \u001b[33m1875\u001b[39m,\n",
            "    \u001b[33m1995\u001b[39m, \u001b[33m2196\u001b[39m, \u001b[33m2077\u001b[39m, \u001b[33m2375\u001b[39m, \u001b[33m2094\u001b[39m, \u001b[33m1922\u001b[39m, \u001b[33m1871\u001b[39m, \u001b[33m1973\u001b[39m, \u001b[33m2070\u001b[39m, \u001b[33m1858\u001b[39m,\n",
            "    \u001b[33m1829\u001b[39m, \u001b[33m1863\u001b[39m, \u001b[33m2224\u001b[39m, \u001b[33m2342\u001b[39m, \u001b[33m2015\u001b[39m, \u001b[33m2019\u001b[39m, \u001b[33m2143\u001b[39m, \u001b[33m1814\u001b[39m, \u001b[33m1735\u001b[39m, \u001b[33m2104\u001b[39m,\n",
            "    \u001b[33m1900\u001b[39m, \u001b[33m1931\u001b[39m, \u001b[33m2480\u001b[39m, \u001b[33m2141\u001b[39m, \u001b[33m2169\u001b[39m, \u001b[33m2099\u001b[39m, \u001b[33m1654\u001b[39m, \u001b[33m1785\u001b[39m, \u001b[33m1884\u001b[39m, \u001b[33m1919\u001b[39m,\n",
            "    \u001b[33m1940\u001b[39m, \u001b[33m2021\u001b[39m, \u001b[33m1843\u001b[39m, \u001b[33m2096\u001b[39m, \u001b[33m1983\u001b[39m, \u001b[33m2058\u001b[39m, \u001b[33m1963\u001b[39m, \u001b[33m1980\u001b[39m, \u001b[33m1741\u001b[39m, \u001b[33m2011\u001b[39m,\n",
            "    \u001b[33m1937\u001b[39m, \u001b[33m2214\u001b[39m, \u001b[33m1775\u001b[39m, \u001b[33m2117\u001b[39m, \u001b[33m1885\u001b[39m, \u001b[33m1854\u001b[39m, \u001b[33m1948\u001b[39m, \u001b[33m2356\u001b[39m, \u001b[33m2189\u001b[39m, \u001b[33m2075\u001b[39m,\n",
            "    \u001b[33m2110\u001b[39m, \u001b[33m2257\u001b[39m, \u001b[33m2026\u001b[39m, \u001b[33m1838\u001b[39m, \u001b[33m1776\u001b[39m, \u001b[33m1981\u001b[39m, \u001b[33m1869\u001b[39m, \u001b[33m1893\u001b[39m, \u001b[33m2132\u001b[39m, \u001b[33m1922\u001b[39m,\n",
            "    ... 500 more items\n",
            "  ],\n",
            "  [\n",
            "    \u001b[33m1824\u001b[39m, \u001b[33m1844\u001b[39m, \u001b[33m1742\u001b[39m, \u001b[33m1706\u001b[39m, \u001b[33m1791\u001b[39m, \u001b[33m1864\u001b[39m, \u001b[33m1913\u001b[39m, \u001b[33m1858\u001b[39m, \u001b[33m1880\u001b[39m, \u001b[33m1842\u001b[39m,\n",
            "    \u001b[33m1650\u001b[39m, \u001b[33m1742\u001b[39m, \u001b[33m1849\u001b[39m, \u001b[33m1765\u001b[39m, \u001b[33m1816\u001b[39m, \u001b[33m1739\u001b[39m, \u001b[33m1555\u001b[39m, \u001b[33m1906\u001b[39m, \u001b[33m1813\u001b[39m, \u001b[33m1724\u001b[39m,\n",
            "    \u001b[33m1993\u001b[39m, \u001b[33m1954\u001b[39m, \u001b[33m1724\u001b[39m, \u001b[33m2202\u001b[39m, \u001b[33m1839\u001b[39m, \u001b[33m1826\u001b[39m, \u001b[33m1823\u001b[39m, \u001b[33m1738\u001b[39m, \u001b[33m2060\u001b[39m, \u001b[33m1759\u001b[39m,\n",
            "    \u001b[33m1783\u001b[39m, \u001b[33m1684\u001b[39m, \u001b[33m1832\u001b[39m, \u001b[33m1844\u001b[39m, \u001b[33m1800\u001b[39m, \u001b[33m1948\u001b[39m, \u001b[33m1528\u001b[39m, \u001b[33m1801\u001b[39m, \u001b[33m1877\u001b[39m, \u001b[33m1752\u001b[39m,\n",
            "    \u001b[33m1762\u001b[39m, \u001b[33m1992\u001b[39m, \u001b[33m1933\u001b[39m, \u001b[33m2026\u001b[39m, \u001b[33m2042\u001b[39m, \u001b[33m1899\u001b[39m, \u001b[33m1848\u001b[39m, \u001b[33m1890\u001b[39m, \u001b[33m1605\u001b[39m, \u001b[33m1895\u001b[39m,\n",
            "    \u001b[33m1700\u001b[39m, \u001b[33m1781\u001b[39m, \u001b[33m1988\u001b[39m, \u001b[33m2074\u001b[39m, \u001b[33m1950\u001b[39m, \u001b[33m1735\u001b[39m, \u001b[33m1900\u001b[39m, \u001b[33m1877\u001b[39m, \u001b[33m1640\u001b[39m, \u001b[33m1936\u001b[39m,\n",
            "    \u001b[33m1861\u001b[39m, \u001b[33m1907\u001b[39m, \u001b[33m2082\u001b[39m, \u001b[33m1911\u001b[39m, \u001b[33m1942\u001b[39m, \u001b[33m1898\u001b[39m, \u001b[33m1544\u001b[39m, \u001b[33m1937\u001b[39m, \u001b[33m1766\u001b[39m, \u001b[33m1734\u001b[39m,\n",
            "    \u001b[33m1891\u001b[39m, \u001b[33m1866\u001b[39m, \u001b[33m1822\u001b[39m, \u001b[33m1695\u001b[39m, \u001b[33m1835\u001b[39m, \u001b[33m1927\u001b[39m, \u001b[33m1957\u001b[39m, \u001b[33m1861\u001b[39m, \u001b[33m1632\u001b[39m, \u001b[33m1895\u001b[39m,\n",
            "    \u001b[33m1623\u001b[39m, \u001b[33m2057\u001b[39m, \u001b[33m1605\u001b[39m, \u001b[33m1986\u001b[39m, \u001b[33m1969\u001b[39m, \u001b[33m1752\u001b[39m, \u001b[33m1872\u001b[39m, \u001b[33m1925\u001b[39m, \u001b[33m1964\u001b[39m, \u001b[33m1715\u001b[39m,\n",
            "    \u001b[33m1964\u001b[39m, \u001b[33m1801\u001b[39m, \u001b[33m1814\u001b[39m, \u001b[33m1763\u001b[39m, \u001b[33m1613\u001b[39m, \u001b[33m1519\u001b[39m, \u001b[33m1675\u001b[39m, \u001b[33m2010\u001b[39m, \u001b[33m1868\u001b[39m, \u001b[33m1879\u001b[39m,\n",
            "    ... 500 more items\n",
            "  ],\n",
            "  [\n",
            "    \u001b[33m1842\u001b[39m, \u001b[33m2005\u001b[39m, \u001b[33m1670\u001b[39m, \u001b[33m1824\u001b[39m, \u001b[33m1750\u001b[39m, \u001b[33m1958\u001b[39m, \u001b[33m1720\u001b[39m, \u001b[33m1707\u001b[39m, \u001b[33m1807\u001b[39m, \u001b[33m1628\u001b[39m,\n",
            "    \u001b[33m1689\u001b[39m, \u001b[33m1840\u001b[39m, \u001b[33m1703\u001b[39m, \u001b[33m1775\u001b[39m, \u001b[33m1907\u001b[39m, \u001b[33m1544\u001b[39m, \u001b[33m1458\u001b[39m, \u001b[33m1932\u001b[39m, \u001b[33m1802\u001b[39m, \u001b[33m1511\u001b[39m,\n",
            "    \u001b[33m1918\u001b[39m, \u001b[33m1796\u001b[39m, \u001b[33m1848\u001b[39m, \u001b[33m1956\u001b[39m, \u001b[33m1874\u001b[39m, \u001b[33m1805\u001b[39m, \u001b[33m1757\u001b[39m, \u001b[33m1606\u001b[39m, \u001b[33m1971\u001b[39m, \u001b[33m1701\u001b[39m,\n",
            "    \u001b[33m1708\u001b[39m, \u001b[33m1731\u001b[39m, \u001b[33m1653\u001b[39m, \u001b[33m1905\u001b[39m, \u001b[33m1949\u001b[39m, \u001b[33m1819\u001b[39m, \u001b[33m1602\u001b[39m, \u001b[33m1791\u001b[39m, \u001b[33m1786\u001b[39m, \u001b[33m1792\u001b[39m,\n",
            "    \u001b[33m1745\u001b[39m, \u001b[33m2134\u001b[39m, \u001b[33m1881\u001b[39m, \u001b[33m1908\u001b[39m, \u001b[33m1856\u001b[39m, \u001b[33m1980\u001b[39m, \u001b[33m1692\u001b[39m, \u001b[33m1734\u001b[39m, \u001b[33m1758\u001b[39m, \u001b[33m1818\u001b[39m,\n",
            "    \u001b[33m1686\u001b[39m, \u001b[33m1800\u001b[39m, \u001b[33m2013\u001b[39m, \u001b[33m2088\u001b[39m, \u001b[33m1979\u001b[39m, \u001b[33m1777\u001b[39m, \u001b[33m1891\u001b[39m, \u001b[33m1987\u001b[39m, \u001b[33m1592\u001b[39m, \u001b[33m1749\u001b[39m,\n",
            "    \u001b[33m1685\u001b[39m, \u001b[33m1933\u001b[39m, \u001b[33m2007\u001b[39m, \u001b[33m1970\u001b[39m, \u001b[33m2002\u001b[39m, \u001b[33m2041\u001b[39m, \u001b[33m1660\u001b[39m, \u001b[33m1836\u001b[39m, \u001b[33m1867\u001b[39m, \u001b[33m1912\u001b[39m,\n",
            "    \u001b[33m1622\u001b[39m, \u001b[33m1765\u001b[39m, \u001b[33m1827\u001b[39m, \u001b[33m1860\u001b[39m, \u001b[33m1818\u001b[39m, \u001b[33m1898\u001b[39m, \u001b[33m1959\u001b[39m, \u001b[33m1960\u001b[39m, \u001b[33m1671\u001b[39m, \u001b[33m1913\u001b[39m,\n",
            "    \u001b[33m1727\u001b[39m, \u001b[33m1962\u001b[39m, \u001b[33m1650\u001b[39m, \u001b[33m1950\u001b[39m, \u001b[33m1731\u001b[39m, \u001b[33m1830\u001b[39m, \u001b[33m1735\u001b[39m, \u001b[33m1916\u001b[39m, \u001b[33m2027\u001b[39m, \u001b[33m1708\u001b[39m,\n",
            "    \u001b[33m2002\u001b[39m, \u001b[33m1946\u001b[39m, \u001b[33m1825\u001b[39m, \u001b[33m1715\u001b[39m, \u001b[33m1584\u001b[39m, \u001b[33m1757\u001b[39m, \u001b[33m1735\u001b[39m, \u001b[33m1725\u001b[39m, \u001b[33m1843\u001b[39m, \u001b[33m1771\u001b[39m,\n",
            "    ... 500 more items\n",
            "  ],\n",
            "  [\n",
            "    \u001b[33m1969\u001b[39m, \u001b[33m2254\u001b[39m, \u001b[33m1975\u001b[39m, \u001b[33m2041\u001b[39m, \u001b[33m1764\u001b[39m, \u001b[33m2167\u001b[39m, \u001b[33m2100\u001b[39m, \u001b[33m1858\u001b[39m, \u001b[33m1975\u001b[39m, \u001b[33m1875\u001b[39m,\n",
            "    \u001b[33m1929\u001b[39m, \u001b[33m2005\u001b[39m, \u001b[33m1915\u001b[39m, \u001b[33m2068\u001b[39m, \u001b[33m2053\u001b[39m, \u001b[33m1840\u001b[39m, \u001b[33m1682\u001b[39m, \u001b[33m2193\u001b[39m, \u001b[33m1914\u001b[39m, \u001b[33m1869\u001b[39m,\n",
            "    \u001b[33m2108\u001b[39m, \u001b[33m2094\u001b[39m, \u001b[33m1957\u001b[39m, \u001b[33m2213\u001b[39m, \u001b[33m1940\u001b[39m, \u001b[33m1990\u001b[39m, \u001b[33m2043\u001b[39m, \u001b[33m1883\u001b[39m, \u001b[33m2120\u001b[39m, \u001b[33m1938\u001b[39m,\n",
            "    \u001b[33m2045\u001b[39m, \u001b[33m2007\u001b[39m, \u001b[33m1933\u001b[39m, \u001b[33m2107\u001b[39m, \u001b[33m1848\u001b[39m, \u001b[33m1981\u001b[39m, \u001b[33m1966\u001b[39m, \u001b[33m1930\u001b[39m, \u001b[33m2043\u001b[39m, \u001b[33m2053\u001b[39m,\n",
            "    \u001b[33m1870\u001b[39m, \u001b[33m2291\u001b[39m, \u001b[33m2114\u001b[39m, \u001b[33m2174\u001b[39m, \u001b[33m2139\u001b[39m, \u001b[33m2065\u001b[39m, \u001b[33m1969\u001b[39m, \u001b[33m2058\u001b[39m, \u001b[33m2030\u001b[39m, \u001b[33m1994\u001b[39m,\n",
            "    \u001b[33m2053\u001b[39m, \u001b[33m2165\u001b[39m, \u001b[33m2119\u001b[39m, \u001b[33m2335\u001b[39m, \u001b[33m2269\u001b[39m, \u001b[33m1729\u001b[39m, \u001b[33m2221\u001b[39m, \u001b[33m2160\u001b[39m, \u001b[33m1810\u001b[39m, \u001b[33m2148\u001b[39m,\n",
            "    \u001b[33m1974\u001b[39m, \u001b[33m2068\u001b[39m, \u001b[33m2166\u001b[39m, \u001b[33m2197\u001b[39m, \u001b[33m2276\u001b[39m, \u001b[33m2099\u001b[39m, \u001b[33m1730\u001b[39m, \u001b[33m1949\u001b[39m, \u001b[33m2010\u001b[39m, \u001b[33m2094\u001b[39m,\n",
            "    \u001b[33m1837\u001b[39m, \u001b[33m1964\u001b[39m, \u001b[33m2025\u001b[39m, \u001b[33m1946\u001b[39m, \u001b[33m2111\u001b[39m, \u001b[33m2011\u001b[39m, \u001b[33m2246\u001b[39m, \u001b[33m1973\u001b[39m, \u001b[33m1750\u001b[39m, \u001b[33m2136\u001b[39m,\n",
            "    \u001b[33m1988\u001b[39m, \u001b[33m2224\u001b[39m, \u001b[33m1882\u001b[39m, \u001b[33m2411\u001b[39m, \u001b[33m2101\u001b[39m, \u001b[33m1891\u001b[39m, \u001b[33m2081\u001b[39m, \u001b[33m2041\u001b[39m, \u001b[33m2315\u001b[39m, \u001b[33m1928\u001b[39m,\n",
            "    \u001b[33m2145\u001b[39m, \u001b[33m2224\u001b[39m, \u001b[33m2144\u001b[39m, \u001b[33m1803\u001b[39m, \u001b[33m1684\u001b[39m, \u001b[33m1817\u001b[39m, \u001b[33m1894\u001b[39m, \u001b[33m2095\u001b[39m, \u001b[33m2132\u001b[39m, \u001b[33m2069\u001b[39m,\n",
            "    ... 500 more items\n",
            "  ],\n",
            "  [\n",
            "    \u001b[33m1889\u001b[39m, \u001b[33m2153\u001b[39m, \u001b[33m1808\u001b[39m, \u001b[33m1946\u001b[39m, \u001b[33m1907\u001b[39m, \u001b[33m2086\u001b[39m, \u001b[33m2041\u001b[39m, \u001b[33m1975\u001b[39m, \u001b[33m2103\u001b[39m, \u001b[33m1926\u001b[39m,\n",
            "    \u001b[33m1785\u001b[39m, \u001b[33m2018\u001b[39m, \u001b[33m2010\u001b[39m, \u001b[33m1812\u001b[39m, \u001b[33m1940\u001b[39m, \u001b[33m1938\u001b[39m, \u001b[33m1893\u001b[39m, \u001b[33m2268\u001b[39m, \u001b[33m2086\u001b[39m, \u001b[33m1759\u001b[39m,\n",
            "    \u001b[33m2160\u001b[39m, \u001b[33m2129\u001b[39m, \u001b[33m2025\u001b[39m, \u001b[33m2308\u001b[39m, \u001b[33m2200\u001b[39m, \u001b[33m2187\u001b[39m, \u001b[33m1952\u001b[39m, \u001b[33m1931\u001b[39m, \u001b[33m2075\u001b[39m, \u001b[33m2004\u001b[39m,\n",
            "    \u001b[33m1881\u001b[39m, \u001b[33m1933\u001b[39m, \u001b[33m1974\u001b[39m, \u001b[33m2096\u001b[39m, \u001b[33m1996\u001b[39m, \u001b[33m2051\u001b[39m, \u001b[33m1761\u001b[39m, \u001b[33m1927\u001b[39m, \u001b[33m2045\u001b[39m, \u001b[33m1993\u001b[39m,\n",
            "    \u001b[33m1855\u001b[39m, \u001b[33m2248\u001b[39m, \u001b[33m2013\u001b[39m, \u001b[33m2302\u001b[39m, \u001b[33m2103\u001b[39m, \u001b[33m1964\u001b[39m, \u001b[33m2078\u001b[39m, \u001b[33m2009\u001b[39m, \u001b[33m1968\u001b[39m, \u001b[33m1942\u001b[39m,\n",
            "    \u001b[33m1870\u001b[39m, \u001b[33m1930\u001b[39m, \u001b[33m2356\u001b[39m, \u001b[33m2451\u001b[39m, \u001b[33m2309\u001b[39m, \u001b[33m1985\u001b[39m, \u001b[33m2086\u001b[39m, \u001b[33m2004\u001b[39m, \u001b[33m1740\u001b[39m, \u001b[33m2159\u001b[39m,\n",
            "    \u001b[33m2015\u001b[39m, \u001b[33m2071\u001b[39m, \u001b[33m2320\u001b[39m, \u001b[33m2367\u001b[39m, \u001b[33m2163\u001b[39m, \u001b[33m2065\u001b[39m, \u001b[33m1825\u001b[39m, \u001b[33m2005\u001b[39m, \u001b[33m1882\u001b[39m, \u001b[33m2063\u001b[39m,\n",
            "    \u001b[33m2024\u001b[39m, \u001b[33m2026\u001b[39m, \u001b[33m1959\u001b[39m, \u001b[33m2009\u001b[39m, \u001b[33m2089\u001b[39m, \u001b[33m1957\u001b[39m, \u001b[33m2028\u001b[39m, \u001b[33m2111\u001b[39m, \u001b[33m1814\u001b[39m, \u001b[33m2049\u001b[39m,\n",
            "    \u001b[33m1977\u001b[39m, \u001b[33m2289\u001b[39m, \u001b[33m1829\u001b[39m, \u001b[33m2288\u001b[39m, \u001b[33m2014\u001b[39m, \u001b[33m2001\u001b[39m, \u001b[33m1901\u001b[39m, \u001b[33m2226\u001b[39m, \u001b[33m2217\u001b[39m, \u001b[33m1978\u001b[39m,\n",
            "    \u001b[33m2126\u001b[39m, \u001b[33m2000\u001b[39m, \u001b[33m2111\u001b[39m, \u001b[33m1885\u001b[39m, \u001b[33m1714\u001b[39m, \u001b[33m1867\u001b[39m, \u001b[33m1815\u001b[39m, \u001b[33m2104\u001b[39m, \u001b[33m2013\u001b[39m, \u001b[33m1953\u001b[39m,\n",
            "    ... 500 more items\n",
            "  ],\n",
            "  [\n",
            "    \u001b[33m1879\u001b[39m, \u001b[33m1972\u001b[39m, \u001b[33m1837\u001b[39m, \u001b[33m1743\u001b[39m, \u001b[33m1758\u001b[39m, \u001b[33m2023\u001b[39m, \u001b[33m1828\u001b[39m, \u001b[33m1788\u001b[39m, \u001b[33m2018\u001b[39m, \u001b[33m1786\u001b[39m,\n",
            "    \u001b[33m1756\u001b[39m, \u001b[33m1782\u001b[39m, \u001b[33m1872\u001b[39m, \u001b[33m1783\u001b[39m, \u001b[33m1880\u001b[39m, \u001b[33m1858\u001b[39m, \u001b[33m1626\u001b[39m, \u001b[33m2022\u001b[39m, \u001b[33m1858\u001b[39m, \u001b[33m1801\u001b[39m,\n",
            "    \u001b[33m1972\u001b[39m, \u001b[33m2074\u001b[39m, \u001b[33m1784\u001b[39m, \u001b[33m1960\u001b[39m, \u001b[33m1952\u001b[39m, \u001b[33m1886\u001b[39m, \u001b[33m1902\u001b[39m, \u001b[33m1783\u001b[39m, \u001b[33m1718\u001b[39m, \u001b[33m1810\u001b[39m,\n",
            "    \u001b[33m1858\u001b[39m, \u001b[33m1878\u001b[39m, \u001b[33m1858\u001b[39m, \u001b[33m1881\u001b[39m, \u001b[33m1823\u001b[39m, \u001b[33m1953\u001b[39m, \u001b[33m1741\u001b[39m, \u001b[33m1666\u001b[39m, \u001b[33m1879\u001b[39m, \u001b[33m1710\u001b[39m,\n",
            "    \u001b[33m1705\u001b[39m, \u001b[33m2056\u001b[39m, \u001b[33m1925\u001b[39m, \u001b[33m2075\u001b[39m, \u001b[33m1862\u001b[39m, \u001b[33m1690\u001b[39m, \u001b[33m1848\u001b[39m, \u001b[33m1834\u001b[39m, \u001b[33m1804\u001b[39m, \u001b[33m2021\u001b[39m,\n",
            "    \u001b[33m1686\u001b[39m, \u001b[33m1808\u001b[39m, \u001b[33m1996\u001b[39m, \u001b[33m2177\u001b[39m, \u001b[33m2042\u001b[39m, \u001b[33m1780\u001b[39m, \u001b[33m2104\u001b[39m, \u001b[33m1859\u001b[39m, \u001b[33m1531\u001b[39m, \u001b[33m1976\u001b[39m,\n",
            "    \u001b[33m1803\u001b[39m, \u001b[33m1747\u001b[39m, \u001b[33m1919\u001b[39m, \u001b[33m2155\u001b[39m, \u001b[33m1897\u001b[39m, \u001b[33m1961\u001b[39m, \u001b[33m1683\u001b[39m, \u001b[33m1811\u001b[39m, \u001b[33m1885\u001b[39m, \u001b[33m1806\u001b[39m,\n",
            "    \u001b[33m1827\u001b[39m, \u001b[33m1830\u001b[39m, \u001b[33m1813\u001b[39m, \u001b[33m1878\u001b[39m, \u001b[33m1910\u001b[39m, \u001b[33m2017\u001b[39m, \u001b[33m1897\u001b[39m, \u001b[33m1828\u001b[39m, \u001b[33m1727\u001b[39m, \u001b[33m1824\u001b[39m,\n",
            "    \u001b[33m1720\u001b[39m, \u001b[33m2015\u001b[39m, \u001b[33m1607\u001b[39m, \u001b[33m2089\u001b[39m, \u001b[33m1863\u001b[39m, \u001b[33m1788\u001b[39m, \u001b[33m1768\u001b[39m, \u001b[33m2024\u001b[39m, \u001b[33m2094\u001b[39m, \u001b[33m1748\u001b[39m,\n",
            "    \u001b[33m1931\u001b[39m, \u001b[33m2137\u001b[39m, \u001b[33m1809\u001b[39m, \u001b[33m1743\u001b[39m, \u001b[33m1496\u001b[39m, \u001b[33m1854\u001b[39m, \u001b[33m1724\u001b[39m, \u001b[33m1923\u001b[39m, \u001b[33m2035\u001b[39m, \u001b[33m1917\u001b[39m,\n",
            "    ... 500 more items\n",
            "  ],\n",
            "  [\n",
            "    \u001b[33m1986\u001b[39m, \u001b[33m2250\u001b[39m, \u001b[33m1957\u001b[39m, \u001b[33m2007\u001b[39m, \u001b[33m1878\u001b[39m, \u001b[33m2144\u001b[39m, \u001b[33m2054\u001b[39m, \u001b[33m2036\u001b[39m, \u001b[33m2058\u001b[39m, \u001b[33m2026\u001b[39m,\n",
            "    \u001b[33m1882\u001b[39m, \u001b[33m1989\u001b[39m, \u001b[33m2053\u001b[39m, \u001b[33m2010\u001b[39m, \u001b[33m2048\u001b[39m, \u001b[33m1836\u001b[39m, \u001b[33m1680\u001b[39m, \u001b[33m2116\u001b[39m, \u001b[33m1992\u001b[39m, \u001b[33m2029\u001b[39m,\n",
            "    \u001b[33m2003\u001b[39m, \u001b[33m2215\u001b[39m, \u001b[33m2015\u001b[39m, \u001b[33m2262\u001b[39m, \u001b[33m1917\u001b[39m, \u001b[33m1977\u001b[39m, \u001b[33m1966\u001b[39m, \u001b[33m2047\u001b[39m, \u001b[33m2199\u001b[39m, \u001b[33m1890\u001b[39m,\n",
            "    \u001b[33m2023\u001b[39m, \u001b[33m1975\u001b[39m, \u001b[33m1845\u001b[39m, \u001b[33m2161\u001b[39m, \u001b[33m1930\u001b[39m, \u001b[33m2041\u001b[39m, \u001b[33m1788\u001b[39m, \u001b[33m1920\u001b[39m, \u001b[33m1987\u001b[39m, \u001b[33m1924\u001b[39m,\n",
            "    \u001b[33m2016\u001b[39m, \u001b[33m2249\u001b[39m, \u001b[33m2199\u001b[39m, \u001b[33m2163\u001b[39m, \u001b[33m2142\u001b[39m, \u001b[33m2032\u001b[39m, \u001b[33m2008\u001b[39m, \u001b[33m2150\u001b[39m, \u001b[33m1958\u001b[39m, \u001b[33m2060\u001b[39m,\n",
            "    \u001b[33m1993\u001b[39m, \u001b[33m2051\u001b[39m, \u001b[33m2177\u001b[39m, \u001b[33m2238\u001b[39m, \u001b[33m2144\u001b[39m, \u001b[33m2083\u001b[39m, \u001b[33m2300\u001b[39m, \u001b[33m2077\u001b[39m, \u001b[33m1914\u001b[39m, \u001b[33m2034\u001b[39m,\n",
            "    \u001b[33m1866\u001b[39m, \u001b[33m2189\u001b[39m, \u001b[33m2363\u001b[39m, \u001b[33m2349\u001b[39m, \u001b[33m2233\u001b[39m, \u001b[33m2336\u001b[39m, \u001b[33m1744\u001b[39m, \u001b[33m2068\u001b[39m, \u001b[33m2104\u001b[39m, \u001b[33m2061\u001b[39m,\n",
            "    \u001b[33m1948\u001b[39m, \u001b[33m2120\u001b[39m, \u001b[33m1998\u001b[39m, \u001b[33m1962\u001b[39m, \u001b[33m2149\u001b[39m, \u001b[33m2176\u001b[39m, \u001b[33m2073\u001b[39m, \u001b[33m1843\u001b[39m, \u001b[33m1836\u001b[39m, \u001b[33m2405\u001b[39m,\n",
            "    \u001b[33m1944\u001b[39m, \u001b[33m2378\u001b[39m, \u001b[33m1786\u001b[39m, \u001b[33m2280\u001b[39m, \u001b[33m2182\u001b[39m, \u001b[33m2060\u001b[39m, \u001b[33m2188\u001b[39m, \u001b[33m2060\u001b[39m, \u001b[33m2201\u001b[39m, \u001b[33m1945\u001b[39m,\n",
            "    \u001b[33m2289\u001b[39m, \u001b[33m2314\u001b[39m, \u001b[33m1883\u001b[39m, \u001b[33m1878\u001b[39m, \u001b[33m1656\u001b[39m, \u001b[33m1812\u001b[39m, \u001b[33m1882\u001b[39m, \u001b[33m1901\u001b[39m, \u001b[33m2187\u001b[39m, \u001b[33m2167\u001b[39m,\n",
            "    ... 500 more items\n",
            "  ],\n",
            "  [\n",
            "    \u001b[33m2114\u001b[39m, \u001b[33m2219\u001b[39m, \u001b[33m2019\u001b[39m, \u001b[33m1871\u001b[39m, \u001b[33m1713\u001b[39m, \u001b[33m1928\u001b[39m, \u001b[33m2066\u001b[39m, \u001b[33m1874\u001b[39m, \u001b[33m1965\u001b[39m, \u001b[33m1844\u001b[39m,\n",
            "    \u001b[33m1976\u001b[39m, \u001b[33m1857\u001b[39m, \u001b[33m2066\u001b[39m, \u001b[33m1898\u001b[39m, \u001b[33m1903\u001b[39m, \u001b[33m1695\u001b[39m, \u001b[33m1775\u001b[39m, \u001b[33m2145\u001b[39m, \u001b[33m1924\u001b[39m, \u001b[33m2014\u001b[39m,\n",
            "    \u001b[33m1944\u001b[39m, \u001b[33m2192\u001b[39m, \u001b[33m2027\u001b[39m, \u001b[33m2146\u001b[39m, \u001b[33m2214\u001b[39m, \u001b[33m1996\u001b[39m, \u001b[33m2079\u001b[39m, \u001b[33m1940\u001b[39m, \u001b[33m1953\u001b[39m, \u001b[33m1849\u001b[39m,\n",
            "    \u001b[33m2091\u001b[39m, \u001b[33m1919\u001b[39m, \u001b[33m1891\u001b[39m, \u001b[33m1882\u001b[39m, \u001b[33m1901\u001b[39m, \u001b[33m2102\u001b[39m, \u001b[33m1798\u001b[39m, \u001b[33m1794\u001b[39m, \u001b[33m2198\u001b[39m, \u001b[33m1973\u001b[39m,\n",
            "    \u001b[33m1915\u001b[39m, \u001b[33m2160\u001b[39m, \u001b[33m2075\u001b[39m, \u001b[33m2119\u001b[39m, \u001b[33m2132\u001b[39m, \u001b[33m1835\u001b[39m, \u001b[33m1872\u001b[39m, \u001b[33m1985\u001b[39m, \u001b[33m1933\u001b[39m, \u001b[33m2031\u001b[39m,\n",
            "    \u001b[33m1751\u001b[39m, \u001b[33m2012\u001b[39m, \u001b[33m2048\u001b[39m, \u001b[33m2271\u001b[39m, \u001b[33m2001\u001b[39m, \u001b[33m1878\u001b[39m, \u001b[33m2156\u001b[39m, \u001b[33m2054\u001b[39m, \u001b[33m1814\u001b[39m, \u001b[33m2108\u001b[39m,\n",
            "    \u001b[33m1920\u001b[39m, \u001b[33m2035\u001b[39m, \u001b[33m2286\u001b[39m, \u001b[33m2239\u001b[39m, \u001b[33m2156\u001b[39m, \u001b[33m2072\u001b[39m, \u001b[33m1673\u001b[39m, \u001b[33m1937\u001b[39m, \u001b[33m1757\u001b[39m, \u001b[33m1903\u001b[39m,\n",
            "    \u001b[33m1942\u001b[39m, \u001b[33m1887\u001b[39m, \u001b[33m1927\u001b[39m, \u001b[33m1943\u001b[39m, \u001b[33m1944\u001b[39m, \u001b[33m1993\u001b[39m, \u001b[33m2196\u001b[39m, \u001b[33m1826\u001b[39m, \u001b[33m1805\u001b[39m, \u001b[33m2048\u001b[39m,\n",
            "    \u001b[33m1977\u001b[39m, \u001b[33m2062\u001b[39m, \u001b[33m1705\u001b[39m, \u001b[33m2161\u001b[39m, \u001b[33m1983\u001b[39m, \u001b[33m1878\u001b[39m, \u001b[33m2002\u001b[39m, \u001b[33m2273\u001b[39m, \u001b[33m2158\u001b[39m, \u001b[33m1960\u001b[39m,\n",
            "    \u001b[33m2122\u001b[39m, \u001b[33m2225\u001b[39m, \u001b[33m1787\u001b[39m, \u001b[33m1717\u001b[39m, \u001b[33m1728\u001b[39m, \u001b[33m1899\u001b[39m, \u001b[33m1801\u001b[39m, \u001b[33m1896\u001b[39m, \u001b[33m2072\u001b[39m, \u001b[33m1907\u001b[39m,\n",
            "    ... 500 more items\n",
            "  ],\n",
            "  [\n",
            "    \u001b[33m1947\u001b[39m, \u001b[33m2303\u001b[39m, \u001b[33m1870\u001b[39m, \u001b[33m2022\u001b[39m, \u001b[33m2018\u001b[39m, \u001b[33m2252\u001b[39m, \u001b[33m2030\u001b[39m, \u001b[33m2065\u001b[39m, \u001b[33m2108\u001b[39m, \u001b[33m1742\u001b[39m,\n",
            "    \u001b[33m1780\u001b[39m, \u001b[33m2019\u001b[39m, \u001b[33m2053\u001b[39m, \u001b[33m2032\u001b[39m, \u001b[33m2139\u001b[39m, \u001b[33m1897\u001b[39m, \u001b[33m1669\u001b[39m, \u001b[33m2173\u001b[39m, \u001b[33m1981\u001b[39m, \u001b[33m1833\u001b[39m,\n",
            "    \u001b[33m2267\u001b[39m, \u001b[33m2199\u001b[39m, \u001b[33m1975\u001b[39m, \u001b[33m2302\u001b[39m, \u001b[33m2102\u001b[39m, \u001b[33m1992\u001b[39m, \u001b[33m2099\u001b[39m, \u001b[33m2035\u001b[39m, \u001b[33m2150\u001b[39m, \u001b[33m2035\u001b[39m,\n",
            "    \u001b[33m2055\u001b[39m, \u001b[33m1977\u001b[39m, \u001b[33m2018\u001b[39m, \u001b[33m2203\u001b[39m, \u001b[33m2094\u001b[39m, \u001b[33m1948\u001b[39m, \u001b[33m2039\u001b[39m, \u001b[33m1840\u001b[39m, \u001b[33m2102\u001b[39m, \u001b[33m1961\u001b[39m,\n",
            "    \u001b[33m1858\u001b[39m, \u001b[33m2337\u001b[39m, \u001b[33m2074\u001b[39m, \u001b[33m2163\u001b[39m, \u001b[33m2180\u001b[39m, \u001b[33m2142\u001b[39m, \u001b[33m1959\u001b[39m, \u001b[33m2091\u001b[39m, \u001b[33m1984\u001b[39m, \u001b[33m2164\u001b[39m,\n",
            "    \u001b[33m2009\u001b[39m, \u001b[33m2116\u001b[39m, \u001b[33m2268\u001b[39m, \u001b[33m2279\u001b[39m, \u001b[33m2204\u001b[39m, \u001b[33m2110\u001b[39m, \u001b[33m2252\u001b[39m, \u001b[33m2115\u001b[39m, \u001b[33m1750\u001b[39m, \u001b[33m2172\u001b[39m,\n",
            "    \u001b[33m1948\u001b[39m, \u001b[33m2074\u001b[39m, \u001b[33m2226\u001b[39m, \u001b[33m2198\u001b[39m, \u001b[33m2415\u001b[39m, \u001b[33m2175\u001b[39m, \u001b[33m1721\u001b[39m, \u001b[33m2005\u001b[39m, \u001b[33m1848\u001b[39m, \u001b[33m2232\u001b[39m,\n",
            "    \u001b[33m1886\u001b[39m, \u001b[33m1885\u001b[39m, \u001b[33m1976\u001b[39m, \u001b[33m2159\u001b[39m, \u001b[33m2142\u001b[39m, \u001b[33m2228\u001b[39m, \u001b[33m2129\u001b[39m, \u001b[33m2162\u001b[39m, \u001b[33m1843\u001b[39m, \u001b[33m2033\u001b[39m,\n",
            "    \u001b[33m2056\u001b[39m, \u001b[33m2224\u001b[39m, \u001b[33m1956\u001b[39m, \u001b[33m2337\u001b[39m, \u001b[33m2032\u001b[39m, \u001b[33m2096\u001b[39m, \u001b[33m1907\u001b[39m, \u001b[33m2254\u001b[39m, \u001b[33m2228\u001b[39m, \u001b[33m1884\u001b[39m,\n",
            "    \u001b[33m2116\u001b[39m, \u001b[33m2202\u001b[39m, \u001b[33m1872\u001b[39m, \u001b[33m1784\u001b[39m, \u001b[33m1793\u001b[39m, \u001b[33m1838\u001b[39m, \u001b[33m1890\u001b[39m, \u001b[33m2094\u001b[39m, \u001b[33m2169\u001b[39m, \u001b[33m2134\u001b[39m,\n",
            "    ... 500 more items\n",
            "  ],\n",
            "  [\n",
            "    \u001b[33m2013\u001b[39m, \u001b[33m2268\u001b[39m, \u001b[33m2038\u001b[39m, \u001b[33m1977\u001b[39m, \u001b[33m1935\u001b[39m, \u001b[33m2121\u001b[39m, \u001b[33m2241\u001b[39m, \u001b[33m1968\u001b[39m, \u001b[33m2045\u001b[39m, \u001b[33m1882\u001b[39m,\n",
            "    \u001b[33m1862\u001b[39m, \u001b[33m2131\u001b[39m, \u001b[33m2012\u001b[39m, \u001b[33m2003\u001b[39m, \u001b[33m2187\u001b[39m, \u001b[33m1919\u001b[39m, \u001b[33m1846\u001b[39m, \u001b[33m2291\u001b[39m, \u001b[33m1915\u001b[39m, \u001b[33m1892\u001b[39m,\n",
            "    \u001b[33m1984\u001b[39m, \u001b[33m1990\u001b[39m, \u001b[33m1973\u001b[39m, \u001b[33m2165\u001b[39m, \u001b[33m2111\u001b[39m, \u001b[33m2218\u001b[39m, \u001b[33m1969\u001b[39m, \u001b[33m1851\u001b[39m, \u001b[33m2145\u001b[39m, \u001b[33m2084\u001b[39m,\n",
            "    \u001b[33m2093\u001b[39m, \u001b[33m2067\u001b[39m, \u001b[33m1990\u001b[39m, \u001b[33m2070\u001b[39m, \u001b[33m2071\u001b[39m, \u001b[33m1983\u001b[39m, \u001b[33m1941\u001b[39m, \u001b[33m2039\u001b[39m, \u001b[33m2149\u001b[39m, \u001b[33m1965\u001b[39m,\n",
            "    \u001b[33m1898\u001b[39m, \u001b[33m2278\u001b[39m, \u001b[33m2184\u001b[39m, \u001b[33m2392\u001b[39m, \u001b[33m2145\u001b[39m, \u001b[33m1834\u001b[39m, \u001b[33m2093\u001b[39m, \u001b[33m2096\u001b[39m, \u001b[33m1996\u001b[39m, \u001b[33m2109\u001b[39m,\n",
            "    \u001b[33m1982\u001b[39m, \u001b[33m2093\u001b[39m, \u001b[33m2350\u001b[39m, \u001b[33m2479\u001b[39m, \u001b[33m2413\u001b[39m, \u001b[33m1846\u001b[39m, \u001b[33m2237\u001b[39m, \u001b[33m2009\u001b[39m, \u001b[33m1934\u001b[39m, \u001b[33m2228\u001b[39m,\n",
            "    \u001b[33m2043\u001b[39m, \u001b[33m2202\u001b[39m, \u001b[33m2256\u001b[39m, \u001b[33m2378\u001b[39m, \u001b[33m2290\u001b[39m, \u001b[33m2106\u001b[39m, \u001b[33m1706\u001b[39m, \u001b[33m1977\u001b[39m, \u001b[33m2002\u001b[39m, \u001b[33m2044\u001b[39m,\n",
            "    \u001b[33m2156\u001b[39m, \u001b[33m2090\u001b[39m, \u001b[33m2059\u001b[39m, \u001b[33m2138\u001b[39m, \u001b[33m2112\u001b[39m, \u001b[33m2164\u001b[39m, \u001b[33m2167\u001b[39m, \u001b[33m1968\u001b[39m, \u001b[33m1731\u001b[39m, \u001b[33m2103\u001b[39m,\n",
            "    \u001b[33m2076\u001b[39m, \u001b[33m2347\u001b[39m, \u001b[33m1873\u001b[39m, \u001b[33m2263\u001b[39m, \u001b[33m2007\u001b[39m, \u001b[33m1904\u001b[39m, \u001b[33m1893\u001b[39m, \u001b[33m2308\u001b[39m, \u001b[33m2381\u001b[39m, \u001b[33m2022\u001b[39m,\n",
            "    \u001b[33m2212\u001b[39m, \u001b[33m2193\u001b[39m, \u001b[33m2045\u001b[39m, \u001b[33m1768\u001b[39m, \u001b[33m1631\u001b[39m, \u001b[33m1850\u001b[39m, \u001b[33m1888\u001b[39m, \u001b[33m2058\u001b[39m, \u001b[33m2028\u001b[39m, \u001b[33m2241\u001b[39m,\n",
            "    ... 500 more items\n",
            "  ],\n",
            "  [\n",
            "    \u001b[33m2289\u001b[39m, \u001b[33m2476\u001b[39m, \u001b[33m2159\u001b[39m, \u001b[33m2178\u001b[39m, \u001b[33m2007\u001b[39m, \u001b[33m2398\u001b[39m, \u001b[33m2292\u001b[39m, \u001b[33m2102\u001b[39m, \u001b[33m2077\u001b[39m, \u001b[33m2074\u001b[39m,\n",
            "    \u001b[33m2125\u001b[39m, \u001b[33m2254\u001b[39m, \u001b[33m2109\u001b[39m, \u001b[33m2162\u001b[39m, \u001b[33m2185\u001b[39m, \u001b[33m1895\u001b[39m, \u001b[33m1898\u001b[39m, \u001b[33m2450\u001b[39m, \u001b[33m2165\u001b[39m, \u001b[33m2279\u001b[39m,\n",
            "    \u001b[33m2336\u001b[39m, \u001b[33m2402\u001b[39m, \u001b[33m2245\u001b[39m, \u001b[33m2418\u001b[39m, \u001b[33m2263\u001b[39m, \u001b[33m2259\u001b[39m, \u001b[33m2165\u001b[39m, \u001b[33m2026\u001b[39m, \u001b[33m2261\u001b[39m, \u001b[33m2273\u001b[39m,\n",
            "    \u001b[33m2213\u001b[39m, \u001b[33m2225\u001b[39m, \u001b[33m2026\u001b[39m, \u001b[33m2446\u001b[39m, \u001b[33m2112\u001b[39m, \u001b[33m2307\u001b[39m, \u001b[33m2123\u001b[39m, \u001b[33m2069\u001b[39m, \u001b[33m2441\u001b[39m, \u001b[33m2102\u001b[39m,\n",
            "    \u001b[33m2159\u001b[39m, \u001b[33m2510\u001b[39m, \u001b[33m2394\u001b[39m, \u001b[33m2358\u001b[39m, \u001b[33m2282\u001b[39m, \u001b[33m2092\u001b[39m, \u001b[33m2128\u001b[39m, \u001b[33m2266\u001b[39m, \u001b[33m2245\u001b[39m, \u001b[33m2154\u001b[39m,\n",
            "    \u001b[33m2144\u001b[39m, \u001b[33m2211\u001b[39m, \u001b[33m2256\u001b[39m, \u001b[33m2478\u001b[39m, \u001b[33m2182\u001b[39m, \u001b[33m2041\u001b[39m, \u001b[33m2435\u001b[39m, \u001b[33m2193\u001b[39m, \u001b[33m1983\u001b[39m, \u001b[33m2131\u001b[39m,\n",
            "    \u001b[33m2051\u001b[39m, \u001b[33m2237\u001b[39m, \u001b[33m2453\u001b[39m, \u001b[33m2574\u001b[39m, \u001b[33m2395\u001b[39m, \u001b[33m2349\u001b[39m, \u001b[33m1774\u001b[39m, \u001b[33m2091\u001b[39m, \u001b[33m2115\u001b[39m, \u001b[33m2075\u001b[39m,\n",
            "    \u001b[33m1976\u001b[39m, \u001b[33m2185\u001b[39m, \u001b[33m2225\u001b[39m, \u001b[33m2061\u001b[39m, \u001b[33m2002\u001b[39m, \u001b[33m2195\u001b[39m, \u001b[33m2489\u001b[39m, \u001b[33m2038\u001b[39m, \u001b[33m1975\u001b[39m, \u001b[33m2121\u001b[39m,\n",
            "    \u001b[33m2069\u001b[39m, \u001b[33m2308\u001b[39m, \u001b[33m2077\u001b[39m, \u001b[33m2539\u001b[39m, \u001b[33m2217\u001b[39m, \u001b[33m2119\u001b[39m, \u001b[33m2027\u001b[39m, \u001b[33m2457\u001b[39m, \u001b[33m2496\u001b[39m, \u001b[33m2203\u001b[39m,\n",
            "    \u001b[33m2166\u001b[39m, \u001b[33m2413\u001b[39m, \u001b[33m2127\u001b[39m, \u001b[33m1976\u001b[39m, \u001b[33m1912\u001b[39m, \u001b[33m2150\u001b[39m, \u001b[33m1837\u001b[39m, \u001b[33m2330\u001b[39m, \u001b[33m2387\u001b[39m, \u001b[33m2114\u001b[39m,\n",
            "    ... 500 more items\n",
            "  ],\n",
            "  [\n",
            "    \u001b[33m2085\u001b[39m, \u001b[33m2133\u001b[39m, \u001b[33m2126\u001b[39m, \u001b[33m1952\u001b[39m, \u001b[33m1806\u001b[39m, \u001b[33m2154\u001b[39m, \u001b[33m1939\u001b[39m, \u001b[33m1886\u001b[39m, \u001b[33m2096\u001b[39m, \u001b[33m1915\u001b[39m,\n",
            "    \u001b[33m1829\u001b[39m, \u001b[33m2153\u001b[39m, \u001b[33m2004\u001b[39m, \u001b[33m2077\u001b[39m, \u001b[33m2018\u001b[39m, \u001b[33m1821\u001b[39m, \u001b[33m1768\u001b[39m, \u001b[33m2301\u001b[39m, \u001b[33m1852\u001b[39m, \u001b[33m1872\u001b[39m,\n",
            "    \u001b[33m2159\u001b[39m, \u001b[33m2165\u001b[39m, \u001b[33m1966\u001b[39m, \u001b[33m2352\u001b[39m, \u001b[33m2237\u001b[39m, \u001b[33m1944\u001b[39m, \u001b[33m2025\u001b[39m, \u001b[33m1907\u001b[39m, \u001b[33m2047\u001b[39m, \u001b[33m1892\u001b[39m,\n",
            "    \u001b[33m2218\u001b[39m, \u001b[33m1909\u001b[39m, \u001b[33m2004\u001b[39m, \u001b[33m1971\u001b[39m, \u001b[33m1935\u001b[39m, \u001b[33m2053\u001b[39m, \u001b[33m2026\u001b[39m, \u001b[33m1881\u001b[39m, \u001b[33m2069\u001b[39m, \u001b[33m2047\u001b[39m,\n",
            "    \u001b[33m1919\u001b[39m, \u001b[33m2224\u001b[39m, \u001b[33m2059\u001b[39m, \u001b[33m2287\u001b[39m, \u001b[33m2262\u001b[39m, \u001b[33m1906\u001b[39m, \u001b[33m1973\u001b[39m, \u001b[33m2132\u001b[39m, \u001b[33m2006\u001b[39m, \u001b[33m2119\u001b[39m,\n",
            "    \u001b[33m1934\u001b[39m, \u001b[33m1990\u001b[39m, \u001b[33m2206\u001b[39m, \u001b[33m2362\u001b[39m, \u001b[33m2265\u001b[39m, \u001b[33m1855\u001b[39m, \u001b[33m2130\u001b[39m, \u001b[33m2072\u001b[39m, \u001b[33m1936\u001b[39m, \u001b[33m2231\u001b[39m,\n",
            "    \u001b[33m2152\u001b[39m, \u001b[33m2216\u001b[39m, \u001b[33m2277\u001b[39m, \u001b[33m2247\u001b[39m, \u001b[33m2140\u001b[39m, \u001b[33m2170\u001b[39m, \u001b[33m1873\u001b[39m, \u001b[33m2027\u001b[39m, \u001b[33m1907\u001b[39m, \u001b[33m1940\u001b[39m,\n",
            "    \u001b[33m1898\u001b[39m, \u001b[33m1943\u001b[39m, \u001b[33m1935\u001b[39m, \u001b[33m2198\u001b[39m, \u001b[33m2167\u001b[39m, \u001b[33m2144\u001b[39m, \u001b[33m2217\u001b[39m, \u001b[33m1950\u001b[39m, \u001b[33m1704\u001b[39m, \u001b[33m2233\u001b[39m,\n",
            "    \u001b[33m1987\u001b[39m, \u001b[33m2187\u001b[39m, \u001b[33m1827\u001b[39m, \u001b[33m2331\u001b[39m, \u001b[33m2082\u001b[39m, \u001b[33m1976\u001b[39m, \u001b[33m1865\u001b[39m, \u001b[33m2070\u001b[39m, \u001b[33m2077\u001b[39m, \u001b[33m1928\u001b[39m,\n",
            "    \u001b[33m2111\u001b[39m, \u001b[33m2317\u001b[39m, \u001b[33m1908\u001b[39m, \u001b[33m1736\u001b[39m, \u001b[33m1717\u001b[39m, \u001b[33m1782\u001b[39m, \u001b[33m2018\u001b[39m, \u001b[33m2054\u001b[39m, \u001b[33m2006\u001b[39m, \u001b[33m2198\u001b[39m,\n",
            "    ... 500 more items\n",
            "  ],\n",
            "  [\n",
            "    \u001b[33m1975\u001b[39m, \u001b[33m1887\u001b[39m, \u001b[33m1829\u001b[39m, \u001b[33m1713\u001b[39m, \u001b[33m1650\u001b[39m, \u001b[33m1908\u001b[39m, \u001b[33m1795\u001b[39m, \u001b[33m1716\u001b[39m, \u001b[33m1809\u001b[39m, \u001b[33m1678\u001b[39m,\n",
            "    \u001b[33m1708\u001b[39m, \u001b[33m1888\u001b[39m, \u001b[33m1728\u001b[39m, \u001b[33m1809\u001b[39m, \u001b[33m1868\u001b[39m, \u001b[33m1593\u001b[39m, \u001b[33m1467\u001b[39m, \u001b[33m1976\u001b[39m, \u001b[33m1736\u001b[39m, \u001b[33m1686\u001b[39m,\n",
            "    \u001b[33m1906\u001b[39m, \u001b[33m2079\u001b[39m, \u001b[33m1644\u001b[39m, \u001b[33m2192\u001b[39m, \u001b[33m2015\u001b[39m, \u001b[33m1961\u001b[39m, \u001b[33m1831\u001b[39m, \u001b[33m1783\u001b[39m, \u001b[33m1830\u001b[39m, \u001b[33m1769\u001b[39m,\n",
            "    \u001b[33m1837\u001b[39m, \u001b[33m1675\u001b[39m, \u001b[33m1831\u001b[39m, \u001b[33m2013\u001b[39m, \u001b[33m1775\u001b[39m, \u001b[33m1875\u001b[39m, \u001b[33m1601\u001b[39m, \u001b[33m1776\u001b[39m, \u001b[33m1912\u001b[39m, \u001b[33m1821\u001b[39m,\n",
            "    \u001b[33m1785\u001b[39m, \u001b[33m2154\u001b[39m, \u001b[33m1950\u001b[39m, \u001b[33m2014\u001b[39m, \u001b[33m2042\u001b[39m, \u001b[33m1801\u001b[39m, \u001b[33m1844\u001b[39m, \u001b[33m1768\u001b[39m, \u001b[33m1758\u001b[39m, \u001b[33m1841\u001b[39m,\n",
            "    \u001b[33m1786\u001b[39m, \u001b[33m1742\u001b[39m, \u001b[33m1948\u001b[39m, \u001b[33m2198\u001b[39m, \u001b[33m1988\u001b[39m, \u001b[33m1753\u001b[39m, \u001b[33m1887\u001b[39m, \u001b[33m2016\u001b[39m, \u001b[33m1548\u001b[39m, \u001b[33m1912\u001b[39m,\n",
            "    \u001b[33m1726\u001b[39m, \u001b[33m2142\u001b[39m, \u001b[33m2228\u001b[39m, \u001b[33m2008\u001b[39m, \u001b[33m1907\u001b[39m, \u001b[33m1996\u001b[39m, \u001b[33m1640\u001b[39m, \u001b[33m1695\u001b[39m, \u001b[33m1710\u001b[39m, \u001b[33m1776\u001b[39m,\n",
            "    \u001b[33m1725\u001b[39m, \u001b[33m1792\u001b[39m, \u001b[33m1842\u001b[39m, \u001b[33m1898\u001b[39m, \u001b[33m1868\u001b[39m, \u001b[33m1858\u001b[39m, \u001b[33m2006\u001b[39m, \u001b[33m1706\u001b[39m, \u001b[33m1651\u001b[39m, \u001b[33m2010\u001b[39m,\n",
            "    \u001b[33m1711\u001b[39m, \u001b[33m2150\u001b[39m, \u001b[33m1709\u001b[39m, \u001b[33m2113\u001b[39m, \u001b[33m1790\u001b[39m, \u001b[33m1752\u001b[39m, \u001b[33m1811\u001b[39m, \u001b[33m1937\u001b[39m, \u001b[33m1917\u001b[39m, \u001b[33m1652\u001b[39m,\n",
            "    \u001b[33m1827\u001b[39m, \u001b[33m2022\u001b[39m, \u001b[33m1784\u001b[39m, \u001b[33m1590\u001b[39m, \u001b[33m1589\u001b[39m, \u001b[33m1744\u001b[39m, \u001b[33m1558\u001b[39m, \u001b[33m1584\u001b[39m, \u001b[33m1800\u001b[39m, \u001b[33m1720\u001b[39m,\n",
            "    ... 500 more items\n",
            "  ],\n",
            "  [\n",
            "    \u001b[33m2179\u001b[39m, \u001b[33m2355\u001b[39m, \u001b[33m2033\u001b[39m, \u001b[33m1968\u001b[39m, \u001b[33m2098\u001b[39m, \u001b[33m2177\u001b[39m, \u001b[33m2070\u001b[39m, \u001b[33m2002\u001b[39m, \u001b[33m2177\u001b[39m, \u001b[33m2105\u001b[39m,\n",
            "    \u001b[33m2020\u001b[39m, \u001b[33m2047\u001b[39m, \u001b[33m2076\u001b[39m, \u001b[33m2187\u001b[39m, \u001b[33m2033\u001b[39m, \u001b[33m1861\u001b[39m, \u001b[33m1728\u001b[39m, \u001b[33m2431\u001b[39m, \u001b[33m2082\u001b[39m, \u001b[33m2092\u001b[39m,\n",
            "    \u001b[33m2211\u001b[39m, \u001b[33m2388\u001b[39m, \u001b[33m2115\u001b[39m, \u001b[33m2331\u001b[39m, \u001b[33m2266\u001b[39m, \u001b[33m2132\u001b[39m, \u001b[33m2243\u001b[39m, \u001b[33m2107\u001b[39m, \u001b[33m2285\u001b[39m, \u001b[33m2057\u001b[39m,\n",
            "    \u001b[33m2164\u001b[39m, \u001b[33m2182\u001b[39m, \u001b[33m2329\u001b[39m, \u001b[33m2274\u001b[39m, \u001b[33m2088\u001b[39m, \u001b[33m2238\u001b[39m, \u001b[33m2009\u001b[39m, \u001b[33m1983\u001b[39m, \u001b[33m2265\u001b[39m, \u001b[33m2200\u001b[39m,\n",
            "    \u001b[33m2135\u001b[39m, \u001b[33m2416\u001b[39m, \u001b[33m2354\u001b[39m, \u001b[33m2225\u001b[39m, \u001b[33m2252\u001b[39m, \u001b[33m2244\u001b[39m, \u001b[33m2227\u001b[39m, \u001b[33m2228\u001b[39m, \u001b[33m1988\u001b[39m, \u001b[33m2050\u001b[39m,\n",
            "    \u001b[33m1992\u001b[39m, \u001b[33m2103\u001b[39m, \u001b[33m2302\u001b[39m, \u001b[33m2477\u001b[39m, \u001b[33m2412\u001b[39m, \u001b[33m2037\u001b[39m, \u001b[33m2260\u001b[39m, \u001b[33m2288\u001b[39m, \u001b[33m1914\u001b[39m, \u001b[33m2264\u001b[39m,\n",
            "    \u001b[33m2289\u001b[39m, \u001b[33m2237\u001b[39m, \u001b[33m2330\u001b[39m, \u001b[33m2262\u001b[39m, \u001b[33m2258\u001b[39m, \u001b[33m2225\u001b[39m, \u001b[33m1836\u001b[39m, \u001b[33m2130\u001b[39m, \u001b[33m2106\u001b[39m, \u001b[33m2303\u001b[39m,\n",
            "    \u001b[33m2062\u001b[39m, \u001b[33m1970\u001b[39m, \u001b[33m1977\u001b[39m, \u001b[33m1998\u001b[39m, \u001b[33m2119\u001b[39m, \u001b[33m2217\u001b[39m, \u001b[33m2455\u001b[39m, \u001b[33m2148\u001b[39m, \u001b[33m1897\u001b[39m, \u001b[33m2177\u001b[39m,\n",
            "    \u001b[33m2102\u001b[39m, \u001b[33m2245\u001b[39m, \u001b[33m2047\u001b[39m, \u001b[33m2585\u001b[39m, \u001b[33m2263\u001b[39m, \u001b[33m2019\u001b[39m, \u001b[33m2003\u001b[39m, \u001b[33m2309\u001b[39m, \u001b[33m2163\u001b[39m, \u001b[33m2047\u001b[39m,\n",
            "    \u001b[33m2195\u001b[39m, \u001b[33m2233\u001b[39m, \u001b[33m2052\u001b[39m, \u001b[33m2014\u001b[39m, \u001b[33m1975\u001b[39m, \u001b[33m2132\u001b[39m, \u001b[33m2082\u001b[39m, \u001b[33m2080\u001b[39m, \u001b[33m2312\u001b[39m, \u001b[33m2067\u001b[39m,\n",
            "    ... 500 more items\n",
            "  ],\n",
            "  [\n",
            "    \u001b[33m2025\u001b[39m, \u001b[33m2193\u001b[39m, \u001b[33m1941\u001b[39m, \u001b[33m2008\u001b[39m, \u001b[33m1887\u001b[39m, \u001b[33m2169\u001b[39m, \u001b[33m2061\u001b[39m, \u001b[33m2002\u001b[39m, \u001b[33m1936\u001b[39m, \u001b[33m1770\u001b[39m,\n",
            "    \u001b[33m1908\u001b[39m, \u001b[33m2030\u001b[39m, \u001b[33m1948\u001b[39m, \u001b[33m1936\u001b[39m, \u001b[33m1925\u001b[39m, \u001b[33m1829\u001b[39m, \u001b[33m1637\u001b[39m, \u001b[33m2048\u001b[39m, \u001b[33m1859\u001b[39m, \u001b[33m1901\u001b[39m,\n",
            "    \u001b[33m2066\u001b[39m, \u001b[33m2245\u001b[39m, \u001b[33m2018\u001b[39m, \u001b[33m2254\u001b[39m, \u001b[33m1902\u001b[39m, \u001b[33m1937\u001b[39m, \u001b[33m1994\u001b[39m, \u001b[33m1907\u001b[39m, \u001b[33m2053\u001b[39m, \u001b[33m1972\u001b[39m,\n",
            "    \u001b[33m1940\u001b[39m, \u001b[33m1875\u001b[39m, \u001b[33m1924\u001b[39m, \u001b[33m2193\u001b[39m, \u001b[33m1935\u001b[39m, \u001b[33m1995\u001b[39m, \u001b[33m1762\u001b[39m, \u001b[33m1786\u001b[39m, \u001b[33m1911\u001b[39m, \u001b[33m1981\u001b[39m,\n",
            "    \u001b[33m1921\u001b[39m, \u001b[33m2363\u001b[39m, \u001b[33m2121\u001b[39m, \u001b[33m2083\u001b[39m, \u001b[33m2029\u001b[39m, \u001b[33m1925\u001b[39m, \u001b[33m1953\u001b[39m, \u001b[33m1986\u001b[39m, \u001b[33m2045\u001b[39m, \u001b[33m2028\u001b[39m,\n",
            "    \u001b[33m1977\u001b[39m, \u001b[33m2086\u001b[39m, \u001b[33m2069\u001b[39m, \u001b[33m2241\u001b[39m, \u001b[33m2166\u001b[39m, \u001b[33m1976\u001b[39m, \u001b[33m2177\u001b[39m, \u001b[33m1988\u001b[39m, \u001b[33m1789\u001b[39m, \u001b[33m2006\u001b[39m,\n",
            "    \u001b[33m1916\u001b[39m, \u001b[33m2042\u001b[39m, \u001b[33m2348\u001b[39m, \u001b[33m2455\u001b[39m, \u001b[33m2228\u001b[39m, \u001b[33m2018\u001b[39m, \u001b[33m1653\u001b[39m, \u001b[33m2031\u001b[39m, \u001b[33m1836\u001b[39m, \u001b[33m1986\u001b[39m,\n",
            "    \u001b[33m1840\u001b[39m, \u001b[33m1997\u001b[39m, \u001b[33m1987\u001b[39m, \u001b[33m1868\u001b[39m, \u001b[33m2001\u001b[39m, \u001b[33m2043\u001b[39m, \u001b[33m1970\u001b[39m, \u001b[33m1920\u001b[39m, \u001b[33m1810\u001b[39m, \u001b[33m2046\u001b[39m,\n",
            "    \u001b[33m1909\u001b[39m, \u001b[33m2332\u001b[39m, \u001b[33m1793\u001b[39m, \u001b[33m2342\u001b[39m, \u001b[33m2050\u001b[39m, \u001b[33m2195\u001b[39m, \u001b[33m2032\u001b[39m, \u001b[33m2257\u001b[39m, \u001b[33m2161\u001b[39m, \u001b[33m1851\u001b[39m,\n",
            "    \u001b[33m2086\u001b[39m, \u001b[33m2165\u001b[39m, \u001b[33m1890\u001b[39m, \u001b[33m1857\u001b[39m, \u001b[33m1704\u001b[39m, \u001b[33m1928\u001b[39m, \u001b[33m1764\u001b[39m, \u001b[33m1888\u001b[39m, \u001b[33m2089\u001b[39m, \u001b[33m1950\u001b[39m,\n",
            "    ... 500 more items\n",
            "  ],\n",
            "  [\n",
            "    \u001b[33m1974\u001b[39m, \u001b[33m2230\u001b[39m, \u001b[33m1947\u001b[39m, \u001b[33m1914\u001b[39m, \u001b[33m1932\u001b[39m, \u001b[33m2214\u001b[39m, \u001b[33m2176\u001b[39m, \u001b[33m2048\u001b[39m, \u001b[33m2154\u001b[39m, \u001b[33m2027\u001b[39m,\n",
            "    \u001b[33m1986\u001b[39m, \u001b[33m2142\u001b[39m, \u001b[33m2101\u001b[39m, \u001b[33m2188\u001b[39m, \u001b[33m1980\u001b[39m, \u001b[33m1860\u001b[39m, \u001b[33m1944\u001b[39m, \u001b[33m2354\u001b[39m, \u001b[33m2188\u001b[39m, \u001b[33m1970\u001b[39m,\n",
            "    \u001b[33m2271\u001b[39m, \u001b[33m2239\u001b[39m, \u001b[33m1952\u001b[39m, \u001b[33m2428\u001b[39m, \u001b[33m2219\u001b[39m, \u001b[33m2319\u001b[39m, \u001b[33m2225\u001b[39m, \u001b[33m2051\u001b[39m, \u001b[33m2178\u001b[39m, \u001b[33m2077\u001b[39m,\n",
            "    \u001b[33m1932\u001b[39m, \u001b[33m2149\u001b[39m, \u001b[33m2045\u001b[39m, \u001b[33m2182\u001b[39m, \u001b[33m2128\u001b[39m, \u001b[33m2169\u001b[39m, \u001b[33m2145\u001b[39m, \u001b[33m1812\u001b[39m, \u001b[33m2015\u001b[39m, \u001b[33m2052\u001b[39m,\n",
            "    \u001b[33m1973\u001b[39m, \u001b[33m2277\u001b[39m, \u001b[33m2270\u001b[39m, \u001b[33m2419\u001b[39m, \u001b[33m2251\u001b[39m, \u001b[33m2047\u001b[39m, \u001b[33m2095\u001b[39m, \u001b[33m2153\u001b[39m, \u001b[33m2213\u001b[39m, \u001b[33m1926\u001b[39m,\n",
            "    \u001b[33m2035\u001b[39m, \u001b[33m2079\u001b[39m, \u001b[33m2184\u001b[39m, \u001b[33m2512\u001b[39m, \u001b[33m2259\u001b[39m, \u001b[33m1931\u001b[39m, \u001b[33m2241\u001b[39m, \u001b[33m2084\u001b[39m, \u001b[33m1938\u001b[39m, \u001b[33m2329\u001b[39m,\n",
            "    \u001b[33m2126\u001b[39m, \u001b[33m2142\u001b[39m, \u001b[33m2456\u001b[39m, \u001b[33m2366\u001b[39m, \u001b[33m2248\u001b[39m, \u001b[33m2228\u001b[39m, \u001b[33m1882\u001b[39m, \u001b[33m2143\u001b[39m, \u001b[33m2020\u001b[39m, \u001b[33m2128\u001b[39m,\n",
            "    \u001b[33m1955\u001b[39m, \u001b[33m1993\u001b[39m, \u001b[33m1904\u001b[39m, \u001b[33m2052\u001b[39m, \u001b[33m2174\u001b[39m, \u001b[33m2245\u001b[39m, \u001b[33m2441\u001b[39m, \u001b[33m2013\u001b[39m, \u001b[33m1849\u001b[39m, \u001b[33m2083\u001b[39m,\n",
            "    \u001b[33m2006\u001b[39m, \u001b[33m2180\u001b[39m, \u001b[33m1936\u001b[39m, \u001b[33m2350\u001b[39m, \u001b[33m2005\u001b[39m, \u001b[33m2067\u001b[39m, \u001b[33m2037\u001b[39m, \u001b[33m2315\u001b[39m, \u001b[33m2444\u001b[39m, \u001b[33m2131\u001b[39m,\n",
            "    \u001b[33m2370\u001b[39m, \u001b[33m2430\u001b[39m, \u001b[33m2080\u001b[39m, \u001b[33m1866\u001b[39m, \u001b[33m1858\u001b[39m, \u001b[33m1991\u001b[39m, \u001b[33m2006\u001b[39m, \u001b[33m2151\u001b[39m, \u001b[33m2244\u001b[39m, \u001b[33m2010\u001b[39m,\n",
            "    ... 500 more items\n",
            "  ],\n",
            "  [\n",
            "    \u001b[33m1886\u001b[39m, \u001b[33m1935\u001b[39m, \u001b[33m1987\u001b[39m, \u001b[33m1866\u001b[39m, \u001b[33m1618\u001b[39m, \u001b[33m1931\u001b[39m, \u001b[33m1822\u001b[39m, \u001b[33m1724\u001b[39m, \u001b[33m1804\u001b[39m, \u001b[33m1616\u001b[39m,\n",
            "    \u001b[33m1780\u001b[39m, \u001b[33m1736\u001b[39m, \u001b[33m1793\u001b[39m, \u001b[33m1700\u001b[39m, \u001b[33m1895\u001b[39m, \u001b[33m1776\u001b[39m, \u001b[33m1627\u001b[39m, \u001b[33m1942\u001b[39m, \u001b[33m1783\u001b[39m, \u001b[33m1779\u001b[39m,\n",
            "    \u001b[33m1891\u001b[39m, \u001b[33m1921\u001b[39m, \u001b[33m1831\u001b[39m, \u001b[33m2310\u001b[39m, \u001b[33m2031\u001b[39m, \u001b[33m1901\u001b[39m, \u001b[33m1720\u001b[39m, \u001b[33m1780\u001b[39m, \u001b[33m1886\u001b[39m, \u001b[33m1681\u001b[39m,\n",
            "    \u001b[33m1836\u001b[39m, \u001b[33m1693\u001b[39m, \u001b[33m1730\u001b[39m, \u001b[33m1947\u001b[39m, \u001b[33m1881\u001b[39m, \u001b[33m1795\u001b[39m, \u001b[33m1584\u001b[39m, \u001b[33m1901\u001b[39m, \u001b[33m2132\u001b[39m, \u001b[33m1785\u001b[39m,\n",
            "    \u001b[33m1718\u001b[39m, \u001b[33m2095\u001b[39m, \u001b[33m1910\u001b[39m, \u001b[33m2056\u001b[39m, \u001b[33m1990\u001b[39m, \u001b[33m1850\u001b[39m, \u001b[33m1771\u001b[39m, \u001b[33m1749\u001b[39m, \u001b[33m1875\u001b[39m, \u001b[33m1908\u001b[39m,\n",
            "    \u001b[33m1838\u001b[39m, \u001b[33m1985\u001b[39m, \u001b[33m2117\u001b[39m, \u001b[33m2103\u001b[39m, \u001b[33m1988\u001b[39m, \u001b[33m1832\u001b[39m, \u001b[33m1993\u001b[39m, \u001b[33m1949\u001b[39m, \u001b[33m1758\u001b[39m, \u001b[33m1948\u001b[39m,\n",
            "    \u001b[33m1672\u001b[39m, \u001b[33m1911\u001b[39m, \u001b[33m2047\u001b[39m, \u001b[33m2168\u001b[39m, \u001b[33m2002\u001b[39m, \u001b[33m1828\u001b[39m, \u001b[33m1611\u001b[39m, \u001b[33m1735\u001b[39m, \u001b[33m1774\u001b[39m, \u001b[33m1880\u001b[39m,\n",
            "    \u001b[33m1662\u001b[39m, \u001b[33m1835\u001b[39m, \u001b[33m1939\u001b[39m, \u001b[33m1816\u001b[39m, \u001b[33m1949\u001b[39m, \u001b[33m1809\u001b[39m, \u001b[33m1923\u001b[39m, \u001b[33m1733\u001b[39m, \u001b[33m1600\u001b[39m, \u001b[33m1976\u001b[39m,\n",
            "    \u001b[33m1813\u001b[39m, \u001b[33m1908\u001b[39m, \u001b[33m1637\u001b[39m, \u001b[33m2090\u001b[39m, \u001b[33m1937\u001b[39m, \u001b[33m1843\u001b[39m, \u001b[33m1837\u001b[39m, \u001b[33m2016\u001b[39m, \u001b[33m2086\u001b[39m, \u001b[33m1823\u001b[39m,\n",
            "    \u001b[33m1932\u001b[39m, \u001b[33m2002\u001b[39m, \u001b[33m1959\u001b[39m, \u001b[33m1673\u001b[39m, \u001b[33m1546\u001b[39m, \u001b[33m1828\u001b[39m, \u001b[33m1660\u001b[39m, \u001b[33m1735\u001b[39m, \u001b[33m1791\u001b[39m, \u001b[33m1829\u001b[39m,\n",
            "    ... 500 more items\n",
            "  ],\n",
            "  [\n",
            "    \u001b[33m2000\u001b[39m, \u001b[33m2280\u001b[39m, \u001b[33m2035\u001b[39m, \u001b[33m2111\u001b[39m, \u001b[33m1969\u001b[39m, \u001b[33m2259\u001b[39m, \u001b[33m2010\u001b[39m, \u001b[33m2035\u001b[39m, \u001b[33m2188\u001b[39m, \u001b[33m1948\u001b[39m,\n",
            "    \u001b[33m1794\u001b[39m, \u001b[33m2146\u001b[39m, \u001b[33m2088\u001b[39m, \u001b[33m2079\u001b[39m, \u001b[33m2089\u001b[39m, \u001b[33m1876\u001b[39m, \u001b[33m1785\u001b[39m, \u001b[33m2282\u001b[39m, \u001b[33m2045\u001b[39m, \u001b[33m1960\u001b[39m,\n",
            "    \u001b[33m2293\u001b[39m, \u001b[33m2258\u001b[39m, \u001b[33m1992\u001b[39m, \u001b[33m2511\u001b[39m, \u001b[33m2123\u001b[39m, \u001b[33m2085\u001b[39m, \u001b[33m2043\u001b[39m, \u001b[33m2026\u001b[39m, \u001b[33m2147\u001b[39m, \u001b[33m2051\u001b[39m,\n",
            "    \u001b[33m2114\u001b[39m, \u001b[33m1994\u001b[39m, \u001b[33m1991\u001b[39m, \u001b[33m2230\u001b[39m, \u001b[33m2227\u001b[39m, \u001b[33m2197\u001b[39m, \u001b[33m2002\u001b[39m, \u001b[33m1895\u001b[39m, \u001b[33m2148\u001b[39m, \u001b[33m2154\u001b[39m,\n",
            "    \u001b[33m2079\u001b[39m, \u001b[33m2471\u001b[39m, \u001b[33m2105\u001b[39m, \u001b[33m2474\u001b[39m, \u001b[33m2190\u001b[39m, \u001b[33m1999\u001b[39m, \u001b[33m1997\u001b[39m, \u001b[33m2026\u001b[39m, \u001b[33m2096\u001b[39m, \u001b[33m1910\u001b[39m,\n",
            "    \u001b[33m1975\u001b[39m, \u001b[33m2029\u001b[39m, \u001b[33m2391\u001b[39m, \u001b[33m2516\u001b[39m, \u001b[33m2298\u001b[39m, \u001b[33m2052\u001b[39m, \u001b[33m2172\u001b[39m, \u001b[33m2220\u001b[39m, \u001b[33m1974\u001b[39m, \u001b[33m2263\u001b[39m,\n",
            "    \u001b[33m2133\u001b[39m, \u001b[33m2111\u001b[39m, \u001b[33m2391\u001b[39m, \u001b[33m2279\u001b[39m, \u001b[33m2124\u001b[39m, \u001b[33m2295\u001b[39m, \u001b[33m1864\u001b[39m, \u001b[33m2064\u001b[39m, \u001b[33m2175\u001b[39m, \u001b[33m2128\u001b[39m,\n",
            "    \u001b[33m1962\u001b[39m, \u001b[33m2082\u001b[39m, \u001b[33m2006\u001b[39m, \u001b[33m2096\u001b[39m, \u001b[33m2217\u001b[39m, \u001b[33m2096\u001b[39m, \u001b[33m2224\u001b[39m, \u001b[33m2049\u001b[39m, \u001b[33m1934\u001b[39m, \u001b[33m2231\u001b[39m,\n",
            "    \u001b[33m2171\u001b[39m, \u001b[33m2425\u001b[39m, \u001b[33m1868\u001b[39m, \u001b[33m2435\u001b[39m, \u001b[33m2150\u001b[39m, \u001b[33m2013\u001b[39m, \u001b[33m1952\u001b[39m, \u001b[33m2244\u001b[39m, \u001b[33m2227\u001b[39m, \u001b[33m2090\u001b[39m,\n",
            "    \u001b[33m2113\u001b[39m, \u001b[33m2287\u001b[39m, \u001b[33m2088\u001b[39m, \u001b[33m1917\u001b[39m, \u001b[33m1804\u001b[39m, \u001b[33m2038\u001b[39m, \u001b[33m1880\u001b[39m, \u001b[33m2181\u001b[39m, \u001b[33m2071\u001b[39m, \u001b[33m1979\u001b[39m,\n",
            "    ... 500 more items\n",
            "  ],\n",
            "  [\n",
            "    \u001b[33m2235\u001b[39m, \u001b[33m2594\u001b[39m, \u001b[33m2167\u001b[39m, \u001b[33m2280\u001b[39m, \u001b[33m2121\u001b[39m, \u001b[33m2519\u001b[39m, \u001b[33m2306\u001b[39m, \u001b[33m2180\u001b[39m, \u001b[33m2166\u001b[39m, \u001b[33m2164\u001b[39m,\n",
            "    \u001b[33m2145\u001b[39m, \u001b[33m2042\u001b[39m, \u001b[33m1868\u001b[39m, \u001b[33m2199\u001b[39m, \u001b[33m2186\u001b[39m, \u001b[33m2045\u001b[39m, \u001b[33m1907\u001b[39m, \u001b[33m2437\u001b[39m, \u001b[33m2166\u001b[39m, \u001b[33m2120\u001b[39m,\n",
            "    \u001b[33m2337\u001b[39m, \u001b[33m2256\u001b[39m, \u001b[33m2323\u001b[39m, \u001b[33m2409\u001b[39m, \u001b[33m2341\u001b[39m, \u001b[33m2266\u001b[39m, \u001b[33m1927\u001b[39m, \u001b[33m2422\u001b[39m, \u001b[33m2253\u001b[39m, \u001b[33m2191\u001b[39m,\n",
            "    \u001b[33m2125\u001b[39m, \u001b[33m2100\u001b[39m, \u001b[33m2043\u001b[39m, \u001b[33m2432\u001b[39m, \u001b[33m2295\u001b[39m, \u001b[33m2173\u001b[39m, \u001b[33m2117\u001b[39m, \u001b[33m2048\u001b[39m, \u001b[33m2275\u001b[39m, \u001b[33m2065\u001b[39m,\n",
            "    \u001b[33m2185\u001b[39m, \u001b[33m2503\u001b[39m, \u001b[33m2199\u001b[39m, \u001b[33m2489\u001b[39m, \u001b[33m2446\u001b[39m, \u001b[33m2128\u001b[39m, \u001b[33m2128\u001b[39m, \u001b[33m2238\u001b[39m, \u001b[33m2284\u001b[39m, \u001b[33m2213\u001b[39m,\n",
            "    \u001b[33m2129\u001b[39m, \u001b[33m2298\u001b[39m, \u001b[33m2352\u001b[39m, \u001b[33m2551\u001b[39m, \u001b[33m2286\u001b[39m, \u001b[33m2034\u001b[39m, \u001b[33m2358\u001b[39m, \u001b[33m2394\u001b[39m, \u001b[33m1968\u001b[39m, \u001b[33m2257\u001b[39m,\n",
            "    \u001b[33m2111\u001b[39m, \u001b[33m2282\u001b[39m, \u001b[33m2360\u001b[39m, \u001b[33m2499\u001b[39m, \u001b[33m2360\u001b[39m, \u001b[33m2430\u001b[39m, \u001b[33m1889\u001b[39m, \u001b[33m2162\u001b[39m, \u001b[33m2111\u001b[39m, \u001b[33m2148\u001b[39m,\n",
            "    \u001b[33m2212\u001b[39m, \u001b[33m2023\u001b[39m, \u001b[33m2089\u001b[39m, \u001b[33m2145\u001b[39m, \u001b[33m2107\u001b[39m, \u001b[33m2270\u001b[39m, \u001b[33m2483\u001b[39m, \u001b[33m2073\u001b[39m, \u001b[33m2039\u001b[39m, \u001b[33m2236\u001b[39m,\n",
            "    \u001b[33m2153\u001b[39m, \u001b[33m2507\u001b[39m, \u001b[33m2001\u001b[39m, \u001b[33m2586\u001b[39m, \u001b[33m2146\u001b[39m, \u001b[33m2189\u001b[39m, \u001b[33m2157\u001b[39m, \u001b[33m2350\u001b[39m, \u001b[33m2519\u001b[39m, \u001b[33m2184\u001b[39m,\n",
            "    \u001b[33m2263\u001b[39m, \u001b[33m2341\u001b[39m, \u001b[33m2259\u001b[39m, \u001b[33m2009\u001b[39m, \u001b[33m1843\u001b[39m, \u001b[33m2115\u001b[39m, \u001b[33m1845\u001b[39m, \u001b[33m2178\u001b[39m, \u001b[33m2322\u001b[39m, \u001b[33m2208\u001b[39m,\n",
            "    ... 500 more items\n",
            "  ],\n",
            "  [\n",
            "    \u001b[33m1969\u001b[39m, \u001b[33m2240\u001b[39m, \u001b[33m1986\u001b[39m, \u001b[33m1959\u001b[39m, \u001b[33m2059\u001b[39m, \u001b[33m2190\u001b[39m, \u001b[33m1891\u001b[39m, \u001b[33m2035\u001b[39m, \u001b[33m2114\u001b[39m, \u001b[33m1961\u001b[39m,\n",
            "    \u001b[33m1851\u001b[39m, \u001b[33m1942\u001b[39m, \u001b[33m1948\u001b[39m, \u001b[33m1973\u001b[39m, \u001b[33m1868\u001b[39m, \u001b[33m1897\u001b[39m, \u001b[33m1753\u001b[39m, \u001b[33m2274\u001b[39m, \u001b[33m1964\u001b[39m, \u001b[33m2120\u001b[39m,\n",
            "    \u001b[33m2089\u001b[39m, \u001b[33m2135\u001b[39m, \u001b[33m2121\u001b[39m, \u001b[33m2221\u001b[39m, \u001b[33m2014\u001b[39m, \u001b[33m2053\u001b[39m, \u001b[33m1991\u001b[39m, \u001b[33m2072\u001b[39m, \u001b[33m2194\u001b[39m, \u001b[33m1805\u001b[39m,\n",
            "    \u001b[33m2063\u001b[39m, \u001b[33m2036\u001b[39m, \u001b[33m2002\u001b[39m, \u001b[33m2152\u001b[39m, \u001b[33m2045\u001b[39m, \u001b[33m2154\u001b[39m, \u001b[33m1931\u001b[39m, \u001b[33m1888\u001b[39m, \u001b[33m2072\u001b[39m, \u001b[33m2011\u001b[39m,\n",
            "    \u001b[33m2038\u001b[39m, \u001b[33m2038\u001b[39m, \u001b[33m2106\u001b[39m, \u001b[33m2159\u001b[39m, \u001b[33m2261\u001b[39m, \u001b[33m2029\u001b[39m, \u001b[33m1990\u001b[39m, \u001b[33m2076\u001b[39m, \u001b[33m2014\u001b[39m, \u001b[33m2243\u001b[39m,\n",
            "    \u001b[33m1952\u001b[39m, \u001b[33m1982\u001b[39m, \u001b[33m2365\u001b[39m, \u001b[33m2389\u001b[39m, \u001b[33m2152\u001b[39m, \u001b[33m2058\u001b[39m, \u001b[33m2140\u001b[39m, \u001b[33m2061\u001b[39m, \u001b[33m1903\u001b[39m, \u001b[33m2317\u001b[39m,\n",
            "    \u001b[33m2072\u001b[39m, \u001b[33m2055\u001b[39m, \u001b[33m2565\u001b[39m, \u001b[33m2331\u001b[39m, \u001b[33m2147\u001b[39m, \u001b[33m2306\u001b[39m, \u001b[33m1879\u001b[39m, \u001b[33m2125\u001b[39m, \u001b[33m2082\u001b[39m, \u001b[33m1985\u001b[39m,\n",
            "    \u001b[33m2010\u001b[39m, \u001b[33m1909\u001b[39m, \u001b[33m1804\u001b[39m, \u001b[33m2103\u001b[39m, \u001b[33m2135\u001b[39m, \u001b[33m2043\u001b[39m, \u001b[33m2193\u001b[39m, \u001b[33m2033\u001b[39m, \u001b[33m1880\u001b[39m, \u001b[33m1983\u001b[39m,\n",
            "    \u001b[33m2070\u001b[39m, \u001b[33m2158\u001b[39m, \u001b[33m2077\u001b[39m, \u001b[33m2273\u001b[39m, \u001b[33m1984\u001b[39m, \u001b[33m2113\u001b[39m, \u001b[33m2032\u001b[39m, \u001b[33m2162\u001b[39m, \u001b[33m2164\u001b[39m, \u001b[33m2012\u001b[39m,\n",
            "    \u001b[33m2215\u001b[39m, \u001b[33m2139\u001b[39m, \u001b[33m1837\u001b[39m, \u001b[33m1738\u001b[39m, \u001b[33m1947\u001b[39m, \u001b[33m1967\u001b[39m, \u001b[33m1901\u001b[39m, \u001b[33m1927\u001b[39m, \u001b[33m2243\u001b[39m, \u001b[33m2198\u001b[39m,\n",
            "    ... 500 more items\n",
            "  ],\n",
            "  [\n",
            "    \u001b[33m2272\u001b[39m, \u001b[33m2502\u001b[39m, \u001b[33m2158\u001b[39m, \u001b[33m2226\u001b[39m, \u001b[33m2207\u001b[39m, \u001b[33m2463\u001b[39m, \u001b[33m2156\u001b[39m, \u001b[33m2210\u001b[39m, \u001b[33m2453\u001b[39m, \u001b[33m2081\u001b[39m,\n",
            "    \u001b[33m2085\u001b[39m, \u001b[33m2434\u001b[39m, \u001b[33m2181\u001b[39m, \u001b[33m2248\u001b[39m, \u001b[33m2325\u001b[39m, \u001b[33m1993\u001b[39m, \u001b[33m1888\u001b[39m, \u001b[33m2596\u001b[39m, \u001b[33m2263\u001b[39m, \u001b[33m2258\u001b[39m,\n",
            "    \u001b[33m2445\u001b[39m, \u001b[33m2433\u001b[39m, \u001b[33m2275\u001b[39m, \u001b[33m2534\u001b[39m, \u001b[33m2558\u001b[39m, \u001b[33m2281\u001b[39m, \u001b[33m2380\u001b[39m, \u001b[33m2241\u001b[39m, \u001b[33m2336\u001b[39m, \u001b[33m2200\u001b[39m,\n",
            "    \u001b[33m2326\u001b[39m, \u001b[33m2031\u001b[39m, \u001b[33m2160\u001b[39m, \u001b[33m2321\u001b[39m, \u001b[33m2324\u001b[39m, \u001b[33m2454\u001b[39m, \u001b[33m2165\u001b[39m, \u001b[33m2142\u001b[39m, \u001b[33m2494\u001b[39m, \u001b[33m2199\u001b[39m,\n",
            "    \u001b[33m2153\u001b[39m, \u001b[33m2661\u001b[39m, \u001b[33m2406\u001b[39m, \u001b[33m2623\u001b[39m, \u001b[33m2313\u001b[39m, \u001b[33m2226\u001b[39m, \u001b[33m2271\u001b[39m, \u001b[33m2461\u001b[39m, \u001b[33m2272\u001b[39m, \u001b[33m2311\u001b[39m,\n",
            "    \u001b[33m2098\u001b[39m, \u001b[33m2313\u001b[39m, \u001b[33m2587\u001b[39m, \u001b[33m2666\u001b[39m, \u001b[33m2494\u001b[39m, \u001b[33m2281\u001b[39m, \u001b[33m2367\u001b[39m, \u001b[33m2429\u001b[39m, \u001b[33m1989\u001b[39m, \u001b[33m2465\u001b[39m,\n",
            "    \u001b[33m2338\u001b[39m, \u001b[33m2449\u001b[39m, \u001b[33m2647\u001b[39m, \u001b[33m2473\u001b[39m, \u001b[33m2475\u001b[39m, \u001b[33m2432\u001b[39m, \u001b[33m1867\u001b[39m, \u001b[33m2135\u001b[39m, \u001b[33m2214\u001b[39m, \u001b[33m2204\u001b[39m,\n",
            "    \u001b[33m2148\u001b[39m, \u001b[33m2328\u001b[39m, \u001b[33m2167\u001b[39m, \u001b[33m2419\u001b[39m, \u001b[33m2314\u001b[39m, \u001b[33m2414\u001b[39m, \u001b[33m2572\u001b[39m, \u001b[33m2237\u001b[39m, \u001b[33m2011\u001b[39m, \u001b[33m2424\u001b[39m,\n",
            "    \u001b[33m2338\u001b[39m, \u001b[33m2559\u001b[39m, \u001b[33m2085\u001b[39m, \u001b[33m2646\u001b[39m, \u001b[33m2261\u001b[39m, \u001b[33m2315\u001b[39m, \u001b[33m2079\u001b[39m, \u001b[33m2688\u001b[39m, \u001b[33m2450\u001b[39m, \u001b[33m2160\u001b[39m,\n",
            "    \u001b[33m2481\u001b[39m, \u001b[33m2495\u001b[39m, \u001b[33m2162\u001b[39m, \u001b[33m2036\u001b[39m, \u001b[33m1959\u001b[39m, \u001b[33m2023\u001b[39m, \u001b[33m2055\u001b[39m, \u001b[33m2244\u001b[39m, \u001b[33m2367\u001b[39m, \u001b[33m2273\u001b[39m,\n",
            "    ... 500 more items\n",
            "  ],\n",
            "  [\n",
            "    \u001b[33m1918\u001b[39m, \u001b[33m2277\u001b[39m, \u001b[33m2015\u001b[39m, \u001b[33m1836\u001b[39m, \u001b[33m2039\u001b[39m, \u001b[33m2069\u001b[39m, \u001b[33m1974\u001b[39m, \u001b[33m1959\u001b[39m, \u001b[33m2082\u001b[39m, \u001b[33m1847\u001b[39m,\n",
            "    \u001b[33m1828\u001b[39m, \u001b[33m1772\u001b[39m, \u001b[33m2128\u001b[39m, \u001b[33m2051\u001b[39m, \u001b[33m1899\u001b[39m, \u001b[33m1745\u001b[39m, \u001b[33m1789\u001b[39m, \u001b[33m2213\u001b[39m, \u001b[33m1952\u001b[39m, \u001b[33m1884\u001b[39m,\n",
            "    \u001b[33m1929\u001b[39m, \u001b[33m2230\u001b[39m, \u001b[33m2054\u001b[39m, \u001b[33m2512\u001b[39m, \u001b[33m2154\u001b[39m, \u001b[33m2085\u001b[39m, \u001b[33m2027\u001b[39m, \u001b[33m2041\u001b[39m, \u001b[33m2235\u001b[39m, \u001b[33m1932\u001b[39m,\n",
            "    \u001b[33m1955\u001b[39m, \u001b[33m1889\u001b[39m, \u001b[33m1885\u001b[39m, \u001b[33m2092\u001b[39m, \u001b[33m2062\u001b[39m, \u001b[33m2188\u001b[39m, \u001b[33m1817\u001b[39m, \u001b[33m1876\u001b[39m, \u001b[33m2139\u001b[39m, \u001b[33m1970\u001b[39m,\n",
            "    \u001b[33m1968\u001b[39m, \u001b[33m2268\u001b[39m, \u001b[33m2031\u001b[39m, \u001b[33m2275\u001b[39m, \u001b[33m2136\u001b[39m, \u001b[33m2035\u001b[39m, \u001b[33m1924\u001b[39m, \u001b[33m1902\u001b[39m, \u001b[33m2101\u001b[39m, \u001b[33m2012\u001b[39m,\n",
            "    \u001b[33m1968\u001b[39m, \u001b[33m1942\u001b[39m, \u001b[33m2247\u001b[39m, \u001b[33m2429\u001b[39m, \u001b[33m2286\u001b[39m, \u001b[33m2097\u001b[39m, \u001b[33m2163\u001b[39m, \u001b[33m2098\u001b[39m, \u001b[33m1826\u001b[39m, \u001b[33m2131\u001b[39m,\n",
            "    \u001b[33m2032\u001b[39m, \u001b[33m2136\u001b[39m, \u001b[33m2434\u001b[39m, \u001b[33m2283\u001b[39m, \u001b[33m2212\u001b[39m, \u001b[33m2222\u001b[39m, \u001b[33m1793\u001b[39m, \u001b[33m2036\u001b[39m, \u001b[33m1854\u001b[39m, \u001b[33m2059\u001b[39m,\n",
            "    \u001b[33m2045\u001b[39m, \u001b[33m2049\u001b[39m, \u001b[33m1859\u001b[39m, \u001b[33m1993\u001b[39m, \u001b[33m2054\u001b[39m, \u001b[33m2072\u001b[39m, \u001b[33m2020\u001b[39m, \u001b[33m2011\u001b[39m, \u001b[33m1874\u001b[39m, \u001b[33m2036\u001b[39m,\n",
            "    \u001b[33m2034\u001b[39m, \u001b[33m2268\u001b[39m, \u001b[33m1818\u001b[39m, \u001b[33m2373\u001b[39m, \u001b[33m2039\u001b[39m, \u001b[33m2054\u001b[39m, \u001b[33m1956\u001b[39m, \u001b[33m2389\u001b[39m, \u001b[33m2288\u001b[39m, \u001b[33m2009\u001b[39m,\n",
            "    \u001b[33m2106\u001b[39m, \u001b[33m2047\u001b[39m, \u001b[33m1981\u001b[39m, \u001b[33m1725\u001b[39m, \u001b[33m1687\u001b[39m, \u001b[33m1925\u001b[39m, \u001b[33m1748\u001b[39m, \u001b[33m1983\u001b[39m, \u001b[33m2089\u001b[39m, \u001b[33m2113\u001b[39m,\n",
            "    ... 500 more items\n",
            "  ],\n",
            "  [\n",
            "    \u001b[33m1811\u001b[39m, \u001b[33m2171\u001b[39m, \u001b[33m1875\u001b[39m, \u001b[33m1908\u001b[39m, \u001b[33m1886\u001b[39m, \u001b[33m2012\u001b[39m, \u001b[33m1918\u001b[39m, \u001b[33m1964\u001b[39m, \u001b[33m1942\u001b[39m, \u001b[33m1848\u001b[39m,\n",
            "    \u001b[33m1922\u001b[39m, \u001b[33m1929\u001b[39m, \u001b[33m1791\u001b[39m, \u001b[33m1794\u001b[39m, \u001b[33m1893\u001b[39m, \u001b[33m1769\u001b[39m, \u001b[33m1602\u001b[39m, \u001b[33m2063\u001b[39m, \u001b[33m1854\u001b[39m, \u001b[33m1945\u001b[39m,\n",
            "    \u001b[33m2053\u001b[39m, \u001b[33m2130\u001b[39m, \u001b[33m1964\u001b[39m, \u001b[33m2244\u001b[39m, \u001b[33m1906\u001b[39m, \u001b[33m1994\u001b[39m, \u001b[33m1974\u001b[39m, \u001b[33m1860\u001b[39m, \u001b[33m2018\u001b[39m, \u001b[33m1818\u001b[39m,\n",
            "    \u001b[33m1907\u001b[39m, \u001b[33m1873\u001b[39m, \u001b[33m2057\u001b[39m, \u001b[33m2005\u001b[39m, \u001b[33m1895\u001b[39m, \u001b[33m2105\u001b[39m, \u001b[33m1685\u001b[39m, \u001b[33m1847\u001b[39m, \u001b[33m1989\u001b[39m, \u001b[33m1903\u001b[39m,\n",
            "    \u001b[33m1835\u001b[39m, \u001b[33m2183\u001b[39m, \u001b[33m2095\u001b[39m, \u001b[33m2225\u001b[39m, \u001b[33m1946\u001b[39m, \u001b[33m1935\u001b[39m, \u001b[33m1791\u001b[39m, \u001b[33m2035\u001b[39m, \u001b[33m1989\u001b[39m, \u001b[33m1975\u001b[39m,\n",
            "    \u001b[33m1780\u001b[39m, \u001b[33m1957\u001b[39m, \u001b[33m2033\u001b[39m, \u001b[33m2257\u001b[39m, \u001b[33m2066\u001b[39m, \u001b[33m1834\u001b[39m, \u001b[33m2165\u001b[39m, \u001b[33m2032\u001b[39m, \u001b[33m1807\u001b[39m, \u001b[33m2008\u001b[39m,\n",
            "    \u001b[33m1928\u001b[39m, \u001b[33m1942\u001b[39m, \u001b[33m2259\u001b[39m, \u001b[33m2351\u001b[39m, \u001b[33m2112\u001b[39m, \u001b[33m1949\u001b[39m, \u001b[33m1572\u001b[39m, \u001b[33m1999\u001b[39m, \u001b[33m2027\u001b[39m, \u001b[33m2079\u001b[39m,\n",
            "    \u001b[33m1966\u001b[39m, \u001b[33m2004\u001b[39m, \u001b[33m1935\u001b[39m, \u001b[33m2082\u001b[39m, \u001b[33m1967\u001b[39m, \u001b[33m2051\u001b[39m, \u001b[33m2032\u001b[39m, \u001b[33m1914\u001b[39m, \u001b[33m1764\u001b[39m, \u001b[33m2045\u001b[39m,\n",
            "    \u001b[33m1778\u001b[39m, \u001b[33m2245\u001b[39m, \u001b[33m1739\u001b[39m, \u001b[33m2274\u001b[39m, \u001b[33m1951\u001b[39m, \u001b[33m1983\u001b[39m, \u001b[33m1902\u001b[39m, \u001b[33m2257\u001b[39m, \u001b[33m2249\u001b[39m, \u001b[33m1774\u001b[39m,\n",
            "    \u001b[33m1993\u001b[39m, \u001b[33m1996\u001b[39m, \u001b[33m1908\u001b[39m, \u001b[33m1922\u001b[39m, \u001b[33m1656\u001b[39m, \u001b[33m1777\u001b[39m, \u001b[33m1893\u001b[39m, \u001b[33m1966\u001b[39m, \u001b[33m1914\u001b[39m, \u001b[33m1907\u001b[39m,\n",
            "    ... 500 more items\n",
            "  ],\n",
            "  [\n",
            "    \u001b[33m2159\u001b[39m, \u001b[33m2428\u001b[39m, \u001b[33m2109\u001b[39m, \u001b[33m2091\u001b[39m, \u001b[33m2088\u001b[39m, \u001b[33m2369\u001b[39m, \u001b[33m2290\u001b[39m, \u001b[33m2207\u001b[39m, \u001b[33m2230\u001b[39m, \u001b[33m1905\u001b[39m,\n",
            "    \u001b[33m2075\u001b[39m, \u001b[33m2155\u001b[39m, \u001b[33m2218\u001b[39m, \u001b[33m2113\u001b[39m, \u001b[33m2032\u001b[39m, \u001b[33m1977\u001b[39m, \u001b[33m1788\u001b[39m, \u001b[33m2341\u001b[39m, \u001b[33m2067\u001b[39m, \u001b[33m1962\u001b[39m,\n",
            "    \u001b[33m2388\u001b[39m, \u001b[33m2396\u001b[39m, \u001b[33m2202\u001b[39m, \u001b[33m2489\u001b[39m, \u001b[33m2200\u001b[39m, \u001b[33m2311\u001b[39m, \u001b[33m2247\u001b[39m, \u001b[33m2040\u001b[39m, \u001b[33m2291\u001b[39m, \u001b[33m2163\u001b[39m,\n",
            "    \u001b[33m2153\u001b[39m, \u001b[33m2026\u001b[39m, \u001b[33m2180\u001b[39m, \u001b[33m2255\u001b[39m, \u001b[33m2085\u001b[39m, \u001b[33m2157\u001b[39m, \u001b[33m2091\u001b[39m, \u001b[33m2006\u001b[39m, \u001b[33m2228\u001b[39m, \u001b[33m2206\u001b[39m,\n",
            "    \u001b[33m2125\u001b[39m, \u001b[33m2572\u001b[39m, \u001b[33m2263\u001b[39m, \u001b[33m2358\u001b[39m, \u001b[33m2238\u001b[39m, \u001b[33m2240\u001b[39m, \u001b[33m2287\u001b[39m, \u001b[33m2191\u001b[39m, \u001b[33m2122\u001b[39m, \u001b[33m2139\u001b[39m,\n",
            "    \u001b[33m2150\u001b[39m, \u001b[33m2138\u001b[39m, \u001b[33m2353\u001b[39m, \u001b[33m2605\u001b[39m, \u001b[33m2315\u001b[39m, \u001b[33m1979\u001b[39m, \u001b[33m2223\u001b[39m, \u001b[33m2432\u001b[39m, \u001b[33m1819\u001b[39m, \u001b[33m2272\u001b[39m,\n",
            "    \u001b[33m2222\u001b[39m, \u001b[33m2280\u001b[39m, \u001b[33m2497\u001b[39m, \u001b[33m2358\u001b[39m, \u001b[33m2315\u001b[39m, \u001b[33m2355\u001b[39m, \u001b[33m1795\u001b[39m, \u001b[33m2102\u001b[39m, \u001b[33m2108\u001b[39m, \u001b[33m2228\u001b[39m,\n",
            "    \u001b[33m2055\u001b[39m, \u001b[33m2189\u001b[39m, \u001b[33m2090\u001b[39m, \u001b[33m2108\u001b[39m, \u001b[33m2130\u001b[39m, \u001b[33m2077\u001b[39m, \u001b[33m2363\u001b[39m, \u001b[33m2167\u001b[39m, \u001b[33m1927\u001b[39m, \u001b[33m2261\u001b[39m,\n",
            "    \u001b[33m2046\u001b[39m, \u001b[33m2336\u001b[39m, \u001b[33m1976\u001b[39m, \u001b[33m2436\u001b[39m, \u001b[33m2240\u001b[39m, \u001b[33m2155\u001b[39m, \u001b[33m2220\u001b[39m, \u001b[33m2373\u001b[39m, \u001b[33m2403\u001b[39m, \u001b[33m2032\u001b[39m,\n",
            "    \u001b[33m2126\u001b[39m, \u001b[33m2389\u001b[39m, \u001b[33m2104\u001b[39m, \u001b[33m2136\u001b[39m, \u001b[33m2119\u001b[39m, \u001b[33m2072\u001b[39m, \u001b[33m1915\u001b[39m, \u001b[33m2140\u001b[39m, \u001b[33m2184\u001b[39m, \u001b[33m1983\u001b[39m,\n",
            "    ... 500 more items\n",
            "  ],\n",
            "  [\n",
            "    \u001b[33m1888\u001b[39m, \u001b[33m2137\u001b[39m, \u001b[33m1843\u001b[39m, \u001b[33m1886\u001b[39m, \u001b[33m1897\u001b[39m, \u001b[33m2042\u001b[39m, \u001b[33m1817\u001b[39m, \u001b[33m1866\u001b[39m, \u001b[33m1986\u001b[39m, \u001b[33m1755\u001b[39m,\n",
            "    \u001b[33m1840\u001b[39m, \u001b[33m1839\u001b[39m, \u001b[33m1835\u001b[39m, \u001b[33m1852\u001b[39m, \u001b[33m1840\u001b[39m, \u001b[33m1746\u001b[39m, \u001b[33m1612\u001b[39m, \u001b[33m2066\u001b[39m, \u001b[33m1857\u001b[39m, \u001b[33m1836\u001b[39m,\n",
            "    \u001b[33m1868\u001b[39m, \u001b[33m2131\u001b[39m, \u001b[33m1844\u001b[39m, \u001b[33m2173\u001b[39m, \u001b[33m1832\u001b[39m, \u001b[33m1950\u001b[39m, \u001b[33m1764\u001b[39m, \u001b[33m1917\u001b[39m, \u001b[33m1973\u001b[39m, \u001b[33m1656\u001b[39m,\n",
            "    \u001b[33m1970\u001b[39m, \u001b[33m1798\u001b[39m, \u001b[33m1820\u001b[39m, \u001b[33m2080\u001b[39m, \u001b[33m1973\u001b[39m, \u001b[33m2046\u001b[39m, \u001b[33m1609\u001b[39m, \u001b[33m1721\u001b[39m, \u001b[33m1914\u001b[39m, \u001b[33m1798\u001b[39m,\n",
            "    \u001b[33m1827\u001b[39m, \u001b[33m2061\u001b[39m, \u001b[33m1957\u001b[39m, \u001b[33m1960\u001b[39m, \u001b[33m1979\u001b[39m, \u001b[33m1817\u001b[39m, \u001b[33m1952\u001b[39m, \u001b[33m1864\u001b[39m, \u001b[33m1941\u001b[39m, \u001b[33m1961\u001b[39m,\n",
            "    \u001b[33m1720\u001b[39m, \u001b[33m1856\u001b[39m, \u001b[33m2104\u001b[39m, \u001b[33m2198\u001b[39m, \u001b[33m2128\u001b[39m, \u001b[33m1906\u001b[39m, \u001b[33m2022\u001b[39m, \u001b[33m2060\u001b[39m, \u001b[33m1725\u001b[39m, \u001b[33m2002\u001b[39m,\n",
            "    \u001b[33m1926\u001b[39m, \u001b[33m1988\u001b[39m, \u001b[33m2158\u001b[39m, \u001b[33m2116\u001b[39m, \u001b[33m2034\u001b[39m, \u001b[33m2038\u001b[39m, \u001b[33m1664\u001b[39m, \u001b[33m1980\u001b[39m, \u001b[33m1888\u001b[39m, \u001b[33m1866\u001b[39m,\n",
            "    \u001b[33m1990\u001b[39m, \u001b[33m1890\u001b[39m, \u001b[33m1835\u001b[39m, \u001b[33m1984\u001b[39m, \u001b[33m2116\u001b[39m, \u001b[33m1968\u001b[39m, \u001b[33m2023\u001b[39m, \u001b[33m1856\u001b[39m, \u001b[33m1796\u001b[39m, \u001b[33m1923\u001b[39m,\n",
            "    \u001b[33m1815\u001b[39m, \u001b[33m2180\u001b[39m, \u001b[33m1816\u001b[39m, \u001b[33m2245\u001b[39m, \u001b[33m1892\u001b[39m, \u001b[33m1834\u001b[39m, \u001b[33m1953\u001b[39m, \u001b[33m2051\u001b[39m, \u001b[33m1941\u001b[39m, \u001b[33m1815\u001b[39m,\n",
            "    \u001b[33m2069\u001b[39m, \u001b[33m2059\u001b[39m, \u001b[33m1828\u001b[39m, \u001b[33m1752\u001b[39m, \u001b[33m1647\u001b[39m, \u001b[33m1821\u001b[39m, \u001b[33m1740\u001b[39m, \u001b[33m1789\u001b[39m, \u001b[33m2139\u001b[39m, \u001b[33m1903\u001b[39m,\n",
            "    ... 500 more items\n",
            "  ],\n",
            "  [\n",
            "    \u001b[33m2224\u001b[39m, \u001b[33m2388\u001b[39m, \u001b[33m2070\u001b[39m, \u001b[33m2179\u001b[39m, \u001b[33m2114\u001b[39m, \u001b[33m2234\u001b[39m, \u001b[33m2133\u001b[39m, \u001b[33m2179\u001b[39m, \u001b[33m2272\u001b[39m, \u001b[33m2054\u001b[39m,\n",
            "    \u001b[33m2168\u001b[39m, \u001b[33m2156\u001b[39m, \u001b[33m2204\u001b[39m, \u001b[33m2163\u001b[39m, \u001b[33m2219\u001b[39m, \u001b[33m2081\u001b[39m, \u001b[33m1862\u001b[39m, \u001b[33m2294\u001b[39m, \u001b[33m2197\u001b[39m, \u001b[33m1991\u001b[39m,\n",
            "    \u001b[33m2267\u001b[39m, \u001b[33m2401\u001b[39m, \u001b[33m1924\u001b[39m, \u001b[33m2522\u001b[39m, \u001b[33m2311\u001b[39m, \u001b[33m2258\u001b[39m, \u001b[33m2317\u001b[39m, \u001b[33m2030\u001b[39m, \u001b[33m2378\u001b[39m, \u001b[33m2201\u001b[39m,\n",
            "    \u001b[33m2196\u001b[39m, \u001b[33m2192\u001b[39m, \u001b[33m2194\u001b[39m, \u001b[33m2206\u001b[39m, \u001b[33m2097\u001b[39m, \u001b[33m2364\u001b[39m, \u001b[33m2057\u001b[39m, \u001b[33m2114\u001b[39m, \u001b[33m2212\u001b[39m, \u001b[33m2204\u001b[39m,\n",
            "    \u001b[33m1948\u001b[39m, \u001b[33m2424\u001b[39m, \u001b[33m2374\u001b[39m, \u001b[33m2415\u001b[39m, \u001b[33m2233\u001b[39m, \u001b[33m2280\u001b[39m, \u001b[33m2230\u001b[39m, \u001b[33m2221\u001b[39m, \u001b[33m2063\u001b[39m, \u001b[33m2122\u001b[39m,\n",
            "    \u001b[33m2136\u001b[39m, \u001b[33m2186\u001b[39m, \u001b[33m2285\u001b[39m, \u001b[33m2556\u001b[39m, \u001b[33m2355\u001b[39m, \u001b[33m2312\u001b[39m, \u001b[33m2382\u001b[39m, \u001b[33m2177\u001b[39m, \u001b[33m2054\u001b[39m, \u001b[33m2281\u001b[39m,\n",
            "    \u001b[33m2139\u001b[39m, \u001b[33m2355\u001b[39m, \u001b[33m2434\u001b[39m, \u001b[33m2648\u001b[39m, \u001b[33m2397\u001b[39m, \u001b[33m2252\u001b[39m, \u001b[33m1881\u001b[39m, \u001b[33m2235\u001b[39m, \u001b[33m2133\u001b[39m, \u001b[33m2337\u001b[39m,\n",
            "    \u001b[33m1984\u001b[39m, \u001b[33m2251\u001b[39m, \u001b[33m2146\u001b[39m, \u001b[33m2220\u001b[39m, \u001b[33m2227\u001b[39m, \u001b[33m2298\u001b[39m, \u001b[33m2128\u001b[39m, \u001b[33m2204\u001b[39m, \u001b[33m2056\u001b[39m, \u001b[33m2337\u001b[39m,\n",
            "    \u001b[33m2070\u001b[39m, \u001b[33m2554\u001b[39m, \u001b[33m2022\u001b[39m, \u001b[33m2440\u001b[39m, \u001b[33m2164\u001b[39m, \u001b[33m2207\u001b[39m, \u001b[33m2034\u001b[39m, \u001b[33m2308\u001b[39m, \u001b[33m2453\u001b[39m, \u001b[33m2246\u001b[39m,\n",
            "    \u001b[33m2341\u001b[39m, \u001b[33m2472\u001b[39m, \u001b[33m2256\u001b[39m, \u001b[33m1933\u001b[39m, \u001b[33m1983\u001b[39m, \u001b[33m2090\u001b[39m, \u001b[33m2117\u001b[39m, \u001b[33m2132\u001b[39m, \u001b[33m2205\u001b[39m, \u001b[33m2266\u001b[39m,\n",
            "    ... 500 more items\n",
            "  ],\n",
            "  [\n",
            "    \u001b[33m1922\u001b[39m, \u001b[33m2125\u001b[39m, \u001b[33m1962\u001b[39m, \u001b[33m1821\u001b[39m, \u001b[33m1931\u001b[39m, \u001b[33m2121\u001b[39m, \u001b[33m2012\u001b[39m, \u001b[33m1916\u001b[39m, \u001b[33m2213\u001b[39m, \u001b[33m1774\u001b[39m,\n",
            "    \u001b[33m1795\u001b[39m, \u001b[33m1954\u001b[39m, \u001b[33m1860\u001b[39m, \u001b[33m1908\u001b[39m, \u001b[33m1934\u001b[39m, \u001b[33m1744\u001b[39m, \u001b[33m1825\u001b[39m, \u001b[33m2161\u001b[39m, \u001b[33m2036\u001b[39m, \u001b[33m2007\u001b[39m,\n",
            "    \u001b[33m1869\u001b[39m, \u001b[33m2156\u001b[39m, \u001b[33m1924\u001b[39m, \u001b[33m2124\u001b[39m, \u001b[33m2029\u001b[39m, \u001b[33m2057\u001b[39m, \u001b[33m1998\u001b[39m, \u001b[33m1947\u001b[39m, \u001b[33m2063\u001b[39m, \u001b[33m1959\u001b[39m,\n",
            "    \u001b[33m1917\u001b[39m, \u001b[33m1944\u001b[39m, \u001b[33m1982\u001b[39m, \u001b[33m2086\u001b[39m, \u001b[33m2005\u001b[39m, \u001b[33m2015\u001b[39m, \u001b[33m1920\u001b[39m, \u001b[33m1720\u001b[39m, \u001b[33m2063\u001b[39m, \u001b[33m1957\u001b[39m,\n",
            "    \u001b[33m1844\u001b[39m, \u001b[33m2170\u001b[39m, \u001b[33m2207\u001b[39m, \u001b[33m2335\u001b[39m, \u001b[33m2044\u001b[39m, \u001b[33m1960\u001b[39m, \u001b[33m1891\u001b[39m, \u001b[33m1977\u001b[39m, \u001b[33m1946\u001b[39m, \u001b[33m1796\u001b[39m,\n",
            "    \u001b[33m1933\u001b[39m, \u001b[33m2026\u001b[39m, \u001b[33m2152\u001b[39m, \u001b[33m2281\u001b[39m, \u001b[33m2168\u001b[39m, \u001b[33m1831\u001b[39m, \u001b[33m2155\u001b[39m, \u001b[33m1942\u001b[39m, \u001b[33m1907\u001b[39m, \u001b[33m2017\u001b[39m,\n",
            "    \u001b[33m2063\u001b[39m, \u001b[33m1944\u001b[39m, \u001b[33m2201\u001b[39m, \u001b[33m2207\u001b[39m, \u001b[33m2147\u001b[39m, \u001b[33m2016\u001b[39m, \u001b[33m1651\u001b[39m, \u001b[33m1912\u001b[39m, \u001b[33m2007\u001b[39m, \u001b[33m2076\u001b[39m,\n",
            "    \u001b[33m2018\u001b[39m, \u001b[33m1946\u001b[39m, \u001b[33m1868\u001b[39m, \u001b[33m1948\u001b[39m, \u001b[33m1874\u001b[39m, \u001b[33m2085\u001b[39m, \u001b[33m2198\u001b[39m, \u001b[33m2015\u001b[39m, \u001b[33m1698\u001b[39m, \u001b[33m1887\u001b[39m,\n",
            "    \u001b[33m1946\u001b[39m, \u001b[33m2105\u001b[39m, \u001b[33m1824\u001b[39m, \u001b[33m2270\u001b[39m, \u001b[33m1880\u001b[39m, \u001b[33m1901\u001b[39m, \u001b[33m1941\u001b[39m, \u001b[33m2298\u001b[39m, \u001b[33m2199\u001b[39m, \u001b[33m1874\u001b[39m,\n",
            "    \u001b[33m2059\u001b[39m, \u001b[33m2130\u001b[39m, \u001b[33m1939\u001b[39m, \u001b[33m1871\u001b[39m, \u001b[33m1646\u001b[39m, \u001b[33m1811\u001b[39m, \u001b[33m1850\u001b[39m, \u001b[33m2042\u001b[39m, \u001b[33m2012\u001b[39m, \u001b[33m1818\u001b[39m,\n",
            "    ... 500 more items\n",
            "  ],\n",
            "  ... 500 more items\n",
            "]\n",
            "El tiempo promedio por multipicación es 0.06451535224914551\n"
          ]
        },
        {
          "output_type": "execute_result",
          "data": {
            "text/plain": [
              "        Lenguaje  Prom. Tiempo\n",
              "0         Python     10.749673\n",
              "0          NumPy      0.005612\n",
              "0  Fortran Magic      0.046675\n",
              "0        Fortran      0.245079\n",
              "0              c      0.285712\n",
              "0            C++      0.214692\n",
              "0           Java      0.055000\n",
              "0     Javascript      0.064515"
            ],
            "text/html": [
              "\n",
              "  <div id=\"df-e90da564-4bfd-4cc9-b68e-7806ce5a85fe\">\n",
              "    <div class=\"colab-df-container\">\n",
              "      <div>\n",
              "<style scoped>\n",
              "    .dataframe tbody tr th:only-of-type {\n",
              "        vertical-align: middle;\n",
              "    }\n",
              "\n",
              "    .dataframe tbody tr th {\n",
              "        vertical-align: top;\n",
              "    }\n",
              "\n",
              "    .dataframe thead th {\n",
              "        text-align: right;\n",
              "    }\n",
              "</style>\n",
              "<table border=\"1\" class=\"dataframe\">\n",
              "  <thead>\n",
              "    <tr style=\"text-align: right;\">\n",
              "      <th></th>\n",
              "      <th>Lenguaje</th>\n",
              "      <th>Prom. Tiempo</th>\n",
              "    </tr>\n",
              "  </thead>\n",
              "  <tbody>\n",
              "    <tr>\n",
              "      <th>0</th>\n",
              "      <td>Python</td>\n",
              "      <td>10.749673</td>\n",
              "    </tr>\n",
              "    <tr>\n",
              "      <th>0</th>\n",
              "      <td>NumPy</td>\n",
              "      <td>0.005612</td>\n",
              "    </tr>\n",
              "    <tr>\n",
              "      <th>0</th>\n",
              "      <td>Fortran Magic</td>\n",
              "      <td>0.046675</td>\n",
              "    </tr>\n",
              "    <tr>\n",
              "      <th>0</th>\n",
              "      <td>Fortran</td>\n",
              "      <td>0.245079</td>\n",
              "    </tr>\n",
              "    <tr>\n",
              "      <th>0</th>\n",
              "      <td>c</td>\n",
              "      <td>0.285712</td>\n",
              "    </tr>\n",
              "    <tr>\n",
              "      <th>0</th>\n",
              "      <td>C++</td>\n",
              "      <td>0.214692</td>\n",
              "    </tr>\n",
              "    <tr>\n",
              "      <th>0</th>\n",
              "      <td>Java</td>\n",
              "      <td>0.055000</td>\n",
              "    </tr>\n",
              "    <tr>\n",
              "      <th>0</th>\n",
              "      <td>Javascript</td>\n",
              "      <td>0.064515</td>\n",
              "    </tr>\n",
              "  </tbody>\n",
              "</table>\n",
              "</div>\n",
              "      <button class=\"colab-df-convert\" onclick=\"convertToInteractive('df-e90da564-4bfd-4cc9-b68e-7806ce5a85fe')\"\n",
              "              title=\"Convert this dataframe to an interactive table.\"\n",
              "              style=\"display:none;\">\n",
              "        \n",
              "  <svg xmlns=\"http://www.w3.org/2000/svg\" height=\"24px\"viewBox=\"0 0 24 24\"\n",
              "       width=\"24px\">\n",
              "    <path d=\"M0 0h24v24H0V0z\" fill=\"none\"/>\n",
              "    <path d=\"M18.56 5.44l.94 2.06.94-2.06 2.06-.94-2.06-.94-.94-2.06-.94 2.06-2.06.94zm-11 1L8.5 8.5l.94-2.06 2.06-.94-2.06-.94L8.5 2.5l-.94 2.06-2.06.94zm10 10l.94 2.06.94-2.06 2.06-.94-2.06-.94-.94-2.06-.94 2.06-2.06.94z\"/><path d=\"M17.41 7.96l-1.37-1.37c-.4-.4-.92-.59-1.43-.59-.52 0-1.04.2-1.43.59L10.3 9.45l-7.72 7.72c-.78.78-.78 2.05 0 2.83L4 21.41c.39.39.9.59 1.41.59.51 0 1.02-.2 1.41-.59l7.78-7.78 2.81-2.81c.8-.78.8-2.07 0-2.86zM5.41 20L4 18.59l7.72-7.72 1.47 1.35L5.41 20z\"/>\n",
              "  </svg>\n",
              "      </button>\n",
              "      \n",
              "  <style>\n",
              "    .colab-df-container {\n",
              "      display:flex;\n",
              "      flex-wrap:wrap;\n",
              "      gap: 12px;\n",
              "    }\n",
              "\n",
              "    .colab-df-convert {\n",
              "      background-color: #E8F0FE;\n",
              "      border: none;\n",
              "      border-radius: 50%;\n",
              "      cursor: pointer;\n",
              "      display: none;\n",
              "      fill: #1967D2;\n",
              "      height: 32px;\n",
              "      padding: 0 0 0 0;\n",
              "      width: 32px;\n",
              "    }\n",
              "\n",
              "    .colab-df-convert:hover {\n",
              "      background-color: #E2EBFA;\n",
              "      box-shadow: 0px 1px 2px rgba(60, 64, 67, 0.3), 0px 1px 3px 1px rgba(60, 64, 67, 0.15);\n",
              "      fill: #174EA6;\n",
              "    }\n",
              "\n",
              "    [theme=dark] .colab-df-convert {\n",
              "      background-color: #3B4455;\n",
              "      fill: #D2E3FC;\n",
              "    }\n",
              "\n",
              "    [theme=dark] .colab-df-convert:hover {\n",
              "      background-color: #434B5C;\n",
              "      box-shadow: 0px 1px 3px 1px rgba(0, 0, 0, 0.15);\n",
              "      filter: drop-shadow(0px 1px 2px rgba(0, 0, 0, 0.3));\n",
              "      fill: #FFFFFF;\n",
              "    }\n",
              "  </style>\n",
              "\n",
              "      <script>\n",
              "        const buttonEl =\n",
              "          document.querySelector('#df-e90da564-4bfd-4cc9-b68e-7806ce5a85fe button.colab-df-convert');\n",
              "        buttonEl.style.display =\n",
              "          google.colab.kernel.accessAllowed ? 'block' : 'none';\n",
              "\n",
              "        async function convertToInteractive(key) {\n",
              "          const element = document.querySelector('#df-e90da564-4bfd-4cc9-b68e-7806ce5a85fe');\n",
              "          const dataTable =\n",
              "            await google.colab.kernel.invokeFunction('convertToInteractive',\n",
              "                                                     [key], {});\n",
              "          if (!dataTable) return;\n",
              "\n",
              "          const docLinkHtml = 'Like what you see? Visit the ' +\n",
              "            '<a target=\"_blank\" href=https://colab.research.google.com/notebooks/data_table.ipynb>data table notebook</a>'\n",
              "            + ' to learn more about interactive tables.';\n",
              "          element.innerHTML = '';\n",
              "          dataTable['output_type'] = 'display_data';\n",
              "          await google.colab.output.renderOutput(dataTable, element);\n",
              "          const docLink = document.createElement('div');\n",
              "          docLink.innerHTML = docLinkHtml;\n",
              "          element.appendChild(docLink);\n",
              "        }\n",
              "      </script>\n",
              "    </div>\n",
              "  </div>\n",
              "  "
            ]
          },
          "metadata": {},
          "execution_count": 61
        }
      ],
      "source": [
        "list4=[]\n",
        "def tiempo():\n",
        "  for i in range(1):\n",
        "    inicio=time.time()\n",
        "\n",
        "    !node matMul.js\n",
        "    \n",
        "    final=time.time()\n",
        "\n",
        "    list4.append(final-inicio)\n",
        "\n",
        "  return list4\n",
        "tiempo()\n",
        "print(\"El tiempo promedio por multipicación es {0}\".format(np.mean(list4)/10))\n",
        "prom_jc=np.mean(list4)/10\n",
        "df=app_df(df,\"Javascript\",prom_jc)\n",
        "df"
      ]
    },
    {
      "cell_type": "markdown",
      "metadata": {
        "id": "XPP0Ir1dezN6"
      },
      "source": [
        "**My own example 31 - Finding the minimun average esecuiton time in the data frame**"
      ]
    },
    {
      "cell_type": "code",
      "execution_count": 62,
      "metadata": {
        "id": "y0rA3N9v7KyM",
        "colab": {
          "base_uri": "https://localhost:8080/"
        },
        "outputId": "c450e9e5-0037-431c-fd83-c428df77269a"
      },
      "outputs": [
        {
          "output_type": "execute_result",
          "data": {
            "text/plain": [
              "0.005611586570739746"
            ]
          },
          "metadata": {},
          "execution_count": 62
        }
      ],
      "source": [
        "prom_min=np.min(df[\"Prom. Tiempo\"])\n",
        "prom_min"
      ]
    },
    {
      "cell_type": "markdown",
      "metadata": {
        "id": "_IjH2K6ldJAQ"
      },
      "source": [
        "**My own example 32 - Adding the Speed factor columne to the data frame**"
      ]
    },
    {
      "cell_type": "code",
      "source": [
        "#Se debe crear una nueva columna en el DF\n",
        "vel=[]\n",
        "vel=df[\"Prom. Tiempo\"]/prom_min\n",
        "df[\"Factor Vel\"]=vel"
      ],
      "metadata": {
        "id": "s_FKzz1ZIbRG"
      },
      "execution_count": 63,
      "outputs": []
    },
    {
      "cell_type": "markdown",
      "metadata": {
        "id": "CjiN21fvdRch"
      },
      "source": [
        "**My own example 33 - Sorting the the data frame by average execution time**"
      ]
    },
    {
      "cell_type": "code",
      "execution_count": 64,
      "metadata": {
        "id": "d8eiDHB0GpBF",
        "colab": {
          "base_uri": "https://localhost:8080/",
          "height": 300
        },
        "outputId": "0a19c95d-de1c-4747-f094-2770c446c207"
      },
      "outputs": [
        {
          "output_type": "execute_result",
          "data": {
            "text/plain": [
              "        Lenguaje  Prom. Tiempo   Factor Vel\n",
              "0          NumPy      0.005612     1.000000\n",
              "0  Fortran Magic      0.046675     8.317542\n",
              "0           Java      0.055000     9.801150\n",
              "0     Javascript      0.064515    11.496811\n",
              "0            C++      0.214692    38.258699\n",
              "0        Fortran      0.245079    43.673688\n",
              "0              c      0.285712    50.914614\n",
              "0         Python     10.749673  1915.621043"
            ],
            "text/html": [
              "\n",
              "  <div id=\"df-d5832a4a-6405-4184-8c0b-840455e99a64\">\n",
              "    <div class=\"colab-df-container\">\n",
              "      <div>\n",
              "<style scoped>\n",
              "    .dataframe tbody tr th:only-of-type {\n",
              "        vertical-align: middle;\n",
              "    }\n",
              "\n",
              "    .dataframe tbody tr th {\n",
              "        vertical-align: top;\n",
              "    }\n",
              "\n",
              "    .dataframe thead th {\n",
              "        text-align: right;\n",
              "    }\n",
              "</style>\n",
              "<table border=\"1\" class=\"dataframe\">\n",
              "  <thead>\n",
              "    <tr style=\"text-align: right;\">\n",
              "      <th></th>\n",
              "      <th>Lenguaje</th>\n",
              "      <th>Prom. Tiempo</th>\n",
              "      <th>Factor Vel</th>\n",
              "    </tr>\n",
              "  </thead>\n",
              "  <tbody>\n",
              "    <tr>\n",
              "      <th>0</th>\n",
              "      <td>NumPy</td>\n",
              "      <td>0.005612</td>\n",
              "      <td>1.000000</td>\n",
              "    </tr>\n",
              "    <tr>\n",
              "      <th>0</th>\n",
              "      <td>Fortran Magic</td>\n",
              "      <td>0.046675</td>\n",
              "      <td>8.317542</td>\n",
              "    </tr>\n",
              "    <tr>\n",
              "      <th>0</th>\n",
              "      <td>Java</td>\n",
              "      <td>0.055000</td>\n",
              "      <td>9.801150</td>\n",
              "    </tr>\n",
              "    <tr>\n",
              "      <th>0</th>\n",
              "      <td>Javascript</td>\n",
              "      <td>0.064515</td>\n",
              "      <td>11.496811</td>\n",
              "    </tr>\n",
              "    <tr>\n",
              "      <th>0</th>\n",
              "      <td>C++</td>\n",
              "      <td>0.214692</td>\n",
              "      <td>38.258699</td>\n",
              "    </tr>\n",
              "    <tr>\n",
              "      <th>0</th>\n",
              "      <td>Fortran</td>\n",
              "      <td>0.245079</td>\n",
              "      <td>43.673688</td>\n",
              "    </tr>\n",
              "    <tr>\n",
              "      <th>0</th>\n",
              "      <td>c</td>\n",
              "      <td>0.285712</td>\n",
              "      <td>50.914614</td>\n",
              "    </tr>\n",
              "    <tr>\n",
              "      <th>0</th>\n",
              "      <td>Python</td>\n",
              "      <td>10.749673</td>\n",
              "      <td>1915.621043</td>\n",
              "    </tr>\n",
              "  </tbody>\n",
              "</table>\n",
              "</div>\n",
              "      <button class=\"colab-df-convert\" onclick=\"convertToInteractive('df-d5832a4a-6405-4184-8c0b-840455e99a64')\"\n",
              "              title=\"Convert this dataframe to an interactive table.\"\n",
              "              style=\"display:none;\">\n",
              "        \n",
              "  <svg xmlns=\"http://www.w3.org/2000/svg\" height=\"24px\"viewBox=\"0 0 24 24\"\n",
              "       width=\"24px\">\n",
              "    <path d=\"M0 0h24v24H0V0z\" fill=\"none\"/>\n",
              "    <path d=\"M18.56 5.44l.94 2.06.94-2.06 2.06-.94-2.06-.94-.94-2.06-.94 2.06-2.06.94zm-11 1L8.5 8.5l.94-2.06 2.06-.94-2.06-.94L8.5 2.5l-.94 2.06-2.06.94zm10 10l.94 2.06.94-2.06 2.06-.94-2.06-.94-.94-2.06-.94 2.06-2.06.94z\"/><path d=\"M17.41 7.96l-1.37-1.37c-.4-.4-.92-.59-1.43-.59-.52 0-1.04.2-1.43.59L10.3 9.45l-7.72 7.72c-.78.78-.78 2.05 0 2.83L4 21.41c.39.39.9.59 1.41.59.51 0 1.02-.2 1.41-.59l7.78-7.78 2.81-2.81c.8-.78.8-2.07 0-2.86zM5.41 20L4 18.59l7.72-7.72 1.47 1.35L5.41 20z\"/>\n",
              "  </svg>\n",
              "      </button>\n",
              "      \n",
              "  <style>\n",
              "    .colab-df-container {\n",
              "      display:flex;\n",
              "      flex-wrap:wrap;\n",
              "      gap: 12px;\n",
              "    }\n",
              "\n",
              "    .colab-df-convert {\n",
              "      background-color: #E8F0FE;\n",
              "      border: none;\n",
              "      border-radius: 50%;\n",
              "      cursor: pointer;\n",
              "      display: none;\n",
              "      fill: #1967D2;\n",
              "      height: 32px;\n",
              "      padding: 0 0 0 0;\n",
              "      width: 32px;\n",
              "    }\n",
              "\n",
              "    .colab-df-convert:hover {\n",
              "      background-color: #E2EBFA;\n",
              "      box-shadow: 0px 1px 2px rgba(60, 64, 67, 0.3), 0px 1px 3px 1px rgba(60, 64, 67, 0.15);\n",
              "      fill: #174EA6;\n",
              "    }\n",
              "\n",
              "    [theme=dark] .colab-df-convert {\n",
              "      background-color: #3B4455;\n",
              "      fill: #D2E3FC;\n",
              "    }\n",
              "\n",
              "    [theme=dark] .colab-df-convert:hover {\n",
              "      background-color: #434B5C;\n",
              "      box-shadow: 0px 1px 3px 1px rgba(0, 0, 0, 0.15);\n",
              "      filter: drop-shadow(0px 1px 2px rgba(0, 0, 0, 0.3));\n",
              "      fill: #FFFFFF;\n",
              "    }\n",
              "  </style>\n",
              "\n",
              "      <script>\n",
              "        const buttonEl =\n",
              "          document.querySelector('#df-d5832a4a-6405-4184-8c0b-840455e99a64 button.colab-df-convert');\n",
              "        buttonEl.style.display =\n",
              "          google.colab.kernel.accessAllowed ? 'block' : 'none';\n",
              "\n",
              "        async function convertToInteractive(key) {\n",
              "          const element = document.querySelector('#df-d5832a4a-6405-4184-8c0b-840455e99a64');\n",
              "          const dataTable =\n",
              "            await google.colab.kernel.invokeFunction('convertToInteractive',\n",
              "                                                     [key], {});\n",
              "          if (!dataTable) return;\n",
              "\n",
              "          const docLinkHtml = 'Like what you see? Visit the ' +\n",
              "            '<a target=\"_blank\" href=https://colab.research.google.com/notebooks/data_table.ipynb>data table notebook</a>'\n",
              "            + ' to learn more about interactive tables.';\n",
              "          element.innerHTML = '';\n",
              "          dataTable['output_type'] = 'display_data';\n",
              "          await google.colab.output.renderOutput(dataTable, element);\n",
              "          const docLink = document.createElement('div');\n",
              "          docLink.innerHTML = docLinkHtml;\n",
              "          element.appendChild(docLink);\n",
              "        }\n",
              "      </script>\n",
              "    </div>\n",
              "  </div>\n",
              "  "
            ]
          },
          "metadata": {},
          "execution_count": 64
        }
      ],
      "source": [
        "#Organizar el dataframe por tiempo promedio de ejecución\n",
        "df.sort_values(by=\"Prom. Tiempo\")"
      ]
    },
    {
      "cell_type": "markdown",
      "metadata": {
        "id": "5RlZ-kCGiXcO"
      },
      "source": [
        "## Why is the Python Version so Much Slower?"
      ]
    },
    {
      "cell_type": "code",
      "execution_count": 65,
      "metadata": {
        "id": "rWOUuY4QiXcP",
        "colab": {
          "base_uri": "https://localhost:8080/"
        },
        "outputId": "ab6637e7-d472-469e-8f25-dd85bc9e6357"
      },
      "outputs": [
        {
          "output_type": "execute_result",
          "data": {
            "text/plain": [
              "[1, (4+0j), 9.0, 'fourfourfourfour']"
            ]
          },
          "metadata": {},
          "execution_count": 65
        }
      ],
      "source": [
        "# Dynamic typing.\n",
        "def mul_elemwise(xs, ys):\n",
        "    return [x * y for x, y in zip(xs, ys)]\n",
        "\n",
        "mul_elemwise([1, 2, 3, 4], [1, 2 + 0j, 3.0, 'four'])\n",
        "#[type(x) for x in _]"
      ]
    },
    {
      "cell_type": "code",
      "execution_count": 66,
      "metadata": {
        "id": "cW0Jexk6iXcP",
        "colab": {
          "base_uri": "https://localhost:8080/"
        },
        "outputId": "524573b7-fdab-4d1d-e1a1-7d33ebad3a04"
      },
      "outputs": [
        {
          "output_type": "stream",
          "name": "stdout",
          "text": [
            "  1           0 LOAD_NAME                0 (a)\n",
            "              2 LOAD_NAME                1 (b)\n",
            "              4 LOAD_NAME                2 (c)\n",
            "              6 BINARY_MULTIPLY\n",
            "              8 BINARY_ADD\n",
            "             10 RETURN_VALUE\n"
          ]
        }
      ],
      "source": [
        "# Interpretation overhead.\n",
        "source_code = 'a + b * c'\n",
        "bytecode = compile(source_code, '', 'eval')\n",
        "import dis; dis.dis(bytecode)"
      ]
    },
    {
      "cell_type": "markdown",
      "metadata": {
        "id": "BdvCAketiXcP"
      },
      "source": [
        "## Why is the Python Version so Slow?\n",
        "- Dynamic typing means that every single operation requires dispatching on the input type.\n",
        "- Having an interpreter means that every instruction is fetched and dispatched at runtime.\n",
        "- Other overheads:\n",
        "  - Arbitrary-size integers.\n",
        "  - Reference-counted garbage collection."
      ]
    },
    {
      "cell_type": "markdown",
      "metadata": {
        "id": "zvFKYtobiXcP"
      },
      "source": [
        "> This is the paradox that we have to work with when we're doing scientific or numerically-intensive Python. What makes Python fast for development -- this high-level, interpreted, and dynamically-typed aspect of the language -- is exactly what makes it slow for code execution.\n",
        "\n",
        "- Jake VanderPlas, [*Losing Your Loops: Fast Numerical Computing with NumPy*](https://www.youtube.com/watch?v=EEUXKG97YRw)"
      ]
    },
    {
      "cell_type": "markdown",
      "metadata": {
        "id": "UqE431pkiXcP"
      },
      "source": [
        "# What Do We Do?"
      ]
    },
    {
      "cell_type": "markdown",
      "metadata": {
        "id": "4uh7h3HyiXcP"
      },
      "source": [
        "<center><img src=\"https://raw.githubusercontent.com/ssanderson/pydata-toolbox/master/notebooks/images/runaway.gif\" alt=\"Drawing\" style=\"width: 50%;\"/></center>"
      ]
    },
    {
      "cell_type": "markdown",
      "metadata": {
        "id": "-9z62YT1iXcP"
      },
      "source": [
        "<center><img src=\"https://raw.githubusercontent.com/ssanderson/pydata-toolbox/master/notebooks/images/thisisfine.gif\" alt=\"Drawing\" style=\"width: 1080px;\"/></center>"
      ]
    },
    {
      "cell_type": "markdown",
      "metadata": {
        "id": "0Moc6UrkiXcQ"
      },
      "source": [
        "- Python is slow for numerical computation because it performs dynamic dispatch on every operation we perform..."
      ]
    },
    {
      "cell_type": "markdown",
      "metadata": {
        "collapsed": true,
        "id": "U4gN8tp2iXcQ"
      },
      "source": [
        "- ...but often, we just want to do the same thing over and over in a loop!"
      ]
    },
    {
      "cell_type": "markdown",
      "metadata": {
        "id": "Yu0ySyEhiXcQ"
      },
      "source": [
        "- If we don't need Python's dynamicism, we don't want to pay (much) for it."
      ]
    },
    {
      "cell_type": "markdown",
      "metadata": {
        "id": "KUwG9isRiXcQ"
      },
      "source": [
        "- **Idea:** Dispatch **once per operation** instead of **once per element**."
      ]
    },
    {
      "cell_type": "code",
      "execution_count": 67,
      "metadata": {
        "id": "62itImahiXcQ",
        "colab": {
          "base_uri": "https://localhost:8080/"
        },
        "outputId": "9c0e11ce-11f1-40e5-ba7f-956f80cffabf"
      },
      "outputs": [
        {
          "output_type": "execute_result",
          "data": {
            "text/plain": [
              "array([1, 2, 3, 4])"
            ]
          },
          "metadata": {},
          "execution_count": 67
        }
      ],
      "source": [
        "import numpy as np\n",
        "\n",
        "data = np.array([1, 2, 3, 4])\n",
        "data"
      ]
    },
    {
      "cell_type": "code",
      "execution_count": 68,
      "metadata": {
        "id": "q6qikr_tiXcQ",
        "colab": {
          "base_uri": "https://localhost:8080/"
        },
        "outputId": "c14ebd69-a2d3-48e5-8e24-2f32edbc4ee5"
      },
      "outputs": [
        {
          "output_type": "execute_result",
          "data": {
            "text/plain": [
              "array([2, 4, 6, 8])"
            ]
          },
          "metadata": {},
          "execution_count": 68
        }
      ],
      "source": [
        "data + data"
      ]
    },
    {
      "cell_type": "code",
      "execution_count": 69,
      "metadata": {
        "id": "26QlWUw8iXcQ",
        "colab": {
          "base_uri": "https://localhost:8080/"
        },
        "outputId": "88fdfedf-04ba-4370-a293-5ac31f67d997"
      },
      "outputs": [
        {
          "output_type": "stream",
          "name": "stdout",
          "text": [
            "CPU times: user 1.97 ms, sys: 0 ns, total: 1.97 ms\n",
            "Wall time: 3.55 ms\n"
          ]
        },
        {
          "output_type": "execute_result",
          "data": {
            "text/plain": [
              "333328333350000.0"
            ]
          },
          "metadata": {},
          "execution_count": 69
        }
      ],
      "source": [
        "%%time\n",
        "# Naive dot product\n",
        "(array_data * array_data).sum()"
      ]
    },
    {
      "cell_type": "code",
      "execution_count": 70,
      "metadata": {
        "id": "xoigDrpEiXcQ",
        "colab": {
          "base_uri": "https://localhost:8080/"
        },
        "outputId": "2652ee55-3def-4deb-fce2-267a90373c2d"
      },
      "outputs": [
        {
          "output_type": "stream",
          "name": "stdout",
          "text": [
            "CPU times: user 296 µs, sys: 3.98 ms, total: 4.28 ms\n",
            "Wall time: 4.57 ms\n"
          ]
        },
        {
          "output_type": "execute_result",
          "data": {
            "text/plain": [
              "333328333350000.0"
            ]
          },
          "metadata": {},
          "execution_count": 70
        }
      ],
      "source": [
        "%%time\n",
        "# Built-in dot product.\n",
        "array_data.dot(array_data)"
      ]
    },
    {
      "cell_type": "code",
      "execution_count": 71,
      "metadata": {
        "id": "tcewetQ0iXcR",
        "colab": {
          "base_uri": "https://localhost:8080/"
        },
        "outputId": "3d882af5-d260-463f-8c41-8e9f45bcae3c"
      },
      "outputs": [
        {
          "output_type": "stream",
          "name": "stdout",
          "text": [
            "CPU times: user 214 µs, sys: 3 µs, total: 217 µs\n",
            "Wall time: 225 µs\n"
          ]
        },
        {
          "output_type": "execute_result",
          "data": {
            "text/plain": [
              "333328333350000.0"
            ]
          },
          "metadata": {},
          "execution_count": 71
        }
      ],
      "source": [
        "%%time\n",
        "fortran_dot_product(array_data, array_data)"
      ]
    },
    {
      "cell_type": "code",
      "execution_count": 72,
      "metadata": {
        "id": "Whkcgo1xiXcR",
        "colab": {
          "base_uri": "https://localhost:8080/",
          "height": 190
        },
        "outputId": "dc612638-941b-4df7-f52a-32c755230a22"
      },
      "outputs": [
        {
          "output_type": "error",
          "ename": "ValueError",
          "evalue": "ignored",
          "traceback": [
            "\u001b[0;31m---------------------------------------------------------------------------\u001b[0m",
            "\u001b[0;31mValueError\u001b[0m                                Traceback (most recent call last)",
            "\u001b[0;32m<ipython-input-72-1ae73c964fd5>\u001b[0m in \u001b[0;36m<module>\u001b[0;34m\u001b[0m\n\u001b[1;32m      1\u001b[0m \u001b[0;31m# Numpy won't allow us to write a string into an int array.\u001b[0m\u001b[0;34m\u001b[0m\u001b[0;34m\u001b[0m\u001b[0;34m\u001b[0m\u001b[0m\n\u001b[0;32m----> 2\u001b[0;31m \u001b[0mdata\u001b[0m\u001b[0;34m[\u001b[0m\u001b[0;36m0\u001b[0m\u001b[0;34m]\u001b[0m \u001b[0;34m=\u001b[0m \u001b[0;34m\"foo\"\u001b[0m\u001b[0;34m\u001b[0m\u001b[0;34m\u001b[0m\u001b[0m\n\u001b[0m",
            "\u001b[0;31mValueError\u001b[0m: invalid literal for int() with base 10: 'foo'"
          ]
        }
      ],
      "source": [
        "# Numpy won't allow us to write a string into an int array.\n",
        "data[0] = \"foo\""
      ]
    },
    {
      "cell_type": "code",
      "execution_count": null,
      "metadata": {
        "collapsed": true,
        "id": "OM_YUwF0iXcR"
      },
      "outputs": [],
      "source": [
        "# We also can't grow an array once it's created.\n",
        "data.append(3)"
      ]
    },
    {
      "cell_type": "code",
      "execution_count": null,
      "metadata": {
        "collapsed": true,
        "id": "_ByTInO5iXcR"
      },
      "outputs": [],
      "source": [
        "# We **can** reshape an array though.\n",
        "two_by_two = data.reshape(2, 2)\n",
        "two_by_two"
      ]
    },
    {
      "cell_type": "markdown",
      "metadata": {
        "id": "rqUM9z90iXcR"
      },
      "source": [
        "Numpy arrays are:\n",
        "\n",
        "- Fixed-type"
      ]
    },
    {
      "cell_type": "markdown",
      "metadata": {
        "id": "xI5M1gzviXcR"
      },
      "source": [
        "- Size-immutable"
      ]
    },
    {
      "cell_type": "markdown",
      "metadata": {
        "id": "Xb7Dkl2tiXcS"
      },
      "source": [
        "- Multi-dimensional"
      ]
    },
    {
      "cell_type": "markdown",
      "metadata": {
        "id": "r0oMRqQXiXcS"
      },
      "source": [
        "- Fast\\*"
      ]
    },
    {
      "cell_type": "markdown",
      "metadata": {
        "id": "kz1MurDBiXcS"
      },
      "source": [
        "\\* If you use them correctly."
      ]
    },
    {
      "cell_type": "markdown",
      "metadata": {
        "id": "Qivn_IZOiXcS"
      },
      "source": [
        "# What's in an Array?"
      ]
    },
    {
      "cell_type": "code",
      "execution_count": null,
      "metadata": {
        "id": "vAuc9ZoYiXcS"
      },
      "outputs": [],
      "source": [
        "arr = np.array([1, 2, 3, 4, 5, 6], dtype='int16').reshape(2, 3)\n",
        "print(\"Array:\\n\", arr, sep='')\n",
        "print(\"===========\")\n",
        "print(\"DType:\", arr.dtype)\n",
        "print(\"Shape:\", arr.shape)\n",
        "print(\"Strides:\", arr.strides)\n",
        "print(\"Data:\", arr.data.tobytes())"
      ]
    },
    {
      "cell_type": "markdown",
      "metadata": {
        "id": "K81LXWsCiXcS"
      },
      "source": [
        "# Core Operations\n",
        "\n",
        "- Vectorized **ufuncs** for elementwise operations.\n",
        "- Fancy indexing and masking for selection and filtering.\n",
        "- Aggregations across axes.\n",
        "- Broadcasting"
      ]
    },
    {
      "cell_type": "markdown",
      "metadata": {
        "id": "kwVm_T0UiXcS"
      },
      "source": [
        "# UFuncs\n",
        "\n",
        "UFuncs (universal functions) are functions that operate elementwise on one or more arrays."
      ]
    },
    {
      "cell_type": "code",
      "execution_count": null,
      "metadata": {
        "id": "bltDIE9jiXcS"
      },
      "outputs": [],
      "source": [
        "data = np.arange(15).reshape(3, 5)\n",
        "data"
      ]
    },
    {
      "cell_type": "code",
      "execution_count": null,
      "metadata": {
        "id": "STwE0VCpiXcT"
      },
      "outputs": [],
      "source": [
        "# Binary operators.\n",
        "data * data"
      ]
    },
    {
      "cell_type": "code",
      "execution_count": null,
      "metadata": {
        "id": "N__jqMifiXcT"
      },
      "outputs": [],
      "source": [
        "# Unary functions.\n",
        "np.sqrt(data)"
      ]
    },
    {
      "cell_type": "code",
      "execution_count": null,
      "metadata": {
        "id": "j-2fPm3LiXcT"
      },
      "outputs": [],
      "source": [
        "# Comparison operations\n",
        "(data % 3) == 0"
      ]
    },
    {
      "cell_type": "code",
      "execution_count": null,
      "metadata": {
        "id": "iDUXVIuhiXcT"
      },
      "outputs": [],
      "source": [
        "# Boolean combinators.\n",
        "((data % 2) == 0) & ((data % 3) == 0)"
      ]
    },
    {
      "cell_type": "code",
      "execution_count": null,
      "metadata": {
        "id": "f2FWSuiJiXcT"
      },
      "outputs": [],
      "source": [
        "# as of python 3.5, @ is matrix-multiply\n",
        "data @ data.T"
      ]
    },
    {
      "cell_type": "markdown",
      "metadata": {
        "id": "9EsiKbSCiXcT"
      },
      "source": [
        "# UFuncs Review\n",
        "\n",
        "- UFuncs provide efficient elementwise operations applied across one or more arrays.\n",
        "- Arithmetic Operators (`+`, `*`, `/`)\n",
        "- Comparisons (`==`, `>`, `!=`)\n",
        "- Boolean Operators (`&`, `|`, `^`)\n",
        "- Trigonometric Functions (`sin`, `cos`)\n",
        "- Transcendental Functions (`exp`, `log`)"
      ]
    },
    {
      "cell_type": "markdown",
      "metadata": {
        "id": "GGLCgF20iXcU"
      },
      "source": [
        "# Selections"
      ]
    },
    {
      "cell_type": "markdown",
      "metadata": {
        "id": "3SAH9am8iXcU"
      },
      "source": [
        "We often want to perform an operation on just a subset of our data."
      ]
    },
    {
      "cell_type": "code",
      "execution_count": null,
      "metadata": {
        "id": "AWmtLHYwiXcU"
      },
      "outputs": [],
      "source": [
        "sines = np.sin(np.linspace(0, 3.14, 10))\n",
        "cosines = np.cos(np.linspace(0, 3.14, 10))\n",
        "sines"
      ]
    },
    {
      "cell_type": "code",
      "execution_count": null,
      "metadata": {
        "id": "u8LHY0j9iXcU"
      },
      "outputs": [],
      "source": [
        "# Slicing works with the same semantics as Python lists.\n",
        "sines[0]"
      ]
    },
    {
      "cell_type": "code",
      "execution_count": null,
      "metadata": {
        "id": "hh6dTObciXcU"
      },
      "outputs": [],
      "source": [
        "sines[:3]  # First three elements  "
      ]
    },
    {
      "cell_type": "code",
      "execution_count": null,
      "metadata": {
        "id": "rqB_uVABiXcU"
      },
      "outputs": [],
      "source": [
        "sines[5:]  # Elements from 5 on."
      ]
    },
    {
      "cell_type": "code",
      "execution_count": null,
      "metadata": {
        "id": "j2KDBhZaiXcU"
      },
      "outputs": [],
      "source": [
        "sines[::2]  # Every other element."
      ]
    },
    {
      "cell_type": "code",
      "execution_count": null,
      "metadata": {
        "id": "lR7JjjhjiXcV"
      },
      "outputs": [],
      "source": [
        "# More interesting: we can index with boolean arrays to filter by a predicate.\n",
        "print(\"sines:\\n\", sines)\n",
        "print(\"sines > 0.5:\\n\", sines > 0.5)\n",
        "print(\"sines[sines > 0.5]:\\n\", sines[sines > 0.5])"
      ]
    },
    {
      "cell_type": "code",
      "execution_count": null,
      "metadata": {
        "id": "gORuDL3RiXcV"
      },
      "outputs": [],
      "source": [
        "# We index with lists/arrays of integers to select values at those indices.\n",
        "print(sines)\n",
        "sines[[0, 4, 7]]"
      ]
    },
    {
      "cell_type": "code",
      "execution_count": null,
      "metadata": {
        "collapsed": true,
        "id": "Gu2vDHNgiXcV"
      },
      "outputs": [],
      "source": [
        "# Index arrays are often used for sorting one or more arrays.\n",
        "unsorted_data = np.array([1, 3, 2, 12, -1, 5, 2])"
      ]
    },
    {
      "cell_type": "code",
      "execution_count": null,
      "metadata": {
        "id": "uroIWxu1iXcV"
      },
      "outputs": [],
      "source": [
        "sort_indices = np.argsort(unsorted_data)\n",
        "sort_indices"
      ]
    },
    {
      "cell_type": "code",
      "execution_count": null,
      "metadata": {
        "id": "igwLM_b1iXcV"
      },
      "outputs": [],
      "source": [
        "unsorted_data[sort_indices]"
      ]
    },
    {
      "cell_type": "code",
      "execution_count": null,
      "metadata": {
        "collapsed": true,
        "id": "7IRVEVvdiXcV"
      },
      "outputs": [],
      "source": [
        "market_caps = np.array([12, 6, 10, 5, 6])  # Presumably in dollars?\n",
        "assets = np.array(['A', 'B', 'C', 'D', 'E'])"
      ]
    },
    {
      "cell_type": "code",
      "execution_count": null,
      "metadata": {
        "id": "jE8KVrn9iXcV"
      },
      "outputs": [],
      "source": [
        "# Sort assets by market cap by using the permutation that would sort market caps on ``assets``.\n",
        "sort_by_mcap = np.argsort(market_caps)\n",
        "assets[sort_by_mcap]"
      ]
    },
    {
      "cell_type": "code",
      "execution_count": null,
      "metadata": {
        "id": "jaGW-7fTiXcW",
        "scrolled": true
      },
      "outputs": [],
      "source": [
        "# Indexers are also useful for aligning data.\n",
        "print(\"Dates:\\n\", repr(event_dates))\n",
        "print(\"Values:\\n\", repr(event_values))\n",
        "print(\"Calendar:\\n\", repr(calendar))"
      ]
    },
    {
      "cell_type": "code",
      "execution_count": null,
      "metadata": {
        "id": "Uo28AVcTiXcW"
      },
      "outputs": [],
      "source": [
        "print(\"Raw Dates:\", event_dates)\n",
        "print(\"Indices:\", calendar.searchsorted(event_dates))\n",
        "print(\"Forward-Filled Dates:\", calendar[calendar.searchsorted(event_dates)])"
      ]
    },
    {
      "cell_type": "markdown",
      "metadata": {
        "id": "oDEVEEOriXcW"
      },
      "source": [
        "On multi-dimensional arrays, we can slice along each axis independently."
      ]
    },
    {
      "cell_type": "code",
      "execution_count": null,
      "metadata": {
        "id": "prPSgZhniXcW"
      },
      "outputs": [],
      "source": [
        "data = np.arange(25).reshape(5, 5)\n",
        "data"
      ]
    },
    {
      "cell_type": "code",
      "execution_count": null,
      "metadata": {
        "id": "KAulAQ2yiXcW"
      },
      "outputs": [],
      "source": [
        "data[:2, :2]  # First two rows and first two columns."
      ]
    },
    {
      "cell_type": "code",
      "execution_count": null,
      "metadata": {
        "id": "f9_S0RcdiXcW"
      },
      "outputs": [],
      "source": [
        "data[:2, [0, -1]]  # First two rows, first and last columns."
      ]
    },
    {
      "cell_type": "code",
      "execution_count": null,
      "metadata": {
        "id": "rre5hGs9iXcW"
      },
      "outputs": [],
      "source": [
        "data[(data[:, 0] % 2) == 0]  # Rows where the first column is divisible by two."
      ]
    },
    {
      "cell_type": "markdown",
      "metadata": {
        "id": "zl1zYEQgiXcX"
      },
      "source": [
        "# Selections Review\n",
        "\n",
        "- Indexing with an integer removes a dimension.\n",
        "- Slicing operations work on Numpy arrays the same way they do on lists.\n",
        "- Indexing with a boolean array filters to True locations.\n",
        "- Indexing with an integer array selects indices along an axis.\n",
        "- Multidimensional arrays can apply selections independently along different axes."
      ]
    },
    {
      "cell_type": "markdown",
      "metadata": {
        "id": "0tDspA_KiXcX"
      },
      "source": [
        "## Reductions\n",
        "\n",
        "Functions that reduce an array to a scalar."
      ]
    },
    {
      "cell_type": "markdown",
      "metadata": {
        "id": "1s42E1qCiXcX"
      },
      "source": [
        "$Var(X) = \\frac{1}{N}\\sqrt{\\sum_{i=1}^N (x_i - \\bar{x})^2}$"
      ]
    },
    {
      "cell_type": "code",
      "execution_count": null,
      "metadata": {
        "collapsed": true,
        "id": "pkjccK94iXcX"
      },
      "outputs": [],
      "source": [
        "def variance(x):\n",
        "    return ((x - x.mean()) ** 2).sum() / len(x)"
      ]
    },
    {
      "cell_type": "code",
      "execution_count": null,
      "metadata": {
        "id": "jqiZV_FMiXcX"
      },
      "outputs": [],
      "source": [
        "variance(np.random.standard_normal(1000))"
      ]
    },
    {
      "cell_type": "markdown",
      "metadata": {
        "id": "WHVBON1qiXcX"
      },
      "source": [
        "- `sum()` and `mean()` are both **reductions**."
      ]
    },
    {
      "cell_type": "markdown",
      "metadata": {
        "id": "w7gh4_vmiXcX"
      },
      "source": [
        "- In the simplest case, we use these to reduce an entire array into a single value..."
      ]
    },
    {
      "cell_type": "code",
      "execution_count": null,
      "metadata": {
        "id": "Hxr-Py7ciXcY"
      },
      "outputs": [],
      "source": [
        "data = np.arange(30)\n",
        "data.mean()"
      ]
    },
    {
      "cell_type": "markdown",
      "metadata": {
        "id": "M1mqf-RfiXcY"
      },
      "source": [
        "- ...but we can do more interesting things with multi-dimensional arrays."
      ]
    },
    {
      "cell_type": "code",
      "execution_count": null,
      "metadata": {
        "id": "okW92XNriXcY"
      },
      "outputs": [],
      "source": [
        "data = np.arange(30).reshape(3, 10)\n",
        "data"
      ]
    },
    {
      "cell_type": "code",
      "execution_count": null,
      "metadata": {
        "id": "_DwCYNHQiXcY"
      },
      "outputs": [],
      "source": [
        "data.mean()"
      ]
    },
    {
      "cell_type": "code",
      "execution_count": null,
      "metadata": {
        "id": "Z7S6mpm3iXcY"
      },
      "outputs": [],
      "source": [
        "data.mean(axis=0)"
      ]
    },
    {
      "cell_type": "code",
      "execution_count": null,
      "metadata": {
        "id": "g-DOKtM4iXcY"
      },
      "outputs": [],
      "source": [
        "data.mean(axis=1)"
      ]
    },
    {
      "cell_type": "markdown",
      "metadata": {
        "id": "zsIEVqkgiXcY"
      },
      "source": [
        "## Reductions Review\n",
        "\n",
        "- Reductions allow us to perform efficient aggregations over arrays.\n",
        "- We can do aggregations over a single axis to collapse a single dimension.\n",
        "- Many built-in reductions (`mean`, `sum`, `min`, `max`, `median`, ...)."
      ]
    },
    {
      "cell_type": "markdown",
      "metadata": {
        "id": "hvqRiy2qiXcZ"
      },
      "source": [
        "# Broadcasting"
      ]
    },
    {
      "cell_type": "code",
      "execution_count": null,
      "metadata": {
        "id": "OyIDakdiiXcZ"
      },
      "outputs": [],
      "source": [
        "row = np.array([1, 2, 3, 4])\n",
        "column = np.array([[1], [2], [3]])\n",
        "print(\"Row:\\n\", row, sep='')\n",
        "print(\"Column:\\n\", column, sep='')"
      ]
    },
    {
      "cell_type": "code",
      "execution_count": null,
      "metadata": {
        "id": "Dej4wsX-iXcZ"
      },
      "outputs": [],
      "source": [
        "row + column"
      ]
    },
    {
      "cell_type": "markdown",
      "metadata": {
        "id": "tMdSsqXfiXcZ"
      },
      "source": [
        "<center><img src=\"https://raw.githubusercontent.com/ssanderson/pydata-toolbox/master/notebooks/images/broadcasting.png\" alt=\"Drawing\" style=\"width: 60%;\"/></center>\n",
        "\n",
        "<h5>Source: http://www.scipy-lectures.org/_images/numpy_broadcasting.png</h5>"
      ]
    },
    {
      "cell_type": "code",
      "execution_count": null,
      "metadata": {
        "id": "JVLNvazIiXcZ"
      },
      "outputs": [],
      "source": [
        "# Broadcasting is particularly useful in conjunction with reductions.\n",
        "print(\"Data:\\n\", data, sep='')\n",
        "print(\"Mean:\\n\", data.mean(axis=0), sep='')\n",
        "print(\"Data - Mean:\\n\", data - data.mean(axis=0), sep='')"
      ]
    },
    {
      "cell_type": "markdown",
      "metadata": {
        "id": "JHmGF_mGiXcZ"
      },
      "source": [
        "# Broadcasting Review\n",
        "\n",
        "- Numpy operations can work on arrays of different dimensions as long as the arrays' shapes are still \"compatible\".\n",
        "- Broadcasting works by \"tiling\" the smaller array along the missing dimension.\n",
        "- The result of a broadcasted operation is always at least as large in each dimension as the largest array in that dimension."
      ]
    },
    {
      "cell_type": "markdown",
      "metadata": {
        "id": "Tmy_pKVniXca"
      },
      "source": [
        "# Numpy Review"
      ]
    },
    {
      "cell_type": "markdown",
      "metadata": {
        "id": "TiKskIDqiXca"
      },
      "source": [
        "- Numerical algorithms are slow in pure Python because the overhead dynamic dispatch dominates our runtime."
      ]
    },
    {
      "cell_type": "markdown",
      "metadata": {
        "id": "WRex_YahiXca"
      },
      "source": [
        "- Numpy solves this problem by:\n",
        "  1. Imposing additional restrictions on the contents of arrays.\n",
        "  2. Moving the inner loops of our algorithms into compiled C code."
      ]
    },
    {
      "cell_type": "markdown",
      "metadata": {
        "id": "HHcs1cowiXca"
      },
      "source": [
        "- Using Numpy effectively often requires reworking an algorithms to use vectorized operations instead of for-loops, but the resulting operations are usually simpler, clearer, and faster than the pure Python equivalent."
      ]
    },
    {
      "cell_type": "markdown",
      "metadata": {
        "id": "GoPdOSfSiXca"
      },
      "source": [
        "<center><img src=\"https://raw.githubusercontent.com/ssanderson/pydata-toolbox/master/notebooks/images/unicorn.jpg\" alt=\"Drawing\" style=\"width: 75%;\"/></center>"
      ]
    },
    {
      "cell_type": "markdown",
      "metadata": {
        "id": "GqyHpT0DiXca"
      },
      "source": [
        "Numpy is great for many things, but..."
      ]
    },
    {
      "cell_type": "markdown",
      "metadata": {
        "id": "t2pSdZyeiXca"
      },
      "source": [
        "- Sometimes our data is equipped with a natural set of **labels**:\n",
        "  - Dates/Times\n",
        "  - Stock Tickers\n",
        "  - Field Names (e.g. Open/High/Low/Close)"
      ]
    },
    {
      "cell_type": "markdown",
      "metadata": {
        "id": "eQkbld3YiXca"
      },
      "source": [
        "- Sometimes we have **more than one type of data** that we want to keep grouped together.\n",
        "  - Tables with a mix of real-valued and categorical data."
      ]
    },
    {
      "cell_type": "markdown",
      "metadata": {
        "id": "FUUCEShmiXcb"
      },
      "source": [
        "- Sometimes we have **missing** data, which we need to ignore, fill, or otherwise work around."
      ]
    },
    {
      "cell_type": "markdown",
      "metadata": {
        "id": "7BErgdXjiXcb"
      },
      "source": [
        "<center><img src=\"https://raw.githubusercontent.com/ssanderson/pydata-toolbox/master/notebooks/images/panda-wrangling.gif\" alt=\"Drawing\" style=\"width: 75%;\"/></center>"
      ]
    },
    {
      "cell_type": "markdown",
      "metadata": {
        "id": "B-LuFQ2BiXcb"
      },
      "source": [
        "<center><img src=\"https://raw.githubusercontent.com/ssanderson/pydata-toolbox/master/notebooks/images/pandas_logo.png\" alt=\"Drawing\" style=\"width: 75%;\"/></center>\n"
      ]
    },
    {
      "cell_type": "markdown",
      "metadata": {
        "id": "B8Hv2pY4iXcb"
      },
      "source": [
        "Pandas extends Numpy with more complex data structures:\n",
        "\n",
        "- `Series`: 1-dimensional, homogenously-typed, labelled array.\n",
        "- `DataFrame`: 2-dimensional, semi-homogenous, labelled table."
      ]
    },
    {
      "cell_type": "markdown",
      "metadata": {
        "id": "xYDFME14iXcb"
      },
      "source": [
        "Pandas also provides many utilities for: \n",
        "- Input/Output\n",
        "- Data Cleaning\n",
        "- Rolling Algorithms\n",
        "- Plotting"
      ]
    },
    {
      "cell_type": "markdown",
      "metadata": {
        "id": "uOvK2ZfeiXcb"
      },
      "source": [
        "# Selection in Pandas"
      ]
    },
    {
      "cell_type": "code",
      "execution_count": null,
      "metadata": {
        "id": "G6ploxoOiXcb"
      },
      "outputs": [],
      "source": [
        "s = pd.Series(index=['a', 'b', 'c', 'd', 'e'], data=[1, 2, 3, 4, 5])\n",
        "s"
      ]
    },
    {
      "cell_type": "code",
      "execution_count": null,
      "metadata": {
        "id": "PU-7iKpqiXcc"
      },
      "outputs": [],
      "source": [
        "# There are two pieces to a Series: the index and the values.\n",
        "print(\"The index is:\", s.index)\n",
        "print(\"The values are:\", s.values)"
      ]
    },
    {
      "cell_type": "code",
      "execution_count": null,
      "metadata": {
        "id": "pUnHyGr5iXcc"
      },
      "outputs": [],
      "source": [
        "# We can look up values out of a Series by position...\n",
        "s.iloc[0]"
      ]
    },
    {
      "cell_type": "code",
      "execution_count": null,
      "metadata": {
        "id": "IyM3qqygiXcc"
      },
      "outputs": [],
      "source": [
        "# ... or by label.\n",
        "s.loc['a']"
      ]
    },
    {
      "cell_type": "code",
      "execution_count": null,
      "metadata": {
        "id": "JrCItQtiiXcc"
      },
      "outputs": [],
      "source": [
        "# Slicing works as expected...\n",
        "s.iloc[:2]"
      ]
    },
    {
      "cell_type": "code",
      "execution_count": null,
      "metadata": {
        "id": "tzTbbk9YiXcc"
      },
      "outputs": [],
      "source": [
        "# ...but it works with labels too!\n",
        "s.loc[:'c']"
      ]
    },
    {
      "cell_type": "code",
      "execution_count": null,
      "metadata": {
        "id": "qrVQ0b0ziXcd"
      },
      "outputs": [],
      "source": [
        "# Fancy indexing works the same as in numpy.\n",
        "s.iloc[[0, -1]]"
      ]
    },
    {
      "cell_type": "code",
      "execution_count": null,
      "metadata": {
        "id": "THswhsDLiXcd"
      },
      "outputs": [],
      "source": [
        "# As does boolean masking.\n",
        "s.loc[s > 2]"
      ]
    },
    {
      "cell_type": "code",
      "execution_count": null,
      "metadata": {
        "id": "nYGjpHaIiXcd"
      },
      "outputs": [],
      "source": [
        "# Element-wise operations are aligned by index.\n",
        "other_s = pd.Series({'a': 10.0, 'c': 20.0, 'd': 30.0, 'z': 40.0})\n",
        "other_s"
      ]
    },
    {
      "cell_type": "code",
      "execution_count": null,
      "metadata": {
        "id": "nkK07CuEiXcd"
      },
      "outputs": [],
      "source": [
        "s + other_s"
      ]
    },
    {
      "cell_type": "code",
      "execution_count": null,
      "metadata": {
        "id": "pePOoBl3iXcd"
      },
      "outputs": [],
      "source": [
        "# We can fill in missing values with fillna().\n",
        "(s + other_s).fillna(0.0)"
      ]
    },
    {
      "cell_type": "code",
      "execution_count": null,
      "metadata": {
        "id": "8LYqk1oDiXcd"
      },
      "outputs": [],
      "source": [
        "# Most real datasets are read in from an external file format.\n",
        "aapl = pd.read_csv('AAPL.csv', parse_dates=['Date'], index_col='Date')\n",
        "aapl.head()"
      ]
    },
    {
      "cell_type": "code",
      "execution_count": null,
      "metadata": {
        "id": "JasJjximiXcd"
      },
      "outputs": [],
      "source": [
        "# Slicing generalizes to two dimensions as you'd expect:\n",
        "aapl.iloc[:2, :2]"
      ]
    },
    {
      "cell_type": "code",
      "execution_count": null,
      "metadata": {
        "id": "aAnXEGHMiXce"
      },
      "outputs": [],
      "source": [
        "aapl.loc[pd.Timestamp('2010-02-01'):pd.Timestamp('2010-02-04'), ['Close', 'Volume']]"
      ]
    },
    {
      "cell_type": "markdown",
      "metadata": {
        "id": "Up935r8GiXce"
      },
      "source": [
        "# Rolling Operations"
      ]
    },
    {
      "cell_type": "markdown",
      "metadata": {
        "id": "28dFZSZmiXce"
      },
      "source": [
        "<center><img src=\"https://raw.githubusercontent.com/ssanderson/pydata-toolbox/master/notebooks/images/rolling.gif\" alt=\"Drawing\" style=\"width: 75%;\"/></center>"
      ]
    },
    {
      "cell_type": "code",
      "execution_count": null,
      "metadata": {
        "id": "-YvkXxL0iXce"
      },
      "outputs": [],
      "source": [
        "aapl.rolling(5)[['Close', 'Adj Close']].mean().plot();"
      ]
    },
    {
      "cell_type": "code",
      "execution_count": null,
      "metadata": {
        "id": "HKynE6AMiXce"
      },
      "outputs": [],
      "source": [
        "# Drop `Volume`, since it's way bigger than everything else.\n",
        "aapl.drop('Volume', axis=1).resample('2W').max().plot();"
      ]
    },
    {
      "cell_type": "code",
      "execution_count": null,
      "metadata": {
        "id": "ayoPHapZiXce"
      },
      "outputs": [],
      "source": [
        "# 30-day rolling exponentially-weighted stddev of returns.\n",
        "aapl['Close'].pct_change().ewm(span=30).std().plot();"
      ]
    },
    {
      "cell_type": "markdown",
      "metadata": {
        "id": "npT_ZgpYiXce"
      },
      "source": [
        "# \"Real World\" Data"
      ]
    },
    {
      "cell_type": "code",
      "execution_count": null,
      "metadata": {
        "id": "XcYC7BGAiXcf"
      },
      "outputs": [],
      "source": [
        "from demos.avocados import read_avocadata\n",
        "\n",
        "avocados = read_avocadata('2014', '2016')\n",
        "avocados.head()"
      ]
    },
    {
      "cell_type": "code",
      "execution_count": null,
      "metadata": {
        "id": "tjk0EsEsiXcf"
      },
      "outputs": [],
      "source": [
        "# Unlike numpy arrays, pandas DataFrames can have a different dtype for each column.\n",
        "avocados.dtypes"
      ]
    },
    {
      "cell_type": "code",
      "execution_count": null,
      "metadata": {
        "id": "YcpqjQCdiXcf"
      },
      "outputs": [],
      "source": [
        "# What's the regional average price of a HASS avocado every day?\n",
        "hass = avocados[avocados.Variety == 'HASS']\n",
        "hass.groupby(['Date', 'Region'])['Weighted Avg Price'].mean().unstack().ffill().plot();"
      ]
    },
    {
      "cell_type": "code",
      "execution_count": null,
      "metadata": {
        "collapsed": true,
        "id": "k1Zdnr4jiXcf"
      },
      "outputs": [],
      "source": [
        "def _organic_spread(group):\n",
        "\n",
        "    if len(group.columns) != 2:\n",
        "        return pd.Series(index=group.index, data=0.0)\n",
        "    \n",
        "    is_organic = group.columns.get_level_values('Organic').values.astype(bool)\n",
        "    organics = group.loc[:, is_organic].squeeze()\n",
        "    non_organics = group.loc[:, ~is_organic].squeeze()\n",
        "    diff = organics - non_organics\n",
        "    return diff\n",
        "\n",
        "def organic_spread_by_region(df):\n",
        "    \"\"\"What's the difference between the price of an organic \n",
        "    and non-organic avocado within each region?\n",
        "    \"\"\"\n",
        "    return (\n",
        "        df\n",
        "        .set_index(['Date', 'Region', 'Organic'])\n",
        "         ['Weighted Avg Price']\n",
        "        .unstack(level=['Region', 'Organic'])\n",
        "        .ffill()\n",
        "        .groupby(level='Region', axis=1)\n",
        "        .apply(_organic_spread)\n",
        "    )"
      ]
    },
    {
      "cell_type": "code",
      "execution_count": null,
      "metadata": {
        "id": "iU-Th92BiXcf"
      },
      "outputs": [],
      "source": [
        "organic_spread_by_region(hass).plot();\n",
        "plt.gca().set_title(\"Daily Regional Organic Spread\");\n",
        "plt.legend(bbox_to_anchor=(1, 1));"
      ]
    },
    {
      "cell_type": "code",
      "execution_count": null,
      "metadata": {
        "id": "vjR02HpEiXcg"
      },
      "outputs": [],
      "source": [
        "spread_correlation = organic_spread_by_region(hass).corr()\n",
        "spread_correlation"
      ]
    },
    {
      "cell_type": "code",
      "execution_count": null,
      "metadata": {
        "id": "-fbKjqw6iXcg"
      },
      "outputs": [],
      "source": [
        "import seaborn as sns\n",
        "grid = sns.clustermap(spread_correlation, annot=True)\n",
        "fig = grid.fig\n",
        "axes = fig.axes\n",
        "ax = axes[2]\n",
        "ax.set_xticklabels(ax.get_xticklabels(), rotation=45);"
      ]
    },
    {
      "cell_type": "markdown",
      "metadata": {
        "id": "-6jsBAhQiXcg"
      },
      "source": [
        "# Pandas Review\n",
        "\n",
        "- Pandas extends numpy with more complex datastructures and algorithms.\n",
        "- If you understand numpy, you understand 90% of pandas.\n",
        "- `groupby`, `set_index`, and `unstack` are powerful tools for working with categorical data.\n",
        "- Avocado prices are surprisingly interesting :)"
      ]
    },
    {
      "cell_type": "markdown",
      "metadata": {
        "id": "_u_fG58UiXcg"
      },
      "source": [
        "# Thanks!"
      ]
    }
  ],
  "metadata": {
    "celltoolbar": "Slideshow",
    "colab": {
      "collapsed_sections": [
        "gh1Uw4KtiXcK",
        "K81LXWsCiXcS",
        "9EsiKbSCiXcT",
        "zsIEVqkgiXcY",
        "JHmGF_mGiXcZ",
        "-6jsBAhQiXcg",
        "_u_fG58UiXcg"
      ],
      "provenance": []
    },
    "kernelspec": {
      "display_name": "Python 3",
      "language": "python",
      "name": "python3"
    },
    "language_info": {
      "codemirror_mode": {
        "name": "ipython",
        "version": 3
      },
      "file_extension": ".py",
      "mimetype": "text/x-python",
      "name": "python",
      "nbconvert_exporter": "python",
      "pygments_lexer": "ipython3",
      "version": "3.5.2"
    },
    "livereveal": {
      "start_slideshow_at": "selected"
    },
    "name": "Main.ipynb"
  },
  "nbformat": 4,
  "nbformat_minor": 0
}